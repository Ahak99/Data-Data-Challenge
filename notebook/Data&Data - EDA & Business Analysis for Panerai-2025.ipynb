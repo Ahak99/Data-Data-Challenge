{
 "cells": [
  {
   "cell_type": "markdown",
   "id": "f734d806",
   "metadata": {},
   "source": [
    "# Annexe"
   ]
  },
  {
   "cell_type": "code",
   "execution_count": 1,
   "id": "47601acf",
   "metadata": {},
   "outputs": [],
   "source": [
    "def descriptive_data(df, country=None):\n",
    "    \n",
    "    data = df.copy()\n",
    "    if country:\n",
    "        data = data[data.country == country]\n",
    "        \n",
    "    number_unique_ref = len(set(data.reference.values))\n",
    "    number_unique_ref_collection = {}\n",
    "    for collection in data.collection.unique():\n",
    "        data_collection = data[data.collection == collection]\n",
    "        number_unique_ref_collection[collection] = len(set(data_collection.reference.values))\n",
    "        \n",
    "        \n",
    "    return number_unique_ref, number_unique_ref_collection"
   ]
  },
  {
   "cell_type": "code",
   "execution_count": 2,
   "id": "c99bd7df",
   "metadata": {},
   "outputs": [],
   "source": [
    "def analyze_country(data, country=None):\n",
    "    \"\"\"\n",
    "    Analyze the country data.\n",
    "\n",
    "    Parameters:\n",
    "    data (pd.DataFrame): The data to analyze.\n",
    "    country (str, optional): The country to filter by. Defaults to None.\n",
    "\n",
    "    Returns:\n",
    "    tuple: A tuple containing the overall statistics and the collection statistics.\n",
    "    \"\"\"\n",
    "    # Filter the original data if a specific country is provided\n",
    "    if country:\n",
    "        data = data[data[\"country\"] == country]\n",
    "    \n",
    "    # Identify the cheapest and most expensive product in the whole subset\n",
    "    cheapest_product_data = data.nsmallest(1, 'price')\n",
    "    most_expensive_product_data = data.nlargest(1, 'price')\n",
    "    \n",
    "    overall_stats = {\n",
    "        \"cheapest\": {\n",
    "            \"collection\": cheapest_product_data['collection'].values[0],\n",
    "            \"reference\": cheapest_product_data['reference'].values[0],\n",
    "            \"price\": cheapest_product_data['price'].values[0]\n",
    "        },\n",
    "        \"most_expensive\": {\n",
    "            \"collection\": most_expensive_product_data['collection'].values[0],\n",
    "            \"reference\": most_expensive_product_data['reference'].values[0],\n",
    "            \"price\": most_expensive_product_data['price'].values[0]\n",
    "        }\n",
    "    }\n",
    "    \n",
    "    # Identify the cheapest and most expensive product per collection\n",
    "    collection_stats = []\n",
    "    unique_collections = data[\"collection\"].unique()\n",
    "    \n",
    "    for collection in unique_collections:\n",
    "        collection_data = data[data[\"collection\"] == collection]\n",
    "        \n",
    "        cheapest_collection_data = collection_data.nsmallest(1, 'price')\n",
    "        most_expensive_collection_data = collection_data.nlargest(1, 'price')\n",
    "        \n",
    "        collection_stats.append({\n",
    "            \"collection\": collection,\n",
    "            \"cheapest\": {\n",
    "                \"reference\": cheapest_collection_data['reference'].values[0],\n",
    "                \"price\": cheapest_collection_data['price'].values[0]\n",
    "            },\n",
    "            \"most_expensive\": {\n",
    "                \"reference\": most_expensive_collection_data['reference'].values[0],\n",
    "                \"price\": most_expensive_collection_data['price'].values[0]\n",
    "            }\n",
    "        })\n",
    "    \n",
    "    return overall_stats, collection_stats"
   ]
  },
  {
   "cell_type": "code",
   "execution_count": 3,
   "id": "e53b6524",
   "metadata": {},
   "outputs": [],
   "source": [
    "def collection_visualization(data, country=None):\n",
    "    \"\"\"\n",
    "    Visualize the collection data.\n",
    "\n",
    "    Parameters:\n",
    "    data (pd.DataFrame): The data to visualize.\n",
    "    country (str): The country to filter by.\n",
    "\n",
    "    Returns:\n",
    "    None\n",
    "    \"\"\"\n",
    "    # Filter the original data if a specific country is provided\n",
    "    if country:\n",
    "        data = data[data[\"country\"] == country]\n",
    "    \n",
    "    # Choose a color palette\n",
    "    palette = sns.color_palette(\"pastel\")  # You can choose different palettes like \"deep\", \"pastel\", etc.\n",
    "\n",
    "    # Create the count plot\n",
    "    ax = sns.countplot(x=\"collection\", data=data, palette=palette)\n",
    "\n",
    "    # Add the count value on top of each bar\n",
    "    for p in ax.patches:\n",
    "        ax.annotate(f'{p.get_height()}', \n",
    "                    (p.get_x() + p.get_width() / 2., p.get_y() + p.get_height() / 2.), \n",
    "                    ha='center', va='center', \n",
    "                    fontsize=10, color='black', \n",
    "                    xytext=(0, 5), textcoords='offset points')\n",
    "\n",
    "    # Rotate x-axis labels for better readability\n",
    "    plt.xticks(rotation=45)\n",
    "\n",
    "    # Labels and title\n",
    "    plt.xlabel(\"Collection\")\n",
    "    plt.ylabel(\"Watch Count\")\n",
    "    plt.title(f\"Watch Count per Collection\")\n",
    "    if country:\n",
    "        data = data[data[\"country\"] == country]\n",
    "        plt.title(f\"Watch Count per Collection in {country}\")\n",
    "\n",
    "    # Show the plot\n",
    "    plt.show()"
   ]
  },
  {
   "cell_type": "code",
   "execution_count": 4,
   "id": "2aeed5d8",
   "metadata": {},
   "outputs": [],
   "source": [
    "def plot_collection_by_country(data):\n",
    "    \"\"\"\n",
    "    Plot the number of items in each collection for each country on the same graph.\n",
    "    \n",
    "    Parameters:\n",
    "        data (pd.DataFrame): Data containing at least 'collection' and 'country' columns.\n",
    "    \n",
    "    Returns:\n",
    "        None\n",
    "    \"\"\"\n",
    "    # Set the figure size\n",
    "    plt.figure(figsize=(10, 6))\n",
    "    \n",
    "    # Create a count plot with 'collection' on the x-axis and bars grouped by 'country'\n",
    "    ax = sns.countplot(x=\"collection\", hue=\"country\", data=data, palette=\"pastel\")\n",
    "    \n",
    "    # Annotate each bar with its count\n",
    "    for p in ax.patches:\n",
    "        count = p.get_height()\n",
    "        ax.annotate(f'{int(count)}',\n",
    "                    (p.get_x() + p.get_width() / 2, p.get_y() + count / 2),\n",
    "                    ha='center', va='center',\n",
    "                    fontsize=10, color='black', \n",
    "                    xytext=(0, 5), textcoords='offset points')\n",
    "    \n",
    "    # Improve readability\n",
    "    plt.xticks(rotation=45)\n",
    "    plt.xlabel(\"Collection\")\n",
    "    plt.ylabel(\"Watch Count\")\n",
    "    plt.title(\"Watch Count per Collection by Country\")\n",
    "    plt.legend(title=\"Country\")\n",
    "    plt.tight_layout()\n",
    "    plt.show()"
   ]
  },
  {
   "cell_type": "markdown",
   "id": "115e8705",
   "metadata": {},
   "source": [
    "# 1. Import librariries"
   ]
  },
  {
   "cell_type": "code",
   "execution_count": 5,
   "id": "9a8b89d7",
   "metadata": {},
   "outputs": [],
   "source": [
    "import pandas as pd\n",
    "import numpy as np\n",
    "import seaborn as sns\n",
    "import matplotlib.pyplot as plt"
   ]
  },
  {
   "cell_type": "markdown",
   "id": "041da9c0",
   "metadata": {},
   "source": [
    "# 2. Load & Read the Data"
   ]
  },
  {
   "cell_type": "code",
   "execution_count": 6,
   "id": "97d920f1",
   "metadata": {},
   "outputs": [
    {
     "data": {
      "text/html": [
       "<div>\n",
       "<style scoped>\n",
       "    .dataframe tbody tr th:only-of-type {\n",
       "        vertical-align: middle;\n",
       "    }\n",
       "\n",
       "    .dataframe tbody tr th {\n",
       "        vertical-align: top;\n",
       "    }\n",
       "\n",
       "    .dataframe thead th {\n",
       "        text-align: right;\n",
       "    }\n",
       "</style>\n",
       "<table border=\"1\" class=\"dataframe\">\n",
       "  <thead>\n",
       "    <tr style=\"text-align: right;\">\n",
       "      <th></th>\n",
       "      <th>currency</th>\n",
       "      <th>collection</th>\n",
       "      <th>product_url</th>\n",
       "      <th>reference</th>\n",
       "      <th>price</th>\n",
       "      <th>year</th>\n",
       "      <th>image_url</th>\n",
       "      <th>country</th>\n",
       "      <th>brand</th>\n",
       "      <th>name</th>\n",
       "      <th>availability</th>\n",
       "      <th>currency_code</th>\n",
       "      <th>price_GBP</th>\n",
       "      <th>price_EUR</th>\n",
       "      <th>price_USD</th>\n",
       "      <th>price_JPY</th>\n",
       "    </tr>\n",
       "  </thead>\n",
       "  <tbody>\n",
       "    <tr>\n",
       "      <th>0</th>\n",
       "      <td>$</td>\n",
       "      <td>Radiomir</td>\n",
       "      <td>https://www.panerai.com/us/en/collections/watc...</td>\n",
       "      <td>PAM01570</td>\n",
       "      <td>6000</td>\n",
       "      <td>2025</td>\n",
       "      <td>https://www.panerai.com/content/dam/rcq/pan/km...</td>\n",
       "      <td>USA</td>\n",
       "      <td>PANERAI</td>\n",
       "      <td>Radiomir Quaranta</td>\n",
       "      <td>Available</td>\n",
       "      <td>USD</td>\n",
       "      <td>4656.60</td>\n",
       "      <td>5557.20</td>\n",
       "      <td>6000.0</td>\n",
       "      <td>887670.60</td>\n",
       "    </tr>\n",
       "    <tr>\n",
       "      <th>1</th>\n",
       "      <td>$</td>\n",
       "      <td>Radiomir</td>\n",
       "      <td>https://www.panerai.com/us/en/collections/watc...</td>\n",
       "      <td>PAM01571</td>\n",
       "      <td>6000</td>\n",
       "      <td>2025</td>\n",
       "      <td>https://www.panerai.com/content/dam/rcq/pan/Ot...</td>\n",
       "      <td>USA</td>\n",
       "      <td>PANERAI</td>\n",
       "      <td>Radiomir Quaranta</td>\n",
       "      <td>Out of Stock</td>\n",
       "      <td>USD</td>\n",
       "      <td>4656.60</td>\n",
       "      <td>5557.20</td>\n",
       "      <td>6000.0</td>\n",
       "      <td>887670.60</td>\n",
       "    </tr>\n",
       "    <tr>\n",
       "      <th>2</th>\n",
       "      <td>$</td>\n",
       "      <td>Radiomir</td>\n",
       "      <td>https://www.panerai.com/us/en/collections/watc...</td>\n",
       "      <td>PAM01572</td>\n",
       "      <td>6000</td>\n",
       "      <td>2025</td>\n",
       "      <td>https://www.panerai.com/content/dam/rcq/pan/lz...</td>\n",
       "      <td>USA</td>\n",
       "      <td>PANERAI</td>\n",
       "      <td>Radiomir Quaranta</td>\n",
       "      <td>Available</td>\n",
       "      <td>USD</td>\n",
       "      <td>4656.60</td>\n",
       "      <td>5557.20</td>\n",
       "      <td>6000.0</td>\n",
       "      <td>887670.60</td>\n",
       "    </tr>\n",
       "    <tr>\n",
       "      <th>3</th>\n",
       "      <td>$</td>\n",
       "      <td>Radiomir</td>\n",
       "      <td>https://www.panerai.com/us/en/collections/watc...</td>\n",
       "      <td>PAM01573</td>\n",
       "      <td>6000</td>\n",
       "      <td>2025</td>\n",
       "      <td>https://www.panerai.com/content/dam/rcq/pan/iY...</td>\n",
       "      <td>USA</td>\n",
       "      <td>PANERAI</td>\n",
       "      <td>Radiomir Quaranta</td>\n",
       "      <td>Available</td>\n",
       "      <td>USD</td>\n",
       "      <td>4656.60</td>\n",
       "      <td>5557.20</td>\n",
       "      <td>6000.0</td>\n",
       "      <td>887670.60</td>\n",
       "    </tr>\n",
       "    <tr>\n",
       "      <th>4</th>\n",
       "      <td>$</td>\n",
       "      <td>Radiomir</td>\n",
       "      <td>https://www.panerai.com/us/en/collections/watc...</td>\n",
       "      <td>PAM01385</td>\n",
       "      <td>5400</td>\n",
       "      <td>2025</td>\n",
       "      <td>https://www.panerai.com/content/dam/rcq/pan/bc...</td>\n",
       "      <td>USA</td>\n",
       "      <td>PANERAI</td>\n",
       "      <td>Radiomir Officine</td>\n",
       "      <td>Out of Stock</td>\n",
       "      <td>USD</td>\n",
       "      <td>4190.94</td>\n",
       "      <td>5001.48</td>\n",
       "      <td>5400.0</td>\n",
       "      <td>798903.54</td>\n",
       "    </tr>\n",
       "  </tbody>\n",
       "</table>\n",
       "</div>"
      ],
      "text/plain": [
       "  currency collection                                        product_url  \\\n",
       "0        $   Radiomir  https://www.panerai.com/us/en/collections/watc...   \n",
       "1        $   Radiomir  https://www.panerai.com/us/en/collections/watc...   \n",
       "2        $   Radiomir  https://www.panerai.com/us/en/collections/watc...   \n",
       "3        $   Radiomir  https://www.panerai.com/us/en/collections/watc...   \n",
       "4        $   Radiomir  https://www.panerai.com/us/en/collections/watc...   \n",
       "\n",
       "  reference  price  year                                          image_url  \\\n",
       "0  PAM01570   6000  2025  https://www.panerai.com/content/dam/rcq/pan/km...   \n",
       "1  PAM01571   6000  2025  https://www.panerai.com/content/dam/rcq/pan/Ot...   \n",
       "2  PAM01572   6000  2025  https://www.panerai.com/content/dam/rcq/pan/lz...   \n",
       "3  PAM01573   6000  2025  https://www.panerai.com/content/dam/rcq/pan/iY...   \n",
       "4  PAM01385   5400  2025  https://www.panerai.com/content/dam/rcq/pan/bc...   \n",
       "\n",
       "  country    brand               name  availability currency_code  price_GBP  \\\n",
       "0     USA  PANERAI  Radiomir Quaranta     Available           USD    4656.60   \n",
       "1     USA  PANERAI  Radiomir Quaranta  Out of Stock           USD    4656.60   \n",
       "2     USA  PANERAI  Radiomir Quaranta     Available           USD    4656.60   \n",
       "3     USA  PANERAI  Radiomir Quaranta     Available           USD    4656.60   \n",
       "4     USA  PANERAI  Radiomir Officine  Out of Stock           USD    4190.94   \n",
       "\n",
       "   price_EUR  price_USD  price_JPY  \n",
       "0    5557.20     6000.0  887670.60  \n",
       "1    5557.20     6000.0  887670.60  \n",
       "2    5557.20     6000.0  887670.60  \n",
       "3    5557.20     6000.0  887670.60  \n",
       "4    5001.48     5400.0  798903.54  "
      ]
     },
     "execution_count": 6,
     "metadata": {},
     "output_type": "execute_result"
    }
   ],
   "source": [
    "data = pd.read_csv(r\"../orchestrator/data/silver/2025-03-07_01-56-07/PANERAI_DATA_2025.csv\")\n",
    "data.head()"
   ]
  },
  {
   "cell_type": "markdown",
   "id": "cc2dad5d",
   "metadata": {},
   "source": [
    "# 3. Exploratory Data Analysis (EDA)\n",
    "\n",
    "### 3.1. Columns list"
   ]
  },
  {
   "cell_type": "code",
   "execution_count": 7,
   "id": "29ed6703",
   "metadata": {},
   "outputs": [
    {
     "name": "stdout",
     "output_type": "stream",
     "text": [
      "List of column name:\n",
      "\n",
      "\t1. currency\n",
      "\t2. collection\n",
      "\t3. product_url\n",
      "\t4. reference\n",
      "\t5. price\n",
      "\t6. year\n",
      "\t7. image_url\n",
      "\t8. country\n",
      "\t9. brand\n",
      "\t10. name\n",
      "\t11. availability\n",
      "\t12. currency_code\n",
      "\t13. price_GBP\n",
      "\t14. price_EUR\n",
      "\t15. price_USD\n",
      "\t16. price_JPY\n"
     ]
    }
   ],
   "source": [
    "column_list = list(data.columns)\n",
    "\n",
    "print(\"List of column name:\\n\")\n",
    "for i in range(len(column_list)):\n",
    "    print(f\"\\t{i+1}. {column_list[i]}\")"
   ]
  },
  {
   "cell_type": "markdown",
   "id": "dc7d29aa",
   "metadata": {},
   "source": [
    "### 3.2. Data types discovery"
   ]
  },
  {
   "cell_type": "code",
   "execution_count": 8,
   "id": "61fbebd9",
   "metadata": {},
   "outputs": [
    {
     "name": "stdout",
     "output_type": "stream",
     "text": [
      "<class 'pandas.core.frame.DataFrame'>\n",
      "RangeIndex: 590 entries, 0 to 589\n",
      "Data columns (total 16 columns):\n",
      " #   Column         Non-Null Count  Dtype  \n",
      "---  ------         --------------  -----  \n",
      " 0   currency       590 non-null    object \n",
      " 1   collection     590 non-null    object \n",
      " 2   product_url    590 non-null    object \n",
      " 3   reference      590 non-null    object \n",
      " 4   price          590 non-null    int64  \n",
      " 5   year           590 non-null    int64  \n",
      " 6   image_url      590 non-null    object \n",
      " 7   country        590 non-null    object \n",
      " 8   brand          590 non-null    object \n",
      " 9   name           590 non-null    object \n",
      " 10  availability   590 non-null    object \n",
      " 11  currency_code  590 non-null    object \n",
      " 12  price_GBP      590 non-null    float64\n",
      " 13  price_EUR      590 non-null    float64\n",
      " 14  price_USD      590 non-null    float64\n",
      " 15  price_JPY      590 non-null    float64\n",
      "dtypes: float64(4), int64(2), object(10)\n",
      "memory usage: 73.9+ KB\n"
     ]
    }
   ],
   "source": [
    "data.info()"
   ]
  },
  {
   "cell_type": "markdown",
   "id": "1eb44822",
   "metadata": {},
   "source": [
    "--------------------------------------------------------------------------------------\n",
    "\n",
    "**The dataset we used in the following use case contains**:\n",
    "\n",
    "    1. 590 row of data\n",
    "    \n",
    "    2. 10 categoircal columns\n",
    "    \n",
    "    3. 6 numerical column\n",
    "--------------------------------------------------------------------------------------"
   ]
  },
  {
   "cell_type": "markdown",
   "id": "bfbb0a47",
   "metadata": {},
   "source": [
    "### 3.3. Check Missing Values"
   ]
  },
  {
   "cell_type": "code",
   "execution_count": 9,
   "id": "05e05df0",
   "metadata": {},
   "outputs": [
    {
     "data": {
      "text/plain": [
       "currency         0\n",
       "collection       0\n",
       "product_url      0\n",
       "reference        0\n",
       "price            0\n",
       "year             0\n",
       "image_url        0\n",
       "country          0\n",
       "brand            0\n",
       "name             0\n",
       "availability     0\n",
       "currency_code    0\n",
       "price_GBP        0\n",
       "price_EUR        0\n",
       "price_USD        0\n",
       "price_JPY        0\n",
       "dtype: int64"
      ]
     },
     "execution_count": 9,
     "metadata": {},
     "output_type": "execute_result"
    }
   ],
   "source": [
    "data.isna().sum()"
   ]
  },
  {
   "cell_type": "markdown",
   "id": "bc31c476",
   "metadata": {},
   "source": [
    "--------------------------------------------------------------------------------------\n",
    "\n",
    "**Now, the dataset is clean, no more missing values**\n",
    "\n",
    "    ** -> We are ready to GO **\n",
    "\n",
    "--------------------------------------------------------------------------------------"
   ]
  },
  {
   "cell_type": "markdown",
   "id": "d3c07a25",
   "metadata": {},
   "source": [
    "### 3.4. Check for duplicates bases on 'reference' and 'country'"
   ]
  },
  {
   "cell_type": "code",
   "execution_count": 10,
   "id": "c2684dc5",
   "metadata": {},
   "outputs": [
    {
     "name": "stdout",
     "output_type": "stream",
     "text": [
      "0\n"
     ]
    }
   ],
   "source": [
    "# Check for duplicates based on 'reference', 'country', and 'collection'\n",
    "duplicates = data.duplicated(subset=['reference', 'country']).sum()\n",
    "\n",
    "# Display the duplicate rows\n",
    "print(duplicates)"
   ]
  },
  {
   "cell_type": "markdown",
   "id": "6fe70b7e",
   "metadata": {},
   "source": [
    "### 3.5. Descriptive statistics"
   ]
  },
  {
   "cell_type": "code",
   "execution_count": 11,
   "id": "e37bf662",
   "metadata": {},
   "outputs": [
    {
     "data": {
      "text/html": [
       "<div>\n",
       "<style scoped>\n",
       "    .dataframe tbody tr th:only-of-type {\n",
       "        vertical-align: middle;\n",
       "    }\n",
       "\n",
       "    .dataframe tbody tr th {\n",
       "        vertical-align: top;\n",
       "    }\n",
       "\n",
       "    .dataframe thead th {\n",
       "        text-align: right;\n",
       "    }\n",
       "</style>\n",
       "<table border=\"1\" class=\"dataframe\">\n",
       "  <thead>\n",
       "    <tr style=\"text-align: right;\">\n",
       "      <th></th>\n",
       "      <th>currency</th>\n",
       "      <th>collection</th>\n",
       "      <th>product_url</th>\n",
       "      <th>reference</th>\n",
       "      <th>image_url</th>\n",
       "      <th>country</th>\n",
       "      <th>brand</th>\n",
       "      <th>name</th>\n",
       "      <th>availability</th>\n",
       "      <th>currency_code</th>\n",
       "    </tr>\n",
       "  </thead>\n",
       "  <tbody>\n",
       "    <tr>\n",
       "      <th>count</th>\n",
       "      <td>590</td>\n",
       "      <td>590</td>\n",
       "      <td>590</td>\n",
       "      <td>590</td>\n",
       "      <td>590</td>\n",
       "      <td>590</td>\n",
       "      <td>590</td>\n",
       "      <td>590</td>\n",
       "      <td>590</td>\n",
       "      <td>590</td>\n",
       "    </tr>\n",
       "    <tr>\n",
       "      <th>unique</th>\n",
       "      <td>4</td>\n",
       "      <td>4</td>\n",
       "      <td>590</td>\n",
       "      <td>149</td>\n",
       "      <td>149</td>\n",
       "      <td>4</td>\n",
       "      <td>1</td>\n",
       "      <td>174</td>\n",
       "      <td>2</td>\n",
       "      <td>4</td>\n",
       "    </tr>\n",
       "    <tr>\n",
       "      <th>top</th>\n",
       "      <td>$</td>\n",
       "      <td>Luminor</td>\n",
       "      <td>https://www.panerai.com/us/en/collections/watc...</td>\n",
       "      <td>PAM01570</td>\n",
       "      <td>https://www.panerai.com/content/dam/rcq/pan/km...</td>\n",
       "      <td>USA</td>\n",
       "      <td>PANERAI</td>\n",
       "      <td>Luminor Due</td>\n",
       "      <td>Available</td>\n",
       "      <td>USD</td>\n",
       "    </tr>\n",
       "    <tr>\n",
       "      <th>freq</th>\n",
       "      <td>149</td>\n",
       "      <td>215</td>\n",
       "      <td>1</td>\n",
       "      <td>4</td>\n",
       "      <td>4</td>\n",
       "      <td>149</td>\n",
       "      <td>590</td>\n",
       "      <td>41</td>\n",
       "      <td>420</td>\n",
       "      <td>149</td>\n",
       "    </tr>\n",
       "  </tbody>\n",
       "</table>\n",
       "</div>"
      ],
      "text/plain": [
       "       currency collection                                        product_url  \\\n",
       "count       590        590                                                590   \n",
       "unique        4          4                                                590   \n",
       "top           $    Luminor  https://www.panerai.com/us/en/collections/watc...   \n",
       "freq        149        215                                                  1   \n",
       "\n",
       "       reference                                          image_url country  \\\n",
       "count        590                                                590     590   \n",
       "unique       149                                                149       4   \n",
       "top     PAM01570  https://www.panerai.com/content/dam/rcq/pan/km...     USA   \n",
       "freq           4                                                  4     149   \n",
       "\n",
       "          brand         name availability currency_code  \n",
       "count       590          590          590           590  \n",
       "unique        1          174            2             4  \n",
       "top     PANERAI  Luminor Due    Available           USD  \n",
       "freq        590           41          420           149  "
      ]
     },
     "execution_count": 11,
     "metadata": {},
     "output_type": "execute_result"
    }
   ],
   "source": [
    "stats = data.describe(include=\"object\")\n",
    "stats"
   ]
  },
  {
   "cell_type": "markdown",
   "id": "3637cd09",
   "metadata": {},
   "source": [
    "# 4. Data and Business Analysis"
   ]
  },
  {
   "cell_type": "markdown",
   "id": "f8e2ea56",
   "metadata": {},
   "source": [
    "### 4.1. Global dataset\n",
    "- Number of unique products\n",
    "- Number of products for each collection\n",
    "- Products distribution"
   ]
  },
  {
   "cell_type": "code",
   "execution_count": 12,
   "id": "a9a22aec",
   "metadata": {
    "scrolled": true
   },
   "outputs": [
    {
     "name": "stdout",
     "output_type": "stream",
     "text": [
      "\n",
      "The number of unique references 149\n",
      "\n",
      "The number of unique references par collection\n",
      "Radiomir : 23\n",
      "Luminor : 54\n",
      "Submersible : 39\n",
      "Luminor Due : 33\n"
     ]
    }
   ],
   "source": [
    "number_unique_ref, number_unique_ref_collection = descriptive_data(data)\n",
    "    \n",
    "print(f\"\\nThe number of unique references {number_unique_ref}\")\n",
    "print(f\"\\nThe number of unique references par collection\")\n",
    "for collection, number in number_unique_ref_collection.items():\n",
    "    print(f\"{collection} : {number}\")"
   ]
  },
  {
   "cell_type": "code",
   "execution_count": 13,
   "id": "e16d5237",
   "metadata": {},
   "outputs": [
    {
     "data": {
      "image/png": "[encoded data removed]",
      "text/plain": [
       "<Figure size 640x480 with 1 Axes>"
      ]
     },
     "metadata": {},
     "output_type": "display_data"
    }
   ],
   "source": [
    "collection_visualization(data)"
   ]
  },
  {
   "cell_type": "markdown",
   "id": "582fea79",
   "metadata": {},
   "source": [
    "### 4.2. For each country\n",
    "- Number of unique products\n",
    "- Number of products for each collection\n",
    "- The distribution of products\n",
    "- For each collection using country currency\n",
    "    - Cheapest and most expensive product\n",
    "    - Cheapest and most expensive product per collection"
   ]
  },
  {
   "cell_type": "code",
   "execution_count": 14,
   "id": "7e4cf879",
   "metadata": {},
   "outputs": [
    {
     "data": {
      "image/png": "[encoded data removed]",
      "text/plain": [
       "<Figure size 1000x600 with 1 Axes>"
      ]
     },
     "metadata": {},
     "output_type": "display_data"
    }
   ],
   "source": [
    "plot_collection_by_country(data)"
   ]
  },
  {
   "cell_type": "markdown",
   "id": "343cf536",
   "metadata": {},
   "source": [
    "### France"
   ]
  },
  {
   "cell_type": "code",
   "execution_count": 15,
   "id": "0c1e1f9d",
   "metadata": {},
   "outputs": [
    {
     "name": "stdout",
     "output_type": "stream",
     "text": [
      "\n",
      " ** The number of unique references 146\n",
      "\n",
      " ** The number of unique references par collection:\n",
      "\n",
      "  - Radiomir : 22\n",
      "  - Luminor : 53\n",
      "  - Submersible : 38\n",
      "  - Luminor Due : 33\n",
      "\n",
      "--------------------------------------------------------------------------------\n",
      "\n",
      " ** Cheapest and most expensive product in France:\n",
      "\n",
      "  Cheapest -> Collection: Radiomir, Reference: PAM01383, Price: 5000 €\n",
      "  Most Expensive -> Collection: Submersible, Reference: PAM01405, Price: 195000 €\n",
      "\n",
      "--------------------------------------------------------------------------------\n",
      "\n",
      " ** Cheapest and most expensive product in France per collection:\n",
      "\n",
      " - Collection: Radiomir\n",
      "    Cheapest -> Reference: PAM01383, Price: 5000 €\n",
      "    Most Expensive -> Reference: PAM01284, Price: 170000 €\n",
      "\n",
      "**************************************************\n",
      "\n",
      " - Collection: Luminor\n",
      "    Cheapest -> Reference: PAM01623, Price: 5700 €\n",
      "    Most Expensive -> Reference: PAM01060, Price: 189000 €\n",
      "\n",
      "**************************************************\n",
      "\n",
      " - Collection: Submersible\n",
      "    Cheapest -> Reference: PAM01590, Price: 9700 €\n",
      "    Most Expensive -> Reference: PAM01405, Price: 195000 €\n",
      "\n",
      "**************************************************\n",
      "\n",
      " - Collection: Luminor Due\n",
      "    Cheapest -> Reference: PAM01248, Price: 7000 €\n",
      "    Most Expensive -> Reference: PAM01494, Price: 42000 €\n",
      "\n",
      "**************************************************\n",
      "\n"
     ]
    }
   ],
   "source": [
    "country = \"France\"\n",
    "\n",
    "number_unique_ref, number_unique_ref_collection = descriptive_data(data, country = country)\n",
    "overall_stats, collection_stats = analyze_country(data, country = country)\n",
    "\n",
    "print(f\"\\n ** The number of unique references {number_unique_ref}\")\n",
    "print(f\"\\n ** The number of unique references par collection:\\n\")\n",
    "for collection, number in number_unique_ref_collection.items():\n",
    "    print(f\"  - {collection} : {number}\")\n",
    "print(\"\\n\"+\"-\"*80+\"\") \n",
    "# Identify the cheapest and most expensive product in the whole subset\n",
    "print(f\"\\n ** Cheapest and most expensive product in {country}:\\n\")\n",
    "print(f\"  Cheapest -> Collection: {overall_stats['cheapest']['collection']}, Reference: {overall_stats['cheapest']['reference']}, Price: {overall_stats['cheapest']['price']} {(data['currency'][data['country'] == country]).unique()[0]}\")\n",
    "print(f\"  Most Expensive -> Collection: {overall_stats['most_expensive']['collection']}, Reference: {overall_stats['most_expensive']['reference']}, Price: {overall_stats['most_expensive']['price']} {(data['currency'][data['country'] == country]).unique()[0]}\")\n",
    "print(\"\\n\"+\"-\"*80+\"\")\n",
    "# Identify the cheapest and most expensive product per collection\n",
    "print(f\"\\n ** Cheapest and most expensive product in {country} per collection:\\n\")\n",
    "for stat in collection_stats:\n",
    "    print(f\" - Collection: {stat['collection']}\")\n",
    "    print(f\"    Cheapest -> Reference: {stat['cheapest']['reference']}, Price: {stat['cheapest']['price']} {(data['currency'][data['country'] == country]).unique()[0]}\")\n",
    "    print(f\"    Most Expensive -> Reference: {stat['most_expensive']['reference']}, Price: {stat['most_expensive']['price']} {(data['currency'][data['country'] == country]).unique()[0]}\")\n",
    "    print(\"\\n\"+\"*\"*50+\"\\n\")"
   ]
  },
  {
   "cell_type": "code",
   "execution_count": 16,
   "id": "8a4b466f",
   "metadata": {
    "scrolled": false
   },
   "outputs": [
    {
     "data": {
      "image/png": "[encoded data removed]",
      "text/plain": [
       "<Figure size 640x480 with 1 Axes>"
      ]
     },
     "metadata": {},
     "output_type": "display_data"
    }
   ],
   "source": [
    "collection_visualization(data, country)"
   ]
  },
  {
   "cell_type": "markdown",
   "id": "a25da4b3",
   "metadata": {},
   "source": [
    "### UK"
   ]
  },
  {
   "cell_type": "code",
   "execution_count": 17,
   "id": "154d966d",
   "metadata": {
    "scrolled": false
   },
   "outputs": [
    {
     "name": "stdout",
     "output_type": "stream",
     "text": [
      "\n",
      " ** The number of unique references 148\n",
      "\n",
      " ** The number of unique references par collection:\n",
      "\n",
      "  - Radiomir : 22\n",
      "  - Luminor : 54\n",
      "  - Submersible : 39\n",
      "  - Luminor Due : 33\n",
      "\n",
      "--------------------------------------------------------------------------------\n",
      "\n",
      " ** Cheapest and most expensive product in UK:\n",
      "\n",
      "  Cheapest -> Collection: Radiomir, Reference: PAM01383, Price: 4300 £\n",
      "  Most Expensive -> Collection: Luminor, Reference: PAM00920, Price: 188200 £\n",
      "\n",
      "--------------------------------------------------------------------------------\n",
      "\n",
      " ** Cheapest and most expensive product in UK per collection:\n",
      "\n",
      " - Collection: Radiomir\n",
      "    Cheapest -> Reference: PAM01383, Price: 4300 £\n",
      "    Most Expensive -> Reference: PAM01284, Price: 118500 £\n",
      "\n",
      "**************************************************\n",
      "\n",
      " - Collection: Luminor\n",
      "    Cheapest -> Reference: PAM01623, Price: 4900 £\n",
      "    Most Expensive -> Reference: PAM00920, Price: 188200 £\n",
      "\n",
      "**************************************************\n",
      "\n",
      " - Collection: Submersible\n",
      "    Cheapest -> Reference: PAM01590, Price: 8200 £\n",
      "    Most Expensive -> Reference: PAM01405, Price: 135900 £\n",
      "\n",
      "**************************************************\n",
      "\n",
      " - Collection: Luminor Due\n",
      "    Cheapest -> Reference: PAM01248, Price: 6000 £\n",
      "    Most Expensive -> Reference: PAM01494, Price: 35500 £\n",
      "\n",
      "**************************************************\n",
      "\n"
     ]
    }
   ],
   "source": [
    "country = \"UK\"\n",
    "\n",
    "number_unique_ref, number_unique_ref_collection = descriptive_data(data, country = country)\n",
    "overall_stats, collection_stats = analyze_country(data, country = country)\n",
    "\n",
    "print(f\"\\n ** The number of unique references {number_unique_ref}\")\n",
    "print(f\"\\n ** The number of unique references par collection:\\n\")\n",
    "for collection, number in number_unique_ref_collection.items():\n",
    "    print(f\"  - {collection} : {number}\")\n",
    "print(\"\\n\"+\"-\"*80+\"\") \n",
    "# Identify the cheapest and most expensive product in the whole subset\n",
    "print(f\"\\n ** Cheapest and most expensive product in {country}:\\n\")\n",
    "print(f\"  Cheapest -> Collection: {overall_stats['cheapest']['collection']}, Reference: {overall_stats['cheapest']['reference']}, Price: {overall_stats['cheapest']['price']} {(data['currency'][data['country'] == country]).unique()[0]}\")\n",
    "print(f\"  Most Expensive -> Collection: {overall_stats['most_expensive']['collection']}, Reference: {overall_stats['most_expensive']['reference']}, Price: {overall_stats['most_expensive']['price']} {(data['currency'][data['country'] == country]).unique()[0]}\")\n",
    "print(\"\\n\"+\"-\"*80+\"\")\n",
    "# Identify the cheapest and most expensive product per collection\n",
    "print(f\"\\n ** Cheapest and most expensive product in {country} per collection:\\n\")\n",
    "for stat in collection_stats:\n",
    "    print(f\" - Collection: {stat['collection']}\")\n",
    "    print(f\"    Cheapest -> Reference: {stat['cheapest']['reference']}, Price: {stat['cheapest']['price']} {(data['currency'][data['country'] == country]).unique()[0]}\")\n",
    "    print(f\"    Most Expensive -> Reference: {stat['most_expensive']['reference']}, Price: {stat['most_expensive']['price']} {(data['currency'][data['country'] == country]).unique()[0]}\")\n",
    "    print(\"\\n\"+\"*\"*50+\"\\n\")"
   ]
  },
  {
   "cell_type": "code",
   "execution_count": 18,
   "id": "01997491",
   "metadata": {
    "scrolled": false
   },
   "outputs": [
    {
     "data": {
      "image/png": "[encoded data removed]",
      "text/plain": [
       "<Figure size 640x480 with 1 Axes>"
      ]
     },
     "metadata": {},
     "output_type": "display_data"
    }
   ],
   "source": [
    "collection_visualization(data, country)"
   ]
  },
  {
   "cell_type": "markdown",
   "id": "afd009a1",
   "metadata": {},
   "source": [
    "### USA"
   ]
  },
  {
   "cell_type": "code",
   "execution_count": 19,
   "id": "a31b8c6b",
   "metadata": {},
   "outputs": [
    {
     "name": "stdout",
     "output_type": "stream",
     "text": [
      "\n",
      " ** The number of unique references 149\n",
      "\n",
      " ** The number of unique references par collection:\n",
      "\n",
      "  - Radiomir : 23\n",
      "  - Luminor : 54\n",
      "  - Submersible : 39\n",
      "  - Luminor Due : 33\n",
      "\n",
      "--------------------------------------------------------------------------------\n",
      "\n",
      " ** Cheapest and most expensive product in USA:\n",
      "\n",
      "  Cheapest -> Collection: Radiomir, Reference: PAM01383, Price: 4900 $\n",
      "  Most Expensive -> Collection: Radiomir, Reference: PAM00600, Price: 398400 $\n",
      "\n",
      "--------------------------------------------------------------------------------\n",
      "\n",
      " ** Cheapest and most expensive product in USA per collection:\n",
      "\n",
      " - Collection: Radiomir\n",
      "    Cheapest -> Reference: PAM01383, Price: 4900 $\n",
      "    Most Expensive -> Reference: PAM00600, Price: 398400 $\n",
      "\n",
      "**************************************************\n",
      "\n",
      " - Collection: Luminor\n",
      "    Cheapest -> Reference: PAM01623, Price: 5600 $\n",
      "    Most Expensive -> Reference: PAM00920, Price: 233800 $\n",
      "\n",
      "**************************************************\n",
      "\n",
      " - Collection: Submersible\n",
      "    Cheapest -> Reference: PAM01590, Price: 9500 $\n",
      "    Most Expensive -> Reference: PAM01405, Price: 168900 $\n",
      "\n",
      "**************************************************\n",
      "\n",
      " - Collection: Luminor Due\n",
      "    Cheapest -> Reference: PAM01248, Price: 6900 $\n",
      "    Most Expensive -> Reference: PAM01494, Price: 41200 $\n",
      "\n",
      "**************************************************\n",
      "\n"
     ]
    }
   ],
   "source": [
    "country = \"USA\"\n",
    "\n",
    "number_unique_ref, number_unique_ref_collection = descriptive_data(data, country = country)\n",
    "overall_stats, collection_stats = analyze_country(data, country = country)\n",
    "\n",
    "print(f\"\\n ** The number of unique references {number_unique_ref}\")\n",
    "print(f\"\\n ** The number of unique references par collection:\\n\")\n",
    "for collection, number in number_unique_ref_collection.items():\n",
    "    print(f\"  - {collection} : {number}\")\n",
    "print(\"\\n\"+\"-\"*80+\"\") \n",
    "# Identify the cheapest and most expensive product in the whole subset\n",
    "print(f\"\\n ** Cheapest and most expensive product in {country}:\\n\")\n",
    "print(f\"  Cheapest -> Collection: {overall_stats['cheapest']['collection']}, Reference: {overall_stats['cheapest']['reference']}, Price: {overall_stats['cheapest']['price']} {(data['currency'][data['country'] == country]).unique()[0]}\")\n",
    "print(f\"  Most Expensive -> Collection: {overall_stats['most_expensive']['collection']}, Reference: {overall_stats['most_expensive']['reference']}, Price: {overall_stats['most_expensive']['price']} {(data['currency'][data['country'] == country]).unique()[0]}\")\n",
    "print(\"\\n\"+\"-\"*80+\"\")\n",
    "# Identify the cheapest and most expensive product per collection\n",
    "print(f\"\\n ** Cheapest and most expensive product in {country} per collection:\\n\")\n",
    "for stat in collection_stats:\n",
    "    print(f\" - Collection: {stat['collection']}\")\n",
    "    print(f\"    Cheapest -> Reference: {stat['cheapest']['reference']}, Price: {stat['cheapest']['price']} {(data['currency'][data['country'] == country]).unique()[0]}\")\n",
    "    print(f\"    Most Expensive -> Reference: {stat['most_expensive']['reference']}, Price: {stat['most_expensive']['price']} {(data['currency'][data['country'] == country]).unique()[0]}\")\n",
    "    print(\"\\n\"+\"*\"*50+\"\\n\")"
   ]
  },
  {
   "cell_type": "code",
   "execution_count": 20,
   "id": "9269cf94",
   "metadata": {
    "scrolled": false
   },
   "outputs": [
    {
     "data": {
      "image/png": "[encoded data removed]",
      "text/plain": [
       "<Figure size 640x480 with 1 Axes>"
      ]
     },
     "metadata": {},
     "output_type": "display_data"
    }
   ],
   "source": [
    "collection_visualization(data, country)"
   ]
  },
  {
   "cell_type": "markdown",
   "id": "72321ee3",
   "metadata": {},
   "source": [
    "### Japan"
   ]
  },
  {
   "cell_type": "code",
   "execution_count": 21,
   "id": "8e2d2c9f",
   "metadata": {},
   "outputs": [
    {
     "name": "stdout",
     "output_type": "stream",
     "text": [
      "\n",
      " ** The number of unique references 147\n",
      "\n",
      " ** The number of unique references par collection:\n",
      "\n",
      "  - Radiomir : 21\n",
      "  - Luminor : 54\n",
      "  - Submersible : 39\n",
      "  - Luminor Due : 33\n",
      "\n",
      "--------------------------------------------------------------------------------\n",
      "\n",
      " ** Cheapest and most expensive product in Japan:\n",
      "\n",
      "  Cheapest -> Collection: Radiomir, Reference: PAM01383, Price: 748000 ￥\n",
      "  Most Expensive -> Collection: Luminor, Reference: PAM00920, Price: 39853000 ￥\n",
      "\n",
      "--------------------------------------------------------------------------------\n",
      "\n",
      " ** Cheapest and most expensive product in Japan per collection:\n",
      "\n",
      " - Collection: Radiomir\n",
      "    Cheapest -> Reference: PAM01383, Price: 748000 ￥\n",
      "    Most Expensive -> Reference: PAM01284, Price: 25091000 ￥\n",
      "\n",
      "**************************************************\n",
      "\n",
      " - Collection: Luminor\n",
      "    Cheapest -> Reference: PAM01623, Price: 847000 ￥\n",
      "    Most Expensive -> Reference: PAM00920, Price: 39853000 ￥\n",
      "\n",
      "**************************************************\n",
      "\n",
      " - Collection: Submersible\n",
      "    Cheapest -> Reference: PAM01590, Price: 1441000 ￥\n",
      "    Most Expensive -> Reference: PAM01405, Price: 28776000 ￥\n",
      "\n",
      "**************************************************\n",
      "\n",
      " - Collection: Luminor Due\n",
      "    Cheapest -> Reference: PAM01248, Price: 1045000 ￥\n",
      "    Most Expensive -> Reference: PAM01494, Price: 6215000 ￥\n",
      "\n",
      "**************************************************\n",
      "\n"
     ]
    }
   ],
   "source": [
    "country = \"Japan\"\n",
    "\n",
    "number_unique_ref, number_unique_ref_collection = descriptive_data(data, country = country)\n",
    "overall_stats, collection_stats = analyze_country(data, country = country)\n",
    "\n",
    "print(f\"\\n ** The number of unique references {number_unique_ref}\")\n",
    "print(f\"\\n ** The number of unique references par collection:\\n\")\n",
    "for collection, number in number_unique_ref_collection.items():\n",
    "    print(f\"  - {collection} : {number}\")\n",
    "print(\"\\n\"+\"-\"*80+\"\") \n",
    "# Identify the cheapest and most expensive product in the whole subset\n",
    "print(f\"\\n ** Cheapest and most expensive product in {country}:\\n\")\n",
    "print(f\"  Cheapest -> Collection: {overall_stats['cheapest']['collection']}, Reference: {overall_stats['cheapest']['reference']}, Price: {overall_stats['cheapest']['price']} {(data['currency'][data['country'] == country]).unique()[0]}\")\n",
    "print(f\"  Most Expensive -> Collection: {overall_stats['most_expensive']['collection']}, Reference: {overall_stats['most_expensive']['reference']}, Price: {overall_stats['most_expensive']['price']} {(data['currency'][data['country'] == country]).unique()[0]}\")\n",
    "print(\"\\n\"+\"-\"*80+\"\")\n",
    "# Identify the cheapest and most expensive product per collection\n",
    "print(f\"\\n ** Cheapest and most expensive product in {country} per collection:\\n\")\n",
    "for stat in collection_stats:\n",
    "    print(f\" - Collection: {stat['collection']}\")\n",
    "    print(f\"    Cheapest -> Reference: {stat['cheapest']['reference']}, Price: {stat['cheapest']['price']} {(data['currency'][data['country'] == country]).unique()[0]}\")\n",
    "    print(f\"    Most Expensive -> Reference: {stat['most_expensive']['reference']}, Price: {stat['most_expensive']['price']} {(data['currency'][data['country'] == country]).unique()[0]}\")\n",
    "    print(\"\\n\"+\"*\"*50+\"\\n\")"
   ]
  },
  {
   "cell_type": "code",
   "execution_count": 22,
   "id": "a1a6f123",
   "metadata": {
    "scrolled": false
   },
   "outputs": [
    {
     "data": {
      "image/png": "[encoded data removed]",
      "text/plain": [
       "<Figure size 640x480 with 1 Axes>"
      ]
     },
     "metadata": {},
     "output_type": "display_data"
    }
   ],
   "source": [
    "collection_visualization(data, country)"
   ]
  },
  {
   "cell_type": "markdown",
   "id": "9d7d4673",
   "metadata": {},
   "source": [
    "### 4.3. Select product that are available in 4 countries (under unified price currency “USD”)\n",
    "1. For each product (reference) compare the price of the product with the median price of the product on the 4 country\n",
    "   - **Price Difference** = Watch Price (in USD) – Median Watch Price across the Four Markets (in USD)\n",
    "   - **Difference Rate (%)** = (Price Difference / Median Watch Price across the Four Markets (in USD)) × 10\n",
    "\n",
    "2. Product with the lowest / highest Difference rate\n",
    "3. Countries that encourage gray market activity and the number of opportunities created, and the margin lost to the gray market for each collection compared to the median price"
   ]
  },
  {
   "cell_type": "code",
   "execution_count": 23,
   "id": "f73d69c1",
   "metadata": {},
   "outputs": [],
   "source": [
    "data_subset = data[[\"collection\", \"reference\", \"price\", \"currency\", \"country\", \"year\", \"price_USD\"]]\n",
    "commun_data = data_subset.groupby('reference').filter(\n",
    "    lambda group: set(data_subset.country.unique()).issubset(set(group['country']))\n",
    ")"
   ]
  },
  {
   "cell_type": "code",
   "execution_count": 24,
   "id": "460423bc",
   "metadata": {
    "scrolled": true
   },
   "outputs": [
    {
     "data": {
      "text/html": [
       "<div>\n",
       "<style scoped>\n",
       "    .dataframe tbody tr th:only-of-type {\n",
       "        vertical-align: middle;\n",
       "    }\n",
       "\n",
       "    .dataframe tbody tr th {\n",
       "        vertical-align: top;\n",
       "    }\n",
       "\n",
       "    .dataframe thead th {\n",
       "        text-align: right;\n",
       "    }\n",
       "</style>\n",
       "<table border=\"1\" class=\"dataframe\">\n",
       "  <thead>\n",
       "    <tr style=\"text-align: right;\">\n",
       "      <th></th>\n",
       "      <th>collection</th>\n",
       "      <th>reference</th>\n",
       "      <th>price</th>\n",
       "      <th>currency</th>\n",
       "      <th>country</th>\n",
       "      <th>year</th>\n",
       "      <th>price_USD</th>\n",
       "    </tr>\n",
       "  </thead>\n",
       "  <tbody>\n",
       "    <tr>\n",
       "      <th>0</th>\n",
       "      <td>Radiomir</td>\n",
       "      <td>PAM01570</td>\n",
       "      <td>6000</td>\n",
       "      <td>$</td>\n",
       "      <td>USA</td>\n",
       "      <td>2025</td>\n",
       "      <td>6000.0</td>\n",
       "    </tr>\n",
       "    <tr>\n",
       "      <th>1</th>\n",
       "      <td>Radiomir</td>\n",
       "      <td>PAM01571</td>\n",
       "      <td>6000</td>\n",
       "      <td>$</td>\n",
       "      <td>USA</td>\n",
       "      <td>2025</td>\n",
       "      <td>6000.0</td>\n",
       "    </tr>\n",
       "    <tr>\n",
       "      <th>2</th>\n",
       "      <td>Radiomir</td>\n",
       "      <td>PAM01572</td>\n",
       "      <td>6000</td>\n",
       "      <td>$</td>\n",
       "      <td>USA</td>\n",
       "      <td>2025</td>\n",
       "      <td>6000.0</td>\n",
       "    </tr>\n",
       "    <tr>\n",
       "      <th>3</th>\n",
       "      <td>Radiomir</td>\n",
       "      <td>PAM01573</td>\n",
       "      <td>6000</td>\n",
       "      <td>$</td>\n",
       "      <td>USA</td>\n",
       "      <td>2025</td>\n",
       "      <td>6000.0</td>\n",
       "    </tr>\n",
       "    <tr>\n",
       "      <th>4</th>\n",
       "      <td>Radiomir</td>\n",
       "      <td>PAM01385</td>\n",
       "      <td>5400</td>\n",
       "      <td>$</td>\n",
       "      <td>USA</td>\n",
       "      <td>2025</td>\n",
       "      <td>5400.0</td>\n",
       "    </tr>\n",
       "  </tbody>\n",
       "</table>\n",
       "</div>"
      ],
      "text/plain": [
       "  collection reference  price currency country  year  price_USD\n",
       "0   Radiomir  PAM01570   6000        $     USA  2025     6000.0\n",
       "1   Radiomir  PAM01571   6000        $     USA  2025     6000.0\n",
       "2   Radiomir  PAM01572   6000        $     USA  2025     6000.0\n",
       "3   Radiomir  PAM01573   6000        $     USA  2025     6000.0\n",
       "4   Radiomir  PAM01385   5400        $     USA  2025     5400.0"
      ]
     },
     "execution_count": 24,
     "metadata": {},
     "output_type": "execute_result"
    }
   ],
   "source": [
    "commun_data.head()"
   ]
  },
  {
   "cell_type": "code",
   "execution_count": 25,
   "id": "0451bd5d",
   "metadata": {},
   "outputs": [
    {
     "name": "stdout",
     "output_type": "stream",
     "text": [
      "\n",
      "The number of unique references 145\n",
      "\n",
      "The number of unique references par collection\n",
      "Radiomir : 21\n",
      "Luminor : 53\n",
      "Submersible : 38\n",
      "Luminor Due : 33\n"
     ]
    }
   ],
   "source": [
    "number_unique_ref, number_unique_ref_collection = descriptive_data(commun_data)\n",
    "    \n",
    "print(f\"\\nThe number of unique references {number_unique_ref}\")\n",
    "print(f\"\\nThe number of unique references par collection\")\n",
    "for collection, number in number_unique_ref_collection.items():\n",
    "    print(f\"{collection} : {number}\")"
   ]
  },
  {
   "cell_type": "code",
   "execution_count": 26,
   "id": "8fe711dd",
   "metadata": {},
   "outputs": [
    {
     "data": {
      "image/png": "[encoded data removed]",
      "text/plain": [
       "<Figure size 1000x600 with 1 Axes>"
      ]
     },
     "metadata": {},
     "output_type": "display_data"
    }
   ],
   "source": [
    "plot_collection_by_country(commun_data)"
   ]
  },
  {
   "cell_type": "code",
   "execution_count": 27,
   "id": "bb7e6454",
   "metadata": {},
   "outputs": [],
   "source": [
    "# Compute the median price_USD for each reference\n",
    "median_by_reference = commun_data.groupby(\"reference\")[\"price_USD\"].median()"
   ]
  },
  {
   "cell_type": "code",
   "execution_count": 28,
   "id": "3abc4ab4",
   "metadata": {},
   "outputs": [
    {
     "data": {
      "text/html": [
       "<div>\n",
       "<style scoped>\n",
       "    .dataframe tbody tr th:only-of-type {\n",
       "        vertical-align: middle;\n",
       "    }\n",
       "\n",
       "    .dataframe tbody tr th {\n",
       "        vertical-align: top;\n",
       "    }\n",
       "\n",
       "    .dataframe thead th {\n",
       "        text-align: right;\n",
       "    }\n",
       "</style>\n",
       "<table border=\"1\" class=\"dataframe\">\n",
       "  <thead>\n",
       "    <tr style=\"text-align: right;\">\n",
       "      <th></th>\n",
       "      <th>collection</th>\n",
       "      <th>reference</th>\n",
       "      <th>price</th>\n",
       "      <th>currency</th>\n",
       "      <th>country</th>\n",
       "      <th>year</th>\n",
       "      <th>price_USD</th>\n",
       "      <th>price_USD_median</th>\n",
       "      <th>Price Difference</th>\n",
       "      <th>Difference Rate (%)</th>\n",
       "    </tr>\n",
       "  </thead>\n",
       "  <tbody>\n",
       "    <tr>\n",
       "      <th>0</th>\n",
       "      <td>Luminor</td>\n",
       "      <td>PAM00422</td>\n",
       "      <td>11500</td>\n",
       "      <td>€</td>\n",
       "      <td>France</td>\n",
       "      <td>2025</td>\n",
       "      <td>12416.550</td>\n",
       "      <td>11970.3225</td>\n",
       "      <td>446.2275</td>\n",
       "      <td>3.727782</td>\n",
       "    </tr>\n",
       "    <tr>\n",
       "      <th>1</th>\n",
       "      <td>Luminor</td>\n",
       "      <td>PAM00422</td>\n",
       "      <td>1705000</td>\n",
       "      <td>￥</td>\n",
       "      <td>Japan</td>\n",
       "      <td>2025</td>\n",
       "      <td>11524.095</td>\n",
       "      <td>11970.3225</td>\n",
       "      <td>-446.2275</td>\n",
       "      <td>-3.727782</td>\n",
       "    </tr>\n",
       "    <tr>\n",
       "      <th>2</th>\n",
       "      <td>Luminor</td>\n",
       "      <td>PAM00422</td>\n",
       "      <td>9800</td>\n",
       "      <td>£</td>\n",
       "      <td>UK</td>\n",
       "      <td>2025</td>\n",
       "      <td>12627.300</td>\n",
       "      <td>11970.3225</td>\n",
       "      <td>656.9775</td>\n",
       "      <td>5.488386</td>\n",
       "    </tr>\n",
       "    <tr>\n",
       "      <th>3</th>\n",
       "      <td>Luminor</td>\n",
       "      <td>PAM00422</td>\n",
       "      <td>11300</td>\n",
       "      <td>$</td>\n",
       "      <td>USA</td>\n",
       "      <td>2025</td>\n",
       "      <td>11300.000</td>\n",
       "      <td>11970.3225</td>\n",
       "      <td>-670.3225</td>\n",
       "      <td>-5.599870</td>\n",
       "    </tr>\n",
       "    <tr>\n",
       "      <th>4</th>\n",
       "      <td>Luminor</td>\n",
       "      <td>PAM00670</td>\n",
       "      <td>24500</td>\n",
       "      <td>€</td>\n",
       "      <td>France</td>\n",
       "      <td>2025</td>\n",
       "      <td>26452.650</td>\n",
       "      <td>25493.9100</td>\n",
       "      <td>958.7400</td>\n",
       "      <td>3.760663</td>\n",
       "    </tr>\n",
       "  </tbody>\n",
       "</table>\n",
       "</div>"
      ],
      "text/plain": [
       "  collection reference    price currency country  year  price_USD  \\\n",
       "0    Luminor  PAM00422    11500        €  France  2025  12416.550   \n",
       "1    Luminor  PAM00422  1705000        ￥   Japan  2025  11524.095   \n",
       "2    Luminor  PAM00422     9800        £      UK  2025  12627.300   \n",
       "3    Luminor  PAM00422    11300        $     USA  2025  11300.000   \n",
       "4    Luminor  PAM00670    24500        €  France  2025  26452.650   \n",
       "\n",
       "   price_USD_median  Price Difference  Difference Rate (%)  \n",
       "0        11970.3225          446.2275             3.727782  \n",
       "1        11970.3225         -446.2275            -3.727782  \n",
       "2        11970.3225          656.9775             5.488386  \n",
       "3        11970.3225         -670.3225            -5.599870  \n",
       "4        25493.9100          958.7400             3.760663  "
      ]
     },
     "execution_count": 28,
     "metadata": {},
     "output_type": "execute_result"
    }
   ],
   "source": [
    "# Map the median price back to each row as a new column (optional)\n",
    "commun_data[\"price_USD_median\"] = commun_data[\"reference\"].map(median_by_reference)\n",
    "\n",
    "# Calculate the absolute difference between price_USD and the median\n",
    "commun_data[\"Price Difference\"] = commun_data[\"price_USD\"] - commun_data[\"price_USD_median\"]\n",
    "\n",
    "# Calculate the rate (percentage difference) relative to the median\n",
    "commun_data[\"Difference Rate (%)\"] = (commun_data[\"Price Difference\"] / commun_data[\"price_USD_median\"]) * 100\n",
    "\n",
    "# commun_data.drop(\"price_USD_median\", axis=1, inplace=True)\n",
    "commun_data.sort_values([\"reference\", \"country\"], inplace=True)\n",
    "commun_data.reset_index(drop=True, inplace=True)\n",
    "\n",
    "commun_data.head()"
   ]
  },
  {
   "cell_type": "code",
   "execution_count": 29,
   "id": "71170ad5",
   "metadata": {},
   "outputs": [],
   "source": [
    "commun_data.to_csv(r\"../orchestrator/data/gold/Products_available_4countries_with_comparative_metrics_2025.csv\", index=False)"
   ]
  },
  {
   "cell_type": "markdown",
   "id": "f967e5f5",
   "metadata": {},
   "source": [
    "#### 4.3.1. Identify Products with Extreme Growth Rates\n",
    "#### Positive direction\n",
    "##### 1. Product with positive Growth rate"
   ]
  },
  {
   "cell_type": "code",
   "execution_count": 30,
   "id": "f069eeec",
   "metadata": {},
   "outputs": [
    {
     "data": {
      "text/html": [
       "<div>\n",
       "<style scoped>\n",
       "    .dataframe tbody tr th:only-of-type {\n",
       "        vertical-align: middle;\n",
       "    }\n",
       "\n",
       "    .dataframe tbody tr th {\n",
       "        vertical-align: top;\n",
       "    }\n",
       "\n",
       "    .dataframe thead th {\n",
       "        text-align: right;\n",
       "    }\n",
       "</style>\n",
       "<table border=\"1\" class=\"dataframe\">\n",
       "  <thead>\n",
       "    <tr style=\"text-align: right;\">\n",
       "      <th></th>\n",
       "      <th>collection</th>\n",
       "      <th>reference</th>\n",
       "      <th>price</th>\n",
       "      <th>currency</th>\n",
       "      <th>country</th>\n",
       "      <th>year</th>\n",
       "      <th>price_USD</th>\n",
       "      <th>price_USD_median</th>\n",
       "      <th>Price Difference</th>\n",
       "      <th>Difference Rate (%)</th>\n",
       "    </tr>\n",
       "  </thead>\n",
       "  <tbody>\n",
       "    <tr>\n",
       "      <th>0</th>\n",
       "      <td>Luminor</td>\n",
       "      <td>PAM00422</td>\n",
       "      <td>11500</td>\n",
       "      <td>€</td>\n",
       "      <td>France</td>\n",
       "      <td>2025</td>\n",
       "      <td>12416.55</td>\n",
       "      <td>11970.3225</td>\n",
       "      <td>446.2275</td>\n",
       "      <td>3.727782</td>\n",
       "    </tr>\n",
       "    <tr>\n",
       "      <th>1</th>\n",
       "      <td>Luminor</td>\n",
       "      <td>PAM00422</td>\n",
       "      <td>9800</td>\n",
       "      <td>£</td>\n",
       "      <td>UK</td>\n",
       "      <td>2025</td>\n",
       "      <td>12627.30</td>\n",
       "      <td>11970.3225</td>\n",
       "      <td>656.9775</td>\n",
       "      <td>5.488386</td>\n",
       "    </tr>\n",
       "    <tr>\n",
       "      <th>2</th>\n",
       "      <td>Luminor</td>\n",
       "      <td>PAM00670</td>\n",
       "      <td>24500</td>\n",
       "      <td>€</td>\n",
       "      <td>France</td>\n",
       "      <td>2025</td>\n",
       "      <td>26452.65</td>\n",
       "      <td>25493.9100</td>\n",
       "      <td>958.7400</td>\n",
       "      <td>3.760663</td>\n",
       "    </tr>\n",
       "    <tr>\n",
       "      <th>3</th>\n",
       "      <td>Luminor</td>\n",
       "      <td>PAM00670</td>\n",
       "      <td>20700</td>\n",
       "      <td>£</td>\n",
       "      <td>UK</td>\n",
       "      <td>2025</td>\n",
       "      <td>26671.95</td>\n",
       "      <td>25493.9100</td>\n",
       "      <td>1178.0400</td>\n",
       "      <td>4.620868</td>\n",
       "    </tr>\n",
       "    <tr>\n",
       "      <th>4</th>\n",
       "      <td>Luminor</td>\n",
       "      <td>PAM00715</td>\n",
       "      <td>72000</td>\n",
       "      <td>€</td>\n",
       "      <td>France</td>\n",
       "      <td>2025</td>\n",
       "      <td>77738.40</td>\n",
       "      <td>68251.9170</td>\n",
       "      <td>9486.4830</td>\n",
       "      <td>13.899218</td>\n",
       "    </tr>\n",
       "    <tr>\n",
       "      <th>...</th>\n",
       "      <td>...</td>\n",
       "      <td>...</td>\n",
       "      <td>...</td>\n",
       "      <td>...</td>\n",
       "      <td>...</td>\n",
       "      <td>...</td>\n",
       "      <td>...</td>\n",
       "      <td>...</td>\n",
       "      <td>...</td>\n",
       "      <td>...</td>\n",
       "    </tr>\n",
       "    <tr>\n",
       "      <th>285</th>\n",
       "      <td>Submersible</td>\n",
       "      <td>PAM02692</td>\n",
       "      <td>12800</td>\n",
       "      <td>£</td>\n",
       "      <td>UK</td>\n",
       "      <td>2025</td>\n",
       "      <td>16492.80</td>\n",
       "      <td>15735.3330</td>\n",
       "      <td>757.4670</td>\n",
       "      <td>4.813797</td>\n",
       "    </tr>\n",
       "    <tr>\n",
       "      <th>286</th>\n",
       "      <td>Submersible</td>\n",
       "      <td>PAM02973</td>\n",
       "      <td>9700</td>\n",
       "      <td>€</td>\n",
       "      <td>France</td>\n",
       "      <td>2025</td>\n",
       "      <td>10473.09</td>\n",
       "      <td>10106.4045</td>\n",
       "      <td>366.6855</td>\n",
       "      <td>3.628249</td>\n",
       "    </tr>\n",
       "    <tr>\n",
       "      <th>287</th>\n",
       "      <td>Submersible</td>\n",
       "      <td>PAM02973</td>\n",
       "      <td>8200</td>\n",
       "      <td>£</td>\n",
       "      <td>UK</td>\n",
       "      <td>2025</td>\n",
       "      <td>10565.70</td>\n",
       "      <td>10106.4045</td>\n",
       "      <td>459.2955</td>\n",
       "      <td>4.544598</td>\n",
       "    </tr>\n",
       "    <tr>\n",
       "      <th>288</th>\n",
       "      <td>Submersible</td>\n",
       "      <td>PAM02979</td>\n",
       "      <td>20600</td>\n",
       "      <td>€</td>\n",
       "      <td>France</td>\n",
       "      <td>2025</td>\n",
       "      <td>22241.82</td>\n",
       "      <td>21418.2465</td>\n",
       "      <td>823.5735</td>\n",
       "      <td>3.845196</td>\n",
       "    </tr>\n",
       "    <tr>\n",
       "      <th>289</th>\n",
       "      <td>Submersible</td>\n",
       "      <td>PAM02979</td>\n",
       "      <td>17400</td>\n",
       "      <td>£</td>\n",
       "      <td>UK</td>\n",
       "      <td>2025</td>\n",
       "      <td>22419.90</td>\n",
       "      <td>21418.2465</td>\n",
       "      <td>1001.6535</td>\n",
       "      <td>4.676636</td>\n",
       "    </tr>\n",
       "  </tbody>\n",
       "</table>\n",
       "<p>290 rows × 10 columns</p>\n",
       "</div>"
      ],
      "text/plain": [
       "      collection reference  price currency country  year  price_USD  \\\n",
       "0        Luminor  PAM00422  11500        €  France  2025   12416.55   \n",
       "1        Luminor  PAM00422   9800        £      UK  2025   12627.30   \n",
       "2        Luminor  PAM00670  24500        €  France  2025   26452.65   \n",
       "3        Luminor  PAM00670  20700        £      UK  2025   26671.95   \n",
       "4        Luminor  PAM00715  72000        €  France  2025   77738.40   \n",
       "..           ...       ...    ...      ...     ...   ...        ...   \n",
       "285  Submersible  PAM02692  12800        £      UK  2025   16492.80   \n",
       "286  Submersible  PAM02973   9700        €  France  2025   10473.09   \n",
       "287  Submersible  PAM02973   8200        £      UK  2025   10565.70   \n",
       "288  Submersible  PAM02979  20600        €  France  2025   22241.82   \n",
       "289  Submersible  PAM02979  17400        £      UK  2025   22419.90   \n",
       "\n",
       "     price_USD_median  Price Difference  Difference Rate (%)  \n",
       "0          11970.3225          446.2275             3.727782  \n",
       "1          11970.3225          656.9775             5.488386  \n",
       "2          25493.9100          958.7400             3.760663  \n",
       "3          25493.9100         1178.0400             4.620868  \n",
       "4          68251.9170         9486.4830            13.899218  \n",
       "..                ...               ...                  ...  \n",
       "285        15735.3330          757.4670             4.813797  \n",
       "286        10106.4045          366.6855             3.628249  \n",
       "287        10106.4045          459.2955             4.544598  \n",
       "288        21418.2465          823.5735             3.845196  \n",
       "289        21418.2465         1001.6535             4.676636  \n",
       "\n",
       "[290 rows x 10 columns]"
      ]
     },
     "execution_count": 30,
     "metadata": {},
     "output_type": "execute_result"
    }
   ],
   "source": [
    "positive_Difference_Rate = commun_data[commun_data[\"Difference Rate (%)\"] >= 0].reset_index(drop=True)\n",
    "positive_Difference_Rate"
   ]
  },
  {
   "cell_type": "markdown",
   "id": "e80ca805",
   "metadata": {},
   "source": [
    "##### 2. Product with the highest Growth rate"
   ]
  },
  {
   "cell_type": "code",
   "execution_count": 31,
   "id": "77d96a51",
   "metadata": {},
   "outputs": [
    {
     "name": "stdout",
     "output_type": "stream",
     "text": [
      "\n",
      "Product with the Highest Difference Rate:\n"
     ]
    },
    {
     "data": {
      "text/html": [
       "<div>\n",
       "<style scoped>\n",
       "    .dataframe tbody tr th:only-of-type {\n",
       "        vertical-align: middle;\n",
       "    }\n",
       "\n",
       "    .dataframe tbody tr th {\n",
       "        vertical-align: top;\n",
       "    }\n",
       "\n",
       "    .dataframe thead th {\n",
       "        text-align: right;\n",
       "    }\n",
       "</style>\n",
       "<table border=\"1\" class=\"dataframe\">\n",
       "  <thead>\n",
       "    <tr style=\"text-align: right;\">\n",
       "      <th></th>\n",
       "      <th>collection</th>\n",
       "      <th>reference</th>\n",
       "      <th>price</th>\n",
       "      <th>currency</th>\n",
       "      <th>country</th>\n",
       "      <th>year</th>\n",
       "      <th>price_USD</th>\n",
       "      <th>price_USD_median</th>\n",
       "      <th>Price Difference</th>\n",
       "      <th>Difference Rate (%)</th>\n",
       "    </tr>\n",
       "  </thead>\n",
       "  <tbody>\n",
       "    <tr>\n",
       "      <th>0</th>\n",
       "      <td>Submersible</td>\n",
       "      <td>PAM01405</td>\n",
       "      <td>195000</td>\n",
       "      <td>€</td>\n",
       "      <td>France</td>\n",
       "      <td>2025</td>\n",
       "      <td>210541.5</td>\n",
       "      <td>184802.067</td>\n",
       "      <td>25739.433</td>\n",
       "      <td>13.928109</td>\n",
       "    </tr>\n",
       "  </tbody>\n",
       "</table>\n",
       "</div>"
      ],
      "text/plain": [
       "    collection reference   price currency country  year  price_USD  \\\n",
       "0  Submersible  PAM01405  195000        €  France  2025   210541.5   \n",
       "\n",
       "   price_USD_median  Price Difference  Difference Rate (%)  \n",
       "0        184802.067         25739.433            13.928109  "
      ]
     },
     "execution_count": 31,
     "metadata": {},
     "output_type": "execute_result"
    }
   ],
   "source": [
    "highest_Difference_Rate = commun_data.nlargest(1, 'Difference Rate (%)').reset_index(drop=True)\n",
    "\n",
    "print(\"\\nProduct with the Highest Difference Rate:\")\n",
    "highest_Difference_Rate"
   ]
  },
  {
   "cell_type": "code",
   "execution_count": 32,
   "id": "402b3d94",
   "metadata": {},
   "outputs": [],
   "source": [
    "highest_Difference_Rate.to_csv(r\"../orchestrator/data/gold/Product_with_Highest_Difference_Rate_2025.csv\", index=False)"
   ]
  },
  {
   "cell_type": "markdown",
   "id": "9a0568fd",
   "metadata": {},
   "source": [
    "#### Negative direction\n",
    "##### 1. Product with negative Growth rate"
   ]
  },
  {
   "cell_type": "code",
   "execution_count": 33,
   "id": "aab31a4d",
   "metadata": {
    "scrolled": true
   },
   "outputs": [
    {
     "data": {
      "text/html": [
       "<div>\n",
       "<style scoped>\n",
       "    .dataframe tbody tr th:only-of-type {\n",
       "        vertical-align: middle;\n",
       "    }\n",
       "\n",
       "    .dataframe tbody tr th {\n",
       "        vertical-align: top;\n",
       "    }\n",
       "\n",
       "    .dataframe thead th {\n",
       "        text-align: right;\n",
       "    }\n",
       "</style>\n",
       "<table border=\"1\" class=\"dataframe\">\n",
       "  <thead>\n",
       "    <tr style=\"text-align: right;\">\n",
       "      <th></th>\n",
       "      <th>collection</th>\n",
       "      <th>reference</th>\n",
       "      <th>price</th>\n",
       "      <th>currency</th>\n",
       "      <th>country</th>\n",
       "      <th>year</th>\n",
       "      <th>price_USD</th>\n",
       "      <th>price_USD_median</th>\n",
       "      <th>Price Difference</th>\n",
       "      <th>Difference Rate (%)</th>\n",
       "    </tr>\n",
       "  </thead>\n",
       "  <tbody>\n",
       "    <tr>\n",
       "      <th>0</th>\n",
       "      <td>Luminor</td>\n",
       "      <td>PAM00422</td>\n",
       "      <td>1705000</td>\n",
       "      <td>￥</td>\n",
       "      <td>Japan</td>\n",
       "      <td>2025</td>\n",
       "      <td>11524.095</td>\n",
       "      <td>11970.3225</td>\n",
       "      <td>-446.2275</td>\n",
       "      <td>-3.727782</td>\n",
       "    </tr>\n",
       "    <tr>\n",
       "      <th>1</th>\n",
       "      <td>Luminor</td>\n",
       "      <td>PAM00422</td>\n",
       "      <td>11300</td>\n",
       "      <td>$</td>\n",
       "      <td>USA</td>\n",
       "      <td>2025</td>\n",
       "      <td>11300.000</td>\n",
       "      <td>11970.3225</td>\n",
       "      <td>-670.3225</td>\n",
       "      <td>-5.599870</td>\n",
       "    </tr>\n",
       "    <tr>\n",
       "      <th>2</th>\n",
       "      <td>Luminor</td>\n",
       "      <td>PAM00670</td>\n",
       "      <td>3630000</td>\n",
       "      <td>￥</td>\n",
       "      <td>Japan</td>\n",
       "      <td>2025</td>\n",
       "      <td>24535.170</td>\n",
       "      <td>25493.9100</td>\n",
       "      <td>-958.7400</td>\n",
       "      <td>-3.760663</td>\n",
       "    </tr>\n",
       "    <tr>\n",
       "      <th>3</th>\n",
       "      <td>Luminor</td>\n",
       "      <td>PAM00670</td>\n",
       "      <td>24000</td>\n",
       "      <td>$</td>\n",
       "      <td>USA</td>\n",
       "      <td>2025</td>\n",
       "      <td>24000.000</td>\n",
       "      <td>25493.9100</td>\n",
       "      <td>-1493.9100</td>\n",
       "      <td>-5.859870</td>\n",
       "    </tr>\n",
       "    <tr>\n",
       "      <th>4</th>\n",
       "      <td>Luminor</td>\n",
       "      <td>PAM00715</td>\n",
       "      <td>50200</td>\n",
       "      <td>£</td>\n",
       "      <td>UK</td>\n",
       "      <td>2025</td>\n",
       "      <td>64682.700</td>\n",
       "      <td>68251.9170</td>\n",
       "      <td>-3569.2170</td>\n",
       "      <td>-5.229475</td>\n",
       "    </tr>\n",
       "    <tr>\n",
       "      <th>...</th>\n",
       "      <td>...</td>\n",
       "      <td>...</td>\n",
       "      <td>...</td>\n",
       "      <td>...</td>\n",
       "      <td>...</td>\n",
       "      <td>...</td>\n",
       "      <td>...</td>\n",
       "      <td>...</td>\n",
       "      <td>...</td>\n",
       "      <td>...</td>\n",
       "    </tr>\n",
       "    <tr>\n",
       "      <th>285</th>\n",
       "      <td>Submersible</td>\n",
       "      <td>PAM02692</td>\n",
       "      <td>14800</td>\n",
       "      <td>$</td>\n",
       "      <td>USA</td>\n",
       "      <td>2025</td>\n",
       "      <td>14800.000</td>\n",
       "      <td>15735.3330</td>\n",
       "      <td>-935.3330</td>\n",
       "      <td>-5.944158</td>\n",
       "    </tr>\n",
       "    <tr>\n",
       "      <th>286</th>\n",
       "      <td>Submersible</td>\n",
       "      <td>PAM02973</td>\n",
       "      <td>1441000</td>\n",
       "      <td>￥</td>\n",
       "      <td>Japan</td>\n",
       "      <td>2025</td>\n",
       "      <td>9739.719</td>\n",
       "      <td>10106.4045</td>\n",
       "      <td>-366.6855</td>\n",
       "      <td>-3.628249</td>\n",
       "    </tr>\n",
       "    <tr>\n",
       "      <th>287</th>\n",
       "      <td>Submersible</td>\n",
       "      <td>PAM02973</td>\n",
       "      <td>9500</td>\n",
       "      <td>$</td>\n",
       "      <td>USA</td>\n",
       "      <td>2025</td>\n",
       "      <td>9500.000</td>\n",
       "      <td>10106.4045</td>\n",
       "      <td>-606.4045</td>\n",
       "      <td>-6.000200</td>\n",
       "    </tr>\n",
       "    <tr>\n",
       "      <th>288</th>\n",
       "      <td>Submersible</td>\n",
       "      <td>PAM02979</td>\n",
       "      <td>3047000</td>\n",
       "      <td>￥</td>\n",
       "      <td>Japan</td>\n",
       "      <td>2025</td>\n",
       "      <td>20594.673</td>\n",
       "      <td>21418.2465</td>\n",
       "      <td>-823.5735</td>\n",
       "      <td>-3.845196</td>\n",
       "    </tr>\n",
       "    <tr>\n",
       "      <th>289</th>\n",
       "      <td>Submersible</td>\n",
       "      <td>PAM02979</td>\n",
       "      <td>20200</td>\n",
       "      <td>$</td>\n",
       "      <td>USA</td>\n",
       "      <td>2025</td>\n",
       "      <td>20200.000</td>\n",
       "      <td>21418.2465</td>\n",
       "      <td>-1218.2465</td>\n",
       "      <td>-5.687891</td>\n",
       "    </tr>\n",
       "  </tbody>\n",
       "</table>\n",
       "<p>290 rows × 10 columns</p>\n",
       "</div>"
      ],
      "text/plain": [
       "      collection reference    price currency country  year  price_USD  \\\n",
       "0        Luminor  PAM00422  1705000        ￥   Japan  2025  11524.095   \n",
       "1        Luminor  PAM00422    11300        $     USA  2025  11300.000   \n",
       "2        Luminor  PAM00670  3630000        ￥   Japan  2025  24535.170   \n",
       "3        Luminor  PAM00670    24000        $     USA  2025  24000.000   \n",
       "4        Luminor  PAM00715    50200        £      UK  2025  64682.700   \n",
       "..           ...       ...      ...      ...     ...   ...        ...   \n",
       "285  Submersible  PAM02692    14800        $     USA  2025  14800.000   \n",
       "286  Submersible  PAM02973  1441000        ￥   Japan  2025   9739.719   \n",
       "287  Submersible  PAM02973     9500        $     USA  2025   9500.000   \n",
       "288  Submersible  PAM02979  3047000        ￥   Japan  2025  20594.673   \n",
       "289  Submersible  PAM02979    20200        $     USA  2025  20200.000   \n",
       "\n",
       "     price_USD_median  Price Difference  Difference Rate (%)  \n",
       "0          11970.3225         -446.2275            -3.727782  \n",
       "1          11970.3225         -670.3225            -5.599870  \n",
       "2          25493.9100         -958.7400            -3.760663  \n",
       "3          25493.9100        -1493.9100            -5.859870  \n",
       "4          68251.9170        -3569.2170            -5.229475  \n",
       "..                ...               ...                  ...  \n",
       "285        15735.3330         -935.3330            -5.944158  \n",
       "286        10106.4045         -366.6855            -3.628249  \n",
       "287        10106.4045         -606.4045            -6.000200  \n",
       "288        21418.2465         -823.5735            -3.845196  \n",
       "289        21418.2465        -1218.2465            -5.687891  \n",
       "\n",
       "[290 rows x 10 columns]"
      ]
     },
     "execution_count": 33,
     "metadata": {},
     "output_type": "execute_result"
    }
   ],
   "source": [
    "negative_Difference_Rate = commun_data[commun_data[\"Difference Rate (%)\"] < 0].reset_index(drop=True)\n",
    "negative_Difference_Rate"
   ]
  },
  {
   "cell_type": "markdown",
   "id": "0da8f02c",
   "metadata": {},
   "source": [
    "##### 2. Product with the lowest Growth rate"
   ]
  },
  {
   "cell_type": "code",
   "execution_count": 34,
   "id": "3ffac65d",
   "metadata": {},
   "outputs": [
    {
     "name": "stdout",
     "output_type": "stream",
     "text": [
      "\n",
      "Product with the Lowest Difference Rate:\n"
     ]
    },
    {
     "data": {
      "text/html": [
       "<div>\n",
       "<style scoped>\n",
       "    .dataframe tbody tr th:only-of-type {\n",
       "        vertical-align: middle;\n",
       "    }\n",
       "\n",
       "    .dataframe tbody tr th {\n",
       "        vertical-align: top;\n",
       "    }\n",
       "\n",
       "    .dataframe thead th {\n",
       "        text-align: right;\n",
       "    }\n",
       "</style>\n",
       "<table border=\"1\" class=\"dataframe\">\n",
       "  <thead>\n",
       "    <tr style=\"text-align: right;\">\n",
       "      <th></th>\n",
       "      <th>collection</th>\n",
       "      <th>reference</th>\n",
       "      <th>price</th>\n",
       "      <th>currency</th>\n",
       "      <th>country</th>\n",
       "      <th>year</th>\n",
       "      <th>price_USD</th>\n",
       "      <th>price_USD_median</th>\n",
       "      <th>Price Difference</th>\n",
       "      <th>Difference Rate (%)</th>\n",
       "    </tr>\n",
       "  </thead>\n",
       "  <tbody>\n",
       "    <tr>\n",
       "      <th>0</th>\n",
       "      <td>Radiomir</td>\n",
       "      <td>PAM01364</td>\n",
       "      <td>51100</td>\n",
       "      <td>$</td>\n",
       "      <td>USA</td>\n",
       "      <td>2025</td>\n",
       "      <td>51100.0</td>\n",
       "      <td>55985.304</td>\n",
       "      <td>-4885.304</td>\n",
       "      <td>-8.726047</td>\n",
       "    </tr>\n",
       "  </tbody>\n",
       "</table>\n",
       "</div>"
      ],
      "text/plain": [
       "  collection reference  price currency country  year  price_USD  \\\n",
       "0   Radiomir  PAM01364  51100        $     USA  2025    51100.0   \n",
       "\n",
       "   price_USD_median  Price Difference  Difference Rate (%)  \n",
       "0         55985.304         -4885.304            -8.726047  "
      ]
     },
     "execution_count": 34,
     "metadata": {},
     "output_type": "execute_result"
    }
   ],
   "source": [
    "lowest_Difference_Rate = commun_data.nsmallest(1, 'Difference Rate (%)').reset_index(drop=True)\n",
    "\n",
    "print(\"\\nProduct with the Lowest Difference Rate:\")\n",
    "lowest_Difference_Rate"
   ]
  },
  {
   "cell_type": "code",
   "execution_count": 35,
   "id": "1e894a90",
   "metadata": {},
   "outputs": [],
   "source": [
    "lowest_Difference_Rate.to_csv(r\"../orchestrator/data/gold/Product_with_Lowest_Difference_Rate_2025.csv\", index=False)"
   ]
  },
  {
   "cell_type": "markdown",
   "id": "96fe3913",
   "metadata": {},
   "source": [
    "### 4.4. Gray market activity"
   ]
  },
  {
   "cell_type": "code",
   "execution_count": 36,
   "id": "61ebed16",
   "metadata": {
    "scrolled": true
   },
   "outputs": [
    {
     "name": "stdout",
     "output_type": "stream",
     "text": [
      "Countries that encourage gray market activity and the number of opportunities created\n",
      "USA : 145\n",
      "Japan : 131\n",
      "UK : 14\n"
     ]
    }
   ],
   "source": [
    "country_negative_Difference_Rate = negative_Difference_Rate[\"country\"].value_counts()\n",
    "\n",
    "print(\"Countries that encourage gray market activity and the number of opportunities created\")\n",
    "for country, value in zip(country_negative_Difference_Rate.index, country_negative_Difference_Rate.values):\n",
    "    print(f\"{country} : {value}\")"
   ]
  },
  {
   "cell_type": "code",
   "execution_count": 37,
   "id": "947bb834",
   "metadata": {
    "scrolled": true
   },
   "outputs": [
    {
     "name": "stdout",
     "output_type": "stream",
     "text": [
      "The margin lost to the gray market for each collection, relative to the median price\n"
     ]
    },
    {
     "data": {
      "text/plain": [
       "country  collection \n",
       "Japan    Luminor        22141.0815\n",
       "         Luminor Due    19747.1730\n",
       "         Radiomir        5846.6040\n",
       "         Submersible    19475.8830\n",
       "UK       Luminor        18086.9445\n",
       "         Radiomir       16237.7490\n",
       "         Submersible    27417.0330\n",
       "USA      Luminor        64357.7930\n",
       "         Luminor Due    29640.4270\n",
       "         Radiomir       36077.3550\n",
       "         Submersible    74971.1600\n",
       "Name: Price Difference, dtype: float64"
      ]
     },
     "execution_count": 37,
     "metadata": {},
     "output_type": "execute_result"
    }
   ],
   "source": [
    "gray_market_margin_collection = negative_Difference_Rate.groupby([\"country\", \"collection\"])[\"Price Difference\"].sum()*(-1)\n",
    "print(\"The margin lost to the gray market for each collection, relative to the median price\")\n",
    "gray_market_margin_collection"
   ]
  },
  {
   "cell_type": "code",
   "execution_count": 38,
   "id": "d43e882b",
   "metadata": {},
   "outputs": [],
   "source": [
    "gray_market_margin_collection.to_csv(r\"../orchestrator/data/gold/Margin_lost_to_the_gray_market_2025.csv\", index=False)"
   ]
  },
  {
   "cell_type": "code",
   "execution_count": null,
   "id": "53712f46",
   "metadata": {},
   "outputs": [],
   "source": []
  }
 ],
 "metadata": {
  "kernelspec": {
   "display_name": "Python 3 (ipykernel)",
   "language": "python",
   "name": "python3"
  },
  "language_info": {
   "codemirror_mode": {
    "name": "ipython",
    "version": 3
   },
   "file_extension": ".py",
   "mimetype": "text/x-python",
   "name": "python",
   "nbconvert_exporter": "python",
   "pygments_lexer": "ipython3",
   "version": "3.9.13"
  }
 },
 "nbformat": 4,
 "nbformat_minor": 5
}
