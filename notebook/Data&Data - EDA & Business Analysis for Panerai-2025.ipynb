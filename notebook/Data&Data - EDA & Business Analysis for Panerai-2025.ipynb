{
 "cells": [
  {
   "cell_type": "markdown",
   "id": "0c5d0579",
   "metadata": {},
   "source": [
    "## Annexe"
   ]
  },
  {
   "cell_type": "markdown",
   "id": "44d9174f",
   "metadata": {},
   "source": [
    "#### 1. Function to analyze descriptive statistics for a given country"
   ]
  },
  {
   "cell_type": "code",
   "execution_count": 6,
   "id": "3afadb3f",
   "metadata": {},
   "outputs": [],
   "source": [
    "import pandas as pd\n",
    "import seaborn as sns\n",
    "import matplotlib.pyplot as plt\n",
    "\n",
    "def describe_country(data, country=None):\n",
    "    \"\"\"\n",
    "    Describe the country data.\n",
    "\n",
    "    Parameters:\n",
    "    data (pd.DataFrame): The data to describe.\n",
    "    country (str, optional): The country to filter by. Defaults to None.\n",
    "\n",
    "    Returns:\n",
    "    tuple: A tuple containing the number of rows, unique collections, top collection, unique references, top reference, and a list of unique collections.\n",
    "    \"\"\"\n",
    "    # Filter the original data if a specific country is provided\n",
    "    if country:\n",
    "        data = data[data[\"country\"] == country]\n",
    "    \n",
    "    # Create a summary of the object columns if needed\n",
    "    summary = data.describe(include=\"object\")\n",
    "    \n",
    "    # Extract required details directly from the original data\n",
    "    number_rows = data.shape[0]\n",
    "    number_unique_collections = data['collection'].nunique()\n",
    "    top_collection = data['collection'].mode()[0]\n",
    "    \n",
    "    number_unique_references = data['reference'].nunique()\n",
    "    top_reference = data['reference'].mode()[0]\n",
    "    \n",
    "    collection_list = data['collection'].unique()\n",
    "    \n",
    "    return number_rows, number_unique_collections, top_collection, number_unique_references, top_reference, collection_list\n"
   ]
  },
  {
   "cell_type": "markdown",
   "id": "1d959015",
   "metadata": {},
   "source": [
    "#### 2. Visualization"
   ]
  },
  {
   "cell_type": "code",
   "execution_count": 7,
   "id": "260e44d0",
   "metadata": {},
   "outputs": [],
   "source": [
    "def collection_visualization(data, country=None):\n",
    "    \"\"\"\n",
    "    Visualize the collection data.\n",
    "\n",
    "    Parameters:\n",
    "    data (pd.DataFrame): The data to visualize.\n",
    "    country (str): The country to filter by.\n",
    "\n",
    "    Returns:\n",
    "    None\n",
    "    \"\"\"\n",
    "    # Filter the original data if a specific country is provided\n",
    "    if country:\n",
    "        data = data[data[\"country\"] == country]\n",
    "    \n",
    "    # Choose a color palette\n",
    "    palette = sns.color_palette(\"pastel\")  # You can choose different palettes like \"deep\", \"pastel\", etc.\n",
    "\n",
    "    # Create the count plot\n",
    "    ax = sns.countplot(x=\"collection\", data=data, palette=palette)\n",
    "\n",
    "    # Add the count value on top of each bar\n",
    "    for p in ax.patches:\n",
    "        ax.annotate(f'{p.get_height()}', \n",
    "                    (p.get_x() + p.get_width() / 2., p.get_y() + p.get_height() / 2.), \n",
    "                    ha='center', va='center', \n",
    "                    fontsize=10, color='black', \n",
    "                    xytext=(0, 5), textcoords='offset points')\n",
    "\n",
    "    # Rotate x-axis labels for better readability\n",
    "    plt.xticks(rotation=45)\n",
    "\n",
    "    # Labels and title\n",
    "    plt.xlabel(\"Collection\")\n",
    "    plt.ylabel(\"Watch Count\")\n",
    "    plt.title(f\"Watch Count per Collection in {country}\")\n",
    "\n",
    "    # Show the plot\n",
    "    plt.show()"
   ]
  },
  {
   "cell_type": "markdown",
   "id": "0de39521",
   "metadata": {},
   "source": [
    "#### 3. Function to analyze the cheapest and most expensive products for a given country"
   ]
  },
  {
   "cell_type": "code",
   "execution_count": 8,
   "id": "744276a5",
   "metadata": {},
   "outputs": [],
   "source": [
    "def analyze_country(data, country=None):\n",
    "    \"\"\"\n",
    "    Analyze the country data.\n",
    "\n",
    "    Parameters:\n",
    "    data (pd.DataFrame): The data to analyze.\n",
    "    country (str, optional): The country to filter by. Defaults to None.\n",
    "\n",
    "    Returns:\n",
    "    tuple: A tuple containing the overall statistics and the collection statistics.\n",
    "    \"\"\"\n",
    "    # Filter the original data if a specific country is provided\n",
    "    if country:\n",
    "        data = data[data[\"country\"] == country]\n",
    "    \n",
    "    # Identify the cheapest and most expensive product in the whole subset\n",
    "    cheapest_product_data = data.nsmallest(1, 'price')\n",
    "    most_expensive_product_data = data.nlargest(1, 'price')\n",
    "    \n",
    "    overall_stats = {\n",
    "        \"cheapest\": {\n",
    "            \"collection\": cheapest_product_data['collection'].values[0],\n",
    "            \"reference\": cheapest_product_data['reference'].values[0],\n",
    "            \"price\": cheapest_product_data['price'].values[0]\n",
    "        },\n",
    "        \"most_expensive\": {\n",
    "            \"collection\": most_expensive_product_data['collection'].values[0],\n",
    "            \"reference\": most_expensive_product_data['reference'].values[0],\n",
    "            \"price\": most_expensive_product_data['price'].values[0]\n",
    "        }\n",
    "    }\n",
    "    \n",
    "    # Identify the cheapest and most expensive product per collection\n",
    "    collection_stats = []\n",
    "    unique_collections = data[\"collection\"].unique()\n",
    "    \n",
    "    for collection in unique_collections:\n",
    "        collection_data = data[data[\"collection\"] == collection]\n",
    "        \n",
    "        cheapest_collection_data = collection_data.nsmallest(1, 'price')\n",
    "        most_expensive_collection_data = collection_data.nlargest(1, 'price')\n",
    "        \n",
    "        collection_stats.append({\n",
    "            \"collection\": collection,\n",
    "            \"cheapest\": {\n",
    "                \"reference\": cheapest_collection_data['reference'].values[0],\n",
    "                \"price\": cheapest_collection_data['price'].values[0]\n",
    "            },\n",
    "            \"most_expensive\": {\n",
    "                \"reference\": most_expensive_collection_data['reference'].values[0],\n",
    "                \"price\": most_expensive_collection_data['price'].values[0]\n",
    "            }\n",
    "        })\n",
    "    \n",
    "    return overall_stats, collection_stats"
   ]
  },
  {
   "cell_type": "markdown",
   "id": "d48d8861",
   "metadata": {},
   "source": [
    "#### 4. Compute the difference of watch's price from this minimum"
   ]
  },
  {
   "cell_type": "code",
   "execution_count": 9,
   "id": "c7bd958b",
   "metadata": {},
   "outputs": [],
   "source": [
    "def calculate_price_difference(data: pd.DataFrame) -> pd.DataFrame:\n",
    "    \"\"\"\n",
    "    For each product (grouped by collection and reference), calculates the minimum price across all countries,\n",
    "    computes the difference of each record's price from this minimum, and identifies the country that offers\n",
    "    the minimum price.\n",
    "    \n",
    "    Parameters:\n",
    "        data (pd.DataFrame): Input DataFrame with columns:\n",
    "            - 'name': Product name.\n",
    "            - 'country': Country of the product.\n",
    "            - 'product_url': URL for the product.\n",
    "            - 'collection'\n",
    "            - 'reference'\n",
    "            - 'price_USD'\n",
    "    \n",
    "    Returns:\n",
    "        pd.DataFrame: The input DataFrame with additional columns:\n",
    "                      - 'min_price': The minimum price for each product.\n",
    "                      - 'price_diff': The difference between the price and the minimum price.\n",
    "                      - 'min_price_country': The country corresponding to the minimum price.\n",
    "                      The resulting DataFrame is re-ordered to include 'name', 'country', 'min_price_country', and 'product_url'.\n",
    "    \"\"\"\n",
    "    df = data.copy()\n",
    "    group_cols = ['collection', 'reference']\n",
    "    \n",
    "    # Calculate the minimum price for each product group\n",
    "    df['min_price'] = df.groupby(group_cols)['price_USD'].transform('min')\n",
    "    \n",
    "    # Calculate the price difference from the minimum price\n",
    "    df['price_diff'] = df['price_USD'] - df['min_price']\n",
    "    \n",
    "    # Determine the country corresponding to the minimum price for each group.\n",
    "    # This finds the index of the minimum price for each group and extracts the country.\n",
    "    min_price_country_df = df.loc[df.groupby(group_cols)['price_USD'].idxmin(), group_cols + ['country']]\n",
    "    min_price_country_df = min_price_country_df.rename(columns={'country': 'min_price_country'})\n",
    "    \n",
    "    # Merge the min_price_country back into the main DataFrame using the group columns as key.\n",
    "    df = df.merge(min_price_country_df, on=group_cols, how='left')\n",
    "    \n",
    "    # Reorder columns for clarity in the CSV output.\n",
    "    desired_columns = ['name', 'country', 'min_price_country', 'product_url', 'collection', 'reference', 'price_USD', 'min_price', 'price_diff']\n",
    "    available_columns = [col for col in desired_columns if col in df.columns]\n",
    "    df = df[available_columns]\n",
    "    \n",
    "    # Save the result to a CSV file.\n",
    "    df.to_csv('price_difference.csv', index=False)\n",
    "    \n",
    "    return df"
   ]
  },
  {
   "cell_type": "markdown",
   "id": "759f5d88",
   "metadata": {},
   "source": [
    "#### 5. Identify the cheapest price and its corresponding country"
   ]
  },
  {
   "cell_type": "code",
   "execution_count": 10,
   "id": "aab55457",
   "metadata": {},
   "outputs": [],
   "source": [
    "def find_cheapest_prices(data: pd.DataFrame) -> pd.DataFrame:\n",
    "    \"\"\"\n",
    "    For each product (grouped by collection and reference), identifies the cheapest price and its corresponding country.\n",
    "    \n",
    "    Parameters:\n",
    "        data (pd.DataFrame): Input DataFrame with columns 'collection', 'reference', 'price_USD', and 'country'.\n",
    "    \n",
    "    Returns:\n",
    "        pd.DataFrame: A DataFrame containing:\n",
    "                      - 'collection'\n",
    "                      - 'reference'\n",
    "                      - 'cheapest_price': The lowest price found for the product.\n",
    "                      - 'cheapest_country': The country corresponding to the cheapest price.\n",
    "    \"\"\"\n",
    "    group_cols = ['collection', 'reference']\n",
    "    cheapest = data.loc[data.groupby(group_cols)['min_price'].idxmin()].copy()\n",
    "    cheapest = cheapest[['collection', 'reference', 'price_USD', 'country']]\n",
    "    cheapest.rename(columns={'price_USD': 'cheapest_price', 'country': 'cheapest_country'}, inplace=True)\n",
    "    cheapest.to_csv('cheapest_prices.csv', index=False)\n",
    "    \n",
    "    return cheapest"
   ]
  },
  {
   "cell_type": "markdown",
   "id": "1d7f0301",
   "metadata": {},
   "source": [
    "#### 6. Identify the best selling options"
   ]
  },
  {
   "cell_type": "code",
   "execution_count": 11,
   "id": "45a31d44",
   "metadata": {},
   "outputs": [],
   "source": [
    "def find_best_sell_prices(data: pd.DataFrame) -> pd.DataFrame:\n",
    "    \"\"\"\n",
    "    For each product (grouped by collection and reference), identifies the best selling option,\n",
    "    defined as the country where the product has the highest price. Also calculates potential profit\n",
    "    by finding the difference between the best selling price and the minimum price.\n",
    "    \n",
    "    Parameters:\n",
    "        data (pd.DataFrame): Input DataFrame with columns:\n",
    "            - 'collection'\n",
    "            - 'reference'\n",
    "            - 'price_USD'\n",
    "            - 'country'\n",
    "\n",
    "    Returns:\n",
    "        pd.DataFrame: A DataFrame containing:\n",
    "            - 'collection'\n",
    "            - 'reference'\n",
    "            - 'best_sell_price': The highest price found for the product.\n",
    "            - 'best_sell_country': The country corresponding to the highest price.\n",
    "            - 'min_price': The minimum price for the product.\n",
    "            - 'min_price_country': The country where the minimum price is found.\n",
    "            - 'profit': The potential profit from buying at the cheapest price and selling at the highest price.\n",
    "    \"\"\"\n",
    "    group_cols = ['collection', 'reference']\n",
    "\n",
    "    # Find the best selling price (highest price) and the country\n",
    "    best_sell = data.loc[data.groupby(group_cols)['price_USD'].idxmax()].copy()\n",
    "    best_sell = best_sell[['collection', 'reference', 'price_USD', 'country']]\n",
    "    best_sell.rename(columns={'price_USD': 'best_sell_price', 'country': 'best_sell_country'}, inplace=True)\n",
    "\n",
    "    # Find the minimum price and its country\n",
    "    min_price = data.loc[data.groupby(group_cols)['price_USD'].idxmin()].copy()\n",
    "    min_price = min_price[['collection', 'reference', 'price_USD', 'country']]\n",
    "    min_price.rename(columns={'price_USD': 'min_price', 'country': 'min_price_country'}, inplace=True)\n",
    "\n",
    "    # Merge both DataFrames to have best selling and minimum price information in one table\n",
    "    result = pd.merge(best_sell, min_price, on=['collection', 'reference'], how='left')\n",
    "\n",
    "    # Calculate potential profit\n",
    "    result['profit'] = result['best_sell_price'] - result['min_price']\n",
    "\n",
    "    # Save the results\n",
    "    result.to_csv('best_sell_prices_with_profit.csv', index=False)\n",
    "    \n",
    "    return result"
   ]
  },
  {
   "cell_type": "markdown",
   "id": "991182f3",
   "metadata": {},
   "source": [
    "#### 7. The sum of potential profits per collection"
   ]
  },
  {
   "cell_type": "code",
   "execution_count": 12,
   "id": "3af02803",
   "metadata": {},
   "outputs": [],
   "source": [
    "def sum_profit(data: pd.DataFrame):\n",
    "    \"\"\"\n",
    "    Computes the sum of potential profits per collection.\n",
    "\n",
    "    Parameters:\n",
    "        data (pd.DataFrame): DataFrame with best sell prices and profit computed.\n",
    "\n",
    "    Returns:\n",
    "        Dictionary of DataFrames:\n",
    "            - 'profit_by_reference': Profit summed per country based on product reference.\n",
    "            - 'profit_by_collection': Profit summed per country based on collection.\n",
    "    \"\"\"\n",
    "    \n",
    "    # Aggregate total profit per country (based on reference)\n",
    "    global_profit = data['profit'].sum()\n",
    "\n",
    "    # Aggregate total profit per country (based on collection)\n",
    "    profit_by_collection = data.groupby('collection', as_index=False)['profit'].sum()\n",
    "    profit_by_collection.rename(columns={'profit': 'total_profit_by_collection ($)'}, inplace=True)\n",
    "\n",
    "    return {\n",
    "        \"global_profit\": global_profit,\n",
    "        \"profit_by_collection\": profit_by_collection\n",
    "    }"
   ]
  },
  {
   "cell_type": "markdown",
   "id": "fd7c7667",
   "metadata": {},
   "source": [
    "#### 8. Products Availability"
   ]
  },
  {
   "cell_type": "code",
   "execution_count": 80,
   "id": "1c73a293",
   "metadata": {},
   "outputs": [],
   "source": [
    "def available_product(data, country=None):\n",
    "    if country:\n",
    "        data = data[data['country'] == country]\n",
    "\n",
    "    data = data[data['availability'] == 'Available']\n",
    "    total_available_products = len(data['availability'].values)\n",
    "    data = data[['country', 'collection', 'reference', 'price_USD']]\n",
    "    \n",
    "    if country:\n",
    "        data.to_csv(f\"../data/gold/Available_product_{country}_2025.csv\")\n",
    "    data.to_csv(f\"../data/gold/Available_product_2025.csv\", index=False)\n",
    "    \n",
    "    return data, total_available_products"
   ]
  },
  {
   "cell_type": "markdown",
   "id": "e69fd4a2",
   "metadata": {},
   "source": [
    "# 1. Import librariries"
   ]
  },
  {
   "cell_type": "code",
   "execution_count": 81,
   "id": "eac1aef3",
   "metadata": {},
   "outputs": [],
   "source": [
    "import pandas as pd\n",
    "import numpy as np\n",
    "import seaborn as sns\n",
    "import matplotlib.pyplot as plt"
   ]
  },
  {
   "cell_type": "markdown",
   "id": "7fccb00f",
   "metadata": {},
   "source": [
    "# 2. Load & Read the Data"
   ]
  },
  {
   "cell_type": "code",
   "execution_count": 82,
   "id": "e49cb090",
   "metadata": {
    "scrolled": true
   },
   "outputs": [
    {
     "data": {
      "text/html": [
       "<div>\n",
       "<style scoped>\n",
       "    .dataframe tbody tr th:only-of-type {\n",
       "        vertical-align: middle;\n",
       "    }\n",
       "\n",
       "    .dataframe tbody tr th {\n",
       "        vertical-align: top;\n",
       "    }\n",
       "\n",
       "    .dataframe thead th {\n",
       "        text-align: right;\n",
       "    }\n",
       "</style>\n",
       "<table border=\"1\" class=\"dataframe\">\n",
       "  <thead>\n",
       "    <tr style=\"text-align: right;\">\n",
       "      <th></th>\n",
       "      <th>reference</th>\n",
       "      <th>year</th>\n",
       "      <th>image_url</th>\n",
       "      <th>collection</th>\n",
       "      <th>brand</th>\n",
       "      <th>country</th>\n",
       "      <th>price</th>\n",
       "      <th>product_url</th>\n",
       "      <th>currency</th>\n",
       "      <th>name</th>\n",
       "      <th>availability</th>\n",
       "      <th>currency_code</th>\n",
       "      <th>price_JPY</th>\n",
       "      <th>price_USD</th>\n",
       "      <th>price_GBP</th>\n",
       "      <th>price_EUR</th>\n",
       "    </tr>\n",
       "  </thead>\n",
       "  <tbody>\n",
       "    <tr>\n",
       "      <th>0</th>\n",
       "      <td>PAM01570</td>\n",
       "      <td>2025</td>\n",
       "      <td>https://www.panerai.com/content/dam/rcq/pan/km...</td>\n",
       "      <td>Radiomir</td>\n",
       "      <td>PANERAI</td>\n",
       "      <td>USA</td>\n",
       "      <td>6000</td>\n",
       "      <td>https://www.panerai.com/us/en/collections/watc...</td>\n",
       "      <td>$</td>\n",
       "      <td>Radiomir Quaranta</td>\n",
       "      <td>Available</td>\n",
       "      <td>USD</td>\n",
       "      <td>903423.0</td>\n",
       "      <td>6000.0</td>\n",
       "      <td>4764.0</td>\n",
       "      <td>5776.80</td>\n",
       "    </tr>\n",
       "    <tr>\n",
       "      <th>1</th>\n",
       "      <td>PAM01571</td>\n",
       "      <td>2025</td>\n",
       "      <td>https://www.panerai.com/content/dam/rcq/pan/Ot...</td>\n",
       "      <td>Radiomir</td>\n",
       "      <td>PANERAI</td>\n",
       "      <td>USA</td>\n",
       "      <td>6000</td>\n",
       "      <td>https://www.panerai.com/us/en/collections/watc...</td>\n",
       "      <td>$</td>\n",
       "      <td>Radiomir Quaranta</td>\n",
       "      <td>Out of Stock</td>\n",
       "      <td>USD</td>\n",
       "      <td>903423.0</td>\n",
       "      <td>6000.0</td>\n",
       "      <td>4764.0</td>\n",
       "      <td>5776.80</td>\n",
       "    </tr>\n",
       "    <tr>\n",
       "      <th>2</th>\n",
       "      <td>PAM01572</td>\n",
       "      <td>2025</td>\n",
       "      <td>https://www.panerai.com/content/dam/rcq/pan/lz...</td>\n",
       "      <td>Radiomir</td>\n",
       "      <td>PANERAI</td>\n",
       "      <td>USA</td>\n",
       "      <td>6000</td>\n",
       "      <td>https://www.panerai.com/us/en/collections/watc...</td>\n",
       "      <td>$</td>\n",
       "      <td>Radiomir Quaranta</td>\n",
       "      <td>Available</td>\n",
       "      <td>USD</td>\n",
       "      <td>903423.0</td>\n",
       "      <td>6000.0</td>\n",
       "      <td>4764.0</td>\n",
       "      <td>5776.80</td>\n",
       "    </tr>\n",
       "    <tr>\n",
       "      <th>3</th>\n",
       "      <td>PAM01573</td>\n",
       "      <td>2025</td>\n",
       "      <td>https://www.panerai.com/content/dam/rcq/pan/iY...</td>\n",
       "      <td>Radiomir</td>\n",
       "      <td>PANERAI</td>\n",
       "      <td>USA</td>\n",
       "      <td>6000</td>\n",
       "      <td>https://www.panerai.com/us/en/collections/watc...</td>\n",
       "      <td>$</td>\n",
       "      <td>Radiomir Quaranta</td>\n",
       "      <td>Available</td>\n",
       "      <td>USD</td>\n",
       "      <td>903423.0</td>\n",
       "      <td>6000.0</td>\n",
       "      <td>4764.0</td>\n",
       "      <td>5776.80</td>\n",
       "    </tr>\n",
       "    <tr>\n",
       "      <th>4</th>\n",
       "      <td>PAM01385</td>\n",
       "      <td>2025</td>\n",
       "      <td>https://www.panerai.com/content/dam/rcq/pan/bc...</td>\n",
       "      <td>Radiomir</td>\n",
       "      <td>PANERAI</td>\n",
       "      <td>USA</td>\n",
       "      <td>5400</td>\n",
       "      <td>https://www.panerai.com/us/en/collections/watc...</td>\n",
       "      <td>$</td>\n",
       "      <td>Radiomir Officine</td>\n",
       "      <td>Out of Stock</td>\n",
       "      <td>USD</td>\n",
       "      <td>813080.7</td>\n",
       "      <td>5400.0</td>\n",
       "      <td>4287.6</td>\n",
       "      <td>5199.12</td>\n",
       "    </tr>\n",
       "  </tbody>\n",
       "</table>\n",
       "</div>"
      ],
      "text/plain": [
       "  reference  year                                          image_url  \\\n",
       "0  PAM01570  2025  https://www.panerai.com/content/dam/rcq/pan/km...   \n",
       "1  PAM01571  2025  https://www.panerai.com/content/dam/rcq/pan/Ot...   \n",
       "2  PAM01572  2025  https://www.panerai.com/content/dam/rcq/pan/lz...   \n",
       "3  PAM01573  2025  https://www.panerai.com/content/dam/rcq/pan/iY...   \n",
       "4  PAM01385  2025  https://www.panerai.com/content/dam/rcq/pan/bc...   \n",
       "\n",
       "  collection    brand country  price  \\\n",
       "0   Radiomir  PANERAI     USA   6000   \n",
       "1   Radiomir  PANERAI     USA   6000   \n",
       "2   Radiomir  PANERAI     USA   6000   \n",
       "3   Radiomir  PANERAI     USA   6000   \n",
       "4   Radiomir  PANERAI     USA   5400   \n",
       "\n",
       "                                         product_url currency  \\\n",
       "0  https://www.panerai.com/us/en/collections/watc...        $   \n",
       "1  https://www.panerai.com/us/en/collections/watc...        $   \n",
       "2  https://www.panerai.com/us/en/collections/watc...        $   \n",
       "3  https://www.panerai.com/us/en/collections/watc...        $   \n",
       "4  https://www.panerai.com/us/en/collections/watc...        $   \n",
       "\n",
       "                name  availability currency_code  price_JPY  price_USD  \\\n",
       "0  Radiomir Quaranta     Available           USD   903423.0     6000.0   \n",
       "1  Radiomir Quaranta  Out of Stock           USD   903423.0     6000.0   \n",
       "2  Radiomir Quaranta     Available           USD   903423.0     6000.0   \n",
       "3  Radiomir Quaranta     Available           USD   903423.0     6000.0   \n",
       "4  Radiomir Officine  Out of Stock           USD   813080.7     5400.0   \n",
       "\n",
       "   price_GBP  price_EUR  \n",
       "0     4764.0    5776.80  \n",
       "1     4764.0    5776.80  \n",
       "2     4764.0    5776.80  \n",
       "3     4764.0    5776.80  \n",
       "4     4287.6    5199.12  "
      ]
     },
     "execution_count": 82,
     "metadata": {},
     "output_type": "execute_result"
    }
   ],
   "source": [
    "data = pd.read_csv(r\"../data/silver/2025-03-01_13-24-45/PANERAI_DATA_2025.csv\")\n",
    "data.head()"
   ]
  },
  {
   "cell_type": "markdown",
   "id": "fca61191",
   "metadata": {},
   "source": [
    "# 3. Exploratory Data Analysis (EDA)\n",
    "\n",
    "### 3.1. Columns list"
   ]
  },
  {
   "cell_type": "code",
   "execution_count": 83,
   "id": "ff453386",
   "metadata": {},
   "outputs": [
    {
     "name": "stdout",
     "output_type": "stream",
     "text": [
      "List of column name:\n",
      "\n",
      "\t1. reference\n",
      "\t2. year\n",
      "\t3. image_url\n",
      "\t4. collection\n",
      "\t5. brand\n",
      "\t6. country\n",
      "\t7. price\n",
      "\t8. product_url\n",
      "\t9. currency\n",
      "\t10. name\n",
      "\t11. availability\n",
      "\t12. currency_code\n",
      "\t13. price_JPY\n",
      "\t14. price_USD\n",
      "\t15. price_GBP\n",
      "\t16. price_EUR\n"
     ]
    }
   ],
   "source": [
    "column_list = list(data.columns)\n",
    "\n",
    "print(\"List of column name:\\n\")\n",
    "for i in range(len(column_list)):\n",
    "    print(f\"\\t{i+1}. {column_list[i]}\")"
   ]
  },
  {
   "cell_type": "markdown",
   "id": "fb130762",
   "metadata": {},
   "source": [
    "### 3.2. Data types discovery"
   ]
  },
  {
   "cell_type": "code",
   "execution_count": 84,
   "id": "d53ea266",
   "metadata": {
    "scrolled": true
   },
   "outputs": [
    {
     "name": "stdout",
     "output_type": "stream",
     "text": [
      "<class 'pandas.core.frame.DataFrame'>\n",
      "RangeIndex: 590 entries, 0 to 589\n",
      "Data columns (total 16 columns):\n",
      " #   Column         Non-Null Count  Dtype  \n",
      "---  ------         --------------  -----  \n",
      " 0   reference      590 non-null    object \n",
      " 1   year           590 non-null    int64  \n",
      " 2   image_url      590 non-null    object \n",
      " 3   collection     590 non-null    object \n",
      " 4   brand          590 non-null    object \n",
      " 5   country        590 non-null    object \n",
      " 6   price          590 non-null    int64  \n",
      " 7   product_url    590 non-null    object \n",
      " 8   currency       590 non-null    object \n",
      " 9   name           590 non-null    object \n",
      " 10  availability   590 non-null    object \n",
      " 11  currency_code  590 non-null    object \n",
      " 12  price_JPY      590 non-null    float64\n",
      " 13  price_USD      590 non-null    float64\n",
      " 14  price_GBP      590 non-null    float64\n",
      " 15  price_EUR      590 non-null    float64\n",
      "dtypes: float64(4), int64(2), object(10)\n",
      "memory usage: 73.9+ KB\n"
     ]
    }
   ],
   "source": [
    "data.info()"
   ]
  },
  {
   "cell_type": "markdown",
   "id": "0b26414f",
   "metadata": {},
   "source": [
    "--------------------------------------------------------------------------------------\n",
    "\n",
    "**The dataset we used in the following use case contains**:\n",
    "\n",
    "    1. 590 row of data\n",
    "    \n",
    "    2. 10 categoircal columns\n",
    "    \n",
    "    3. 6 numerical column\n",
    "--------------------------------------------------------------------------------------"
   ]
  },
  {
   "cell_type": "markdown",
   "id": "01e3def9",
   "metadata": {},
   "source": [
    "### 3.3. Check Missing Values"
   ]
  },
  {
   "cell_type": "code",
   "execution_count": 85,
   "id": "00816f1f",
   "metadata": {
    "scrolled": true
   },
   "outputs": [
    {
     "data": {
      "text/plain": [
       "reference        0\n",
       "year             0\n",
       "image_url        0\n",
       "collection       0\n",
       "brand            0\n",
       "country          0\n",
       "price            0\n",
       "product_url      0\n",
       "currency         0\n",
       "name             0\n",
       "availability     0\n",
       "currency_code    0\n",
       "price_JPY        0\n",
       "price_USD        0\n",
       "price_GBP        0\n",
       "price_EUR        0\n",
       "dtype: int64"
      ]
     },
     "execution_count": 85,
     "metadata": {},
     "output_type": "execute_result"
    }
   ],
   "source": [
    "data.isna().sum()"
   ]
  },
  {
   "cell_type": "markdown",
   "id": "3e76a6e3",
   "metadata": {},
   "source": [
    "--------------------------------------------------------------------------------------\n",
    "\n",
    "**Now, the dataset is clean, no more missing values**\n",
    "\n",
    "    ** -> We are ready to GO **\n",
    "\n",
    "--------------------------------------------------------------------------------------"
   ]
  },
  {
   "cell_type": "markdown",
   "id": "bcf4c914",
   "metadata": {},
   "source": [
    "### 3.4. Check for duplicates bases on 'reference' and 'country'"
   ]
  },
  {
   "cell_type": "code",
   "execution_count": 86,
   "id": "c9909899",
   "metadata": {},
   "outputs": [
    {
     "name": "stdout",
     "output_type": "stream",
     "text": [
      "0\n"
     ]
    }
   ],
   "source": [
    "# Check for duplicates based on 'reference', 'country', and 'collection'\n",
    "duplicates = data.duplicated(subset=['reference', 'country']).sum()\n",
    "\n",
    "# Display the duplicate rows\n",
    "print(duplicates)"
   ]
  },
  {
   "cell_type": "markdown",
   "id": "968b5686",
   "metadata": {},
   "source": [
    "### 3.5. Descriptive statistics"
   ]
  },
  {
   "cell_type": "code",
   "execution_count": 87,
   "id": "54469b32",
   "metadata": {},
   "outputs": [
    {
     "data": {
      "text/html": [
       "<div>\n",
       "<style scoped>\n",
       "    .dataframe tbody tr th:only-of-type {\n",
       "        vertical-align: middle;\n",
       "    }\n",
       "\n",
       "    .dataframe tbody tr th {\n",
       "        vertical-align: top;\n",
       "    }\n",
       "\n",
       "    .dataframe thead th {\n",
       "        text-align: right;\n",
       "    }\n",
       "</style>\n",
       "<table border=\"1\" class=\"dataframe\">\n",
       "  <thead>\n",
       "    <tr style=\"text-align: right;\">\n",
       "      <th></th>\n",
       "      <th>reference</th>\n",
       "      <th>image_url</th>\n",
       "      <th>collection</th>\n",
       "      <th>brand</th>\n",
       "      <th>country</th>\n",
       "      <th>product_url</th>\n",
       "      <th>currency</th>\n",
       "      <th>name</th>\n",
       "      <th>availability</th>\n",
       "      <th>currency_code</th>\n",
       "    </tr>\n",
       "  </thead>\n",
       "  <tbody>\n",
       "    <tr>\n",
       "      <th>count</th>\n",
       "      <td>590</td>\n",
       "      <td>590</td>\n",
       "      <td>590</td>\n",
       "      <td>590</td>\n",
       "      <td>590</td>\n",
       "      <td>590</td>\n",
       "      <td>590</td>\n",
       "      <td>590</td>\n",
       "      <td>590</td>\n",
       "      <td>590</td>\n",
       "    </tr>\n",
       "    <tr>\n",
       "      <th>unique</th>\n",
       "      <td>149</td>\n",
       "      <td>149</td>\n",
       "      <td>4</td>\n",
       "      <td>1</td>\n",
       "      <td>4</td>\n",
       "      <td>590</td>\n",
       "      <td>4</td>\n",
       "      <td>174</td>\n",
       "      <td>2</td>\n",
       "      <td>4</td>\n",
       "    </tr>\n",
       "    <tr>\n",
       "      <th>top</th>\n",
       "      <td>PAM01570</td>\n",
       "      <td>https://www.panerai.com/content/dam/rcq/pan/km...</td>\n",
       "      <td>Luminor</td>\n",
       "      <td>PANERAI</td>\n",
       "      <td>USA</td>\n",
       "      <td>https://www.panerai.com/us/en/collections/watc...</td>\n",
       "      <td>$</td>\n",
       "      <td>Luminor Due</td>\n",
       "      <td>Available</td>\n",
       "      <td>USD</td>\n",
       "    </tr>\n",
       "    <tr>\n",
       "      <th>freq</th>\n",
       "      <td>4</td>\n",
       "      <td>4</td>\n",
       "      <td>215</td>\n",
       "      <td>590</td>\n",
       "      <td>149</td>\n",
       "      <td>1</td>\n",
       "      <td>149</td>\n",
       "      <td>41</td>\n",
       "      <td>418</td>\n",
       "      <td>149</td>\n",
       "    </tr>\n",
       "  </tbody>\n",
       "</table>\n",
       "</div>"
      ],
      "text/plain": [
       "       reference                                          image_url  \\\n",
       "count        590                                                590   \n",
       "unique       149                                                149   \n",
       "top     PAM01570  https://www.panerai.com/content/dam/rcq/pan/km...   \n",
       "freq           4                                                  4   \n",
       "\n",
       "       collection    brand country  \\\n",
       "count         590      590     590   \n",
       "unique          4        1       4   \n",
       "top       Luminor  PANERAI     USA   \n",
       "freq          215      590     149   \n",
       "\n",
       "                                              product_url currency  \\\n",
       "count                                                 590      590   \n",
       "unique                                                590        4   \n",
       "top     https://www.panerai.com/us/en/collections/watc...        $   \n",
       "freq                                                    1      149   \n",
       "\n",
       "               name availability currency_code  \n",
       "count           590          590           590  \n",
       "unique          174            2             4  \n",
       "top     Luminor Due    Available           USD  \n",
       "freq             41          418           149  "
      ]
     },
     "execution_count": 87,
     "metadata": {},
     "output_type": "execute_result"
    }
   ],
   "source": [
    "stats = data.describe(include=\"object\")\n",
    "stats"
   ]
  },
  {
   "cell_type": "code",
   "execution_count": 88,
   "id": "5c380d42",
   "metadata": {},
   "outputs": [
    {
     "name": "stdout",
     "output_type": "stream",
     "text": [
      "Number of rows: 590\n",
      "\n",
      "We have 4 collections, and Luminor is the leading one\n",
      "\n",
      "Catalog of Collections:\n",
      "1. Radiomir\n",
      "2. Luminor\n",
      "3. Submersible\n",
      "4. Luminor Due\n",
      "\n",
      "We have a total of 149 distinct products, with PAM00422 leading the selection from the Luminor collection\n"
     ]
    }
   ],
   "source": [
    "# Now use the function on your original data\n",
    "number_rows, number_unique_collections, top_collection, number_unique_references, top_reference, collection_list = describe_country(data)\n",
    "\n",
    "print(f\"Number of rows: {number_rows}\")\n",
    "if number_unique_collections == 1:\n",
    "    print(f\"\\nThere is a unique collection, named {top_collection}\")\n",
    "else:\n",
    "    print(f\"\\nWe have {number_unique_collections} collections, and {top_collection} is the leading one\")\n",
    "\n",
    "print(\"\\nCatalog of Collections:\")\n",
    "print(\"\\n\".join([f\"{i+1}. {collection}\" for i, collection in enumerate(collection_list)]))\n",
    "\n",
    "if number_unique_references == 1:\n",
    "    print(f\"\\nThere is a unique reference: {top_reference}\")\n",
    "else:\n",
    "    # Use the original data for lookup, not the summary!\n",
    "    collection_for_top_reference = data[data['reference'] == top_reference]['collection'].iloc[0]\n",
    "    print(f\"\\nWe have a total of {number_unique_references} distinct products, with {top_reference} leading the selection from the {collection_for_top_reference} collection\")\n"
   ]
  },
  {
   "cell_type": "code",
   "execution_count": 89,
   "id": "af3c1f79",
   "metadata": {},
   "outputs": [
    {
     "name": "stdout",
     "output_type": "stream",
     "text": [
      "There is a unique brand, named PANERAI\n"
     ]
    }
   ],
   "source": [
    "# Brand\n",
    "number_unique_brands, top_brand = stats[\"brand\"].unique()[1], stats[\"brand\"].unique()[2]\n",
    "if number_unique_brands == 1:\n",
    "    print(f\"There is a unique brand, named {top_brand}\")\n",
    "else:\n",
    "    print(f\"There is {number_unique_brands} brands, and {top_brand} is the leading one\")"
   ]
  },
  {
   "cell_type": "code",
   "execution_count": 90,
   "id": "66c98e27",
   "metadata": {},
   "outputs": [
    {
     "name": "stdout",
     "output_type": "stream",
     "text": [
      "Our study is applied to 4 countries, with USA being the top one\n"
     ]
    }
   ],
   "source": [
    "# Countries\n",
    "number_unique_countries, top_country = stats[\"country\"].unique()[1], stats[\"country\"].unique()[2]\n",
    "if number_unique_countries == 1:\n",
    "    print(f\"Our study is applied to a unique country, {top_country}\")\n",
    "else:\n",
    "    print(f\"Our study is applied to {number_unique_countries} countries, with {top_country} being the top one\")"
   ]
  },
  {
   "cell_type": "code",
   "execution_count": 91,
   "id": "5360c316",
   "metadata": {},
   "outputs": [
    {
     "name": "stdout",
     "output_type": "stream",
     "text": [
      "Countries Included in the Study:\n",
      "\n",
      "\t1. USA\n",
      "\t2. France\n",
      "\t3. UK\n",
      "\t4. Japan\n"
     ]
    }
   ],
   "source": [
    "countries_list = data[\"country\"].unique()\n",
    "\n",
    "print(\"Countries Included in the Study:\\n\")\n",
    "for i in range(len(countries_list)):\n",
    "    print(f\"\\t{i+1}. {countries_list[i]}\")"
   ]
  },
  {
   "cell_type": "code",
   "execution_count": 92,
   "id": "7ed860a9",
   "metadata": {
    "scrolled": true
   },
   "outputs": [
    {
     "data": {
      "image/png": "[encoded data removed]",
      "text/plain": [
       "<Figure size 640x480 with 1 Axes>"
      ]
     },
     "metadata": {},
     "output_type": "display_data"
    }
   ],
   "source": [
    "collection_visualization(data)"
   ]
  },
  {
   "cell_type": "markdown",
   "id": "203276ef",
   "metadata": {},
   "source": [
    "## 4. Business Analysis"
   ]
  },
  {
   "cell_type": "markdown",
   "id": "f6a50cd8",
   "metadata": {},
   "source": [
    "## 4.1. Analysis of the global data"
   ]
  },
  {
   "cell_type": "markdown",
   "id": "593ddf9a",
   "metadata": {},
   "source": [
    "#### 4.1.1. Top products with the highest price difference (difference from the minimum price)"
   ]
  },
  {
   "cell_type": "code",
   "execution_count": 93,
   "id": "87112c9e",
   "metadata": {},
   "outputs": [
    {
     "name": "stdout",
     "output_type": "stream",
     "text": [
      "Top 5 products with the highest price difference:\n"
     ]
    },
    {
     "data": {
      "text/html": [
       "<div>\n",
       "<style scoped>\n",
       "    .dataframe tbody tr th:only-of-type {\n",
       "        vertical-align: middle;\n",
       "    }\n",
       "\n",
       "    .dataframe tbody tr th {\n",
       "        vertical-align: top;\n",
       "    }\n",
       "\n",
       "    .dataframe thead th {\n",
       "        text-align: right;\n",
       "    }\n",
       "</style>\n",
       "<table border=\"1\" class=\"dataframe\">\n",
       "  <thead>\n",
       "    <tr style=\"text-align: right;\">\n",
       "      <th></th>\n",
       "      <th>name</th>\n",
       "      <th>country</th>\n",
       "      <th>min_price_country</th>\n",
       "      <th>product_url</th>\n",
       "      <th>collection</th>\n",
       "      <th>reference</th>\n",
       "      <th>price_USD</th>\n",
       "      <th>min_price</th>\n",
       "      <th>price_diff</th>\n",
       "    </tr>\n",
       "  </thead>\n",
       "  <tbody>\n",
       "    <tr>\n",
       "      <th>230</th>\n",
       "      <td>Submersible Tourbillon GMT Luna Rossa Experien...</td>\n",
       "      <td>France</td>\n",
       "      <td>USA</td>\n",
       "      <td>https://www.panerai.com/fr/fr/collections/watc...</td>\n",
       "      <td>Submersible</td>\n",
       "      <td>PAM01405</td>\n",
       "      <td>202527.000</td>\n",
       "      <td>168200.0</td>\n",
       "      <td>34327.000</td>\n",
       "    </tr>\n",
       "    <tr>\n",
       "      <th>223</th>\n",
       "      <td>Luminor Tourbillon GMT</td>\n",
       "      <td>France</td>\n",
       "      <td>USA</td>\n",
       "      <td>https://www.panerai.com/fr/fr/collections/watc...</td>\n",
       "      <td>Luminor</td>\n",
       "      <td>PAM01060</td>\n",
       "      <td>196295.400</td>\n",
       "      <td>163700.0</td>\n",
       "      <td>32595.400</td>\n",
       "    </tr>\n",
       "    <tr>\n",
       "      <th>517</th>\n",
       "      <td>Luminor Tourbillon Moon Phases Equation of Tim...</td>\n",
       "      <td>Japan</td>\n",
       "      <td>USA</td>\n",
       "      <td>https://www.panerai.com/jp/ja/collections/watc...</td>\n",
       "      <td>Luminor</td>\n",
       "      <td>PAM00920</td>\n",
       "      <td>264663.773</td>\n",
       "      <td>233800.0</td>\n",
       "      <td>30863.773</td>\n",
       "    </tr>\n",
       "    <tr>\n",
       "      <th>164</th>\n",
       "      <td>Radiomir Tourbillon GMT Bronzo</td>\n",
       "      <td>France</td>\n",
       "      <td>USA</td>\n",
       "      <td>https://www.panerai.com/fr/fr/collections/watc...</td>\n",
       "      <td>Radiomir</td>\n",
       "      <td>PAM01284</td>\n",
       "      <td>176562.000</td>\n",
       "      <td>146700.0</td>\n",
       "      <td>29862.000</td>\n",
       "    </tr>\n",
       "    <tr>\n",
       "      <th>258</th>\n",
       "      <td>Submersible Elux LAB-ID</td>\n",
       "      <td>France</td>\n",
       "      <td>USA</td>\n",
       "      <td>https://www.panerai.com/fr/fr/collections/watc...</td>\n",
       "      <td>Submersible</td>\n",
       "      <td>PAM01800</td>\n",
       "      <td>112168.800</td>\n",
       "      <td>93200.0</td>\n",
       "      <td>18968.800</td>\n",
       "    </tr>\n",
       "  </tbody>\n",
       "</table>\n",
       "</div>"
      ],
      "text/plain": [
       "                                                  name country  \\\n",
       "230  Submersible Tourbillon GMT Luna Rossa Experien...  France   \n",
       "223                             Luminor Tourbillon GMT  France   \n",
       "517  Luminor Tourbillon Moon Phases Equation of Tim...   Japan   \n",
       "164                     Radiomir Tourbillon GMT Bronzo  France   \n",
       "258                            Submersible Elux LAB-ID  France   \n",
       "\n",
       "    min_price_country                                        product_url  \\\n",
       "230               USA  https://www.panerai.com/fr/fr/collections/watc...   \n",
       "223               USA  https://www.panerai.com/fr/fr/collections/watc...   \n",
       "517               USA  https://www.panerai.com/jp/ja/collections/watc...   \n",
       "164               USA  https://www.panerai.com/fr/fr/collections/watc...   \n",
       "258               USA  https://www.panerai.com/fr/fr/collections/watc...   \n",
       "\n",
       "      collection reference   price_USD  min_price  price_diff  \n",
       "230  Submersible  PAM01405  202527.000   168200.0   34327.000  \n",
       "223      Luminor  PAM01060  196295.400   163700.0   32595.400  \n",
       "517      Luminor  PAM00920  264663.773   233800.0   30863.773  \n",
       "164     Radiomir  PAM01284  176562.000   146700.0   29862.000  \n",
       "258  Submersible  PAM01800  112168.800    93200.0   18968.800  "
      ]
     },
     "execution_count": 93,
     "metadata": {},
     "output_type": "execute_result"
    }
   ],
   "source": [
    "data_with_diff = calculate_price_difference(data)\n",
    "\n",
    "print(\"Top 5 products with the highest price difference:\")\n",
    "# Group by product and pick the row with the maximum price difference per product\n",
    "top_diff = data_with_diff.sort_values('price_diff', ascending=False).drop_duplicates(subset=['collection', 'reference'])\n",
    "top_diff.head()"
   ]
  },
  {
   "cell_type": "markdown",
   "id": "915ad1e1",
   "metadata": {},
   "source": [
    "#### 4.1.2. The Product Offered by the Country with the Cheapest Price"
   ]
  },
  {
   "cell_type": "code",
   "execution_count": 94,
   "id": "71a8bce1",
   "metadata": {},
   "outputs": [
    {
     "name": "stdout",
     "output_type": "stream",
     "text": [
      "\n",
      "Cheapest prices per product:\n",
      "   collection reference  cheapest_price cheapest_country\n",
      "33    Luminor  PAM00422         11300.0              USA\n",
      "74    Luminor  PAM00670         24000.0              USA\n",
      "72    Luminor  PAM00715         62400.0              USA\n",
      "71    Luminor  PAM00742         45100.0              USA\n",
      "30    Luminor  PAM00914          7100.0              USA\n"
     ]
    }
   ],
   "source": [
    "cheapest_prices = find_cheapest_prices(data_with_diff)\n",
    "\n",
    "print(\"\\nCheapest prices per product:\")\n",
    "print(cheapest_prices.head())"
   ]
  },
  {
   "cell_type": "markdown",
   "id": "9920e456",
   "metadata": {},
   "source": [
    "#### 4.1.3. The best selling option"
   ]
  },
  {
   "cell_type": "code",
   "execution_count": 95,
   "id": "5c6b7649",
   "metadata": {},
   "outputs": [
    {
     "name": "stdout",
     "output_type": "stream",
     "text": [
      "\n",
      "Best selling prices by product (sample):\n"
     ]
    },
    {
     "data": {
      "text/html": [
       "<div>\n",
       "<style scoped>\n",
       "    .dataframe tbody tr th:only-of-type {\n",
       "        vertical-align: middle;\n",
       "    }\n",
       "\n",
       "    .dataframe tbody tr th {\n",
       "        vertical-align: top;\n",
       "    }\n",
       "\n",
       "    .dataframe thead th {\n",
       "        text-align: right;\n",
       "    }\n",
       "</style>\n",
       "<table border=\"1\" class=\"dataframe\">\n",
       "  <thead>\n",
       "    <tr style=\"text-align: right;\">\n",
       "      <th></th>\n",
       "      <th>collection</th>\n",
       "      <th>reference</th>\n",
       "      <th>best_sell_price</th>\n",
       "      <th>best_sell_country</th>\n",
       "      <th>min_price</th>\n",
       "      <th>min_price_country</th>\n",
       "      <th>profit</th>\n",
       "    </tr>\n",
       "  </thead>\n",
       "  <tbody>\n",
       "    <tr>\n",
       "      <th>0</th>\n",
       "      <td>Luminor</td>\n",
       "      <td>PAM00422</td>\n",
       "      <td>12342.12</td>\n",
       "      <td>UK</td>\n",
       "      <td>11300.000</td>\n",
       "      <td>USA</td>\n",
       "      <td>1042.120</td>\n",
       "    </tr>\n",
       "    <tr>\n",
       "      <th>1</th>\n",
       "      <td>Luminor</td>\n",
       "      <td>PAM00670</td>\n",
       "      <td>26069.58</td>\n",
       "      <td>UK</td>\n",
       "      <td>24000.000</td>\n",
       "      <td>USA</td>\n",
       "      <td>2069.580</td>\n",
       "    </tr>\n",
       "    <tr>\n",
       "      <th>2</th>\n",
       "      <td>Luminor</td>\n",
       "      <td>PAM00715</td>\n",
       "      <td>74779.20</td>\n",
       "      <td>France</td>\n",
       "      <td>62400.000</td>\n",
       "      <td>USA</td>\n",
       "      <td>12379.200</td>\n",
       "    </tr>\n",
       "    <tr>\n",
       "      <th>3</th>\n",
       "      <td>Luminor</td>\n",
       "      <td>PAM00742</td>\n",
       "      <td>54007.20</td>\n",
       "      <td>France</td>\n",
       "      <td>45100.000</td>\n",
       "      <td>USA</td>\n",
       "      <td>8907.200</td>\n",
       "    </tr>\n",
       "    <tr>\n",
       "      <th>4</th>\n",
       "      <td>Luminor</td>\n",
       "      <td>PAM00914</td>\n",
       "      <td>7682.34</td>\n",
       "      <td>UK</td>\n",
       "      <td>7085.947</td>\n",
       "      <td>Japan</td>\n",
       "      <td>596.393</td>\n",
       "    </tr>\n",
       "  </tbody>\n",
       "</table>\n",
       "</div>"
      ],
      "text/plain": [
       "  collection reference  best_sell_price best_sell_country  min_price  \\\n",
       "0    Luminor  PAM00422         12342.12                UK  11300.000   \n",
       "1    Luminor  PAM00670         26069.58                UK  24000.000   \n",
       "2    Luminor  PAM00715         74779.20            France  62400.000   \n",
       "3    Luminor  PAM00742         54007.20            France  45100.000   \n",
       "4    Luminor  PAM00914          7682.34                UK   7085.947   \n",
       "\n",
       "  min_price_country     profit  \n",
       "0               USA   1042.120  \n",
       "1               USA   2069.580  \n",
       "2               USA  12379.200  \n",
       "3               USA   8907.200  \n",
       "4             Japan    596.393  "
      ]
     },
     "execution_count": 95,
     "metadata": {},
     "output_type": "execute_result"
    }
   ],
   "source": [
    "best_sell_prices = find_best_sell_prices(data)\n",
    "\n",
    "print(\"\\nBest selling prices by product (sample):\")\n",
    "best_sell_prices.head(5)"
   ]
  },
  {
   "cell_type": "markdown",
   "id": "cfe81d5e",
   "metadata": {},
   "source": [
    "#### 4.1.4. The sum of potential profits per collection"
   ]
  },
  {
   "cell_type": "code",
   "execution_count": 96,
   "id": "77730f9f",
   "metadata": {},
   "outputs": [
    {
     "name": "stdout",
     "output_type": "stream",
     "text": [
      "Total Profit: 408164.128 $\n",
      "\n",
      "Profit by Collection:\n",
      "    collection  total_profit_by_collection ($)\n",
      "0      Luminor                      143942.128\n",
      "1  Luminor Due                       43003.756\n",
      "2     Radiomir                       78308.361\n",
      "3  Submersible                      142909.883\n"
     ]
    }
   ],
   "source": [
    "# Run the function\n",
    "profits = sum_profit(best_sell_prices)\n",
    "\n",
    "# Print the results\n",
    "print(f\"Total Profit: {profits['global_profit']} $\")\n",
    "\n",
    "print(\"\\nProfit by Collection:\")\n",
    "print(profits[\"profit_by_collection\"])\n"
   ]
  },
  {
   "cell_type": "markdown",
   "id": "daa4eb8a",
   "metadata": {},
   "source": [
    "#### 4.1.5. Products availabality"
   ]
  },
  {
   "cell_type": "code",
   "execution_count": 122,
   "id": "db4c1bf9",
   "metadata": {},
   "outputs": [
    {
     "name": "stdout",
     "output_type": "stream",
     "text": [
      "Total of Available products : 114\n",
      "    country collection reference  price_USD\n",
      "149  France   Radiomir  PAM01570    6335.46\n",
      "150  France   Radiomir  PAM01571    6335.46\n",
      "151  France   Radiomir  PAM01572    6335.46\n",
      "152  France   Radiomir  PAM01573    6335.46\n",
      "154  France   Radiomir  PAM01384    5712.30\n"
     ]
    }
   ],
   "source": [
    "available_products, total_available_products = available_product(data)\n",
    "\n",
    "print(f\"Total of Available products : {total_available_products}\")\n",
    "print(available_products.head(5))"
   ]
  },
  {
   "cell_type": "markdown",
   "id": "8e6819f8",
   "metadata": {},
   "source": [
    "## 4.2. Analysis for a given country"
   ]
  },
  {
   "cell_type": "markdown",
   "id": "89fa0754",
   "metadata": {},
   "source": [
    "### 4.2.1. France"
   ]
  },
  {
   "cell_type": "code",
   "execution_count": 148,
   "id": "fd8ac586",
   "metadata": {},
   "outputs": [],
   "source": [
    "country = \"France\""
   ]
  },
  {
   "cell_type": "code",
   "execution_count": 149,
   "id": "e1f0a431",
   "metadata": {},
   "outputs": [
    {
     "name": "stdout",
     "output_type": "stream",
     "text": [
      "Number of rows: 146\n",
      "\n",
      "We have 4 collections, and Luminor is the leading one\n",
      "\n",
      "Catalog of Collections:\n",
      "1. Radiomir\n",
      "2. Luminor\n",
      "3. Submersible\n",
      "4. Luminor Due\n",
      "\n",
      "We have a total of 146 distinct products, with PAM00422 leading the selection from the Luminor collection\n"
     ]
    }
   ],
   "source": [
    "# Now use the function on your original data\n",
    "number_rows, number_unique_collections, top_collection, number_unique_references, top_reference, collection_list = describe_country(data, country = \"France\")\n",
    "\n",
    "print(f\"Number of rows: {number_rows}\")\n",
    "if number_unique_collections == 1:\n",
    "    print(f\"\\nThere is a unique collection, named {top_collection}\")\n",
    "else:\n",
    "    print(f\"\\nWe have {number_unique_collections} collections, and {top_collection} is the leading one\")\n",
    "\n",
    "print(\"\\nCatalog of Collections:\")\n",
    "print(\"\\n\".join([f\"{i+1}. {collection}\" for i, collection in enumerate(collection_list)]))\n",
    "\n",
    "if number_unique_references == 1:\n",
    "    print(f\"\\nThere is a unique reference: {top_reference}\")\n",
    "else:\n",
    "    # Use the original data for lookup, not the summary!\n",
    "    collection_for_top_reference = data[data['reference'] == top_reference]['collection'].iloc[0]\n",
    "    print(f\"\\nWe have a total of {number_unique_references} distinct products, with {top_reference} leading the selection from the {collection_for_top_reference} collection\")\n"
   ]
  },
  {
   "cell_type": "code",
   "execution_count": 150,
   "id": "384b6d30",
   "metadata": {},
   "outputs": [
    {
     "data": {
      "image/png": "[encoded data removed]",
      "text/plain": [
       "<Figure size 640x480 with 1 Axes>"
      ]
     },
     "metadata": {},
     "output_type": "display_data"
    }
   ],
   "source": [
    "collection_visualization(data, country)"
   ]
  },
  {
   "cell_type": "code",
   "execution_count": 151,
   "id": "42ce73d4",
   "metadata": {},
   "outputs": [],
   "source": [
    "overall_stats, collection_stats = analyze_country(data, country)"
   ]
  },
  {
   "cell_type": "markdown",
   "id": "debd0ba9",
   "metadata": {},
   "source": [
    "#### Identify the cheapest and most expensive product in the whole subset"
   ]
  },
  {
   "cell_type": "code",
   "execution_count": 152,
   "id": "ded5a1bf",
   "metadata": {},
   "outputs": [
    {
     "name": "stdout",
     "output_type": "stream",
     "text": [
      "\n",
      "Cheapest and most expensive product in France:\n",
      "  Cheapest -> Collection: Radiomir, Reference: PAM01383, Price: 5000 €\n",
      "  Most Expensive -> Collection: Submersible, Reference: PAM01405, Price: 195000 €\n"
     ]
    }
   ],
   "source": [
    "overall_stats, collection_stats = analyze_country(data, country)\n",
    "\n",
    "print(f\"\\nCheapest and most expensive product in {country}:\")\n",
    "print(f\"  Cheapest -> Collection: {overall_stats['cheapest']['collection']}, Reference: {overall_stats['cheapest']['reference']}, Price: {overall_stats['cheapest']['price']} {(data['currency'][data['country'] == country]).unique()[0]}\")\n",
    "print(f\"  Most Expensive -> Collection: {overall_stats['most_expensive']['collection']}, Reference: {overall_stats['most_expensive']['reference']}, Price: {overall_stats['most_expensive']['price']} {(data['currency'][data['country'] == country]).unique()[0]}\")"
   ]
  },
  {
   "cell_type": "markdown",
   "id": "ec64b412",
   "metadata": {},
   "source": [
    "#### Identify the cheapest and most expensive product per collection"
   ]
  },
  {
   "cell_type": "code",
   "execution_count": 153,
   "id": "356e10db",
   "metadata": {
    "scrolled": true
   },
   "outputs": [
    {
     "name": "stdout",
     "output_type": "stream",
     "text": [
      "Collection: Radiomir\n",
      "  Cheapest -> Reference: PAM01383, Price: 5000 €\n",
      "  Most Expensive -> Reference: PAM01284, Price: 170000 €\n",
      "\n",
      "--------------------------------------------------\n",
      "\n",
      "Collection: Luminor\n",
      "  Cheapest -> Reference: PAM01623, Price: 5700 €\n",
      "  Most Expensive -> Reference: PAM01060, Price: 189000 €\n",
      "\n",
      "--------------------------------------------------\n",
      "\n",
      "Collection: Submersible\n",
      "  Cheapest -> Reference: PAM01590, Price: 9700 €\n",
      "  Most Expensive -> Reference: PAM01405, Price: 195000 €\n",
      "\n",
      "--------------------------------------------------\n",
      "\n",
      "Collection: Luminor Due\n",
      "  Cheapest -> Reference: PAM01248, Price: 7000 €\n",
      "  Most Expensive -> Reference: PAM01494, Price: 42000 €\n",
      "\n",
      "--------------------------------------------------\n",
      "\n"
     ]
    }
   ],
   "source": [
    "for stat in collection_stats:\n",
    "    print(f\"Collection: {stat['collection']}\")\n",
    "    print(f\"  Cheapest -> Reference: {stat['cheapest']['reference']}, Price: {stat['cheapest']['price']} {(data['currency'][data['country'] == country]).unique()[0]}\")\n",
    "    print(f\"  Most Expensive -> Reference: {stat['most_expensive']['reference']}, Price: {stat['most_expensive']['price']} {(data['currency'][data['country'] == country]).unique()[0]}\")\n",
    "    print(\"\\n\"+\"-\"*50+\"\\n\")"
   ]
  },
  {
   "cell_type": "markdown",
   "id": "509a334a",
   "metadata": {},
   "source": [
    "#### Products availabality"
   ]
  },
  {
   "cell_type": "code",
   "execution_count": 154,
   "id": "d32455b1",
   "metadata": {
    "scrolled": false
   },
   "outputs": [
    {
     "name": "stdout",
     "output_type": "stream",
     "text": [
      "Total of Available products : 114\n",
      "    country collection reference  price_USD\n",
      "149  France   Radiomir  PAM01570    6335.46\n",
      "150  France   Radiomir  PAM01571    6335.46\n",
      "151  France   Radiomir  PAM01572    6335.46\n",
      "152  France   Radiomir  PAM01573    6335.46\n",
      "154  France   Radiomir  PAM01384    5712.30\n"
     ]
    }
   ],
   "source": [
    "available_products, total_available_products = available_product(data, country = country)\n",
    "\n",
    "print(f\"Total of Available products : {total_available_products}\")\n",
    "print(available_products.head(5))"
   ]
  },
  {
   "cell_type": "markdown",
   "id": "08371bb8",
   "metadata": {},
   "source": [
    "### 4.2.2. UK"
   ]
  },
  {
   "cell_type": "code",
   "execution_count": 155,
   "id": "98547779",
   "metadata": {},
   "outputs": [],
   "source": [
    "country = \"UK\""
   ]
  },
  {
   "cell_type": "code",
   "execution_count": 156,
   "id": "05c1b399",
   "metadata": {},
   "outputs": [
    {
     "name": "stdout",
     "output_type": "stream",
     "text": [
      "Number of rows: 148\n",
      "\n",
      "We have 4 collections, and Luminor is the leading one\n",
      "\n",
      "Catalog of Collections:\n",
      "1. Radiomir\n",
      "2. Luminor\n",
      "3. Submersible\n",
      "4. Luminor Due\n",
      "\n",
      "We have a Total of 148 distinct products, with PAM00422 leading the selection from Luminor collection\n"
     ]
    }
   ],
   "source": [
    "number_rows, number_unique_collections, top_collection, number_unique_references, top_reference, collection_list = describe_country(data, country)\n",
    "\n",
    "# Number of rows\n",
    "print(f\"Number of rows: {number_rows}\")\n",
    "if number_unique_collections == 1:\n",
    "    print(f\"\\nThere is a unique collection, named {top_collection}\")\n",
    "else:\n",
    "    print(f\"\\nWe have {number_unique_collections} collections, and {top_collection} is the leading one\")\n",
    "\n",
    "# Collections list    \n",
    "print(\"\\nCatalog of Collections:\")\n",
    "print(\"\\n\".join([f\"{i+1}. {collection}\" for i, collection in enumerate(collection_list)]))\n",
    "\n",
    "# Distinct products based on Reference\n",
    "if number_unique_references == 1:\n",
    "    print(f\"\\nThere is a unique reference: {top_reference}\")\n",
    "else:\n",
    "    print(f\"\\nWe have a Total of {number_unique_references} distinct products, with {top_reference} leading the selection from {data[data['reference'] == top_reference]['collection'].values[0]} collection\")"
   ]
  },
  {
   "cell_type": "code",
   "execution_count": 157,
   "id": "c8b07298",
   "metadata": {},
   "outputs": [
    {
     "data": {
      "image/png": "[encoded data removed]",
      "text/plain": [
       "<Figure size 640x480 with 1 Axes>"
      ]
     },
     "metadata": {},
     "output_type": "display_data"
    }
   ],
   "source": [
    "collection_visualization(data, country)"
   ]
  },
  {
   "cell_type": "code",
   "execution_count": 158,
   "id": "89596a68",
   "metadata": {},
   "outputs": [],
   "source": [
    "overall_stats, collection_stats = analyze_country(data, country)"
   ]
  },
  {
   "cell_type": "code",
   "execution_count": 159,
   "id": "226dc1a7",
   "metadata": {},
   "outputs": [
    {
     "name": "stdout",
     "output_type": "stream",
     "text": [
      "\n",
      "Cheapest and most expensive product in UK:\n",
      "  Cheapest -> Collection: Radiomir, Reference: PAM01383, Price: 4300 £\n",
      "  Most Expensive -> Collection: Luminor, Reference: PAM00920, Price: 188200 £\n"
     ]
    }
   ],
   "source": [
    "print(f\"\\nCheapest and most expensive product in {country}:\")\n",
    "print(f\"  Cheapest -> Collection: {overall_stats['cheapest']['collection']}, Reference: {overall_stats['cheapest']['reference']}, Price: {overall_stats['cheapest']['price']} {(data['currency'][data['country'] == country]).unique()[0]}\")\n",
    "print(f\"  Most Expensive -> Collection: {overall_stats['most_expensive']['collection']}, Reference: {overall_stats['most_expensive']['reference']}, Price: {overall_stats['most_expensive']['price']} {(data['currency'][data['country'] == country]).unique()[0]}\")"
   ]
  },
  {
   "cell_type": "code",
   "execution_count": 160,
   "id": "106d5c05",
   "metadata": {},
   "outputs": [
    {
     "name": "stdout",
     "output_type": "stream",
     "text": [
      "Collection: Radiomir\n",
      "  Cheapest -> Reference: PAM01383, Price: 4300 £\n",
      "  Most Expensive -> Reference: PAM01284, Price: 118500 £\n",
      "\n",
      "--------------------------------------------------\n",
      "\n",
      "Collection: Luminor\n",
      "  Cheapest -> Reference: PAM01623, Price: 4900 £\n",
      "  Most Expensive -> Reference: PAM00920, Price: 188200 £\n",
      "\n",
      "--------------------------------------------------\n",
      "\n",
      "Collection: Submersible\n",
      "  Cheapest -> Reference: PAM01590, Price: 8200 £\n",
      "  Most Expensive -> Reference: PAM01405, Price: 135900 £\n",
      "\n",
      "--------------------------------------------------\n",
      "\n",
      "Collection: Luminor Due\n",
      "  Cheapest -> Reference: PAM01248, Price: 6000 £\n",
      "  Most Expensive -> Reference: PAM01494, Price: 35500 £\n",
      "\n",
      "--------------------------------------------------\n",
      "\n"
     ]
    }
   ],
   "source": [
    "for stat in collection_stats:\n",
    "    print(f\"Collection: {stat['collection']}\")\n",
    "    print(f\"  Cheapest -> Reference: {stat['cheapest']['reference']}, Price: {stat['cheapest']['price']} {(data['currency'][data['country'] == country]).unique()[0]}\")\n",
    "    print(f\"  Most Expensive -> Reference: {stat['most_expensive']['reference']}, Price: {stat['most_expensive']['price']} {(data['currency'][data['country'] == country]).unique()[0]}\")\n",
    "    print(\"\\n\"+\"-\"*50+\"\\n\")"
   ]
  },
  {
   "cell_type": "markdown",
   "id": "9a9fc3c9",
   "metadata": {},
   "source": [
    "#### Products availabality"
   ]
  },
  {
   "cell_type": "code",
   "execution_count": 161,
   "id": "dba52038",
   "metadata": {
    "scrolled": true
   },
   "outputs": [
    {
     "name": "stdout",
     "output_type": "stream",
     "text": [
      "Total of Available products in UK : 110\n",
      "    country collection reference  price_USD\n",
      "295      UK   Radiomir  PAM01570    6548.88\n",
      "296      UK   Radiomir  PAM01571    6548.88\n",
      "297      UK   Radiomir  PAM01572    6548.88\n",
      "298      UK   Radiomir  PAM01573    6548.88\n",
      "300      UK   Radiomir  PAM01384    5919.18\n"
     ]
    }
   ],
   "source": [
    "available_products, total_available_products = available_product(data, country = country)\n",
    "\n",
    "print(f\"Total of Available products in {country} : {total_available_products}\")\n",
    "print(available_products.head(5))"
   ]
  },
  {
   "cell_type": "markdown",
   "id": "8c124694",
   "metadata": {},
   "source": [
    "### 4.2.3. Japan"
   ]
  },
  {
   "cell_type": "code",
   "execution_count": 162,
   "id": "25b7a6de",
   "metadata": {},
   "outputs": [],
   "source": [
    "country = \"Japan\""
   ]
  },
  {
   "cell_type": "code",
   "execution_count": 163,
   "id": "26455680",
   "metadata": {},
   "outputs": [
    {
     "name": "stdout",
     "output_type": "stream",
     "text": [
      "Number of rows: 147\n",
      "\n",
      "We have 4 collections, and Luminor is the leading one\n",
      "\n",
      "Catalog of Collections:\n",
      "1. Radiomir\n",
      "2. Luminor\n",
      "3. Submersible\n",
      "4. Luminor Due\n",
      "\n",
      "We have a Total of 147 distinct products, with PAM00422 leading the selection from Luminor collection\n"
     ]
    }
   ],
   "source": [
    "number_rows, number_unique_collections, top_collection, number_unique_references, top_reference, collection_list = describe_country(data, country)\n",
    "\n",
    "# Number of rows\n",
    "print(f\"Number of rows: {number_rows}\")\n",
    "if number_unique_collections == 1:\n",
    "    print(f\"\\nThere is a unique collection, named {top_collection}\")\n",
    "else:\n",
    "    print(f\"\\nWe have {number_unique_collections} collections, and {top_collection} is the leading one\")\n",
    "\n",
    "# Collections list    \n",
    "print(\"\\nCatalog of Collections:\")\n",
    "print(\"\\n\".join([f\"{i+1}. {collection}\" for i, collection in enumerate(collection_list)]))\n",
    "\n",
    "# Distinct products based on Reference\n",
    "if number_unique_references == 1:\n",
    "    print(f\"\\nThere is a unique reference: {top_reference}\")\n",
    "else:\n",
    "    print(f\"\\nWe have a Total of {number_unique_references} distinct products, with {top_reference} leading the selection from {data[data['reference'] == top_reference]['collection'].values[0]} collection\")"
   ]
  },
  {
   "cell_type": "code",
   "execution_count": 164,
   "id": "3982a739",
   "metadata": {},
   "outputs": [
    {
     "data": {
      "image/png": "[encoded data removed]",
      "text/plain": [
       "<Figure size 640x480 with 1 Axes>"
      ]
     },
     "metadata": {},
     "output_type": "display_data"
    }
   ],
   "source": [
    "collection_visualization(data, country)"
   ]
  },
  {
   "cell_type": "code",
   "execution_count": 165,
   "id": "43f6435d",
   "metadata": {},
   "outputs": [],
   "source": [
    "overall_stats, collection_stats = analyze_country(data, country)"
   ]
  },
  {
   "cell_type": "code",
   "execution_count": 166,
   "id": "c3093fc7",
   "metadata": {},
   "outputs": [
    {
     "name": "stdout",
     "output_type": "stream",
     "text": [
      "\n",
      "Cheapest and most expensive product in Japan:\n",
      "  Cheapest -> Collection: Radiomir, Reference: PAM01383, Price: 748000 ￥\n",
      "  Most Expensive -> Collection: Luminor, Reference: PAM00920, Price: 39853000 ￥\n"
     ]
    }
   ],
   "source": [
    "print(f\"\\nCheapest and most expensive product in {country}:\")\n",
    "print(f\"  Cheapest -> Collection: {overall_stats['cheapest']['collection']}, Reference: {overall_stats['cheapest']['reference']}, Price: {overall_stats['cheapest']['price']} {(data['currency'][data['country'] == country]).unique()[0]}\")\n",
    "print(f\"  Most Expensive -> Collection: {overall_stats['most_expensive']['collection']}, Reference: {overall_stats['most_expensive']['reference']}, Price: {overall_stats['most_expensive']['price']} {(data['currency'][data['country'] == country]).unique()[0]}\")"
   ]
  },
  {
   "cell_type": "code",
   "execution_count": 167,
   "id": "10456dc4",
   "metadata": {},
   "outputs": [
    {
     "name": "stdout",
     "output_type": "stream",
     "text": [
      "Collection: Radiomir\n",
      "  Cheapest -> Reference: PAM01383, Price: 748000 ￥\n",
      "  Most Expensive -> Reference: PAM01284, Price: 25091000 ￥\n",
      "\n",
      "--------------------------------------------------\n",
      "\n",
      "Collection: Luminor\n",
      "  Cheapest -> Reference: PAM01623, Price: 847000 ￥\n",
      "  Most Expensive -> Reference: PAM00920, Price: 39853000 ￥\n",
      "\n",
      "--------------------------------------------------\n",
      "\n",
      "Collection: Submersible\n",
      "  Cheapest -> Reference: PAM01590, Price: 1441000 ￥\n",
      "  Most Expensive -> Reference: PAM01405, Price: 28776000 ￥\n",
      "\n",
      "--------------------------------------------------\n",
      "\n",
      "Collection: Luminor Due\n",
      "  Cheapest -> Reference: PAM01248, Price: 1045000 ￥\n",
      "  Most Expensive -> Reference: PAM01494, Price: 6215000 ￥\n",
      "\n",
      "--------------------------------------------------\n",
      "\n"
     ]
    }
   ],
   "source": [
    "for stat in collection_stats:\n",
    "    print(f\"Collection: {stat['collection']}\")\n",
    "    print(f\"  Cheapest -> Reference: {stat['cheapest']['reference']}, Price: {stat['cheapest']['price']} {(data['currency'][data['country'] == country]).unique()[0]}\")\n",
    "    print(f\"  Most Expensive -> Reference: {stat['most_expensive']['reference']}, Price: {stat['most_expensive']['price']} {(data['currency'][data['country'] == country]).unique()[0]}\")\n",
    "    print(\"\\n\"+\"-\"*50+\"\\n\")"
   ]
  },
  {
   "cell_type": "markdown",
   "id": "b44adfef",
   "metadata": {},
   "source": [
    "#### Products availabality"
   ]
  },
  {
   "cell_type": "code",
   "execution_count": 168,
   "id": "d7ef16d6",
   "metadata": {},
   "outputs": [
    {
     "name": "stdout",
     "output_type": "stream",
     "text": [
      "Total of Available products in Japan : 95\n",
      "    country collection reference  price_USD\n",
      "443   Japan   Radiomir  PAM01570   6063.233\n",
      "444   Japan   Radiomir  PAM01571   6063.233\n",
      "445   Japan   Radiomir  PAM01572   6063.233\n",
      "446   Japan   Radiomir  PAM01573   6063.233\n",
      "448   Japan   Radiomir  PAM01384   5405.774\n"
     ]
    }
   ],
   "source": [
    "available_products, total_available_products = available_product(data, country = country)\n",
    "\n",
    "print(f\"Total of Available products in {country} : {total_available_products}\")\n",
    "print(available_products.head(5))"
   ]
  },
  {
   "cell_type": "markdown",
   "id": "cd218fcb",
   "metadata": {},
   "source": [
    "### 4.2.4. USA"
   ]
  },
  {
   "cell_type": "code",
   "execution_count": 169,
   "id": "8dd71b0a",
   "metadata": {},
   "outputs": [],
   "source": [
    "country = \"USA\""
   ]
  },
  {
   "cell_type": "code",
   "execution_count": 170,
   "id": "77757a71",
   "metadata": {},
   "outputs": [
    {
     "name": "stdout",
     "output_type": "stream",
     "text": [
      "Number of rows: 149\n",
      "\n",
      "We have 4 collections, and Luminor is the leading one\n",
      "\n",
      "Catalog of Collections:\n",
      "1. Radiomir\n",
      "2. Luminor\n",
      "3. Submersible\n",
      "4. Luminor Due\n",
      "\n",
      "We have a Total of 149 distinct products, with PAM00422 leading the selection from Luminor collection\n"
     ]
    }
   ],
   "source": [
    "number_rows, number_unique_collections, top_collection, number_unique_references, top_reference, collection_list = describe_country(data, country)\n",
    "\n",
    "# Number of rows\n",
    "print(f\"Number of rows: {number_rows}\")\n",
    "if number_unique_collections == 1:\n",
    "    print(f\"\\nThere is a unique collection, named {top_collection}\")\n",
    "else:\n",
    "    print(f\"\\nWe have {number_unique_collections} collections, and {top_collection} is the leading one\")\n",
    "\n",
    "# Collections list    \n",
    "print(\"\\nCatalog of Collections:\")\n",
    "print(\"\\n\".join([f\"{i+1}. {collection}\" for i, collection in enumerate(collection_list)]))\n",
    "\n",
    "# Distinct products based on Reference\n",
    "if number_unique_references == 1:\n",
    "    print(f\"\\nThere is a unique reference: {top_reference}\")\n",
    "else:\n",
    "    print(f\"\\nWe have a Total of {number_unique_references} distinct products, with {top_reference} leading the selection from {data[data['reference'] == top_reference]['collection'].values[0]} collection\")"
   ]
  },
  {
   "cell_type": "code",
   "execution_count": 171,
   "id": "5e0e1622",
   "metadata": {},
   "outputs": [
    {
     "data": {
      "image/png": "[encoded data removed]",
      "text/plain": [
       "<Figure size 640x480 with 1 Axes>"
      ]
     },
     "metadata": {},
     "output_type": "display_data"
    }
   ],
   "source": [
    "collection_visualization(data, country)"
   ]
  },
  {
   "cell_type": "code",
   "execution_count": 172,
   "id": "130313ed",
   "metadata": {},
   "outputs": [],
   "source": [
    "overall_stats, collection_stats = analyze_country(data, country)"
   ]
  },
  {
   "cell_type": "code",
   "execution_count": 173,
   "id": "22572c37",
   "metadata": {},
   "outputs": [
    {
     "name": "stdout",
     "output_type": "stream",
     "text": [
      "\n",
      "Cheapest and most expensive product in USA:\n",
      "  Cheapest -> Collection: Radiomir, Reference: PAM01383, Price: 4900 $\n",
      "  Most Expensive -> Collection: Radiomir, Reference: PAM00600, Price: 396800 $\n"
     ]
    }
   ],
   "source": [
    "print(f\"\\nCheapest and most expensive product in {country}:\")\n",
    "print(f\"  Cheapest -> Collection: {overall_stats['cheapest']['collection']}, Reference: {overall_stats['cheapest']['reference']}, Price: {overall_stats['cheapest']['price']} {(data['currency'][data['country'] == country]).unique()[0]}\")\n",
    "print(f\"  Most Expensive -> Collection: {overall_stats['most_expensive']['collection']}, Reference: {overall_stats['most_expensive']['reference']}, Price: {overall_stats['most_expensive']['price']} {(data['currency'][data['country'] == country]).unique()[0]}\")"
   ]
  },
  {
   "cell_type": "code",
   "execution_count": 174,
   "id": "79df3158",
   "metadata": {},
   "outputs": [
    {
     "name": "stdout",
     "output_type": "stream",
     "text": [
      "Collection: Radiomir\n",
      "  Cheapest -> Reference: PAM01383, Price: 4900 $\n",
      "  Most Expensive -> Reference: PAM00600, Price: 396800 $\n",
      "\n",
      "--------------------------------------------------\n",
      "\n",
      "Collection: Luminor\n",
      "  Cheapest -> Reference: PAM01623, Price: 5600 $\n",
      "  Most Expensive -> Reference: PAM00920, Price: 233800 $\n",
      "\n",
      "--------------------------------------------------\n",
      "\n",
      "Collection: Submersible\n",
      "  Cheapest -> Reference: PAM01590, Price: 9500 $\n",
      "  Most Expensive -> Reference: PAM01405, Price: 168200 $\n",
      "\n",
      "--------------------------------------------------\n",
      "\n",
      "Collection: Luminor Due\n",
      "  Cheapest -> Reference: PAM01248, Price: 6900 $\n",
      "  Most Expensive -> Reference: PAM01494, Price: 41200 $\n",
      "\n",
      "--------------------------------------------------\n",
      "\n"
     ]
    }
   ],
   "source": [
    "for stat in collection_stats:\n",
    "    print(f\"Collection: {stat['collection']}\")\n",
    "    print(f\"  Cheapest -> Reference: {stat['cheapest']['reference']}, Price: {stat['cheapest']['price']} {(data['currency'][data['country'] == country]).unique()[0]}\")\n",
    "    print(f\"  Most Expensive -> Reference: {stat['most_expensive']['reference']}, Price: {stat['most_expensive']['price']} {(data['currency'][data['country'] == country]).unique()[0]}\")\n",
    "    print(\"\\n\"+\"-\"*50+\"\\n\")"
   ]
  },
  {
   "cell_type": "markdown",
   "id": "75081e37",
   "metadata": {},
   "source": [
    "#### Products availabality"
   ]
  },
  {
   "cell_type": "code",
   "execution_count": 175,
   "id": "c48b5e22",
   "metadata": {},
   "outputs": [
    {
     "name": "stdout",
     "output_type": "stream",
     "text": [
      "Total of Available products in USA : 99\n",
      "  country collection reference  price_USD\n",
      "0     USA   Radiomir  PAM01570     6000.0\n",
      "2     USA   Radiomir  PAM01572     6000.0\n",
      "3     USA   Radiomir  PAM01573     6000.0\n",
      "5     USA   Radiomir  PAM01384     5400.0\n",
      "6     USA   Radiomir  PAM01383     4900.0\n"
     ]
    }
   ],
   "source": [
    "available_products, total_available_products = available_product(data, country = country)\n",
    "\n",
    "print(f\"Total of Available products in {country} : {total_available_products}\")\n",
    "print(available_products.head(5))"
   ]
  },
  {
   "cell_type": "code",
   "execution_count": null,
   "id": "66328622",
   "metadata": {},
   "outputs": [],
   "source": []
  },
  {
   "cell_type": "code",
   "execution_count": null,
   "id": "617aba84",
   "metadata": {},
   "outputs": [],
   "source": []
  },
  {
   "cell_type": "code",
   "execution_count": null,
   "id": "5a5a01e6",
   "metadata": {},
   "outputs": [],
   "source": []
  },
  {
   "cell_type": "code",
   "execution_count": null,
   "id": "1e0454ff",
   "metadata": {},
   "outputs": [],
   "source": []
  },
  {
   "cell_type": "code",
   "execution_count": null,
   "id": "bfae0344",
   "metadata": {},
   "outputs": [],
   "source": []
  },
  {
   "cell_type": "code",
   "execution_count": null,
   "id": "10e91914",
   "metadata": {},
   "outputs": [],
   "source": []
  },
  {
   "cell_type": "code",
   "execution_count": null,
   "id": "de73a04b",
   "metadata": {},
   "outputs": [],
   "source": []
  },
  {
   "cell_type": "code",
   "execution_count": null,
   "id": "62f40b50",
   "metadata": {},
   "outputs": [],
   "source": []
  },
  {
   "cell_type": "code",
   "execution_count": null,
   "id": "752df10d",
   "metadata": {},
   "outputs": [],
   "source": []
  },
  {
   "cell_type": "code",
   "execution_count": null,
   "id": "b75d8e22",
   "metadata": {},
   "outputs": [],
   "source": []
  },
  {
   "cell_type": "code",
   "execution_count": null,
   "id": "3e0b02e2",
   "metadata": {},
   "outputs": [],
   "source": []
  },
  {
   "cell_type": "code",
   "execution_count": null,
   "id": "d654fecd",
   "metadata": {},
   "outputs": [],
   "source": []
  },
  {
   "cell_type": "code",
   "execution_count": null,
   "id": "74f98b80",
   "metadata": {},
   "outputs": [],
   "source": []
  },
  {
   "cell_type": "code",
   "execution_count": null,
   "id": "afe0d5ba",
   "metadata": {},
   "outputs": [],
   "source": []
  },
  {
   "cell_type": "code",
   "execution_count": null,
   "id": "c0d71316",
   "metadata": {},
   "outputs": [],
   "source": []
  }
 ],
 "metadata": {
  "kernelspec": {
   "display_name": "Python 3 (ipykernel)",
   "language": "python",
   "name": "python3"
  },
  "language_info": {
   "codemirror_mode": {
    "name": "ipython",
    "version": 3
   },
   "file_extension": ".py",
   "mimetype": "text/x-python",
   "name": "python",
   "nbconvert_exporter": "python",
   "pygments_lexer": "ipython3",
   "version": "3.9.13"
  }
 },
 "nbformat": 4,
 "nbformat_minor": 5
}
