{
 "cells": [
  {
   "cell_type": "markdown",
   "id": "bace70d5",
   "metadata": {},
   "source": [
    "# Annexe"
   ]
  },
  {
   "cell_type": "code",
   "execution_count": 164,
   "id": "65ea3682",
   "metadata": {},
   "outputs": [],
   "source": [
    "def calculate_price_metrics(df):\n",
    "    \"\"\"\n",
    "    Calculate price difference, percentage increase, and CAGR between 2021 and 2025.\n",
    "    \"\"\"    \n",
    "    df = df.copy()\n",
    "\n",
    "    # Calculate the absolute difference between 2025 & 2021 (price_2025 - price_2021)\n",
    "    df[\"Price Difference\"] = df[\"price_2025\"] - df[\"price_2021\"]\n",
    "\n",
    "    # Calculate the rate (percentage difference)\n",
    "    df[\"Growth Rate (%)\"] = (df[\"Price Difference\"] / df[\"price_2021\"]) * 100\n",
    "\n",
    "    # Calculate the Compound Annual Growth Rate\n",
    "    df['CAGR (%)'] = ((df['price_2025'] / df['price_2021']) ** (1/4) - 1) * 100\n",
    "    \n",
    "    return df"
   ]
  },
  {
   "cell_type": "code",
   "execution_count": 165,
   "id": "c5690112",
   "metadata": {},
   "outputs": [],
   "source": [
    "def count_increase_directions(df):\n",
    "    \"\"\"\n",
    "    Count the number of products with positive and negative increase rates.\n",
    "    \"\"\"\n",
    "    positive_increase = df[df['Growth Rate (%)'] >= 0].reset_index(drop=True)\n",
    "    count_positive_increase = positive_increase.shape[0]\n",
    "    negative_increase = df[df['Growth Rate (%)'] < 0].reset_index(drop=True)\n",
    "    count_negative_increase = negative_increase.shape[0]\n",
    "    return positive_increase, count_positive_increase, negative_increase, count_negative_increase"
   ]
  },
  {
   "cell_type": "code",
   "execution_count": 166,
   "id": "f8605f91",
   "metadata": {},
   "outputs": [],
   "source": [
    "def get_extreme_products(df):\n",
    "    \"\"\"\n",
    "    Identify the products with the highest and lowest increase rate.\n",
    "    \"\"\"\n",
    "    product_highest_increase_rate = df[\n",
    "    df['Growth Rate (%)'] == df['Growth Rate (%)'].max()\n",
    "    ].reset_index(drop=True)\n",
    "    product_lowest_increase_rate = df[\n",
    "    df['Growth Rate (%)'] == df['Growth Rate (%)'].min()\n",
    "    ].reset_index(drop=True)\n",
    "    \n",
    "    return product_highest_increase_rate, product_lowest_increase_rate"
   ]
  },
  {
   "cell_type": "code",
   "execution_count": 167,
   "id": "06b4528f",
   "metadata": {},
   "outputs": [],
   "source": [
    "def collection_visualization(data, country=None):\n",
    "    \"\"\"\n",
    "    Visualize the collection data.\n",
    "\n",
    "    Parameters:\n",
    "    data (pd.DataFrame): The data to visualize.\n",
    "    country (str): The country to filter by.\n",
    "\n",
    "    Returns:\n",
    "    None\n",
    "    \"\"\"\n",
    "    # Filter the original data if a specific country is provided\n",
    "    if country:\n",
    "        data = data[data[\"country\"] == country]\n",
    "    \n",
    "    # Choose a color palette\n",
    "    palette = sns.color_palette(\"pastel\")  # You can choose different palettes like \"deep\", \"pastel\", etc.\n",
    "\n",
    "    # Create the count plot\n",
    "    ax = sns.countplot(x=\"collection\", data=data, palette=palette)\n",
    "\n",
    "    # Add the count value on top of each bar\n",
    "    for p in ax.patches:\n",
    "        ax.annotate(f'{p.get_height()}', \n",
    "                    (p.get_x() + p.get_width() / 2., p.get_y() + p.get_height() / 2.), \n",
    "                    ha='center', va='center', \n",
    "                    fontsize=10, color='black', \n",
    "                    xytext=(0, 5), textcoords='offset points')\n",
    "\n",
    "    # Rotate x-axis labels for better readability\n",
    "    plt.xticks(rotation=45)\n",
    "\n",
    "    # Labels and title\n",
    "    plt.xlabel(\"Collection\")\n",
    "    plt.ylabel(\"Watch Count\")\n",
    "    plt.title(f\"Watch Count per Collection\")\n",
    "    if country:\n",
    "        data = data[data[\"country\"] == country]\n",
    "        plt.title(f\"Watch Count per Collection in {country}\")\n",
    "\n",
    "    # Show the plot\n",
    "    plt.show()"
   ]
  },
  {
   "cell_type": "code",
   "execution_count": 168,
   "id": "4fa00bd1",
   "metadata": {},
   "outputs": [],
   "source": [
    "def plot_collection_by_country(data):\n",
    "    \"\"\"\n",
    "    Plot the number of items in each collection for each country on the same graph.\n",
    "    \n",
    "    Parameters:\n",
    "        data (pd.DataFrame): Data containing at least 'collection' and 'country' columns.\n",
    "    \n",
    "    Returns:\n",
    "        None\n",
    "    \"\"\"\n",
    "    # Set the figure size\n",
    "    plt.figure(figsize=(10, 6))\n",
    "    \n",
    "    # Create a count plot with 'collection' on the x-axis and bars grouped by 'country'\n",
    "    ax = sns.countplot(x=\"collection\", hue=\"country\", data=data, palette=\"pastel\")\n",
    "    \n",
    "    # Annotate each bar with its count\n",
    "    for p in ax.patches:\n",
    "        count = p.get_height()\n",
    "        ax.annotate(f'{int(count)}',\n",
    "                    (p.get_x() + p.get_width() / 2, p.get_y() + count / 2),\n",
    "                    ha='center', va='center',\n",
    "                    fontsize=10, color='black', \n",
    "                    xytext=(0, 5), textcoords='offset points')\n",
    "    \n",
    "    # Improve readability\n",
    "    plt.xticks(rotation=45)\n",
    "    plt.xlabel(\"Collection\")\n",
    "    plt.ylabel(\"Watch Count\")\n",
    "    plt.title(\"Watch Count per Collection by Country\")\n",
    "    plt.legend(title=\"Country\")\n",
    "    plt.tight_layout()\n",
    "    plt.show()"
   ]
  },
  {
   "cell_type": "markdown",
   "id": "9a5f898a",
   "metadata": {},
   "source": [
    "# 1. Import librariries"
   ]
  },
  {
   "cell_type": "code",
   "execution_count": 169,
   "id": "f9fcf04b",
   "metadata": {},
   "outputs": [],
   "source": [
    "import pandas as pd\n",
    "import numpy as np\n",
    "import seaborn as sns\n",
    "import matplotlib.pyplot as plt\n",
    "import requests"
   ]
  },
  {
   "cell_type": "markdown",
   "id": "a39d0749",
   "metadata": {},
   "source": [
    "# 2. Load & Read the Data"
   ]
  },
  {
   "cell_type": "code",
   "execution_count": 170,
   "id": "07513f71",
   "metadata": {},
   "outputs": [
    {
     "data": {
      "text/html": [
       "<div>\n",
       "<style scoped>\n",
       "    .dataframe tbody tr th:only-of-type {\n",
       "        vertical-align: middle;\n",
       "    }\n",
       "\n",
       "    .dataframe tbody tr th {\n",
       "        vertical-align: top;\n",
       "    }\n",
       "\n",
       "    .dataframe thead th {\n",
       "        text-align: right;\n",
       "    }\n",
       "</style>\n",
       "<table border=\"1\" class=\"dataframe\">\n",
       "  <thead>\n",
       "    <tr style=\"text-align: right;\">\n",
       "      <th></th>\n",
       "      <th>brand</th>\n",
       "      <th>url</th>\n",
       "      <th>image_url</th>\n",
       "      <th>collection</th>\n",
       "      <th>reference</th>\n",
       "      <th>price</th>\n",
       "      <th>currency</th>\n",
       "      <th>country</th>\n",
       "      <th>year</th>\n",
       "      <th>price_USD</th>\n",
       "    </tr>\n",
       "  </thead>\n",
       "  <tbody>\n",
       "    <tr>\n",
       "      <th>0</th>\n",
       "      <td>Panerai</td>\n",
       "      <td>https://www.panerai.com/fr/fr/collections/watc...</td>\n",
       "      <td>https://www.panerai.com/content/dam/rcq/pan/10...</td>\n",
       "      <td>RADIOMIR</td>\n",
       "      <td>PAM00655</td>\n",
       "      <td>9700.0</td>\n",
       "      <td>EUR</td>\n",
       "      <td>France</td>\n",
       "      <td>2021</td>\n",
       "      <td>11446.0</td>\n",
       "    </tr>\n",
       "    <tr>\n",
       "      <th>1</th>\n",
       "      <td>Panerai</td>\n",
       "      <td>https://www.panerai.com/fr/fr/collections/watc...</td>\n",
       "      <td>https://www.panerai.com/content/dam/rcq/pan/11...</td>\n",
       "      <td>RADIOMIR</td>\n",
       "      <td>PAM00628</td>\n",
       "      <td>11600.0</td>\n",
       "      <td>EUR</td>\n",
       "      <td>France</td>\n",
       "      <td>2021</td>\n",
       "      <td>13688.0</td>\n",
       "    </tr>\n",
       "    <tr>\n",
       "      <th>2</th>\n",
       "      <td>Panerai</td>\n",
       "      <td>https://www.panerai.com/fr/fr/collections/watc...</td>\n",
       "      <td>https://www.panerai.com/content/dam/rcq/pan/11...</td>\n",
       "      <td>RADIOMIR</td>\n",
       "      <td>PAM00657</td>\n",
       "      <td>11400.0</td>\n",
       "      <td>EUR</td>\n",
       "      <td>France</td>\n",
       "      <td>2021</td>\n",
       "      <td>13452.0</td>\n",
       "    </tr>\n",
       "    <tr>\n",
       "      <th>3</th>\n",
       "      <td>Panerai</td>\n",
       "      <td>https://www.panerai.com/fr/fr/collections/watc...</td>\n",
       "      <td>https://www.panerai.com/content/dam/rcq/pan/13...</td>\n",
       "      <td>LUMINOR</td>\n",
       "      <td>PAM00661</td>\n",
       "      <td>11900.0</td>\n",
       "      <td>EUR</td>\n",
       "      <td>France</td>\n",
       "      <td>2021</td>\n",
       "      <td>14042.0</td>\n",
       "    </tr>\n",
       "    <tr>\n",
       "      <th>4</th>\n",
       "      <td>Panerai</td>\n",
       "      <td>https://www.panerai.com/fr/fr/collections/watc...</td>\n",
       "      <td>https://www.panerai.com/content/dam/rcq/pan/13...</td>\n",
       "      <td>LUMINOR</td>\n",
       "      <td>PAM01312</td>\n",
       "      <td>7900.0</td>\n",
       "      <td>EUR</td>\n",
       "      <td>France</td>\n",
       "      <td>2021</td>\n",
       "      <td>9322.0</td>\n",
       "    </tr>\n",
       "  </tbody>\n",
       "</table>\n",
       "</div>"
      ],
      "text/plain": [
       "     brand                                                url  \\\n",
       "0  Panerai  https://www.panerai.com/fr/fr/collections/watc...   \n",
       "1  Panerai  https://www.panerai.com/fr/fr/collections/watc...   \n",
       "2  Panerai  https://www.panerai.com/fr/fr/collections/watc...   \n",
       "3  Panerai  https://www.panerai.com/fr/fr/collections/watc...   \n",
       "4  Panerai  https://www.panerai.com/fr/fr/collections/watc...   \n",
       "\n",
       "                                           image_url collection reference  \\\n",
       "0  https://www.panerai.com/content/dam/rcq/pan/10...   RADIOMIR  PAM00655   \n",
       "1  https://www.panerai.com/content/dam/rcq/pan/11...   RADIOMIR  PAM00628   \n",
       "2  https://www.panerai.com/content/dam/rcq/pan/11...   RADIOMIR  PAM00657   \n",
       "3  https://www.panerai.com/content/dam/rcq/pan/13...    LUMINOR  PAM00661   \n",
       "4  https://www.panerai.com/content/dam/rcq/pan/13...    LUMINOR  PAM01312   \n",
       "\n",
       "     price currency country  year  price_USD  \n",
       "0   9700.0      EUR  France  2021    11446.0  \n",
       "1  11600.0      EUR  France  2021    13688.0  \n",
       "2  11400.0      EUR  France  2021    13452.0  \n",
       "3  11900.0      EUR  France  2021    14042.0  \n",
       "4   7900.0      EUR  France  2021     9322.0  "
      ]
     },
     "execution_count": 170,
     "metadata": {},
     "output_type": "execute_result"
    }
   ],
   "source": [
    "data_2021 = pd.read_csv(r\"../orchestrator/data/silver/PANERAI_DATA_2021.csv\")\n",
    "data_2021.head()"
   ]
  },
  {
   "cell_type": "code",
   "execution_count": 171,
   "id": "d4b3deed",
   "metadata": {
    "scrolled": true
   },
   "outputs": [
    {
     "name": "stdout",
     "output_type": "stream",
     "text": [
      "<class 'pandas.core.frame.DataFrame'>\n",
      "RangeIndex: 687 entries, 0 to 686\n",
      "Data columns (total 10 columns):\n",
      " #   Column      Non-Null Count  Dtype  \n",
      "---  ------      --------------  -----  \n",
      " 0   brand       687 non-null    object \n",
      " 1   url         687 non-null    object \n",
      " 2   image_url   684 non-null    object \n",
      " 3   collection  687 non-null    object \n",
      " 4   reference   687 non-null    object \n",
      " 5   price       687 non-null    float64\n",
      " 6   currency    687 non-null    object \n",
      " 7   country     687 non-null    object \n",
      " 8   year        687 non-null    int64  \n",
      " 9   price_USD   687 non-null    float64\n",
      "dtypes: float64(2), int64(1), object(7)\n",
      "memory usage: 53.8+ KB\n"
     ]
    }
   ],
   "source": [
    "data_2021.info()"
   ]
  },
  {
   "cell_type": "code",
   "execution_count": 172,
   "id": "b8aca179",
   "metadata": {},
   "outputs": [
    {
     "name": "stdout",
     "output_type": "stream",
     "text": [
      "Number of products with distinct reference : 207\n",
      "Number of existing products by reference : 687\n"
     ]
    }
   ],
   "source": [
    "print(f'Number of products with distinct reference : {len(data_2021.reference.unique())}')\n",
    "print(f'Number of existing products by reference : {len(data_2021.reference.values)}')"
   ]
  },
  {
   "cell_type": "code",
   "execution_count": 173,
   "id": "260b31db",
   "metadata": {},
   "outputs": [
    {
     "data": {
      "text/html": [
       "<div>\n",
       "<style scoped>\n",
       "    .dataframe tbody tr th:only-of-type {\n",
       "        vertical-align: middle;\n",
       "    }\n",
       "\n",
       "    .dataframe tbody tr th {\n",
       "        vertical-align: top;\n",
       "    }\n",
       "\n",
       "    .dataframe thead th {\n",
       "        text-align: right;\n",
       "    }\n",
       "</style>\n",
       "<table border=\"1\" class=\"dataframe\">\n",
       "  <thead>\n",
       "    <tr style=\"text-align: right;\">\n",
       "      <th></th>\n",
       "      <th>brand</th>\n",
       "      <th>product_url</th>\n",
       "      <th>image_url</th>\n",
       "      <th>collection</th>\n",
       "      <th>reference</th>\n",
       "      <th>price</th>\n",
       "      <th>currency_code</th>\n",
       "      <th>country</th>\n",
       "      <th>year</th>\n",
       "      <th>price_USD</th>\n",
       "      <th>availability</th>\n",
       "    </tr>\n",
       "  </thead>\n",
       "  <tbody>\n",
       "    <tr>\n",
       "      <th>0</th>\n",
       "      <td>PANERAI</td>\n",
       "      <td>https://www.panerai.com/us/en/collections/watc...</td>\n",
       "      <td>https://www.panerai.com/content/dam/rcq/pan/km...</td>\n",
       "      <td>Radiomir</td>\n",
       "      <td>PAM01570</td>\n",
       "      <td>6000</td>\n",
       "      <td>USD</td>\n",
       "      <td>USA</td>\n",
       "      <td>2025</td>\n",
       "      <td>6000.0</td>\n",
       "      <td>Available</td>\n",
       "    </tr>\n",
       "    <tr>\n",
       "      <th>1</th>\n",
       "      <td>PANERAI</td>\n",
       "      <td>https://www.panerai.com/us/en/collections/watc...</td>\n",
       "      <td>https://www.panerai.com/content/dam/rcq/pan/Ot...</td>\n",
       "      <td>Radiomir</td>\n",
       "      <td>PAM01571</td>\n",
       "      <td>6000</td>\n",
       "      <td>USD</td>\n",
       "      <td>USA</td>\n",
       "      <td>2025</td>\n",
       "      <td>6000.0</td>\n",
       "      <td>Out of Stock</td>\n",
       "    </tr>\n",
       "    <tr>\n",
       "      <th>2</th>\n",
       "      <td>PANERAI</td>\n",
       "      <td>https://www.panerai.com/us/en/collections/watc...</td>\n",
       "      <td>https://www.panerai.com/content/dam/rcq/pan/lz...</td>\n",
       "      <td>Radiomir</td>\n",
       "      <td>PAM01572</td>\n",
       "      <td>6000</td>\n",
       "      <td>USD</td>\n",
       "      <td>USA</td>\n",
       "      <td>2025</td>\n",
       "      <td>6000.0</td>\n",
       "      <td>Available</td>\n",
       "    </tr>\n",
       "    <tr>\n",
       "      <th>3</th>\n",
       "      <td>PANERAI</td>\n",
       "      <td>https://www.panerai.com/us/en/collections/watc...</td>\n",
       "      <td>https://www.panerai.com/content/dam/rcq/pan/iY...</td>\n",
       "      <td>Radiomir</td>\n",
       "      <td>PAM01573</td>\n",
       "      <td>6000</td>\n",
       "      <td>USD</td>\n",
       "      <td>USA</td>\n",
       "      <td>2025</td>\n",
       "      <td>6000.0</td>\n",
       "      <td>Available</td>\n",
       "    </tr>\n",
       "    <tr>\n",
       "      <th>4</th>\n",
       "      <td>PANERAI</td>\n",
       "      <td>https://www.panerai.com/us/en/collections/watc...</td>\n",
       "      <td>https://www.panerai.com/content/dam/rcq/pan/bc...</td>\n",
       "      <td>Radiomir</td>\n",
       "      <td>PAM01385</td>\n",
       "      <td>5400</td>\n",
       "      <td>USD</td>\n",
       "      <td>USA</td>\n",
       "      <td>2025</td>\n",
       "      <td>5400.0</td>\n",
       "      <td>Out of Stock</td>\n",
       "    </tr>\n",
       "  </tbody>\n",
       "</table>\n",
       "</div>"
      ],
      "text/plain": [
       "     brand                                        product_url  \\\n",
       "0  PANERAI  https://www.panerai.com/us/en/collections/watc...   \n",
       "1  PANERAI  https://www.panerai.com/us/en/collections/watc...   \n",
       "2  PANERAI  https://www.panerai.com/us/en/collections/watc...   \n",
       "3  PANERAI  https://www.panerai.com/us/en/collections/watc...   \n",
       "4  PANERAI  https://www.panerai.com/us/en/collections/watc...   \n",
       "\n",
       "                                           image_url collection reference  \\\n",
       "0  https://www.panerai.com/content/dam/rcq/pan/km...   Radiomir  PAM01570   \n",
       "1  https://www.panerai.com/content/dam/rcq/pan/Ot...   Radiomir  PAM01571   \n",
       "2  https://www.panerai.com/content/dam/rcq/pan/lz...   Radiomir  PAM01572   \n",
       "3  https://www.panerai.com/content/dam/rcq/pan/iY...   Radiomir  PAM01573   \n",
       "4  https://www.panerai.com/content/dam/rcq/pan/bc...   Radiomir  PAM01385   \n",
       "\n",
       "   price currency_code country  year  price_USD  availability  \n",
       "0   6000           USD     USA  2025     6000.0     Available  \n",
       "1   6000           USD     USA  2025     6000.0  Out of Stock  \n",
       "2   6000           USD     USA  2025     6000.0     Available  \n",
       "3   6000           USD     USA  2025     6000.0     Available  \n",
       "4   5400           USD     USA  2025     5400.0  Out of Stock  "
      ]
     },
     "execution_count": 173,
     "metadata": {},
     "output_type": "execute_result"
    }
   ],
   "source": [
    "data_2025 = pd.read_csv(r\"../orchestrator/data/silver/2025-03-07_01-56-07/PANERAI_DATA_2025.csv\")\n",
    "data_2025 = data_2025[['brand', 'product_url', 'image_url', 'collection', 'reference', 'price', 'currency_code', 'country', 'year', 'price_USD', 'availability']]\n",
    "data_2025.head()"
   ]
  },
  {
   "cell_type": "code",
   "execution_count": 174,
   "id": "28fbeced",
   "metadata": {},
   "outputs": [
    {
     "name": "stdout",
     "output_type": "stream",
     "text": [
      "Number of products with distinct reference : 149\n",
      "Number of existing products by reference : 590\n"
     ]
    }
   ],
   "source": [
    "print(f'Number of products with distinct reference : {len(data_2025.reference.unique())}')\n",
    "print(f'Number of existing products by reference : {len(data_2025.reference.values)}')"
   ]
  },
  {
   "cell_type": "markdown",
   "id": "c7b30a72",
   "metadata": {},
   "source": [
    "# 3. Data and Business Analysis"
   ]
  },
  {
   "cell_type": "markdown",
   "id": "711230ee",
   "metadata": {},
   "source": [
    "### Case 1: Commun product (available in 2021 and still available in 2025) for 4 countries"
   ]
  },
  {
   "cell_type": "code",
   "execution_count": 175,
   "id": "2abcd03c",
   "metadata": {},
   "outputs": [
    {
     "data": {
      "text/html": [
       "<div>\n",
       "<style scoped>\n",
       "    .dataframe tbody tr th:only-of-type {\n",
       "        vertical-align: middle;\n",
       "    }\n",
       "\n",
       "    .dataframe tbody tr th {\n",
       "        vertical-align: top;\n",
       "    }\n",
       "\n",
       "    .dataframe thead th {\n",
       "        text-align: right;\n",
       "    }\n",
       "</style>\n",
       "<table border=\"1\" class=\"dataframe\">\n",
       "  <thead>\n",
       "    <tr style=\"text-align: right;\">\n",
       "      <th></th>\n",
       "      <th>brand</th>\n",
       "      <th>collection</th>\n",
       "      <th>reference</th>\n",
       "      <th>country</th>\n",
       "      <th>currency</th>\n",
       "      <th>price_2021</th>\n",
       "      <th>price_USD_2021</th>\n",
       "      <th>price_2025</th>\n",
       "      <th>price_USD_2025</th>\n",
       "    </tr>\n",
       "  </thead>\n",
       "  <tbody>\n",
       "    <tr>\n",
       "      <th>0</th>\n",
       "      <td>PANERAI</td>\n",
       "      <td>Luminor</td>\n",
       "      <td>PAM01086</td>\n",
       "      <td>USA</td>\n",
       "      <td>USD</td>\n",
       "      <td>6400.0</td>\n",
       "      <td>6400.0</td>\n",
       "      <td>5600</td>\n",
       "      <td>5600.0</td>\n",
       "    </tr>\n",
       "    <tr>\n",
       "      <th>1</th>\n",
       "      <td>PANERAI</td>\n",
       "      <td>Luminor</td>\n",
       "      <td>PAM01084</td>\n",
       "      <td>USA</td>\n",
       "      <td>USD</td>\n",
       "      <td>7100.0</td>\n",
       "      <td>7100.0</td>\n",
       "      <td>6100</td>\n",
       "      <td>6100.0</td>\n",
       "    </tr>\n",
       "    <tr>\n",
       "      <th>2</th>\n",
       "      <td>PANERAI</td>\n",
       "      <td>Luminor</td>\n",
       "      <td>PAM01085</td>\n",
       "      <td>USA</td>\n",
       "      <td>USD</td>\n",
       "      <td>7100.0</td>\n",
       "      <td>7100.0</td>\n",
       "      <td>6100</td>\n",
       "      <td>6100.0</td>\n",
       "    </tr>\n",
       "    <tr>\n",
       "      <th>3</th>\n",
       "      <td>PANERAI</td>\n",
       "      <td>Luminor</td>\n",
       "      <td>PAM00915</td>\n",
       "      <td>USA</td>\n",
       "      <td>USD</td>\n",
       "      <td>8800.0</td>\n",
       "      <td>8800.0</td>\n",
       "      <td>7600</td>\n",
       "      <td>7600.0</td>\n",
       "    </tr>\n",
       "    <tr>\n",
       "      <th>4</th>\n",
       "      <td>PANERAI</td>\n",
       "      <td>Luminor</td>\n",
       "      <td>PAM00422</td>\n",
       "      <td>USA</td>\n",
       "      <td>USD</td>\n",
       "      <td>12800.0</td>\n",
       "      <td>12800.0</td>\n",
       "      <td>11300</td>\n",
       "      <td>11300.0</td>\n",
       "    </tr>\n",
       "  </tbody>\n",
       "</table>\n",
       "</div>"
      ],
      "text/plain": [
       "     brand collection reference country currency  price_2021  price_USD_2021  \\\n",
       "0  PANERAI    Luminor  PAM01086     USA      USD      6400.0          6400.0   \n",
       "1  PANERAI    Luminor  PAM01084     USA      USD      7100.0          7100.0   \n",
       "2  PANERAI    Luminor  PAM01085     USA      USD      7100.0          7100.0   \n",
       "3  PANERAI    Luminor  PAM00915     USA      USD      8800.0          8800.0   \n",
       "4  PANERAI    Luminor  PAM00422     USA      USD     12800.0         12800.0   \n",
       "\n",
       "   price_2025  price_USD_2025  \n",
       "0        5600          5600.0  \n",
       "1        6100          6100.0  \n",
       "2        6100          6100.0  \n",
       "3        7600          7600.0  \n",
       "4       11300         11300.0  "
      ]
     },
     "execution_count": 175,
     "metadata": {},
     "output_type": "execute_result"
    }
   ],
   "source": [
    "data_2021_2025 = pd.merge(data_2025, data_2021, on=['reference', 'country'], how='inner')\n",
    "# For each reference, filter out only those groups that have exactly 4 distinct countries.\n",
    "data_2021_2025 = data_2021_2025.groupby(\"reference\").filter(lambda group: group[\"country\"].nunique() == 4)\n",
    "\n",
    "data_2021_2025 = data_2021_2025.rename(columns={'brand_x': 'brand', 'collection_x': 'collection', 'price_x': 'price_2025', 'price_USD_x': 'price_USD_2025', 'price_y': 'price_2021', 'price_USD_y': 'price_USD_2021'})\n",
    "data_2021_2025 = data_2021_2025[['brand', 'collection', 'reference', 'country', 'currency','price_2021', 'price_USD_2021', 'price_2025', 'price_USD_2025']]\n",
    "\n",
    "data_2021_2025.head()"
   ]
  },
  {
   "cell_type": "code",
   "execution_count": 176,
   "id": "c8922fff",
   "metadata": {},
   "outputs": [
    {
     "name": "stdout",
     "output_type": "stream",
     "text": [
      "Number of products with distinct reference : 29\n",
      "\n",
      "Number of distinct products per country:\n",
      "   - USA : 29\n",
      "   - France : 29\n",
      "   - UK : 29\n",
      "   - Japan : 29\n"
     ]
    }
   ],
   "source": [
    "print(f\"Number of products with distinct reference : {len(data_2021_2025.reference.unique())}\")\n",
    "print(f\"\\nNumber of distinct products per country:\")\n",
    "for country, value in zip(data_2021_2025.country.value_counts().index, data_2021_2025.country.value_counts().values):\n",
    "    print(f\"   - {country} : {value}\")"
   ]
  },
  {
   "cell_type": "markdown",
   "id": "ee90a63d",
   "metadata": {},
   "source": [
    "#### 1. For each country using local currency\n",
    "\n",
    "Calculate the Price Difference, the Growth Rate and the Compound Annual Growth Rate for each product on each country, to identify the fluctuations of prices for each product between 2021 and 2025.\n",
    "\n",
    "- **Price Difference** = Watch Price in the Country (2025, Local Currency) – Watch Price in the Country (2021, Local Currency)\n",
    "- **Growth Rate (%)** = (Price Difference / Watch Price in the Country (2021, Local Currency)) × 100\n",
    "- **Compound Annual Growth Rate (CAGR) (%)** = ((Price_2025 / Price_2021)^(1/4) – 1) × 100\n",
    "\n",
    "- Product with Positive Increase Rate VS Product with Negative Increase Rate\n",
    "- Identify Products with Extreme Growth Rates (Highest VS Lowest Increase Rate)"
   ]
  },
  {
   "cell_type": "code",
   "execution_count": 177,
   "id": "98330db8",
   "metadata": {
    "scrolled": false
   },
   "outputs": [
    {
     "data": {
      "text/html": [
       "<div>\n",
       "<style scoped>\n",
       "    .dataframe tbody tr th:only-of-type {\n",
       "        vertical-align: middle;\n",
       "    }\n",
       "\n",
       "    .dataframe tbody tr th {\n",
       "        vertical-align: top;\n",
       "    }\n",
       "\n",
       "    .dataframe thead th {\n",
       "        text-align: right;\n",
       "    }\n",
       "</style>\n",
       "<table border=\"1\" class=\"dataframe\">\n",
       "  <thead>\n",
       "    <tr style=\"text-align: right;\">\n",
       "      <th></th>\n",
       "      <th>brand</th>\n",
       "      <th>collection</th>\n",
       "      <th>reference</th>\n",
       "      <th>country</th>\n",
       "      <th>currency</th>\n",
       "      <th>price_2021</th>\n",
       "      <th>price_USD_2021</th>\n",
       "      <th>price_2025</th>\n",
       "      <th>price_USD_2025</th>\n",
       "      <th>Price Difference</th>\n",
       "      <th>Growth Rate (%)</th>\n",
       "      <th>CAGR (%)</th>\n",
       "    </tr>\n",
       "  </thead>\n",
       "  <tbody>\n",
       "    <tr>\n",
       "      <th>0</th>\n",
       "      <td>PANERAI</td>\n",
       "      <td>Luminor</td>\n",
       "      <td>PAM01086</td>\n",
       "      <td>USA</td>\n",
       "      <td>USD</td>\n",
       "      <td>6400.0</td>\n",
       "      <td>6400.0</td>\n",
       "      <td>5600</td>\n",
       "      <td>5600.0</td>\n",
       "      <td>-800.0</td>\n",
       "      <td>-12.500000</td>\n",
       "      <td>-3.283179</td>\n",
       "    </tr>\n",
       "    <tr>\n",
       "      <th>1</th>\n",
       "      <td>PANERAI</td>\n",
       "      <td>Luminor</td>\n",
       "      <td>PAM01084</td>\n",
       "      <td>USA</td>\n",
       "      <td>USD</td>\n",
       "      <td>7100.0</td>\n",
       "      <td>7100.0</td>\n",
       "      <td>6100</td>\n",
       "      <td>6100.0</td>\n",
       "      <td>-1000.0</td>\n",
       "      <td>-14.084507</td>\n",
       "      <td>-3.724037</td>\n",
       "    </tr>\n",
       "    <tr>\n",
       "      <th>2</th>\n",
       "      <td>PANERAI</td>\n",
       "      <td>Luminor</td>\n",
       "      <td>PAM01085</td>\n",
       "      <td>USA</td>\n",
       "      <td>USD</td>\n",
       "      <td>7100.0</td>\n",
       "      <td>7100.0</td>\n",
       "      <td>6100</td>\n",
       "      <td>6100.0</td>\n",
       "      <td>-1000.0</td>\n",
       "      <td>-14.084507</td>\n",
       "      <td>-3.724037</td>\n",
       "    </tr>\n",
       "    <tr>\n",
       "      <th>3</th>\n",
       "      <td>PANERAI</td>\n",
       "      <td>Luminor</td>\n",
       "      <td>PAM00915</td>\n",
       "      <td>USA</td>\n",
       "      <td>USD</td>\n",
       "      <td>8800.0</td>\n",
       "      <td>8800.0</td>\n",
       "      <td>7600</td>\n",
       "      <td>7600.0</td>\n",
       "      <td>-1200.0</td>\n",
       "      <td>-13.636364</td>\n",
       "      <td>-3.598736</td>\n",
       "    </tr>\n",
       "    <tr>\n",
       "      <th>4</th>\n",
       "      <td>PANERAI</td>\n",
       "      <td>Luminor</td>\n",
       "      <td>PAM00422</td>\n",
       "      <td>USA</td>\n",
       "      <td>USD</td>\n",
       "      <td>12800.0</td>\n",
       "      <td>12800.0</td>\n",
       "      <td>11300</td>\n",
       "      <td>11300.0</td>\n",
       "      <td>-1500.0</td>\n",
       "      <td>-11.718750</td>\n",
       "      <td>-3.068012</td>\n",
       "    </tr>\n",
       "  </tbody>\n",
       "</table>\n",
       "</div>"
      ],
      "text/plain": [
       "     brand collection reference country currency  price_2021  price_USD_2021  \\\n",
       "0  PANERAI    Luminor  PAM01086     USA      USD      6400.0          6400.0   \n",
       "1  PANERAI    Luminor  PAM01084     USA      USD      7100.0          7100.0   \n",
       "2  PANERAI    Luminor  PAM01085     USA      USD      7100.0          7100.0   \n",
       "3  PANERAI    Luminor  PAM00915     USA      USD      8800.0          8800.0   \n",
       "4  PANERAI    Luminor  PAM00422     USA      USD     12800.0         12800.0   \n",
       "\n",
       "   price_2025  price_USD_2025  Price Difference  Growth Rate (%)  CAGR (%)  \n",
       "0        5600          5600.0            -800.0       -12.500000 -3.283179  \n",
       "1        6100          6100.0           -1000.0       -14.084507 -3.724037  \n",
       "2        6100          6100.0           -1000.0       -14.084507 -3.724037  \n",
       "3        7600          7600.0           -1200.0       -13.636364 -3.598736  \n",
       "4       11300         11300.0           -1500.0       -11.718750 -3.068012  "
      ]
     },
     "execution_count": 177,
     "metadata": {},
     "output_type": "execute_result"
    }
   ],
   "source": [
    "data_2021_2025 = calculate_price_metrics(data_2021_2025)\n",
    "data_2021_2025.head()"
   ]
  },
  {
   "cell_type": "code",
   "execution_count": 178,
   "id": "cabd7ad1",
   "metadata": {},
   "outputs": [],
   "source": [
    "data_2021_2025.to_csv('../orchestrator/data/gold/Watches_on_sale_from_2021_until_2025_with_comparative_metrics.csv', index=False)"
   ]
  },
  {
   "cell_type": "markdown",
   "id": "1d54c706",
   "metadata": {},
   "source": [
    "#### France"
   ]
  },
  {
   "cell_type": "code",
   "execution_count": 179,
   "id": "b8f3c05c",
   "metadata": {},
   "outputs": [
    {
     "name": "stdout",
     "output_type": "stream",
     "text": [
      "Overall Summary:\n",
      "\n",
      "Total of products analyzed (These products have been consistently purchased since 2021): 29\n",
      "Total number of products with a positive growth rate across the 4 countries: 29\n",
      "Total number of products with a negative growth rate across the 4 countries: 0\n",
      "\n"
     ]
    }
   ],
   "source": [
    "country = 'France'\n",
    "data_2021_2025_country = data_2021_2025[data_2021_2025['country'] == country]\n",
    "\n",
    "positive_increase, count_positive_increase, negative_increase, count_negative_increase = count_increase_directions(data_2021_2025_country)\n",
    "\n",
    "print(\"Overall Summary:\\n\")\n",
    "print(f\"Total of products analyzed (These products have been consistently purchased since 2021): {len(set(data_2021_2025['reference'].values))}\")\n",
    "print(f\"Total number of products with a positive growth rate across the 4 countries: {count_positive_increase}\")\n",
    "print(f\"Total number of products with a negative growth rate across the 4 countries: {count_negative_increase}\\n\")"
   ]
  },
  {
   "cell_type": "code",
   "execution_count": 180,
   "id": "39f1476b",
   "metadata": {
    "scrolled": false
   },
   "outputs": [
    {
     "name": "stdout",
     "output_type": "stream",
     "text": [
      "Product with Positive Growth Rate:\n"
     ]
    },
    {
     "data": {
      "text/html": [
       "<div>\n",
       "<style scoped>\n",
       "    .dataframe tbody tr th:only-of-type {\n",
       "        vertical-align: middle;\n",
       "    }\n",
       "\n",
       "    .dataframe tbody tr th {\n",
       "        vertical-align: top;\n",
       "    }\n",
       "\n",
       "    .dataframe thead th {\n",
       "        text-align: right;\n",
       "    }\n",
       "</style>\n",
       "<table border=\"1\" class=\"dataframe\">\n",
       "  <thead>\n",
       "    <tr style=\"text-align: right;\">\n",
       "      <th></th>\n",
       "      <th>brand</th>\n",
       "      <th>collection</th>\n",
       "      <th>reference</th>\n",
       "      <th>country</th>\n",
       "      <th>currency</th>\n",
       "      <th>price_2021</th>\n",
       "      <th>price_USD_2021</th>\n",
       "      <th>price_2025</th>\n",
       "      <th>price_USD_2025</th>\n",
       "      <th>Price Difference</th>\n",
       "      <th>Growth Rate (%)</th>\n",
       "      <th>CAGR (%)</th>\n",
       "    </tr>\n",
       "  </thead>\n",
       "  <tbody>\n",
       "    <tr>\n",
       "      <th>0</th>\n",
       "      <td>PANERAI</td>\n",
       "      <td>Luminor</td>\n",
       "      <td>PAM01086</td>\n",
       "      <td>France</td>\n",
       "      <td>EUR</td>\n",
       "      <td>4900.0</td>\n",
       "      <td>5782.0</td>\n",
       "      <td>5700</td>\n",
       "      <td>6154.29</td>\n",
       "      <td>800.0</td>\n",
       "      <td>16.326531</td>\n",
       "      <td>3.853155</td>\n",
       "    </tr>\n",
       "    <tr>\n",
       "      <th>1</th>\n",
       "      <td>PANERAI</td>\n",
       "      <td>Luminor</td>\n",
       "      <td>PAM01084</td>\n",
       "      <td>France</td>\n",
       "      <td>EUR</td>\n",
       "      <td>5400.0</td>\n",
       "      <td>6372.0</td>\n",
       "      <td>6200</td>\n",
       "      <td>6694.14</td>\n",
       "      <td>800.0</td>\n",
       "      <td>14.814815</td>\n",
       "      <td>3.514093</td>\n",
       "    </tr>\n",
       "    <tr>\n",
       "      <th>2</th>\n",
       "      <td>PANERAI</td>\n",
       "      <td>Luminor</td>\n",
       "      <td>PAM01085</td>\n",
       "      <td>France</td>\n",
       "      <td>EUR</td>\n",
       "      <td>5400.0</td>\n",
       "      <td>6372.0</td>\n",
       "      <td>6200</td>\n",
       "      <td>6694.14</td>\n",
       "      <td>800.0</td>\n",
       "      <td>14.814815</td>\n",
       "      <td>3.514093</td>\n",
       "    </tr>\n",
       "    <tr>\n",
       "      <th>3</th>\n",
       "      <td>PANERAI</td>\n",
       "      <td>Luminor</td>\n",
       "      <td>PAM00915</td>\n",
       "      <td>France</td>\n",
       "      <td>EUR</td>\n",
       "      <td>6700.0</td>\n",
       "      <td>7906.0</td>\n",
       "      <td>7700</td>\n",
       "      <td>8313.69</td>\n",
       "      <td>1000.0</td>\n",
       "      <td>14.925373</td>\n",
       "      <td>3.539003</td>\n",
       "    </tr>\n",
       "    <tr>\n",
       "      <th>4</th>\n",
       "      <td>PANERAI</td>\n",
       "      <td>Luminor</td>\n",
       "      <td>PAM00422</td>\n",
       "      <td>France</td>\n",
       "      <td>EUR</td>\n",
       "      <td>9800.0</td>\n",
       "      <td>11564.0</td>\n",
       "      <td>11500</td>\n",
       "      <td>12416.55</td>\n",
       "      <td>1700.0</td>\n",
       "      <td>17.346939</td>\n",
       "      <td>4.080158</td>\n",
       "    </tr>\n",
       "  </tbody>\n",
       "</table>\n",
       "</div>"
      ],
      "text/plain": [
       "     brand collection reference country currency  price_2021  price_USD_2021  \\\n",
       "0  PANERAI    Luminor  PAM01086  France      EUR      4900.0          5782.0   \n",
       "1  PANERAI    Luminor  PAM01084  France      EUR      5400.0          6372.0   \n",
       "2  PANERAI    Luminor  PAM01085  France      EUR      5400.0          6372.0   \n",
       "3  PANERAI    Luminor  PAM00915  France      EUR      6700.0          7906.0   \n",
       "4  PANERAI    Luminor  PAM00422  France      EUR      9800.0         11564.0   \n",
       "\n",
       "   price_2025  price_USD_2025  Price Difference  Growth Rate (%)  CAGR (%)  \n",
       "0        5700         6154.29             800.0        16.326531  3.853155  \n",
       "1        6200         6694.14             800.0        14.814815  3.514093  \n",
       "2        6200         6694.14             800.0        14.814815  3.514093  \n",
       "3        7700         8313.69            1000.0        14.925373  3.539003  \n",
       "4       11500        12416.55            1700.0        17.346939  4.080158  "
      ]
     },
     "execution_count": 180,
     "metadata": {},
     "output_type": "execute_result"
    }
   ],
   "source": [
    "print(\"Product with Positive Growth Rate:\")\n",
    "positive_increase.head()"
   ]
  },
  {
   "cell_type": "code",
   "execution_count": 181,
   "id": "0798e71b",
   "metadata": {},
   "outputs": [
    {
     "name": "stdout",
     "output_type": "stream",
     "text": [
      "Product with Negative Growth Rate:\n"
     ]
    },
    {
     "data": {
      "text/html": [
       "<div>\n",
       "<style scoped>\n",
       "    .dataframe tbody tr th:only-of-type {\n",
       "        vertical-align: middle;\n",
       "    }\n",
       "\n",
       "    .dataframe tbody tr th {\n",
       "        vertical-align: top;\n",
       "    }\n",
       "\n",
       "    .dataframe thead th {\n",
       "        text-align: right;\n",
       "    }\n",
       "</style>\n",
       "<table border=\"1\" class=\"dataframe\">\n",
       "  <thead>\n",
       "    <tr style=\"text-align: right;\">\n",
       "      <th></th>\n",
       "      <th>brand</th>\n",
       "      <th>collection</th>\n",
       "      <th>reference</th>\n",
       "      <th>country</th>\n",
       "      <th>currency</th>\n",
       "      <th>price_2021</th>\n",
       "      <th>price_USD_2021</th>\n",
       "      <th>price_2025</th>\n",
       "      <th>price_USD_2025</th>\n",
       "      <th>Price Difference</th>\n",
       "      <th>Growth Rate (%)</th>\n",
       "      <th>CAGR (%)</th>\n",
       "    </tr>\n",
       "  </thead>\n",
       "  <tbody>\n",
       "  </tbody>\n",
       "</table>\n",
       "</div>"
      ],
      "text/plain": [
       "Empty DataFrame\n",
       "Columns: [brand, collection, reference, country, currency, price_2021, price_USD_2021, price_2025, price_USD_2025, Price Difference, Growth Rate (%), CAGR (%)]\n",
       "Index: []"
      ]
     },
     "execution_count": 181,
     "metadata": {},
     "output_type": "execute_result"
    }
   ],
   "source": [
    "print(\"Product with Negative Growth Rate:\")\n",
    "negative_increase.head()"
   ]
  },
  {
   "cell_type": "markdown",
   "id": "42f77d71",
   "metadata": {},
   "source": [
    "##### Identify Products with Extreme Growth Rates"
   ]
  },
  {
   "cell_type": "code",
   "execution_count": 182,
   "id": "c8eacdbe",
   "metadata": {},
   "outputs": [],
   "source": [
    "product_highest_increase_rate, product_lowest_increase_rate = get_extreme_products(data_2021_2025_country)"
   ]
  },
  {
   "cell_type": "code",
   "execution_count": 183,
   "id": "71665e5d",
   "metadata": {
    "scrolled": true
   },
   "outputs": [
    {
     "name": "stdout",
     "output_type": "stream",
     "text": [
      "Product with the Highest Growth Rate:\n"
     ]
    },
    {
     "data": {
      "text/html": [
       "<div>\n",
       "<style scoped>\n",
       "    .dataframe tbody tr th:only-of-type {\n",
       "        vertical-align: middle;\n",
       "    }\n",
       "\n",
       "    .dataframe tbody tr th {\n",
       "        vertical-align: top;\n",
       "    }\n",
       "\n",
       "    .dataframe thead th {\n",
       "        text-align: right;\n",
       "    }\n",
       "</style>\n",
       "<table border=\"1\" class=\"dataframe\">\n",
       "  <thead>\n",
       "    <tr style=\"text-align: right;\">\n",
       "      <th></th>\n",
       "      <th>brand</th>\n",
       "      <th>collection</th>\n",
       "      <th>reference</th>\n",
       "      <th>country</th>\n",
       "      <th>currency</th>\n",
       "      <th>price_2021</th>\n",
       "      <th>price_USD_2021</th>\n",
       "      <th>price_2025</th>\n",
       "      <th>price_USD_2025</th>\n",
       "      <th>Price Difference</th>\n",
       "      <th>Growth Rate (%)</th>\n",
       "      <th>CAGR (%)</th>\n",
       "    </tr>\n",
       "  </thead>\n",
       "  <tbody>\n",
       "    <tr>\n",
       "      <th>0</th>\n",
       "      <td>PANERAI</td>\n",
       "      <td>Luminor</td>\n",
       "      <td>PAM00422</td>\n",
       "      <td>France</td>\n",
       "      <td>EUR</td>\n",
       "      <td>9800.0</td>\n",
       "      <td>11564.0</td>\n",
       "      <td>11500</td>\n",
       "      <td>12416.55</td>\n",
       "      <td>1700.0</td>\n",
       "      <td>17.346939</td>\n",
       "      <td>4.080158</td>\n",
       "    </tr>\n",
       "  </tbody>\n",
       "</table>\n",
       "</div>"
      ],
      "text/plain": [
       "     brand collection reference country currency  price_2021  price_USD_2021  \\\n",
       "0  PANERAI    Luminor  PAM00422  France      EUR      9800.0         11564.0   \n",
       "\n",
       "   price_2025  price_USD_2025  Price Difference  Growth Rate (%)  CAGR (%)  \n",
       "0       11500        12416.55            1700.0        17.346939  4.080158  "
      ]
     },
     "execution_count": 183,
     "metadata": {},
     "output_type": "execute_result"
    }
   ],
   "source": [
    "print(\"Product with the Highest Growth Rate:\")\n",
    "product_highest_increase_rate.head()"
   ]
  },
  {
   "cell_type": "code",
   "execution_count": 110,
   "id": "c1c4b533",
   "metadata": {},
   "outputs": [],
   "source": [
    "product_highest_increase_rate.to_csv(r\"../orchestrator/data/gold/Product_with_Highest_Growth_Rate_between_2021_2025_France.csv\", index=False)"
   ]
  },
  {
   "cell_type": "code",
   "execution_count": 111,
   "id": "49262e9c",
   "metadata": {
    "scrolled": true
   },
   "outputs": [
    {
     "name": "stdout",
     "output_type": "stream",
     "text": [
      "\n",
      "Product with the Lowest Growth Rate:\n"
     ]
    },
    {
     "data": {
      "text/html": [
       "<div>\n",
       "<style scoped>\n",
       "    .dataframe tbody tr th:only-of-type {\n",
       "        vertical-align: middle;\n",
       "    }\n",
       "\n",
       "    .dataframe tbody tr th {\n",
       "        vertical-align: top;\n",
       "    }\n",
       "\n",
       "    .dataframe thead th {\n",
       "        text-align: right;\n",
       "    }\n",
       "</style>\n",
       "<table border=\"1\" class=\"dataframe\">\n",
       "  <thead>\n",
       "    <tr style=\"text-align: right;\">\n",
       "      <th></th>\n",
       "      <th>brand</th>\n",
       "      <th>collection</th>\n",
       "      <th>reference</th>\n",
       "      <th>country</th>\n",
       "      <th>currency</th>\n",
       "      <th>price_2021</th>\n",
       "      <th>price_USD_2021</th>\n",
       "      <th>price_2025</th>\n",
       "      <th>price_USD_2025</th>\n",
       "      <th>Price Difference</th>\n",
       "      <th>Growth Rate (%)</th>\n",
       "      <th>CAGR (%)</th>\n",
       "    </tr>\n",
       "  </thead>\n",
       "  <tbody>\n",
       "    <tr>\n",
       "      <th>0</th>\n",
       "      <td>PANERAI</td>\n",
       "      <td>Luminor</td>\n",
       "      <td>PAM00715</td>\n",
       "      <td>France</td>\n",
       "      <td>EUR</td>\n",
       "      <td>66000.0</td>\n",
       "      <td>77880.0</td>\n",
       "      <td>72000</td>\n",
       "      <td>77738.4</td>\n",
       "      <td>6000.0</td>\n",
       "      <td>9.090909</td>\n",
       "      <td>2.199116</td>\n",
       "    </tr>\n",
       "  </tbody>\n",
       "</table>\n",
       "</div>"
      ],
      "text/plain": [
       "     brand collection reference country currency  price_2021  price_USD_2021  \\\n",
       "0  PANERAI    Luminor  PAM00715  France      EUR     66000.0         77880.0   \n",
       "\n",
       "   price_2025  price_USD_2025  Price Difference  Growth Rate (%)  CAGR (%)  \n",
       "0       72000         77738.4            6000.0         9.090909  2.199116  "
      ]
     },
     "execution_count": 111,
     "metadata": {},
     "output_type": "execute_result"
    }
   ],
   "source": [
    "print(\"\\nProduct with the Lowest Growth Rate:\")\n",
    "product_lowest_increase_rate.head()"
   ]
  },
  {
   "cell_type": "code",
   "execution_count": 112,
   "id": "f3b9590c",
   "metadata": {},
   "outputs": [],
   "source": [
    "product_lowest_increase_rate.to_csv(r\"../orchestrator/data/gold/Product_with_Lowest_Growth_Rate_between_2021_2025_France.csv\", index=False)"
   ]
  },
  {
   "cell_type": "markdown",
   "id": "d4a8997c",
   "metadata": {},
   "source": [
    "#### UK"
   ]
  },
  {
   "cell_type": "code",
   "execution_count": 184,
   "id": "c86d522a",
   "metadata": {},
   "outputs": [
    {
     "name": "stdout",
     "output_type": "stream",
     "text": [
      "Overall Summary:\n",
      "\n",
      "Total of products analyzed (These products have been consistently purchased since 2021): 29\n",
      "Total number of products with a positive growth rate across the 4 countries: 26\n",
      "Total number of products with a negative growth rate across the 4 countries: 3\n",
      "\n"
     ]
    }
   ],
   "source": [
    "country = 'UK'\n",
    "data_2021_2025_country = data_2021_2025[data_2021_2025['country'] == country]\n",
    "\n",
    "positive_increase, count_positive_increase, negative_increase, count_negative_increase = count_increase_directions(data_2021_2025_country)\n",
    "\n",
    "print(\"Overall Summary:\\n\")\n",
    "print(f\"Total of products analyzed (These products have been consistently purchased since 2021): {len(set(data_2021_2025['reference'].values))}\")\n",
    "print(f\"Total number of products with a positive growth rate across the 4 countries: {count_positive_increase}\")\n",
    "print(f\"Total number of products with a negative growth rate across the 4 countries: {count_negative_increase}\\n\")"
   ]
  },
  {
   "cell_type": "code",
   "execution_count": 185,
   "id": "7d8fb305",
   "metadata": {
    "scrolled": false
   },
   "outputs": [
    {
     "name": "stdout",
     "output_type": "stream",
     "text": [
      "Product with Positive Growth Rate:\n"
     ]
    },
    {
     "data": {
      "text/html": [
       "<div>\n",
       "<style scoped>\n",
       "    .dataframe tbody tr th:only-of-type {\n",
       "        vertical-align: middle;\n",
       "    }\n",
       "\n",
       "    .dataframe tbody tr th {\n",
       "        vertical-align: top;\n",
       "    }\n",
       "\n",
       "    .dataframe thead th {\n",
       "        text-align: right;\n",
       "    }\n",
       "</style>\n",
       "<table border=\"1\" class=\"dataframe\">\n",
       "  <thead>\n",
       "    <tr style=\"text-align: right;\">\n",
       "      <th></th>\n",
       "      <th>brand</th>\n",
       "      <th>collection</th>\n",
       "      <th>reference</th>\n",
       "      <th>country</th>\n",
       "      <th>currency</th>\n",
       "      <th>price_2021</th>\n",
       "      <th>price_USD_2021</th>\n",
       "      <th>price_2025</th>\n",
       "      <th>price_USD_2025</th>\n",
       "      <th>Price Difference</th>\n",
       "      <th>Growth Rate (%)</th>\n",
       "      <th>CAGR (%)</th>\n",
       "    </tr>\n",
       "  </thead>\n",
       "  <tbody>\n",
       "    <tr>\n",
       "      <th>0</th>\n",
       "      <td>PANERAI</td>\n",
       "      <td>Luminor</td>\n",
       "      <td>PAM01086</td>\n",
       "      <td>UK</td>\n",
       "      <td>GBP</td>\n",
       "      <td>4300.0</td>\n",
       "      <td>5934.0</td>\n",
       "      <td>4900</td>\n",
       "      <td>6313.65</td>\n",
       "      <td>600.0</td>\n",
       "      <td>13.953488</td>\n",
       "      <td>3.319407</td>\n",
       "    </tr>\n",
       "    <tr>\n",
       "      <th>1</th>\n",
       "      <td>PANERAI</td>\n",
       "      <td>Luminor</td>\n",
       "      <td>PAM01084</td>\n",
       "      <td>UK</td>\n",
       "      <td>GBP</td>\n",
       "      <td>4800.0</td>\n",
       "      <td>6624.0</td>\n",
       "      <td>5300</td>\n",
       "      <td>6829.05</td>\n",
       "      <td>500.0</td>\n",
       "      <td>10.416667</td>\n",
       "      <td>2.508212</td>\n",
       "    </tr>\n",
       "    <tr>\n",
       "      <th>2</th>\n",
       "      <td>PANERAI</td>\n",
       "      <td>Luminor</td>\n",
       "      <td>PAM01085</td>\n",
       "      <td>UK</td>\n",
       "      <td>GBP</td>\n",
       "      <td>4800.0</td>\n",
       "      <td>6624.0</td>\n",
       "      <td>5300</td>\n",
       "      <td>6829.05</td>\n",
       "      <td>500.0</td>\n",
       "      <td>10.416667</td>\n",
       "      <td>2.508212</td>\n",
       "    </tr>\n",
       "    <tr>\n",
       "      <th>3</th>\n",
       "      <td>PANERAI</td>\n",
       "      <td>Luminor</td>\n",
       "      <td>PAM00915</td>\n",
       "      <td>UK</td>\n",
       "      <td>GBP</td>\n",
       "      <td>5800.0</td>\n",
       "      <td>8004.0</td>\n",
       "      <td>6500</td>\n",
       "      <td>8375.25</td>\n",
       "      <td>700.0</td>\n",
       "      <td>12.068966</td>\n",
       "      <td>2.889567</td>\n",
       "    </tr>\n",
       "    <tr>\n",
       "      <th>4</th>\n",
       "      <td>PANERAI</td>\n",
       "      <td>Luminor</td>\n",
       "      <td>PAM00422</td>\n",
       "      <td>UK</td>\n",
       "      <td>GBP</td>\n",
       "      <td>8500.0</td>\n",
       "      <td>11730.0</td>\n",
       "      <td>9800</td>\n",
       "      <td>12627.30</td>\n",
       "      <td>1300.0</td>\n",
       "      <td>15.294118</td>\n",
       "      <td>3.621956</td>\n",
       "    </tr>\n",
       "  </tbody>\n",
       "</table>\n",
       "</div>"
      ],
      "text/plain": [
       "     brand collection reference country currency  price_2021  price_USD_2021  \\\n",
       "0  PANERAI    Luminor  PAM01086      UK      GBP      4300.0          5934.0   \n",
       "1  PANERAI    Luminor  PAM01084      UK      GBP      4800.0          6624.0   \n",
       "2  PANERAI    Luminor  PAM01085      UK      GBP      4800.0          6624.0   \n",
       "3  PANERAI    Luminor  PAM00915      UK      GBP      5800.0          8004.0   \n",
       "4  PANERAI    Luminor  PAM00422      UK      GBP      8500.0         11730.0   \n",
       "\n",
       "   price_2025  price_USD_2025  Price Difference  Growth Rate (%)  CAGR (%)  \n",
       "0        4900         6313.65             600.0        13.953488  3.319407  \n",
       "1        5300         6829.05             500.0        10.416667  2.508212  \n",
       "2        5300         6829.05             500.0        10.416667  2.508212  \n",
       "3        6500         8375.25             700.0        12.068966  2.889567  \n",
       "4        9800        12627.30            1300.0        15.294118  3.621956  "
      ]
     },
     "execution_count": 185,
     "metadata": {},
     "output_type": "execute_result"
    }
   ],
   "source": [
    "print(\"Product with Positive Growth Rate:\")\n",
    "positive_increase.head()"
   ]
  },
  {
   "cell_type": "code",
   "execution_count": 186,
   "id": "a255a874",
   "metadata": {},
   "outputs": [
    {
     "name": "stdout",
     "output_type": "stream",
     "text": [
      "Product with Negative Growth Rate:\n"
     ]
    },
    {
     "data": {
      "text/html": [
       "<div>\n",
       "<style scoped>\n",
       "    .dataframe tbody tr th:only-of-type {\n",
       "        vertical-align: middle;\n",
       "    }\n",
       "\n",
       "    .dataframe tbody tr th {\n",
       "        vertical-align: top;\n",
       "    }\n",
       "\n",
       "    .dataframe thead th {\n",
       "        text-align: right;\n",
       "    }\n",
       "</style>\n",
       "<table border=\"1\" class=\"dataframe\">\n",
       "  <thead>\n",
       "    <tr style=\"text-align: right;\">\n",
       "      <th></th>\n",
       "      <th>brand</th>\n",
       "      <th>collection</th>\n",
       "      <th>reference</th>\n",
       "      <th>country</th>\n",
       "      <th>currency</th>\n",
       "      <th>price_2021</th>\n",
       "      <th>price_USD_2021</th>\n",
       "      <th>price_2025</th>\n",
       "      <th>price_USD_2025</th>\n",
       "      <th>Price Difference</th>\n",
       "      <th>Growth Rate (%)</th>\n",
       "      <th>CAGR (%)</th>\n",
       "    </tr>\n",
       "  </thead>\n",
       "  <tbody>\n",
       "    <tr>\n",
       "      <th>0</th>\n",
       "      <td>PANERAI</td>\n",
       "      <td>Luminor</td>\n",
       "      <td>PAM00742</td>\n",
       "      <td>UK</td>\n",
       "      <td>GBP</td>\n",
       "      <td>41400.0</td>\n",
       "      <td>57132.0</td>\n",
       "      <td>36300</td>\n",
       "      <td>46772.55</td>\n",
       "      <td>-5100.0</td>\n",
       "      <td>-12.318841</td>\n",
       "      <td>-3.233157</td>\n",
       "    </tr>\n",
       "    <tr>\n",
       "      <th>1</th>\n",
       "      <td>PANERAI</td>\n",
       "      <td>Luminor</td>\n",
       "      <td>PAM00715</td>\n",
       "      <td>UK</td>\n",
       "      <td>GBP</td>\n",
       "      <td>59400.0</td>\n",
       "      <td>81972.0</td>\n",
       "      <td>50200</td>\n",
       "      <td>64682.70</td>\n",
       "      <td>-9200.0</td>\n",
       "      <td>-15.488215</td>\n",
       "      <td>-4.119715</td>\n",
       "    </tr>\n",
       "    <tr>\n",
       "      <th>2</th>\n",
       "      <td>PANERAI</td>\n",
       "      <td>Luminor</td>\n",
       "      <td>PAM01060</td>\n",
       "      <td>UK</td>\n",
       "      <td>GBP</td>\n",
       "      <td>148200.0</td>\n",
       "      <td>204516.0</td>\n",
       "      <td>131800</td>\n",
       "      <td>169824.30</td>\n",
       "      <td>-16400.0</td>\n",
       "      <td>-11.066127</td>\n",
       "      <td>-2.889363</td>\n",
       "    </tr>\n",
       "  </tbody>\n",
       "</table>\n",
       "</div>"
      ],
      "text/plain": [
       "     brand collection reference country currency  price_2021  price_USD_2021  \\\n",
       "0  PANERAI    Luminor  PAM00742      UK      GBP     41400.0         57132.0   \n",
       "1  PANERAI    Luminor  PAM00715      UK      GBP     59400.0         81972.0   \n",
       "2  PANERAI    Luminor  PAM01060      UK      GBP    148200.0        204516.0   \n",
       "\n",
       "   price_2025  price_USD_2025  Price Difference  Growth Rate (%)  CAGR (%)  \n",
       "0       36300        46772.55           -5100.0       -12.318841 -3.233157  \n",
       "1       50200        64682.70           -9200.0       -15.488215 -4.119715  \n",
       "2      131800       169824.30          -16400.0       -11.066127 -2.889363  "
      ]
     },
     "execution_count": 186,
     "metadata": {},
     "output_type": "execute_result"
    }
   ],
   "source": [
    "print(\"Product with Negative Growth Rate:\")\n",
    "negative_increase.head()"
   ]
  },
  {
   "cell_type": "markdown",
   "id": "eb7cf0d6",
   "metadata": {},
   "source": [
    "##### Identify Products with Extreme Growth Rates"
   ]
  },
  {
   "cell_type": "code",
   "execution_count": 187,
   "id": "15dbe05b",
   "metadata": {},
   "outputs": [],
   "source": [
    "product_highest_increase_rate, product_lowest_increase_rate = get_extreme_products(data_2021_2025_country)"
   ]
  },
  {
   "cell_type": "code",
   "execution_count": 188,
   "id": "9790388f",
   "metadata": {},
   "outputs": [
    {
     "name": "stdout",
     "output_type": "stream",
     "text": [
      "Product with the Highest Growth Rate:\n"
     ]
    },
    {
     "data": {
      "text/html": [
       "<div>\n",
       "<style scoped>\n",
       "    .dataframe tbody tr th:only-of-type {\n",
       "        vertical-align: middle;\n",
       "    }\n",
       "\n",
       "    .dataframe tbody tr th {\n",
       "        vertical-align: top;\n",
       "    }\n",
       "\n",
       "    .dataframe thead th {\n",
       "        text-align: right;\n",
       "    }\n",
       "</style>\n",
       "<table border=\"1\" class=\"dataframe\">\n",
       "  <thead>\n",
       "    <tr style=\"text-align: right;\">\n",
       "      <th></th>\n",
       "      <th>brand</th>\n",
       "      <th>collection</th>\n",
       "      <th>reference</th>\n",
       "      <th>country</th>\n",
       "      <th>currency</th>\n",
       "      <th>price_2021</th>\n",
       "      <th>price_USD_2021</th>\n",
       "      <th>price_2025</th>\n",
       "      <th>price_USD_2025</th>\n",
       "      <th>Price Difference</th>\n",
       "      <th>Growth Rate (%)</th>\n",
       "      <th>CAGR (%)</th>\n",
       "    </tr>\n",
       "  </thead>\n",
       "  <tbody>\n",
       "    <tr>\n",
       "      <th>0</th>\n",
       "      <td>PANERAI</td>\n",
       "      <td>Luminor</td>\n",
       "      <td>PAM01441</td>\n",
       "      <td>UK</td>\n",
       "      <td>GBP</td>\n",
       "      <td>10200.0</td>\n",
       "      <td>14076.0</td>\n",
       "      <td>12900</td>\n",
       "      <td>16621.65</td>\n",
       "      <td>2700.0</td>\n",
       "      <td>26.470588</td>\n",
       "      <td>6.046755</td>\n",
       "    </tr>\n",
       "  </tbody>\n",
       "</table>\n",
       "</div>"
      ],
      "text/plain": [
       "     brand collection reference country currency  price_2021  price_USD_2021  \\\n",
       "0  PANERAI    Luminor  PAM01441      UK      GBP     10200.0         14076.0   \n",
       "\n",
       "   price_2025  price_USD_2025  Price Difference  Growth Rate (%)  CAGR (%)  \n",
       "0       12900        16621.65            2700.0        26.470588  6.046755  "
      ]
     },
     "execution_count": 188,
     "metadata": {},
     "output_type": "execute_result"
    }
   ],
   "source": [
    "print(\"Product with the Highest Growth Rate:\")\n",
    "product_highest_increase_rate.head()"
   ]
  },
  {
   "cell_type": "code",
   "execution_count": 189,
   "id": "4cc45c6e",
   "metadata": {},
   "outputs": [],
   "source": [
    "product_highest_increase_rate.to_csv(r\"../orchestrator/data/gold/Product_with_Highest_Growth_Rate_between_2021_2025_UK.csv\", index=False)"
   ]
  },
  {
   "cell_type": "code",
   "execution_count": 190,
   "id": "2c178d3e",
   "metadata": {
    "scrolled": false
   },
   "outputs": [
    {
     "name": "stdout",
     "output_type": "stream",
     "text": [
      "\n",
      "Product with the Lowest Growth Rate:\n"
     ]
    },
    {
     "data": {
      "text/html": [
       "<div>\n",
       "<style scoped>\n",
       "    .dataframe tbody tr th:only-of-type {\n",
       "        vertical-align: middle;\n",
       "    }\n",
       "\n",
       "    .dataframe tbody tr th {\n",
       "        vertical-align: top;\n",
       "    }\n",
       "\n",
       "    .dataframe thead th {\n",
       "        text-align: right;\n",
       "    }\n",
       "</style>\n",
       "<table border=\"1\" class=\"dataframe\">\n",
       "  <thead>\n",
       "    <tr style=\"text-align: right;\">\n",
       "      <th></th>\n",
       "      <th>brand</th>\n",
       "      <th>collection</th>\n",
       "      <th>reference</th>\n",
       "      <th>country</th>\n",
       "      <th>currency</th>\n",
       "      <th>price_2021</th>\n",
       "      <th>price_USD_2021</th>\n",
       "      <th>price_2025</th>\n",
       "      <th>price_USD_2025</th>\n",
       "      <th>Price Difference</th>\n",
       "      <th>Growth Rate (%)</th>\n",
       "      <th>CAGR (%)</th>\n",
       "    </tr>\n",
       "  </thead>\n",
       "  <tbody>\n",
       "    <tr>\n",
       "      <th>0</th>\n",
       "      <td>PANERAI</td>\n",
       "      <td>Luminor</td>\n",
       "      <td>PAM00715</td>\n",
       "      <td>UK</td>\n",
       "      <td>GBP</td>\n",
       "      <td>59400.0</td>\n",
       "      <td>81972.0</td>\n",
       "      <td>50200</td>\n",
       "      <td>64682.7</td>\n",
       "      <td>-9200.0</td>\n",
       "      <td>-15.488215</td>\n",
       "      <td>-4.119715</td>\n",
       "    </tr>\n",
       "  </tbody>\n",
       "</table>\n",
       "</div>"
      ],
      "text/plain": [
       "     brand collection reference country currency  price_2021  price_USD_2021  \\\n",
       "0  PANERAI    Luminor  PAM00715      UK      GBP     59400.0         81972.0   \n",
       "\n",
       "   price_2025  price_USD_2025  Price Difference  Growth Rate (%)  CAGR (%)  \n",
       "0       50200         64682.7           -9200.0       -15.488215 -4.119715  "
      ]
     },
     "execution_count": 190,
     "metadata": {},
     "output_type": "execute_result"
    }
   ],
   "source": [
    "print(\"\\nProduct with the Lowest Growth Rate:\")\n",
    "product_lowest_increase_rate.head()"
   ]
  },
  {
   "cell_type": "code",
   "execution_count": 191,
   "id": "8d969860",
   "metadata": {},
   "outputs": [],
   "source": [
    "product_lowest_increase_rate.to_csv(r\"../orchestrator/data/gold/Product_with_Lowest_Growth_Rate_between_2021_2025_UK.csv\", index=False)"
   ]
  },
  {
   "cell_type": "markdown",
   "id": "76967579",
   "metadata": {},
   "source": [
    "#### USA"
   ]
  },
  {
   "cell_type": "code",
   "execution_count": 192,
   "id": "33fd7321",
   "metadata": {},
   "outputs": [
    {
     "name": "stdout",
     "output_type": "stream",
     "text": [
      "Overall Summary:\n",
      "\n",
      "Total of products analyzed (These products have been consistently purchased since 2021): 29\n",
      "Total number of products with a positive growth rate across the 4 countries: 0\n",
      "Total number of products with a negative growth rate across the 4 countries: 29\n",
      "\n"
     ]
    }
   ],
   "source": [
    "country = 'USA'\n",
    "data_2021_2025_country = data_2021_2025[data_2021_2025['country'] == country]\n",
    "\n",
    "positive_increase, count_positive_increase, negative_increase, count_negative_increase = count_increase_directions(data_2021_2025_country)\n",
    "\n",
    "print(\"Overall Summary:\\n\")\n",
    "print(f\"Total of products analyzed (These products have been consistently purchased since 2021): {len(set(data_2021_2025['reference'].values))}\")\n",
    "print(f\"Total number of products with a positive growth rate across the 4 countries: {count_positive_increase}\")\n",
    "print(f\"Total number of products with a negative growth rate across the 4 countries: {count_negative_increase}\\n\")"
   ]
  },
  {
   "cell_type": "code",
   "execution_count": 193,
   "id": "b81de4c4",
   "metadata": {
    "scrolled": false
   },
   "outputs": [
    {
     "name": "stdout",
     "output_type": "stream",
     "text": [
      "Product with Positive Growth Rate:\n"
     ]
    },
    {
     "data": {
      "text/html": [
       "<div>\n",
       "<style scoped>\n",
       "    .dataframe tbody tr th:only-of-type {\n",
       "        vertical-align: middle;\n",
       "    }\n",
       "\n",
       "    .dataframe tbody tr th {\n",
       "        vertical-align: top;\n",
       "    }\n",
       "\n",
       "    .dataframe thead th {\n",
       "        text-align: right;\n",
       "    }\n",
       "</style>\n",
       "<table border=\"1\" class=\"dataframe\">\n",
       "  <thead>\n",
       "    <tr style=\"text-align: right;\">\n",
       "      <th></th>\n",
       "      <th>brand</th>\n",
       "      <th>collection</th>\n",
       "      <th>reference</th>\n",
       "      <th>country</th>\n",
       "      <th>currency</th>\n",
       "      <th>price_2021</th>\n",
       "      <th>price_USD_2021</th>\n",
       "      <th>price_2025</th>\n",
       "      <th>price_USD_2025</th>\n",
       "      <th>Price Difference</th>\n",
       "      <th>Growth Rate (%)</th>\n",
       "      <th>CAGR (%)</th>\n",
       "    </tr>\n",
       "  </thead>\n",
       "  <tbody>\n",
       "  </tbody>\n",
       "</table>\n",
       "</div>"
      ],
      "text/plain": [
       "Empty DataFrame\n",
       "Columns: [brand, collection, reference, country, currency, price_2021, price_USD_2021, price_2025, price_USD_2025, Price Difference, Growth Rate (%), CAGR (%)]\n",
       "Index: []"
      ]
     },
     "execution_count": 193,
     "metadata": {},
     "output_type": "execute_result"
    }
   ],
   "source": [
    "print(\"Product with Positive Growth Rate:\")\n",
    "positive_increase.head()"
   ]
  },
  {
   "cell_type": "code",
   "execution_count": 194,
   "id": "55f229c4",
   "metadata": {},
   "outputs": [
    {
     "name": "stdout",
     "output_type": "stream",
     "text": [
      "Product with Negative Growth Rate:\n"
     ]
    },
    {
     "data": {
      "text/html": [
       "<div>\n",
       "<style scoped>\n",
       "    .dataframe tbody tr th:only-of-type {\n",
       "        vertical-align: middle;\n",
       "    }\n",
       "\n",
       "    .dataframe tbody tr th {\n",
       "        vertical-align: top;\n",
       "    }\n",
       "\n",
       "    .dataframe thead th {\n",
       "        text-align: right;\n",
       "    }\n",
       "</style>\n",
       "<table border=\"1\" class=\"dataframe\">\n",
       "  <thead>\n",
       "    <tr style=\"text-align: right;\">\n",
       "      <th></th>\n",
       "      <th>brand</th>\n",
       "      <th>collection</th>\n",
       "      <th>reference</th>\n",
       "      <th>country</th>\n",
       "      <th>currency</th>\n",
       "      <th>price_2021</th>\n",
       "      <th>price_USD_2021</th>\n",
       "      <th>price_2025</th>\n",
       "      <th>price_USD_2025</th>\n",
       "      <th>Price Difference</th>\n",
       "      <th>Growth Rate (%)</th>\n",
       "      <th>CAGR (%)</th>\n",
       "    </tr>\n",
       "  </thead>\n",
       "  <tbody>\n",
       "    <tr>\n",
       "      <th>0</th>\n",
       "      <td>PANERAI</td>\n",
       "      <td>Luminor</td>\n",
       "      <td>PAM01086</td>\n",
       "      <td>USA</td>\n",
       "      <td>USD</td>\n",
       "      <td>6400.0</td>\n",
       "      <td>6400.0</td>\n",
       "      <td>5600</td>\n",
       "      <td>5600.0</td>\n",
       "      <td>-800.0</td>\n",
       "      <td>-12.500000</td>\n",
       "      <td>-3.283179</td>\n",
       "    </tr>\n",
       "    <tr>\n",
       "      <th>1</th>\n",
       "      <td>PANERAI</td>\n",
       "      <td>Luminor</td>\n",
       "      <td>PAM01084</td>\n",
       "      <td>USA</td>\n",
       "      <td>USD</td>\n",
       "      <td>7100.0</td>\n",
       "      <td>7100.0</td>\n",
       "      <td>6100</td>\n",
       "      <td>6100.0</td>\n",
       "      <td>-1000.0</td>\n",
       "      <td>-14.084507</td>\n",
       "      <td>-3.724037</td>\n",
       "    </tr>\n",
       "    <tr>\n",
       "      <th>2</th>\n",
       "      <td>PANERAI</td>\n",
       "      <td>Luminor</td>\n",
       "      <td>PAM01085</td>\n",
       "      <td>USA</td>\n",
       "      <td>USD</td>\n",
       "      <td>7100.0</td>\n",
       "      <td>7100.0</td>\n",
       "      <td>6100</td>\n",
       "      <td>6100.0</td>\n",
       "      <td>-1000.0</td>\n",
       "      <td>-14.084507</td>\n",
       "      <td>-3.724037</td>\n",
       "    </tr>\n",
       "    <tr>\n",
       "      <th>3</th>\n",
       "      <td>PANERAI</td>\n",
       "      <td>Luminor</td>\n",
       "      <td>PAM00915</td>\n",
       "      <td>USA</td>\n",
       "      <td>USD</td>\n",
       "      <td>8800.0</td>\n",
       "      <td>8800.0</td>\n",
       "      <td>7600</td>\n",
       "      <td>7600.0</td>\n",
       "      <td>-1200.0</td>\n",
       "      <td>-13.636364</td>\n",
       "      <td>-3.598736</td>\n",
       "    </tr>\n",
       "    <tr>\n",
       "      <th>4</th>\n",
       "      <td>PANERAI</td>\n",
       "      <td>Luminor</td>\n",
       "      <td>PAM00422</td>\n",
       "      <td>USA</td>\n",
       "      <td>USD</td>\n",
       "      <td>12800.0</td>\n",
       "      <td>12800.0</td>\n",
       "      <td>11300</td>\n",
       "      <td>11300.0</td>\n",
       "      <td>-1500.0</td>\n",
       "      <td>-11.718750</td>\n",
       "      <td>-3.068012</td>\n",
       "    </tr>\n",
       "  </tbody>\n",
       "</table>\n",
       "</div>"
      ],
      "text/plain": [
       "     brand collection reference country currency  price_2021  price_USD_2021  \\\n",
       "0  PANERAI    Luminor  PAM01086     USA      USD      6400.0          6400.0   \n",
       "1  PANERAI    Luminor  PAM01084     USA      USD      7100.0          7100.0   \n",
       "2  PANERAI    Luminor  PAM01085     USA      USD      7100.0          7100.0   \n",
       "3  PANERAI    Luminor  PAM00915     USA      USD      8800.0          8800.0   \n",
       "4  PANERAI    Luminor  PAM00422     USA      USD     12800.0         12800.0   \n",
       "\n",
       "   price_2025  price_USD_2025  Price Difference  Growth Rate (%)  CAGR (%)  \n",
       "0        5600          5600.0            -800.0       -12.500000 -3.283179  \n",
       "1        6100          6100.0           -1000.0       -14.084507 -3.724037  \n",
       "2        6100          6100.0           -1000.0       -14.084507 -3.724037  \n",
       "3        7600          7600.0           -1200.0       -13.636364 -3.598736  \n",
       "4       11300         11300.0           -1500.0       -11.718750 -3.068012  "
      ]
     },
     "execution_count": 194,
     "metadata": {},
     "output_type": "execute_result"
    }
   ],
   "source": [
    "print(\"Product with Negative Growth Rate:\")\n",
    "negative_increase.head()"
   ]
  },
  {
   "cell_type": "markdown",
   "id": "2f847706",
   "metadata": {},
   "source": [
    "##### Identify Products with Extreme Growth Rates"
   ]
  },
  {
   "cell_type": "code",
   "execution_count": 195,
   "id": "10b4ca2b",
   "metadata": {},
   "outputs": [],
   "source": [
    "product_highest_increase_rate, product_lowest_increase_rate = get_extreme_products(data_2021_2025_country)"
   ]
  },
  {
   "cell_type": "code",
   "execution_count": 196,
   "id": "2837e915",
   "metadata": {},
   "outputs": [
    {
     "name": "stdout",
     "output_type": "stream",
     "text": [
      "Product with the Highest Growth Rate:\n"
     ]
    },
    {
     "data": {
      "text/html": [
       "<div>\n",
       "<style scoped>\n",
       "    .dataframe tbody tr th:only-of-type {\n",
       "        vertical-align: middle;\n",
       "    }\n",
       "\n",
       "    .dataframe tbody tr th {\n",
       "        vertical-align: top;\n",
       "    }\n",
       "\n",
       "    .dataframe thead th {\n",
       "        text-align: right;\n",
       "    }\n",
       "</style>\n",
       "<table border=\"1\" class=\"dataframe\">\n",
       "  <thead>\n",
       "    <tr style=\"text-align: right;\">\n",
       "      <th></th>\n",
       "      <th>brand</th>\n",
       "      <th>collection</th>\n",
       "      <th>reference</th>\n",
       "      <th>country</th>\n",
       "      <th>currency</th>\n",
       "      <th>price_2021</th>\n",
       "      <th>price_USD_2021</th>\n",
       "      <th>price_2025</th>\n",
       "      <th>price_USD_2025</th>\n",
       "      <th>Price Difference</th>\n",
       "      <th>Growth Rate (%)</th>\n",
       "      <th>CAGR (%)</th>\n",
       "    </tr>\n",
       "  </thead>\n",
       "  <tbody>\n",
       "    <tr>\n",
       "      <th>0</th>\n",
       "      <td>PANERAI</td>\n",
       "      <td>Submersible</td>\n",
       "      <td>PAM00968</td>\n",
       "      <td>USA</td>\n",
       "      <td>USD</td>\n",
       "      <td>20900.0</td>\n",
       "      <td>20900.0</td>\n",
       "      <td>18600</td>\n",
       "      <td>18600.0</td>\n",
       "      <td>-2300.0</td>\n",
       "      <td>-11.004785</td>\n",
       "      <td>-2.872622</td>\n",
       "    </tr>\n",
       "  </tbody>\n",
       "</table>\n",
       "</div>"
      ],
      "text/plain": [
       "     brand   collection reference country currency  price_2021  \\\n",
       "0  PANERAI  Submersible  PAM00968     USA      USD     20900.0   \n",
       "\n",
       "   price_USD_2021  price_2025  price_USD_2025  Price Difference  \\\n",
       "0         20900.0       18600         18600.0           -2300.0   \n",
       "\n",
       "   Growth Rate (%)  CAGR (%)  \n",
       "0       -11.004785 -2.872622  "
      ]
     },
     "execution_count": 196,
     "metadata": {},
     "output_type": "execute_result"
    }
   ],
   "source": [
    "print(\"Product with the Highest Growth Rate:\")\n",
    "product_highest_increase_rate.head()"
   ]
  },
  {
   "cell_type": "code",
   "execution_count": 197,
   "id": "a5b8a229",
   "metadata": {},
   "outputs": [],
   "source": [
    "product_highest_increase_rate.to_csv(r\"../orchestrator/data/gold/Product_with_Highest_Growth_Rate_between_2021_2025_USA.csv\", index=False)"
   ]
  },
  {
   "cell_type": "code",
   "execution_count": 198,
   "id": "5d576dc8",
   "metadata": {
    "scrolled": true
   },
   "outputs": [
    {
     "name": "stdout",
     "output_type": "stream",
     "text": [
      "\n",
      "Product with the Lowest Growth Rate:\n"
     ]
    },
    {
     "data": {
      "text/html": [
       "<div>\n",
       "<style scoped>\n",
       "    .dataframe tbody tr th:only-of-type {\n",
       "        vertical-align: middle;\n",
       "    }\n",
       "\n",
       "    .dataframe tbody tr th {\n",
       "        vertical-align: top;\n",
       "    }\n",
       "\n",
       "    .dataframe thead th {\n",
       "        text-align: right;\n",
       "    }\n",
       "</style>\n",
       "<table border=\"1\" class=\"dataframe\">\n",
       "  <thead>\n",
       "    <tr style=\"text-align: right;\">\n",
       "      <th></th>\n",
       "      <th>brand</th>\n",
       "      <th>collection</th>\n",
       "      <th>reference</th>\n",
       "      <th>country</th>\n",
       "      <th>currency</th>\n",
       "      <th>price_2021</th>\n",
       "      <th>price_USD_2021</th>\n",
       "      <th>price_2025</th>\n",
       "      <th>price_USD_2025</th>\n",
       "      <th>Price Difference</th>\n",
       "      <th>Growth Rate (%)</th>\n",
       "      <th>CAGR (%)</th>\n",
       "    </tr>\n",
       "  </thead>\n",
       "  <tbody>\n",
       "    <tr>\n",
       "      <th>0</th>\n",
       "      <td>PANERAI</td>\n",
       "      <td>Luminor</td>\n",
       "      <td>PAM00715</td>\n",
       "      <td>USA</td>\n",
       "      <td>USD</td>\n",
       "      <td>85900.0</td>\n",
       "      <td>85900.0</td>\n",
       "      <td>62400</td>\n",
       "      <td>62400.0</td>\n",
       "      <td>-23500.0</td>\n",
       "      <td>-27.357392</td>\n",
       "      <td>-7.679562</td>\n",
       "    </tr>\n",
       "  </tbody>\n",
       "</table>\n",
       "</div>"
      ],
      "text/plain": [
       "     brand collection reference country currency  price_2021  price_USD_2021  \\\n",
       "0  PANERAI    Luminor  PAM00715     USA      USD     85900.0         85900.0   \n",
       "\n",
       "   price_2025  price_USD_2025  Price Difference  Growth Rate (%)  CAGR (%)  \n",
       "0       62400         62400.0          -23500.0       -27.357392 -7.679562  "
      ]
     },
     "execution_count": 198,
     "metadata": {},
     "output_type": "execute_result"
    }
   ],
   "source": [
    "print(\"\\nProduct with the Lowest Growth Rate:\")\n",
    "product_lowest_increase_rate.head()"
   ]
  },
  {
   "cell_type": "code",
   "execution_count": 199,
   "id": "85c3f232",
   "metadata": {},
   "outputs": [],
   "source": [
    "product_lowest_increase_rate.to_csv(r\"../orchestrator/data/gold/Product_with_Lowest_Growth_Rate_between_2021_2025_USA.csv\", index=False)"
   ]
  },
  {
   "cell_type": "markdown",
   "id": "fa630f83",
   "metadata": {},
   "source": [
    "#### Japan"
   ]
  },
  {
   "cell_type": "code",
   "execution_count": 200,
   "id": "b5dfdd51",
   "metadata": {},
   "outputs": [
    {
     "name": "stdout",
     "output_type": "stream",
     "text": [
      "Overall Summary:\n",
      "\n",
      "Total of products analyzed (These products have been consistently purchased since 2021): 29\n",
      "Total number of products with a positive growth rate across the 4 countries: 29\n",
      "Total number of products with a negative growth rate across the 4 countries: 0\n",
      "\n"
     ]
    }
   ],
   "source": [
    "country = 'Japan'\n",
    "data_2021_2025_country = data_2021_2025[data_2021_2025['country'] == country]\n",
    "\n",
    "positive_increase, count_positive_increase, negative_increase, count_negative_increase = count_increase_directions(data_2021_2025_country)\n",
    "\n",
    "print(\"Overall Summary:\\n\")\n",
    "print(f\"Total of products analyzed (These products have been consistently purchased since 2021): {len(set(data_2021_2025['reference'].values))}\")\n",
    "print(f\"Total number of products with a positive growth rate across the 4 countries: {count_positive_increase}\")\n",
    "print(f\"Total number of products with a negative growth rate across the 4 countries: {count_negative_increase}\\n\")"
   ]
  },
  {
   "cell_type": "code",
   "execution_count": 201,
   "id": "c1903052",
   "metadata": {
    "scrolled": false
   },
   "outputs": [
    {
     "name": "stdout",
     "output_type": "stream",
     "text": [
      "Product with Positive Growth Rate:\n"
     ]
    },
    {
     "data": {
      "text/html": [
       "<div>\n",
       "<style scoped>\n",
       "    .dataframe tbody tr th:only-of-type {\n",
       "        vertical-align: middle;\n",
       "    }\n",
       "\n",
       "    .dataframe tbody tr th {\n",
       "        vertical-align: top;\n",
       "    }\n",
       "\n",
       "    .dataframe thead th {\n",
       "        text-align: right;\n",
       "    }\n",
       "</style>\n",
       "<table border=\"1\" class=\"dataframe\">\n",
       "  <thead>\n",
       "    <tr style=\"text-align: right;\">\n",
       "      <th></th>\n",
       "      <th>brand</th>\n",
       "      <th>collection</th>\n",
       "      <th>reference</th>\n",
       "      <th>country</th>\n",
       "      <th>currency</th>\n",
       "      <th>price_2021</th>\n",
       "      <th>price_USD_2021</th>\n",
       "      <th>price_2025</th>\n",
       "      <th>price_USD_2025</th>\n",
       "      <th>Price Difference</th>\n",
       "      <th>Growth Rate (%)</th>\n",
       "      <th>CAGR (%)</th>\n",
       "    </tr>\n",
       "  </thead>\n",
       "  <tbody>\n",
       "    <tr>\n",
       "      <th>0</th>\n",
       "      <td>PANERAI</td>\n",
       "      <td>Luminor</td>\n",
       "      <td>PAM01086</td>\n",
       "      <td>Japan</td>\n",
       "      <td>JPY</td>\n",
       "      <td>616000.0</td>\n",
       "      <td>5605.6</td>\n",
       "      <td>847000</td>\n",
       "      <td>5724.873</td>\n",
       "      <td>231000.0</td>\n",
       "      <td>37.500000</td>\n",
       "      <td>8.286839</td>\n",
       "    </tr>\n",
       "    <tr>\n",
       "      <th>1</th>\n",
       "      <td>PANERAI</td>\n",
       "      <td>Luminor</td>\n",
       "      <td>PAM01084</td>\n",
       "      <td>Japan</td>\n",
       "      <td>JPY</td>\n",
       "      <td>671000.0</td>\n",
       "      <td>6106.1</td>\n",
       "      <td>924000</td>\n",
       "      <td>6245.316</td>\n",
       "      <td>253000.0</td>\n",
       "      <td>37.704918</td>\n",
       "      <td>8.327161</td>\n",
       "    </tr>\n",
       "    <tr>\n",
       "      <th>2</th>\n",
       "      <td>PANERAI</td>\n",
       "      <td>Luminor</td>\n",
       "      <td>PAM01085</td>\n",
       "      <td>Japan</td>\n",
       "      <td>JPY</td>\n",
       "      <td>671000.0</td>\n",
       "      <td>6106.1</td>\n",
       "      <td>924000</td>\n",
       "      <td>6245.316</td>\n",
       "      <td>253000.0</td>\n",
       "      <td>37.704918</td>\n",
       "      <td>8.327161</td>\n",
       "    </tr>\n",
       "    <tr>\n",
       "      <th>3</th>\n",
       "      <td>PANERAI</td>\n",
       "      <td>Luminor</td>\n",
       "      <td>PAM00915</td>\n",
       "      <td>Japan</td>\n",
       "      <td>JPY</td>\n",
       "      <td>836000.0</td>\n",
       "      <td>7607.6</td>\n",
       "      <td>1144000</td>\n",
       "      <td>7732.296</td>\n",
       "      <td>308000.0</td>\n",
       "      <td>36.842105</td>\n",
       "      <td>8.157076</td>\n",
       "    </tr>\n",
       "    <tr>\n",
       "      <th>4</th>\n",
       "      <td>PANERAI</td>\n",
       "      <td>Luminor</td>\n",
       "      <td>PAM00422</td>\n",
       "      <td>Japan</td>\n",
       "      <td>JPY</td>\n",
       "      <td>1221000.0</td>\n",
       "      <td>11111.1</td>\n",
       "      <td>1705000</td>\n",
       "      <td>11524.095</td>\n",
       "      <td>484000.0</td>\n",
       "      <td>39.639640</td>\n",
       "      <td>8.705666</td>\n",
       "    </tr>\n",
       "  </tbody>\n",
       "</table>\n",
       "</div>"
      ],
      "text/plain": [
       "     brand collection reference country currency  price_2021  price_USD_2021  \\\n",
       "0  PANERAI    Luminor  PAM01086   Japan      JPY    616000.0          5605.6   \n",
       "1  PANERAI    Luminor  PAM01084   Japan      JPY    671000.0          6106.1   \n",
       "2  PANERAI    Luminor  PAM01085   Japan      JPY    671000.0          6106.1   \n",
       "3  PANERAI    Luminor  PAM00915   Japan      JPY    836000.0          7607.6   \n",
       "4  PANERAI    Luminor  PAM00422   Japan      JPY   1221000.0         11111.1   \n",
       "\n",
       "   price_2025  price_USD_2025  Price Difference  Growth Rate (%)  CAGR (%)  \n",
       "0      847000        5724.873          231000.0        37.500000  8.286839  \n",
       "1      924000        6245.316          253000.0        37.704918  8.327161  \n",
       "2      924000        6245.316          253000.0        37.704918  8.327161  \n",
       "3     1144000        7732.296          308000.0        36.842105  8.157076  \n",
       "4     1705000       11524.095          484000.0        39.639640  8.705666  "
      ]
     },
     "execution_count": 201,
     "metadata": {},
     "output_type": "execute_result"
    }
   ],
   "source": [
    "print(\"Product with Positive Growth Rate:\")\n",
    "positive_increase.head()"
   ]
  },
  {
   "cell_type": "code",
   "execution_count": 202,
   "id": "b4d8c8fa",
   "metadata": {},
   "outputs": [
    {
     "name": "stdout",
     "output_type": "stream",
     "text": [
      "Product with Negative Growth Rate:\n"
     ]
    },
    {
     "data": {
      "text/html": [
       "<div>\n",
       "<style scoped>\n",
       "    .dataframe tbody tr th:only-of-type {\n",
       "        vertical-align: middle;\n",
       "    }\n",
       "\n",
       "    .dataframe tbody tr th {\n",
       "        vertical-align: top;\n",
       "    }\n",
       "\n",
       "    .dataframe thead th {\n",
       "        text-align: right;\n",
       "    }\n",
       "</style>\n",
       "<table border=\"1\" class=\"dataframe\">\n",
       "  <thead>\n",
       "    <tr style=\"text-align: right;\">\n",
       "      <th></th>\n",
       "      <th>brand</th>\n",
       "      <th>collection</th>\n",
       "      <th>reference</th>\n",
       "      <th>country</th>\n",
       "      <th>currency</th>\n",
       "      <th>price_2021</th>\n",
       "      <th>price_USD_2021</th>\n",
       "      <th>price_2025</th>\n",
       "      <th>price_USD_2025</th>\n",
       "      <th>Price Difference</th>\n",
       "      <th>Growth Rate (%)</th>\n",
       "      <th>CAGR (%)</th>\n",
       "    </tr>\n",
       "  </thead>\n",
       "  <tbody>\n",
       "  </tbody>\n",
       "</table>\n",
       "</div>"
      ],
      "text/plain": [
       "Empty DataFrame\n",
       "Columns: [brand, collection, reference, country, currency, price_2021, price_USD_2021, price_2025, price_USD_2025, Price Difference, Growth Rate (%), CAGR (%)]\n",
       "Index: []"
      ]
     },
     "execution_count": 202,
     "metadata": {},
     "output_type": "execute_result"
    }
   ],
   "source": [
    "print(\"Product with Negative Growth Rate:\")\n",
    "negative_increase.head()"
   ]
  },
  {
   "cell_type": "markdown",
   "id": "d151d2e1",
   "metadata": {},
   "source": [
    "##### Identify Products with Extreme Growth Rates"
   ]
  },
  {
   "cell_type": "code",
   "execution_count": 203,
   "id": "d7c8f5cc",
   "metadata": {},
   "outputs": [],
   "source": [
    "product_highest_increase_rate, product_lowest_increase_rate = get_extreme_products(data_2021_2025_country)"
   ]
  },
  {
   "cell_type": "code",
   "execution_count": 204,
   "id": "e096a27f",
   "metadata": {
    "scrolled": true
   },
   "outputs": [
    {
     "name": "stdout",
     "output_type": "stream",
     "text": [
      "Product with the Highest Growth Rate:\n"
     ]
    },
    {
     "data": {
      "text/html": [
       "<div>\n",
       "<style scoped>\n",
       "    .dataframe tbody tr th:only-of-type {\n",
       "        vertical-align: middle;\n",
       "    }\n",
       "\n",
       "    .dataframe tbody tr th {\n",
       "        vertical-align: top;\n",
       "    }\n",
       "\n",
       "    .dataframe thead th {\n",
       "        text-align: right;\n",
       "    }\n",
       "</style>\n",
       "<table border=\"1\" class=\"dataframe\">\n",
       "  <thead>\n",
       "    <tr style=\"text-align: right;\">\n",
       "      <th></th>\n",
       "      <th>brand</th>\n",
       "      <th>collection</th>\n",
       "      <th>reference</th>\n",
       "      <th>country</th>\n",
       "      <th>currency</th>\n",
       "      <th>price_2021</th>\n",
       "      <th>price_USD_2021</th>\n",
       "      <th>price_2025</th>\n",
       "      <th>price_USD_2025</th>\n",
       "      <th>Price Difference</th>\n",
       "      <th>Growth Rate (%)</th>\n",
       "      <th>CAGR (%)</th>\n",
       "    </tr>\n",
       "  </thead>\n",
       "  <tbody>\n",
       "    <tr>\n",
       "      <th>0</th>\n",
       "      <td>PANERAI</td>\n",
       "      <td>Luminor Due</td>\n",
       "      <td>PAM01250</td>\n",
       "      <td>Japan</td>\n",
       "      <td>JPY</td>\n",
       "      <td>781000.0</td>\n",
       "      <td>7107.1</td>\n",
       "      <td>1100000</td>\n",
       "      <td>7434.9</td>\n",
       "      <td>319000.0</td>\n",
       "      <td>40.84507</td>\n",
       "      <td>8.939509</td>\n",
       "    </tr>\n",
       "  </tbody>\n",
       "</table>\n",
       "</div>"
      ],
      "text/plain": [
       "     brand   collection reference country currency  price_2021  \\\n",
       "0  PANERAI  Luminor Due  PAM01250   Japan      JPY    781000.0   \n",
       "\n",
       "   price_USD_2021  price_2025  price_USD_2025  Price Difference  \\\n",
       "0          7107.1     1100000          7434.9          319000.0   \n",
       "\n",
       "   Growth Rate (%)  CAGR (%)  \n",
       "0         40.84507  8.939509  "
      ]
     },
     "execution_count": 204,
     "metadata": {},
     "output_type": "execute_result"
    }
   ],
   "source": [
    "print(\"Product with the Highest Growth Rate:\")\n",
    "product_highest_increase_rate.head()"
   ]
  },
  {
   "cell_type": "code",
   "execution_count": 205,
   "id": "08f64ff8",
   "metadata": {},
   "outputs": [],
   "source": [
    "product_highest_increase_rate.to_csv(r\"../orchestrator/data/gold/Product_with_Highest_Growth_Rate_between_2021_2025_Japan.csv\", index=False)"
   ]
  },
  {
   "cell_type": "code",
   "execution_count": 206,
   "id": "bf7afd37",
   "metadata": {
    "scrolled": true
   },
   "outputs": [
    {
     "name": "stdout",
     "output_type": "stream",
     "text": [
      "\n",
      "Product with the Lowest Growth Rate:\n"
     ]
    },
    {
     "data": {
      "text/html": [
       "<div>\n",
       "<style scoped>\n",
       "    .dataframe tbody tr th:only-of-type {\n",
       "        vertical-align: middle;\n",
       "    }\n",
       "\n",
       "    .dataframe tbody tr th {\n",
       "        vertical-align: top;\n",
       "    }\n",
       "\n",
       "    .dataframe thead th {\n",
       "        text-align: right;\n",
       "    }\n",
       "</style>\n",
       "<table border=\"1\" class=\"dataframe\">\n",
       "  <thead>\n",
       "    <tr style=\"text-align: right;\">\n",
       "      <th></th>\n",
       "      <th>brand</th>\n",
       "      <th>collection</th>\n",
       "      <th>reference</th>\n",
       "      <th>country</th>\n",
       "      <th>currency</th>\n",
       "      <th>price_2021</th>\n",
       "      <th>price_USD_2021</th>\n",
       "      <th>price_2025</th>\n",
       "      <th>price_USD_2025</th>\n",
       "      <th>Price Difference</th>\n",
       "      <th>Growth Rate (%)</th>\n",
       "      <th>CAGR (%)</th>\n",
       "    </tr>\n",
       "  </thead>\n",
       "  <tbody>\n",
       "    <tr>\n",
       "      <th>0</th>\n",
       "      <td>PANERAI</td>\n",
       "      <td>Luminor</td>\n",
       "      <td>PAM00715</td>\n",
       "      <td>Japan</td>\n",
       "      <td>JPY</td>\n",
       "      <td>8217000.0</td>\n",
       "      <td>74774.7</td>\n",
       "      <td>10626000</td>\n",
       "      <td>71821.134</td>\n",
       "      <td>2409000.0</td>\n",
       "      <td>29.317269</td>\n",
       "      <td>6.638525</td>\n",
       "    </tr>\n",
       "  </tbody>\n",
       "</table>\n",
       "</div>"
      ],
      "text/plain": [
       "     brand collection reference country currency  price_2021  price_USD_2021  \\\n",
       "0  PANERAI    Luminor  PAM00715   Japan      JPY   8217000.0         74774.7   \n",
       "\n",
       "   price_2025  price_USD_2025  Price Difference  Growth Rate (%)  CAGR (%)  \n",
       "0    10626000       71821.134         2409000.0        29.317269  6.638525  "
      ]
     },
     "execution_count": 206,
     "metadata": {},
     "output_type": "execute_result"
    }
   ],
   "source": [
    "print(\"\\nProduct with the Lowest Growth Rate:\")\n",
    "product_lowest_increase_rate.head()"
   ]
  },
  {
   "cell_type": "code",
   "execution_count": 207,
   "id": "74cdc4d9",
   "metadata": {},
   "outputs": [],
   "source": [
    "product_lowest_increase_rate.to_csv(r\"../orchestrator/data/gold/Product_with_Lowest_Growth_Rate_between_2021_2025_Japan.csv\", index=False)"
   ]
  },
  {
   "cell_type": "markdown",
   "id": "a5c37420",
   "metadata": {},
   "source": [
    "#### 2. Global dataset\n",
    "Calculate the median Growth Rate and CAGR for each product, collection, and for each country, in order to determine the Global price fluctuation between 2021 and 2025.\n",
    "\n",
    "- **Global Growth Rate (%)** = median( Growth Rate )\n",
    "- **Global Compound Annual Growth Rate (CAGR) (%)** = median( CAGR )"
   ]
  },
  {
   "cell_type": "markdown",
   "id": "e3fee7cc",
   "metadata": {},
   "source": [
    "##### 1. Product-based approach to calculate the general growth rate"
   ]
  },
  {
   "cell_type": "code",
   "execution_count": 208,
   "id": "23d4b03a",
   "metadata": {},
   "outputs": [
    {
     "data": {
      "text/html": [
       "<div>\n",
       "<style scoped>\n",
       "    .dataframe tbody tr th:only-of-type {\n",
       "        vertical-align: middle;\n",
       "    }\n",
       "\n",
       "    .dataframe tbody tr th {\n",
       "        vertical-align: top;\n",
       "    }\n",
       "\n",
       "    .dataframe thead th {\n",
       "        text-align: right;\n",
       "    }\n",
       "</style>\n",
       "<table border=\"1\" class=\"dataframe\">\n",
       "  <thead>\n",
       "    <tr style=\"text-align: right;\">\n",
       "      <th></th>\n",
       "      <th>Growth Rate (%)</th>\n",
       "      <th>CAGR (%)</th>\n",
       "    </tr>\n",
       "    <tr>\n",
       "      <th>reference</th>\n",
       "      <th></th>\n",
       "      <th></th>\n",
       "    </tr>\n",
       "  </thead>\n",
       "  <tbody>\n",
       "    <tr>\n",
       "      <th>PAM00422</th>\n",
       "      <td>16.320528</td>\n",
       "      <td>3.851057</td>\n",
       "    </tr>\n",
       "    <tr>\n",
       "      <th>PAM00715</th>\n",
       "      <td>-3.198653</td>\n",
       "      <td>-0.960299</td>\n",
       "    </tr>\n",
       "    <tr>\n",
       "      <th>PAM00742</th>\n",
       "      <td>0.362319</td>\n",
       "      <td>-0.060321</td>\n",
       "    </tr>\n",
       "    <tr>\n",
       "      <th>PAM00915</th>\n",
       "      <td>13.497169</td>\n",
       "      <td>3.214285</td>\n",
       "    </tr>\n",
       "    <tr>\n",
       "      <th>PAM00968</th>\n",
       "      <td>13.869464</td>\n",
       "      <td>3.299128</td>\n",
       "    </tr>\n",
       "    <tr>\n",
       "      <th>PAM01060</th>\n",
       "      <td>1.394647</td>\n",
       "      <td>0.203904</td>\n",
       "    </tr>\n",
       "    <tr>\n",
       "      <th>PAM01074</th>\n",
       "      <td>12.740775</td>\n",
       "      <td>3.034689</td>\n",
       "    </tr>\n",
       "    <tr>\n",
       "      <th>PAM01084</th>\n",
       "      <td>12.615741</td>\n",
       "      <td>3.011153</td>\n",
       "    </tr>\n",
       "    <tr>\n",
       "      <th>PAM01085</th>\n",
       "      <td>12.615741</td>\n",
       "      <td>3.011153</td>\n",
       "    </tr>\n",
       "    <tr>\n",
       "      <th>PAM01086</th>\n",
       "      <td>15.140009</td>\n",
       "      <td>3.586281</td>\n",
       "    </tr>\n",
       "    <tr>\n",
       "      <th>PAM01109</th>\n",
       "      <td>11.678371</td>\n",
       "      <td>2.793171</td>\n",
       "    </tr>\n",
       "    <tr>\n",
       "      <th>PAM01110</th>\n",
       "      <td>10.149307</td>\n",
       "      <td>2.437725</td>\n",
       "    </tr>\n",
       "    <tr>\n",
       "      <th>PAM01111</th>\n",
       "      <td>9.965118</td>\n",
       "      <td>2.394899</td>\n",
       "    </tr>\n",
       "    <tr>\n",
       "      <th>PAM01112</th>\n",
       "      <td>13.906944</td>\n",
       "      <td>3.306514</td>\n",
       "    </tr>\n",
       "    <tr>\n",
       "      <th>PAM01123</th>\n",
       "      <td>10.620100</td>\n",
       "      <td>2.550780</td>\n",
       "    </tr>\n",
       "    <tr>\n",
       "      <th>PAM01124</th>\n",
       "      <td>11.631944</td>\n",
       "      <td>2.785174</td>\n",
       "    </tr>\n",
       "    <tr>\n",
       "      <th>PAM01157</th>\n",
       "      <td>9.760062</td>\n",
       "      <td>2.347414</td>\n",
       "    </tr>\n",
       "    <tr>\n",
       "      <th>PAM01218</th>\n",
       "      <td>11.678371</td>\n",
       "      <td>2.793171</td>\n",
       "    </tr>\n",
       "    <tr>\n",
       "      <th>PAM01248</th>\n",
       "      <td>11.922504</td>\n",
       "      <td>2.849761</td>\n",
       "    </tr>\n",
       "    <tr>\n",
       "      <th>PAM01250</th>\n",
       "      <td>13.075658</td>\n",
       "      <td>3.114937</td>\n",
       "    </tr>\n",
       "    <tr>\n",
       "      <th>PAM01273</th>\n",
       "      <td>11.922504</td>\n",
       "      <td>2.849761</td>\n",
       "    </tr>\n",
       "    <tr>\n",
       "      <th>PAM01280</th>\n",
       "      <td>12.043720</td>\n",
       "      <td>2.875901</td>\n",
       "    </tr>\n",
       "    <tr>\n",
       "      <th>PAM01312</th>\n",
       "      <td>12.211467</td>\n",
       "      <td>2.922106</td>\n",
       "    </tr>\n",
       "    <tr>\n",
       "      <th>PAM01313</th>\n",
       "      <td>12.211467</td>\n",
       "      <td>2.922106</td>\n",
       "    </tr>\n",
       "    <tr>\n",
       "      <th>PAM01314</th>\n",
       "      <td>12.211467</td>\n",
       "      <td>2.922106</td>\n",
       "    </tr>\n",
       "    <tr>\n",
       "      <th>PAM01316</th>\n",
       "      <td>9.694495</td>\n",
       "      <td>2.337604</td>\n",
       "    </tr>\n",
       "    <tr>\n",
       "      <th>PAM01356</th>\n",
       "      <td>9.760062</td>\n",
       "      <td>2.347414</td>\n",
       "    </tr>\n",
       "    <tr>\n",
       "      <th>PAM01358</th>\n",
       "      <td>9.760062</td>\n",
       "      <td>2.347414</td>\n",
       "    </tr>\n",
       "    <tr>\n",
       "      <th>PAM01441</th>\n",
       "      <td>19.531590</td>\n",
       "      <td>4.528148</td>\n",
       "    </tr>\n",
       "  </tbody>\n",
       "</table>\n",
       "</div>"
      ],
      "text/plain": [
       "           Growth Rate (%)  CAGR (%)\n",
       "reference                           \n",
       "PAM00422         16.320528  3.851057\n",
       "PAM00715         -3.198653 -0.960299\n",
       "PAM00742          0.362319 -0.060321\n",
       "PAM00915         13.497169  3.214285\n",
       "PAM00968         13.869464  3.299128\n",
       "PAM01060          1.394647  0.203904\n",
       "PAM01074         12.740775  3.034689\n",
       "PAM01084         12.615741  3.011153\n",
       "PAM01085         12.615741  3.011153\n",
       "PAM01086         15.140009  3.586281\n",
       "PAM01109         11.678371  2.793171\n",
       "PAM01110         10.149307  2.437725\n",
       "PAM01111          9.965118  2.394899\n",
       "PAM01112         13.906944  3.306514\n",
       "PAM01123         10.620100  2.550780\n",
       "PAM01124         11.631944  2.785174\n",
       "PAM01157          9.760062  2.347414\n",
       "PAM01218         11.678371  2.793171\n",
       "PAM01248         11.922504  2.849761\n",
       "PAM01250         13.075658  3.114937\n",
       "PAM01273         11.922504  2.849761\n",
       "PAM01280         12.043720  2.875901\n",
       "PAM01312         12.211467  2.922106\n",
       "PAM01313         12.211467  2.922106\n",
       "PAM01314         12.211467  2.922106\n",
       "PAM01316          9.694495  2.337604\n",
       "PAM01356          9.760062  2.347414\n",
       "PAM01358          9.760062  2.347414\n",
       "PAM01441         19.531590  4.528148"
      ]
     },
     "execution_count": 208,
     "metadata": {},
     "output_type": "execute_result"
    }
   ],
   "source": [
    "data_2021_2025_median_reference = data_2021_2025.groupby(\"reference\")[[\"Growth Rate (%)\", \"CAGR (%)\"]].median()\n",
    "data_2021_2025_median_reference"
   ]
  },
  {
   "cell_type": "code",
   "execution_count": 209,
   "id": "5eedeb19",
   "metadata": {},
   "outputs": [],
   "source": [
    "data_2021_2025_median_reference.to_csv(r\"../orchestrator/data/gold/Global_Growth_Rate_between_2021_2025_by_product.csv\", index=False)"
   ]
  },
  {
   "cell_type": "markdown",
   "id": "1b9a2b73",
   "metadata": {},
   "source": [
    "##### 2. Collection-based approach to calculate the general growth rate"
   ]
  },
  {
   "cell_type": "code",
   "execution_count": 210,
   "id": "de9ee98e",
   "metadata": {},
   "outputs": [
    {
     "data": {
      "text/html": [
       "<div>\n",
       "<style scoped>\n",
       "    .dataframe tbody tr th:only-of-type {\n",
       "        vertical-align: middle;\n",
       "    }\n",
       "\n",
       "    .dataframe tbody tr th {\n",
       "        vertical-align: top;\n",
       "    }\n",
       "\n",
       "    .dataframe thead th {\n",
       "        text-align: right;\n",
       "    }\n",
       "</style>\n",
       "<table border=\"1\" class=\"dataframe\">\n",
       "  <thead>\n",
       "    <tr style=\"text-align: right;\">\n",
       "      <th></th>\n",
       "      <th>Growth Rate (%)</th>\n",
       "      <th>CAGR (%)</th>\n",
       "    </tr>\n",
       "    <tr>\n",
       "      <th>collection</th>\n",
       "      <th></th>\n",
       "      <th></th>\n",
       "    </tr>\n",
       "  </thead>\n",
       "  <tbody>\n",
       "    <tr>\n",
       "      <th>Luminor</th>\n",
       "      <td>12.625410</td>\n",
       "      <td>3.017046</td>\n",
       "    </tr>\n",
       "    <tr>\n",
       "      <th>Luminor Due</th>\n",
       "      <td>11.784897</td>\n",
       "      <td>2.823083</td>\n",
       "    </tr>\n",
       "    <tr>\n",
       "      <th>Submersible</th>\n",
       "      <td>13.869464</td>\n",
       "      <td>3.299128</td>\n",
       "    </tr>\n",
       "  </tbody>\n",
       "</table>\n",
       "</div>"
      ],
      "text/plain": [
       "             Growth Rate (%)  CAGR (%)\n",
       "collection                            \n",
       "Luminor            12.625410  3.017046\n",
       "Luminor Due        11.784897  2.823083\n",
       "Submersible        13.869464  3.299128"
      ]
     },
     "execution_count": 210,
     "metadata": {},
     "output_type": "execute_result"
    }
   ],
   "source": [
    "data_2021_2025_median_collection = data_2021_2025.groupby(\"collection\")[[\"Growth Rate (%)\", \"CAGR (%)\"]].median()\n",
    "data_2021_2025_median_collection"
   ]
  },
  {
   "cell_type": "code",
   "execution_count": 211,
   "id": "f7b8e3b5",
   "metadata": {},
   "outputs": [],
   "source": [
    "data_2021_2025_median_collection.to_csv(r\"../orchestrator/data/gold/Global_Growth_Rate_between_2021_2025_by_collection.csv\", index=False)"
   ]
  },
  {
   "cell_type": "markdown",
   "id": "34dd8ecf",
   "metadata": {},
   "source": [
    "##### 3. Country-based approach to calculate the general growth rate"
   ]
  },
  {
   "cell_type": "code",
   "execution_count": 212,
   "id": "d7b7852a",
   "metadata": {},
   "outputs": [
    {
     "data": {
      "text/html": [
       "<div>\n",
       "<style scoped>\n",
       "    .dataframe tbody tr th:only-of-type {\n",
       "        vertical-align: middle;\n",
       "    }\n",
       "\n",
       "    .dataframe tbody tr th {\n",
       "        vertical-align: top;\n",
       "    }\n",
       "\n",
       "    .dataframe thead th {\n",
       "        text-align: right;\n",
       "    }\n",
       "</style>\n",
       "<table border=\"1\" class=\"dataframe\">\n",
       "  <thead>\n",
       "    <tr style=\"text-align: right;\">\n",
       "      <th></th>\n",
       "      <th>Growth Rate (%)</th>\n",
       "      <th>CAGR (%)</th>\n",
       "    </tr>\n",
       "    <tr>\n",
       "      <th>country</th>\n",
       "      <th></th>\n",
       "      <th></th>\n",
       "    </tr>\n",
       "  </thead>\n",
       "  <tbody>\n",
       "    <tr>\n",
       "      <th>France</th>\n",
       "      <td>13.888889</td>\n",
       "      <td>3.304761</td>\n",
       "    </tr>\n",
       "    <tr>\n",
       "      <th>Japan</th>\n",
       "      <td>36.898396</td>\n",
       "      <td>8.168197</td>\n",
       "    </tr>\n",
       "    <tr>\n",
       "      <th>UK</th>\n",
       "      <td>9.090909</td>\n",
       "      <td>2.199116</td>\n",
       "    </tr>\n",
       "    <tr>\n",
       "      <th>USA</th>\n",
       "      <td>-14.084507</td>\n",
       "      <td>-3.724037</td>\n",
       "    </tr>\n",
       "  </tbody>\n",
       "</table>\n",
       "</div>"
      ],
      "text/plain": [
       "         Growth Rate (%)  CAGR (%)\n",
       "country                           \n",
       "France         13.888889  3.304761\n",
       "Japan          36.898396  8.168197\n",
       "UK              9.090909  2.199116\n",
       "USA           -14.084507 -3.724037"
      ]
     },
     "execution_count": 212,
     "metadata": {},
     "output_type": "execute_result"
    }
   ],
   "source": [
    "data_2021_2025_median_country = data_2021_2025.groupby(\"country\")[[\"Growth Rate (%)\", \"CAGR (%)\"]].median()\n",
    "data_2021_2025_median_country"
   ]
  },
  {
   "cell_type": "code",
   "execution_count": 213,
   "id": "26f1e9e1",
   "metadata": {},
   "outputs": [],
   "source": [
    "data_2021_2025_median_country.to_csv(r\"../orchestrator/data/gold/Global_Growth_Rate_between_2021_2025_by_country.csv\", index=False)"
   ]
  },
  {
   "cell_type": "markdown",
   "id": "b1ab20f8",
   "metadata": {},
   "source": [
    "### Case 2: Products that were only in 2021"
   ]
  },
  {
   "cell_type": "code",
   "execution_count": 214,
   "id": "201919e9",
   "metadata": {},
   "outputs": [
    {
     "data": {
      "text/html": [
       "<div>\n",
       "<style scoped>\n",
       "    .dataframe tbody tr th:only-of-type {\n",
       "        vertical-align: middle;\n",
       "    }\n",
       "\n",
       "    .dataframe tbody tr th {\n",
       "        vertical-align: top;\n",
       "    }\n",
       "\n",
       "    .dataframe thead th {\n",
       "        text-align: right;\n",
       "    }\n",
       "</style>\n",
       "<table border=\"1\" class=\"dataframe\">\n",
       "  <thead>\n",
       "    <tr style=\"text-align: right;\">\n",
       "      <th></th>\n",
       "      <th>brand</th>\n",
       "      <th>url</th>\n",
       "      <th>image_url</th>\n",
       "      <th>collection</th>\n",
       "      <th>reference</th>\n",
       "      <th>price</th>\n",
       "      <th>currency</th>\n",
       "      <th>country</th>\n",
       "      <th>year</th>\n",
       "      <th>price_USD</th>\n",
       "    </tr>\n",
       "  </thead>\n",
       "  <tbody>\n",
       "    <tr>\n",
       "      <th>0</th>\n",
       "      <td>Panerai</td>\n",
       "      <td>https://www.panerai.com/fr/fr/collections/watc...</td>\n",
       "      <td>https://www.panerai.com/content/dam/rcq/pan/10...</td>\n",
       "      <td>RADIOMIR</td>\n",
       "      <td>PAM00655</td>\n",
       "      <td>9700.0</td>\n",
       "      <td>EUR</td>\n",
       "      <td>France</td>\n",
       "      <td>2021</td>\n",
       "      <td>11446.0</td>\n",
       "    </tr>\n",
       "    <tr>\n",
       "      <th>1</th>\n",
       "      <td>Panerai</td>\n",
       "      <td>https://www.panerai.com/fr/fr/collections/watc...</td>\n",
       "      <td>https://www.panerai.com/content/dam/rcq/pan/11...</td>\n",
       "      <td>RADIOMIR</td>\n",
       "      <td>PAM00628</td>\n",
       "      <td>11600.0</td>\n",
       "      <td>EUR</td>\n",
       "      <td>France</td>\n",
       "      <td>2021</td>\n",
       "      <td>13688.0</td>\n",
       "    </tr>\n",
       "    <tr>\n",
       "      <th>2</th>\n",
       "      <td>Panerai</td>\n",
       "      <td>https://www.panerai.com/fr/fr/collections/watc...</td>\n",
       "      <td>https://www.panerai.com/content/dam/rcq/pan/11...</td>\n",
       "      <td>RADIOMIR</td>\n",
       "      <td>PAM00657</td>\n",
       "      <td>11400.0</td>\n",
       "      <td>EUR</td>\n",
       "      <td>France</td>\n",
       "      <td>2021</td>\n",
       "      <td>13452.0</td>\n",
       "    </tr>\n",
       "    <tr>\n",
       "      <th>3</th>\n",
       "      <td>Panerai</td>\n",
       "      <td>https://www.panerai.com/fr/fr/collections/watc...</td>\n",
       "      <td>https://www.panerai.com/content/dam/rcq/pan/13...</td>\n",
       "      <td>LUMINOR</td>\n",
       "      <td>PAM00661</td>\n",
       "      <td>11900.0</td>\n",
       "      <td>EUR</td>\n",
       "      <td>France</td>\n",
       "      <td>2021</td>\n",
       "      <td>14042.0</td>\n",
       "    </tr>\n",
       "    <tr>\n",
       "      <th>5</th>\n",
       "      <td>Panerai</td>\n",
       "      <td>https://www.panerai.com/fr/fr/collections/watc...</td>\n",
       "      <td>https://www.panerai.com/content/dam/rcq/pan/13...</td>\n",
       "      <td>LUMINOR</td>\n",
       "      <td>PAM01499</td>\n",
       "      <td>7900.0</td>\n",
       "      <td>EUR</td>\n",
       "      <td>France</td>\n",
       "      <td>2021</td>\n",
       "      <td>9322.0</td>\n",
       "    </tr>\n",
       "  </tbody>\n",
       "</table>\n",
       "</div>"
      ],
      "text/plain": [
       "     brand                                                url  \\\n",
       "0  Panerai  https://www.panerai.com/fr/fr/collections/watc...   \n",
       "1  Panerai  https://www.panerai.com/fr/fr/collections/watc...   \n",
       "2  Panerai  https://www.panerai.com/fr/fr/collections/watc...   \n",
       "3  Panerai  https://www.panerai.com/fr/fr/collections/watc...   \n",
       "5  Panerai  https://www.panerai.com/fr/fr/collections/watc...   \n",
       "\n",
       "                                           image_url collection reference  \\\n",
       "0  https://www.panerai.com/content/dam/rcq/pan/10...   RADIOMIR  PAM00655   \n",
       "1  https://www.panerai.com/content/dam/rcq/pan/11...   RADIOMIR  PAM00628   \n",
       "2  https://www.panerai.com/content/dam/rcq/pan/11...   RADIOMIR  PAM00657   \n",
       "3  https://www.panerai.com/content/dam/rcq/pan/13...    LUMINOR  PAM00661   \n",
       "5  https://www.panerai.com/content/dam/rcq/pan/13...    LUMINOR  PAM01499   \n",
       "\n",
       "     price currency country  year  price_USD  \n",
       "0   9700.0      EUR  France  2021    11446.0  \n",
       "1  11600.0      EUR  France  2021    13688.0  \n",
       "2  11400.0      EUR  France  2021    13452.0  \n",
       "3  11900.0      EUR  France  2021    14042.0  \n",
       "5   7900.0      EUR  France  2021     9322.0  "
      ]
     },
     "execution_count": 214,
     "metadata": {},
     "output_type": "execute_result"
    }
   ],
   "source": [
    "# Find records that exist only in 2021\n",
    "only_2021 = data_2021[~data_2021[\"reference\"].isin(data_2025[\"reference\"])]\n",
    "\n",
    "only_2021.head()"
   ]
  },
  {
   "cell_type": "code",
   "execution_count": 215,
   "id": "28a20f8d",
   "metadata": {},
   "outputs": [],
   "source": [
    "only_2021.to_csv('../orchestrator/data/gold/Watches_on_sale_only_in_2021.csv', index=False)"
   ]
  },
  {
   "cell_type": "code",
   "execution_count": 217,
   "id": "49b204c4",
   "metadata": {},
   "outputs": [
    {
     "name": "stdout",
     "output_type": "stream",
     "text": [
      "Number of products with distinct reference : 176\n",
      "\n",
      "Number of distinct products per country:\n",
      "   - Japan : 170\n",
      "   - USA : 149\n",
      "   - UK : 124\n",
      "   - France : 122\n"
     ]
    }
   ],
   "source": [
    "print(f\"Number of products with distinct reference : {len(only_2021.reference.unique())}\")\n",
    "print(f\"\\nNumber of distinct products per country:\")\n",
    "for country, value in zip(only_2021.country.value_counts().index, only_2021.country.value_counts().values):\n",
    "    print(f\"   - {country} : {value}\")"
   ]
  },
  {
   "cell_type": "code",
   "execution_count": 218,
   "id": "3512254e",
   "metadata": {},
   "outputs": [
    {
     "data": {
      "image/png": "[encoded data removed]",
      "text/plain": [
       "<Figure size 640x480 with 1 Axes>"
      ]
     },
     "metadata": {},
     "output_type": "display_data"
    }
   ],
   "source": [
    "collection_visualization(only_2021)"
   ]
  },
  {
   "cell_type": "code",
   "execution_count": 219,
   "id": "6686e468",
   "metadata": {},
   "outputs": [
    {
     "name": "stdout",
     "output_type": "stream",
     "text": [
      "Total profit for products available only in 2021 : $10489715.05\n"
     ]
    }
   ],
   "source": [
    "only_2021_total_profit = only_2021['price_USD'].sum()\n",
    "print(f\"Total profit for products available only in 2021 : ${only_2021_total_profit}\")"
   ]
  },
  {
   "cell_type": "code",
   "execution_count": 220,
   "id": "5997bf66",
   "metadata": {
    "scrolled": false
   },
   "outputs": [
    {
     "data": {
      "image/png": "[encoded data removed]",
      "text/plain": [
       "<Figure size 1000x600 with 1 Axes>"
      ]
     },
     "metadata": {},
     "output_type": "display_data"
    }
   ],
   "source": [
    "plot_collection_by_country(only_2021)"
   ]
  },
  {
   "cell_type": "markdown",
   "id": "36536865",
   "metadata": {},
   "source": [
    "#### France"
   ]
  },
  {
   "cell_type": "code",
   "execution_count": 221,
   "id": "767f80ce",
   "metadata": {},
   "outputs": [
    {
     "name": "stdout",
     "output_type": "stream",
     "text": [
      "Total profit for products available only in 2021 in France : $2339232.0\n",
      "\n",
      "Total profit for products available only in 2021 per collection in France\n",
      "  - LUMINOR : $1013856.0\n",
      "  - LUMINOR-DUE : $219362.0\n",
      "  - RADIOMIR : $193992.0\n",
      "  - SUBMERSIBLE : $912022.0\n"
     ]
    }
   ],
   "source": [
    "country = \"France\"\n",
    "\n",
    "only_2021_france = only_2021[only_2021['country'] == country]\n",
    "only_2021_france_total_profit = only_2021_france['price_USD'].sum()\n",
    "print(f\"Total profit for products available only in 2021 in {country} : ${only_2021_france_total_profit}\")\n",
    "\n",
    "only_2021_france_collection = only_2021_france.groupby(\"collection\")[\"price_USD\"].sum()\n",
    "print(f\"\\nTotal profit for products available only in 2021 per collection in {country}\")\n",
    "for collection, value in zip(only_2021_france_collection.index, only_2021_france_collection.values):\n",
    "    print(f\"  - {collection} : ${value}\")"
   ]
  },
  {
   "cell_type": "markdown",
   "id": "b5135b4a",
   "metadata": {},
   "source": [
    "#### UK"
   ]
  },
  {
   "cell_type": "code",
   "execution_count": 222,
   "id": "62025bc0",
   "metadata": {
    "scrolled": true
   },
   "outputs": [
    {
     "name": "stdout",
     "output_type": "stream",
     "text": [
      "Total profit for products available only in 2021 in UK : $2466336.0\n",
      "\n",
      "Total profit for products available only in 2021 per collection in UK\n",
      "  - LUMINOR : $1059564.0\n",
      "  - LUMINOR-DUE : $250608.0\n",
      "  - RADIOMIR : $202238.99999999997\n",
      "  - SUBMERSIBLE : $953925.0\n"
     ]
    }
   ],
   "source": [
    "country = \"UK\"\n",
    "\n",
    "only_2021_uk = only_2021[only_2021['country'] == country]\n",
    "only_2021_uk_total_profit = only_2021_uk['price_USD'].sum()\n",
    "print(f\"Total profit for products available only in 2021 in {country} : ${only_2021_uk_total_profit}\")\n",
    "\n",
    "only_2021_uk_collection = only_2021_uk.groupby(\"collection\")[\"price_USD\"].sum()\n",
    "print(f\"\\nTotal profit for products available only in 2021 per collection in {country}\")\n",
    "for collection, value in zip(only_2021_uk_collection.index, only_2021_uk_collection.values):\n",
    "    print(f\"  - {collection} : ${value}\")"
   ]
  },
  {
   "cell_type": "markdown",
   "id": "ee8aca4d",
   "metadata": {},
   "source": [
    "#### USA"
   ]
  },
  {
   "cell_type": "code",
   "execution_count": 223,
   "id": "6d7bb847",
   "metadata": {},
   "outputs": [
    {
     "name": "stdout",
     "output_type": "stream",
     "text": [
      "Total profit for products available only in 2021 in USA : $2984400.0\n",
      "\n",
      "Total profit for products available only in 2021 per collection in USA\n",
      "  - LUMINOR : $1314700.0\n",
      "  - LUMINOR-DUE : $279700.0\n",
      "  - RADIOMIR : $382800.0\n",
      "  - SUBMERSIBLE : $1007200.0\n"
     ]
    }
   ],
   "source": [
    "country = \"USA\"\n",
    "\n",
    "only_2021_usa = only_2021[only_2021['country'] == country]\n",
    "only_2021_usa_total_profit = only_2021_usa['price_USD'].sum()\n",
    "print(f\"Total profit for products available only in 2021 in {country} : ${only_2021_usa_total_profit}\")\n",
    "\n",
    "only_2021_usa_collection = only_2021_usa.groupby(\"collection\")[\"price_USD\"].sum()\n",
    "print(f\"\\nTotal profit for products available only in 2021 per collection in {country}\")\n",
    "for collection, value in zip(only_2021_usa_collection.index, only_2021_usa_collection.values):\n",
    "    print(f\"  - {collection} : ${value}\")"
   ]
  },
  {
   "cell_type": "markdown",
   "id": "bb0ac84c",
   "metadata": {},
   "source": [
    "#### Japan"
   ]
  },
  {
   "cell_type": "code",
   "execution_count": 224,
   "id": "ec340989",
   "metadata": {},
   "outputs": [
    {
     "name": "stdout",
     "output_type": "stream",
     "text": [
      "Total profit for products available only in 2021 in Japan : $2699747.05\n",
      "\n",
      "Total profit for products available only in 2021 per collection in Japan\n",
      "  - LUMINOR : $1371119.75\n",
      "  - LUMINOR-DUE : $342642.3\n",
      "  - RADIOMIR : $342942.6\n",
      "  - SUBMERSIBLE : $643042.4\n"
     ]
    }
   ],
   "source": [
    "country = \"Japan\"\n",
    "\n",
    "only_2021_japan = only_2021[only_2021['country'] == country]\n",
    "only_2021_japan_total_profit = only_2021_japan['price_USD'].sum()\n",
    "print(f\"Total profit for products available only in 2021 in {country} : ${only_2021_japan_total_profit}\")\n",
    "\n",
    "only_2021_japan_collection = only_2021_japan.groupby(\"collection\")[\"price_USD\"].sum()\n",
    "print(f\"\\nTotal profit for products available only in 2021 per collection in {country}\")\n",
    "for collection, value in zip(only_2021_japan_collection.index, only_2021_japan_collection.values):\n",
    "    print(f\"  - {collection} : ${value}\")"
   ]
  },
  {
   "cell_type": "markdown",
   "id": "55ba3c16",
   "metadata": {},
   "source": [
    "### Case 3: New product in 2025"
   ]
  },
  {
   "cell_type": "code",
   "execution_count": 225,
   "id": "c305a181",
   "metadata": {},
   "outputs": [
    {
     "data": {
      "text/html": [
       "<div>\n",
       "<style scoped>\n",
       "    .dataframe tbody tr th:only-of-type {\n",
       "        vertical-align: middle;\n",
       "    }\n",
       "\n",
       "    .dataframe tbody tr th {\n",
       "        vertical-align: top;\n",
       "    }\n",
       "\n",
       "    .dataframe thead th {\n",
       "        text-align: right;\n",
       "    }\n",
       "</style>\n",
       "<table border=\"1\" class=\"dataframe\">\n",
       "  <thead>\n",
       "    <tr style=\"text-align: right;\">\n",
       "      <th></th>\n",
       "      <th>brand</th>\n",
       "      <th>product_url</th>\n",
       "      <th>image_url</th>\n",
       "      <th>collection</th>\n",
       "      <th>reference</th>\n",
       "      <th>price</th>\n",
       "      <th>currency_code</th>\n",
       "      <th>country</th>\n",
       "      <th>year</th>\n",
       "      <th>price_USD</th>\n",
       "      <th>availability</th>\n",
       "    </tr>\n",
       "  </thead>\n",
       "  <tbody>\n",
       "    <tr>\n",
       "      <th>0</th>\n",
       "      <td>PANERAI</td>\n",
       "      <td>https://www.panerai.com/us/en/collections/watc...</td>\n",
       "      <td>https://www.panerai.com/content/dam/rcq/pan/km...</td>\n",
       "      <td>Radiomir</td>\n",
       "      <td>PAM01570</td>\n",
       "      <td>6000</td>\n",
       "      <td>USD</td>\n",
       "      <td>USA</td>\n",
       "      <td>2025</td>\n",
       "      <td>6000.0</td>\n",
       "      <td>Available</td>\n",
       "    </tr>\n",
       "    <tr>\n",
       "      <th>1</th>\n",
       "      <td>PANERAI</td>\n",
       "      <td>https://www.panerai.com/us/en/collections/watc...</td>\n",
       "      <td>https://www.panerai.com/content/dam/rcq/pan/Ot...</td>\n",
       "      <td>Radiomir</td>\n",
       "      <td>PAM01571</td>\n",
       "      <td>6000</td>\n",
       "      <td>USD</td>\n",
       "      <td>USA</td>\n",
       "      <td>2025</td>\n",
       "      <td>6000.0</td>\n",
       "      <td>Out of Stock</td>\n",
       "    </tr>\n",
       "    <tr>\n",
       "      <th>2</th>\n",
       "      <td>PANERAI</td>\n",
       "      <td>https://www.panerai.com/us/en/collections/watc...</td>\n",
       "      <td>https://www.panerai.com/content/dam/rcq/pan/lz...</td>\n",
       "      <td>Radiomir</td>\n",
       "      <td>PAM01572</td>\n",
       "      <td>6000</td>\n",
       "      <td>USD</td>\n",
       "      <td>USA</td>\n",
       "      <td>2025</td>\n",
       "      <td>6000.0</td>\n",
       "      <td>Available</td>\n",
       "    </tr>\n",
       "    <tr>\n",
       "      <th>3</th>\n",
       "      <td>PANERAI</td>\n",
       "      <td>https://www.panerai.com/us/en/collections/watc...</td>\n",
       "      <td>https://www.panerai.com/content/dam/rcq/pan/iY...</td>\n",
       "      <td>Radiomir</td>\n",
       "      <td>PAM01573</td>\n",
       "      <td>6000</td>\n",
       "      <td>USD</td>\n",
       "      <td>USA</td>\n",
       "      <td>2025</td>\n",
       "      <td>6000.0</td>\n",
       "      <td>Available</td>\n",
       "    </tr>\n",
       "    <tr>\n",
       "      <th>4</th>\n",
       "      <td>PANERAI</td>\n",
       "      <td>https://www.panerai.com/us/en/collections/watc...</td>\n",
       "      <td>https://www.panerai.com/content/dam/rcq/pan/bc...</td>\n",
       "      <td>Radiomir</td>\n",
       "      <td>PAM01385</td>\n",
       "      <td>5400</td>\n",
       "      <td>USD</td>\n",
       "      <td>USA</td>\n",
       "      <td>2025</td>\n",
       "      <td>5400.0</td>\n",
       "      <td>Out of Stock</td>\n",
       "    </tr>\n",
       "  </tbody>\n",
       "</table>\n",
       "</div>"
      ],
      "text/plain": [
       "     brand                                        product_url  \\\n",
       "0  PANERAI  https://www.panerai.com/us/en/collections/watc...   \n",
       "1  PANERAI  https://www.panerai.com/us/en/collections/watc...   \n",
       "2  PANERAI  https://www.panerai.com/us/en/collections/watc...   \n",
       "3  PANERAI  https://www.panerai.com/us/en/collections/watc...   \n",
       "4  PANERAI  https://www.panerai.com/us/en/collections/watc...   \n",
       "\n",
       "                                           image_url collection reference  \\\n",
       "0  https://www.panerai.com/content/dam/rcq/pan/km...   Radiomir  PAM01570   \n",
       "1  https://www.panerai.com/content/dam/rcq/pan/Ot...   Radiomir  PAM01571   \n",
       "2  https://www.panerai.com/content/dam/rcq/pan/lz...   Radiomir  PAM01572   \n",
       "3  https://www.panerai.com/content/dam/rcq/pan/iY...   Radiomir  PAM01573   \n",
       "4  https://www.panerai.com/content/dam/rcq/pan/bc...   Radiomir  PAM01385   \n",
       "\n",
       "   price currency_code country  year  price_USD  availability  \n",
       "0   6000           USD     USA  2025     6000.0     Available  \n",
       "1   6000           USD     USA  2025     6000.0  Out of Stock  \n",
       "2   6000           USD     USA  2025     6000.0     Available  \n",
       "3   6000           USD     USA  2025     6000.0     Available  \n",
       "4   5400           USD     USA  2025     5400.0  Out of Stock  "
      ]
     },
     "execution_count": 225,
     "metadata": {},
     "output_type": "execute_result"
    }
   ],
   "source": [
    "# Find records that exist only in 2025\n",
    "only_2025 = data_2025[~data_2025[\"reference\"].isin(data_2021[\"reference\"])]\n",
    "\n",
    "only_2025.head()"
   ]
  },
  {
   "cell_type": "code",
   "execution_count": 226,
   "id": "e20f79da",
   "metadata": {},
   "outputs": [],
   "source": [
    "only_2025.to_csv('../orchestrator/data/gold/Watches_on_sale_2025_Edition.csv', index=False)"
   ]
  },
  {
   "cell_type": "code",
   "execution_count": 227,
   "id": "7b1a15b2",
   "metadata": {},
   "outputs": [
    {
     "name": "stdout",
     "output_type": "stream",
     "text": [
      "Number of products with distinct reference : 118\n",
      "\n",
      "Number of distinct products per country:\n",
      "   - USA : 118\n",
      "   - UK : 117\n",
      "   - Japan : 116\n",
      "   - France : 115\n"
     ]
    }
   ],
   "source": [
    "print(f\"Number of products with distinct reference : {len(only_2025.reference.unique())}\")\n",
    "print(f\"\\nNumber of distinct products per country:\")\n",
    "for country, value in zip(only_2025.country.value_counts().index, only_2025.country.value_counts().values):\n",
    "    print(f\"   - {country} : {value}\")"
   ]
  },
  {
   "cell_type": "code",
   "execution_count": 230,
   "id": "289f6cc1",
   "metadata": {},
   "outputs": [
    {
     "data": {
      "image/png": "[encoded data removed]",
      "text/plain": [
       "<Figure size 640x480 with 1 Axes>"
      ]
     },
     "metadata": {},
     "output_type": "display_data"
    }
   ],
   "source": [
    "collection_visualization(only_2025)"
   ]
  },
  {
   "cell_type": "code",
   "execution_count": 231,
   "id": "383e3948",
   "metadata": {},
   "outputs": [
    {
     "name": "stdout",
     "output_type": "stream",
     "text": [
      "Total profit for products available only in 2025 : $10830346.032000002\n"
     ]
    }
   ],
   "source": [
    "only_2025_total_profit = only_2025['price_USD'].sum()\n",
    "print(f\"Total profit for products available only in 2025 : ${only_2025_total_profit}\")"
   ]
  },
  {
   "cell_type": "code",
   "execution_count": 228,
   "id": "562b0f60",
   "metadata": {},
   "outputs": [
    {
     "data": {
      "image/png": "[encoded data removed]",
      "text/plain": [
       "<Figure size 1000x600 with 1 Axes>"
      ]
     },
     "metadata": {},
     "output_type": "display_data"
    }
   ],
   "source": [
    "plot_collection_by_country(only_2025)"
   ]
  },
  {
   "cell_type": "markdown",
   "id": "e66b32c3",
   "metadata": {},
   "source": [
    "#### France"
   ]
  },
  {
   "cell_type": "code",
   "execution_count": 158,
   "id": "e91e1e5e",
   "metadata": {},
   "outputs": [
    {
     "name": "stdout",
     "output_type": "stream",
     "text": [
      "Total profit for products available only in 2025 in France : $2578971.4200000004\n",
      "\n",
      "Total profit for products available only in 2025 per collection in France\n",
      "  - Luminor : $426805.41000000003\n",
      "  - Luminor Due : $487700.49000000005\n",
      "  - Radiomir : $565007.01\n",
      "  - Submersible : $1099458.51\n"
     ]
    }
   ],
   "source": [
    "country = \"France\"\n",
    "\n",
    "only_2025_france = only_2025[only_2025['country'] == country]\n",
    "only_2025_france_total_profit = only_2025_france['price_USD'].sum()\n",
    "print(f\"Total profit for products available only in 2025 in {country} : ${only_2025_france_total_profit}\")\n",
    "\n",
    "only_2025_france_collection = only_2025_france.groupby(\"collection\")[\"price_USD\"].sum()\n",
    "print(f\"\\nTotal profit for products available only in 2025 per collection in {country}\")\n",
    "for collection, value in zip(only_2025_france_collection.index, only_2025_france_collection.values):\n",
    "    print(f\"  - {collection} : ${value}\")"
   ]
  },
  {
   "cell_type": "markdown",
   "id": "3f327ce3",
   "metadata": {},
   "source": [
    "UK"
   ]
  },
  {
   "cell_type": "code",
   "execution_count": 159,
   "id": "689937e2",
   "metadata": {
    "scrolled": true
   },
   "outputs": [
    {
     "name": "stdout",
     "output_type": "stream",
     "text": [
      "Total profit for products available only in 2025 in UK : $2699407.4999999995\n",
      "\n",
      "Total profit for products available only in 2025 per collection in UK\n",
      "  - Luminor : $664221.75\n",
      "  - Luminor Due : $492722.4\n",
      "  - Radiomir : $500839.95\n",
      "  - Submersible : $1041623.4\n"
     ]
    }
   ],
   "source": [
    "country = \"UK\"\n",
    "\n",
    "only_2025_uk = only_2025[only_2025['country'] == country]\n",
    "only_2025_uk_total_profit = only_2025_uk['price_USD'].sum()\n",
    "print(f\"Total profit for products available only in 2025 in {country} : ${only_2025_uk_total_profit}\")\n",
    "\n",
    "only_2025_uk_collection = only_2025_uk.groupby(\"collection\")[\"price_USD\"].sum()\n",
    "print(f\"\\nTotal profit for products available only in 2025 per collection in {country}\")\n",
    "for collection, value in zip(only_2025_uk_collection.index, only_2025_uk_collection.values):\n",
    "    print(f\"  - {collection} : ${value}\")"
   ]
  },
  {
   "cell_type": "markdown",
   "id": "0d268d28",
   "metadata": {},
   "source": [
    "#### USA"
   ]
  },
  {
   "cell_type": "code",
   "execution_count": 160,
   "id": "77f6104d",
   "metadata": {},
   "outputs": [
    {
     "name": "stdout",
     "output_type": "stream",
     "text": [
      "Total profit for products available only in 2025 in USA : $2898600.0\n",
      "\n",
      "Total profit for products available only in 2025 per collection in USA\n",
      "  - Luminor : $616000.0\n",
      "  - Luminor Due : $443600.0\n",
      "  - Radiomir : $869900.0\n",
      "  - Submersible : $969100.0\n"
     ]
    }
   ],
   "source": [
    "country = \"USA\"\n",
    "\n",
    "only_2025_usa = only_2025[only_2025['country'] == country]\n",
    "only_2025_usa_total_profit = only_2025_usa['price_USD'].sum()\n",
    "print(f\"Total profit for products available only in 2025 in {country} : ${only_2025_usa_total_profit}\")\n",
    "\n",
    "only_2025_usa_collection = only_2025_usa.groupby(\"collection\")[\"price_USD\"].sum()\n",
    "print(f\"\\nTotal profit for products available only in 2025 per collection in {country}\")\n",
    "for collection, value in zip(only_2025_usa_collection.index, only_2025_usa_collection.values):\n",
    "    print(f\"  - {collection} : ${value}\")"
   ]
  },
  {
   "cell_type": "markdown",
   "id": "8dd77b8f",
   "metadata": {},
   "source": [
    "#### Japan"
   ]
  },
  {
   "cell_type": "code",
   "execution_count": 161,
   "id": "48900b49",
   "metadata": {},
   "outputs": [
    {
     "name": "stdout",
     "output_type": "stream",
     "text": [
      "Total profit for products available only in 2025 in Japan : $2653367.1120000007\n",
      "\n",
      "Total profit for products available only in 2025 per collection in Japan\n",
      "  - Luminor : $665720.946\n",
      "  - Luminor Due : $452413.66500000004\n",
      "  - Radiomir : $483268.5\n",
      "  - Submersible : $1051964.001\n"
     ]
    }
   ],
   "source": [
    "country = \"Japan\"\n",
    "\n",
    "only_2025_japan = only_2025[only_2025['country'] == country]\n",
    "only_2025_japan_total_profit = only_2025_japan['price_USD'].sum()\n",
    "print(f\"Total profit for products available only in 2025 in {country} : ${only_2025_japan_total_profit}\")\n",
    "\n",
    "only_2025_japan_collection = only_2025_japan.groupby(\"collection\")[\"price_USD\"].sum()\n",
    "print(f\"\\nTotal profit for products available only in 2025 per collection in {country}\")\n",
    "for collection, value in zip(only_2025_japan_collection.index, only_2025_japan_collection.values):\n",
    "    print(f\"  - {collection} : ${value}\")"
   ]
  },
  {
   "cell_type": "markdown",
   "id": "33cdda14",
   "metadata": {},
   "source": [
    "### Case 4 : (Optional) Products that were only in 2021 VS New product in 2025"
   ]
  },
  {
   "cell_type": "code",
   "execution_count": 162,
   "id": "a7388406",
   "metadata": {},
   "outputs": [
    {
     "name": "stdout",
     "output_type": "stream",
     "text": [
      "Difference in total profit between products available only in 2021 and those available only in 2025: $340630.98\n"
     ]
    }
   ],
   "source": [
    "diff_total_profit = only_2025_total_profit - only_2021_total_profit\n",
    "print(f\"Difference in total profit between products available only in 2021 and those available only in 2025: ${round(diff_total_profit,2)}\")"
   ]
  },
  {
   "cell_type": "code",
   "execution_count": 163,
   "id": "4840a730",
   "metadata": {},
   "outputs": [
    {
     "name": "stdout",
     "output_type": "stream",
     "text": [
      "Growth rate of total profit from products available only in 2021 compared to those available only in 2025: 3.25%\n"
     ]
    }
   ],
   "source": [
    "growth_rate_profit = (diff_total_profit / only_2021_total_profit) * 100\n",
    "print(f\"Growth rate of total profit from products available only in 2021 compared to those available only in 2025: {round(growth_rate_profit,2)}%\")"
   ]
  },
  {
   "cell_type": "markdown",
   "id": "51b516e9",
   "metadata": {},
   "source": [
    "### Interpretation:\n",
    "\n",
    "Given that the analysts took all necessary measures to adjust prices for currency fluctuations and other factors affecting watch prices in each country—with its respective monetary policy—, a comparison of the 2021 and 2025 revenues reveals a clear trend.\n",
    "\n",
    "The new products introduced in 2025 have more than compensated for the removal of exclusive models from 2021, resulting in a profit increase of $136,349.70 and a growth rate of 1.28%."
   ]
  },
  {
   "cell_type": "code",
   "execution_count": null,
   "id": "85ce22e5",
   "metadata": {},
   "outputs": [],
   "source": []
  }
 ],
 "metadata": {
  "kernelspec": {
   "display_name": "Python 3 (ipykernel)",
   "language": "python",
   "name": "python3"
  },
  "language_info": {
   "codemirror_mode": {
    "name": "ipython",
    "version": 3
   },
   "file_extension": ".py",
   "mimetype": "text/x-python",
   "name": "python",
   "nbconvert_exporter": "python",
   "pygments_lexer": "ipython3",
   "version": "3.9.13"
  }
 },
 "nbformat": 4,
 "nbformat_minor": 5
}
