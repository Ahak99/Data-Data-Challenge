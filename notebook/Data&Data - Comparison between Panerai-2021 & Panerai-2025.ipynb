{
 "cells": [
  {
   "cell_type": "markdown",
   "id": "0c5d0579",
   "metadata": {},
   "source": [
    "## Annexe"
   ]
  },
  {
   "cell_type": "code",
   "execution_count": 937,
   "id": "b7f5dea1",
   "metadata": {},
   "outputs": [],
   "source": [
    "def calculate_price_metrics(df):\n",
    "    \"\"\"\n",
    "    Calculate price difference, percentage increase, and CAGR between 2021 and 2025.\n",
    "    \"\"\"\n",
    "    df = df.copy()\n",
    "    df['Price Difference'] = df['price_USD_2025'] - df['price_USD_2021']\n",
    "    df['Increase Rate (%)'] = ((df['price_USD_2025'] - df['price_USD_2021']) / df['price_USD_2021']) * 100\n",
    "    df['CAGR (%)'] = ((df['price_USD_2025'] / df['price_USD_2021']) ** (1/4) - 1) * 100\n",
    "    return df"
   ]
  },
  {
   "cell_type": "code",
   "execution_count": 938,
   "id": "60a081d5",
   "metadata": {},
   "outputs": [],
   "source": [
    "def get_extreme_products(df):\n",
    "    \"\"\"\n",
    "    Identify the products with the highest and lowest increase rate.\n",
    "    \"\"\"\n",
    "    product_highest_increase_rate = df[\n",
    "    df['Increase Rate (%)'] == df['Increase Rate (%)'].max()\n",
    "    ].reset_index(drop=True)\n",
    "    product_lowest_increase_rate = df[\n",
    "    df['Increase Rate (%)'] == df['Increase Rate (%)'].min()\n",
    "    ].reset_index(drop=True)\n",
    "    \n",
    "    return product_highest_increase_rate, product_lowest_increase_rate"
   ]
  },
  {
   "cell_type": "code",
   "execution_count": 939,
   "id": "49362ee7",
   "metadata": {},
   "outputs": [],
   "source": [
    "def count_increase_directions(df):\n",
    "    \"\"\"\n",
    "    Count the number of products with positive and negative increase rates.\n",
    "    \"\"\"\n",
    "    positive_increase = df[df['Increase Rate (%)'] >= 0].reset_index(drop=True)\n",
    "    count_positive_increase = positive_increase.shape[0]\n",
    "    negative_increase = df[df['Increase Rate (%)'] < 0].reset_index(drop=True)\n",
    "    count_negative_increase = negative_increase.shape[0]\n",
    "    return positive_increase, count_positive_increase, negative_increase, count_negative_increase"
   ]
  },
  {
   "cell_type": "code",
   "execution_count": 940,
   "id": "9139abd6",
   "metadata": {},
   "outputs": [],
   "source": [
    "def group_metrics_by_country(df):\n",
    "    \"\"\"\n",
    "    Group the data by 'collection' and 'reference' for a specified country and calculate the mean and median.\n",
    "    \"\"\"\n",
    "    \n",
    "    metrics = ['price_USD_2021', 'price_USD_2025', 'Price Difference', 'Increase Rate (%)', 'CAGR (%)']\n",
    "    \n",
    "    grouped_mean = df.groupby(['collection', 'reference'])[metrics].mean().reset_index()\n",
    "    grouped_median = df.groupby(['collection', 'reference'])[metrics].median().reset_index()\n",
    "    return grouped_mean, grouped_median"
   ]
  },
  {
   "cell_type": "code",
   "execution_count": 941,
   "id": "d10702b1",
   "metadata": {},
   "outputs": [],
   "source": [
    "def describe_country(data):\n",
    "    \"\"\"\n",
    "    Describe the country data.\n",
    "\n",
    "    Parameters:\n",
    "    data (pd.DataFrame): The data to describe.\n",
    "    country (str, optional): The country to filter by. Defaults to None.\n",
    "\n",
    "    Returns:\n",
    "    tuple: A tuple containing the number of rows, unique collections, top collection, unique references, top reference, and a list of unique collections.\n",
    "    \"\"\"\n",
    "        \n",
    "    # Extract required details directly from the original data\n",
    "    number_unique_collections = data['collection'].nunique()\n",
    "    top_collection = data['collection'].mode()[0]\n",
    "    \n",
    "    number_unique_references = len(set(data['reference'].values))\n",
    "    top_reference = data['reference'].mode()[0]\n",
    "    \n",
    "    collection_list = data['collection'].unique()\n",
    "    \n",
    "    return number_unique_collections, top_collection, number_unique_references, top_reference, collection_list\n"
   ]
  },
  {
   "cell_type": "code",
   "execution_count": 942,
   "id": "fbd12285",
   "metadata": {},
   "outputs": [],
   "source": [
    "def collection_visualization(data, country=None):\n",
    "    \"\"\"\n",
    "    Visualize the collection data.\n",
    "\n",
    "    Parameters:\n",
    "    data (pd.DataFrame): The data to visualize.\n",
    "    country (str): The country to filter by.\n",
    "\n",
    "    Returns:\n",
    "    None\n",
    "    \"\"\"\n",
    "    \n",
    "    # Choose a color palette\n",
    "    palette = sns.color_palette(\"pastel\")  # You can choose different palettes like \"deep\", \"pastel\", etc.\n",
    "\n",
    "    # Create the count plot\n",
    "    ax = sns.countplot(x=\"collection\", data=data, palette=palette)\n",
    "\n",
    "    # Add the count value on top of each bar\n",
    "    for p in ax.patches:\n",
    "        ax.annotate(f'{p.get_height()}', \n",
    "                    (p.get_x() + p.get_width() / 2., p.get_y() + p.get_height() / 2.), \n",
    "                    ha='center', va='center', \n",
    "                    fontsize=10, color='black', \n",
    "                    xytext=(0, 5), textcoords='offset points')\n",
    "\n",
    "    # Rotate x-axis labels for better readability\n",
    "    plt.xticks(rotation=45)\n",
    "\n",
    "    # Labels and title\n",
    "    plt.xlabel(\"Collection\")\n",
    "    plt.ylabel(\"Watch Count\")\n",
    "    plt.title(f\"Watch Count per Collection\")\n",
    "    if country:\n",
    "        plt.title(f\"Watch Count per Collection in {country}\")\n",
    "    \n",
    "\n",
    "    # Show the plot\n",
    "    plt.show()"
   ]
  },
  {
   "cell_type": "code",
   "execution_count": 943,
   "id": "4f00c521",
   "metadata": {},
   "outputs": [],
   "source": [
    "def analyze_country(data):\n",
    "    \"\"\"\n",
    "    Analyze the country data.\n",
    "\n",
    "    Parameters:\n",
    "    data (pd.DataFrame): The data to analyze.\n",
    "    country (str, optional): The country to filter by. Defaults to None.\n",
    "\n",
    "    Returns:\n",
    "    tuple: A tuple containing the overall statistics and the collection statistics.\n",
    "    \"\"\"\n",
    "    \n",
    "    # Identify the cheapest and most expensive product in the whole subset\n",
    "    cheapest_product_data = data.nsmallest(1, 'price')\n",
    "    most_expensive_product_data = data.nlargest(1, 'price')\n",
    "    \n",
    "    overall_stats = {\n",
    "        \"cheapest\": {\n",
    "            \"collection\": cheapest_product_data['collection'].values[0],\n",
    "            \"reference\": cheapest_product_data['reference'].values[0],\n",
    "            \"price\": cheapest_product_data['price'].values[0]\n",
    "        },\n",
    "        \"most_expensive\": {\n",
    "            \"collection\": most_expensive_product_data['collection'].values[0],\n",
    "            \"reference\": most_expensive_product_data['reference'].values[0],\n",
    "            \"price\": most_expensive_product_data['price'].values[0]\n",
    "        }\n",
    "    }\n",
    "    \n",
    "    # Identify the cheapest and most expensive product per collection\n",
    "    collection_stats = []\n",
    "    unique_collections = data[\"collection\"].unique()\n",
    "    \n",
    "    for collection in unique_collections:\n",
    "        collection_data = data[data[\"collection\"] == collection]\n",
    "        \n",
    "        cheapest_collection_data = collection_data.nsmallest(1, 'price')\n",
    "        most_expensive_collection_data = collection_data.nlargest(1, 'price')\n",
    "        \n",
    "        collection_stats.append({\n",
    "            \"collection\": collection,\n",
    "            \"cheapest\": {\n",
    "                \"reference\": cheapest_collection_data['reference'].values[0],\n",
    "                \"price\": cheapest_collection_data['price'].values[0]\n",
    "            },\n",
    "            \"most_expensive\": {\n",
    "                \"reference\": most_expensive_collection_data['reference'].values[0],\n",
    "                \"price\": most_expensive_collection_data['price'].values[0]\n",
    "            }\n",
    "        })\n",
    "    \n",
    "    return overall_stats, collection_stats"
   ]
  },
  {
   "cell_type": "markdown",
   "id": "e69fd4a2",
   "metadata": {},
   "source": [
    "# 1. Import librariries"
   ]
  },
  {
   "cell_type": "code",
   "execution_count": 953,
   "id": "eac1aef3",
   "metadata": {},
   "outputs": [],
   "source": [
    "import pandas as pd\n",
    "import numpy as np\n",
    "import seaborn as sns\n",
    "import matplotlib.pyplot as plt\n",
    "import requests"
   ]
  },
  {
   "cell_type": "markdown",
   "id": "7fccb00f",
   "metadata": {},
   "source": [
    "# 2. Load & Read the Data"
   ]
  },
  {
   "cell_type": "code",
   "execution_count": 954,
   "id": "e49cb090",
   "metadata": {
    "scrolled": false
   },
   "outputs": [
    {
     "data": {
      "text/html": [
       "<div>\n",
       "<style scoped>\n",
       "    .dataframe tbody tr th:only-of-type {\n",
       "        vertical-align: middle;\n",
       "    }\n",
       "\n",
       "    .dataframe tbody tr th {\n",
       "        vertical-align: top;\n",
       "    }\n",
       "\n",
       "    .dataframe thead th {\n",
       "        text-align: right;\n",
       "    }\n",
       "</style>\n",
       "<table border=\"1\" class=\"dataframe\">\n",
       "  <thead>\n",
       "    <tr style=\"text-align: right;\">\n",
       "      <th></th>\n",
       "      <th>brand</th>\n",
       "      <th>url</th>\n",
       "      <th>image_url</th>\n",
       "      <th>collection</th>\n",
       "      <th>reference</th>\n",
       "      <th>price</th>\n",
       "      <th>currency</th>\n",
       "      <th>country</th>\n",
       "      <th>year</th>\n",
       "      <th>price_GBP</th>\n",
       "      <th>price_USD</th>\n",
       "      <th>price_JPY</th>\n",
       "      <th>price_EUR</th>\n",
       "    </tr>\n",
       "  </thead>\n",
       "  <tbody>\n",
       "    <tr>\n",
       "      <th>0</th>\n",
       "      <td>Panerai</td>\n",
       "      <td>https://www.panerai.com/fr/fr/collections/watc...</td>\n",
       "      <td>https://www.panerai.com/content/dam/rcq/pan/10...</td>\n",
       "      <td>RADIOMIR</td>\n",
       "      <td>PAM00655</td>\n",
       "      <td>9700.0</td>\n",
       "      <td>EUR</td>\n",
       "      <td>France</td>\n",
       "      <td>2021</td>\n",
       "      <td>8007.35</td>\n",
       "      <td>10074.42</td>\n",
       "      <td>1516206.03</td>\n",
       "      <td>9700.0</td>\n",
       "    </tr>\n",
       "    <tr>\n",
       "      <th>1</th>\n",
       "      <td>Panerai</td>\n",
       "      <td>https://www.panerai.com/fr/fr/collections/watc...</td>\n",
       "      <td>https://www.panerai.com/content/dam/rcq/pan/11...</td>\n",
       "      <td>RADIOMIR</td>\n",
       "      <td>PAM00628</td>\n",
       "      <td>11600.0</td>\n",
       "      <td>EUR</td>\n",
       "      <td>France</td>\n",
       "      <td>2021</td>\n",
       "      <td>9575.80</td>\n",
       "      <td>12047.76</td>\n",
       "      <td>1813194.84</td>\n",
       "      <td>11600.0</td>\n",
       "    </tr>\n",
       "    <tr>\n",
       "      <th>2</th>\n",
       "      <td>Panerai</td>\n",
       "      <td>https://www.panerai.com/fr/fr/collections/watc...</td>\n",
       "      <td>https://www.panerai.com/content/dam/rcq/pan/11...</td>\n",
       "      <td>RADIOMIR</td>\n",
       "      <td>PAM00657</td>\n",
       "      <td>11400.0</td>\n",
       "      <td>EUR</td>\n",
       "      <td>France</td>\n",
       "      <td>2021</td>\n",
       "      <td>9410.70</td>\n",
       "      <td>11840.04</td>\n",
       "      <td>1781932.86</td>\n",
       "      <td>11400.0</td>\n",
       "    </tr>\n",
       "    <tr>\n",
       "      <th>3</th>\n",
       "      <td>Panerai</td>\n",
       "      <td>https://www.panerai.com/fr/fr/collections/watc...</td>\n",
       "      <td>https://www.panerai.com/content/dam/rcq/pan/13...</td>\n",
       "      <td>LUMINOR</td>\n",
       "      <td>PAM00661</td>\n",
       "      <td>11900.0</td>\n",
       "      <td>EUR</td>\n",
       "      <td>France</td>\n",
       "      <td>2021</td>\n",
       "      <td>9823.45</td>\n",
       "      <td>12359.34</td>\n",
       "      <td>1860087.81</td>\n",
       "      <td>11900.0</td>\n",
       "    </tr>\n",
       "    <tr>\n",
       "      <th>4</th>\n",
       "      <td>Panerai</td>\n",
       "      <td>https://www.panerai.com/fr/fr/collections/watc...</td>\n",
       "      <td>https://www.panerai.com/content/dam/rcq/pan/13...</td>\n",
       "      <td>LUMINOR</td>\n",
       "      <td>PAM01312</td>\n",
       "      <td>7900.0</td>\n",
       "      <td>EUR</td>\n",
       "      <td>France</td>\n",
       "      <td>2021</td>\n",
       "      <td>6521.45</td>\n",
       "      <td>8204.94</td>\n",
       "      <td>1234848.21</td>\n",
       "      <td>7900.0</td>\n",
       "    </tr>\n",
       "  </tbody>\n",
       "</table>\n",
       "</div>"
      ],
      "text/plain": [
       "     brand                                                url  \\\n",
       "0  Panerai  https://www.panerai.com/fr/fr/collections/watc...   \n",
       "1  Panerai  https://www.panerai.com/fr/fr/collections/watc...   \n",
       "2  Panerai  https://www.panerai.com/fr/fr/collections/watc...   \n",
       "3  Panerai  https://www.panerai.com/fr/fr/collections/watc...   \n",
       "4  Panerai  https://www.panerai.com/fr/fr/collections/watc...   \n",
       "\n",
       "                                           image_url collection reference  \\\n",
       "0  https://www.panerai.com/content/dam/rcq/pan/10...   RADIOMIR  PAM00655   \n",
       "1  https://www.panerai.com/content/dam/rcq/pan/11...   RADIOMIR  PAM00628   \n",
       "2  https://www.panerai.com/content/dam/rcq/pan/11...   RADIOMIR  PAM00657   \n",
       "3  https://www.panerai.com/content/dam/rcq/pan/13...    LUMINOR  PAM00661   \n",
       "4  https://www.panerai.com/content/dam/rcq/pan/13...    LUMINOR  PAM01312   \n",
       "\n",
       "     price currency country  year  price_GBP  price_USD   price_JPY  price_EUR  \n",
       "0   9700.0      EUR  France  2021    8007.35   10074.42  1516206.03     9700.0  \n",
       "1  11600.0      EUR  France  2021    9575.80   12047.76  1813194.84    11600.0  \n",
       "2  11400.0      EUR  France  2021    9410.70   11840.04  1781932.86    11400.0  \n",
       "3  11900.0      EUR  France  2021    9823.45   12359.34  1860087.81    11900.0  \n",
       "4   7900.0      EUR  France  2021    6521.45    8204.94  1234848.21     7900.0  "
      ]
     },
     "execution_count": 954,
     "metadata": {},
     "output_type": "execute_result"
    }
   ],
   "source": [
    "data_2021 = pd.read_csv(r\"../data/silver/PANERAI_DATA_2021.csv\")\n",
    "data_2021.head()"
   ]
  },
  {
   "cell_type": "code",
   "execution_count": 955,
   "id": "74cea459",
   "metadata": {},
   "outputs": [
    {
     "name": "stdout",
     "output_type": "stream",
     "text": [
      "Number of products with distinct reference : 207\n",
      "Number of existing products by reference : 687\n"
     ]
    }
   ],
   "source": [
    "print(f'Number of products with distinct reference : {len(set(data_2021.reference.values))}')\n",
    "print(f'Number of existing products by reference : {len(data_2021.reference.values)}')"
   ]
  },
  {
   "cell_type": "markdown",
   "id": "a84259b0",
   "metadata": {},
   "source": [
    "#### To handle this difference, I will group the dataset by 'reference' and calculate the median price"
   ]
  },
  {
   "cell_type": "code",
   "execution_count": 956,
   "id": "2d1f7228",
   "metadata": {},
   "outputs": [
    {
     "data": {
      "text/html": [
       "<div>\n",
       "<style scoped>\n",
       "    .dataframe tbody tr th:only-of-type {\n",
       "        vertical-align: middle;\n",
       "    }\n",
       "\n",
       "    .dataframe tbody tr th {\n",
       "        vertical-align: top;\n",
       "    }\n",
       "\n",
       "    .dataframe thead th {\n",
       "        text-align: right;\n",
       "    }\n",
       "</style>\n",
       "<table border=\"1\" class=\"dataframe\">\n",
       "  <thead>\n",
       "    <tr style=\"text-align: right;\">\n",
       "      <th></th>\n",
       "      <th>reference</th>\n",
       "      <th>brand</th>\n",
       "      <th>year</th>\n",
       "      <th>collection</th>\n",
       "      <th>price_USD</th>\n",
       "    </tr>\n",
       "  </thead>\n",
       "  <tbody>\n",
       "    <tr>\n",
       "      <th>0</th>\n",
       "      <td>PAM00233</td>\n",
       "      <td>Panerai</td>\n",
       "      <td>2021</td>\n",
       "      <td>LUMINOR</td>\n",
       "      <td>12969.390</td>\n",
       "    </tr>\n",
       "    <tr>\n",
       "      <th>1</th>\n",
       "      <td>PAM00317</td>\n",
       "      <td>Panerai</td>\n",
       "      <td>2021</td>\n",
       "      <td>LUMINOR</td>\n",
       "      <td>22296.996</td>\n",
       "    </tr>\n",
       "    <tr>\n",
       "      <th>2</th>\n",
       "      <td>PAM00335</td>\n",
       "      <td>Panerai</td>\n",
       "      <td>2021</td>\n",
       "      <td>LUMINOR</td>\n",
       "      <td>17967.780</td>\n",
       "    </tr>\n",
       "    <tr>\n",
       "      <th>3</th>\n",
       "      <td>PAM00372</td>\n",
       "      <td>Panerai</td>\n",
       "      <td>2021</td>\n",
       "      <td>LUMINOR</td>\n",
       "      <td>7235.316</td>\n",
       "    </tr>\n",
       "    <tr>\n",
       "      <th>4</th>\n",
       "      <td>PAM00422</td>\n",
       "      <td>Panerai</td>\n",
       "      <td>2021</td>\n",
       "      <td>LUMINOR</td>\n",
       "      <td>10441.590</td>\n",
       "    </tr>\n",
       "  </tbody>\n",
       "</table>\n",
       "</div>"
      ],
      "text/plain": [
       "  reference    brand  year collection  price_USD\n",
       "0  PAM00233  Panerai  2021    LUMINOR  12969.390\n",
       "1  PAM00317  Panerai  2021    LUMINOR  22296.996\n",
       "2  PAM00335  Panerai  2021    LUMINOR  17967.780\n",
       "3  PAM00372  Panerai  2021    LUMINOR   7235.316\n",
       "4  PAM00422  Panerai  2021    LUMINOR  10441.590"
      ]
     },
     "execution_count": 956,
     "metadata": {},
     "output_type": "execute_result"
    }
   ],
   "source": [
    "grouped_data_2021_ref = data_2021.groupby('reference', as_index=False).agg({\n",
    "    'brand': 'first',\n",
    "    'year': 'first',\n",
    "    'collection': 'first',\n",
    "    'price_USD': 'median'\n",
    "})\n",
    "grouped_data_2021_ref.head()"
   ]
  },
  {
   "cell_type": "code",
   "execution_count": 957,
   "id": "95640663",
   "metadata": {},
   "outputs": [
    {
     "name": "stdout",
     "output_type": "stream",
     "text": [
      "Number of products with distinct reference : 207\n",
      "Number of existing products by reference : 207\n"
     ]
    }
   ],
   "source": [
    "print(f'Number of products with distinct reference : {len(set(grouped_data_2021_ref.reference.values))}')\n",
    "print(f'Number of existing products by reference : {len(grouped_data_2021_ref.reference.values)}')"
   ]
  },
  {
   "cell_type": "code",
   "execution_count": 958,
   "id": "14868154",
   "metadata": {
    "scrolled": true
   },
   "outputs": [
    {
     "data": {
      "text/html": [
       "<div>\n",
       "<style scoped>\n",
       "    .dataframe tbody tr th:only-of-type {\n",
       "        vertical-align: middle;\n",
       "    }\n",
       "\n",
       "    .dataframe tbody tr th {\n",
       "        vertical-align: top;\n",
       "    }\n",
       "\n",
       "    .dataframe thead th {\n",
       "        text-align: right;\n",
       "    }\n",
       "</style>\n",
       "<table border=\"1\" class=\"dataframe\">\n",
       "  <thead>\n",
       "    <tr style=\"text-align: right;\">\n",
       "      <th></th>\n",
       "      <th>product_url</th>\n",
       "      <th>reference</th>\n",
       "      <th>price</th>\n",
       "      <th>country</th>\n",
       "      <th>year</th>\n",
       "      <th>brand</th>\n",
       "      <th>image_url</th>\n",
       "      <th>collection</th>\n",
       "      <th>currency</th>\n",
       "      <th>name</th>\n",
       "      <th>availability</th>\n",
       "      <th>currency_code</th>\n",
       "      <th>price_USD</th>\n",
       "      <th>price_GBP</th>\n",
       "      <th>price_JPY</th>\n",
       "      <th>price_EUR</th>\n",
       "    </tr>\n",
       "  </thead>\n",
       "  <tbody>\n",
       "    <tr>\n",
       "      <th>0</th>\n",
       "      <td>https://www.panerai.com/us/en/collections/watc...</td>\n",
       "      <td>PAM01570</td>\n",
       "      <td>6000</td>\n",
       "      <td>USA</td>\n",
       "      <td>2025</td>\n",
       "      <td>PANERAI</td>\n",
       "      <td>https://www.panerai.com/content/dam/rcq/pan/km...</td>\n",
       "      <td>Radiomir</td>\n",
       "      <td>$</td>\n",
       "      <td>Radiomir Quaranta</td>\n",
       "      <td>Available</td>\n",
       "      <td>USD</td>\n",
       "      <td>6000.0</td>\n",
       "      <td>4764.0</td>\n",
       "      <td>903057.0</td>\n",
       "      <td>5777.40</td>\n",
       "    </tr>\n",
       "    <tr>\n",
       "      <th>1</th>\n",
       "      <td>https://www.panerai.com/us/en/collections/watc...</td>\n",
       "      <td>PAM01571</td>\n",
       "      <td>6000</td>\n",
       "      <td>USA</td>\n",
       "      <td>2025</td>\n",
       "      <td>PANERAI</td>\n",
       "      <td>https://www.panerai.com/content/dam/rcq/pan/Ot...</td>\n",
       "      <td>Radiomir</td>\n",
       "      <td>$</td>\n",
       "      <td>Radiomir Quaranta</td>\n",
       "      <td>Out of Stock</td>\n",
       "      <td>USD</td>\n",
       "      <td>6000.0</td>\n",
       "      <td>4764.0</td>\n",
       "      <td>903057.0</td>\n",
       "      <td>5777.40</td>\n",
       "    </tr>\n",
       "    <tr>\n",
       "      <th>2</th>\n",
       "      <td>https://www.panerai.com/us/en/collections/watc...</td>\n",
       "      <td>PAM01572</td>\n",
       "      <td>6000</td>\n",
       "      <td>USA</td>\n",
       "      <td>2025</td>\n",
       "      <td>PANERAI</td>\n",
       "      <td>https://www.panerai.com/content/dam/rcq/pan/lz...</td>\n",
       "      <td>Radiomir</td>\n",
       "      <td>$</td>\n",
       "      <td>Radiomir Quaranta</td>\n",
       "      <td>Available</td>\n",
       "      <td>USD</td>\n",
       "      <td>6000.0</td>\n",
       "      <td>4764.0</td>\n",
       "      <td>903057.0</td>\n",
       "      <td>5777.40</td>\n",
       "    </tr>\n",
       "    <tr>\n",
       "      <th>3</th>\n",
       "      <td>https://www.panerai.com/us/en/collections/watc...</td>\n",
       "      <td>PAM01573</td>\n",
       "      <td>6000</td>\n",
       "      <td>USA</td>\n",
       "      <td>2025</td>\n",
       "      <td>PANERAI</td>\n",
       "      <td>https://www.panerai.com/content/dam/rcq/pan/iY...</td>\n",
       "      <td>Radiomir</td>\n",
       "      <td>$</td>\n",
       "      <td>Radiomir Quaranta</td>\n",
       "      <td>Available</td>\n",
       "      <td>USD</td>\n",
       "      <td>6000.0</td>\n",
       "      <td>4764.0</td>\n",
       "      <td>903057.0</td>\n",
       "      <td>5777.40</td>\n",
       "    </tr>\n",
       "    <tr>\n",
       "      <th>4</th>\n",
       "      <td>https://www.panerai.com/us/en/collections/watc...</td>\n",
       "      <td>PAM01385</td>\n",
       "      <td>5400</td>\n",
       "      <td>USA</td>\n",
       "      <td>2025</td>\n",
       "      <td>PANERAI</td>\n",
       "      <td>https://www.panerai.com/content/dam/rcq/pan/bc...</td>\n",
       "      <td>Radiomir</td>\n",
       "      <td>$</td>\n",
       "      <td>Radiomir Officine</td>\n",
       "      <td>Out of Stock</td>\n",
       "      <td>USD</td>\n",
       "      <td>5400.0</td>\n",
       "      <td>4287.6</td>\n",
       "      <td>812751.3</td>\n",
       "      <td>5199.66</td>\n",
       "    </tr>\n",
       "  </tbody>\n",
       "</table>\n",
       "</div>"
      ],
      "text/plain": [
       "                                         product_url reference  price country  \\\n",
       "0  https://www.panerai.com/us/en/collections/watc...  PAM01570   6000     USA   \n",
       "1  https://www.panerai.com/us/en/collections/watc...  PAM01571   6000     USA   \n",
       "2  https://www.panerai.com/us/en/collections/watc...  PAM01572   6000     USA   \n",
       "3  https://www.panerai.com/us/en/collections/watc...  PAM01573   6000     USA   \n",
       "4  https://www.panerai.com/us/en/collections/watc...  PAM01385   5400     USA   \n",
       "\n",
       "   year    brand                                          image_url  \\\n",
       "0  2025  PANERAI  https://www.panerai.com/content/dam/rcq/pan/km...   \n",
       "1  2025  PANERAI  https://www.panerai.com/content/dam/rcq/pan/Ot...   \n",
       "2  2025  PANERAI  https://www.panerai.com/content/dam/rcq/pan/lz...   \n",
       "3  2025  PANERAI  https://www.panerai.com/content/dam/rcq/pan/iY...   \n",
       "4  2025  PANERAI  https://www.panerai.com/content/dam/rcq/pan/bc...   \n",
       "\n",
       "  collection currency               name  availability currency_code  \\\n",
       "0   Radiomir        $  Radiomir Quaranta     Available           USD   \n",
       "1   Radiomir        $  Radiomir Quaranta  Out of Stock           USD   \n",
       "2   Radiomir        $  Radiomir Quaranta     Available           USD   \n",
       "3   Radiomir        $  Radiomir Quaranta     Available           USD   \n",
       "4   Radiomir        $  Radiomir Officine  Out of Stock           USD   \n",
       "\n",
       "   price_USD  price_GBP  price_JPY  price_EUR  \n",
       "0     6000.0     4764.0   903057.0    5777.40  \n",
       "1     6000.0     4764.0   903057.0    5777.40  \n",
       "2     6000.0     4764.0   903057.0    5777.40  \n",
       "3     6000.0     4764.0   903057.0    5777.40  \n",
       "4     5400.0     4287.6   812751.3    5199.66  "
      ]
     },
     "execution_count": 958,
     "metadata": {},
     "output_type": "execute_result"
    }
   ],
   "source": [
    "data_2025 = pd.read_csv(r\"../data/silver/2025-02-28_23-03-38/PANERAI_DATA_2025.csv\")\n",
    "data_2025.head()"
   ]
  },
  {
   "cell_type": "code",
   "execution_count": 959,
   "id": "3bf45674",
   "metadata": {},
   "outputs": [
    {
     "name": "stdout",
     "output_type": "stream",
     "text": [
      "Number of products with distinct reference : 149\n",
      "Number of existing products by reference : 590\n"
     ]
    }
   ],
   "source": [
    "print(f'Number of products with distinct reference : {len(set(data_2025.reference.values))}')\n",
    "print(f'Number of existing products by reference : {len(data_2025.reference.values)}')"
   ]
  },
  {
   "cell_type": "markdown",
   "id": "f3d77797",
   "metadata": {},
   "source": [
    "#### To handle this difference, I will group the dataset by 'reference' and calculate the median price"
   ]
  },
  {
   "cell_type": "code",
   "execution_count": 960,
   "id": "f163d5dc",
   "metadata": {},
   "outputs": [
    {
     "data": {
      "text/html": [
       "<div>\n",
       "<style scoped>\n",
       "    .dataframe tbody tr th:only-of-type {\n",
       "        vertical-align: middle;\n",
       "    }\n",
       "\n",
       "    .dataframe tbody tr th {\n",
       "        vertical-align: top;\n",
       "    }\n",
       "\n",
       "    .dataframe thead th {\n",
       "        text-align: right;\n",
       "    }\n",
       "</style>\n",
       "<table border=\"1\" class=\"dataframe\">\n",
       "  <thead>\n",
       "    <tr style=\"text-align: right;\">\n",
       "      <th></th>\n",
       "      <th>reference</th>\n",
       "      <th>brand</th>\n",
       "      <th>year</th>\n",
       "      <th>collection</th>\n",
       "      <th>price_USD</th>\n",
       "    </tr>\n",
       "  </thead>\n",
       "  <tbody>\n",
       "    <tr>\n",
       "      <th>0</th>\n",
       "      <td>PAM00422</td>\n",
       "      <td>PANERAI</td>\n",
       "      <td>2025</td>\n",
       "      <td>Luminor</td>\n",
       "      <td>11635.960</td>\n",
       "    </tr>\n",
       "    <tr>\n",
       "      <th>1</th>\n",
       "      <td>PAM00600</td>\n",
       "      <td>PANERAI</td>\n",
       "      <td>2025</td>\n",
       "      <td>Radiomir</td>\n",
       "      <td>398400.000</td>\n",
       "    </tr>\n",
       "    <tr>\n",
       "      <th>2</th>\n",
       "      <td>PAM00670</td>\n",
       "      <td>PANERAI</td>\n",
       "      <td>2025</td>\n",
       "      <td>Luminor</td>\n",
       "      <td>24781.710</td>\n",
       "    </tr>\n",
       "    <tr>\n",
       "      <th>3</th>\n",
       "      <td>PAM00715</td>\n",
       "      <td>PANERAI</td>\n",
       "      <td>2025</td>\n",
       "      <td>Luminor</td>\n",
       "      <td>66910.512</td>\n",
       "    </tr>\n",
       "    <tr>\n",
       "      <th>4</th>\n",
       "      <td>PAM00742</td>\n",
       "      <td>PANERAI</td>\n",
       "      <td>2025</td>\n",
       "      <td>Luminor</td>\n",
       "      <td>48364.426</td>\n",
       "    </tr>\n",
       "  </tbody>\n",
       "</table>\n",
       "</div>"
      ],
      "text/plain": [
       "  reference    brand  year collection   price_USD\n",
       "0  PAM00422  PANERAI  2025    Luminor   11635.960\n",
       "1  PAM00600  PANERAI  2025   Radiomir  398400.000\n",
       "2  PAM00670  PANERAI  2025    Luminor   24781.710\n",
       "3  PAM00715  PANERAI  2025    Luminor   66910.512\n",
       "4  PAM00742  PANERAI  2025    Luminor   48364.426"
      ]
     },
     "execution_count": 960,
     "metadata": {},
     "output_type": "execute_result"
    }
   ],
   "source": [
    "grouped_data_2025_ref = data_2025.groupby('reference', as_index=False).agg({\n",
    "    'brand': 'first',\n",
    "    'year': 'first',\n",
    "    'collection': 'first',\n",
    "    'price_USD': 'median'\n",
    "})\n",
    "grouped_data_2025_ref.head()"
   ]
  },
  {
   "cell_type": "markdown",
   "id": "203276ef",
   "metadata": {},
   "source": [
    "# 3. Data and Business Analysis"
   ]
  },
  {
   "cell_type": "markdown",
   "id": "4204311f",
   "metadata": {},
   "source": [
    "## 3.1. Commun products since 2021"
   ]
  },
  {
   "cell_type": "code",
   "execution_count": 961,
   "id": "e75615e1",
   "metadata": {
    "scrolled": false
   },
   "outputs": [
    {
     "data": {
      "text/html": [
       "<div>\n",
       "<style scoped>\n",
       "    .dataframe tbody tr th:only-of-type {\n",
       "        vertical-align: middle;\n",
       "    }\n",
       "\n",
       "    .dataframe tbody tr th {\n",
       "        vertical-align: top;\n",
       "    }\n",
       "\n",
       "    .dataframe thead th {\n",
       "        text-align: right;\n",
       "    }\n",
       "</style>\n",
       "<table border=\"1\" class=\"dataframe\">\n",
       "  <thead>\n",
       "    <tr style=\"text-align: right;\">\n",
       "      <th></th>\n",
       "      <th>brand</th>\n",
       "      <th>reference</th>\n",
       "      <th>collection</th>\n",
       "      <th>price_USD_2021</th>\n",
       "      <th>price_USD_2025</th>\n",
       "    </tr>\n",
       "  </thead>\n",
       "  <tbody>\n",
       "    <tr>\n",
       "      <th>0</th>\n",
       "      <td>PANERAI</td>\n",
       "      <td>PAM00422</td>\n",
       "      <td>Luminor</td>\n",
       "      <td>10441.59</td>\n",
       "      <td>11635.960</td>\n",
       "    </tr>\n",
       "    <tr>\n",
       "      <th>1</th>\n",
       "      <td>PANERAI</td>\n",
       "      <td>PAM00670</td>\n",
       "      <td>Luminor</td>\n",
       "      <td>22745.34</td>\n",
       "      <td>24781.710</td>\n",
       "    </tr>\n",
       "    <tr>\n",
       "      <th>2</th>\n",
       "      <td>PANERAI</td>\n",
       "      <td>PAM00715</td>\n",
       "      <td>Luminor</td>\n",
       "      <td>71677.98</td>\n",
       "      <td>66910.512</td>\n",
       "    </tr>\n",
       "    <tr>\n",
       "      <th>3</th>\n",
       "      <td>PANERAI</td>\n",
       "      <td>PAM00742</td>\n",
       "      <td>Luminor</td>\n",
       "      <td>49957.38</td>\n",
       "      <td>48364.426</td>\n",
       "    </tr>\n",
       "    <tr>\n",
       "      <th>4</th>\n",
       "      <td>PANERAI</td>\n",
       "      <td>PAM00914</td>\n",
       "      <td>Luminor</td>\n",
       "      <td>6439.32</td>\n",
       "      <td>7288.960</td>\n",
       "    </tr>\n",
       "  </tbody>\n",
       "</table>\n",
       "</div>"
      ],
      "text/plain": [
       "     brand reference collection  price_USD_2021  price_USD_2025\n",
       "0  PANERAI  PAM00422    Luminor        10441.59       11635.960\n",
       "1  PANERAI  PAM00670    Luminor        22745.34       24781.710\n",
       "2  PANERAI  PAM00715    Luminor        71677.98       66910.512\n",
       "3  PANERAI  PAM00742    Luminor        49957.38       48364.426\n",
       "4  PANERAI  PAM00914    Luminor         6439.32        7288.960"
      ]
     },
     "execution_count": 961,
     "metadata": {},
     "output_type": "execute_result"
    }
   ],
   "source": [
    "data_2021_2025_ref = pd.merge(grouped_data_2025_ref, grouped_data_2021_ref, on='reference', how='inner')\n",
    "data_2021_2025_ref = data_2021_2025_ref.rename(columns={'brand_x': 'brand', 'collection_x': 'collection', 'year_x': 'year_2025', 'price_USD_x': 'price_USD_2025', 'year_y': 'year_2021', 'price_USD_y': 'price_USD_2021'})\n",
    "data_2021_2025_ref = data_2021_2025_ref[['brand', 'reference', 'collection', 'price_USD_2021', 'price_USD_2025']]\n",
    "\n",
    "data_2021_2025_ref.to_csv('../data/gold/Watches on sale from 2021 until 2025.csv', index=False)\n",
    "\n",
    "data_2021_2025_ref.head()"
   ]
  },
  {
   "cell_type": "markdown",
   "id": "36872f05",
   "metadata": {},
   "source": [
    "### 3.1.1. Calculate Price Metrics"
   ]
  },
  {
   "cell_type": "code",
   "execution_count": 962,
   "id": "b9e46a90",
   "metadata": {
    "scrolled": true
   },
   "outputs": [],
   "source": [
    "data_2021_2025_ref = calculate_price_metrics(data_2021_2025_ref)\n",
    "data_2021_2025_ref.to_csv('../data/gold/calculated_metrics_for_comparison.csv', index=False)"
   ]
  },
  {
   "cell_type": "code",
   "execution_count": 963,
   "id": "af145443",
   "metadata": {
    "scrolled": false
   },
   "outputs": [
    {
     "data": {
      "text/html": [
       "<div>\n",
       "<style scoped>\n",
       "    .dataframe tbody tr th:only-of-type {\n",
       "        vertical-align: middle;\n",
       "    }\n",
       "\n",
       "    .dataframe tbody tr th {\n",
       "        vertical-align: top;\n",
       "    }\n",
       "\n",
       "    .dataframe thead th {\n",
       "        text-align: right;\n",
       "    }\n",
       "</style>\n",
       "<table border=\"1\" class=\"dataframe\">\n",
       "  <thead>\n",
       "    <tr style=\"text-align: right;\">\n",
       "      <th></th>\n",
       "      <th>brand</th>\n",
       "      <th>reference</th>\n",
       "      <th>collection</th>\n",
       "      <th>price_USD_2021</th>\n",
       "      <th>price_USD_2025</th>\n",
       "      <th>Price Difference</th>\n",
       "      <th>Increase Rate (%)</th>\n",
       "      <th>CAGR (%)</th>\n",
       "    </tr>\n",
       "  </thead>\n",
       "  <tbody>\n",
       "    <tr>\n",
       "      <th>0</th>\n",
       "      <td>PANERAI</td>\n",
       "      <td>PAM00422</td>\n",
       "      <td>Luminor</td>\n",
       "      <td>10441.59</td>\n",
       "      <td>11635.960</td>\n",
       "      <td>1194.370</td>\n",
       "      <td>11.438584</td>\n",
       "      <td>2.744574</td>\n",
       "    </tr>\n",
       "    <tr>\n",
       "      <th>1</th>\n",
       "      <td>PANERAI</td>\n",
       "      <td>PAM00670</td>\n",
       "      <td>Luminor</td>\n",
       "      <td>22745.34</td>\n",
       "      <td>24781.710</td>\n",
       "      <td>2036.370</td>\n",
       "      <td>8.952911</td>\n",
       "      <td>2.166781</td>\n",
       "    </tr>\n",
       "    <tr>\n",
       "      <th>2</th>\n",
       "      <td>PANERAI</td>\n",
       "      <td>PAM00715</td>\n",
       "      <td>Luminor</td>\n",
       "      <td>71677.98</td>\n",
       "      <td>66910.512</td>\n",
       "      <td>-4767.468</td>\n",
       "      <td>-6.651231</td>\n",
       "      <td>-1.705968</td>\n",
       "    </tr>\n",
       "    <tr>\n",
       "      <th>3</th>\n",
       "      <td>PANERAI</td>\n",
       "      <td>PAM00742</td>\n",
       "      <td>Luminor</td>\n",
       "      <td>49957.38</td>\n",
       "      <td>48364.426</td>\n",
       "      <td>-1592.954</td>\n",
       "      <td>-3.188626</td>\n",
       "      <td>-0.806870</td>\n",
       "    </tr>\n",
       "    <tr>\n",
       "      <th>4</th>\n",
       "      <td>PANERAI</td>\n",
       "      <td>PAM00914</td>\n",
       "      <td>Luminor</td>\n",
       "      <td>6439.32</td>\n",
       "      <td>7288.960</td>\n",
       "      <td>849.640</td>\n",
       "      <td>13.194561</td>\n",
       "      <td>3.146950</td>\n",
       "    </tr>\n",
       "  </tbody>\n",
       "</table>\n",
       "</div>"
      ],
      "text/plain": [
       "     brand reference collection  price_USD_2021  price_USD_2025  \\\n",
       "0  PANERAI  PAM00422    Luminor        10441.59       11635.960   \n",
       "1  PANERAI  PAM00670    Luminor        22745.34       24781.710   \n",
       "2  PANERAI  PAM00715    Luminor        71677.98       66910.512   \n",
       "3  PANERAI  PAM00742    Luminor        49957.38       48364.426   \n",
       "4  PANERAI  PAM00914    Luminor         6439.32        7288.960   \n",
       "\n",
       "   Price Difference  Increase Rate (%)  CAGR (%)  \n",
       "0          1194.370          11.438584  2.744574  \n",
       "1          2036.370           8.952911  2.166781  \n",
       "2         -4767.468          -6.651231 -1.705968  \n",
       "3         -1592.954          -3.188626 -0.806870  \n",
       "4           849.640          13.194561  3.146950  "
      ]
     },
     "execution_count": 963,
     "metadata": {},
     "output_type": "execute_result"
    }
   ],
   "source": [
    "data_2021_2025_ref.head()"
   ]
  },
  {
   "cell_type": "code",
   "execution_count": 964,
   "id": "9f212400",
   "metadata": {
    "scrolled": false
   },
   "outputs": [
    {
     "name": "stdout",
     "output_type": "stream",
     "text": [
      "Overall Summary:\n",
      "\n",
      "Total of products analyzed (These products have been consistently purchased since 2021): 31\n",
      "Total of Products with a positive increase rate: 28\n",
      "Total Products with a negative increase rate: 3\n",
      "\n"
     ]
    }
   ],
   "source": [
    "positive_increase, count_positive_increase, negative_increase, count_negative_increase = count_increase_directions(data_2021_2025_ref)\n",
    "\n",
    "print(\"Overall Summary:\\n\")\n",
    "print(f\"Total of products analyzed (These products have been consistently purchased since 2021): {len(set(data_2021_2025['reference'].values))}\")\n",
    "print(f\"Total of Products with a positive increase rate: {count_positive_increase}\")\n",
    "print(f\"Total Products with a negative increase rate: {count_negative_increase}\\n\")"
   ]
  },
  {
   "cell_type": "code",
   "execution_count": 965,
   "id": "884ede0c",
   "metadata": {
    "scrolled": true
   },
   "outputs": [
    {
     "name": "stdout",
     "output_type": "stream",
     "text": [
      "Product with Positive Increase Rate:\n"
     ]
    },
    {
     "data": {
      "text/html": [
       "<div>\n",
       "<style scoped>\n",
       "    .dataframe tbody tr th:only-of-type {\n",
       "        vertical-align: middle;\n",
       "    }\n",
       "\n",
       "    .dataframe tbody tr th {\n",
       "        vertical-align: top;\n",
       "    }\n",
       "\n",
       "    .dataframe thead th {\n",
       "        text-align: right;\n",
       "    }\n",
       "</style>\n",
       "<table border=\"1\" class=\"dataframe\">\n",
       "  <thead>\n",
       "    <tr style=\"text-align: right;\">\n",
       "      <th></th>\n",
       "      <th>brand</th>\n",
       "      <th>reference</th>\n",
       "      <th>collection</th>\n",
       "      <th>price_USD_2021</th>\n",
       "      <th>price_USD_2025</th>\n",
       "      <th>Price Difference</th>\n",
       "      <th>Increase Rate (%)</th>\n",
       "      <th>CAGR (%)</th>\n",
       "    </tr>\n",
       "  </thead>\n",
       "  <tbody>\n",
       "    <tr>\n",
       "      <th>0</th>\n",
       "      <td>PANERAI</td>\n",
       "      <td>PAM00422</td>\n",
       "      <td>Luminor</td>\n",
       "      <td>10441.59</td>\n",
       "      <td>11635.960</td>\n",
       "      <td>1194.370</td>\n",
       "      <td>11.438584</td>\n",
       "      <td>2.744574</td>\n",
       "    </tr>\n",
       "    <tr>\n",
       "      <th>1</th>\n",
       "      <td>PANERAI</td>\n",
       "      <td>PAM00670</td>\n",
       "      <td>Luminor</td>\n",
       "      <td>22745.34</td>\n",
       "      <td>24781.710</td>\n",
       "      <td>2036.370</td>\n",
       "      <td>8.952911</td>\n",
       "      <td>2.166781</td>\n",
       "    </tr>\n",
       "    <tr>\n",
       "      <th>2</th>\n",
       "      <td>PANERAI</td>\n",
       "      <td>PAM00914</td>\n",
       "      <td>Luminor</td>\n",
       "      <td>6439.32</td>\n",
       "      <td>7288.960</td>\n",
       "      <td>849.640</td>\n",
       "      <td>13.194561</td>\n",
       "      <td>3.146950</td>\n",
       "    </tr>\n",
       "    <tr>\n",
       "      <th>3</th>\n",
       "      <td>PANERAI</td>\n",
       "      <td>PAM00915</td>\n",
       "      <td>Luminor</td>\n",
       "      <td>7131.57</td>\n",
       "      <td>7798.978</td>\n",
       "      <td>667.408</td>\n",
       "      <td>9.358500</td>\n",
       "      <td>2.261730</td>\n",
       "    </tr>\n",
       "    <tr>\n",
       "      <th>4</th>\n",
       "      <td>PANERAI</td>\n",
       "      <td>PAM00968</td>\n",
       "      <td>Submersible</td>\n",
       "      <td>17573.16</td>\n",
       "      <td>19221.452</td>\n",
       "      <td>1648.292</td>\n",
       "      <td>9.379599</td>\n",
       "      <td>2.266662</td>\n",
       "    </tr>\n",
       "  </tbody>\n",
       "</table>\n",
       "</div>"
      ],
      "text/plain": [
       "     brand reference   collection  price_USD_2021  price_USD_2025  \\\n",
       "0  PANERAI  PAM00422      Luminor        10441.59       11635.960   \n",
       "1  PANERAI  PAM00670      Luminor        22745.34       24781.710   \n",
       "2  PANERAI  PAM00914      Luminor         6439.32        7288.960   \n",
       "3  PANERAI  PAM00915      Luminor         7131.57        7798.978   \n",
       "4  PANERAI  PAM00968  Submersible        17573.16       19221.452   \n",
       "\n",
       "   Price Difference  Increase Rate (%)  CAGR (%)  \n",
       "0          1194.370          11.438584  2.744574  \n",
       "1          2036.370           8.952911  2.166781  \n",
       "2           849.640          13.194561  3.146950  \n",
       "3           667.408           9.358500  2.261730  \n",
       "4          1648.292           9.379599  2.266662  "
      ]
     },
     "execution_count": 965,
     "metadata": {},
     "output_type": "execute_result"
    }
   ],
   "source": [
    "print(\"Product with Positive Increase Rate:\")\n",
    "positive_increase.head()"
   ]
  },
  {
   "cell_type": "code",
   "execution_count": 966,
   "id": "c8f03830",
   "metadata": {},
   "outputs": [
    {
     "name": "stdout",
     "output_type": "stream",
     "text": [
      "Product with Negative Increase Rate:\n"
     ]
    },
    {
     "data": {
      "text/html": [
       "<div>\n",
       "<style scoped>\n",
       "    .dataframe tbody tr th:only-of-type {\n",
       "        vertical-align: middle;\n",
       "    }\n",
       "\n",
       "    .dataframe tbody tr th {\n",
       "        vertical-align: top;\n",
       "    }\n",
       "\n",
       "    .dataframe thead th {\n",
       "        text-align: right;\n",
       "    }\n",
       "</style>\n",
       "<table border=\"1\" class=\"dataframe\">\n",
       "  <thead>\n",
       "    <tr style=\"text-align: right;\">\n",
       "      <th></th>\n",
       "      <th>brand</th>\n",
       "      <th>reference</th>\n",
       "      <th>collection</th>\n",
       "      <th>price_USD_2021</th>\n",
       "      <th>price_USD_2025</th>\n",
       "      <th>Price Difference</th>\n",
       "      <th>Increase Rate (%)</th>\n",
       "      <th>CAGR (%)</th>\n",
       "    </tr>\n",
       "  </thead>\n",
       "  <tbody>\n",
       "    <tr>\n",
       "      <th>0</th>\n",
       "      <td>PANERAI</td>\n",
       "      <td>PAM00715</td>\n",
       "      <td>Luminor</td>\n",
       "      <td>71677.98</td>\n",
       "      <td>66910.512</td>\n",
       "      <td>-4767.468</td>\n",
       "      <td>-6.651231</td>\n",
       "      <td>-1.705968</td>\n",
       "    </tr>\n",
       "    <tr>\n",
       "      <th>1</th>\n",
       "      <td>PANERAI</td>\n",
       "      <td>PAM00742</td>\n",
       "      <td>Luminor</td>\n",
       "      <td>49957.38</td>\n",
       "      <td>48364.426</td>\n",
       "      <td>-1592.954</td>\n",
       "      <td>-3.188626</td>\n",
       "      <td>-0.806870</td>\n",
       "    </tr>\n",
       "    <tr>\n",
       "      <th>2</th>\n",
       "      <td>PANERAI</td>\n",
       "      <td>PAM01060</td>\n",
       "      <td>Luminor</td>\n",
       "      <td>179525.34</td>\n",
       "      <td>175664.972</td>\n",
       "      <td>-3860.368</td>\n",
       "      <td>-2.150319</td>\n",
       "      <td>-0.541970</td>\n",
       "    </tr>\n",
       "  </tbody>\n",
       "</table>\n",
       "</div>"
      ],
      "text/plain": [
       "     brand reference collection  price_USD_2021  price_USD_2025  \\\n",
       "0  PANERAI  PAM00715    Luminor        71677.98       66910.512   \n",
       "1  PANERAI  PAM00742    Luminor        49957.38       48364.426   \n",
       "2  PANERAI  PAM01060    Luminor       179525.34      175664.972   \n",
       "\n",
       "   Price Difference  Increase Rate (%)  CAGR (%)  \n",
       "0         -4767.468          -6.651231 -1.705968  \n",
       "1         -1592.954          -3.188626 -0.806870  \n",
       "2         -3860.368          -2.150319 -0.541970  "
      ]
     },
     "execution_count": 966,
     "metadata": {},
     "output_type": "execute_result"
    }
   ],
   "source": [
    "print(\"Product with Negative Increase Rate:\")\n",
    "negative_increase.head()"
   ]
  },
  {
   "cell_type": "markdown",
   "id": "554f600f",
   "metadata": {},
   "source": [
    "### 3.1.2. Identify Products with Extreme Growth Rates"
   ]
  },
  {
   "cell_type": "code",
   "execution_count": 967,
   "id": "d3a70567",
   "metadata": {},
   "outputs": [],
   "source": [
    "product_highest_increase_rate, product_lowest_increase_rate = get_extreme_products(data_2021_2025_ref)"
   ]
  },
  {
   "cell_type": "code",
   "execution_count": 968,
   "id": "ea2b3286",
   "metadata": {},
   "outputs": [
    {
     "name": "stdout",
     "output_type": "stream",
     "text": [
      "Product with the Highest Increase Rate:\n"
     ]
    },
    {
     "data": {
      "text/html": [
       "<div>\n",
       "<style scoped>\n",
       "    .dataframe tbody tr th:only-of-type {\n",
       "        vertical-align: middle;\n",
       "    }\n",
       "\n",
       "    .dataframe tbody tr th {\n",
       "        vertical-align: top;\n",
       "    }\n",
       "\n",
       "    .dataframe thead th {\n",
       "        text-align: right;\n",
       "    }\n",
       "</style>\n",
       "<table border=\"1\" class=\"dataframe\">\n",
       "  <thead>\n",
       "    <tr style=\"text-align: right;\">\n",
       "      <th></th>\n",
       "      <th>brand</th>\n",
       "      <th>reference</th>\n",
       "      <th>collection</th>\n",
       "      <th>price_USD_2021</th>\n",
       "      <th>price_USD_2025</th>\n",
       "      <th>Price Difference</th>\n",
       "      <th>Increase Rate (%)</th>\n",
       "      <th>CAGR (%)</th>\n",
       "    </tr>\n",
       "  </thead>\n",
       "  <tbody>\n",
       "    <tr>\n",
       "      <th>0</th>\n",
       "      <td>PANERAI</td>\n",
       "      <td>PAM01441</td>\n",
       "      <td>Luminor</td>\n",
       "      <td>13433.49</td>\n",
       "      <td>15384.47</td>\n",
       "      <td>1950.98</td>\n",
       "      <td>14.523255</td>\n",
       "      <td>3.448315</td>\n",
       "    </tr>\n",
       "  </tbody>\n",
       "</table>\n",
       "</div>"
      ],
      "text/plain": [
       "     brand reference collection  price_USD_2021  price_USD_2025  \\\n",
       "0  PANERAI  PAM01441    Luminor        13433.49        15384.47   \n",
       "\n",
       "   Price Difference  Increase Rate (%)  CAGR (%)  \n",
       "0           1950.98          14.523255  3.448315  "
      ]
     },
     "execution_count": 968,
     "metadata": {},
     "output_type": "execute_result"
    }
   ],
   "source": [
    "# Product with the highest increase rate\n",
    "print(\"Product with the Highest Increase Rate:\")\n",
    "product_highest_increase_rate.head()"
   ]
  },
  {
   "cell_type": "code",
   "execution_count": 969,
   "id": "84cdf59a",
   "metadata": {
    "scrolled": false
   },
   "outputs": [
    {
     "name": "stdout",
     "output_type": "stream",
     "text": [
      "\n",
      "Product with the Lowest Increase Rate:\n"
     ]
    },
    {
     "data": {
      "text/html": [
       "<div>\n",
       "<style scoped>\n",
       "    .dataframe tbody tr th:only-of-type {\n",
       "        vertical-align: middle;\n",
       "    }\n",
       "\n",
       "    .dataframe tbody tr th {\n",
       "        vertical-align: top;\n",
       "    }\n",
       "\n",
       "    .dataframe thead th {\n",
       "        text-align: right;\n",
       "    }\n",
       "</style>\n",
       "<table border=\"1\" class=\"dataframe\">\n",
       "  <thead>\n",
       "    <tr style=\"text-align: right;\">\n",
       "      <th></th>\n",
       "      <th>brand</th>\n",
       "      <th>reference</th>\n",
       "      <th>collection</th>\n",
       "      <th>price_USD_2021</th>\n",
       "      <th>price_USD_2025</th>\n",
       "      <th>Price Difference</th>\n",
       "      <th>Increase Rate (%)</th>\n",
       "      <th>CAGR (%)</th>\n",
       "    </tr>\n",
       "  </thead>\n",
       "  <tbody>\n",
       "    <tr>\n",
       "      <th>0</th>\n",
       "      <td>PANERAI</td>\n",
       "      <td>PAM00715</td>\n",
       "      <td>Luminor</td>\n",
       "      <td>71677.98</td>\n",
       "      <td>66910.512</td>\n",
       "      <td>-4767.468</td>\n",
       "      <td>-6.651231</td>\n",
       "      <td>-1.705968</td>\n",
       "    </tr>\n",
       "  </tbody>\n",
       "</table>\n",
       "</div>"
      ],
      "text/plain": [
       "     brand reference collection  price_USD_2021  price_USD_2025  \\\n",
       "0  PANERAI  PAM00715    Luminor        71677.98       66910.512   \n",
       "\n",
       "   Price Difference  Increase Rate (%)  CAGR (%)  \n",
       "0         -4767.468          -6.651231 -1.705968  "
      ]
     },
     "execution_count": 969,
     "metadata": {},
     "output_type": "execute_result"
    }
   ],
   "source": [
    "# Product with the lowest increase rate\n",
    "print(\"\\nProduct with the Lowest Increase Rate:\")\n",
    "product_lowest_increase_rate.head()"
   ]
  },
  {
   "cell_type": "markdown",
   "id": "ac59f6af",
   "metadata": {},
   "source": [
    "### 3.1.3. Count Products by Increase Direction"
   ]
  },
  {
   "cell_type": "code",
   "execution_count": 970,
   "id": "0d122746",
   "metadata": {},
   "outputs": [],
   "source": [
    "data_2021_2025_grouped_mean, data_2021_2025_grouped_median = group_metrics_by_country(data_2021_2025_ref)"
   ]
  },
  {
   "cell_type": "code",
   "execution_count": 971,
   "id": "b25c7fd8",
   "metadata": {},
   "outputs": [
    {
     "name": "stdout",
     "output_type": "stream",
     "text": [
      "\n",
      "Grouped Mean Metrics by Collection and Reference:\n"
     ]
    },
    {
     "data": {
      "text/html": [
       "<div>\n",
       "<style scoped>\n",
       "    .dataframe tbody tr th:only-of-type {\n",
       "        vertical-align: middle;\n",
       "    }\n",
       "\n",
       "    .dataframe tbody tr th {\n",
       "        vertical-align: top;\n",
       "    }\n",
       "\n",
       "    .dataframe thead th {\n",
       "        text-align: right;\n",
       "    }\n",
       "</style>\n",
       "<table border=\"1\" class=\"dataframe\">\n",
       "  <thead>\n",
       "    <tr style=\"text-align: right;\">\n",
       "      <th></th>\n",
       "      <th>collection</th>\n",
       "      <th>reference</th>\n",
       "      <th>price_USD_2021</th>\n",
       "      <th>price_USD_2025</th>\n",
       "      <th>Price Difference</th>\n",
       "      <th>Increase Rate (%)</th>\n",
       "      <th>CAGR (%)</th>\n",
       "    </tr>\n",
       "  </thead>\n",
       "  <tbody>\n",
       "    <tr>\n",
       "      <th>0</th>\n",
       "      <td>Luminor</td>\n",
       "      <td>PAM00422</td>\n",
       "      <td>10441.59</td>\n",
       "      <td>11635.960</td>\n",
       "      <td>1194.370</td>\n",
       "      <td>11.438584</td>\n",
       "      <td>2.744574</td>\n",
       "    </tr>\n",
       "    <tr>\n",
       "      <th>1</th>\n",
       "      <td>Luminor</td>\n",
       "      <td>PAM00670</td>\n",
       "      <td>22745.34</td>\n",
       "      <td>24781.710</td>\n",
       "      <td>2036.370</td>\n",
       "      <td>8.952911</td>\n",
       "      <td>2.166781</td>\n",
       "    </tr>\n",
       "    <tr>\n",
       "      <th>2</th>\n",
       "      <td>Luminor</td>\n",
       "      <td>PAM00715</td>\n",
       "      <td>71677.98</td>\n",
       "      <td>66910.512</td>\n",
       "      <td>-4767.468</td>\n",
       "      <td>-6.651231</td>\n",
       "      <td>-1.705968</td>\n",
       "    </tr>\n",
       "    <tr>\n",
       "      <th>3</th>\n",
       "      <td>Luminor</td>\n",
       "      <td>PAM00742</td>\n",
       "      <td>49957.38</td>\n",
       "      <td>48364.426</td>\n",
       "      <td>-1592.954</td>\n",
       "      <td>-3.188626</td>\n",
       "      <td>-0.806870</td>\n",
       "    </tr>\n",
       "    <tr>\n",
       "      <th>4</th>\n",
       "      <td>Luminor</td>\n",
       "      <td>PAM00914</td>\n",
       "      <td>6439.32</td>\n",
       "      <td>7288.960</td>\n",
       "      <td>849.640</td>\n",
       "      <td>13.194561</td>\n",
       "      <td>3.146950</td>\n",
       "    </tr>\n",
       "  </tbody>\n",
       "</table>\n",
       "</div>"
      ],
      "text/plain": [
       "  collection reference  price_USD_2021  price_USD_2025  Price Difference  \\\n",
       "0    Luminor  PAM00422        10441.59       11635.960          1194.370   \n",
       "1    Luminor  PAM00670        22745.34       24781.710          2036.370   \n",
       "2    Luminor  PAM00715        71677.98       66910.512         -4767.468   \n",
       "3    Luminor  PAM00742        49957.38       48364.426         -1592.954   \n",
       "4    Luminor  PAM00914         6439.32        7288.960           849.640   \n",
       "\n",
       "   Increase Rate (%)  CAGR (%)  \n",
       "0          11.438584  2.744574  \n",
       "1           8.952911  2.166781  \n",
       "2          -6.651231 -1.705968  \n",
       "3          -3.188626 -0.806870  \n",
       "4          13.194561  3.146950  "
      ]
     },
     "execution_count": 971,
     "metadata": {},
     "output_type": "execute_result"
    }
   ],
   "source": [
    "print(f\"\\nGrouped Mean Metrics by Collection and Reference:\")\n",
    "data_2021_2025_grouped_mean.head()"
   ]
  },
  {
   "cell_type": "code",
   "execution_count": 972,
   "id": "8817695d",
   "metadata": {
    "scrolled": true
   },
   "outputs": [
    {
     "name": "stdout",
     "output_type": "stream",
     "text": [
      "\n",
      "Grouped Median Metrics by Collection and Reference:\n"
     ]
    },
    {
     "data": {
      "text/html": [
       "<div>\n",
       "<style scoped>\n",
       "    .dataframe tbody tr th:only-of-type {\n",
       "        vertical-align: middle;\n",
       "    }\n",
       "\n",
       "    .dataframe tbody tr th {\n",
       "        vertical-align: top;\n",
       "    }\n",
       "\n",
       "    .dataframe thead th {\n",
       "        text-align: right;\n",
       "    }\n",
       "</style>\n",
       "<table border=\"1\" class=\"dataframe\">\n",
       "  <thead>\n",
       "    <tr style=\"text-align: right;\">\n",
       "      <th></th>\n",
       "      <th>collection</th>\n",
       "      <th>reference</th>\n",
       "      <th>price_USD_2021</th>\n",
       "      <th>price_USD_2025</th>\n",
       "      <th>Price Difference</th>\n",
       "      <th>Increase Rate (%)</th>\n",
       "      <th>CAGR (%)</th>\n",
       "    </tr>\n",
       "  </thead>\n",
       "  <tbody>\n",
       "    <tr>\n",
       "      <th>0</th>\n",
       "      <td>Luminor</td>\n",
       "      <td>PAM00422</td>\n",
       "      <td>10441.59</td>\n",
       "      <td>11635.960</td>\n",
       "      <td>1194.370</td>\n",
       "      <td>11.438584</td>\n",
       "      <td>2.744574</td>\n",
       "    </tr>\n",
       "    <tr>\n",
       "      <th>1</th>\n",
       "      <td>Luminor</td>\n",
       "      <td>PAM00670</td>\n",
       "      <td>22745.34</td>\n",
       "      <td>24781.710</td>\n",
       "      <td>2036.370</td>\n",
       "      <td>8.952911</td>\n",
       "      <td>2.166781</td>\n",
       "    </tr>\n",
       "    <tr>\n",
       "      <th>2</th>\n",
       "      <td>Luminor</td>\n",
       "      <td>PAM00715</td>\n",
       "      <td>71677.98</td>\n",
       "      <td>66910.512</td>\n",
       "      <td>-4767.468</td>\n",
       "      <td>-6.651231</td>\n",
       "      <td>-1.705968</td>\n",
       "    </tr>\n",
       "    <tr>\n",
       "      <th>3</th>\n",
       "      <td>Luminor</td>\n",
       "      <td>PAM00742</td>\n",
       "      <td>49957.38</td>\n",
       "      <td>48364.426</td>\n",
       "      <td>-1592.954</td>\n",
       "      <td>-3.188626</td>\n",
       "      <td>-0.806870</td>\n",
       "    </tr>\n",
       "    <tr>\n",
       "      <th>4</th>\n",
       "      <td>Luminor</td>\n",
       "      <td>PAM00914</td>\n",
       "      <td>6439.32</td>\n",
       "      <td>7288.960</td>\n",
       "      <td>849.640</td>\n",
       "      <td>13.194561</td>\n",
       "      <td>3.146950</td>\n",
       "    </tr>\n",
       "  </tbody>\n",
       "</table>\n",
       "</div>"
      ],
      "text/plain": [
       "  collection reference  price_USD_2021  price_USD_2025  Price Difference  \\\n",
       "0    Luminor  PAM00422        10441.59       11635.960          1194.370   \n",
       "1    Luminor  PAM00670        22745.34       24781.710          2036.370   \n",
       "2    Luminor  PAM00715        71677.98       66910.512         -4767.468   \n",
       "3    Luminor  PAM00742        49957.38       48364.426         -1592.954   \n",
       "4    Luminor  PAM00914         6439.32        7288.960           849.640   \n",
       "\n",
       "   Increase Rate (%)  CAGR (%)  \n",
       "0          11.438584  2.744574  \n",
       "1           8.952911  2.166781  \n",
       "2          -6.651231 -1.705968  \n",
       "3          -3.188626 -0.806870  \n",
       "4          13.194561  3.146950  "
      ]
     },
     "execution_count": 972,
     "metadata": {},
     "output_type": "execute_result"
    }
   ],
   "source": [
    "print(f\"\\nGrouped Median Metrics by Collection and Reference:\")\n",
    "data_2021_2025_grouped_median.head()"
   ]
  },
  {
   "cell_type": "markdown",
   "id": "60dbcfbc",
   "metadata": {},
   "source": [
    "### 3.1.4 Analysis for a given country\n",
    "\n",
    "#### 3.1.4.1. France"
   ]
  },
  {
   "cell_type": "code",
   "execution_count": 973,
   "id": "ed384189",
   "metadata": {},
   "outputs": [],
   "source": [
    "country = 'France'"
   ]
  },
  {
   "cell_type": "code",
   "execution_count": 974,
   "id": "08009ae6",
   "metadata": {
    "scrolled": true
   },
   "outputs": [],
   "source": [
    "data_2021_country = data_2021[['brand','reference','collection', 'price_USD']][data_2021['country'] == country]\n",
    "data_2025_country = data_2025[['brand','reference','collection', 'price_USD']][data_2025['country'] == country]"
   ]
  },
  {
   "cell_type": "code",
   "execution_count": 975,
   "id": "b522834d",
   "metadata": {},
   "outputs": [
    {
     "data": {
      "text/html": [
       "<div>\n",
       "<style scoped>\n",
       "    .dataframe tbody tr th:only-of-type {\n",
       "        vertical-align: middle;\n",
       "    }\n",
       "\n",
       "    .dataframe tbody tr th {\n",
       "        vertical-align: top;\n",
       "    }\n",
       "\n",
       "    .dataframe thead th {\n",
       "        text-align: right;\n",
       "    }\n",
       "</style>\n",
       "<table border=\"1\" class=\"dataframe\">\n",
       "  <thead>\n",
       "    <tr style=\"text-align: right;\">\n",
       "      <th></th>\n",
       "      <th>brand</th>\n",
       "      <th>reference</th>\n",
       "      <th>collection</th>\n",
       "      <th>price_USD_2021</th>\n",
       "      <th>price_USD_2025</th>\n",
       "    </tr>\n",
       "  </thead>\n",
       "  <tbody>\n",
       "    <tr>\n",
       "      <th>0</th>\n",
       "      <td>PANERAI</td>\n",
       "      <td>PAM01086</td>\n",
       "      <td>Luminor</td>\n",
       "      <td>5089.14</td>\n",
       "      <td>5920.02</td>\n",
       "    </tr>\n",
       "    <tr>\n",
       "      <th>1</th>\n",
       "      <td>PANERAI</td>\n",
       "      <td>PAM01084</td>\n",
       "      <td>Luminor</td>\n",
       "      <td>5608.44</td>\n",
       "      <td>6439.32</td>\n",
       "    </tr>\n",
       "    <tr>\n",
       "      <th>2</th>\n",
       "      <td>PANERAI</td>\n",
       "      <td>PAM01085</td>\n",
       "      <td>Luminor</td>\n",
       "      <td>5608.44</td>\n",
       "      <td>6439.32</td>\n",
       "    </tr>\n",
       "    <tr>\n",
       "      <th>3</th>\n",
       "      <td>PANERAI</td>\n",
       "      <td>PAM00914</td>\n",
       "      <td>Luminor</td>\n",
       "      <td>6439.32</td>\n",
       "      <td>7477.92</td>\n",
       "    </tr>\n",
       "    <tr>\n",
       "      <th>4</th>\n",
       "      <td>PANERAI</td>\n",
       "      <td>PAM00915</td>\n",
       "      <td>Luminor</td>\n",
       "      <td>6958.62</td>\n",
       "      <td>7997.22</td>\n",
       "    </tr>\n",
       "  </tbody>\n",
       "</table>\n",
       "</div>"
      ],
      "text/plain": [
       "     brand reference collection  price_USD_2021  price_USD_2025\n",
       "0  PANERAI  PAM01086    Luminor         5089.14         5920.02\n",
       "1  PANERAI  PAM01084    Luminor         5608.44         6439.32\n",
       "2  PANERAI  PAM01085    Luminor         5608.44         6439.32\n",
       "3  PANERAI  PAM00914    Luminor         6439.32         7477.92\n",
       "4  PANERAI  PAM00915    Luminor         6958.62         7997.22"
      ]
     },
     "execution_count": 975,
     "metadata": {},
     "output_type": "execute_result"
    }
   ],
   "source": [
    "data_2021_2025_country_ref = pd.merge(data_2025_country, data_2021_country, on='reference', how='inner')\n",
    "data_2021_2025_country_ref = data_2021_2025_country_ref.rename(columns={'brand_x': 'brand', 'collection_x': 'collection', 'year_x': 'year_2025', 'price_USD_x': 'price_USD_2025', 'year_y': 'year_2021', 'price_USD_y': 'price_USD_2021'})\n",
    "data_2021_2025_country_ref = data_2021_2025_country_ref[['brand', 'reference', 'collection', 'price_USD_2021', 'price_USD_2025']]\n",
    "\n",
    "data_2021_2025_country_ref.head()"
   ]
  },
  {
   "cell_type": "code",
   "execution_count": 976,
   "id": "c81bbe2c",
   "metadata": {},
   "outputs": [],
   "source": [
    "data_2021_2025_country_ref = calculate_price_metrics(data_2021_2025_country_ref)"
   ]
  },
  {
   "cell_type": "code",
   "execution_count": 977,
   "id": "ec627ffb",
   "metadata": {
    "scrolled": true
   },
   "outputs": [
    {
     "name": "stdout",
     "output_type": "stream",
     "text": [
      "Overall Summary:\n",
      "\n",
      "Total of products analyzed (These products have been consistently purchased since 2021): 31\n",
      "Total of Products with a positive increase rate: 31\n",
      "Total Products with a negative increase rate: 0\n",
      "\n"
     ]
    }
   ],
   "source": [
    "positive_increase, count_positive_increase, negative_increase, count_negative_increase = count_increase_directions(data_2021_2025_country_ref)\n",
    "\n",
    "print(\"Overall Summary:\\n\")\n",
    "print(f\"Total of products analyzed (These products have been consistently purchased since 2021): {data_2021_2025_country_ref.shape[0]}\")\n",
    "print(f\"Total of Products with a positive increase rate: {count_positive_increase}\")\n",
    "print(f\"Total Products with a negative increase rate: {count_negative_increase}\\n\")"
   ]
  },
  {
   "cell_type": "code",
   "execution_count": 978,
   "id": "dd80cfc4",
   "metadata": {
    "scrolled": true
   },
   "outputs": [
    {
     "name": "stdout",
     "output_type": "stream",
     "text": [
      "Product with Positive Increase Rate:\n"
     ]
    },
    {
     "data": {
      "text/html": [
       "<div>\n",
       "<style scoped>\n",
       "    .dataframe tbody tr th:only-of-type {\n",
       "        vertical-align: middle;\n",
       "    }\n",
       "\n",
       "    .dataframe tbody tr th {\n",
       "        vertical-align: top;\n",
       "    }\n",
       "\n",
       "    .dataframe thead th {\n",
       "        text-align: right;\n",
       "    }\n",
       "</style>\n",
       "<table border=\"1\" class=\"dataframe\">\n",
       "  <thead>\n",
       "    <tr style=\"text-align: right;\">\n",
       "      <th></th>\n",
       "      <th>brand</th>\n",
       "      <th>reference</th>\n",
       "      <th>collection</th>\n",
       "      <th>price_USD_2021</th>\n",
       "      <th>price_USD_2025</th>\n",
       "      <th>Price Difference</th>\n",
       "      <th>Increase Rate (%)</th>\n",
       "      <th>CAGR (%)</th>\n",
       "    </tr>\n",
       "  </thead>\n",
       "  <tbody>\n",
       "    <tr>\n",
       "      <th>0</th>\n",
       "      <td>PANERAI</td>\n",
       "      <td>PAM01086</td>\n",
       "      <td>Luminor</td>\n",
       "      <td>5089.14</td>\n",
       "      <td>5920.02</td>\n",
       "      <td>830.88</td>\n",
       "      <td>16.326531</td>\n",
       "      <td>3.853155</td>\n",
       "    </tr>\n",
       "    <tr>\n",
       "      <th>1</th>\n",
       "      <td>PANERAI</td>\n",
       "      <td>PAM01084</td>\n",
       "      <td>Luminor</td>\n",
       "      <td>5608.44</td>\n",
       "      <td>6439.32</td>\n",
       "      <td>830.88</td>\n",
       "      <td>14.814815</td>\n",
       "      <td>3.514093</td>\n",
       "    </tr>\n",
       "    <tr>\n",
       "      <th>2</th>\n",
       "      <td>PANERAI</td>\n",
       "      <td>PAM01085</td>\n",
       "      <td>Luminor</td>\n",
       "      <td>5608.44</td>\n",
       "      <td>6439.32</td>\n",
       "      <td>830.88</td>\n",
       "      <td>14.814815</td>\n",
       "      <td>3.514093</td>\n",
       "    </tr>\n",
       "    <tr>\n",
       "      <th>3</th>\n",
       "      <td>PANERAI</td>\n",
       "      <td>PAM00914</td>\n",
       "      <td>Luminor</td>\n",
       "      <td>6439.32</td>\n",
       "      <td>7477.92</td>\n",
       "      <td>1038.60</td>\n",
       "      <td>16.129032</td>\n",
       "      <td>3.809046</td>\n",
       "    </tr>\n",
       "    <tr>\n",
       "      <th>4</th>\n",
       "      <td>PANERAI</td>\n",
       "      <td>PAM00915</td>\n",
       "      <td>Luminor</td>\n",
       "      <td>6958.62</td>\n",
       "      <td>7997.22</td>\n",
       "      <td>1038.60</td>\n",
       "      <td>14.925373</td>\n",
       "      <td>3.539003</td>\n",
       "    </tr>\n",
       "  </tbody>\n",
       "</table>\n",
       "</div>"
      ],
      "text/plain": [
       "     brand reference collection  price_USD_2021  price_USD_2025  \\\n",
       "0  PANERAI  PAM01086    Luminor         5089.14         5920.02   \n",
       "1  PANERAI  PAM01084    Luminor         5608.44         6439.32   \n",
       "2  PANERAI  PAM01085    Luminor         5608.44         6439.32   \n",
       "3  PANERAI  PAM00914    Luminor         6439.32         7477.92   \n",
       "4  PANERAI  PAM00915    Luminor         6958.62         7997.22   \n",
       "\n",
       "   Price Difference  Increase Rate (%)  CAGR (%)  \n",
       "0            830.88          16.326531  3.853155  \n",
       "1            830.88          14.814815  3.514093  \n",
       "2            830.88          14.814815  3.514093  \n",
       "3           1038.60          16.129032  3.809046  \n",
       "4           1038.60          14.925373  3.539003  "
      ]
     },
     "execution_count": 978,
     "metadata": {},
     "output_type": "execute_result"
    }
   ],
   "source": [
    "print(\"Product with Positive Increase Rate:\")\n",
    "positive_increase.head()"
   ]
  },
  {
   "cell_type": "code",
   "execution_count": 979,
   "id": "31ead581",
   "metadata": {},
   "outputs": [
    {
     "name": "stdout",
     "output_type": "stream",
     "text": [
      "Product with Negative Increase Rate:\n"
     ]
    },
    {
     "data": {
      "text/html": [
       "<div>\n",
       "<style scoped>\n",
       "    .dataframe tbody tr th:only-of-type {\n",
       "        vertical-align: middle;\n",
       "    }\n",
       "\n",
       "    .dataframe tbody tr th {\n",
       "        vertical-align: top;\n",
       "    }\n",
       "\n",
       "    .dataframe thead th {\n",
       "        text-align: right;\n",
       "    }\n",
       "</style>\n",
       "<table border=\"1\" class=\"dataframe\">\n",
       "  <thead>\n",
       "    <tr style=\"text-align: right;\">\n",
       "      <th></th>\n",
       "      <th>brand</th>\n",
       "      <th>reference</th>\n",
       "      <th>collection</th>\n",
       "      <th>price_USD_2021</th>\n",
       "      <th>price_USD_2025</th>\n",
       "      <th>Price Difference</th>\n",
       "      <th>Increase Rate (%)</th>\n",
       "      <th>CAGR (%)</th>\n",
       "    </tr>\n",
       "  </thead>\n",
       "  <tbody>\n",
       "  </tbody>\n",
       "</table>\n",
       "</div>"
      ],
      "text/plain": [
       "Empty DataFrame\n",
       "Columns: [brand, reference, collection, price_USD_2021, price_USD_2025, Price Difference, Increase Rate (%), CAGR (%)]\n",
       "Index: []"
      ]
     },
     "execution_count": 979,
     "metadata": {},
     "output_type": "execute_result"
    }
   ],
   "source": [
    "print(\"Product with Negative Increase Rate:\")\n",
    "negative_increase.head()"
   ]
  },
  {
   "cell_type": "markdown",
   "id": "41f6a083",
   "metadata": {},
   "source": [
    "#### Identify Products with Extreme Growth Rates"
   ]
  },
  {
   "cell_type": "code",
   "execution_count": 980,
   "id": "ce0ee792",
   "metadata": {},
   "outputs": [],
   "source": [
    "product_highest_increase_rate, product_lowest_increase_rate = get_extreme_products(data_2021_2025_country_ref)"
   ]
  },
  {
   "cell_type": "code",
   "execution_count": 981,
   "id": "4f4ae2b0",
   "metadata": {},
   "outputs": [
    {
     "name": "stdout",
     "output_type": "stream",
     "text": [
      "Product with the Highest Increase Rate:\n"
     ]
    },
    {
     "data": {
      "text/html": [
       "<div>\n",
       "<style scoped>\n",
       "    .dataframe tbody tr th:only-of-type {\n",
       "        vertical-align: middle;\n",
       "    }\n",
       "\n",
       "    .dataframe tbody tr th {\n",
       "        vertical-align: top;\n",
       "    }\n",
       "\n",
       "    .dataframe thead th {\n",
       "        text-align: right;\n",
       "    }\n",
       "</style>\n",
       "<table border=\"1\" class=\"dataframe\">\n",
       "  <thead>\n",
       "    <tr style=\"text-align: right;\">\n",
       "      <th></th>\n",
       "      <th>brand</th>\n",
       "      <th>reference</th>\n",
       "      <th>collection</th>\n",
       "      <th>price_USD_2021</th>\n",
       "      <th>price_USD_2025</th>\n",
       "      <th>Price Difference</th>\n",
       "      <th>Increase Rate (%)</th>\n",
       "      <th>CAGR (%)</th>\n",
       "    </tr>\n",
       "  </thead>\n",
       "  <tbody>\n",
       "    <tr>\n",
       "      <th>0</th>\n",
       "      <td>PANERAI</td>\n",
       "      <td>PAM00422</td>\n",
       "      <td>Luminor</td>\n",
       "      <td>10178.28</td>\n",
       "      <td>11943.9</td>\n",
       "      <td>1765.62</td>\n",
       "      <td>17.346939</td>\n",
       "      <td>4.080158</td>\n",
       "    </tr>\n",
       "  </tbody>\n",
       "</table>\n",
       "</div>"
      ],
      "text/plain": [
       "     brand reference collection  price_USD_2021  price_USD_2025  \\\n",
       "0  PANERAI  PAM00422    Luminor        10178.28         11943.9   \n",
       "\n",
       "   Price Difference  Increase Rate (%)  CAGR (%)  \n",
       "0           1765.62          17.346939  4.080158  "
      ]
     },
     "execution_count": 981,
     "metadata": {},
     "output_type": "execute_result"
    }
   ],
   "source": [
    "# Product with the highest increase rate\n",
    "print(\"Product with the Highest Increase Rate:\")\n",
    "product_highest_increase_rate.head()"
   ]
  },
  {
   "cell_type": "code",
   "execution_count": 982,
   "id": "a43f267c",
   "metadata": {
    "scrolled": true
   },
   "outputs": [
    {
     "name": "stdout",
     "output_type": "stream",
     "text": [
      "\n",
      "Product with the Lowest Increase Rate:\n"
     ]
    },
    {
     "data": {
      "text/html": [
       "<div>\n",
       "<style scoped>\n",
       "    .dataframe tbody tr th:only-of-type {\n",
       "        vertical-align: middle;\n",
       "    }\n",
       "\n",
       "    .dataframe tbody tr th {\n",
       "        vertical-align: top;\n",
       "    }\n",
       "\n",
       "    .dataframe thead th {\n",
       "        text-align: right;\n",
       "    }\n",
       "</style>\n",
       "<table border=\"1\" class=\"dataframe\">\n",
       "  <thead>\n",
       "    <tr style=\"text-align: right;\">\n",
       "      <th></th>\n",
       "      <th>brand</th>\n",
       "      <th>reference</th>\n",
       "      <th>collection</th>\n",
       "      <th>price_USD_2021</th>\n",
       "      <th>price_USD_2025</th>\n",
       "      <th>Price Difference</th>\n",
       "      <th>Increase Rate (%)</th>\n",
       "      <th>CAGR (%)</th>\n",
       "    </tr>\n",
       "  </thead>\n",
       "  <tbody>\n",
       "    <tr>\n",
       "      <th>0</th>\n",
       "      <td>PANERAI</td>\n",
       "      <td>PAM00715</td>\n",
       "      <td>Luminor</td>\n",
       "      <td>68547.6</td>\n",
       "      <td>74779.2</td>\n",
       "      <td>6231.6</td>\n",
       "      <td>9.090909</td>\n",
       "      <td>2.199116</td>\n",
       "    </tr>\n",
       "  </tbody>\n",
       "</table>\n",
       "</div>"
      ],
      "text/plain": [
       "     brand reference collection  price_USD_2021  price_USD_2025  \\\n",
       "0  PANERAI  PAM00715    Luminor         68547.6         74779.2   \n",
       "\n",
       "   Price Difference  Increase Rate (%)  CAGR (%)  \n",
       "0            6231.6           9.090909  2.199116  "
      ]
     },
     "execution_count": 982,
     "metadata": {},
     "output_type": "execute_result"
    }
   ],
   "source": [
    "# Product with the lowest increase rate\n",
    "print(\"\\nProduct with the Lowest Increase Rate:\")\n",
    "product_lowest_increase_rate.head()"
   ]
  },
  {
   "cell_type": "markdown",
   "id": "ed15285c",
   "metadata": {},
   "source": [
    "#### Count Products by Increase Direction"
   ]
  },
  {
   "cell_type": "code",
   "execution_count": 983,
   "id": "5631145a",
   "metadata": {},
   "outputs": [],
   "source": [
    "data_2021_2025_grouped_mean, data_2021_2025_grouped_median = group_metrics_by_country(data_2021_2025_country_ref)"
   ]
  },
  {
   "cell_type": "code",
   "execution_count": 984,
   "id": "88a53525",
   "metadata": {},
   "outputs": [
    {
     "name": "stdout",
     "output_type": "stream",
     "text": [
      "\n",
      "Grouped Mean Metrics by Collection and Reference:\n"
     ]
    },
    {
     "data": {
      "text/html": [
       "<div>\n",
       "<style scoped>\n",
       "    .dataframe tbody tr th:only-of-type {\n",
       "        vertical-align: middle;\n",
       "    }\n",
       "\n",
       "    .dataframe tbody tr th {\n",
       "        vertical-align: top;\n",
       "    }\n",
       "\n",
       "    .dataframe thead th {\n",
       "        text-align: right;\n",
       "    }\n",
       "</style>\n",
       "<table border=\"1\" class=\"dataframe\">\n",
       "  <thead>\n",
       "    <tr style=\"text-align: right;\">\n",
       "      <th></th>\n",
       "      <th>collection</th>\n",
       "      <th>reference</th>\n",
       "      <th>price_USD_2021</th>\n",
       "      <th>price_USD_2025</th>\n",
       "      <th>Price Difference</th>\n",
       "      <th>Increase Rate (%)</th>\n",
       "      <th>CAGR (%)</th>\n",
       "    </tr>\n",
       "  </thead>\n",
       "  <tbody>\n",
       "    <tr>\n",
       "      <th>0</th>\n",
       "      <td>Luminor</td>\n",
       "      <td>PAM00422</td>\n",
       "      <td>10178.28</td>\n",
       "      <td>11943.90</td>\n",
       "      <td>1765.62</td>\n",
       "      <td>17.346939</td>\n",
       "      <td>4.080158</td>\n",
       "    </tr>\n",
       "    <tr>\n",
       "      <th>1</th>\n",
       "      <td>Luminor</td>\n",
       "      <td>PAM00670</td>\n",
       "      <td>22745.34</td>\n",
       "      <td>25445.70</td>\n",
       "      <td>2700.36</td>\n",
       "      <td>11.872146</td>\n",
       "      <td>2.844363</td>\n",
       "    </tr>\n",
       "    <tr>\n",
       "      <th>2</th>\n",
       "      <td>Luminor</td>\n",
       "      <td>PAM00715</td>\n",
       "      <td>68547.60</td>\n",
       "      <td>74779.20</td>\n",
       "      <td>6231.60</td>\n",
       "      <td>9.090909</td>\n",
       "      <td>2.199116</td>\n",
       "    </tr>\n",
       "    <tr>\n",
       "      <th>3</th>\n",
       "      <td>Luminor</td>\n",
       "      <td>PAM00742</td>\n",
       "      <td>47775.60</td>\n",
       "      <td>54007.20</td>\n",
       "      <td>6231.60</td>\n",
       "      <td>13.043478</td>\n",
       "      <td>3.112515</td>\n",
       "    </tr>\n",
       "    <tr>\n",
       "      <th>4</th>\n",
       "      <td>Luminor</td>\n",
       "      <td>PAM00914</td>\n",
       "      <td>6439.32</td>\n",
       "      <td>7477.92</td>\n",
       "      <td>1038.60</td>\n",
       "      <td>16.129032</td>\n",
       "      <td>3.809046</td>\n",
       "    </tr>\n",
       "  </tbody>\n",
       "</table>\n",
       "</div>"
      ],
      "text/plain": [
       "  collection reference  price_USD_2021  price_USD_2025  Price Difference  \\\n",
       "0    Luminor  PAM00422        10178.28        11943.90           1765.62   \n",
       "1    Luminor  PAM00670        22745.34        25445.70           2700.36   \n",
       "2    Luminor  PAM00715        68547.60        74779.20           6231.60   \n",
       "3    Luminor  PAM00742        47775.60        54007.20           6231.60   \n",
       "4    Luminor  PAM00914         6439.32         7477.92           1038.60   \n",
       "\n",
       "   Increase Rate (%)  CAGR (%)  \n",
       "0          17.346939  4.080158  \n",
       "1          11.872146  2.844363  \n",
       "2           9.090909  2.199116  \n",
       "3          13.043478  3.112515  \n",
       "4          16.129032  3.809046  "
      ]
     },
     "execution_count": 984,
     "metadata": {},
     "output_type": "execute_result"
    }
   ],
   "source": [
    "print(f\"\\nGrouped Mean Metrics by Collection and Reference:\")\n",
    "data_2021_2025_grouped_mean.head()"
   ]
  },
  {
   "cell_type": "code",
   "execution_count": 985,
   "id": "9b0c67bb",
   "metadata": {
    "scrolled": false
   },
   "outputs": [
    {
     "name": "stdout",
     "output_type": "stream",
     "text": [
      "\n",
      "Grouped Median Metrics by Collection and Reference:\n"
     ]
    },
    {
     "data": {
      "text/html": [
       "<div>\n",
       "<style scoped>\n",
       "    .dataframe tbody tr th:only-of-type {\n",
       "        vertical-align: middle;\n",
       "    }\n",
       "\n",
       "    .dataframe tbody tr th {\n",
       "        vertical-align: top;\n",
       "    }\n",
       "\n",
       "    .dataframe thead th {\n",
       "        text-align: right;\n",
       "    }\n",
       "</style>\n",
       "<table border=\"1\" class=\"dataframe\">\n",
       "  <thead>\n",
       "    <tr style=\"text-align: right;\">\n",
       "      <th></th>\n",
       "      <th>collection</th>\n",
       "      <th>reference</th>\n",
       "      <th>price_USD_2021</th>\n",
       "      <th>price_USD_2025</th>\n",
       "      <th>Price Difference</th>\n",
       "      <th>Increase Rate (%)</th>\n",
       "      <th>CAGR (%)</th>\n",
       "    </tr>\n",
       "  </thead>\n",
       "  <tbody>\n",
       "    <tr>\n",
       "      <th>0</th>\n",
       "      <td>Luminor</td>\n",
       "      <td>PAM00422</td>\n",
       "      <td>10178.28</td>\n",
       "      <td>11943.90</td>\n",
       "      <td>1765.62</td>\n",
       "      <td>17.346939</td>\n",
       "      <td>4.080158</td>\n",
       "    </tr>\n",
       "    <tr>\n",
       "      <th>1</th>\n",
       "      <td>Luminor</td>\n",
       "      <td>PAM00670</td>\n",
       "      <td>22745.34</td>\n",
       "      <td>25445.70</td>\n",
       "      <td>2700.36</td>\n",
       "      <td>11.872146</td>\n",
       "      <td>2.844363</td>\n",
       "    </tr>\n",
       "    <tr>\n",
       "      <th>2</th>\n",
       "      <td>Luminor</td>\n",
       "      <td>PAM00715</td>\n",
       "      <td>68547.60</td>\n",
       "      <td>74779.20</td>\n",
       "      <td>6231.60</td>\n",
       "      <td>9.090909</td>\n",
       "      <td>2.199116</td>\n",
       "    </tr>\n",
       "    <tr>\n",
       "      <th>3</th>\n",
       "      <td>Luminor</td>\n",
       "      <td>PAM00742</td>\n",
       "      <td>47775.60</td>\n",
       "      <td>54007.20</td>\n",
       "      <td>6231.60</td>\n",
       "      <td>13.043478</td>\n",
       "      <td>3.112515</td>\n",
       "    </tr>\n",
       "    <tr>\n",
       "      <th>4</th>\n",
       "      <td>Luminor</td>\n",
       "      <td>PAM00914</td>\n",
       "      <td>6439.32</td>\n",
       "      <td>7477.92</td>\n",
       "      <td>1038.60</td>\n",
       "      <td>16.129032</td>\n",
       "      <td>3.809046</td>\n",
       "    </tr>\n",
       "  </tbody>\n",
       "</table>\n",
       "</div>"
      ],
      "text/plain": [
       "  collection reference  price_USD_2021  price_USD_2025  Price Difference  \\\n",
       "0    Luminor  PAM00422        10178.28        11943.90           1765.62   \n",
       "1    Luminor  PAM00670        22745.34        25445.70           2700.36   \n",
       "2    Luminor  PAM00715        68547.60        74779.20           6231.60   \n",
       "3    Luminor  PAM00742        47775.60        54007.20           6231.60   \n",
       "4    Luminor  PAM00914         6439.32         7477.92           1038.60   \n",
       "\n",
       "   Increase Rate (%)  CAGR (%)  \n",
       "0          17.346939  4.080158  \n",
       "1          11.872146  2.844363  \n",
       "2           9.090909  2.199116  \n",
       "3          13.043478  3.112515  \n",
       "4          16.129032  3.809046  "
      ]
     },
     "execution_count": 985,
     "metadata": {},
     "output_type": "execute_result"
    }
   ],
   "source": [
    "print(f\"\\nGrouped Median Metrics by Collection and Reference:\")\n",
    "data_2021_2025_grouped_median.head()"
   ]
  },
  {
   "cell_type": "markdown",
   "id": "f02523bd",
   "metadata": {},
   "source": [
    "#### 3.1.4.2. USA"
   ]
  },
  {
   "cell_type": "code",
   "execution_count": 986,
   "id": "ab095c36",
   "metadata": {},
   "outputs": [],
   "source": [
    "country = \"USA\""
   ]
  },
  {
   "cell_type": "code",
   "execution_count": 987,
   "id": "fc025961",
   "metadata": {
    "scrolled": true
   },
   "outputs": [],
   "source": [
    "data_2021_country = data_2021[['brand','reference','collection', 'price_USD']][data_2021['country'] == country]\n",
    "data_2025_country = data_2025[['brand','reference','collection', 'price_USD']][data_2025['country'] == country]"
   ]
  },
  {
   "cell_type": "code",
   "execution_count": 988,
   "id": "d52f10b3",
   "metadata": {},
   "outputs": [
    {
     "data": {
      "text/html": [
       "<div>\n",
       "<style scoped>\n",
       "    .dataframe tbody tr th:only-of-type {\n",
       "        vertical-align: middle;\n",
       "    }\n",
       "\n",
       "    .dataframe tbody tr th {\n",
       "        vertical-align: top;\n",
       "    }\n",
       "\n",
       "    .dataframe thead th {\n",
       "        text-align: right;\n",
       "    }\n",
       "</style>\n",
       "<table border=\"1\" class=\"dataframe\">\n",
       "  <thead>\n",
       "    <tr style=\"text-align: right;\">\n",
       "      <th></th>\n",
       "      <th>brand</th>\n",
       "      <th>reference</th>\n",
       "      <th>collection</th>\n",
       "      <th>price_USD_2021</th>\n",
       "      <th>price_USD_2025</th>\n",
       "    </tr>\n",
       "  </thead>\n",
       "  <tbody>\n",
       "    <tr>\n",
       "      <th>0</th>\n",
       "      <td>PANERAI</td>\n",
       "      <td>PAM01086</td>\n",
       "      <td>Luminor</td>\n",
       "      <td>6400.0</td>\n",
       "      <td>5600.0</td>\n",
       "    </tr>\n",
       "    <tr>\n",
       "      <th>1</th>\n",
       "      <td>PANERAI</td>\n",
       "      <td>PAM01084</td>\n",
       "      <td>Luminor</td>\n",
       "      <td>7100.0</td>\n",
       "      <td>6100.0</td>\n",
       "    </tr>\n",
       "    <tr>\n",
       "      <th>2</th>\n",
       "      <td>PANERAI</td>\n",
       "      <td>PAM01085</td>\n",
       "      <td>Luminor</td>\n",
       "      <td>7100.0</td>\n",
       "      <td>6100.0</td>\n",
       "    </tr>\n",
       "    <tr>\n",
       "      <th>3</th>\n",
       "      <td>PANERAI</td>\n",
       "      <td>PAM00915</td>\n",
       "      <td>Luminor</td>\n",
       "      <td>8800.0</td>\n",
       "      <td>7600.0</td>\n",
       "    </tr>\n",
       "    <tr>\n",
       "      <th>4</th>\n",
       "      <td>PANERAI</td>\n",
       "      <td>PAM00422</td>\n",
       "      <td>Luminor</td>\n",
       "      <td>12800.0</td>\n",
       "      <td>11300.0</td>\n",
       "    </tr>\n",
       "  </tbody>\n",
       "</table>\n",
       "</div>"
      ],
      "text/plain": [
       "     brand reference collection  price_USD_2021  price_USD_2025\n",
       "0  PANERAI  PAM01086    Luminor          6400.0          5600.0\n",
       "1  PANERAI  PAM01084    Luminor          7100.0          6100.0\n",
       "2  PANERAI  PAM01085    Luminor          7100.0          6100.0\n",
       "3  PANERAI  PAM00915    Luminor          8800.0          7600.0\n",
       "4  PANERAI  PAM00422    Luminor         12800.0         11300.0"
      ]
     },
     "execution_count": 988,
     "metadata": {},
     "output_type": "execute_result"
    }
   ],
   "source": [
    "data_2021_2025_country_ref = pd.merge(data_2025_country, data_2021_country, on='reference', how='inner')\n",
    "data_2021_2025_country_ref = data_2021_2025_country_ref.rename(columns={'brand_x': 'brand', 'collection_x': 'collection', 'year_x': 'year_2025', 'price_USD_x': 'price_USD_2025', 'year_y': 'year_2021', 'price_USD_y': 'price_USD_2021'})\n",
    "data_2021_2025_country_ref = data_2021_2025_country_ref[['brand', 'reference', 'collection', 'price_USD_2021', 'price_USD_2025']]\n",
    "\n",
    "data_2021_2025_country_ref.head()"
   ]
  },
  {
   "cell_type": "code",
   "execution_count": 989,
   "id": "903259bf",
   "metadata": {},
   "outputs": [],
   "source": [
    "data_2021_2025_country_ref = calculate_price_metrics(data_2021_2025_country_ref)"
   ]
  },
  {
   "cell_type": "code",
   "execution_count": 990,
   "id": "73cfe298",
   "metadata": {
    "scrolled": true
   },
   "outputs": [
    {
     "name": "stdout",
     "output_type": "stream",
     "text": [
      "Overall Summary:\n",
      "\n",
      "Total of products analyzed (These products have been consistently purchased since 2021): 29\n",
      "Total of Products with a positive increase rate: 0\n",
      "Total Products with a negative increase rate: 29\n",
      "\n"
     ]
    }
   ],
   "source": [
    "positive_increase, count_positive_increase, negative_increase, count_negative_increase = count_increase_directions(data_2021_2025_country_ref)\n",
    "\n",
    "print(\"Overall Summary:\\n\")\n",
    "print(f\"Total of products analyzed (These products have been consistently purchased since 2021): {data_2021_2025_country_ref.shape[0]}\")\n",
    "print(f\"Total of Products with a positive increase rate: {count_positive_increase}\")\n",
    "print(f\"Total Products with a negative increase rate: {count_negative_increase}\\n\")"
   ]
  },
  {
   "cell_type": "code",
   "execution_count": 991,
   "id": "130fd3a8",
   "metadata": {
    "scrolled": true
   },
   "outputs": [
    {
     "name": "stdout",
     "output_type": "stream",
     "text": [
      "Product with Positive Increase Rate:\n"
     ]
    },
    {
     "data": {
      "text/html": [
       "<div>\n",
       "<style scoped>\n",
       "    .dataframe tbody tr th:only-of-type {\n",
       "        vertical-align: middle;\n",
       "    }\n",
       "\n",
       "    .dataframe tbody tr th {\n",
       "        vertical-align: top;\n",
       "    }\n",
       "\n",
       "    .dataframe thead th {\n",
       "        text-align: right;\n",
       "    }\n",
       "</style>\n",
       "<table border=\"1\" class=\"dataframe\">\n",
       "  <thead>\n",
       "    <tr style=\"text-align: right;\">\n",
       "      <th></th>\n",
       "      <th>brand</th>\n",
       "      <th>reference</th>\n",
       "      <th>collection</th>\n",
       "      <th>price_USD_2021</th>\n",
       "      <th>price_USD_2025</th>\n",
       "      <th>Price Difference</th>\n",
       "      <th>Increase Rate (%)</th>\n",
       "      <th>CAGR (%)</th>\n",
       "    </tr>\n",
       "  </thead>\n",
       "  <tbody>\n",
       "  </tbody>\n",
       "</table>\n",
       "</div>"
      ],
      "text/plain": [
       "Empty DataFrame\n",
       "Columns: [brand, reference, collection, price_USD_2021, price_USD_2025, Price Difference, Increase Rate (%), CAGR (%)]\n",
       "Index: []"
      ]
     },
     "execution_count": 991,
     "metadata": {},
     "output_type": "execute_result"
    }
   ],
   "source": [
    "print(\"Product with Positive Increase Rate:\")\n",
    "positive_increase.head()"
   ]
  },
  {
   "cell_type": "code",
   "execution_count": 992,
   "id": "c10a254f",
   "metadata": {},
   "outputs": [
    {
     "name": "stdout",
     "output_type": "stream",
     "text": [
      "Product with Negative Increase Rate:\n"
     ]
    },
    {
     "data": {
      "text/html": [
       "<div>\n",
       "<style scoped>\n",
       "    .dataframe tbody tr th:only-of-type {\n",
       "        vertical-align: middle;\n",
       "    }\n",
       "\n",
       "    .dataframe tbody tr th {\n",
       "        vertical-align: top;\n",
       "    }\n",
       "\n",
       "    .dataframe thead th {\n",
       "        text-align: right;\n",
       "    }\n",
       "</style>\n",
       "<table border=\"1\" class=\"dataframe\">\n",
       "  <thead>\n",
       "    <tr style=\"text-align: right;\">\n",
       "      <th></th>\n",
       "      <th>brand</th>\n",
       "      <th>reference</th>\n",
       "      <th>collection</th>\n",
       "      <th>price_USD_2021</th>\n",
       "      <th>price_USD_2025</th>\n",
       "      <th>Price Difference</th>\n",
       "      <th>Increase Rate (%)</th>\n",
       "      <th>CAGR (%)</th>\n",
       "    </tr>\n",
       "  </thead>\n",
       "  <tbody>\n",
       "    <tr>\n",
       "      <th>0</th>\n",
       "      <td>PANERAI</td>\n",
       "      <td>PAM01086</td>\n",
       "      <td>Luminor</td>\n",
       "      <td>6400.0</td>\n",
       "      <td>5600.0</td>\n",
       "      <td>-800.0</td>\n",
       "      <td>-12.500000</td>\n",
       "      <td>-3.283179</td>\n",
       "    </tr>\n",
       "    <tr>\n",
       "      <th>1</th>\n",
       "      <td>PANERAI</td>\n",
       "      <td>PAM01084</td>\n",
       "      <td>Luminor</td>\n",
       "      <td>7100.0</td>\n",
       "      <td>6100.0</td>\n",
       "      <td>-1000.0</td>\n",
       "      <td>-14.084507</td>\n",
       "      <td>-3.724037</td>\n",
       "    </tr>\n",
       "    <tr>\n",
       "      <th>2</th>\n",
       "      <td>PANERAI</td>\n",
       "      <td>PAM01085</td>\n",
       "      <td>Luminor</td>\n",
       "      <td>7100.0</td>\n",
       "      <td>6100.0</td>\n",
       "      <td>-1000.0</td>\n",
       "      <td>-14.084507</td>\n",
       "      <td>-3.724037</td>\n",
       "    </tr>\n",
       "    <tr>\n",
       "      <th>3</th>\n",
       "      <td>PANERAI</td>\n",
       "      <td>PAM00915</td>\n",
       "      <td>Luminor</td>\n",
       "      <td>8800.0</td>\n",
       "      <td>7600.0</td>\n",
       "      <td>-1200.0</td>\n",
       "      <td>-13.636364</td>\n",
       "      <td>-3.598736</td>\n",
       "    </tr>\n",
       "    <tr>\n",
       "      <th>4</th>\n",
       "      <td>PANERAI</td>\n",
       "      <td>PAM00422</td>\n",
       "      <td>Luminor</td>\n",
       "      <td>12800.0</td>\n",
       "      <td>11300.0</td>\n",
       "      <td>-1500.0</td>\n",
       "      <td>-11.718750</td>\n",
       "      <td>-3.068012</td>\n",
       "    </tr>\n",
       "  </tbody>\n",
       "</table>\n",
       "</div>"
      ],
      "text/plain": [
       "     brand reference collection  price_USD_2021  price_USD_2025  \\\n",
       "0  PANERAI  PAM01086    Luminor          6400.0          5600.0   \n",
       "1  PANERAI  PAM01084    Luminor          7100.0          6100.0   \n",
       "2  PANERAI  PAM01085    Luminor          7100.0          6100.0   \n",
       "3  PANERAI  PAM00915    Luminor          8800.0          7600.0   \n",
       "4  PANERAI  PAM00422    Luminor         12800.0         11300.0   \n",
       "\n",
       "   Price Difference  Increase Rate (%)  CAGR (%)  \n",
       "0            -800.0         -12.500000 -3.283179  \n",
       "1           -1000.0         -14.084507 -3.724037  \n",
       "2           -1000.0         -14.084507 -3.724037  \n",
       "3           -1200.0         -13.636364 -3.598736  \n",
       "4           -1500.0         -11.718750 -3.068012  "
      ]
     },
     "execution_count": 992,
     "metadata": {},
     "output_type": "execute_result"
    }
   ],
   "source": [
    "print(\"Product with Negative Increase Rate:\")\n",
    "negative_increase.head()"
   ]
  },
  {
   "cell_type": "markdown",
   "id": "617fe29a",
   "metadata": {},
   "source": [
    "#### Identify Products with Extreme Growth Rates"
   ]
  },
  {
   "cell_type": "code",
   "execution_count": 993,
   "id": "3d133047",
   "metadata": {},
   "outputs": [],
   "source": [
    "product_highest_increase_rate, product_lowest_increase_rate = get_extreme_products(data_2021_2025_country_ref)"
   ]
  },
  {
   "cell_type": "code",
   "execution_count": 994,
   "id": "5e8cdd69",
   "metadata": {},
   "outputs": [
    {
     "name": "stdout",
     "output_type": "stream",
     "text": [
      "Product with the Highest Increase Rate:\n"
     ]
    },
    {
     "data": {
      "text/html": [
       "<div>\n",
       "<style scoped>\n",
       "    .dataframe tbody tr th:only-of-type {\n",
       "        vertical-align: middle;\n",
       "    }\n",
       "\n",
       "    .dataframe tbody tr th {\n",
       "        vertical-align: top;\n",
       "    }\n",
       "\n",
       "    .dataframe thead th {\n",
       "        text-align: right;\n",
       "    }\n",
       "</style>\n",
       "<table border=\"1\" class=\"dataframe\">\n",
       "  <thead>\n",
       "    <tr style=\"text-align: right;\">\n",
       "      <th></th>\n",
       "      <th>brand</th>\n",
       "      <th>reference</th>\n",
       "      <th>collection</th>\n",
       "      <th>price_USD_2021</th>\n",
       "      <th>price_USD_2025</th>\n",
       "      <th>Price Difference</th>\n",
       "      <th>Increase Rate (%)</th>\n",
       "      <th>CAGR (%)</th>\n",
       "    </tr>\n",
       "  </thead>\n",
       "  <tbody>\n",
       "    <tr>\n",
       "      <th>0</th>\n",
       "      <td>PANERAI</td>\n",
       "      <td>PAM00968</td>\n",
       "      <td>Submersible</td>\n",
       "      <td>20900.0</td>\n",
       "      <td>18600.0</td>\n",
       "      <td>-2300.0</td>\n",
       "      <td>-11.004785</td>\n",
       "      <td>-2.872622</td>\n",
       "    </tr>\n",
       "  </tbody>\n",
       "</table>\n",
       "</div>"
      ],
      "text/plain": [
       "     brand reference   collection  price_USD_2021  price_USD_2025  \\\n",
       "0  PANERAI  PAM00968  Submersible         20900.0         18600.0   \n",
       "\n",
       "   Price Difference  Increase Rate (%)  CAGR (%)  \n",
       "0           -2300.0         -11.004785 -2.872622  "
      ]
     },
     "execution_count": 994,
     "metadata": {},
     "output_type": "execute_result"
    }
   ],
   "source": [
    "# Product with the highest increase rate\n",
    "print(\"Product with the Highest Increase Rate:\")\n",
    "product_highest_increase_rate.head()"
   ]
  },
  {
   "cell_type": "code",
   "execution_count": 995,
   "id": "e05e74be",
   "metadata": {
    "scrolled": true
   },
   "outputs": [
    {
     "name": "stdout",
     "output_type": "stream",
     "text": [
      "\n",
      "Product with the Lowest Increase Rate:\n"
     ]
    },
    {
     "data": {
      "text/html": [
       "<div>\n",
       "<style scoped>\n",
       "    .dataframe tbody tr th:only-of-type {\n",
       "        vertical-align: middle;\n",
       "    }\n",
       "\n",
       "    .dataframe tbody tr th {\n",
       "        vertical-align: top;\n",
       "    }\n",
       "\n",
       "    .dataframe thead th {\n",
       "        text-align: right;\n",
       "    }\n",
       "</style>\n",
       "<table border=\"1\" class=\"dataframe\">\n",
       "  <thead>\n",
       "    <tr style=\"text-align: right;\">\n",
       "      <th></th>\n",
       "      <th>brand</th>\n",
       "      <th>reference</th>\n",
       "      <th>collection</th>\n",
       "      <th>price_USD_2021</th>\n",
       "      <th>price_USD_2025</th>\n",
       "      <th>Price Difference</th>\n",
       "      <th>Increase Rate (%)</th>\n",
       "      <th>CAGR (%)</th>\n",
       "    </tr>\n",
       "  </thead>\n",
       "  <tbody>\n",
       "    <tr>\n",
       "      <th>0</th>\n",
       "      <td>PANERAI</td>\n",
       "      <td>PAM00715</td>\n",
       "      <td>Luminor</td>\n",
       "      <td>85900.0</td>\n",
       "      <td>62400.0</td>\n",
       "      <td>-23500.0</td>\n",
       "      <td>-27.357392</td>\n",
       "      <td>-7.679562</td>\n",
       "    </tr>\n",
       "  </tbody>\n",
       "</table>\n",
       "</div>"
      ],
      "text/plain": [
       "     brand reference collection  price_USD_2021  price_USD_2025  \\\n",
       "0  PANERAI  PAM00715    Luminor         85900.0         62400.0   \n",
       "\n",
       "   Price Difference  Increase Rate (%)  CAGR (%)  \n",
       "0          -23500.0         -27.357392 -7.679562  "
      ]
     },
     "execution_count": 995,
     "metadata": {},
     "output_type": "execute_result"
    }
   ],
   "source": [
    "# Product with the lowest increase rate\n",
    "print(\"\\nProduct with the Lowest Increase Rate:\")\n",
    "product_lowest_increase_rate.head()"
   ]
  },
  {
   "cell_type": "markdown",
   "id": "3dc338df",
   "metadata": {},
   "source": [
    "#### Count Products by Increase Direction"
   ]
  },
  {
   "cell_type": "code",
   "execution_count": 996,
   "id": "8eea8371",
   "metadata": {},
   "outputs": [],
   "source": [
    "data_2021_2025_grouped_mean, data_2021_2025_grouped_median = group_metrics_by_country(data_2021_2025_country_ref)"
   ]
  },
  {
   "cell_type": "code",
   "execution_count": 997,
   "id": "dfa03afd",
   "metadata": {},
   "outputs": [
    {
     "name": "stdout",
     "output_type": "stream",
     "text": [
      "\n",
      "Grouped Mean Metrics by Collection and Reference:\n"
     ]
    },
    {
     "data": {
      "text/html": [
       "<div>\n",
       "<style scoped>\n",
       "    .dataframe tbody tr th:only-of-type {\n",
       "        vertical-align: middle;\n",
       "    }\n",
       "\n",
       "    .dataframe tbody tr th {\n",
       "        vertical-align: top;\n",
       "    }\n",
       "\n",
       "    .dataframe thead th {\n",
       "        text-align: right;\n",
       "    }\n",
       "</style>\n",
       "<table border=\"1\" class=\"dataframe\">\n",
       "  <thead>\n",
       "    <tr style=\"text-align: right;\">\n",
       "      <th></th>\n",
       "      <th>collection</th>\n",
       "      <th>reference</th>\n",
       "      <th>price_USD_2021</th>\n",
       "      <th>price_USD_2025</th>\n",
       "      <th>Price Difference</th>\n",
       "      <th>Increase Rate (%)</th>\n",
       "      <th>CAGR (%)</th>\n",
       "    </tr>\n",
       "  </thead>\n",
       "  <tbody>\n",
       "    <tr>\n",
       "      <th>0</th>\n",
       "      <td>Luminor</td>\n",
       "      <td>PAM00422</td>\n",
       "      <td>12800.0</td>\n",
       "      <td>11300.0</td>\n",
       "      <td>-1500.0</td>\n",
       "      <td>-11.718750</td>\n",
       "      <td>-3.068012</td>\n",
       "    </tr>\n",
       "    <tr>\n",
       "      <th>1</th>\n",
       "      <td>Luminor</td>\n",
       "      <td>PAM00715</td>\n",
       "      <td>85900.0</td>\n",
       "      <td>62400.0</td>\n",
       "      <td>-23500.0</td>\n",
       "      <td>-27.357392</td>\n",
       "      <td>-7.679562</td>\n",
       "    </tr>\n",
       "    <tr>\n",
       "      <th>2</th>\n",
       "      <td>Luminor</td>\n",
       "      <td>PAM00742</td>\n",
       "      <td>59700.0</td>\n",
       "      <td>45100.0</td>\n",
       "      <td>-14600.0</td>\n",
       "      <td>-24.455611</td>\n",
       "      <td>-6.771102</td>\n",
       "    </tr>\n",
       "    <tr>\n",
       "      <th>3</th>\n",
       "      <td>Luminor</td>\n",
       "      <td>PAM00915</td>\n",
       "      <td>8800.0</td>\n",
       "      <td>7600.0</td>\n",
       "      <td>-1200.0</td>\n",
       "      <td>-13.636364</td>\n",
       "      <td>-3.598736</td>\n",
       "    </tr>\n",
       "    <tr>\n",
       "      <th>4</th>\n",
       "      <td>Luminor</td>\n",
       "      <td>PAM01060</td>\n",
       "      <td>217000.0</td>\n",
       "      <td>163700.0</td>\n",
       "      <td>-53300.0</td>\n",
       "      <td>-24.562212</td>\n",
       "      <td>-6.804008</td>\n",
       "    </tr>\n",
       "  </tbody>\n",
       "</table>\n",
       "</div>"
      ],
      "text/plain": [
       "  collection reference  price_USD_2021  price_USD_2025  Price Difference  \\\n",
       "0    Luminor  PAM00422         12800.0         11300.0           -1500.0   \n",
       "1    Luminor  PAM00715         85900.0         62400.0          -23500.0   \n",
       "2    Luminor  PAM00742         59700.0         45100.0          -14600.0   \n",
       "3    Luminor  PAM00915          8800.0          7600.0           -1200.0   \n",
       "4    Luminor  PAM01060        217000.0        163700.0          -53300.0   \n",
       "\n",
       "   Increase Rate (%)  CAGR (%)  \n",
       "0         -11.718750 -3.068012  \n",
       "1         -27.357392 -7.679562  \n",
       "2         -24.455611 -6.771102  \n",
       "3         -13.636364 -3.598736  \n",
       "4         -24.562212 -6.804008  "
      ]
     },
     "execution_count": 997,
     "metadata": {},
     "output_type": "execute_result"
    }
   ],
   "source": [
    "print(f\"\\nGrouped Mean Metrics by Collection and Reference:\")\n",
    "data_2021_2025_grouped_mean.head()"
   ]
  },
  {
   "cell_type": "code",
   "execution_count": 998,
   "id": "2dcb35e9",
   "metadata": {
    "scrolled": false
   },
   "outputs": [
    {
     "name": "stdout",
     "output_type": "stream",
     "text": [
      "\n",
      "Grouped Median Metrics by Collection and Reference:\n"
     ]
    },
    {
     "data": {
      "text/html": [
       "<div>\n",
       "<style scoped>\n",
       "    .dataframe tbody tr th:only-of-type {\n",
       "        vertical-align: middle;\n",
       "    }\n",
       "\n",
       "    .dataframe tbody tr th {\n",
       "        vertical-align: top;\n",
       "    }\n",
       "\n",
       "    .dataframe thead th {\n",
       "        text-align: right;\n",
       "    }\n",
       "</style>\n",
       "<table border=\"1\" class=\"dataframe\">\n",
       "  <thead>\n",
       "    <tr style=\"text-align: right;\">\n",
       "      <th></th>\n",
       "      <th>collection</th>\n",
       "      <th>reference</th>\n",
       "      <th>price_USD_2021</th>\n",
       "      <th>price_USD_2025</th>\n",
       "      <th>Price Difference</th>\n",
       "      <th>Increase Rate (%)</th>\n",
       "      <th>CAGR (%)</th>\n",
       "    </tr>\n",
       "  </thead>\n",
       "  <tbody>\n",
       "    <tr>\n",
       "      <th>0</th>\n",
       "      <td>Luminor</td>\n",
       "      <td>PAM00422</td>\n",
       "      <td>12800.0</td>\n",
       "      <td>11300.0</td>\n",
       "      <td>-1500.0</td>\n",
       "      <td>-11.718750</td>\n",
       "      <td>-3.068012</td>\n",
       "    </tr>\n",
       "    <tr>\n",
       "      <th>1</th>\n",
       "      <td>Luminor</td>\n",
       "      <td>PAM00715</td>\n",
       "      <td>85900.0</td>\n",
       "      <td>62400.0</td>\n",
       "      <td>-23500.0</td>\n",
       "      <td>-27.357392</td>\n",
       "      <td>-7.679562</td>\n",
       "    </tr>\n",
       "    <tr>\n",
       "      <th>2</th>\n",
       "      <td>Luminor</td>\n",
       "      <td>PAM00742</td>\n",
       "      <td>59700.0</td>\n",
       "      <td>45100.0</td>\n",
       "      <td>-14600.0</td>\n",
       "      <td>-24.455611</td>\n",
       "      <td>-6.771102</td>\n",
       "    </tr>\n",
       "    <tr>\n",
       "      <th>3</th>\n",
       "      <td>Luminor</td>\n",
       "      <td>PAM00915</td>\n",
       "      <td>8800.0</td>\n",
       "      <td>7600.0</td>\n",
       "      <td>-1200.0</td>\n",
       "      <td>-13.636364</td>\n",
       "      <td>-3.598736</td>\n",
       "    </tr>\n",
       "    <tr>\n",
       "      <th>4</th>\n",
       "      <td>Luminor</td>\n",
       "      <td>PAM01060</td>\n",
       "      <td>217000.0</td>\n",
       "      <td>163700.0</td>\n",
       "      <td>-53300.0</td>\n",
       "      <td>-24.562212</td>\n",
       "      <td>-6.804008</td>\n",
       "    </tr>\n",
       "  </tbody>\n",
       "</table>\n",
       "</div>"
      ],
      "text/plain": [
       "  collection reference  price_USD_2021  price_USD_2025  Price Difference  \\\n",
       "0    Luminor  PAM00422         12800.0         11300.0           -1500.0   \n",
       "1    Luminor  PAM00715         85900.0         62400.0          -23500.0   \n",
       "2    Luminor  PAM00742         59700.0         45100.0          -14600.0   \n",
       "3    Luminor  PAM00915          8800.0          7600.0           -1200.0   \n",
       "4    Luminor  PAM01060        217000.0        163700.0          -53300.0   \n",
       "\n",
       "   Increase Rate (%)  CAGR (%)  \n",
       "0         -11.718750 -3.068012  \n",
       "1         -27.357392 -7.679562  \n",
       "2         -24.455611 -6.771102  \n",
       "3         -13.636364 -3.598736  \n",
       "4         -24.562212 -6.804008  "
      ]
     },
     "execution_count": 998,
     "metadata": {},
     "output_type": "execute_result"
    }
   ],
   "source": [
    "print(f\"\\nGrouped Median Metrics by Collection and Reference:\")\n",
    "data_2021_2025_grouped_median.head()"
   ]
  },
  {
   "cell_type": "markdown",
   "id": "6fadab9b",
   "metadata": {},
   "source": [
    "#### 3.1.4.3. UK"
   ]
  },
  {
   "cell_type": "code",
   "execution_count": 999,
   "id": "1cde7fab",
   "metadata": {},
   "outputs": [],
   "source": [
    "country = \"UK\""
   ]
  },
  {
   "cell_type": "code",
   "execution_count": 1000,
   "id": "78c62268",
   "metadata": {
    "scrolled": true
   },
   "outputs": [],
   "source": [
    "data_2021_country = data_2021[['brand','reference','collection', 'price_USD']][data_2021['country'] == country]\n",
    "data_2025_country = data_2025[['brand','reference','collection', 'price_USD']][data_2025['country'] == country]"
   ]
  },
  {
   "cell_type": "code",
   "execution_count": 1001,
   "id": "b59504eb",
   "metadata": {},
   "outputs": [
    {
     "data": {
      "text/html": [
       "<div>\n",
       "<style scoped>\n",
       "    .dataframe tbody tr th:only-of-type {\n",
       "        vertical-align: middle;\n",
       "    }\n",
       "\n",
       "    .dataframe tbody tr th {\n",
       "        vertical-align: top;\n",
       "    }\n",
       "\n",
       "    .dataframe thead th {\n",
       "        text-align: right;\n",
       "    }\n",
       "</style>\n",
       "<table border=\"1\" class=\"dataframe\">\n",
       "  <thead>\n",
       "    <tr style=\"text-align: right;\">\n",
       "      <th></th>\n",
       "      <th>brand</th>\n",
       "      <th>reference</th>\n",
       "      <th>collection</th>\n",
       "      <th>price_USD_2021</th>\n",
       "      <th>price_USD_2025</th>\n",
       "    </tr>\n",
       "  </thead>\n",
       "  <tbody>\n",
       "    <tr>\n",
       "      <th>0</th>\n",
       "      <td>PANERAI</td>\n",
       "      <td>PAM01086</td>\n",
       "      <td>Luminor</td>\n",
       "      <td>5415.42</td>\n",
       "      <td>6171.06</td>\n",
       "    </tr>\n",
       "    <tr>\n",
       "      <th>1</th>\n",
       "      <td>PANERAI</td>\n",
       "      <td>PAM01084</td>\n",
       "      <td>Luminor</td>\n",
       "      <td>6045.12</td>\n",
       "      <td>6674.82</td>\n",
       "    </tr>\n",
       "    <tr>\n",
       "      <th>2</th>\n",
       "      <td>PANERAI</td>\n",
       "      <td>PAM01085</td>\n",
       "      <td>Luminor</td>\n",
       "      <td>6045.12</td>\n",
       "      <td>6674.82</td>\n",
       "    </tr>\n",
       "    <tr>\n",
       "      <th>3</th>\n",
       "      <td>PANERAI</td>\n",
       "      <td>PAM00914</td>\n",
       "      <td>Luminor</td>\n",
       "      <td>6800.76</td>\n",
       "      <td>7682.34</td>\n",
       "    </tr>\n",
       "    <tr>\n",
       "      <th>4</th>\n",
       "      <td>PANERAI</td>\n",
       "      <td>PAM00915</td>\n",
       "      <td>Luminor</td>\n",
       "      <td>7304.52</td>\n",
       "      <td>8186.10</td>\n",
       "    </tr>\n",
       "  </tbody>\n",
       "</table>\n",
       "</div>"
      ],
      "text/plain": [
       "     brand reference collection  price_USD_2021  price_USD_2025\n",
       "0  PANERAI  PAM01086    Luminor         5415.42         6171.06\n",
       "1  PANERAI  PAM01084    Luminor         6045.12         6674.82\n",
       "2  PANERAI  PAM01085    Luminor         6045.12         6674.82\n",
       "3  PANERAI  PAM00914    Luminor         6800.76         7682.34\n",
       "4  PANERAI  PAM00915    Luminor         7304.52         8186.10"
      ]
     },
     "execution_count": 1001,
     "metadata": {},
     "output_type": "execute_result"
    }
   ],
   "source": [
    "data_2021_2025_country_ref = pd.merge(data_2025_country, data_2021_country, on='reference', how='inner')\n",
    "data_2021_2025_country_ref = data_2021_2025_country_ref.rename(columns={'brand_x': 'brand', 'collection_x': 'collection', 'year_x': 'year_2025', 'price_USD_x': 'price_USD_2025', 'year_y': 'year_2021', 'price_USD_y': 'price_USD_2021'})\n",
    "data_2021_2025_country_ref = data_2021_2025_country_ref[['brand', 'reference', 'collection', 'price_USD_2021', 'price_USD_2025']]\n",
    "\n",
    "data_2021_2025_country_ref.head()"
   ]
  },
  {
   "cell_type": "code",
   "execution_count": 1002,
   "id": "975a0466",
   "metadata": {},
   "outputs": [],
   "source": [
    "data_2021_2025_country_ref = calculate_price_metrics(data_2021_2025_country_ref)"
   ]
  },
  {
   "cell_type": "code",
   "execution_count": 1003,
   "id": "e5e8435a",
   "metadata": {
    "scrolled": true
   },
   "outputs": [
    {
     "name": "stdout",
     "output_type": "stream",
     "text": [
      "Overall Summary:\n",
      "\n",
      "Total of products analyzed (These products have been consistently purchased since 2021): 31\n",
      "Total of Products with a positive increase rate: 28\n",
      "Total Products with a negative increase rate: 3\n",
      "\n"
     ]
    }
   ],
   "source": [
    "positive_increase, count_positive_increase, negative_increase, count_negative_increase = count_increase_directions(data_2021_2025_country_ref)\n",
    "\n",
    "print(\"Overall Summary:\\n\")\n",
    "print(f\"Total of products analyzed (These products have been consistently purchased since 2021): {data_2021_2025_country_ref.shape[0]}\")\n",
    "print(f\"Total of Products with a positive increase rate: {count_positive_increase}\")\n",
    "print(f\"Total Products with a negative increase rate: {count_negative_increase}\\n\")"
   ]
  },
  {
   "cell_type": "code",
   "execution_count": 1004,
   "id": "14355bae",
   "metadata": {
    "scrolled": true
   },
   "outputs": [
    {
     "name": "stdout",
     "output_type": "stream",
     "text": [
      "Product with Positive Increase Rate:\n"
     ]
    },
    {
     "data": {
      "text/html": [
       "<div>\n",
       "<style scoped>\n",
       "    .dataframe tbody tr th:only-of-type {\n",
       "        vertical-align: middle;\n",
       "    }\n",
       "\n",
       "    .dataframe tbody tr th {\n",
       "        vertical-align: top;\n",
       "    }\n",
       "\n",
       "    .dataframe thead th {\n",
       "        text-align: right;\n",
       "    }\n",
       "</style>\n",
       "<table border=\"1\" class=\"dataframe\">\n",
       "  <thead>\n",
       "    <tr style=\"text-align: right;\">\n",
       "      <th></th>\n",
       "      <th>brand</th>\n",
       "      <th>reference</th>\n",
       "      <th>collection</th>\n",
       "      <th>price_USD_2021</th>\n",
       "      <th>price_USD_2025</th>\n",
       "      <th>Price Difference</th>\n",
       "      <th>Increase Rate (%)</th>\n",
       "      <th>CAGR (%)</th>\n",
       "    </tr>\n",
       "  </thead>\n",
       "  <tbody>\n",
       "    <tr>\n",
       "      <th>0</th>\n",
       "      <td>PANERAI</td>\n",
       "      <td>PAM01086</td>\n",
       "      <td>Luminor</td>\n",
       "      <td>5415.42</td>\n",
       "      <td>6171.06</td>\n",
       "      <td>755.64</td>\n",
       "      <td>13.953488</td>\n",
       "      <td>3.319407</td>\n",
       "    </tr>\n",
       "    <tr>\n",
       "      <th>1</th>\n",
       "      <td>PANERAI</td>\n",
       "      <td>PAM01084</td>\n",
       "      <td>Luminor</td>\n",
       "      <td>6045.12</td>\n",
       "      <td>6674.82</td>\n",
       "      <td>629.70</td>\n",
       "      <td>10.416667</td>\n",
       "      <td>2.508212</td>\n",
       "    </tr>\n",
       "    <tr>\n",
       "      <th>2</th>\n",
       "      <td>PANERAI</td>\n",
       "      <td>PAM01085</td>\n",
       "      <td>Luminor</td>\n",
       "      <td>6045.12</td>\n",
       "      <td>6674.82</td>\n",
       "      <td>629.70</td>\n",
       "      <td>10.416667</td>\n",
       "      <td>2.508212</td>\n",
       "    </tr>\n",
       "    <tr>\n",
       "      <th>3</th>\n",
       "      <td>PANERAI</td>\n",
       "      <td>PAM00914</td>\n",
       "      <td>Luminor</td>\n",
       "      <td>6800.76</td>\n",
       "      <td>7682.34</td>\n",
       "      <td>881.58</td>\n",
       "      <td>12.962963</td>\n",
       "      <td>3.094149</td>\n",
       "    </tr>\n",
       "    <tr>\n",
       "      <th>4</th>\n",
       "      <td>PANERAI</td>\n",
       "      <td>PAM00915</td>\n",
       "      <td>Luminor</td>\n",
       "      <td>7304.52</td>\n",
       "      <td>8186.10</td>\n",
       "      <td>881.58</td>\n",
       "      <td>12.068966</td>\n",
       "      <td>2.889567</td>\n",
       "    </tr>\n",
       "  </tbody>\n",
       "</table>\n",
       "</div>"
      ],
      "text/plain": [
       "     brand reference collection  price_USD_2021  price_USD_2025  \\\n",
       "0  PANERAI  PAM01086    Luminor         5415.42         6171.06   \n",
       "1  PANERAI  PAM01084    Luminor         6045.12         6674.82   \n",
       "2  PANERAI  PAM01085    Luminor         6045.12         6674.82   \n",
       "3  PANERAI  PAM00914    Luminor         6800.76         7682.34   \n",
       "4  PANERAI  PAM00915    Luminor         7304.52         8186.10   \n",
       "\n",
       "   Price Difference  Increase Rate (%)  CAGR (%)  \n",
       "0            755.64          13.953488  3.319407  \n",
       "1            629.70          10.416667  2.508212  \n",
       "2            629.70          10.416667  2.508212  \n",
       "3            881.58          12.962963  3.094149  \n",
       "4            881.58          12.068966  2.889567  "
      ]
     },
     "execution_count": 1004,
     "metadata": {},
     "output_type": "execute_result"
    }
   ],
   "source": [
    "print(\"Product with Positive Increase Rate:\")\n",
    "positive_increase.head()"
   ]
  },
  {
   "cell_type": "code",
   "execution_count": 1005,
   "id": "a2b71d1c",
   "metadata": {},
   "outputs": [
    {
     "name": "stdout",
     "output_type": "stream",
     "text": [
      "Product with Negative Increase Rate:\n"
     ]
    },
    {
     "data": {
      "text/html": [
       "<div>\n",
       "<style scoped>\n",
       "    .dataframe tbody tr th:only-of-type {\n",
       "        vertical-align: middle;\n",
       "    }\n",
       "\n",
       "    .dataframe tbody tr th {\n",
       "        vertical-align: top;\n",
       "    }\n",
       "\n",
       "    .dataframe thead th {\n",
       "        text-align: right;\n",
       "    }\n",
       "</style>\n",
       "<table border=\"1\" class=\"dataframe\">\n",
       "  <thead>\n",
       "    <tr style=\"text-align: right;\">\n",
       "      <th></th>\n",
       "      <th>brand</th>\n",
       "      <th>reference</th>\n",
       "      <th>collection</th>\n",
       "      <th>price_USD_2021</th>\n",
       "      <th>price_USD_2025</th>\n",
       "      <th>Price Difference</th>\n",
       "      <th>Increase Rate (%)</th>\n",
       "      <th>CAGR (%)</th>\n",
       "    </tr>\n",
       "  </thead>\n",
       "  <tbody>\n",
       "    <tr>\n",
       "      <th>0</th>\n",
       "      <td>PANERAI</td>\n",
       "      <td>PAM00742</td>\n",
       "      <td>Luminor</td>\n",
       "      <td>52139.16</td>\n",
       "      <td>45716.22</td>\n",
       "      <td>-6422.94</td>\n",
       "      <td>-12.318841</td>\n",
       "      <td>-3.233157</td>\n",
       "    </tr>\n",
       "    <tr>\n",
       "      <th>1</th>\n",
       "      <td>PANERAI</td>\n",
       "      <td>PAM00715</td>\n",
       "      <td>Luminor</td>\n",
       "      <td>74808.36</td>\n",
       "      <td>63221.88</td>\n",
       "      <td>-11586.48</td>\n",
       "      <td>-15.488215</td>\n",
       "      <td>-4.119715</td>\n",
       "    </tr>\n",
       "    <tr>\n",
       "      <th>2</th>\n",
       "      <td>PANERAI</td>\n",
       "      <td>PAM01060</td>\n",
       "      <td>Luminor</td>\n",
       "      <td>186643.08</td>\n",
       "      <td>165988.92</td>\n",
       "      <td>-20654.16</td>\n",
       "      <td>-11.066127</td>\n",
       "      <td>-2.889363</td>\n",
       "    </tr>\n",
       "  </tbody>\n",
       "</table>\n",
       "</div>"
      ],
      "text/plain": [
       "     brand reference collection  price_USD_2021  price_USD_2025  \\\n",
       "0  PANERAI  PAM00742    Luminor        52139.16        45716.22   \n",
       "1  PANERAI  PAM00715    Luminor        74808.36        63221.88   \n",
       "2  PANERAI  PAM01060    Luminor       186643.08       165988.92   \n",
       "\n",
       "   Price Difference  Increase Rate (%)  CAGR (%)  \n",
       "0          -6422.94         -12.318841 -3.233157  \n",
       "1         -11586.48         -15.488215 -4.119715  \n",
       "2         -20654.16         -11.066127 -2.889363  "
      ]
     },
     "execution_count": 1005,
     "metadata": {},
     "output_type": "execute_result"
    }
   ],
   "source": [
    "print(\"Product with Negative Increase Rate:\")\n",
    "negative_increase.head()"
   ]
  },
  {
   "cell_type": "markdown",
   "id": "002d7d21",
   "metadata": {},
   "source": [
    "#### Identify Products with Extreme Growth Rates"
   ]
  },
  {
   "cell_type": "code",
   "execution_count": 1006,
   "id": "7849ea6e",
   "metadata": {},
   "outputs": [],
   "source": [
    "product_highest_increase_rate, product_lowest_increase_rate = get_extreme_products(data_2021_2025_country_ref)"
   ]
  },
  {
   "cell_type": "code",
   "execution_count": 1007,
   "id": "4a4c2737",
   "metadata": {},
   "outputs": [
    {
     "name": "stdout",
     "output_type": "stream",
     "text": [
      "Product with the Highest Increase Rate:\n"
     ]
    },
    {
     "data": {
      "text/html": [
       "<div>\n",
       "<style scoped>\n",
       "    .dataframe tbody tr th:only-of-type {\n",
       "        vertical-align: middle;\n",
       "    }\n",
       "\n",
       "    .dataframe tbody tr th {\n",
       "        vertical-align: top;\n",
       "    }\n",
       "\n",
       "    .dataframe thead th {\n",
       "        text-align: right;\n",
       "    }\n",
       "</style>\n",
       "<table border=\"1\" class=\"dataframe\">\n",
       "  <thead>\n",
       "    <tr style=\"text-align: right;\">\n",
       "      <th></th>\n",
       "      <th>brand</th>\n",
       "      <th>reference</th>\n",
       "      <th>collection</th>\n",
       "      <th>price_USD_2021</th>\n",
       "      <th>price_USD_2025</th>\n",
       "      <th>Price Difference</th>\n",
       "      <th>Increase Rate (%)</th>\n",
       "      <th>CAGR (%)</th>\n",
       "    </tr>\n",
       "  </thead>\n",
       "  <tbody>\n",
       "    <tr>\n",
       "      <th>0</th>\n",
       "      <td>PANERAI</td>\n",
       "      <td>PAM01441</td>\n",
       "      <td>Luminor</td>\n",
       "      <td>12845.88</td>\n",
       "      <td>16246.26</td>\n",
       "      <td>3400.38</td>\n",
       "      <td>26.470588</td>\n",
       "      <td>6.046755</td>\n",
       "    </tr>\n",
       "  </tbody>\n",
       "</table>\n",
       "</div>"
      ],
      "text/plain": [
       "     brand reference collection  price_USD_2021  price_USD_2025  \\\n",
       "0  PANERAI  PAM01441    Luminor        12845.88        16246.26   \n",
       "\n",
       "   Price Difference  Increase Rate (%)  CAGR (%)  \n",
       "0           3400.38          26.470588  6.046755  "
      ]
     },
     "execution_count": 1007,
     "metadata": {},
     "output_type": "execute_result"
    }
   ],
   "source": [
    "# Product with the highest increase rate\n",
    "print(\"Product with the Highest Increase Rate:\")\n",
    "product_highest_increase_rate.head()"
   ]
  },
  {
   "cell_type": "code",
   "execution_count": 1008,
   "id": "b1c619ef",
   "metadata": {
    "scrolled": true
   },
   "outputs": [
    {
     "name": "stdout",
     "output_type": "stream",
     "text": [
      "\n",
      "Product with the Lowest Increase Rate:\n"
     ]
    },
    {
     "data": {
      "text/html": [
       "<div>\n",
       "<style scoped>\n",
       "    .dataframe tbody tr th:only-of-type {\n",
       "        vertical-align: middle;\n",
       "    }\n",
       "\n",
       "    .dataframe tbody tr th {\n",
       "        vertical-align: top;\n",
       "    }\n",
       "\n",
       "    .dataframe thead th {\n",
       "        text-align: right;\n",
       "    }\n",
       "</style>\n",
       "<table border=\"1\" class=\"dataframe\">\n",
       "  <thead>\n",
       "    <tr style=\"text-align: right;\">\n",
       "      <th></th>\n",
       "      <th>brand</th>\n",
       "      <th>reference</th>\n",
       "      <th>collection</th>\n",
       "      <th>price_USD_2021</th>\n",
       "      <th>price_USD_2025</th>\n",
       "      <th>Price Difference</th>\n",
       "      <th>Increase Rate (%)</th>\n",
       "      <th>CAGR (%)</th>\n",
       "    </tr>\n",
       "  </thead>\n",
       "  <tbody>\n",
       "    <tr>\n",
       "      <th>0</th>\n",
       "      <td>PANERAI</td>\n",
       "      <td>PAM00715</td>\n",
       "      <td>Luminor</td>\n",
       "      <td>74808.36</td>\n",
       "      <td>63221.88</td>\n",
       "      <td>-11586.48</td>\n",
       "      <td>-15.488215</td>\n",
       "      <td>-4.119715</td>\n",
       "    </tr>\n",
       "  </tbody>\n",
       "</table>\n",
       "</div>"
      ],
      "text/plain": [
       "     brand reference collection  price_USD_2021  price_USD_2025  \\\n",
       "0  PANERAI  PAM00715    Luminor        74808.36        63221.88   \n",
       "\n",
       "   Price Difference  Increase Rate (%)  CAGR (%)  \n",
       "0         -11586.48         -15.488215 -4.119715  "
      ]
     },
     "execution_count": 1008,
     "metadata": {},
     "output_type": "execute_result"
    }
   ],
   "source": [
    "# Product with the lowest increase rate\n",
    "print(\"\\nProduct with the Lowest Increase Rate:\")\n",
    "product_lowest_increase_rate.head()"
   ]
  },
  {
   "cell_type": "markdown",
   "id": "bea794a5",
   "metadata": {},
   "source": [
    "#### Count Products by Increase Direction"
   ]
  },
  {
   "cell_type": "code",
   "execution_count": 1009,
   "id": "a3f8f483",
   "metadata": {},
   "outputs": [],
   "source": [
    "data_2021_2025_grouped_mean, data_2021_2025_grouped_median = group_metrics_by_country(data_2021_2025_country_ref)"
   ]
  },
  {
   "cell_type": "code",
   "execution_count": 1010,
   "id": "777f0da0",
   "metadata": {},
   "outputs": [
    {
     "name": "stdout",
     "output_type": "stream",
     "text": [
      "\n",
      "Grouped Mean Metrics by Collection and Reference:\n"
     ]
    },
    {
     "data": {
      "text/html": [
       "<div>\n",
       "<style scoped>\n",
       "    .dataframe tbody tr th:only-of-type {\n",
       "        vertical-align: middle;\n",
       "    }\n",
       "\n",
       "    .dataframe tbody tr th {\n",
       "        vertical-align: top;\n",
       "    }\n",
       "\n",
       "    .dataframe thead th {\n",
       "        text-align: right;\n",
       "    }\n",
       "</style>\n",
       "<table border=\"1\" class=\"dataframe\">\n",
       "  <thead>\n",
       "    <tr style=\"text-align: right;\">\n",
       "      <th></th>\n",
       "      <th>collection</th>\n",
       "      <th>reference</th>\n",
       "      <th>price_USD_2021</th>\n",
       "      <th>price_USD_2025</th>\n",
       "      <th>Price Difference</th>\n",
       "      <th>Increase Rate (%)</th>\n",
       "      <th>CAGR (%)</th>\n",
       "    </tr>\n",
       "  </thead>\n",
       "  <tbody>\n",
       "    <tr>\n",
       "      <th>0</th>\n",
       "      <td>Luminor</td>\n",
       "      <td>PAM00422</td>\n",
       "      <td>10704.90</td>\n",
       "      <td>12342.12</td>\n",
       "      <td>1637.22</td>\n",
       "      <td>15.294118</td>\n",
       "      <td>3.621956</td>\n",
       "    </tr>\n",
       "    <tr>\n",
       "      <th>1</th>\n",
       "      <td>Luminor</td>\n",
       "      <td>PAM00670</td>\n",
       "      <td>24306.42</td>\n",
       "      <td>26069.58</td>\n",
       "      <td>1763.16</td>\n",
       "      <td>7.253886</td>\n",
       "      <td>1.766130</td>\n",
       "    </tr>\n",
       "    <tr>\n",
       "      <th>2</th>\n",
       "      <td>Luminor</td>\n",
       "      <td>PAM00715</td>\n",
       "      <td>74808.36</td>\n",
       "      <td>63221.88</td>\n",
       "      <td>-11586.48</td>\n",
       "      <td>-15.488215</td>\n",
       "      <td>-4.119715</td>\n",
       "    </tr>\n",
       "    <tr>\n",
       "      <th>3</th>\n",
       "      <td>Luminor</td>\n",
       "      <td>PAM00742</td>\n",
       "      <td>52139.16</td>\n",
       "      <td>45716.22</td>\n",
       "      <td>-6422.94</td>\n",
       "      <td>-12.318841</td>\n",
       "      <td>-3.233157</td>\n",
       "    </tr>\n",
       "    <tr>\n",
       "      <th>4</th>\n",
       "      <td>Luminor</td>\n",
       "      <td>PAM00914</td>\n",
       "      <td>6800.76</td>\n",
       "      <td>7682.34</td>\n",
       "      <td>881.58</td>\n",
       "      <td>12.962963</td>\n",
       "      <td>3.094149</td>\n",
       "    </tr>\n",
       "  </tbody>\n",
       "</table>\n",
       "</div>"
      ],
      "text/plain": [
       "  collection reference  price_USD_2021  price_USD_2025  Price Difference  \\\n",
       "0    Luminor  PAM00422        10704.90        12342.12           1637.22   \n",
       "1    Luminor  PAM00670        24306.42        26069.58           1763.16   \n",
       "2    Luminor  PAM00715        74808.36        63221.88         -11586.48   \n",
       "3    Luminor  PAM00742        52139.16        45716.22          -6422.94   \n",
       "4    Luminor  PAM00914         6800.76         7682.34            881.58   \n",
       "\n",
       "   Increase Rate (%)  CAGR (%)  \n",
       "0          15.294118  3.621956  \n",
       "1           7.253886  1.766130  \n",
       "2         -15.488215 -4.119715  \n",
       "3         -12.318841 -3.233157  \n",
       "4          12.962963  3.094149  "
      ]
     },
     "execution_count": 1010,
     "metadata": {},
     "output_type": "execute_result"
    }
   ],
   "source": [
    "print(f\"\\nGrouped Mean Metrics by Collection and Reference:\")\n",
    "data_2021_2025_grouped_mean.head()"
   ]
  },
  {
   "cell_type": "code",
   "execution_count": 1011,
   "id": "ea523220",
   "metadata": {
    "scrolled": false
   },
   "outputs": [
    {
     "name": "stdout",
     "output_type": "stream",
     "text": [
      "\n",
      "Grouped Median Metrics by Collection and Reference:\n"
     ]
    },
    {
     "data": {
      "text/html": [
       "<div>\n",
       "<style scoped>\n",
       "    .dataframe tbody tr th:only-of-type {\n",
       "        vertical-align: middle;\n",
       "    }\n",
       "\n",
       "    .dataframe tbody tr th {\n",
       "        vertical-align: top;\n",
       "    }\n",
       "\n",
       "    .dataframe thead th {\n",
       "        text-align: right;\n",
       "    }\n",
       "</style>\n",
       "<table border=\"1\" class=\"dataframe\">\n",
       "  <thead>\n",
       "    <tr style=\"text-align: right;\">\n",
       "      <th></th>\n",
       "      <th>collection</th>\n",
       "      <th>reference</th>\n",
       "      <th>price_USD_2021</th>\n",
       "      <th>price_USD_2025</th>\n",
       "      <th>Price Difference</th>\n",
       "      <th>Increase Rate (%)</th>\n",
       "      <th>CAGR (%)</th>\n",
       "    </tr>\n",
       "  </thead>\n",
       "  <tbody>\n",
       "    <tr>\n",
       "      <th>0</th>\n",
       "      <td>Luminor</td>\n",
       "      <td>PAM00422</td>\n",
       "      <td>10704.90</td>\n",
       "      <td>12342.12</td>\n",
       "      <td>1637.22</td>\n",
       "      <td>15.294118</td>\n",
       "      <td>3.621956</td>\n",
       "    </tr>\n",
       "    <tr>\n",
       "      <th>1</th>\n",
       "      <td>Luminor</td>\n",
       "      <td>PAM00670</td>\n",
       "      <td>24306.42</td>\n",
       "      <td>26069.58</td>\n",
       "      <td>1763.16</td>\n",
       "      <td>7.253886</td>\n",
       "      <td>1.766130</td>\n",
       "    </tr>\n",
       "    <tr>\n",
       "      <th>2</th>\n",
       "      <td>Luminor</td>\n",
       "      <td>PAM00715</td>\n",
       "      <td>74808.36</td>\n",
       "      <td>63221.88</td>\n",
       "      <td>-11586.48</td>\n",
       "      <td>-15.488215</td>\n",
       "      <td>-4.119715</td>\n",
       "    </tr>\n",
       "    <tr>\n",
       "      <th>3</th>\n",
       "      <td>Luminor</td>\n",
       "      <td>PAM00742</td>\n",
       "      <td>52139.16</td>\n",
       "      <td>45716.22</td>\n",
       "      <td>-6422.94</td>\n",
       "      <td>-12.318841</td>\n",
       "      <td>-3.233157</td>\n",
       "    </tr>\n",
       "    <tr>\n",
       "      <th>4</th>\n",
       "      <td>Luminor</td>\n",
       "      <td>PAM00914</td>\n",
       "      <td>6800.76</td>\n",
       "      <td>7682.34</td>\n",
       "      <td>881.58</td>\n",
       "      <td>12.962963</td>\n",
       "      <td>3.094149</td>\n",
       "    </tr>\n",
       "  </tbody>\n",
       "</table>\n",
       "</div>"
      ],
      "text/plain": [
       "  collection reference  price_USD_2021  price_USD_2025  Price Difference  \\\n",
       "0    Luminor  PAM00422        10704.90        12342.12           1637.22   \n",
       "1    Luminor  PAM00670        24306.42        26069.58           1763.16   \n",
       "2    Luminor  PAM00715        74808.36        63221.88         -11586.48   \n",
       "3    Luminor  PAM00742        52139.16        45716.22          -6422.94   \n",
       "4    Luminor  PAM00914         6800.76         7682.34            881.58   \n",
       "\n",
       "   Increase Rate (%)  CAGR (%)  \n",
       "0          15.294118  3.621956  \n",
       "1           7.253886  1.766130  \n",
       "2         -15.488215 -4.119715  \n",
       "3         -12.318841 -3.233157  \n",
       "4          12.962963  3.094149  "
      ]
     },
     "execution_count": 1011,
     "metadata": {},
     "output_type": "execute_result"
    }
   ],
   "source": [
    "print(f\"\\nGrouped Median Metrics by Collection and Reference:\")\n",
    "data_2021_2025_grouped_median.head()"
   ]
  },
  {
   "cell_type": "markdown",
   "id": "8db245d8",
   "metadata": {},
   "source": [
    "#### 3.1.4.4. Japan"
   ]
  },
  {
   "cell_type": "code",
   "execution_count": 1012,
   "id": "1180619b",
   "metadata": {},
   "outputs": [],
   "source": [
    "country = \"Japan\""
   ]
  },
  {
   "cell_type": "code",
   "execution_count": 1013,
   "id": "ea3ca63a",
   "metadata": {
    "scrolled": true
   },
   "outputs": [],
   "source": [
    "data_2021_country = data_2021[['brand','reference','collection', 'price_USD']][data_2021['country'] == country]\n",
    "data_2025_country = data_2025[['brand','reference','collection', 'price_USD']][data_2025['country'] == country]"
   ]
  },
  {
   "cell_type": "code",
   "execution_count": 1014,
   "id": "14ea733d",
   "metadata": {},
   "outputs": [
    {
     "data": {
      "text/html": [
       "<div>\n",
       "<style scoped>\n",
       "    .dataframe tbody tr th:only-of-type {\n",
       "        vertical-align: middle;\n",
       "    }\n",
       "\n",
       "    .dataframe tbody tr th {\n",
       "        vertical-align: top;\n",
       "    }\n",
       "\n",
       "    .dataframe thead th {\n",
       "        text-align: right;\n",
       "    }\n",
       "</style>\n",
       "<table border=\"1\" class=\"dataframe\">\n",
       "  <thead>\n",
       "    <tr style=\"text-align: right;\">\n",
       "      <th></th>\n",
       "      <th>brand</th>\n",
       "      <th>reference</th>\n",
       "      <th>collection</th>\n",
       "      <th>price_USD_2021</th>\n",
       "      <th>price_USD_2025</th>\n",
       "    </tr>\n",
       "  </thead>\n",
       "  <tbody>\n",
       "    <tr>\n",
       "      <th>0</th>\n",
       "      <td>PANERAI</td>\n",
       "      <td>PAM01086</td>\n",
       "      <td>Luminor</td>\n",
       "      <td>4092.704</td>\n",
       "      <td>5627.468</td>\n",
       "    </tr>\n",
       "    <tr>\n",
       "      <th>1</th>\n",
       "      <td>PANERAI</td>\n",
       "      <td>PAM01084</td>\n",
       "      <td>Luminor</td>\n",
       "      <td>4458.124</td>\n",
       "      <td>6139.056</td>\n",
       "    </tr>\n",
       "    <tr>\n",
       "      <th>2</th>\n",
       "      <td>PANERAI</td>\n",
       "      <td>PAM01085</td>\n",
       "      <td>Luminor</td>\n",
       "      <td>4458.124</td>\n",
       "      <td>6139.056</td>\n",
       "    </tr>\n",
       "    <tr>\n",
       "      <th>3</th>\n",
       "      <td>PANERAI</td>\n",
       "      <td>PAM00914</td>\n",
       "      <td>Luminor</td>\n",
       "      <td>5115.880</td>\n",
       "      <td>7089.148</td>\n",
       "    </tr>\n",
       "    <tr>\n",
       "      <th>4</th>\n",
       "      <td>PANERAI</td>\n",
       "      <td>PAM00915</td>\n",
       "      <td>Luminor</td>\n",
       "      <td>5554.384</td>\n",
       "      <td>7600.736</td>\n",
       "    </tr>\n",
       "  </tbody>\n",
       "</table>\n",
       "</div>"
      ],
      "text/plain": [
       "     brand reference collection  price_USD_2021  price_USD_2025\n",
       "0  PANERAI  PAM01086    Luminor        4092.704        5627.468\n",
       "1  PANERAI  PAM01084    Luminor        4458.124        6139.056\n",
       "2  PANERAI  PAM01085    Luminor        4458.124        6139.056\n",
       "3  PANERAI  PAM00914    Luminor        5115.880        7089.148\n",
       "4  PANERAI  PAM00915    Luminor        5554.384        7600.736"
      ]
     },
     "execution_count": 1014,
     "metadata": {},
     "output_type": "execute_result"
    }
   ],
   "source": [
    "data_2021_2025_country_ref = pd.merge(data_2025_country, data_2021_country, on='reference', how='inner')\n",
    "data_2021_2025_country_ref = data_2021_2025_country_ref.rename(columns={'brand_x': 'brand', 'collection_x': 'collection', 'year_x': 'year_2025', 'price_USD_x': 'price_USD_2025', 'year_y': 'year_2021', 'price_USD_y': 'price_USD_2021'})\n",
    "data_2021_2025_country_ref = data_2021_2025_country_ref[['brand', 'reference', 'collection', 'price_USD_2021', 'price_USD_2025']]\n",
    "\n",
    "data_2021_2025_country_ref.head()"
   ]
  },
  {
   "cell_type": "code",
   "execution_count": 1015,
   "id": "11900a26",
   "metadata": {},
   "outputs": [],
   "source": [
    "data_2021_2025_country_ref = calculate_price_metrics(data_2021_2025_country_ref)"
   ]
  },
  {
   "cell_type": "code",
   "execution_count": 1016,
   "id": "997a1ddc",
   "metadata": {
    "scrolled": true
   },
   "outputs": [
    {
     "name": "stdout",
     "output_type": "stream",
     "text": [
      "Overall Summary:\n",
      "\n",
      "Total of products analyzed (These products have been consistently purchased since 2021): 31\n",
      "Total of Products with a positive increase rate: 31\n",
      "Total Products with a negative increase rate: 0\n",
      "\n"
     ]
    }
   ],
   "source": [
    "positive_increase, count_positive_increase, negative_increase, count_negative_increase = count_increase_directions(data_2021_2025_country_ref)\n",
    "\n",
    "print(\"Overall Summary:\\n\")\n",
    "print(f\"Total of products analyzed (These products have been consistently purchased since 2021): {data_2021_2025_country_ref.shape[0]}\")\n",
    "print(f\"Total of Products with a positive increase rate: {count_positive_increase}\")\n",
    "print(f\"Total Products with a negative increase rate: {count_negative_increase}\\n\")"
   ]
  },
  {
   "cell_type": "code",
   "execution_count": 1017,
   "id": "b40cc303",
   "metadata": {
    "scrolled": true
   },
   "outputs": [
    {
     "name": "stdout",
     "output_type": "stream",
     "text": [
      "Product with Positive Increase Rate:\n"
     ]
    },
    {
     "data": {
      "text/html": [
       "<div>\n",
       "<style scoped>\n",
       "    .dataframe tbody tr th:only-of-type {\n",
       "        vertical-align: middle;\n",
       "    }\n",
       "\n",
       "    .dataframe tbody tr th {\n",
       "        vertical-align: top;\n",
       "    }\n",
       "\n",
       "    .dataframe thead th {\n",
       "        text-align: right;\n",
       "    }\n",
       "</style>\n",
       "<table border=\"1\" class=\"dataframe\">\n",
       "  <thead>\n",
       "    <tr style=\"text-align: right;\">\n",
       "      <th></th>\n",
       "      <th>brand</th>\n",
       "      <th>reference</th>\n",
       "      <th>collection</th>\n",
       "      <th>price_USD_2021</th>\n",
       "      <th>price_USD_2025</th>\n",
       "      <th>Price Difference</th>\n",
       "      <th>Increase Rate (%)</th>\n",
       "      <th>CAGR (%)</th>\n",
       "    </tr>\n",
       "  </thead>\n",
       "  <tbody>\n",
       "    <tr>\n",
       "      <th>0</th>\n",
       "      <td>PANERAI</td>\n",
       "      <td>PAM01086</td>\n",
       "      <td>Luminor</td>\n",
       "      <td>4092.704</td>\n",
       "      <td>5627.468</td>\n",
       "      <td>1534.764</td>\n",
       "      <td>37.500000</td>\n",
       "      <td>8.286839</td>\n",
       "    </tr>\n",
       "    <tr>\n",
       "      <th>1</th>\n",
       "      <td>PANERAI</td>\n",
       "      <td>PAM01084</td>\n",
       "      <td>Luminor</td>\n",
       "      <td>4458.124</td>\n",
       "      <td>6139.056</td>\n",
       "      <td>1680.932</td>\n",
       "      <td>37.704918</td>\n",
       "      <td>8.327161</td>\n",
       "    </tr>\n",
       "    <tr>\n",
       "      <th>2</th>\n",
       "      <td>PANERAI</td>\n",
       "      <td>PAM01085</td>\n",
       "      <td>Luminor</td>\n",
       "      <td>4458.124</td>\n",
       "      <td>6139.056</td>\n",
       "      <td>1680.932</td>\n",
       "      <td>37.704918</td>\n",
       "      <td>8.327161</td>\n",
       "    </tr>\n",
       "    <tr>\n",
       "      <th>3</th>\n",
       "      <td>PANERAI</td>\n",
       "      <td>PAM00914</td>\n",
       "      <td>Luminor</td>\n",
       "      <td>5115.880</td>\n",
       "      <td>7089.148</td>\n",
       "      <td>1973.268</td>\n",
       "      <td>38.571429</td>\n",
       "      <td>8.497173</td>\n",
       "    </tr>\n",
       "    <tr>\n",
       "      <th>4</th>\n",
       "      <td>PANERAI</td>\n",
       "      <td>PAM00915</td>\n",
       "      <td>Luminor</td>\n",
       "      <td>5554.384</td>\n",
       "      <td>7600.736</td>\n",
       "      <td>2046.352</td>\n",
       "      <td>36.842105</td>\n",
       "      <td>8.157076</td>\n",
       "    </tr>\n",
       "  </tbody>\n",
       "</table>\n",
       "</div>"
      ],
      "text/plain": [
       "     brand reference collection  price_USD_2021  price_USD_2025  \\\n",
       "0  PANERAI  PAM01086    Luminor        4092.704        5627.468   \n",
       "1  PANERAI  PAM01084    Luminor        4458.124        6139.056   \n",
       "2  PANERAI  PAM01085    Luminor        4458.124        6139.056   \n",
       "3  PANERAI  PAM00914    Luminor        5115.880        7089.148   \n",
       "4  PANERAI  PAM00915    Luminor        5554.384        7600.736   \n",
       "\n",
       "   Price Difference  Increase Rate (%)  CAGR (%)  \n",
       "0          1534.764          37.500000  8.286839  \n",
       "1          1680.932          37.704918  8.327161  \n",
       "2          1680.932          37.704918  8.327161  \n",
       "3          1973.268          38.571429  8.497173  \n",
       "4          2046.352          36.842105  8.157076  "
      ]
     },
     "execution_count": 1017,
     "metadata": {},
     "output_type": "execute_result"
    }
   ],
   "source": [
    "print(\"Product with Positive Increase Rate:\")\n",
    "positive_increase.head()"
   ]
  },
  {
   "cell_type": "code",
   "execution_count": 1018,
   "id": "6e22667d",
   "metadata": {},
   "outputs": [
    {
     "name": "stdout",
     "output_type": "stream",
     "text": [
      "Product with Negative Increase Rate:\n"
     ]
    },
    {
     "data": {
      "text/html": [
       "<div>\n",
       "<style scoped>\n",
       "    .dataframe tbody tr th:only-of-type {\n",
       "        vertical-align: middle;\n",
       "    }\n",
       "\n",
       "    .dataframe tbody tr th {\n",
       "        vertical-align: top;\n",
       "    }\n",
       "\n",
       "    .dataframe thead th {\n",
       "        text-align: right;\n",
       "    }\n",
       "</style>\n",
       "<table border=\"1\" class=\"dataframe\">\n",
       "  <thead>\n",
       "    <tr style=\"text-align: right;\">\n",
       "      <th></th>\n",
       "      <th>brand</th>\n",
       "      <th>reference</th>\n",
       "      <th>collection</th>\n",
       "      <th>price_USD_2021</th>\n",
       "      <th>price_USD_2025</th>\n",
       "      <th>Price Difference</th>\n",
       "      <th>Increase Rate (%)</th>\n",
       "      <th>CAGR (%)</th>\n",
       "    </tr>\n",
       "  </thead>\n",
       "  <tbody>\n",
       "  </tbody>\n",
       "</table>\n",
       "</div>"
      ],
      "text/plain": [
       "Empty DataFrame\n",
       "Columns: [brand, reference, collection, price_USD_2021, price_USD_2025, Price Difference, Increase Rate (%), CAGR (%)]\n",
       "Index: []"
      ]
     },
     "execution_count": 1018,
     "metadata": {},
     "output_type": "execute_result"
    }
   ],
   "source": [
    "print(\"Product with Negative Increase Rate:\")\n",
    "negative_increase.head()"
   ]
  },
  {
   "cell_type": "markdown",
   "id": "81955ff0",
   "metadata": {},
   "source": [
    "#### Identify Products with Extreme Growth Rates"
   ]
  },
  {
   "cell_type": "code",
   "execution_count": 1019,
   "id": "2003e0fa",
   "metadata": {},
   "outputs": [],
   "source": [
    "product_highest_increase_rate, product_lowest_increase_rate = get_extreme_products(data_2021_2025_country_ref)"
   ]
  },
  {
   "cell_type": "code",
   "execution_count": 1020,
   "id": "4ce6d0ed",
   "metadata": {},
   "outputs": [
    {
     "name": "stdout",
     "output_type": "stream",
     "text": [
      "Product with the Highest Increase Rate:\n"
     ]
    },
    {
     "data": {
      "text/html": [
       "<div>\n",
       "<style scoped>\n",
       "    .dataframe tbody tr th:only-of-type {\n",
       "        vertical-align: middle;\n",
       "    }\n",
       "\n",
       "    .dataframe tbody tr th {\n",
       "        vertical-align: top;\n",
       "    }\n",
       "\n",
       "    .dataframe thead th {\n",
       "        text-align: right;\n",
       "    }\n",
       "</style>\n",
       "<table border=\"1\" class=\"dataframe\">\n",
       "  <thead>\n",
       "    <tr style=\"text-align: right;\">\n",
       "      <th></th>\n",
       "      <th>brand</th>\n",
       "      <th>reference</th>\n",
       "      <th>collection</th>\n",
       "      <th>price_USD_2021</th>\n",
       "      <th>price_USD_2025</th>\n",
       "      <th>Price Difference</th>\n",
       "      <th>Increase Rate (%)</th>\n",
       "      <th>CAGR (%)</th>\n",
       "    </tr>\n",
       "  </thead>\n",
       "  <tbody>\n",
       "    <tr>\n",
       "      <th>0</th>\n",
       "      <td>PANERAI</td>\n",
       "      <td>PAM01250</td>\n",
       "      <td>Luminor Due</td>\n",
       "      <td>5188.964</td>\n",
       "      <td>7308.4</td>\n",
       "      <td>2119.436</td>\n",
       "      <td>40.84507</td>\n",
       "      <td>8.939509</td>\n",
       "    </tr>\n",
       "  </tbody>\n",
       "</table>\n",
       "</div>"
      ],
      "text/plain": [
       "     brand reference   collection  price_USD_2021  price_USD_2025  \\\n",
       "0  PANERAI  PAM01250  Luminor Due        5188.964          7308.4   \n",
       "\n",
       "   Price Difference  Increase Rate (%)  CAGR (%)  \n",
       "0          2119.436           40.84507  8.939509  "
      ]
     },
     "execution_count": 1020,
     "metadata": {},
     "output_type": "execute_result"
    }
   ],
   "source": [
    "# Product with the highest increase rate\n",
    "print(\"Product with the Highest Increase Rate:\")\n",
    "product_highest_increase_rate.head()"
   ]
  },
  {
   "cell_type": "code",
   "execution_count": 1021,
   "id": "e2d9f107",
   "metadata": {
    "scrolled": true
   },
   "outputs": [
    {
     "name": "stdout",
     "output_type": "stream",
     "text": [
      "\n",
      "Product with the Lowest Increase Rate:\n"
     ]
    },
    {
     "data": {
      "text/html": [
       "<div>\n",
       "<style scoped>\n",
       "    .dataframe tbody tr th:only-of-type {\n",
       "        vertical-align: middle;\n",
       "    }\n",
       "\n",
       "    .dataframe tbody tr th {\n",
       "        vertical-align: top;\n",
       "    }\n",
       "\n",
       "    .dataframe thead th {\n",
       "        text-align: right;\n",
       "    }\n",
       "</style>\n",
       "<table border=\"1\" class=\"dataframe\">\n",
       "  <thead>\n",
       "    <tr style=\"text-align: right;\">\n",
       "      <th></th>\n",
       "      <th>brand</th>\n",
       "      <th>reference</th>\n",
       "      <th>collection</th>\n",
       "      <th>price_USD_2021</th>\n",
       "      <th>price_USD_2025</th>\n",
       "      <th>Price Difference</th>\n",
       "      <th>Increase Rate (%)</th>\n",
       "      <th>CAGR (%)</th>\n",
       "    </tr>\n",
       "  </thead>\n",
       "  <tbody>\n",
       "    <tr>\n",
       "      <th>0</th>\n",
       "      <td>PANERAI</td>\n",
       "      <td>PAM00715</td>\n",
       "      <td>Luminor</td>\n",
       "      <td>54593.748</td>\n",
       "      <td>70599.144</td>\n",
       "      <td>16005.396</td>\n",
       "      <td>29.317269</td>\n",
       "      <td>6.638525</td>\n",
       "    </tr>\n",
       "  </tbody>\n",
       "</table>\n",
       "</div>"
      ],
      "text/plain": [
       "     brand reference collection  price_USD_2021  price_USD_2025  \\\n",
       "0  PANERAI  PAM00715    Luminor       54593.748       70599.144   \n",
       "\n",
       "   Price Difference  Increase Rate (%)  CAGR (%)  \n",
       "0         16005.396          29.317269  6.638525  "
      ]
     },
     "execution_count": 1021,
     "metadata": {},
     "output_type": "execute_result"
    }
   ],
   "source": [
    "# Product with the lowest increase rate\n",
    "print(\"\\nProduct with the Lowest Increase Rate:\")\n",
    "product_lowest_increase_rate.head()"
   ]
  },
  {
   "cell_type": "markdown",
   "id": "3593778b",
   "metadata": {},
   "source": [
    "#### Count Products by Increase Direction"
   ]
  },
  {
   "cell_type": "code",
   "execution_count": 1022,
   "id": "00e792ba",
   "metadata": {},
   "outputs": [],
   "source": [
    "data_2021_2025_grouped_mean, data_2021_2025_grouped_median = group_metrics_by_country(data_2021_2025_country_ref)"
   ]
  },
  {
   "cell_type": "code",
   "execution_count": 1023,
   "id": "e0cbca7a",
   "metadata": {},
   "outputs": [
    {
     "name": "stdout",
     "output_type": "stream",
     "text": [
      "\n",
      "Grouped Mean Metrics by Collection and Reference:\n"
     ]
    },
    {
     "data": {
      "text/html": [
       "<div>\n",
       "<style scoped>\n",
       "    .dataframe tbody tr th:only-of-type {\n",
       "        vertical-align: middle;\n",
       "    }\n",
       "\n",
       "    .dataframe tbody tr th {\n",
       "        vertical-align: top;\n",
       "    }\n",
       "\n",
       "    .dataframe thead th {\n",
       "        text-align: right;\n",
       "    }\n",
       "</style>\n",
       "<table border=\"1\" class=\"dataframe\">\n",
       "  <thead>\n",
       "    <tr style=\"text-align: right;\">\n",
       "      <th></th>\n",
       "      <th>collection</th>\n",
       "      <th>reference</th>\n",
       "      <th>price_USD_2021</th>\n",
       "      <th>price_USD_2025</th>\n",
       "      <th>Price Difference</th>\n",
       "      <th>Increase Rate (%)</th>\n",
       "      <th>CAGR (%)</th>\n",
       "    </tr>\n",
       "  </thead>\n",
       "  <tbody>\n",
       "    <tr>\n",
       "      <th>0</th>\n",
       "      <td>Luminor</td>\n",
       "      <td>PAM00422</td>\n",
       "      <td>8112.324</td>\n",
       "      <td>11328.020</td>\n",
       "      <td>3215.696</td>\n",
       "      <td>39.639640</td>\n",
       "      <td>8.705666</td>\n",
       "    </tr>\n",
       "    <tr>\n",
       "      <th>1</th>\n",
       "      <td>Luminor</td>\n",
       "      <td>PAM00670</td>\n",
       "      <td>18271.000</td>\n",
       "      <td>24117.720</td>\n",
       "      <td>5846.720</td>\n",
       "      <td>32.000000</td>\n",
       "      <td>7.187337</td>\n",
       "    </tr>\n",
       "    <tr>\n",
       "      <th>2</th>\n",
       "      <td>Luminor</td>\n",
       "      <td>PAM00715</td>\n",
       "      <td>54593.748</td>\n",
       "      <td>70599.144</td>\n",
       "      <td>16005.396</td>\n",
       "      <td>29.317269</td>\n",
       "      <td>6.638525</td>\n",
       "    </tr>\n",
       "    <tr>\n",
       "      <th>3</th>\n",
       "      <td>Luminor</td>\n",
       "      <td>PAM00742</td>\n",
       "      <td>38003.680</td>\n",
       "      <td>51012.632</td>\n",
       "      <td>13008.952</td>\n",
       "      <td>34.230769</td>\n",
       "      <td>7.637356</td>\n",
       "    </tr>\n",
       "    <tr>\n",
       "      <th>4</th>\n",
       "      <td>Luminor</td>\n",
       "      <td>PAM00914</td>\n",
       "      <td>5115.880</td>\n",
       "      <td>7089.148</td>\n",
       "      <td>1973.268</td>\n",
       "      <td>38.571429</td>\n",
       "      <td>8.497173</td>\n",
       "    </tr>\n",
       "  </tbody>\n",
       "</table>\n",
       "</div>"
      ],
      "text/plain": [
       "  collection reference  price_USD_2021  price_USD_2025  Price Difference  \\\n",
       "0    Luminor  PAM00422        8112.324       11328.020          3215.696   \n",
       "1    Luminor  PAM00670       18271.000       24117.720          5846.720   \n",
       "2    Luminor  PAM00715       54593.748       70599.144         16005.396   \n",
       "3    Luminor  PAM00742       38003.680       51012.632         13008.952   \n",
       "4    Luminor  PAM00914        5115.880        7089.148          1973.268   \n",
       "\n",
       "   Increase Rate (%)  CAGR (%)  \n",
       "0          39.639640  8.705666  \n",
       "1          32.000000  7.187337  \n",
       "2          29.317269  6.638525  \n",
       "3          34.230769  7.637356  \n",
       "4          38.571429  8.497173  "
      ]
     },
     "execution_count": 1023,
     "metadata": {},
     "output_type": "execute_result"
    }
   ],
   "source": [
    "print(f\"\\nGrouped Mean Metrics by Collection and Reference:\")\n",
    "data_2021_2025_grouped_mean.head()"
   ]
  },
  {
   "cell_type": "code",
   "execution_count": 1024,
   "id": "b8e97a5a",
   "metadata": {
    "scrolled": false
   },
   "outputs": [
    {
     "name": "stdout",
     "output_type": "stream",
     "text": [
      "\n",
      "Grouped Median Metrics by Collection and Reference:\n"
     ]
    },
    {
     "data": {
      "text/html": [
       "<div>\n",
       "<style scoped>\n",
       "    .dataframe tbody tr th:only-of-type {\n",
       "        vertical-align: middle;\n",
       "    }\n",
       "\n",
       "    .dataframe tbody tr th {\n",
       "        vertical-align: top;\n",
       "    }\n",
       "\n",
       "    .dataframe thead th {\n",
       "        text-align: right;\n",
       "    }\n",
       "</style>\n",
       "<table border=\"1\" class=\"dataframe\">\n",
       "  <thead>\n",
       "    <tr style=\"text-align: right;\">\n",
       "      <th></th>\n",
       "      <th>collection</th>\n",
       "      <th>reference</th>\n",
       "      <th>price_USD_2021</th>\n",
       "      <th>price_USD_2025</th>\n",
       "      <th>Price Difference</th>\n",
       "      <th>Increase Rate (%)</th>\n",
       "      <th>CAGR (%)</th>\n",
       "    </tr>\n",
       "  </thead>\n",
       "  <tbody>\n",
       "    <tr>\n",
       "      <th>0</th>\n",
       "      <td>Luminor</td>\n",
       "      <td>PAM00422</td>\n",
       "      <td>8112.324</td>\n",
       "      <td>11328.020</td>\n",
       "      <td>3215.696</td>\n",
       "      <td>39.639640</td>\n",
       "      <td>8.705666</td>\n",
       "    </tr>\n",
       "    <tr>\n",
       "      <th>1</th>\n",
       "      <td>Luminor</td>\n",
       "      <td>PAM00670</td>\n",
       "      <td>18271.000</td>\n",
       "      <td>24117.720</td>\n",
       "      <td>5846.720</td>\n",
       "      <td>32.000000</td>\n",
       "      <td>7.187337</td>\n",
       "    </tr>\n",
       "    <tr>\n",
       "      <th>2</th>\n",
       "      <td>Luminor</td>\n",
       "      <td>PAM00715</td>\n",
       "      <td>54593.748</td>\n",
       "      <td>70599.144</td>\n",
       "      <td>16005.396</td>\n",
       "      <td>29.317269</td>\n",
       "      <td>6.638525</td>\n",
       "    </tr>\n",
       "    <tr>\n",
       "      <th>3</th>\n",
       "      <td>Luminor</td>\n",
       "      <td>PAM00742</td>\n",
       "      <td>38003.680</td>\n",
       "      <td>51012.632</td>\n",
       "      <td>13008.952</td>\n",
       "      <td>34.230769</td>\n",
       "      <td>7.637356</td>\n",
       "    </tr>\n",
       "    <tr>\n",
       "      <th>4</th>\n",
       "      <td>Luminor</td>\n",
       "      <td>PAM00914</td>\n",
       "      <td>5115.880</td>\n",
       "      <td>7089.148</td>\n",
       "      <td>1973.268</td>\n",
       "      <td>38.571429</td>\n",
       "      <td>8.497173</td>\n",
       "    </tr>\n",
       "  </tbody>\n",
       "</table>\n",
       "</div>"
      ],
      "text/plain": [
       "  collection reference  price_USD_2021  price_USD_2025  Price Difference  \\\n",
       "0    Luminor  PAM00422        8112.324       11328.020          3215.696   \n",
       "1    Luminor  PAM00670       18271.000       24117.720          5846.720   \n",
       "2    Luminor  PAM00715       54593.748       70599.144         16005.396   \n",
       "3    Luminor  PAM00742       38003.680       51012.632         13008.952   \n",
       "4    Luminor  PAM00914        5115.880        7089.148          1973.268   \n",
       "\n",
       "   Increase Rate (%)  CAGR (%)  \n",
       "0          39.639640  8.705666  \n",
       "1          32.000000  7.187337  \n",
       "2          29.317269  6.638525  \n",
       "3          34.230769  7.637356  \n",
       "4          38.571429  8.497173  "
      ]
     },
     "execution_count": 1024,
     "metadata": {},
     "output_type": "execute_result"
    }
   ],
   "source": [
    "print(f\"\\nGrouped Median Metrics by Collection and Reference:\")\n",
    "data_2021_2025_grouped_median.head()"
   ]
  },
  {
   "cell_type": "markdown",
   "id": "cfcda6cb",
   "metadata": {},
   "source": [
    "### 3.2. From 2021 to 2025: Products That Vanished"
   ]
  },
  {
   "cell_type": "code",
   "execution_count": 1025,
   "id": "e53d51b5",
   "metadata": {},
   "outputs": [
    {
     "data": {
      "text/html": [
       "<div>\n",
       "<style scoped>\n",
       "    .dataframe tbody tr th:only-of-type {\n",
       "        vertical-align: middle;\n",
       "    }\n",
       "\n",
       "    .dataframe tbody tr th {\n",
       "        vertical-align: top;\n",
       "    }\n",
       "\n",
       "    .dataframe thead th {\n",
       "        text-align: right;\n",
       "    }\n",
       "</style>\n",
       "<table border=\"1\" class=\"dataframe\">\n",
       "  <thead>\n",
       "    <tr style=\"text-align: right;\">\n",
       "      <th></th>\n",
       "      <th>brand</th>\n",
       "      <th>url</th>\n",
       "      <th>image_url</th>\n",
       "      <th>collection</th>\n",
       "      <th>reference</th>\n",
       "      <th>price</th>\n",
       "      <th>currency</th>\n",
       "      <th>country</th>\n",
       "      <th>year</th>\n",
       "      <th>price_GBP</th>\n",
       "      <th>price_USD</th>\n",
       "      <th>price_JPY</th>\n",
       "      <th>price_EUR</th>\n",
       "    </tr>\n",
       "  </thead>\n",
       "  <tbody>\n",
       "    <tr>\n",
       "      <th>0</th>\n",
       "      <td>Panerai</td>\n",
       "      <td>https://www.panerai.com/fr/fr/collections/watc...</td>\n",
       "      <td>https://www.panerai.com/content/dam/rcq/pan/10...</td>\n",
       "      <td>RADIOMIR</td>\n",
       "      <td>PAM00655</td>\n",
       "      <td>9700.0</td>\n",
       "      <td>EUR</td>\n",
       "      <td>France</td>\n",
       "      <td>2021</td>\n",
       "      <td>8007.35</td>\n",
       "      <td>10074.42</td>\n",
       "      <td>1516206.03</td>\n",
       "      <td>9700.0</td>\n",
       "    </tr>\n",
       "    <tr>\n",
       "      <th>1</th>\n",
       "      <td>Panerai</td>\n",
       "      <td>https://www.panerai.com/fr/fr/collections/watc...</td>\n",
       "      <td>https://www.panerai.com/content/dam/rcq/pan/11...</td>\n",
       "      <td>RADIOMIR</td>\n",
       "      <td>PAM00628</td>\n",
       "      <td>11600.0</td>\n",
       "      <td>EUR</td>\n",
       "      <td>France</td>\n",
       "      <td>2021</td>\n",
       "      <td>9575.80</td>\n",
       "      <td>12047.76</td>\n",
       "      <td>1813194.84</td>\n",
       "      <td>11600.0</td>\n",
       "    </tr>\n",
       "    <tr>\n",
       "      <th>2</th>\n",
       "      <td>Panerai</td>\n",
       "      <td>https://www.panerai.com/fr/fr/collections/watc...</td>\n",
       "      <td>https://www.panerai.com/content/dam/rcq/pan/11...</td>\n",
       "      <td>RADIOMIR</td>\n",
       "      <td>PAM00657</td>\n",
       "      <td>11400.0</td>\n",
       "      <td>EUR</td>\n",
       "      <td>France</td>\n",
       "      <td>2021</td>\n",
       "      <td>9410.70</td>\n",
       "      <td>11840.04</td>\n",
       "      <td>1781932.86</td>\n",
       "      <td>11400.0</td>\n",
       "    </tr>\n",
       "    <tr>\n",
       "      <th>3</th>\n",
       "      <td>Panerai</td>\n",
       "      <td>https://www.panerai.com/fr/fr/collections/watc...</td>\n",
       "      <td>https://www.panerai.com/content/dam/rcq/pan/13...</td>\n",
       "      <td>LUMINOR</td>\n",
       "      <td>PAM00661</td>\n",
       "      <td>11900.0</td>\n",
       "      <td>EUR</td>\n",
       "      <td>France</td>\n",
       "      <td>2021</td>\n",
       "      <td>9823.45</td>\n",
       "      <td>12359.34</td>\n",
       "      <td>1860087.81</td>\n",
       "      <td>11900.0</td>\n",
       "    </tr>\n",
       "    <tr>\n",
       "      <th>5</th>\n",
       "      <td>Panerai</td>\n",
       "      <td>https://www.panerai.com/fr/fr/collections/watc...</td>\n",
       "      <td>https://www.panerai.com/content/dam/rcq/pan/13...</td>\n",
       "      <td>LUMINOR</td>\n",
       "      <td>PAM01499</td>\n",
       "      <td>7900.0</td>\n",
       "      <td>EUR</td>\n",
       "      <td>France</td>\n",
       "      <td>2021</td>\n",
       "      <td>6521.45</td>\n",
       "      <td>8204.94</td>\n",
       "      <td>1234848.21</td>\n",
       "      <td>7900.0</td>\n",
       "    </tr>\n",
       "  </tbody>\n",
       "</table>\n",
       "</div>"
      ],
      "text/plain": [
       "     brand                                                url  \\\n",
       "0  Panerai  https://www.panerai.com/fr/fr/collections/watc...   \n",
       "1  Panerai  https://www.panerai.com/fr/fr/collections/watc...   \n",
       "2  Panerai  https://www.panerai.com/fr/fr/collections/watc...   \n",
       "3  Panerai  https://www.panerai.com/fr/fr/collections/watc...   \n",
       "5  Panerai  https://www.panerai.com/fr/fr/collections/watc...   \n",
       "\n",
       "                                           image_url collection reference  \\\n",
       "0  https://www.panerai.com/content/dam/rcq/pan/10...   RADIOMIR  PAM00655   \n",
       "1  https://www.panerai.com/content/dam/rcq/pan/11...   RADIOMIR  PAM00628   \n",
       "2  https://www.panerai.com/content/dam/rcq/pan/11...   RADIOMIR  PAM00657   \n",
       "3  https://www.panerai.com/content/dam/rcq/pan/13...    LUMINOR  PAM00661   \n",
       "5  https://www.panerai.com/content/dam/rcq/pan/13...    LUMINOR  PAM01499   \n",
       "\n",
       "     price currency country  year  price_GBP  price_USD   price_JPY  price_EUR  \n",
       "0   9700.0      EUR  France  2021    8007.35   10074.42  1516206.03     9700.0  \n",
       "1  11600.0      EUR  France  2021    9575.80   12047.76  1813194.84    11600.0  \n",
       "2  11400.0      EUR  France  2021    9410.70   11840.04  1781932.86    11400.0  \n",
       "3  11900.0      EUR  France  2021    9823.45   12359.34  1860087.81    11900.0  \n",
       "5   7900.0      EUR  France  2021    6521.45    8204.94  1234848.21     7900.0  "
      ]
     },
     "execution_count": 1025,
     "metadata": {},
     "output_type": "execute_result"
    }
   ],
   "source": [
    "data_2021_only = data_2021[~data_2021['reference'].isin(data_2025['reference'])]\n",
    "data_2021_only.to_csv(\"../data/silver/Exclusive_watches_2021.csv\", index=False)\n",
    "data_2021_only.to_csv(\"../data/gold/Exclusive_watches_2021.csv\", index=False)\n",
    "\n",
    "data_2021_only.head()"
   ]
  },
  {
   "cell_type": "code",
   "execution_count": 1026,
   "id": "9cf4a5b0",
   "metadata": {
    "scrolled": true
   },
   "outputs": [],
   "source": [
    "stats = data_2021_only.describe(include=\"object\")"
   ]
  },
  {
   "cell_type": "code",
   "execution_count": 1027,
   "id": "84a74eed",
   "metadata": {},
   "outputs": [
    {
     "name": "stdout",
     "output_type": "stream",
     "text": [
      "Overall Summary:\n",
      "\n",
      "Total Number of Products from 2021 No Longer Available: 58\n",
      "\n",
      "We have 4 collections, and LUMINOR is the leading one\n",
      "\n",
      "Catalog of Collections:\n",
      "1. RADIOMIR\n",
      "2. LUMINOR\n",
      "3. SUBMERSIBLE\n",
      "4. LUMINOR-DUE\n",
      "\n",
      "We have a total of 176 distinct products, with PAM00233 leading the selection from the LUMINOR collection\n"
     ]
    }
   ],
   "source": [
    "number_unique_collections, top_collection, _, top_reference, collection_list = describe_country(data_2021_only)\n",
    "\n",
    "print(\"Overall Summary:\\n\")\n",
    "print(f\"Total Number of Products from 2021 No Longer Available: {len(set(data_2021.reference.values)) - len(set(data_2025.reference.values))}\")\n",
    "\n",
    "if number_unique_collections == 1:\n",
    "    print(f\"\\nThere is a unique collection, named {top_collection}\")\n",
    "else:\n",
    "    print(f\"\\nWe have {number_unique_collections} collections, and {top_collection} is the leading one\")\n",
    "\n",
    "print(\"\\nCatalog of Collections:\")\n",
    "print(\"\\n\".join([f\"{i+1}. {collection}\" for i, collection in enumerate(collection_list)]))\n",
    "\n",
    "if number_unique_references == 1:\n",
    "    print(f\"\\nThere is a unique reference: {top_reference}\")\n",
    "else:\n",
    "    # Use the original data for lookup, not the summary!\n",
    "    collection_for_top_reference = data_2021_only[data_2021_only['reference'] == top_reference]['collection'].iloc[0]\n",
    "    print(f\"\\nWe have a total of {number_unique_references} distinct products, with {top_reference} leading the selection from the {collection_for_top_reference} collection\")\n"
   ]
  },
  {
   "cell_type": "code",
   "execution_count": 1028,
   "id": "084728d0",
   "metadata": {},
   "outputs": [
    {
     "name": "stdout",
     "output_type": "stream",
     "text": [
      "Our study is applied to 4 countries, with Japan being the top one\n"
     ]
    }
   ],
   "source": [
    "# Countries\n",
    "number_unique_countries, top_country = stats[\"country\"].unique()[1], stats[\"country\"].unique()[2]\n",
    "if number_unique_countries == 1:\n",
    "    print(f\"Our study is applied to a unique country, {top_country}\")\n",
    "else:\n",
    "    print(f\"Our study is applied to {number_unique_countries} countries, with {top_country} being the top one\")"
   ]
  },
  {
   "cell_type": "code",
   "execution_count": 1029,
   "id": "ae1bdd6c",
   "metadata": {},
   "outputs": [
    {
     "name": "stdout",
     "output_type": "stream",
     "text": [
      "Countries Included in the Study:\n",
      "\n",
      "\t1. France\n",
      "\t2. UK\n",
      "\t3. Japan\n",
      "\t4. USA\n"
     ]
    }
   ],
   "source": [
    "countries_list = data_2021_only[\"country\"].unique()\n",
    "\n",
    "print(\"Countries Included in the Study:\\n\")\n",
    "for i in range(len(countries_list)):\n",
    "    print(f\"\\t{i+1}. {countries_list[i]}\")"
   ]
  },
  {
   "cell_type": "code",
   "execution_count": 1030,
   "id": "b937c1c3",
   "metadata": {},
   "outputs": [
    {
     "data": {
      "image/png": "[encoded data removed]",
      "text/plain": [
       "<Figure size 640x480 with 1 Axes>"
      ]
     },
     "metadata": {},
     "output_type": "display_data"
    }
   ],
   "source": [
    "collection_visualization(data_2021_only, country)"
   ]
  },
  {
   "cell_type": "markdown",
   "id": "8e772585",
   "metadata": {},
   "source": [
    "#### 3.2.1. Analysis for a given country"
   ]
  },
  {
   "cell_type": "markdown",
   "id": "f11a4ee3",
   "metadata": {},
   "source": [
    "#### 3.2.1.1. France"
   ]
  },
  {
   "cell_type": "code",
   "execution_count": 1031,
   "id": "a3cdfadb",
   "metadata": {
    "scrolled": true
   },
   "outputs": [],
   "source": [
    "country = \"France\"\n",
    "\n",
    "data_2021_country = data_2021[data_2021['country'] == country]\n",
    "data_2025_country = data_2025[data_2025['country'] == country]\n",
    "data_2021_only_country = data_2021_only[data_2021_only['country'] == country]"
   ]
  },
  {
   "cell_type": "code",
   "execution_count": 1032,
   "id": "0b0e2922",
   "metadata": {},
   "outputs": [
    {
     "name": "stdout",
     "output_type": "stream",
     "text": [
      "Overall Summary:\n",
      "\n",
      "Total Number of Products from 2021 No Longer Available: 7\n",
      "\n",
      "We have 4 collections, and LUMINOR is the leading one\n",
      "\n",
      "Catalog of Collections:\n",
      "1. RADIOMIR\n",
      "2. LUMINOR\n",
      "3. SUBMERSIBLE\n",
      "4. LUMINOR-DUE\n",
      "\n",
      "We have a total of 176 distinct products, with PAM00233 leading the selection from the LUMINOR collection\n"
     ]
    }
   ],
   "source": [
    "number_unique_collections, top_collection, _, top_reference, collection_list = describe_country(data_2021_only_country)\n",
    "\n",
    "print(\"Overall Summary:\\n\")\n",
    "print(f\"Total Number of Products from 2021 No Longer Available: {len(set(data_2021_country.reference.values)) - len(set(data_2025_country.reference.values))}\")\n",
    "\n",
    "if number_unique_collections == 1:\n",
    "    print(f\"\\nThere is a unique collection, named {top_collection}\")\n",
    "else:\n",
    "    print(f\"\\nWe have {number_unique_collections} collections, and {top_collection} is the leading one\")\n",
    "\n",
    "print(\"\\nCatalog of Collections:\")\n",
    "print(\"\\n\".join([f\"{i+1}. {collection}\" for i, collection in enumerate(collection_list)]))\n",
    "\n",
    "if number_unique_references == 1:\n",
    "    print(f\"\\nThere is a unique reference: {top_reference}\")\n",
    "else:\n",
    "    # Use the original data for lookup, not the summary!\n",
    "    collection_for_top_reference = data_2021_only[data_2021_only['reference'] == top_reference]['collection'].iloc[0]\n",
    "    print(f\"\\nWe have a total of {number_unique_references} distinct products, with {top_reference} leading the selection from the {collection_for_top_reference} collection\")\n"
   ]
  },
  {
   "cell_type": "code",
   "execution_count": 1033,
   "id": "4562f883",
   "metadata": {
    "scrolled": true
   },
   "outputs": [
    {
     "data": {
      "image/png": "[encoded data removed]",
      "text/plain": [
       "<Figure size 640x480 with 1 Axes>"
      ]
     },
     "metadata": {},
     "output_type": "display_data"
    }
   ],
   "source": [
    "collection_visualization(data_2021_only_country, country)"
   ]
  },
  {
   "cell_type": "code",
   "execution_count": 1034,
   "id": "5f2fa8db",
   "metadata": {},
   "outputs": [],
   "source": [
    "overall_stats, collection_stats = analyze_country(data_2021_only_country)"
   ]
  },
  {
   "cell_type": "markdown",
   "id": "8c69b2b1",
   "metadata": {},
   "source": [
    "#### Identify the cheapest and most expensive product in the whole subset"
   ]
  },
  {
   "cell_type": "code",
   "execution_count": 1035,
   "id": "ca91148c",
   "metadata": {},
   "outputs": [
    {
     "name": "stdout",
     "output_type": "stream",
     "text": [
      "\n",
      "Cheapest and most expensive product in France:\n",
      "  Cheapest -> Collection: RADIOMIR, Reference: PAM00753, Price: 4400.0 EUR\n",
      "  Most Expensive -> Collection: SUBMERSIBLE, Reference: PAM01108, Price: 190000.0 EUR\n"
     ]
    }
   ],
   "source": [
    "print(f\"\\nCheapest and most expensive product in {country}:\")\n",
    "print(f\"  Cheapest -> Collection: {overall_stats['cheapest']['collection']}, Reference: {overall_stats['cheapest']['reference']}, Price: {overall_stats['cheapest']['price']} {(data_2021_only['currency'][data_2021_only['country'] == country]).unique()[0]}\")\n",
    "print(f\"  Most Expensive -> Collection: {overall_stats['most_expensive']['collection']}, Reference: {overall_stats['most_expensive']['reference']}, Price: {overall_stats['most_expensive']['price']} {(data_2021_only['currency'][data_2021_only['country'] == country]).unique()[0]}\")"
   ]
  },
  {
   "cell_type": "markdown",
   "id": "0d21d3ca",
   "metadata": {},
   "source": [
    "#### Identify the cheapest and most expensive product per collection"
   ]
  },
  {
   "cell_type": "code",
   "execution_count": 1036,
   "id": "9ba248e8",
   "metadata": {
    "scrolled": true
   },
   "outputs": [
    {
     "name": "stdout",
     "output_type": "stream",
     "text": [
      "Collection: RADIOMIR\n",
      "  Cheapest -> Reference: PAM00753, Price: 4400.0 EUR\n",
      "  Most Expensive -> Reference: PAM00997, Price: 12900.0 EUR\n",
      "\n",
      "--------------------------------------------------\n",
      "\n",
      "Collection: LUMINOR\n",
      "  Cheapest -> Reference: PAM00774, Price: 4900.0 EUR\n",
      "  Most Expensive -> Reference: PAM00768, Price: 145000.0 EUR\n",
      "\n",
      "--------------------------------------------------\n",
      "\n",
      "Collection: SUBMERSIBLE\n",
      "  Cheapest -> Reference: PAM00973, Price: 8700.0 EUR\n",
      "  Most Expensive -> Reference: PAM01108, Price: 190000.0 EUR\n",
      "\n",
      "--------------------------------------------------\n",
      "\n",
      "Collection: LUMINOR-DUE\n",
      "  Cheapest -> Reference: PAM00755, Price: 6100.0 EUR\n",
      "  Most Expensive -> Reference: PAM00741, Price: 21500.0 EUR\n",
      "\n",
      "--------------------------------------------------\n",
      "\n"
     ]
    }
   ],
   "source": [
    "for stat in collection_stats:\n",
    "    print(f\"Collection: {stat['collection']}\")\n",
    "    print(f\"  Cheapest -> Reference: {stat['cheapest']['reference']}, Price: {stat['cheapest']['price']} {(data_2021_only['currency'][data_2021_only['country'] == country]).unique()[0]}\")\n",
    "    print(f\"  Most Expensive -> Reference: {stat['most_expensive']['reference']}, Price: {stat['most_expensive']['price']} {(data_2021_only['currency'][data_2021_only['country'] == country]).unique()[0]}\")\n",
    "    print(\"\\n\"+\"-\"*50+\"\\n\")"
   ]
  },
  {
   "cell_type": "markdown",
   "id": "19ba9b01",
   "metadata": {},
   "source": [
    "#### 3.2.1.2. USA"
   ]
  },
  {
   "cell_type": "code",
   "execution_count": 1037,
   "id": "5910c144",
   "metadata": {
    "scrolled": true
   },
   "outputs": [],
   "source": [
    "country = \"USA\"\n",
    "\n",
    "data_2021_country = data_2021[data_2021['country'] == country]\n",
    "data_2025_country = data_2025[data_2025['country'] == country]\n",
    "data_2021_only_country = data_2021_only[data_2021_only['country'] == country]"
   ]
  },
  {
   "cell_type": "code",
   "execution_count": 1038,
   "id": "f96a3dcc",
   "metadata": {},
   "outputs": [
    {
     "name": "stdout",
     "output_type": "stream",
     "text": [
      "Overall Summary:\n",
      "\n",
      "Total Number of Products from 2021 No Longer Available: 29\n",
      "\n",
      "We have 4 collections, and LUMINOR is the leading one\n",
      "\n",
      "Catalog of Collections:\n",
      "1. RADIOMIR\n",
      "2. LUMINOR\n",
      "3. LUMINOR-DUE\n",
      "4. SUBMERSIBLE\n",
      "\n",
      "We have a total of 176 distinct products, with PAM00233 leading the selection from the LUMINOR collection\n"
     ]
    }
   ],
   "source": [
    "number_unique_collections, top_collection, _, top_reference, collection_list = describe_country(data_2021_only_country)\n",
    "\n",
    "print(\"Overall Summary:\\n\")\n",
    "print(f\"Total Number of Products from 2021 No Longer Available: {len(set(data_2021_country.reference.values)) - len(set(data_2025_country.reference.values))}\")\n",
    "\n",
    "if number_unique_collections == 1:\n",
    "    print(f\"\\nThere is a unique collection, named {top_collection}\")\n",
    "else:\n",
    "    print(f\"\\nWe have {number_unique_collections} collections, and {top_collection} is the leading one\")\n",
    "\n",
    "print(\"\\nCatalog of Collections:\")\n",
    "print(\"\\n\".join([f\"{i+1}. {collection}\" for i, collection in enumerate(collection_list)]))\n",
    "\n",
    "if number_unique_references == 1:\n",
    "    print(f\"\\nThere is a unique reference: {top_reference}\")\n",
    "else:\n",
    "    # Use the original data for lookup, not the summary!\n",
    "    collection_for_top_reference = data_2021_only[data_2021_only['reference'] == top_reference]['collection'].iloc[0]\n",
    "    print(f\"\\nWe have a total of {number_unique_references} distinct products, with {top_reference} leading the selection from the {collection_for_top_reference} collection\")\n"
   ]
  },
  {
   "cell_type": "code",
   "execution_count": 1039,
   "id": "e0f3557f",
   "metadata": {
    "scrolled": true
   },
   "outputs": [
    {
     "data": {
      "image/png": "[encoded data removed]",
      "text/plain": [
       "<Figure size 640x480 with 1 Axes>"
      ]
     },
     "metadata": {},
     "output_type": "display_data"
    }
   ],
   "source": [
    "collection_visualization(data_2021_only_country, country)"
   ]
  },
  {
   "cell_type": "code",
   "execution_count": 1040,
   "id": "768c25e1",
   "metadata": {},
   "outputs": [],
   "source": [
    "overall_stats, collection_stats = analyze_country(data_2021_only_country)"
   ]
  },
  {
   "cell_type": "markdown",
   "id": "aa345f5f",
   "metadata": {},
   "source": [
    "#### Identify the cheapest and most expensive product in the whole subset"
   ]
  },
  {
   "cell_type": "code",
   "execution_count": 1041,
   "id": "5811ecce",
   "metadata": {
    "scrolled": true
   },
   "outputs": [
    {
     "name": "stdout",
     "output_type": "stream",
     "text": [
      "\n",
      "Cheapest and most expensive product in USA:\n",
      "  Cheapest -> Collection: RADIOMIR, Reference: PAM00753, Price: 5700.0 USD\n",
      "  Most Expensive -> Collection: SUBMERSIBLE, Reference: PAM01108, Price: 247700.0 USD\n"
     ]
    }
   ],
   "source": [
    "print(f\"\\nCheapest and most expensive product in {country}:\")\n",
    "print(f\"  Cheapest -> Collection: {overall_stats['cheapest']['collection']}, Reference: {overall_stats['cheapest']['reference']}, Price: {overall_stats['cheapest']['price']} {(data_2021_only['currency'][data_2021_only['country'] == country]).unique()[0]}\")\n",
    "print(f\"  Most Expensive -> Collection: {overall_stats['most_expensive']['collection']}, Reference: {overall_stats['most_expensive']['reference']}, Price: {overall_stats['most_expensive']['price']} {(data_2021_only['currency'][data_2021_only['country'] == country]).unique()[0]}\")"
   ]
  },
  {
   "cell_type": "markdown",
   "id": "62ae24a9",
   "metadata": {},
   "source": [
    "#### Identify the cheapest and most expensive product per collection"
   ]
  },
  {
   "cell_type": "code",
   "execution_count": 1042,
   "id": "3d5595c2",
   "metadata": {
    "scrolled": false
   },
   "outputs": [
    {
     "name": "stdout",
     "output_type": "stream",
     "text": [
      "Collection: RADIOMIR\n",
      "  Cheapest -> Reference: PAM00753, Price: 5700.0 USD\n",
      "  Most Expensive -> Reference: PAM00515, Price: 27200.0 USD\n",
      "\n",
      "--------------------------------------------------\n",
      "\n",
      "Collection: LUMINOR\n",
      "  Cheapest -> Reference: PAM00773, Price: 6400.0 USD\n",
      "  Most Expensive -> Reference: PAM00768, Price: 189000.0 USD\n",
      "\n",
      "--------------------------------------------------\n",
      "\n",
      "Collection: LUMINOR-DUE\n",
      "  Cheapest -> Reference: PAM00755, Price: 8000.0 USD\n",
      "  Most Expensive -> Reference: PAM00675, Price: 32100.0 USD\n",
      "\n",
      "--------------------------------------------------\n",
      "\n",
      "Collection: SUBMERSIBLE\n",
      "  Cheapest -> Reference: PAM00973, Price: 11300.0 USD\n",
      "  Most Expensive -> Reference: PAM01108, Price: 247700.0 USD\n",
      "\n",
      "--------------------------------------------------\n",
      "\n"
     ]
    }
   ],
   "source": [
    "for stat in collection_stats:\n",
    "    print(f\"Collection: {stat['collection']}\")\n",
    "    print(f\"  Cheapest -> Reference: {stat['cheapest']['reference']}, Price: {stat['cheapest']['price']} {(data_2021_only['currency'][data_2021_only['country'] == country]).unique()[0]}\")\n",
    "    print(f\"  Most Expensive -> Reference: {stat['most_expensive']['reference']}, Price: {stat['most_expensive']['price']} {(data_2021_only['currency'][data_2021_only['country'] == country]).unique()[0]}\")\n",
    "    print(\"\\n\"+\"-\"*50+\"\\n\")"
   ]
  },
  {
   "cell_type": "markdown",
   "id": "6c3f65e5",
   "metadata": {},
   "source": [
    "#### 3.2.1.3. UK"
   ]
  },
  {
   "cell_type": "code",
   "execution_count": 1043,
   "id": "f4a0395b",
   "metadata": {
    "scrolled": true
   },
   "outputs": [],
   "source": [
    "country = \"UK\"\n",
    "\n",
    "data_2021_country = data_2021[data_2021['country'] == country]\n",
    "data_2025_country = data_2025[data_2025['country'] == country]\n",
    "data_2021_only_country = data_2021_only[data_2021_only['country'] == country]"
   ]
  },
  {
   "cell_type": "code",
   "execution_count": 1044,
   "id": "b6c320b9",
   "metadata": {},
   "outputs": [
    {
     "name": "stdout",
     "output_type": "stream",
     "text": [
      "Overall Summary:\n",
      "\n",
      "Total Number of Products from 2021 No Longer Available: 7\n",
      "\n",
      "We have 4 collections, and LUMINOR is the leading one\n",
      "\n",
      "Catalog of Collections:\n",
      "1. RADIOMIR\n",
      "2. LUMINOR\n",
      "3. LUMINOR-DUE\n",
      "4. SUBMERSIBLE\n",
      "\n",
      "We have a total of 176 distinct products, with PAM00233 leading the selection from the LUMINOR collection\n"
     ]
    }
   ],
   "source": [
    "number_unique_collections, top_collection, _, top_reference, collection_list = describe_country(data_2021_only_country)\n",
    "\n",
    "print(\"Overall Summary:\\n\")\n",
    "print(f\"Total Number of Products from 2021 No Longer Available: {len(set(data_2021_country.reference.values)) - len(set(data_2025_country.reference.values))}\")\n",
    "\n",
    "if number_unique_collections == 1:\n",
    "    print(f\"\\nThere is a unique collection, named {top_collection}\")\n",
    "else:\n",
    "    print(f\"\\nWe have {number_unique_collections} collections, and {top_collection} is the leading one\")\n",
    "\n",
    "print(\"\\nCatalog of Collections:\")\n",
    "print(\"\\n\".join([f\"{i+1}. {collection}\" for i, collection in enumerate(collection_list)]))\n",
    "\n",
    "if number_unique_references == 1:\n",
    "    print(f\"\\nThere is a unique reference: {top_reference}\")\n",
    "else:\n",
    "    # Use the original data for lookup, not the summary!\n",
    "    collection_for_top_reference = data_2021_only[data_2021_only['reference'] == top_reference]['collection'].iloc[0]\n",
    "    print(f\"\\nWe have a total of {number_unique_references} distinct products, with {top_reference} leading the selection from the {collection_for_top_reference} collection\")\n"
   ]
  },
  {
   "cell_type": "code",
   "execution_count": 1045,
   "id": "7273601e",
   "metadata": {
    "scrolled": true
   },
   "outputs": [
    {
     "data": {
      "image/png": "[encoded data removed]",
      "text/plain": [
       "<Figure size 640x480 with 1 Axes>"
      ]
     },
     "metadata": {},
     "output_type": "display_data"
    }
   ],
   "source": [
    "collection_visualization(data_2021_only_country, country)"
   ]
  },
  {
   "cell_type": "code",
   "execution_count": 1046,
   "id": "d994ea40",
   "metadata": {},
   "outputs": [],
   "source": [
    "overall_stats, collection_stats = analyze_country(data_2021_only_country)"
   ]
  },
  {
   "cell_type": "markdown",
   "id": "1125aa75",
   "metadata": {},
   "source": [
    "#### Identify the cheapest and most expensive product in the whole subset"
   ]
  },
  {
   "cell_type": "code",
   "execution_count": 1047,
   "id": "e3c1efee",
   "metadata": {},
   "outputs": [
    {
     "name": "stdout",
     "output_type": "stream",
     "text": [
      "\n",
      "Cheapest and most expensive product in UK:\n",
      "  Cheapest -> Collection: RADIOMIR, Reference: PAM00753, Price: 3800.0 GBP\n",
      "  Most Expensive -> Collection: SUBMERSIBLE, Reference: PAM01108, Price: 169900.0 GBP\n"
     ]
    }
   ],
   "source": [
    "print(f\"\\nCheapest and most expensive product in {country}:\")\n",
    "print(f\"  Cheapest -> Collection: {overall_stats['cheapest']['collection']}, Reference: {overall_stats['cheapest']['reference']}, Price: {overall_stats['cheapest']['price']} {(data_2021_only['currency'][data_2021_only['country'] == country]).unique()[0]}\")\n",
    "print(f\"  Most Expensive -> Collection: {overall_stats['most_expensive']['collection']}, Reference: {overall_stats['most_expensive']['reference']}, Price: {overall_stats['most_expensive']['price']} {(data_2021_only['currency'][data_2021_only['country'] == country]).unique()[0]}\")"
   ]
  },
  {
   "cell_type": "markdown",
   "id": "33c94013",
   "metadata": {},
   "source": [
    "#### Identify the cheapest and most expensive product per collection"
   ]
  },
  {
   "cell_type": "code",
   "execution_count": 1048,
   "id": "d4b716ea",
   "metadata": {
    "scrolled": true
   },
   "outputs": [
    {
     "name": "stdout",
     "output_type": "stream",
     "text": [
      "Collection: RADIOMIR\n",
      "  Cheapest -> Reference: PAM00753, Price: 3800.0 GBP\n",
      "  Most Expensive -> Reference: PAM00997, Price: 11500.0 GBP\n",
      "\n",
      "--------------------------------------------------\n",
      "\n",
      "Collection: LUMINOR\n",
      "  Cheapest -> Reference: PAM00774, Price: 4300.0 GBP\n",
      "  Most Expensive -> Reference: PAM00768, Price: 130000.0 GBP\n",
      "\n",
      "--------------------------------------------------\n",
      "\n",
      "Collection: LUMINOR-DUE\n",
      "  Cheapest -> Reference: PAM00755, Price: 5500.0 GBP\n",
      "  Most Expensive -> Reference: PAM00675, Price: 22400.0 GBP\n",
      "\n",
      "--------------------------------------------------\n",
      "\n",
      "Collection: SUBMERSIBLE\n",
      "  Cheapest -> Reference: PAM00973, Price: 7600.0 GBP\n",
      "  Most Expensive -> Reference: PAM01108, Price: 169900.0 GBP\n",
      "\n",
      "--------------------------------------------------\n",
      "\n"
     ]
    }
   ],
   "source": [
    "for stat in collection_stats:\n",
    "    print(f\"Collection: {stat['collection']}\")\n",
    "    print(f\"  Cheapest -> Reference: {stat['cheapest']['reference']}, Price: {stat['cheapest']['price']} {(data_2021_only['currency'][data_2021_only['country'] == country]).unique()[0]}\")\n",
    "    print(f\"  Most Expensive -> Reference: {stat['most_expensive']['reference']}, Price: {stat['most_expensive']['price']} {(data_2021_only['currency'][data_2021_only['country'] == country]).unique()[0]}\")\n",
    "    print(\"\\n\"+\"-\"*50+\"\\n\")"
   ]
  },
  {
   "cell_type": "markdown",
   "id": "2920d55a",
   "metadata": {},
   "source": [
    "#### 3.2.1.4. Japan"
   ]
  },
  {
   "cell_type": "code",
   "execution_count": 1049,
   "id": "1ff2d952",
   "metadata": {
    "scrolled": true
   },
   "outputs": [],
   "source": [
    "country = \"Japan\"\n",
    "\n",
    "data_2021_country = data_2021[data_2021['country'] == country]\n",
    "data_2025_country = data_2025[data_2025['country'] == country]\n",
    "data_2021_only_country = data_2021_only[data_2021_only['country'] == country]"
   ]
  },
  {
   "cell_type": "code",
   "execution_count": 1050,
   "id": "087f761a",
   "metadata": {},
   "outputs": [
    {
     "name": "stdout",
     "output_type": "stream",
     "text": [
      "Overall Summary:\n",
      "\n",
      "Total Number of Products from 2021 No Longer Available: 54\n",
      "\n",
      "We have 4 collections, and LUMINOR is the leading one\n",
      "\n",
      "Catalog of Collections:\n",
      "1. RADIOMIR\n",
      "2. LUMINOR\n",
      "3. LUMINOR-DUE\n",
      "4. SUBMERSIBLE\n",
      "\n",
      "We have a total of 176 distinct products, with PAM00233 leading the selection from the LUMINOR collection\n"
     ]
    }
   ],
   "source": [
    "number_unique_collections, top_collection, _, top_reference, collection_list = describe_country(data_2021_only_country)\n",
    "\n",
    "print(\"Overall Summary:\\n\")\n",
    "print(f\"Total Number of Products from 2021 No Longer Available: {len(set(data_2021_country.reference.values)) - len(set(data_2025_country.reference.values))}\")\n",
    "\n",
    "if number_unique_collections == 1:\n",
    "    print(f\"\\nThere is a unique collection, named {top_collection}\")\n",
    "else:\n",
    "    print(f\"\\nWe have {number_unique_collections} collections, and {top_collection} is the leading one\")\n",
    "\n",
    "print(\"\\nCatalog of Collections:\")\n",
    "print(\"\\n\".join([f\"{i+1}. {collection}\" for i, collection in enumerate(collection_list)]))\n",
    "\n",
    "if number_unique_references == 1:\n",
    "    print(f\"\\nThere is a unique reference: {top_reference}\")\n",
    "else:\n",
    "    # Use the original data for lookup, not the summary!\n",
    "    collection_for_top_reference = data_2021_only[data_2021_only['reference'] == top_reference]['collection'].iloc[0]\n",
    "    print(f\"\\nWe have a total of {number_unique_references} distinct products, with {top_reference} leading the selection from the {collection_for_top_reference} collection\")\n"
   ]
  },
  {
   "cell_type": "code",
   "execution_count": 1051,
   "id": "096b02d0",
   "metadata": {
    "scrolled": true
   },
   "outputs": [
    {
     "data": {
      "image/png": "[encoded data removed]",
      "text/plain": [
       "<Figure size 640x480 with 1 Axes>"
      ]
     },
     "metadata": {},
     "output_type": "display_data"
    }
   ],
   "source": [
    "collection_visualization(data_2021_only_country, country)"
   ]
  },
  {
   "cell_type": "code",
   "execution_count": 1052,
   "id": "c47aefbc",
   "metadata": {},
   "outputs": [],
   "source": [
    "overall_stats, collection_stats = analyze_country(data_2021_only_country)"
   ]
  },
  {
   "cell_type": "markdown",
   "id": "7e908793",
   "metadata": {},
   "source": [
    "#### Identify the cheapest and most expensive product in the whole subset"
   ]
  },
  {
   "cell_type": "code",
   "execution_count": 1053,
   "id": "c587cb1e",
   "metadata": {},
   "outputs": [
    {
     "name": "stdout",
     "output_type": "stream",
     "text": [
      "\n",
      "Cheapest and most expensive product in Japan:\n",
      "  Cheapest -> Collection: RADIOMIR, Reference: PAM00753, Price: 550000.0 JPY\n",
      "  Most Expensive -> Collection: LUMINOR, Reference: PAM00768, Price: 18029000.0 JPY\n"
     ]
    }
   ],
   "source": [
    "print(f\"\\nCheapest and most expensive product in {country}:\")\n",
    "print(f\"  Cheapest -> Collection: {overall_stats['cheapest']['collection']}, Reference: {overall_stats['cheapest']['reference']}, Price: {overall_stats['cheapest']['price']} {(data_2021_only['currency'][data_2021_only['country'] == country]).unique()[0]}\")\n",
    "print(f\"  Most Expensive -> Collection: {overall_stats['most_expensive']['collection']}, Reference: {overall_stats['most_expensive']['reference']}, Price: {overall_stats['most_expensive']['price']} {(data_2021_only['currency'][data_2021_only['country'] == country]).unique()[0]}\")"
   ]
  },
  {
   "cell_type": "markdown",
   "id": "592985ec",
   "metadata": {},
   "source": [
    "#### Identify the cheapest and most expensive product per collection"
   ]
  },
  {
   "cell_type": "code",
   "execution_count": 1054,
   "id": "864cf7b4",
   "metadata": {
    "scrolled": true
   },
   "outputs": [
    {
     "name": "stdout",
     "output_type": "stream",
     "text": [
      "Collection: RADIOMIR\n",
      "  Cheapest -> Reference: PAM00753, Price: 550000.0 JPY\n",
      "  Most Expensive -> Reference: PAM00515, Price: 2618000.0 JPY\n",
      "\n",
      "--------------------------------------------------\n",
      "\n",
      "Collection: LUMINOR\n",
      "  Cheapest -> Reference: PAM00773, Price: 616000.0 JPY\n",
      "  Most Expensive -> Reference: PAM00768, Price: 18029000.0 JPY\n",
      "\n",
      "--------------------------------------------------\n",
      "\n",
      "Collection: LUMINOR-DUE\n",
      "  Cheapest -> Reference: PAM00755, Price: 748000.0 JPY\n",
      "  Most Expensive -> Reference: PAM00675, Price: 3091000.0 JPY\n",
      "\n",
      "--------------------------------------------------\n",
      "\n",
      "Collection: SUBMERSIBLE\n",
      "  Cheapest -> Reference: PAM00973, Price: 1078000.0 JPY\n",
      "  Most Expensive -> Reference: PAM01225, Price: 7458000.0 JPY\n",
      "\n",
      "--------------------------------------------------\n",
      "\n"
     ]
    }
   ],
   "source": [
    "for stat in collection_stats:\n",
    "    print(f\"Collection: {stat['collection']}\")\n",
    "    print(f\"  Cheapest -> Reference: {stat['cheapest']['reference']}, Price: {stat['cheapest']['price']} {(data_2021_only['currency'][data_2021_only['country'] == country]).unique()[0]}\")\n",
    "    print(f\"  Most Expensive -> Reference: {stat['most_expensive']['reference']}, Price: {stat['most_expensive']['price']} {(data_2021_only['currency'][data_2021_only['country'] == country]).unique()[0]}\")\n",
    "    print(\"\\n\"+\"-\"*50+\"\\n\")"
   ]
  },
  {
   "cell_type": "code",
   "execution_count": null,
   "id": "30eb9741",
   "metadata": {},
   "outputs": [],
   "source": []
  },
  {
   "cell_type": "code",
   "execution_count": null,
   "id": "f4f3748d",
   "metadata": {},
   "outputs": [],
   "source": []
  },
  {
   "cell_type": "code",
   "execution_count": null,
   "id": "e902d118",
   "metadata": {},
   "outputs": [],
   "source": []
  }
 ],
 "metadata": {
  "kernelspec": {
   "display_name": "Python 3 (ipykernel)",
   "language": "python",
   "name": "python3"
  },
  "language_info": {
   "codemirror_mode": {
    "name": "ipython",
    "version": 3
   },
   "file_extension": ".py",
   "mimetype": "text/x-python",
   "name": "python",
   "nbconvert_exporter": "python",
   "pygments_lexer": "ipython3",
   "version": "3.9.13"
  }
 },
 "nbformat": 4,
 "nbformat_minor": 5
}
