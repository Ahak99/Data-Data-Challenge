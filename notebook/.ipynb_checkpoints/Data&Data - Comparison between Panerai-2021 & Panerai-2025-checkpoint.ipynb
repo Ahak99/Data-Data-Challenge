{
 "cells": [
  {
   "cell_type": "markdown",
   "id": "0c5d0579",
   "metadata": {},
   "source": [
    "## Annexe"
   ]
  },
  {
   "cell_type": "code",
   "execution_count": 269,
   "id": "b7f5dea1",
   "metadata": {},
   "outputs": [],
   "source": [
    "def calculate_price_metrics(df):\n",
    "    \"\"\"\n",
    "    Calculate price difference, percentage increase, and CAGR between 2021 and 2025.\n",
    "    \"\"\"\n",
    "    df = df.copy()\n",
    "    df['Price Difference'] = df['price_USD_2025'] - df['price_USD_2021']\n",
    "    df['Increase Rate (%)'] = ((df['price_USD_2025'] - df['price_USD_2021']) / df['price_USD_2021']) * 100\n",
    "    df['CAGR (%)'] = ((df['price_USD_2025'] / df['price_USD_2021']) ** (1/4) - 1) * 100\n",
    "    return df"
   ]
  },
  {
   "cell_type": "code",
   "execution_count": 270,
   "id": "60a081d5",
   "metadata": {},
   "outputs": [],
   "source": [
    "def get_extreme_products(df):\n",
    "    \"\"\"\n",
    "    Identify the products with the highest and lowest increase rate.\n",
    "    \"\"\"\n",
    "    product_highest_increase_rate = df[\n",
    "    df['Increase Rate (%)'] == df['Increase Rate (%)'].max()\n",
    "    ].reset_index(drop=True)\n",
    "    product_lowest_increase_rate = df[\n",
    "    df['Increase Rate (%)'] == df['Increase Rate (%)'].min()\n",
    "    ].reset_index(drop=True)\n",
    "    \n",
    "    return product_highest_increase_rate, product_lowest_increase_rate"
   ]
  },
  {
   "cell_type": "code",
   "execution_count": 271,
   "id": "49362ee7",
   "metadata": {},
   "outputs": [],
   "source": [
    "def count_increase_directions(df):\n",
    "    \"\"\"\n",
    "    Count the number of products with positive and negative increase rates.\n",
    "    \"\"\"\n",
    "    positive_increase = df[df['Increase Rate (%)'] >= 0].reset_index(drop=True)\n",
    "    count_positive_increase = positive_increase.shape[0]\n",
    "    negative_increase = df[df['Increase Rate (%)'] < 0].reset_index(drop=True)\n",
    "    count_negative_increase = negative_increase.shape[0]\n",
    "    return positive_increase, count_positive_increase, negative_increase, count_negative_increase"
   ]
  },
  {
   "cell_type": "code",
   "execution_count": 272,
   "id": "9139abd6",
   "metadata": {},
   "outputs": [],
   "source": [
    "def group_metrics_by_country(df):\n",
    "    \"\"\"\n",
    "    Group the data by 'collection' and 'reference' for a specified country and calculate the mean and median.\n",
    "    \"\"\"\n",
    "    \n",
    "    metrics = ['price_USD_2021', 'price_USD_2025', 'Price Difference', 'Increase Rate (%)', 'CAGR (%)']\n",
    "    \n",
    "    grouped_mean = df.groupby(['collection', 'reference'])[metrics].mean().reset_index()\n",
    "    grouped_median = df.groupby(['collection', 'reference'])[metrics].median().reset_index()\n",
    "    return grouped_mean, grouped_median"
   ]
  },
  {
   "cell_type": "code",
   "execution_count": 517,
   "id": "d10702b1",
   "metadata": {},
   "outputs": [],
   "source": [
    "def describe_country(data):\n",
    "    \"\"\"\n",
    "    Describe the country data.\n",
    "\n",
    "    Parameters:\n",
    "    data (pd.DataFrame): The data to describe.\n",
    "    country (str, optional): The country to filter by. Defaults to None.\n",
    "\n",
    "    Returns:\n",
    "    tuple: A tuple containing the number of rows, unique collections, top collection, unique references, top reference, and a list of unique collections.\n",
    "    \"\"\"\n",
    "        \n",
    "    # Extract required details directly from the original data\n",
    "    number_unique_collections = data['collection'].nunique()\n",
    "    top_collection = data['collection'].mode()[0]\n",
    "    \n",
    "    number_unique_references = len(set(data['reference'].values))\n",
    "    top_reference = data['reference'].mode()[0]\n",
    "    \n",
    "    collection_list = data['collection'].unique()\n",
    "    \n",
    "    return number_unique_collections, top_collection, number_unique_references, top_reference, collection_list\n"
   ]
  },
  {
   "cell_type": "code",
   "execution_count": 861,
   "id": "fbd12285",
   "metadata": {},
   "outputs": [],
   "source": [
    "def collection_visualization(data, country=None):\n",
    "    \"\"\"\n",
    "    Visualize the collection data.\n",
    "\n",
    "    Parameters:\n",
    "    data (pd.DataFrame): The data to visualize.\n",
    "    country (str): The country to filter by.\n",
    "\n",
    "    Returns:\n",
    "    None\n",
    "    \"\"\"\n",
    "    \n",
    "    # Choose a color palette\n",
    "    palette = sns.color_palette(\"pastel\")  # You can choose different palettes like \"deep\", \"pastel\", etc.\n",
    "\n",
    "    # Create the count plot\n",
    "    ax = sns.countplot(x=\"collection\", data=data, palette=palette)\n",
    "\n",
    "    # Add the count value on top of each bar\n",
    "    for p in ax.patches:\n",
    "        ax.annotate(f'{p.get_height()}', \n",
    "                    (p.get_x() + p.get_width() / 2., p.get_y() + p.get_height() / 2.), \n",
    "                    ha='center', va='center', \n",
    "                    fontsize=10, color='black', \n",
    "                    xytext=(0, 5), textcoords='offset points')\n",
    "\n",
    "    # Rotate x-axis labels for better readability\n",
    "    plt.xticks(rotation=45)\n",
    "\n",
    "    # Labels and title\n",
    "    plt.xlabel(\"Collection\")\n",
    "    plt.ylabel(\"Watch Count\")\n",
    "    plt.title(f\"Watch Count per Collection\")\n",
    "    if country:\n",
    "        plt.title(f\"Watch Count per Collection in {country}\")\n",
    "    \n",
    "\n",
    "    # Show the plot\n",
    "    plt.show()"
   ]
  },
  {
   "cell_type": "code",
   "execution_count": 862,
   "id": "4f00c521",
   "metadata": {},
   "outputs": [],
   "source": [
    "def analyze_country(data):\n",
    "    \"\"\"\n",
    "    Analyze the country data.\n",
    "\n",
    "    Parameters:\n",
    "    data (pd.DataFrame): The data to analyze.\n",
    "    country (str, optional): The country to filter by. Defaults to None.\n",
    "\n",
    "    Returns:\n",
    "    tuple: A tuple containing the overall statistics and the collection statistics.\n",
    "    \"\"\"\n",
    "    \n",
    "    # Identify the cheapest and most expensive product in the whole subset\n",
    "    cheapest_product_data = data.nsmallest(1, 'price')\n",
    "    most_expensive_product_data = data.nlargest(1, 'price')\n",
    "    \n",
    "    overall_stats = {\n",
    "        \"cheapest\": {\n",
    "            \"collection\": cheapest_product_data['collection'].values[0],\n",
    "            \"reference\": cheapest_product_data['reference'].values[0],\n",
    "            \"price\": cheapest_product_data['price'].values[0]\n",
    "        },\n",
    "        \"most_expensive\": {\n",
    "            \"collection\": most_expensive_product_data['collection'].values[0],\n",
    "            \"reference\": most_expensive_product_data['reference'].values[0],\n",
    "            \"price\": most_expensive_product_data['price'].values[0]\n",
    "        }\n",
    "    }\n",
    "    \n",
    "    # Identify the cheapest and most expensive product per collection\n",
    "    collection_stats = []\n",
    "    unique_collections = data[\"collection\"].unique()\n",
    "    \n",
    "    for collection in unique_collections:\n",
    "        collection_data = data[data[\"collection\"] == collection]\n",
    "        \n",
    "        cheapest_collection_data = collection_data.nsmallest(1, 'price')\n",
    "        most_expensive_collection_data = collection_data.nlargest(1, 'price')\n",
    "        \n",
    "        collection_stats.append({\n",
    "            \"collection\": collection,\n",
    "            \"cheapest\": {\n",
    "                \"reference\": cheapest_collection_data['reference'].values[0],\n",
    "                \"price\": cheapest_collection_data['price'].values[0]\n",
    "            },\n",
    "            \"most_expensive\": {\n",
    "                \"reference\": most_expensive_collection_data['reference'].values[0],\n",
    "                \"price\": most_expensive_collection_data['price'].values[0]\n",
    "            }\n",
    "        })\n",
    "    \n",
    "    return overall_stats, collection_stats"
   ]
  },
  {
   "cell_type": "markdown",
   "id": "e69fd4a2",
   "metadata": {},
   "source": [
    "# 1. Import librariries"
   ]
  },
  {
   "cell_type": "code",
   "execution_count": 863,
   "id": "eac1aef3",
   "metadata": {},
   "outputs": [],
   "source": [
    "import pandas as pd\n",
    "import numpy as np\n",
    "import seaborn as sns\n",
    "import matplotlib.pyplot as plt\n",
    "import requests"
   ]
  },
  {
   "cell_type": "markdown",
   "id": "7fccb00f",
   "metadata": {},
   "source": [
    "# 2. Load & Read the Data"
   ]
  },
  {
   "cell_type": "code",
   "execution_count": 864,
   "id": "e49cb090",
   "metadata": {
    "scrolled": false
   },
   "outputs": [
    {
     "data": {
      "text/html": [
       "<div>\n",
       "<style scoped>\n",
       "    .dataframe tbody tr th:only-of-type {\n",
       "        vertical-align: middle;\n",
       "    }\n",
       "\n",
       "    .dataframe tbody tr th {\n",
       "        vertical-align: top;\n",
       "    }\n",
       "\n",
       "    .dataframe thead th {\n",
       "        text-align: right;\n",
       "    }\n",
       "</style>\n",
       "<table border=\"1\" class=\"dataframe\">\n",
       "  <thead>\n",
       "    <tr style=\"text-align: right;\">\n",
       "      <th></th>\n",
       "      <th>brand</th>\n",
       "      <th>url</th>\n",
       "      <th>image_url</th>\n",
       "      <th>collection</th>\n",
       "      <th>reference</th>\n",
       "      <th>price</th>\n",
       "      <th>currency</th>\n",
       "      <th>country</th>\n",
       "      <th>year</th>\n",
       "      <th>price_EUR</th>\n",
       "      <th>price_GBP</th>\n",
       "      <th>price_USD</th>\n",
       "      <th>price_JPY</th>\n",
       "    </tr>\n",
       "  </thead>\n",
       "  <tbody>\n",
       "    <tr>\n",
       "      <th>0</th>\n",
       "      <td>Panerai</td>\n",
       "      <td>https://www.panerai.com/fr/fr/collections/watc...</td>\n",
       "      <td>https://www.panerai.com/content/dam/rcq/pan/10...</td>\n",
       "      <td>RADIOMIR</td>\n",
       "      <td>PAM00655</td>\n",
       "      <td>9700.0</td>\n",
       "      <td>EUR</td>\n",
       "      <td>France</td>\n",
       "      <td>2021</td>\n",
       "      <td>9700.0</td>\n",
       "      <td>8009.29</td>\n",
       "      <td>10074.42</td>\n",
       "      <td>1516928.68</td>\n",
       "    </tr>\n",
       "    <tr>\n",
       "      <th>1</th>\n",
       "      <td>Panerai</td>\n",
       "      <td>https://www.panerai.com/fr/fr/collections/watc...</td>\n",
       "      <td>https://www.panerai.com/content/dam/rcq/pan/11...</td>\n",
       "      <td>RADIOMIR</td>\n",
       "      <td>PAM00628</td>\n",
       "      <td>11600.0</td>\n",
       "      <td>EUR</td>\n",
       "      <td>France</td>\n",
       "      <td>2021</td>\n",
       "      <td>11600.0</td>\n",
       "      <td>9578.12</td>\n",
       "      <td>12047.76</td>\n",
       "      <td>1814059.04</td>\n",
       "    </tr>\n",
       "    <tr>\n",
       "      <th>2</th>\n",
       "      <td>Panerai</td>\n",
       "      <td>https://www.panerai.com/fr/fr/collections/watc...</td>\n",
       "      <td>https://www.panerai.com/content/dam/rcq/pan/11...</td>\n",
       "      <td>RADIOMIR</td>\n",
       "      <td>PAM00657</td>\n",
       "      <td>11400.0</td>\n",
       "      <td>EUR</td>\n",
       "      <td>France</td>\n",
       "      <td>2021</td>\n",
       "      <td>11400.0</td>\n",
       "      <td>9412.98</td>\n",
       "      <td>11840.04</td>\n",
       "      <td>1782782.16</td>\n",
       "    </tr>\n",
       "    <tr>\n",
       "      <th>3</th>\n",
       "      <td>Panerai</td>\n",
       "      <td>https://www.panerai.com/fr/fr/collections/watc...</td>\n",
       "      <td>https://www.panerai.com/content/dam/rcq/pan/13...</td>\n",
       "      <td>LUMINOR</td>\n",
       "      <td>PAM00661</td>\n",
       "      <td>11900.0</td>\n",
       "      <td>EUR</td>\n",
       "      <td>France</td>\n",
       "      <td>2021</td>\n",
       "      <td>11900.0</td>\n",
       "      <td>9825.83</td>\n",
       "      <td>12359.34</td>\n",
       "      <td>1860974.36</td>\n",
       "    </tr>\n",
       "    <tr>\n",
       "      <th>4</th>\n",
       "      <td>Panerai</td>\n",
       "      <td>https://www.panerai.com/fr/fr/collections/watc...</td>\n",
       "      <td>https://www.panerai.com/content/dam/rcq/pan/13...</td>\n",
       "      <td>LUMINOR</td>\n",
       "      <td>PAM01312</td>\n",
       "      <td>7900.0</td>\n",
       "      <td>EUR</td>\n",
       "      <td>France</td>\n",
       "      <td>2021</td>\n",
       "      <td>7900.0</td>\n",
       "      <td>6523.03</td>\n",
       "      <td>8204.94</td>\n",
       "      <td>1235436.76</td>\n",
       "    </tr>\n",
       "  </tbody>\n",
       "</table>\n",
       "</div>"
      ],
      "text/plain": [
       "     brand                                                url  \\\n",
       "0  Panerai  https://www.panerai.com/fr/fr/collections/watc...   \n",
       "1  Panerai  https://www.panerai.com/fr/fr/collections/watc...   \n",
       "2  Panerai  https://www.panerai.com/fr/fr/collections/watc...   \n",
       "3  Panerai  https://www.panerai.com/fr/fr/collections/watc...   \n",
       "4  Panerai  https://www.panerai.com/fr/fr/collections/watc...   \n",
       "\n",
       "                                           image_url collection reference  \\\n",
       "0  https://www.panerai.com/content/dam/rcq/pan/10...   RADIOMIR  PAM00655   \n",
       "1  https://www.panerai.com/content/dam/rcq/pan/11...   RADIOMIR  PAM00628   \n",
       "2  https://www.panerai.com/content/dam/rcq/pan/11...   RADIOMIR  PAM00657   \n",
       "3  https://www.panerai.com/content/dam/rcq/pan/13...    LUMINOR  PAM00661   \n",
       "4  https://www.panerai.com/content/dam/rcq/pan/13...    LUMINOR  PAM01312   \n",
       "\n",
       "     price currency country  year  price_EUR  price_GBP  price_USD   price_JPY  \n",
       "0   9700.0      EUR  France  2021     9700.0    8009.29   10074.42  1516928.68  \n",
       "1  11600.0      EUR  France  2021    11600.0    9578.12   12047.76  1814059.04  \n",
       "2  11400.0      EUR  France  2021    11400.0    9412.98   11840.04  1782782.16  \n",
       "3  11900.0      EUR  France  2021    11900.0    9825.83   12359.34  1860974.36  \n",
       "4   7900.0      EUR  France  2021     7900.0    6523.03    8204.94  1235436.76  "
      ]
     },
     "execution_count": 864,
     "metadata": {},
     "output_type": "execute_result"
    }
   ],
   "source": [
    "data_2021 = pd.read_csv(r\"../data/silver/PANERAI_DATA_2021.csv\")\n",
    "data_2021.head()"
   ]
  },
  {
   "cell_type": "code",
   "execution_count": 865,
   "id": "80f7bb41",
   "metadata": {},
   "outputs": [
    {
     "name": "stdout",
     "output_type": "stream",
     "text": [
      "Number of products with distinct reference : 207\n",
      "Number of existing products by reference : 687\n"
     ]
    }
   ],
   "source": [
    "print(f'Number of products with distinct reference : {len(set(data_2021.reference.values))}')\n",
    "print(f'Number of existing products by reference : {len(data_2021.reference.values)}')"
   ]
  },
  {
   "cell_type": "markdown",
   "id": "f26b91e3",
   "metadata": {},
   "source": [
    "#### To handle this difference, I will group the dataset by 'reference' and calculate the median price"
   ]
  },
  {
   "cell_type": "code",
   "execution_count": 866,
   "id": "da443fd1",
   "metadata": {},
   "outputs": [
    {
     "data": {
      "text/html": [
       "<div>\n",
       "<style scoped>\n",
       "    .dataframe tbody tr th:only-of-type {\n",
       "        vertical-align: middle;\n",
       "    }\n",
       "\n",
       "    .dataframe tbody tr th {\n",
       "        vertical-align: top;\n",
       "    }\n",
       "\n",
       "    .dataframe thead th {\n",
       "        text-align: right;\n",
       "    }\n",
       "</style>\n",
       "<table border=\"1\" class=\"dataframe\">\n",
       "  <thead>\n",
       "    <tr style=\"text-align: right;\">\n",
       "      <th></th>\n",
       "      <th>reference</th>\n",
       "      <th>brand</th>\n",
       "      <th>year</th>\n",
       "      <th>collection</th>\n",
       "      <th>price_USD</th>\n",
       "    </tr>\n",
       "  </thead>\n",
       "  <tbody>\n",
       "    <tr>\n",
       "      <th>0</th>\n",
       "      <td>PAM00233</td>\n",
       "      <td>Panerai</td>\n",
       "      <td>2021</td>\n",
       "      <td>LUMINOR</td>\n",
       "      <td>12969.390</td>\n",
       "    </tr>\n",
       "    <tr>\n",
       "      <th>1</th>\n",
       "      <td>PAM00317</td>\n",
       "      <td>Panerai</td>\n",
       "      <td>2021</td>\n",
       "      <td>LUMINOR</td>\n",
       "      <td>22293.069</td>\n",
       "    </tr>\n",
       "    <tr>\n",
       "      <th>2</th>\n",
       "      <td>PAM00335</td>\n",
       "      <td>Panerai</td>\n",
       "      <td>2021</td>\n",
       "      <td>LUMINOR</td>\n",
       "      <td>17967.780</td>\n",
       "    </tr>\n",
       "    <tr>\n",
       "      <th>3</th>\n",
       "      <td>PAM00372</td>\n",
       "      <td>Panerai</td>\n",
       "      <td>2021</td>\n",
       "      <td>LUMINOR</td>\n",
       "      <td>7232.049</td>\n",
       "    </tr>\n",
       "    <tr>\n",
       "      <th>4</th>\n",
       "      <td>PAM00422</td>\n",
       "      <td>Panerai</td>\n",
       "      <td>2021</td>\n",
       "      <td>LUMINOR</td>\n",
       "      <td>10441.590</td>\n",
       "    </tr>\n",
       "  </tbody>\n",
       "</table>\n",
       "</div>"
      ],
      "text/plain": [
       "  reference    brand  year collection  price_USD\n",
       "0  PAM00233  Panerai  2021    LUMINOR  12969.390\n",
       "1  PAM00317  Panerai  2021    LUMINOR  22293.069\n",
       "2  PAM00335  Panerai  2021    LUMINOR  17967.780\n",
       "3  PAM00372  Panerai  2021    LUMINOR   7232.049\n",
       "4  PAM00422  Panerai  2021    LUMINOR  10441.590"
      ]
     },
     "execution_count": 866,
     "metadata": {},
     "output_type": "execute_result"
    }
   ],
   "source": [
    "grouped_data_2021_ref = data_2021.groupby('reference', as_index=False).agg({\n",
    "    'brand': 'first',\n",
    "    'year': 'first',\n",
    "    'collection': 'first',\n",
    "    'price_USD': 'median'\n",
    "})\n",
    "grouped_data_2021_ref.head()"
   ]
  },
  {
   "cell_type": "code",
   "execution_count": 867,
   "id": "9f0e26b7",
   "metadata": {},
   "outputs": [
    {
     "name": "stdout",
     "output_type": "stream",
     "text": [
      "Number of products with distinct reference : 207\n",
      "Number of existing products by reference : 207\n"
     ]
    }
   ],
   "source": [
    "print(f'Number of products with distinct reference : {len(set(grouped_data_2021_ref.reference.values))}')\n",
    "print(f'Number of existing products by reference : {len(grouped_data_2021_ref.reference.values)}')"
   ]
  },
  {
   "cell_type": "code",
   "execution_count": 868,
   "id": "14868154",
   "metadata": {
    "scrolled": true
   },
   "outputs": [
    {
     "data": {
      "text/html": [
       "<div>\n",
       "<style scoped>\n",
       "    .dataframe tbody tr th:only-of-type {\n",
       "        vertical-align: middle;\n",
       "    }\n",
       "\n",
       "    .dataframe tbody tr th {\n",
       "        vertical-align: top;\n",
       "    }\n",
       "\n",
       "    .dataframe thead th {\n",
       "        text-align: right;\n",
       "    }\n",
       "</style>\n",
       "<table border=\"1\" class=\"dataframe\">\n",
       "  <thead>\n",
       "    <tr style=\"text-align: right;\">\n",
       "      <th></th>\n",
       "      <th>currency</th>\n",
       "      <th>brand</th>\n",
       "      <th>country</th>\n",
       "      <th>reference</th>\n",
       "      <th>year</th>\n",
       "      <th>product_url</th>\n",
       "      <th>image_url</th>\n",
       "      <th>price</th>\n",
       "      <th>collection</th>\n",
       "      <th>name</th>\n",
       "      <th>availability</th>\n",
       "      <th>currency_code</th>\n",
       "      <th>price_USD</th>\n",
       "      <th>price_GBP</th>\n",
       "      <th>price_EUR</th>\n",
       "      <th>price_JPY</th>\n",
       "    </tr>\n",
       "  </thead>\n",
       "  <tbody>\n",
       "    <tr>\n",
       "      <th>0</th>\n",
       "      <td>$</td>\n",
       "      <td>PANERAI</td>\n",
       "      <td>USA</td>\n",
       "      <td>PAM01570</td>\n",
       "      <td>2025</td>\n",
       "      <td>https://www.panerai.com/us/en/collections/watc...</td>\n",
       "      <td>https://www.panerai.com/content/dam/rcq/pan/km...</td>\n",
       "      <td>6000</td>\n",
       "      <td>Radiomir</td>\n",
       "      <td>Radiomir Quaranta</td>\n",
       "      <td>Available</td>\n",
       "      <td>USD</td>\n",
       "      <td>6000.0</td>\n",
       "      <td>4764.0</td>\n",
       "      <td>5776.80</td>\n",
       "      <td>903423.0</td>\n",
       "    </tr>\n",
       "    <tr>\n",
       "      <th>1</th>\n",
       "      <td>$</td>\n",
       "      <td>PANERAI</td>\n",
       "      <td>USA</td>\n",
       "      <td>PAM01571</td>\n",
       "      <td>2025</td>\n",
       "      <td>https://www.panerai.com/us/en/collections/watc...</td>\n",
       "      <td>https://www.panerai.com/content/dam/rcq/pan/Ot...</td>\n",
       "      <td>6000</td>\n",
       "      <td>Radiomir</td>\n",
       "      <td>Radiomir Quaranta</td>\n",
       "      <td>Out of Stock</td>\n",
       "      <td>USD</td>\n",
       "      <td>6000.0</td>\n",
       "      <td>4764.0</td>\n",
       "      <td>5776.80</td>\n",
       "      <td>903423.0</td>\n",
       "    </tr>\n",
       "    <tr>\n",
       "      <th>2</th>\n",
       "      <td>$</td>\n",
       "      <td>PANERAI</td>\n",
       "      <td>USA</td>\n",
       "      <td>PAM01572</td>\n",
       "      <td>2025</td>\n",
       "      <td>https://www.panerai.com/us/en/collections/watc...</td>\n",
       "      <td>https://www.panerai.com/content/dam/rcq/pan/lz...</td>\n",
       "      <td>6000</td>\n",
       "      <td>Radiomir</td>\n",
       "      <td>Radiomir Quaranta</td>\n",
       "      <td>Available</td>\n",
       "      <td>USD</td>\n",
       "      <td>6000.0</td>\n",
       "      <td>4764.0</td>\n",
       "      <td>5776.80</td>\n",
       "      <td>903423.0</td>\n",
       "    </tr>\n",
       "    <tr>\n",
       "      <th>3</th>\n",
       "      <td>$</td>\n",
       "      <td>PANERAI</td>\n",
       "      <td>USA</td>\n",
       "      <td>PAM01573</td>\n",
       "      <td>2025</td>\n",
       "      <td>https://www.panerai.com/us/en/collections/watc...</td>\n",
       "      <td>https://www.panerai.com/content/dam/rcq/pan/iY...</td>\n",
       "      <td>6000</td>\n",
       "      <td>Radiomir</td>\n",
       "      <td>Radiomir Quaranta</td>\n",
       "      <td>Available</td>\n",
       "      <td>USD</td>\n",
       "      <td>6000.0</td>\n",
       "      <td>4764.0</td>\n",
       "      <td>5776.80</td>\n",
       "      <td>903423.0</td>\n",
       "    </tr>\n",
       "    <tr>\n",
       "      <th>4</th>\n",
       "      <td>$</td>\n",
       "      <td>PANERAI</td>\n",
       "      <td>USA</td>\n",
       "      <td>PAM01385</td>\n",
       "      <td>2025</td>\n",
       "      <td>https://www.panerai.com/us/en/collections/watc...</td>\n",
       "      <td>https://www.panerai.com/content/dam/rcq/pan/bc...</td>\n",
       "      <td>5400</td>\n",
       "      <td>Radiomir</td>\n",
       "      <td>Radiomir Officine</td>\n",
       "      <td>Out of Stock</td>\n",
       "      <td>USD</td>\n",
       "      <td>5400.0</td>\n",
       "      <td>4287.6</td>\n",
       "      <td>5199.12</td>\n",
       "      <td>813080.7</td>\n",
       "    </tr>\n",
       "  </tbody>\n",
       "</table>\n",
       "</div>"
      ],
      "text/plain": [
       "  currency    brand country reference  year  \\\n",
       "0        $  PANERAI     USA  PAM01570  2025   \n",
       "1        $  PANERAI     USA  PAM01571  2025   \n",
       "2        $  PANERAI     USA  PAM01572  2025   \n",
       "3        $  PANERAI     USA  PAM01573  2025   \n",
       "4        $  PANERAI     USA  PAM01385  2025   \n",
       "\n",
       "                                         product_url  \\\n",
       "0  https://www.panerai.com/us/en/collections/watc...   \n",
       "1  https://www.panerai.com/us/en/collections/watc...   \n",
       "2  https://www.panerai.com/us/en/collections/watc...   \n",
       "3  https://www.panerai.com/us/en/collections/watc...   \n",
       "4  https://www.panerai.com/us/en/collections/watc...   \n",
       "\n",
       "                                           image_url  price collection  \\\n",
       "0  https://www.panerai.com/content/dam/rcq/pan/km...   6000   Radiomir   \n",
       "1  https://www.panerai.com/content/dam/rcq/pan/Ot...   6000   Radiomir   \n",
       "2  https://www.panerai.com/content/dam/rcq/pan/lz...   6000   Radiomir   \n",
       "3  https://www.panerai.com/content/dam/rcq/pan/iY...   6000   Radiomir   \n",
       "4  https://www.panerai.com/content/dam/rcq/pan/bc...   5400   Radiomir   \n",
       "\n",
       "                name  availability currency_code  price_USD  price_GBP  \\\n",
       "0  Radiomir Quaranta     Available           USD     6000.0     4764.0   \n",
       "1  Radiomir Quaranta  Out of Stock           USD     6000.0     4764.0   \n",
       "2  Radiomir Quaranta     Available           USD     6000.0     4764.0   \n",
       "3  Radiomir Quaranta     Available           USD     6000.0     4764.0   \n",
       "4  Radiomir Officine  Out of Stock           USD     5400.0     4287.6   \n",
       "\n",
       "   price_EUR  price_JPY  \n",
       "0    5776.80   903423.0  \n",
       "1    5776.80   903423.0  \n",
       "2    5776.80   903423.0  \n",
       "3    5776.80   903423.0  \n",
       "4    5199.12   813080.7  "
      ]
     },
     "execution_count": 868,
     "metadata": {},
     "output_type": "execute_result"
    }
   ],
   "source": [
    "data_2025 = pd.read_csv(r\"../data/silver/2025-03-02_00-24-15/PANERAI_DATA_2025.csv\")\n",
    "data_2025.head()"
   ]
  },
  {
   "cell_type": "code",
   "execution_count": 869,
   "id": "dc623c2a",
   "metadata": {},
   "outputs": [
    {
     "name": "stdout",
     "output_type": "stream",
     "text": [
      "Number of products with distinct reference : 149\n",
      "Number of existing products by reference : 590\n"
     ]
    }
   ],
   "source": [
    "print(f'Number of products with distinct reference : {len(set(data_2025.reference.values))}')\n",
    "print(f'Number of existing products by reference : {len(data_2025.reference.values)}')"
   ]
  },
  {
   "cell_type": "markdown",
   "id": "c8202f00",
   "metadata": {},
   "source": [
    "#### To handle this difference, I will group the dataset by 'reference' and calculate the median price"
   ]
  },
  {
   "cell_type": "code",
   "execution_count": 870,
   "id": "4e83f119",
   "metadata": {},
   "outputs": [
    {
     "data": {
      "text/html": [
       "<div>\n",
       "<style scoped>\n",
       "    .dataframe tbody tr th:only-of-type {\n",
       "        vertical-align: middle;\n",
       "    }\n",
       "\n",
       "    .dataframe tbody tr th {\n",
       "        vertical-align: top;\n",
       "    }\n",
       "\n",
       "    .dataframe thead th {\n",
       "        text-align: right;\n",
       "    }\n",
       "</style>\n",
       "<table border=\"1\" class=\"dataframe\">\n",
       "  <thead>\n",
       "    <tr style=\"text-align: right;\">\n",
       "      <th></th>\n",
       "      <th>reference</th>\n",
       "      <th>brand</th>\n",
       "      <th>year</th>\n",
       "      <th>collection</th>\n",
       "      <th>price_USD</th>\n",
       "    </tr>\n",
       "  </thead>\n",
       "  <tbody>\n",
       "    <tr>\n",
       "      <th>0</th>\n",
       "      <td>PAM00422</td>\n",
       "      <td>PANERAI</td>\n",
       "      <td>2025</td>\n",
       "      <td>Luminor</td>\n",
       "      <td>11633.4025</td>\n",
       "    </tr>\n",
       "    <tr>\n",
       "      <th>1</th>\n",
       "      <td>PAM00600</td>\n",
       "      <td>PANERAI</td>\n",
       "      <td>2025</td>\n",
       "      <td>Radiomir</td>\n",
       "      <td>398400.0000</td>\n",
       "    </tr>\n",
       "    <tr>\n",
       "      <th>2</th>\n",
       "      <td>PAM00670</td>\n",
       "      <td>PANERAI</td>\n",
       "      <td>2025</td>\n",
       "      <td>Luminor</td>\n",
       "      <td>24776.2650</td>\n",
       "    </tr>\n",
       "    <tr>\n",
       "      <th>3</th>\n",
       "      <td>PAM00715</td>\n",
       "      <td>PANERAI</td>\n",
       "      <td>2025</td>\n",
       "      <td>Luminor</td>\n",
       "      <td>66894.5730</td>\n",
       "    </tr>\n",
       "    <tr>\n",
       "      <th>4</th>\n",
       "      <td>PAM00742</td>\n",
       "      <td>PANERAI</td>\n",
       "      <td>2025</td>\n",
       "      <td>Luminor</td>\n",
       "      <td>48352.9090</td>\n",
       "    </tr>\n",
       "  </tbody>\n",
       "</table>\n",
       "</div>"
      ],
      "text/plain": [
       "  reference    brand  year collection    price_USD\n",
       "0  PAM00422  PANERAI  2025    Luminor   11633.4025\n",
       "1  PAM00600  PANERAI  2025   Radiomir  398400.0000\n",
       "2  PAM00670  PANERAI  2025    Luminor   24776.2650\n",
       "3  PAM00715  PANERAI  2025    Luminor   66894.5730\n",
       "4  PAM00742  PANERAI  2025    Luminor   48352.9090"
      ]
     },
     "execution_count": 870,
     "metadata": {},
     "output_type": "execute_result"
    }
   ],
   "source": [
    "grouped_data_2025_ref = data_2025.groupby('reference', as_index=False).agg({\n",
    "    'brand': 'first',\n",
    "    'year': 'first',\n",
    "    'collection': 'first',\n",
    "    'price_USD': 'median'\n",
    "})\n",
    "grouped_data_2025_ref.head()"
   ]
  },
  {
   "cell_type": "markdown",
   "id": "203276ef",
   "metadata": {},
   "source": [
    "# 3. Data and Business Analysis"
   ]
  },
  {
   "cell_type": "markdown",
   "id": "4204311f",
   "metadata": {},
   "source": [
    "## 3.1. Commun products since 2021"
   ]
  },
  {
   "cell_type": "code",
   "execution_count": 871,
   "id": "e75615e1",
   "metadata": {
    "scrolled": true
   },
   "outputs": [
    {
     "data": {
      "text/html": [
       "<div>\n",
       "<style scoped>\n",
       "    .dataframe tbody tr th:only-of-type {\n",
       "        vertical-align: middle;\n",
       "    }\n",
       "\n",
       "    .dataframe tbody tr th {\n",
       "        vertical-align: top;\n",
       "    }\n",
       "\n",
       "    .dataframe thead th {\n",
       "        text-align: right;\n",
       "    }\n",
       "</style>\n",
       "<table border=\"1\" class=\"dataframe\">\n",
       "  <thead>\n",
       "    <tr style=\"text-align: right;\">\n",
       "      <th></th>\n",
       "      <th>brand</th>\n",
       "      <th>reference</th>\n",
       "      <th>collection</th>\n",
       "      <th>price_USD_2021</th>\n",
       "      <th>price_USD_2025</th>\n",
       "    </tr>\n",
       "  </thead>\n",
       "  <tbody>\n",
       "    <tr>\n",
       "      <th>0</th>\n",
       "      <td>PANERAI</td>\n",
       "      <td>PAM00422</td>\n",
       "      <td>Luminor</td>\n",
       "      <td>10441.59</td>\n",
       "      <td>11633.4025</td>\n",
       "    </tr>\n",
       "    <tr>\n",
       "      <th>1</th>\n",
       "      <td>PANERAI</td>\n",
       "      <td>PAM00670</td>\n",
       "      <td>Luminor</td>\n",
       "      <td>22745.34</td>\n",
       "      <td>24776.2650</td>\n",
       "    </tr>\n",
       "    <tr>\n",
       "      <th>2</th>\n",
       "      <td>PANERAI</td>\n",
       "      <td>PAM00715</td>\n",
       "      <td>Luminor</td>\n",
       "      <td>71677.98</td>\n",
       "      <td>66894.5730</td>\n",
       "    </tr>\n",
       "    <tr>\n",
       "      <th>3</th>\n",
       "      <td>PANERAI</td>\n",
       "      <td>PAM00742</td>\n",
       "      <td>Luminor</td>\n",
       "      <td>49957.38</td>\n",
       "      <td>48352.9090</td>\n",
       "    </tr>\n",
       "    <tr>\n",
       "      <th>4</th>\n",
       "      <td>PANERAI</td>\n",
       "      <td>PAM00914</td>\n",
       "      <td>Luminor</td>\n",
       "      <td>6439.32</td>\n",
       "      <td>7288.9600</td>\n",
       "    </tr>\n",
       "  </tbody>\n",
       "</table>\n",
       "</div>"
      ],
      "text/plain": [
       "     brand reference collection  price_USD_2021  price_USD_2025\n",
       "0  PANERAI  PAM00422    Luminor        10441.59      11633.4025\n",
       "1  PANERAI  PAM00670    Luminor        22745.34      24776.2650\n",
       "2  PANERAI  PAM00715    Luminor        71677.98      66894.5730\n",
       "3  PANERAI  PAM00742    Luminor        49957.38      48352.9090\n",
       "4  PANERAI  PAM00914    Luminor         6439.32       7288.9600"
      ]
     },
     "execution_count": 871,
     "metadata": {},
     "output_type": "execute_result"
    }
   ],
   "source": [
    "data_2021_2025_ref = pd.merge(grouped_data_2025_ref, grouped_data_2021_ref, on='reference', how='inner')\n",
    "data_2021_2025_ref = data_2021_2025_ref.rename(columns={'brand_x': 'brand', 'collection_x': 'collection', 'year_x': 'year_2025', 'price_USD_x': 'price_USD_2025', 'year_y': 'year_2021', 'price_USD_y': 'price_USD_2021'})\n",
    "data_2021_2025_ref = data_2021_2025_ref[['brand', 'reference', 'collection', 'price_USD_2021', 'price_USD_2025']]\n",
    "\n",
    "data_2021_2025_ref.head()"
   ]
  },
  {
   "cell_type": "markdown",
   "id": "36872f05",
   "metadata": {},
   "source": [
    "### 3.1.1. Calculate Price Metrics"
   ]
  },
  {
   "cell_type": "code",
   "execution_count": 872,
   "id": "b9e46a90",
   "metadata": {
    "scrolled": true
   },
   "outputs": [],
   "source": [
    "data_2021_2025_ref = calculate_price_metrics(data_2021_2025_ref)"
   ]
  },
  {
   "cell_type": "code",
   "execution_count": 873,
   "id": "af145443",
   "metadata": {
    "scrolled": false
   },
   "outputs": [
    {
     "data": {
      "text/html": [
       "<div>\n",
       "<style scoped>\n",
       "    .dataframe tbody tr th:only-of-type {\n",
       "        vertical-align: middle;\n",
       "    }\n",
       "\n",
       "    .dataframe tbody tr th {\n",
       "        vertical-align: top;\n",
       "    }\n",
       "\n",
       "    .dataframe thead th {\n",
       "        text-align: right;\n",
       "    }\n",
       "</style>\n",
       "<table border=\"1\" class=\"dataframe\">\n",
       "  <thead>\n",
       "    <tr style=\"text-align: right;\">\n",
       "      <th></th>\n",
       "      <th>brand</th>\n",
       "      <th>reference</th>\n",
       "      <th>collection</th>\n",
       "      <th>price_USD_2021</th>\n",
       "      <th>price_USD_2025</th>\n",
       "      <th>Price Difference</th>\n",
       "      <th>Increase Rate (%)</th>\n",
       "      <th>CAGR (%)</th>\n",
       "    </tr>\n",
       "  </thead>\n",
       "  <tbody>\n",
       "    <tr>\n",
       "      <th>0</th>\n",
       "      <td>PANERAI</td>\n",
       "      <td>PAM00422</td>\n",
       "      <td>Luminor</td>\n",
       "      <td>10441.59</td>\n",
       "      <td>11633.4025</td>\n",
       "      <td>1191.8125</td>\n",
       "      <td>11.414090</td>\n",
       "      <td>2.738928</td>\n",
       "    </tr>\n",
       "    <tr>\n",
       "      <th>1</th>\n",
       "      <td>PANERAI</td>\n",
       "      <td>PAM00670</td>\n",
       "      <td>Luminor</td>\n",
       "      <td>22745.34</td>\n",
       "      <td>24776.2650</td>\n",
       "      <td>2030.9250</td>\n",
       "      <td>8.928972</td>\n",
       "      <td>2.161168</td>\n",
       "    </tr>\n",
       "    <tr>\n",
       "      <th>2</th>\n",
       "      <td>PANERAI</td>\n",
       "      <td>PAM00715</td>\n",
       "      <td>Luminor</td>\n",
       "      <td>71677.98</td>\n",
       "      <td>66894.5730</td>\n",
       "      <td>-4783.4070</td>\n",
       "      <td>-6.673468</td>\n",
       "      <td>-1.711823</td>\n",
       "    </tr>\n",
       "    <tr>\n",
       "      <th>3</th>\n",
       "      <td>PANERAI</td>\n",
       "      <td>PAM00742</td>\n",
       "      <td>Luminor</td>\n",
       "      <td>49957.38</td>\n",
       "      <td>48352.9090</td>\n",
       "      <td>-1604.4710</td>\n",
       "      <td>-3.211680</td>\n",
       "      <td>-0.812775</td>\n",
       "    </tr>\n",
       "    <tr>\n",
       "      <th>4</th>\n",
       "      <td>PANERAI</td>\n",
       "      <td>PAM00914</td>\n",
       "      <td>Luminor</td>\n",
       "      <td>6439.32</td>\n",
       "      <td>7288.9600</td>\n",
       "      <td>849.6400</td>\n",
       "      <td>13.194561</td>\n",
       "      <td>3.146950</td>\n",
       "    </tr>\n",
       "  </tbody>\n",
       "</table>\n",
       "</div>"
      ],
      "text/plain": [
       "     brand reference collection  price_USD_2021  price_USD_2025  \\\n",
       "0  PANERAI  PAM00422    Luminor        10441.59      11633.4025   \n",
       "1  PANERAI  PAM00670    Luminor        22745.34      24776.2650   \n",
       "2  PANERAI  PAM00715    Luminor        71677.98      66894.5730   \n",
       "3  PANERAI  PAM00742    Luminor        49957.38      48352.9090   \n",
       "4  PANERAI  PAM00914    Luminor         6439.32       7288.9600   \n",
       "\n",
       "   Price Difference  Increase Rate (%)  CAGR (%)  \n",
       "0         1191.8125          11.414090  2.738928  \n",
       "1         2030.9250           8.928972  2.161168  \n",
       "2        -4783.4070          -6.673468 -1.711823  \n",
       "3        -1604.4710          -3.211680 -0.812775  \n",
       "4          849.6400          13.194561  3.146950  "
      ]
     },
     "execution_count": 873,
     "metadata": {},
     "output_type": "execute_result"
    }
   ],
   "source": [
    "data_2021_2025_ref.head()"
   ]
  },
  {
   "cell_type": "code",
   "execution_count": 874,
   "id": "9f212400",
   "metadata": {
    "scrolled": false
   },
   "outputs": [
    {
     "name": "stdout",
     "output_type": "stream",
     "text": [
      "Overall Summary:\n",
      "\n",
      "Total of products analyzed (These products have been consistently purchased since 2021): 31\n",
      "Total of Products with a positive increase rate: 28\n",
      "Total Products with a negative increase rate: 3\n",
      "\n"
     ]
    }
   ],
   "source": [
    "positive_increase, count_positive_increase, negative_increase, count_negative_increase = count_increase_directions(data_2021_2025_ref)\n",
    "\n",
    "print(\"Overall Summary:\\n\")\n",
    "print(f\"Total of products analyzed (These products have been consistently purchased since 2021): {len(set(data_2021_2025['reference'].values))}\")\n",
    "print(f\"Total of Products with a positive increase rate: {count_positive_increase}\")\n",
    "print(f\"Total Products with a negative increase rate: {count_negative_increase}\\n\")"
   ]
  },
  {
   "cell_type": "code",
   "execution_count": 875,
   "id": "884ede0c",
   "metadata": {
    "scrolled": true
   },
   "outputs": [
    {
     "name": "stdout",
     "output_type": "stream",
     "text": [
      "Product with Positive Increase Rate:\n"
     ]
    },
    {
     "data": {
      "text/html": [
       "<div>\n",
       "<style scoped>\n",
       "    .dataframe tbody tr th:only-of-type {\n",
       "        vertical-align: middle;\n",
       "    }\n",
       "\n",
       "    .dataframe tbody tr th {\n",
       "        vertical-align: top;\n",
       "    }\n",
       "\n",
       "    .dataframe thead th {\n",
       "        text-align: right;\n",
       "    }\n",
       "</style>\n",
       "<table border=\"1\" class=\"dataframe\">\n",
       "  <thead>\n",
       "    <tr style=\"text-align: right;\">\n",
       "      <th></th>\n",
       "      <th>brand</th>\n",
       "      <th>reference</th>\n",
       "      <th>collection</th>\n",
       "      <th>price_USD_2021</th>\n",
       "      <th>price_USD_2025</th>\n",
       "      <th>Price Difference</th>\n",
       "      <th>Increase Rate (%)</th>\n",
       "      <th>CAGR (%)</th>\n",
       "    </tr>\n",
       "  </thead>\n",
       "  <tbody>\n",
       "    <tr>\n",
       "      <th>0</th>\n",
       "      <td>PANERAI</td>\n",
       "      <td>PAM00422</td>\n",
       "      <td>Luminor</td>\n",
       "      <td>10441.59</td>\n",
       "      <td>11633.4025</td>\n",
       "      <td>1191.8125</td>\n",
       "      <td>11.414090</td>\n",
       "      <td>2.738928</td>\n",
       "    </tr>\n",
       "    <tr>\n",
       "      <th>1</th>\n",
       "      <td>PANERAI</td>\n",
       "      <td>PAM00670</td>\n",
       "      <td>Luminor</td>\n",
       "      <td>22745.34</td>\n",
       "      <td>24776.2650</td>\n",
       "      <td>2030.9250</td>\n",
       "      <td>8.928972</td>\n",
       "      <td>2.161168</td>\n",
       "    </tr>\n",
       "    <tr>\n",
       "      <th>2</th>\n",
       "      <td>PANERAI</td>\n",
       "      <td>PAM00914</td>\n",
       "      <td>Luminor</td>\n",
       "      <td>6439.32</td>\n",
       "      <td>7288.9600</td>\n",
       "      <td>849.6400</td>\n",
       "      <td>13.194561</td>\n",
       "      <td>3.146950</td>\n",
       "    </tr>\n",
       "    <tr>\n",
       "      <th>3</th>\n",
       "      <td>PANERAI</td>\n",
       "      <td>PAM00915</td>\n",
       "      <td>Luminor</td>\n",
       "      <td>7131.57</td>\n",
       "      <td>7798.6100</td>\n",
       "      <td>667.0400</td>\n",
       "      <td>9.353340</td>\n",
       "      <td>2.260524</td>\n",
       "    </tr>\n",
       "    <tr>\n",
       "      <th>4</th>\n",
       "      <td>PANERAI</td>\n",
       "      <td>PAM00968</td>\n",
       "      <td>Submersible</td>\n",
       "      <td>17573.16</td>\n",
       "      <td>19217.2280</td>\n",
       "      <td>1644.0680</td>\n",
       "      <td>9.355563</td>\n",
       "      <td>2.261043</td>\n",
       "    </tr>\n",
       "  </tbody>\n",
       "</table>\n",
       "</div>"
      ],
      "text/plain": [
       "     brand reference   collection  price_USD_2021  price_USD_2025  \\\n",
       "0  PANERAI  PAM00422      Luminor        10441.59      11633.4025   \n",
       "1  PANERAI  PAM00670      Luminor        22745.34      24776.2650   \n",
       "2  PANERAI  PAM00914      Luminor         6439.32       7288.9600   \n",
       "3  PANERAI  PAM00915      Luminor         7131.57       7798.6100   \n",
       "4  PANERAI  PAM00968  Submersible        17573.16      19217.2280   \n",
       "\n",
       "   Price Difference  Increase Rate (%)  CAGR (%)  \n",
       "0         1191.8125          11.414090  2.738928  \n",
       "1         2030.9250           8.928972  2.161168  \n",
       "2          849.6400          13.194561  3.146950  \n",
       "3          667.0400           9.353340  2.260524  \n",
       "4         1644.0680           9.355563  2.261043  "
      ]
     },
     "execution_count": 875,
     "metadata": {},
     "output_type": "execute_result"
    }
   ],
   "source": [
    "print(\"Product with Positive Increase Rate:\")\n",
    "positive_increase.head()"
   ]
  },
  {
   "cell_type": "code",
   "execution_count": 876,
   "id": "c8f03830",
   "metadata": {},
   "outputs": [
    {
     "name": "stdout",
     "output_type": "stream",
     "text": [
      "Product with Negative Increase Rate:\n"
     ]
    },
    {
     "data": {
      "text/html": [
       "<div>\n",
       "<style scoped>\n",
       "    .dataframe tbody tr th:only-of-type {\n",
       "        vertical-align: middle;\n",
       "    }\n",
       "\n",
       "    .dataframe tbody tr th {\n",
       "        vertical-align: top;\n",
       "    }\n",
       "\n",
       "    .dataframe thead th {\n",
       "        text-align: right;\n",
       "    }\n",
       "</style>\n",
       "<table border=\"1\" class=\"dataframe\">\n",
       "  <thead>\n",
       "    <tr style=\"text-align: right;\">\n",
       "      <th></th>\n",
       "      <th>brand</th>\n",
       "      <th>reference</th>\n",
       "      <th>collection</th>\n",
       "      <th>price_USD_2021</th>\n",
       "      <th>price_USD_2025</th>\n",
       "      <th>Price Difference</th>\n",
       "      <th>Increase Rate (%)</th>\n",
       "      <th>CAGR (%)</th>\n",
       "    </tr>\n",
       "  </thead>\n",
       "  <tbody>\n",
       "    <tr>\n",
       "      <th>0</th>\n",
       "      <td>PANERAI</td>\n",
       "      <td>PAM00715</td>\n",
       "      <td>Luminor</td>\n",
       "      <td>71677.98</td>\n",
       "      <td>66894.573</td>\n",
       "      <td>-4783.407</td>\n",
       "      <td>-6.673468</td>\n",
       "      <td>-1.711823</td>\n",
       "    </tr>\n",
       "    <tr>\n",
       "      <th>1</th>\n",
       "      <td>PANERAI</td>\n",
       "      <td>PAM00742</td>\n",
       "      <td>Luminor</td>\n",
       "      <td>49957.38</td>\n",
       "      <td>48352.909</td>\n",
       "      <td>-1604.471</td>\n",
       "      <td>-3.211680</td>\n",
       "      <td>-0.812775</td>\n",
       "    </tr>\n",
       "    <tr>\n",
       "      <th>2</th>\n",
       "      <td>PANERAI</td>\n",
       "      <td>PAM01060</td>\n",
       "      <td>Luminor</td>\n",
       "      <td>179525.34</td>\n",
       "      <td>175623.128</td>\n",
       "      <td>-3902.212</td>\n",
       "      <td>-2.173627</td>\n",
       "      <td>-0.547893</td>\n",
       "    </tr>\n",
       "  </tbody>\n",
       "</table>\n",
       "</div>"
      ],
      "text/plain": [
       "     brand reference collection  price_USD_2021  price_USD_2025  \\\n",
       "0  PANERAI  PAM00715    Luminor        71677.98       66894.573   \n",
       "1  PANERAI  PAM00742    Luminor        49957.38       48352.909   \n",
       "2  PANERAI  PAM01060    Luminor       179525.34      175623.128   \n",
       "\n",
       "   Price Difference  Increase Rate (%)  CAGR (%)  \n",
       "0         -4783.407          -6.673468 -1.711823  \n",
       "1         -1604.471          -3.211680 -0.812775  \n",
       "2         -3902.212          -2.173627 -0.547893  "
      ]
     },
     "execution_count": 876,
     "metadata": {},
     "output_type": "execute_result"
    }
   ],
   "source": [
    "print(\"Product with Negative Increase Rate:\")\n",
    "negative_increase.head()"
   ]
  },
  {
   "cell_type": "markdown",
   "id": "554f600f",
   "metadata": {},
   "source": [
    "### 3.1.2. Identify Products with Extreme Growth Rates"
   ]
  },
  {
   "cell_type": "code",
   "execution_count": 877,
   "id": "d3a70567",
   "metadata": {},
   "outputs": [],
   "source": [
    "product_highest_increase_rate, product_lowest_increase_rate = get_extreme_products(data_2021_2025_ref)"
   ]
  },
  {
   "cell_type": "code",
   "execution_count": 878,
   "id": "ea2b3286",
   "metadata": {},
   "outputs": [
    {
     "name": "stdout",
     "output_type": "stream",
     "text": [
      "Product with the Highest Increase Rate:\n"
     ]
    },
    {
     "data": {
      "text/html": [
       "<div>\n",
       "<style scoped>\n",
       "    .dataframe tbody tr th:only-of-type {\n",
       "        vertical-align: middle;\n",
       "    }\n",
       "\n",
       "    .dataframe tbody tr th {\n",
       "        vertical-align: top;\n",
       "    }\n",
       "\n",
       "    .dataframe thead th {\n",
       "        text-align: right;\n",
       "    }\n",
       "</style>\n",
       "<table border=\"1\" class=\"dataframe\">\n",
       "  <thead>\n",
       "    <tr style=\"text-align: right;\">\n",
       "      <th></th>\n",
       "      <th>brand</th>\n",
       "      <th>reference</th>\n",
       "      <th>collection</th>\n",
       "      <th>price_USD_2021</th>\n",
       "      <th>price_USD_2025</th>\n",
       "      <th>Price Difference</th>\n",
       "      <th>Increase Rate (%)</th>\n",
       "      <th>CAGR (%)</th>\n",
       "    </tr>\n",
       "  </thead>\n",
       "  <tbody>\n",
       "    <tr>\n",
       "      <th>0</th>\n",
       "      <td>PANERAI</td>\n",
       "      <td>PAM01441</td>\n",
       "      <td>Luminor</td>\n",
       "      <td>13433.49</td>\n",
       "      <td>15381.0875</td>\n",
       "      <td>1947.5975</td>\n",
       "      <td>14.498075</td>\n",
       "      <td>3.442628</td>\n",
       "    </tr>\n",
       "  </tbody>\n",
       "</table>\n",
       "</div>"
      ],
      "text/plain": [
       "     brand reference collection  price_USD_2021  price_USD_2025  \\\n",
       "0  PANERAI  PAM01441    Luminor        13433.49      15381.0875   \n",
       "\n",
       "   Price Difference  Increase Rate (%)  CAGR (%)  \n",
       "0         1947.5975          14.498075  3.442628  "
      ]
     },
     "execution_count": 878,
     "metadata": {},
     "output_type": "execute_result"
    }
   ],
   "source": [
    "# Product with the highest increase rate\n",
    "print(\"Product with the Highest Increase Rate:\")\n",
    "product_highest_increase_rate.head()"
   ]
  },
  {
   "cell_type": "code",
   "execution_count": 879,
   "id": "84cdf59a",
   "metadata": {
    "scrolled": false
   },
   "outputs": [
    {
     "name": "stdout",
     "output_type": "stream",
     "text": [
      "\n",
      "Product with the Lowest Increase Rate:\n"
     ]
    },
    {
     "data": {
      "text/html": [
       "<div>\n",
       "<style scoped>\n",
       "    .dataframe tbody tr th:only-of-type {\n",
       "        vertical-align: middle;\n",
       "    }\n",
       "\n",
       "    .dataframe tbody tr th {\n",
       "        vertical-align: top;\n",
       "    }\n",
       "\n",
       "    .dataframe thead th {\n",
       "        text-align: right;\n",
       "    }\n",
       "</style>\n",
       "<table border=\"1\" class=\"dataframe\">\n",
       "  <thead>\n",
       "    <tr style=\"text-align: right;\">\n",
       "      <th></th>\n",
       "      <th>brand</th>\n",
       "      <th>reference</th>\n",
       "      <th>collection</th>\n",
       "      <th>price_USD_2021</th>\n",
       "      <th>price_USD_2025</th>\n",
       "      <th>Price Difference</th>\n",
       "      <th>Increase Rate (%)</th>\n",
       "      <th>CAGR (%)</th>\n",
       "    </tr>\n",
       "  </thead>\n",
       "  <tbody>\n",
       "    <tr>\n",
       "      <th>0</th>\n",
       "      <td>PANERAI</td>\n",
       "      <td>PAM00715</td>\n",
       "      <td>Luminor</td>\n",
       "      <td>71677.98</td>\n",
       "      <td>66894.573</td>\n",
       "      <td>-4783.407</td>\n",
       "      <td>-6.673468</td>\n",
       "      <td>-1.711823</td>\n",
       "    </tr>\n",
       "  </tbody>\n",
       "</table>\n",
       "</div>"
      ],
      "text/plain": [
       "     brand reference collection  price_USD_2021  price_USD_2025  \\\n",
       "0  PANERAI  PAM00715    Luminor        71677.98       66894.573   \n",
       "\n",
       "   Price Difference  Increase Rate (%)  CAGR (%)  \n",
       "0         -4783.407          -6.673468 -1.711823  "
      ]
     },
     "execution_count": 879,
     "metadata": {},
     "output_type": "execute_result"
    }
   ],
   "source": [
    "# Product with the lowest increase rate\n",
    "print(\"\\nProduct with the Lowest Increase Rate:\")\n",
    "product_lowest_increase_rate.head()"
   ]
  },
  {
   "cell_type": "markdown",
   "id": "ac59f6af",
   "metadata": {},
   "source": [
    "### 3.1.3. Count Products by Increase Direction"
   ]
  },
  {
   "cell_type": "code",
   "execution_count": 785,
   "id": "0d122746",
   "metadata": {},
   "outputs": [],
   "source": [
    "data_2021_2025_grouped_mean, data_2021_2025_grouped_median = group_metrics_by_country(data_2021_2025_ref)"
   ]
  },
  {
   "cell_type": "code",
   "execution_count": 786,
   "id": "b25c7fd8",
   "metadata": {},
   "outputs": [
    {
     "name": "stdout",
     "output_type": "stream",
     "text": [
      "\n",
      "Grouped Mean Metrics by Collection and Reference:\n"
     ]
    },
    {
     "data": {
      "text/html": [
       "<div>\n",
       "<style scoped>\n",
       "    .dataframe tbody tr th:only-of-type {\n",
       "        vertical-align: middle;\n",
       "    }\n",
       "\n",
       "    .dataframe tbody tr th {\n",
       "        vertical-align: top;\n",
       "    }\n",
       "\n",
       "    .dataframe thead th {\n",
       "        text-align: right;\n",
       "    }\n",
       "</style>\n",
       "<table border=\"1\" class=\"dataframe\">\n",
       "  <thead>\n",
       "    <tr style=\"text-align: right;\">\n",
       "      <th></th>\n",
       "      <th>collection</th>\n",
       "      <th>reference</th>\n",
       "      <th>price_USD_2021</th>\n",
       "      <th>price_USD_2025</th>\n",
       "      <th>Price Difference</th>\n",
       "      <th>Increase Rate (%)</th>\n",
       "      <th>CAGR (%)</th>\n",
       "    </tr>\n",
       "  </thead>\n",
       "  <tbody>\n",
       "    <tr>\n",
       "      <th>0</th>\n",
       "      <td>Luminor</td>\n",
       "      <td>PAM00422</td>\n",
       "      <td>10441.59</td>\n",
       "      <td>11633.4025</td>\n",
       "      <td>1191.8125</td>\n",
       "      <td>11.414090</td>\n",
       "      <td>2.738928</td>\n",
       "    </tr>\n",
       "    <tr>\n",
       "      <th>1</th>\n",
       "      <td>Luminor</td>\n",
       "      <td>PAM00670</td>\n",
       "      <td>22745.34</td>\n",
       "      <td>24776.2650</td>\n",
       "      <td>2030.9250</td>\n",
       "      <td>8.928972</td>\n",
       "      <td>2.161168</td>\n",
       "    </tr>\n",
       "    <tr>\n",
       "      <th>2</th>\n",
       "      <td>Luminor</td>\n",
       "      <td>PAM00715</td>\n",
       "      <td>71677.98</td>\n",
       "      <td>66894.5730</td>\n",
       "      <td>-4783.4070</td>\n",
       "      <td>-6.673468</td>\n",
       "      <td>-1.711823</td>\n",
       "    </tr>\n",
       "    <tr>\n",
       "      <th>3</th>\n",
       "      <td>Luminor</td>\n",
       "      <td>PAM00742</td>\n",
       "      <td>49957.38</td>\n",
       "      <td>48352.9090</td>\n",
       "      <td>-1604.4710</td>\n",
       "      <td>-3.211680</td>\n",
       "      <td>-0.812775</td>\n",
       "    </tr>\n",
       "    <tr>\n",
       "      <th>4</th>\n",
       "      <td>Luminor</td>\n",
       "      <td>PAM00914</td>\n",
       "      <td>6439.32</td>\n",
       "      <td>7288.9600</td>\n",
       "      <td>849.6400</td>\n",
       "      <td>13.194561</td>\n",
       "      <td>3.146950</td>\n",
       "    </tr>\n",
       "  </tbody>\n",
       "</table>\n",
       "</div>"
      ],
      "text/plain": [
       "  collection reference  price_USD_2021  price_USD_2025  Price Difference  \\\n",
       "0    Luminor  PAM00422        10441.59      11633.4025         1191.8125   \n",
       "1    Luminor  PAM00670        22745.34      24776.2650         2030.9250   \n",
       "2    Luminor  PAM00715        71677.98      66894.5730        -4783.4070   \n",
       "3    Luminor  PAM00742        49957.38      48352.9090        -1604.4710   \n",
       "4    Luminor  PAM00914         6439.32       7288.9600          849.6400   \n",
       "\n",
       "   Increase Rate (%)  CAGR (%)  \n",
       "0          11.414090  2.738928  \n",
       "1           8.928972  2.161168  \n",
       "2          -6.673468 -1.711823  \n",
       "3          -3.211680 -0.812775  \n",
       "4          13.194561  3.146950  "
      ]
     },
     "execution_count": 786,
     "metadata": {},
     "output_type": "execute_result"
    }
   ],
   "source": [
    "print(f\"\\nGrouped Mean Metrics by Collection and Reference:\")\n",
    "data_2021_2025_grouped_mean.head()"
   ]
  },
  {
   "cell_type": "code",
   "execution_count": 787,
   "id": "8817695d",
   "metadata": {
    "scrolled": true
   },
   "outputs": [
    {
     "name": "stdout",
     "output_type": "stream",
     "text": [
      "\n",
      "Grouped Median Metrics by Collection and Reference:\n"
     ]
    },
    {
     "data": {
      "text/html": [
       "<div>\n",
       "<style scoped>\n",
       "    .dataframe tbody tr th:only-of-type {\n",
       "        vertical-align: middle;\n",
       "    }\n",
       "\n",
       "    .dataframe tbody tr th {\n",
       "        vertical-align: top;\n",
       "    }\n",
       "\n",
       "    .dataframe thead th {\n",
       "        text-align: right;\n",
       "    }\n",
       "</style>\n",
       "<table border=\"1\" class=\"dataframe\">\n",
       "  <thead>\n",
       "    <tr style=\"text-align: right;\">\n",
       "      <th></th>\n",
       "      <th>collection</th>\n",
       "      <th>reference</th>\n",
       "      <th>price_USD_2021</th>\n",
       "      <th>price_USD_2025</th>\n",
       "      <th>Price Difference</th>\n",
       "      <th>Increase Rate (%)</th>\n",
       "      <th>CAGR (%)</th>\n",
       "    </tr>\n",
       "  </thead>\n",
       "  <tbody>\n",
       "    <tr>\n",
       "      <th>0</th>\n",
       "      <td>Luminor</td>\n",
       "      <td>PAM00422</td>\n",
       "      <td>10441.59</td>\n",
       "      <td>11633.4025</td>\n",
       "      <td>1191.8125</td>\n",
       "      <td>11.414090</td>\n",
       "      <td>2.738928</td>\n",
       "    </tr>\n",
       "    <tr>\n",
       "      <th>1</th>\n",
       "      <td>Luminor</td>\n",
       "      <td>PAM00670</td>\n",
       "      <td>22745.34</td>\n",
       "      <td>24776.2650</td>\n",
       "      <td>2030.9250</td>\n",
       "      <td>8.928972</td>\n",
       "      <td>2.161168</td>\n",
       "    </tr>\n",
       "    <tr>\n",
       "      <th>2</th>\n",
       "      <td>Luminor</td>\n",
       "      <td>PAM00715</td>\n",
       "      <td>71677.98</td>\n",
       "      <td>66894.5730</td>\n",
       "      <td>-4783.4070</td>\n",
       "      <td>-6.673468</td>\n",
       "      <td>-1.711823</td>\n",
       "    </tr>\n",
       "    <tr>\n",
       "      <th>3</th>\n",
       "      <td>Luminor</td>\n",
       "      <td>PAM00742</td>\n",
       "      <td>49957.38</td>\n",
       "      <td>48352.9090</td>\n",
       "      <td>-1604.4710</td>\n",
       "      <td>-3.211680</td>\n",
       "      <td>-0.812775</td>\n",
       "    </tr>\n",
       "    <tr>\n",
       "      <th>4</th>\n",
       "      <td>Luminor</td>\n",
       "      <td>PAM00914</td>\n",
       "      <td>6439.32</td>\n",
       "      <td>7288.9600</td>\n",
       "      <td>849.6400</td>\n",
       "      <td>13.194561</td>\n",
       "      <td>3.146950</td>\n",
       "    </tr>\n",
       "  </tbody>\n",
       "</table>\n",
       "</div>"
      ],
      "text/plain": [
       "  collection reference  price_USD_2021  price_USD_2025  Price Difference  \\\n",
       "0    Luminor  PAM00422        10441.59      11633.4025         1191.8125   \n",
       "1    Luminor  PAM00670        22745.34      24776.2650         2030.9250   \n",
       "2    Luminor  PAM00715        71677.98      66894.5730        -4783.4070   \n",
       "3    Luminor  PAM00742        49957.38      48352.9090        -1604.4710   \n",
       "4    Luminor  PAM00914         6439.32       7288.9600          849.6400   \n",
       "\n",
       "   Increase Rate (%)  CAGR (%)  \n",
       "0          11.414090  2.738928  \n",
       "1           8.928972  2.161168  \n",
       "2          -6.673468 -1.711823  \n",
       "3          -3.211680 -0.812775  \n",
       "4          13.194561  3.146950  "
      ]
     },
     "execution_count": 787,
     "metadata": {},
     "output_type": "execute_result"
    }
   ],
   "source": [
    "print(f\"\\nGrouped Median Metrics by Collection and Reference:\")\n",
    "data_2021_2025_grouped_median.head()"
   ]
  },
  {
   "cell_type": "markdown",
   "id": "60dbcfbc",
   "metadata": {},
   "source": [
    "### 3.1.4 Analysis for a given country\n",
    "\n",
    "#### 3.1.4.1. France"
   ]
  },
  {
   "cell_type": "code",
   "execution_count": 788,
   "id": "6f40a177",
   "metadata": {},
   "outputs": [],
   "source": [
    "country = 'France'"
   ]
  },
  {
   "cell_type": "code",
   "execution_count": 789,
   "id": "241cf59e",
   "metadata": {
    "scrolled": true
   },
   "outputs": [],
   "source": [
    "data_2021_country = data_2021[['brand','reference','collection', 'price_USD']][data_2021['country'] == country]\n",
    "data_2025_country = data_2025[['brand','reference','collection', 'price_USD']][data_2025['country'] == country]"
   ]
  },
  {
   "cell_type": "code",
   "execution_count": 790,
   "id": "cb5ec912",
   "metadata": {},
   "outputs": [
    {
     "data": {
      "text/html": [
       "<div>\n",
       "<style scoped>\n",
       "    .dataframe tbody tr th:only-of-type {\n",
       "        vertical-align: middle;\n",
       "    }\n",
       "\n",
       "    .dataframe tbody tr th {\n",
       "        vertical-align: top;\n",
       "    }\n",
       "\n",
       "    .dataframe thead th {\n",
       "        text-align: right;\n",
       "    }\n",
       "</style>\n",
       "<table border=\"1\" class=\"dataframe\">\n",
       "  <thead>\n",
       "    <tr style=\"text-align: right;\">\n",
       "      <th></th>\n",
       "      <th>brand</th>\n",
       "      <th>reference</th>\n",
       "      <th>collection</th>\n",
       "      <th>price_USD_2021</th>\n",
       "      <th>price_USD_2025</th>\n",
       "    </tr>\n",
       "  </thead>\n",
       "  <tbody>\n",
       "    <tr>\n",
       "      <th>0</th>\n",
       "      <td>PANERAI</td>\n",
       "      <td>PAM01086</td>\n",
       "      <td>Luminor</td>\n",
       "      <td>5089.14</td>\n",
       "      <td>5920.02</td>\n",
       "    </tr>\n",
       "    <tr>\n",
       "      <th>1</th>\n",
       "      <td>PANERAI</td>\n",
       "      <td>PAM01084</td>\n",
       "      <td>Luminor</td>\n",
       "      <td>5608.44</td>\n",
       "      <td>6439.32</td>\n",
       "    </tr>\n",
       "    <tr>\n",
       "      <th>2</th>\n",
       "      <td>PANERAI</td>\n",
       "      <td>PAM01085</td>\n",
       "      <td>Luminor</td>\n",
       "      <td>5608.44</td>\n",
       "      <td>6439.32</td>\n",
       "    </tr>\n",
       "    <tr>\n",
       "      <th>3</th>\n",
       "      <td>PANERAI</td>\n",
       "      <td>PAM00914</td>\n",
       "      <td>Luminor</td>\n",
       "      <td>6439.32</td>\n",
       "      <td>7477.92</td>\n",
       "    </tr>\n",
       "    <tr>\n",
       "      <th>4</th>\n",
       "      <td>PANERAI</td>\n",
       "      <td>PAM00915</td>\n",
       "      <td>Luminor</td>\n",
       "      <td>6958.62</td>\n",
       "      <td>7997.22</td>\n",
       "    </tr>\n",
       "  </tbody>\n",
       "</table>\n",
       "</div>"
      ],
      "text/plain": [
       "     brand reference collection  price_USD_2021  price_USD_2025\n",
       "0  PANERAI  PAM01086    Luminor         5089.14         5920.02\n",
       "1  PANERAI  PAM01084    Luminor         5608.44         6439.32\n",
       "2  PANERAI  PAM01085    Luminor         5608.44         6439.32\n",
       "3  PANERAI  PAM00914    Luminor         6439.32         7477.92\n",
       "4  PANERAI  PAM00915    Luminor         6958.62         7997.22"
      ]
     },
     "execution_count": 790,
     "metadata": {},
     "output_type": "execute_result"
    }
   ],
   "source": [
    "data_2021_2025_country_ref = pd.merge(data_2025_country, data_2021_country, on='reference', how='inner')\n",
    "data_2021_2025_country_ref = data_2021_2025_country_ref.rename(columns={'brand_x': 'brand', 'collection_x': 'collection', 'year_x': 'year_2025', 'price_USD_x': 'price_USD_2025', 'year_y': 'year_2021', 'price_USD_y': 'price_USD_2021'})\n",
    "data_2021_2025_country_ref = data_2021_2025_country_ref[['brand', 'reference', 'collection', 'price_USD_2021', 'price_USD_2025']]\n",
    "\n",
    "data_2021_2025_country_ref.head()"
   ]
  },
  {
   "cell_type": "code",
   "execution_count": 791,
   "id": "c81bbe2c",
   "metadata": {},
   "outputs": [],
   "source": [
    "data_2021_2025_country_ref = calculate_price_metrics(data_2021_2025_country_ref)"
   ]
  },
  {
   "cell_type": "code",
   "execution_count": 792,
   "id": "ec627ffb",
   "metadata": {
    "scrolled": true
   },
   "outputs": [
    {
     "name": "stdout",
     "output_type": "stream",
     "text": [
      "Overall Summary:\n",
      "\n",
      "Total of products analyzed (These products have been consistently purchased since 2021): 31\n",
      "Total of Products with a positive increase rate: 31\n",
      "Total Products with a negative increase rate: 0\n",
      "\n"
     ]
    }
   ],
   "source": [
    "positive_increase, count_positive_increase, negative_increase, count_negative_increase = count_increase_directions(data_2021_2025_country_ref)\n",
    "\n",
    "print(\"Overall Summary:\\n\")\n",
    "print(f\"Total of products analyzed (These products have been consistently purchased since 2021): {data_2021_2025_country_ref.shape[0]}\")\n",
    "print(f\"Total of Products with a positive increase rate: {count_positive_increase}\")\n",
    "print(f\"Total Products with a negative increase rate: {count_negative_increase}\\n\")"
   ]
  },
  {
   "cell_type": "code",
   "execution_count": 793,
   "id": "dd80cfc4",
   "metadata": {
    "scrolled": true
   },
   "outputs": [
    {
     "name": "stdout",
     "output_type": "stream",
     "text": [
      "Product with Positive Increase Rate:\n"
     ]
    },
    {
     "data": {
      "text/html": [
       "<div>\n",
       "<style scoped>\n",
       "    .dataframe tbody tr th:only-of-type {\n",
       "        vertical-align: middle;\n",
       "    }\n",
       "\n",
       "    .dataframe tbody tr th {\n",
       "        vertical-align: top;\n",
       "    }\n",
       "\n",
       "    .dataframe thead th {\n",
       "        text-align: right;\n",
       "    }\n",
       "</style>\n",
       "<table border=\"1\" class=\"dataframe\">\n",
       "  <thead>\n",
       "    <tr style=\"text-align: right;\">\n",
       "      <th></th>\n",
       "      <th>brand</th>\n",
       "      <th>reference</th>\n",
       "      <th>collection</th>\n",
       "      <th>price_USD_2021</th>\n",
       "      <th>price_USD_2025</th>\n",
       "      <th>Price Difference</th>\n",
       "      <th>Increase Rate (%)</th>\n",
       "      <th>CAGR (%)</th>\n",
       "    </tr>\n",
       "  </thead>\n",
       "  <tbody>\n",
       "    <tr>\n",
       "      <th>0</th>\n",
       "      <td>PANERAI</td>\n",
       "      <td>PAM01086</td>\n",
       "      <td>Luminor</td>\n",
       "      <td>5089.14</td>\n",
       "      <td>5920.02</td>\n",
       "      <td>830.88</td>\n",
       "      <td>16.326531</td>\n",
       "      <td>3.853155</td>\n",
       "    </tr>\n",
       "    <tr>\n",
       "      <th>1</th>\n",
       "      <td>PANERAI</td>\n",
       "      <td>PAM01084</td>\n",
       "      <td>Luminor</td>\n",
       "      <td>5608.44</td>\n",
       "      <td>6439.32</td>\n",
       "      <td>830.88</td>\n",
       "      <td>14.814815</td>\n",
       "      <td>3.514093</td>\n",
       "    </tr>\n",
       "    <tr>\n",
       "      <th>2</th>\n",
       "      <td>PANERAI</td>\n",
       "      <td>PAM01085</td>\n",
       "      <td>Luminor</td>\n",
       "      <td>5608.44</td>\n",
       "      <td>6439.32</td>\n",
       "      <td>830.88</td>\n",
       "      <td>14.814815</td>\n",
       "      <td>3.514093</td>\n",
       "    </tr>\n",
       "    <tr>\n",
       "      <th>3</th>\n",
       "      <td>PANERAI</td>\n",
       "      <td>PAM00914</td>\n",
       "      <td>Luminor</td>\n",
       "      <td>6439.32</td>\n",
       "      <td>7477.92</td>\n",
       "      <td>1038.60</td>\n",
       "      <td>16.129032</td>\n",
       "      <td>3.809046</td>\n",
       "    </tr>\n",
       "    <tr>\n",
       "      <th>4</th>\n",
       "      <td>PANERAI</td>\n",
       "      <td>PAM00915</td>\n",
       "      <td>Luminor</td>\n",
       "      <td>6958.62</td>\n",
       "      <td>7997.22</td>\n",
       "      <td>1038.60</td>\n",
       "      <td>14.925373</td>\n",
       "      <td>3.539003</td>\n",
       "    </tr>\n",
       "  </tbody>\n",
       "</table>\n",
       "</div>"
      ],
      "text/plain": [
       "     brand reference collection  price_USD_2021  price_USD_2025  \\\n",
       "0  PANERAI  PAM01086    Luminor         5089.14         5920.02   \n",
       "1  PANERAI  PAM01084    Luminor         5608.44         6439.32   \n",
       "2  PANERAI  PAM01085    Luminor         5608.44         6439.32   \n",
       "3  PANERAI  PAM00914    Luminor         6439.32         7477.92   \n",
       "4  PANERAI  PAM00915    Luminor         6958.62         7997.22   \n",
       "\n",
       "   Price Difference  Increase Rate (%)  CAGR (%)  \n",
       "0            830.88          16.326531  3.853155  \n",
       "1            830.88          14.814815  3.514093  \n",
       "2            830.88          14.814815  3.514093  \n",
       "3           1038.60          16.129032  3.809046  \n",
       "4           1038.60          14.925373  3.539003  "
      ]
     },
     "execution_count": 793,
     "metadata": {},
     "output_type": "execute_result"
    }
   ],
   "source": [
    "print(\"Product with Positive Increase Rate:\")\n",
    "positive_increase.head()"
   ]
  },
  {
   "cell_type": "code",
   "execution_count": 794,
   "id": "31ead581",
   "metadata": {},
   "outputs": [
    {
     "name": "stdout",
     "output_type": "stream",
     "text": [
      "Product with Negative Increase Rate:\n"
     ]
    },
    {
     "data": {
      "text/html": [
       "<div>\n",
       "<style scoped>\n",
       "    .dataframe tbody tr th:only-of-type {\n",
       "        vertical-align: middle;\n",
       "    }\n",
       "\n",
       "    .dataframe tbody tr th {\n",
       "        vertical-align: top;\n",
       "    }\n",
       "\n",
       "    .dataframe thead th {\n",
       "        text-align: right;\n",
       "    }\n",
       "</style>\n",
       "<table border=\"1\" class=\"dataframe\">\n",
       "  <thead>\n",
       "    <tr style=\"text-align: right;\">\n",
       "      <th></th>\n",
       "      <th>brand</th>\n",
       "      <th>reference</th>\n",
       "      <th>collection</th>\n",
       "      <th>price_USD_2021</th>\n",
       "      <th>price_USD_2025</th>\n",
       "      <th>Price Difference</th>\n",
       "      <th>Increase Rate (%)</th>\n",
       "      <th>CAGR (%)</th>\n",
       "    </tr>\n",
       "  </thead>\n",
       "  <tbody>\n",
       "  </tbody>\n",
       "</table>\n",
       "</div>"
      ],
      "text/plain": [
       "Empty DataFrame\n",
       "Columns: [brand, reference, collection, price_USD_2021, price_USD_2025, Price Difference, Increase Rate (%), CAGR (%)]\n",
       "Index: []"
      ]
     },
     "execution_count": 794,
     "metadata": {},
     "output_type": "execute_result"
    }
   ],
   "source": [
    "print(\"Product with Negative Increase Rate:\")\n",
    "negative_increase.head()"
   ]
  },
  {
   "cell_type": "markdown",
   "id": "41f6a083",
   "metadata": {},
   "source": [
    "#### Identify Products with Extreme Growth Rates"
   ]
  },
  {
   "cell_type": "code",
   "execution_count": 795,
   "id": "ce0ee792",
   "metadata": {},
   "outputs": [],
   "source": [
    "product_highest_increase_rate, product_lowest_increase_rate = get_extreme_products(data_2021_2025_country_ref)"
   ]
  },
  {
   "cell_type": "code",
   "execution_count": 796,
   "id": "4f4ae2b0",
   "metadata": {},
   "outputs": [
    {
     "name": "stdout",
     "output_type": "stream",
     "text": [
      "Product with the Highest Increase Rate:\n"
     ]
    },
    {
     "data": {
      "text/html": [
       "<div>\n",
       "<style scoped>\n",
       "    .dataframe tbody tr th:only-of-type {\n",
       "        vertical-align: middle;\n",
       "    }\n",
       "\n",
       "    .dataframe tbody tr th {\n",
       "        vertical-align: top;\n",
       "    }\n",
       "\n",
       "    .dataframe thead th {\n",
       "        text-align: right;\n",
       "    }\n",
       "</style>\n",
       "<table border=\"1\" class=\"dataframe\">\n",
       "  <thead>\n",
       "    <tr style=\"text-align: right;\">\n",
       "      <th></th>\n",
       "      <th>brand</th>\n",
       "      <th>reference</th>\n",
       "      <th>collection</th>\n",
       "      <th>price_USD_2021</th>\n",
       "      <th>price_USD_2025</th>\n",
       "      <th>Price Difference</th>\n",
       "      <th>Increase Rate (%)</th>\n",
       "      <th>CAGR (%)</th>\n",
       "    </tr>\n",
       "  </thead>\n",
       "  <tbody>\n",
       "    <tr>\n",
       "      <th>0</th>\n",
       "      <td>PANERAI</td>\n",
       "      <td>PAM00422</td>\n",
       "      <td>Luminor</td>\n",
       "      <td>10178.28</td>\n",
       "      <td>11943.9</td>\n",
       "      <td>1765.62</td>\n",
       "      <td>17.346939</td>\n",
       "      <td>4.080158</td>\n",
       "    </tr>\n",
       "  </tbody>\n",
       "</table>\n",
       "</div>"
      ],
      "text/plain": [
       "     brand reference collection  price_USD_2021  price_USD_2025  \\\n",
       "0  PANERAI  PAM00422    Luminor        10178.28         11943.9   \n",
       "\n",
       "   Price Difference  Increase Rate (%)  CAGR (%)  \n",
       "0           1765.62          17.346939  4.080158  "
      ]
     },
     "execution_count": 796,
     "metadata": {},
     "output_type": "execute_result"
    }
   ],
   "source": [
    "# Product with the highest increase rate\n",
    "print(\"Product with the Highest Increase Rate:\")\n",
    "product_highest_increase_rate.head()"
   ]
  },
  {
   "cell_type": "code",
   "execution_count": 797,
   "id": "a43f267c",
   "metadata": {
    "scrolled": true
   },
   "outputs": [
    {
     "name": "stdout",
     "output_type": "stream",
     "text": [
      "\n",
      "Product with the Lowest Increase Rate:\n"
     ]
    },
    {
     "data": {
      "text/html": [
       "<div>\n",
       "<style scoped>\n",
       "    .dataframe tbody tr th:only-of-type {\n",
       "        vertical-align: middle;\n",
       "    }\n",
       "\n",
       "    .dataframe tbody tr th {\n",
       "        vertical-align: top;\n",
       "    }\n",
       "\n",
       "    .dataframe thead th {\n",
       "        text-align: right;\n",
       "    }\n",
       "</style>\n",
       "<table border=\"1\" class=\"dataframe\">\n",
       "  <thead>\n",
       "    <tr style=\"text-align: right;\">\n",
       "      <th></th>\n",
       "      <th>brand</th>\n",
       "      <th>reference</th>\n",
       "      <th>collection</th>\n",
       "      <th>price_USD_2021</th>\n",
       "      <th>price_USD_2025</th>\n",
       "      <th>Price Difference</th>\n",
       "      <th>Increase Rate (%)</th>\n",
       "      <th>CAGR (%)</th>\n",
       "    </tr>\n",
       "  </thead>\n",
       "  <tbody>\n",
       "    <tr>\n",
       "      <th>0</th>\n",
       "      <td>PANERAI</td>\n",
       "      <td>PAM00715</td>\n",
       "      <td>Luminor</td>\n",
       "      <td>68547.6</td>\n",
       "      <td>74779.2</td>\n",
       "      <td>6231.6</td>\n",
       "      <td>9.090909</td>\n",
       "      <td>2.199116</td>\n",
       "    </tr>\n",
       "  </tbody>\n",
       "</table>\n",
       "</div>"
      ],
      "text/plain": [
       "     brand reference collection  price_USD_2021  price_USD_2025  \\\n",
       "0  PANERAI  PAM00715    Luminor         68547.6         74779.2   \n",
       "\n",
       "   Price Difference  Increase Rate (%)  CAGR (%)  \n",
       "0            6231.6           9.090909  2.199116  "
      ]
     },
     "execution_count": 797,
     "metadata": {},
     "output_type": "execute_result"
    }
   ],
   "source": [
    "# Product with the lowest increase rate\n",
    "print(\"\\nProduct with the Lowest Increase Rate:\")\n",
    "product_lowest_increase_rate.head()"
   ]
  },
  {
   "cell_type": "markdown",
   "id": "ed15285c",
   "metadata": {},
   "source": [
    "#### Count Products by Increase Direction"
   ]
  },
  {
   "cell_type": "code",
   "execution_count": 798,
   "id": "5631145a",
   "metadata": {},
   "outputs": [],
   "source": [
    "data_2021_2025_grouped_mean, data_2021_2025_grouped_median = group_metrics_by_country(data_2021_2025_country_ref)"
   ]
  },
  {
   "cell_type": "code",
   "execution_count": 799,
   "id": "88a53525",
   "metadata": {},
   "outputs": [
    {
     "name": "stdout",
     "output_type": "stream",
     "text": [
      "\n",
      "Grouped Mean Metrics by Collection and Reference:\n"
     ]
    },
    {
     "data": {
      "text/html": [
       "<div>\n",
       "<style scoped>\n",
       "    .dataframe tbody tr th:only-of-type {\n",
       "        vertical-align: middle;\n",
       "    }\n",
       "\n",
       "    .dataframe tbody tr th {\n",
       "        vertical-align: top;\n",
       "    }\n",
       "\n",
       "    .dataframe thead th {\n",
       "        text-align: right;\n",
       "    }\n",
       "</style>\n",
       "<table border=\"1\" class=\"dataframe\">\n",
       "  <thead>\n",
       "    <tr style=\"text-align: right;\">\n",
       "      <th></th>\n",
       "      <th>collection</th>\n",
       "      <th>reference</th>\n",
       "      <th>price_USD_2021</th>\n",
       "      <th>price_USD_2025</th>\n",
       "      <th>Price Difference</th>\n",
       "      <th>Increase Rate (%)</th>\n",
       "      <th>CAGR (%)</th>\n",
       "    </tr>\n",
       "  </thead>\n",
       "  <tbody>\n",
       "    <tr>\n",
       "      <th>0</th>\n",
       "      <td>Luminor</td>\n",
       "      <td>PAM00422</td>\n",
       "      <td>10178.28</td>\n",
       "      <td>11943.90</td>\n",
       "      <td>1765.62</td>\n",
       "      <td>17.346939</td>\n",
       "      <td>4.080158</td>\n",
       "    </tr>\n",
       "    <tr>\n",
       "      <th>1</th>\n",
       "      <td>Luminor</td>\n",
       "      <td>PAM00670</td>\n",
       "      <td>22745.34</td>\n",
       "      <td>25445.70</td>\n",
       "      <td>2700.36</td>\n",
       "      <td>11.872146</td>\n",
       "      <td>2.844363</td>\n",
       "    </tr>\n",
       "    <tr>\n",
       "      <th>2</th>\n",
       "      <td>Luminor</td>\n",
       "      <td>PAM00715</td>\n",
       "      <td>68547.60</td>\n",
       "      <td>74779.20</td>\n",
       "      <td>6231.60</td>\n",
       "      <td>9.090909</td>\n",
       "      <td>2.199116</td>\n",
       "    </tr>\n",
       "    <tr>\n",
       "      <th>3</th>\n",
       "      <td>Luminor</td>\n",
       "      <td>PAM00742</td>\n",
       "      <td>47775.60</td>\n",
       "      <td>54007.20</td>\n",
       "      <td>6231.60</td>\n",
       "      <td>13.043478</td>\n",
       "      <td>3.112515</td>\n",
       "    </tr>\n",
       "    <tr>\n",
       "      <th>4</th>\n",
       "      <td>Luminor</td>\n",
       "      <td>PAM00914</td>\n",
       "      <td>6439.32</td>\n",
       "      <td>7477.92</td>\n",
       "      <td>1038.60</td>\n",
       "      <td>16.129032</td>\n",
       "      <td>3.809046</td>\n",
       "    </tr>\n",
       "  </tbody>\n",
       "</table>\n",
       "</div>"
      ],
      "text/plain": [
       "  collection reference  price_USD_2021  price_USD_2025  Price Difference  \\\n",
       "0    Luminor  PAM00422        10178.28        11943.90           1765.62   \n",
       "1    Luminor  PAM00670        22745.34        25445.70           2700.36   \n",
       "2    Luminor  PAM00715        68547.60        74779.20           6231.60   \n",
       "3    Luminor  PAM00742        47775.60        54007.20           6231.60   \n",
       "4    Luminor  PAM00914         6439.32         7477.92           1038.60   \n",
       "\n",
       "   Increase Rate (%)  CAGR (%)  \n",
       "0          17.346939  4.080158  \n",
       "1          11.872146  2.844363  \n",
       "2           9.090909  2.199116  \n",
       "3          13.043478  3.112515  \n",
       "4          16.129032  3.809046  "
      ]
     },
     "execution_count": 799,
     "metadata": {},
     "output_type": "execute_result"
    }
   ],
   "source": [
    "print(f\"\\nGrouped Mean Metrics by Collection and Reference:\")\n",
    "data_2021_2025_grouped_mean.head()"
   ]
  },
  {
   "cell_type": "code",
   "execution_count": 800,
   "id": "9b0c67bb",
   "metadata": {
    "scrolled": false
   },
   "outputs": [
    {
     "name": "stdout",
     "output_type": "stream",
     "text": [
      "\n",
      "Grouped Median Metrics by Collection and Reference:\n"
     ]
    },
    {
     "data": {
      "text/html": [
       "<div>\n",
       "<style scoped>\n",
       "    .dataframe tbody tr th:only-of-type {\n",
       "        vertical-align: middle;\n",
       "    }\n",
       "\n",
       "    .dataframe tbody tr th {\n",
       "        vertical-align: top;\n",
       "    }\n",
       "\n",
       "    .dataframe thead th {\n",
       "        text-align: right;\n",
       "    }\n",
       "</style>\n",
       "<table border=\"1\" class=\"dataframe\">\n",
       "  <thead>\n",
       "    <tr style=\"text-align: right;\">\n",
       "      <th></th>\n",
       "      <th>collection</th>\n",
       "      <th>reference</th>\n",
       "      <th>price_USD_2021</th>\n",
       "      <th>price_USD_2025</th>\n",
       "      <th>Price Difference</th>\n",
       "      <th>Increase Rate (%)</th>\n",
       "      <th>CAGR (%)</th>\n",
       "    </tr>\n",
       "  </thead>\n",
       "  <tbody>\n",
       "    <tr>\n",
       "      <th>0</th>\n",
       "      <td>Luminor</td>\n",
       "      <td>PAM00422</td>\n",
       "      <td>10178.28</td>\n",
       "      <td>11943.90</td>\n",
       "      <td>1765.62</td>\n",
       "      <td>17.346939</td>\n",
       "      <td>4.080158</td>\n",
       "    </tr>\n",
       "    <tr>\n",
       "      <th>1</th>\n",
       "      <td>Luminor</td>\n",
       "      <td>PAM00670</td>\n",
       "      <td>22745.34</td>\n",
       "      <td>25445.70</td>\n",
       "      <td>2700.36</td>\n",
       "      <td>11.872146</td>\n",
       "      <td>2.844363</td>\n",
       "    </tr>\n",
       "    <tr>\n",
       "      <th>2</th>\n",
       "      <td>Luminor</td>\n",
       "      <td>PAM00715</td>\n",
       "      <td>68547.60</td>\n",
       "      <td>74779.20</td>\n",
       "      <td>6231.60</td>\n",
       "      <td>9.090909</td>\n",
       "      <td>2.199116</td>\n",
       "    </tr>\n",
       "    <tr>\n",
       "      <th>3</th>\n",
       "      <td>Luminor</td>\n",
       "      <td>PAM00742</td>\n",
       "      <td>47775.60</td>\n",
       "      <td>54007.20</td>\n",
       "      <td>6231.60</td>\n",
       "      <td>13.043478</td>\n",
       "      <td>3.112515</td>\n",
       "    </tr>\n",
       "    <tr>\n",
       "      <th>4</th>\n",
       "      <td>Luminor</td>\n",
       "      <td>PAM00914</td>\n",
       "      <td>6439.32</td>\n",
       "      <td>7477.92</td>\n",
       "      <td>1038.60</td>\n",
       "      <td>16.129032</td>\n",
       "      <td>3.809046</td>\n",
       "    </tr>\n",
       "  </tbody>\n",
       "</table>\n",
       "</div>"
      ],
      "text/plain": [
       "  collection reference  price_USD_2021  price_USD_2025  Price Difference  \\\n",
       "0    Luminor  PAM00422        10178.28        11943.90           1765.62   \n",
       "1    Luminor  PAM00670        22745.34        25445.70           2700.36   \n",
       "2    Luminor  PAM00715        68547.60        74779.20           6231.60   \n",
       "3    Luminor  PAM00742        47775.60        54007.20           6231.60   \n",
       "4    Luminor  PAM00914         6439.32         7477.92           1038.60   \n",
       "\n",
       "   Increase Rate (%)  CAGR (%)  \n",
       "0          17.346939  4.080158  \n",
       "1          11.872146  2.844363  \n",
       "2           9.090909  2.199116  \n",
       "3          13.043478  3.112515  \n",
       "4          16.129032  3.809046  "
      ]
     },
     "execution_count": 800,
     "metadata": {},
     "output_type": "execute_result"
    }
   ],
   "source": [
    "print(f\"\\nGrouped Median Metrics by Collection and Reference:\")\n",
    "data_2021_2025_grouped_median.head()"
   ]
  },
  {
   "cell_type": "markdown",
   "id": "f02523bd",
   "metadata": {},
   "source": [
    "#### 3.1.4.2. USA"
   ]
  },
  {
   "cell_type": "code",
   "execution_count": 801,
   "id": "ab095c36",
   "metadata": {},
   "outputs": [],
   "source": [
    "country = \"USA\""
   ]
  },
  {
   "cell_type": "code",
   "execution_count": 802,
   "id": "68eb3dc5",
   "metadata": {
    "scrolled": true
   },
   "outputs": [],
   "source": [
    "data_2021_country = data_2021[['brand','reference','collection', 'price_USD']][data_2021['country'] == country]\n",
    "data_2025_country = data_2025[['brand','reference','collection', 'price_USD']][data_2025['country'] == country]"
   ]
  },
  {
   "cell_type": "code",
   "execution_count": 803,
   "id": "43832744",
   "metadata": {},
   "outputs": [
    {
     "data": {
      "text/html": [
       "<div>\n",
       "<style scoped>\n",
       "    .dataframe tbody tr th:only-of-type {\n",
       "        vertical-align: middle;\n",
       "    }\n",
       "\n",
       "    .dataframe tbody tr th {\n",
       "        vertical-align: top;\n",
       "    }\n",
       "\n",
       "    .dataframe thead th {\n",
       "        text-align: right;\n",
       "    }\n",
       "</style>\n",
       "<table border=\"1\" class=\"dataframe\">\n",
       "  <thead>\n",
       "    <tr style=\"text-align: right;\">\n",
       "      <th></th>\n",
       "      <th>brand</th>\n",
       "      <th>reference</th>\n",
       "      <th>collection</th>\n",
       "      <th>price_USD_2021</th>\n",
       "      <th>price_USD_2025</th>\n",
       "    </tr>\n",
       "  </thead>\n",
       "  <tbody>\n",
       "    <tr>\n",
       "      <th>0</th>\n",
       "      <td>PANERAI</td>\n",
       "      <td>PAM01086</td>\n",
       "      <td>Luminor</td>\n",
       "      <td>6400.0</td>\n",
       "      <td>5600.0</td>\n",
       "    </tr>\n",
       "    <tr>\n",
       "      <th>1</th>\n",
       "      <td>PANERAI</td>\n",
       "      <td>PAM01084</td>\n",
       "      <td>Luminor</td>\n",
       "      <td>7100.0</td>\n",
       "      <td>6100.0</td>\n",
       "    </tr>\n",
       "    <tr>\n",
       "      <th>2</th>\n",
       "      <td>PANERAI</td>\n",
       "      <td>PAM01085</td>\n",
       "      <td>Luminor</td>\n",
       "      <td>7100.0</td>\n",
       "      <td>6100.0</td>\n",
       "    </tr>\n",
       "    <tr>\n",
       "      <th>3</th>\n",
       "      <td>PANERAI</td>\n",
       "      <td>PAM00915</td>\n",
       "      <td>Luminor</td>\n",
       "      <td>8800.0</td>\n",
       "      <td>7600.0</td>\n",
       "    </tr>\n",
       "    <tr>\n",
       "      <th>4</th>\n",
       "      <td>PANERAI</td>\n",
       "      <td>PAM00422</td>\n",
       "      <td>Luminor</td>\n",
       "      <td>12800.0</td>\n",
       "      <td>11300.0</td>\n",
       "    </tr>\n",
       "  </tbody>\n",
       "</table>\n",
       "</div>"
      ],
      "text/plain": [
       "     brand reference collection  price_USD_2021  price_USD_2025\n",
       "0  PANERAI  PAM01086    Luminor          6400.0          5600.0\n",
       "1  PANERAI  PAM01084    Luminor          7100.0          6100.0\n",
       "2  PANERAI  PAM01085    Luminor          7100.0          6100.0\n",
       "3  PANERAI  PAM00915    Luminor          8800.0          7600.0\n",
       "4  PANERAI  PAM00422    Luminor         12800.0         11300.0"
      ]
     },
     "execution_count": 803,
     "metadata": {},
     "output_type": "execute_result"
    }
   ],
   "source": [
    "data_2021_2025_country_ref = pd.merge(data_2025_country, data_2021_country, on='reference', how='inner')\n",
    "data_2021_2025_country_ref = data_2021_2025_country_ref.rename(columns={'brand_x': 'brand', 'collection_x': 'collection', 'year_x': 'year_2025', 'price_USD_x': 'price_USD_2025', 'year_y': 'year_2021', 'price_USD_y': 'price_USD_2021'})\n",
    "data_2021_2025_country_ref = data_2021_2025_country_ref[['brand', 'reference', 'collection', 'price_USD_2021', 'price_USD_2025']]\n",
    "\n",
    "data_2021_2025_country_ref.head()"
   ]
  },
  {
   "cell_type": "code",
   "execution_count": 804,
   "id": "55cbe0db",
   "metadata": {},
   "outputs": [],
   "source": [
    "data_2021_2025_country_ref = calculate_price_metrics(data_2021_2025_country_ref)"
   ]
  },
  {
   "cell_type": "code",
   "execution_count": 805,
   "id": "487ffc0d",
   "metadata": {
    "scrolled": true
   },
   "outputs": [
    {
     "name": "stdout",
     "output_type": "stream",
     "text": [
      "Overall Summary:\n",
      "\n",
      "Total of products analyzed (These products have been consistently purchased since 2021): 29\n",
      "Total of Products with a positive increase rate: 0\n",
      "Total Products with a negative increase rate: 29\n",
      "\n"
     ]
    }
   ],
   "source": [
    "positive_increase, count_positive_increase, negative_increase, count_negative_increase = count_increase_directions(data_2021_2025_country_ref)\n",
    "\n",
    "print(\"Overall Summary:\\n\")\n",
    "print(f\"Total of products analyzed (These products have been consistently purchased since 2021): {data_2021_2025_country_ref.shape[0]}\")\n",
    "print(f\"Total of Products with a positive increase rate: {count_positive_increase}\")\n",
    "print(f\"Total Products with a negative increase rate: {count_negative_increase}\\n\")"
   ]
  },
  {
   "cell_type": "code",
   "execution_count": 806,
   "id": "9de37132",
   "metadata": {
    "scrolled": true
   },
   "outputs": [
    {
     "name": "stdout",
     "output_type": "stream",
     "text": [
      "Product with Positive Increase Rate:\n"
     ]
    },
    {
     "data": {
      "text/html": [
       "<div>\n",
       "<style scoped>\n",
       "    .dataframe tbody tr th:only-of-type {\n",
       "        vertical-align: middle;\n",
       "    }\n",
       "\n",
       "    .dataframe tbody tr th {\n",
       "        vertical-align: top;\n",
       "    }\n",
       "\n",
       "    .dataframe thead th {\n",
       "        text-align: right;\n",
       "    }\n",
       "</style>\n",
       "<table border=\"1\" class=\"dataframe\">\n",
       "  <thead>\n",
       "    <tr style=\"text-align: right;\">\n",
       "      <th></th>\n",
       "      <th>brand</th>\n",
       "      <th>reference</th>\n",
       "      <th>collection</th>\n",
       "      <th>price_USD_2021</th>\n",
       "      <th>price_USD_2025</th>\n",
       "      <th>Price Difference</th>\n",
       "      <th>Increase Rate (%)</th>\n",
       "      <th>CAGR (%)</th>\n",
       "    </tr>\n",
       "  </thead>\n",
       "  <tbody>\n",
       "  </tbody>\n",
       "</table>\n",
       "</div>"
      ],
      "text/plain": [
       "Empty DataFrame\n",
       "Columns: [brand, reference, collection, price_USD_2021, price_USD_2025, Price Difference, Increase Rate (%), CAGR (%)]\n",
       "Index: []"
      ]
     },
     "execution_count": 806,
     "metadata": {},
     "output_type": "execute_result"
    }
   ],
   "source": [
    "print(\"Product with Positive Increase Rate:\")\n",
    "positive_increase.head()"
   ]
  },
  {
   "cell_type": "code",
   "execution_count": 807,
   "id": "13f8196d",
   "metadata": {},
   "outputs": [
    {
     "name": "stdout",
     "output_type": "stream",
     "text": [
      "Product with Negative Increase Rate:\n"
     ]
    },
    {
     "data": {
      "text/html": [
       "<div>\n",
       "<style scoped>\n",
       "    .dataframe tbody tr th:only-of-type {\n",
       "        vertical-align: middle;\n",
       "    }\n",
       "\n",
       "    .dataframe tbody tr th {\n",
       "        vertical-align: top;\n",
       "    }\n",
       "\n",
       "    .dataframe thead th {\n",
       "        text-align: right;\n",
       "    }\n",
       "</style>\n",
       "<table border=\"1\" class=\"dataframe\">\n",
       "  <thead>\n",
       "    <tr style=\"text-align: right;\">\n",
       "      <th></th>\n",
       "      <th>brand</th>\n",
       "      <th>reference</th>\n",
       "      <th>collection</th>\n",
       "      <th>price_USD_2021</th>\n",
       "      <th>price_USD_2025</th>\n",
       "      <th>Price Difference</th>\n",
       "      <th>Increase Rate (%)</th>\n",
       "      <th>CAGR (%)</th>\n",
       "    </tr>\n",
       "  </thead>\n",
       "  <tbody>\n",
       "    <tr>\n",
       "      <th>0</th>\n",
       "      <td>PANERAI</td>\n",
       "      <td>PAM01086</td>\n",
       "      <td>Luminor</td>\n",
       "      <td>6400.0</td>\n",
       "      <td>5600.0</td>\n",
       "      <td>-800.0</td>\n",
       "      <td>-12.500000</td>\n",
       "      <td>-3.283179</td>\n",
       "    </tr>\n",
       "    <tr>\n",
       "      <th>1</th>\n",
       "      <td>PANERAI</td>\n",
       "      <td>PAM01084</td>\n",
       "      <td>Luminor</td>\n",
       "      <td>7100.0</td>\n",
       "      <td>6100.0</td>\n",
       "      <td>-1000.0</td>\n",
       "      <td>-14.084507</td>\n",
       "      <td>-3.724037</td>\n",
       "    </tr>\n",
       "    <tr>\n",
       "      <th>2</th>\n",
       "      <td>PANERAI</td>\n",
       "      <td>PAM01085</td>\n",
       "      <td>Luminor</td>\n",
       "      <td>7100.0</td>\n",
       "      <td>6100.0</td>\n",
       "      <td>-1000.0</td>\n",
       "      <td>-14.084507</td>\n",
       "      <td>-3.724037</td>\n",
       "    </tr>\n",
       "    <tr>\n",
       "      <th>3</th>\n",
       "      <td>PANERAI</td>\n",
       "      <td>PAM00915</td>\n",
       "      <td>Luminor</td>\n",
       "      <td>8800.0</td>\n",
       "      <td>7600.0</td>\n",
       "      <td>-1200.0</td>\n",
       "      <td>-13.636364</td>\n",
       "      <td>-3.598736</td>\n",
       "    </tr>\n",
       "    <tr>\n",
       "      <th>4</th>\n",
       "      <td>PANERAI</td>\n",
       "      <td>PAM00422</td>\n",
       "      <td>Luminor</td>\n",
       "      <td>12800.0</td>\n",
       "      <td>11300.0</td>\n",
       "      <td>-1500.0</td>\n",
       "      <td>-11.718750</td>\n",
       "      <td>-3.068012</td>\n",
       "    </tr>\n",
       "  </tbody>\n",
       "</table>\n",
       "</div>"
      ],
      "text/plain": [
       "     brand reference collection  price_USD_2021  price_USD_2025  \\\n",
       "0  PANERAI  PAM01086    Luminor          6400.0          5600.0   \n",
       "1  PANERAI  PAM01084    Luminor          7100.0          6100.0   \n",
       "2  PANERAI  PAM01085    Luminor          7100.0          6100.0   \n",
       "3  PANERAI  PAM00915    Luminor          8800.0          7600.0   \n",
       "4  PANERAI  PAM00422    Luminor         12800.0         11300.0   \n",
       "\n",
       "   Price Difference  Increase Rate (%)  CAGR (%)  \n",
       "0            -800.0         -12.500000 -3.283179  \n",
       "1           -1000.0         -14.084507 -3.724037  \n",
       "2           -1000.0         -14.084507 -3.724037  \n",
       "3           -1200.0         -13.636364 -3.598736  \n",
       "4           -1500.0         -11.718750 -3.068012  "
      ]
     },
     "execution_count": 807,
     "metadata": {},
     "output_type": "execute_result"
    }
   ],
   "source": [
    "print(\"Product with Negative Increase Rate:\")\n",
    "negative_increase.head()"
   ]
  },
  {
   "cell_type": "markdown",
   "id": "dee2f1c9",
   "metadata": {},
   "source": [
    "#### Identify Products with Extreme Growth Rates"
   ]
  },
  {
   "cell_type": "code",
   "execution_count": 808,
   "id": "38ae8bca",
   "metadata": {},
   "outputs": [],
   "source": [
    "product_highest_increase_rate, product_lowest_increase_rate = get_extreme_products(data_2021_2025_country_ref)"
   ]
  },
  {
   "cell_type": "code",
   "execution_count": 809,
   "id": "90ff07d8",
   "metadata": {},
   "outputs": [
    {
     "name": "stdout",
     "output_type": "stream",
     "text": [
      "Product with the Highest Increase Rate:\n"
     ]
    },
    {
     "data": {
      "text/html": [
       "<div>\n",
       "<style scoped>\n",
       "    .dataframe tbody tr th:only-of-type {\n",
       "        vertical-align: middle;\n",
       "    }\n",
       "\n",
       "    .dataframe tbody tr th {\n",
       "        vertical-align: top;\n",
       "    }\n",
       "\n",
       "    .dataframe thead th {\n",
       "        text-align: right;\n",
       "    }\n",
       "</style>\n",
       "<table border=\"1\" class=\"dataframe\">\n",
       "  <thead>\n",
       "    <tr style=\"text-align: right;\">\n",
       "      <th></th>\n",
       "      <th>brand</th>\n",
       "      <th>reference</th>\n",
       "      <th>collection</th>\n",
       "      <th>price_USD_2021</th>\n",
       "      <th>price_USD_2025</th>\n",
       "      <th>Price Difference</th>\n",
       "      <th>Increase Rate (%)</th>\n",
       "      <th>CAGR (%)</th>\n",
       "    </tr>\n",
       "  </thead>\n",
       "  <tbody>\n",
       "    <tr>\n",
       "      <th>0</th>\n",
       "      <td>PANERAI</td>\n",
       "      <td>PAM00968</td>\n",
       "      <td>Submersible</td>\n",
       "      <td>20900.0</td>\n",
       "      <td>18600.0</td>\n",
       "      <td>-2300.0</td>\n",
       "      <td>-11.004785</td>\n",
       "      <td>-2.872622</td>\n",
       "    </tr>\n",
       "  </tbody>\n",
       "</table>\n",
       "</div>"
      ],
      "text/plain": [
       "     brand reference   collection  price_USD_2021  price_USD_2025  \\\n",
       "0  PANERAI  PAM00968  Submersible         20900.0         18600.0   \n",
       "\n",
       "   Price Difference  Increase Rate (%)  CAGR (%)  \n",
       "0           -2300.0         -11.004785 -2.872622  "
      ]
     },
     "execution_count": 809,
     "metadata": {},
     "output_type": "execute_result"
    }
   ],
   "source": [
    "# Product with the highest increase rate\n",
    "print(\"Product with the Highest Increase Rate:\")\n",
    "product_highest_increase_rate.head()"
   ]
  },
  {
   "cell_type": "code",
   "execution_count": 810,
   "id": "7b3230c0",
   "metadata": {
    "scrolled": true
   },
   "outputs": [
    {
     "name": "stdout",
     "output_type": "stream",
     "text": [
      "\n",
      "Product with the Lowest Increase Rate:\n"
     ]
    },
    {
     "data": {
      "text/html": [
       "<div>\n",
       "<style scoped>\n",
       "    .dataframe tbody tr th:only-of-type {\n",
       "        vertical-align: middle;\n",
       "    }\n",
       "\n",
       "    .dataframe tbody tr th {\n",
       "        vertical-align: top;\n",
       "    }\n",
       "\n",
       "    .dataframe thead th {\n",
       "        text-align: right;\n",
       "    }\n",
       "</style>\n",
       "<table border=\"1\" class=\"dataframe\">\n",
       "  <thead>\n",
       "    <tr style=\"text-align: right;\">\n",
       "      <th></th>\n",
       "      <th>brand</th>\n",
       "      <th>reference</th>\n",
       "      <th>collection</th>\n",
       "      <th>price_USD_2021</th>\n",
       "      <th>price_USD_2025</th>\n",
       "      <th>Price Difference</th>\n",
       "      <th>Increase Rate (%)</th>\n",
       "      <th>CAGR (%)</th>\n",
       "    </tr>\n",
       "  </thead>\n",
       "  <tbody>\n",
       "    <tr>\n",
       "      <th>0</th>\n",
       "      <td>PANERAI</td>\n",
       "      <td>PAM00715</td>\n",
       "      <td>Luminor</td>\n",
       "      <td>85900.0</td>\n",
       "      <td>62400.0</td>\n",
       "      <td>-23500.0</td>\n",
       "      <td>-27.357392</td>\n",
       "      <td>-7.679562</td>\n",
       "    </tr>\n",
       "  </tbody>\n",
       "</table>\n",
       "</div>"
      ],
      "text/plain": [
       "     brand reference collection  price_USD_2021  price_USD_2025  \\\n",
       "0  PANERAI  PAM00715    Luminor         85900.0         62400.0   \n",
       "\n",
       "   Price Difference  Increase Rate (%)  CAGR (%)  \n",
       "0          -23500.0         -27.357392 -7.679562  "
      ]
     },
     "execution_count": 810,
     "metadata": {},
     "output_type": "execute_result"
    }
   ],
   "source": [
    "# Product with the lowest increase rate\n",
    "print(\"\\nProduct with the Lowest Increase Rate:\")\n",
    "product_lowest_increase_rate.head()"
   ]
  },
  {
   "cell_type": "markdown",
   "id": "a40c2123",
   "metadata": {},
   "source": [
    "#### Count Products by Increase Direction"
   ]
  },
  {
   "cell_type": "code",
   "execution_count": 811,
   "id": "41643462",
   "metadata": {},
   "outputs": [],
   "source": [
    "data_2021_2025_grouped_mean, data_2021_2025_grouped_median = group_metrics_by_country(data_2021_2025_country_ref)"
   ]
  },
  {
   "cell_type": "code",
   "execution_count": 812,
   "id": "f4dc25be",
   "metadata": {},
   "outputs": [
    {
     "name": "stdout",
     "output_type": "stream",
     "text": [
      "\n",
      "Grouped Mean Metrics by Collection and Reference:\n"
     ]
    },
    {
     "data": {
      "text/html": [
       "<div>\n",
       "<style scoped>\n",
       "    .dataframe tbody tr th:only-of-type {\n",
       "        vertical-align: middle;\n",
       "    }\n",
       "\n",
       "    .dataframe tbody tr th {\n",
       "        vertical-align: top;\n",
       "    }\n",
       "\n",
       "    .dataframe thead th {\n",
       "        text-align: right;\n",
       "    }\n",
       "</style>\n",
       "<table border=\"1\" class=\"dataframe\">\n",
       "  <thead>\n",
       "    <tr style=\"text-align: right;\">\n",
       "      <th></th>\n",
       "      <th>collection</th>\n",
       "      <th>reference</th>\n",
       "      <th>price_USD_2021</th>\n",
       "      <th>price_USD_2025</th>\n",
       "      <th>Price Difference</th>\n",
       "      <th>Increase Rate (%)</th>\n",
       "      <th>CAGR (%)</th>\n",
       "    </tr>\n",
       "  </thead>\n",
       "  <tbody>\n",
       "    <tr>\n",
       "      <th>0</th>\n",
       "      <td>Luminor</td>\n",
       "      <td>PAM00422</td>\n",
       "      <td>12800.0</td>\n",
       "      <td>11300.0</td>\n",
       "      <td>-1500.0</td>\n",
       "      <td>-11.718750</td>\n",
       "      <td>-3.068012</td>\n",
       "    </tr>\n",
       "    <tr>\n",
       "      <th>1</th>\n",
       "      <td>Luminor</td>\n",
       "      <td>PAM00715</td>\n",
       "      <td>85900.0</td>\n",
       "      <td>62400.0</td>\n",
       "      <td>-23500.0</td>\n",
       "      <td>-27.357392</td>\n",
       "      <td>-7.679562</td>\n",
       "    </tr>\n",
       "    <tr>\n",
       "      <th>2</th>\n",
       "      <td>Luminor</td>\n",
       "      <td>PAM00742</td>\n",
       "      <td>59700.0</td>\n",
       "      <td>45100.0</td>\n",
       "      <td>-14600.0</td>\n",
       "      <td>-24.455611</td>\n",
       "      <td>-6.771102</td>\n",
       "    </tr>\n",
       "    <tr>\n",
       "      <th>3</th>\n",
       "      <td>Luminor</td>\n",
       "      <td>PAM00915</td>\n",
       "      <td>8800.0</td>\n",
       "      <td>7600.0</td>\n",
       "      <td>-1200.0</td>\n",
       "      <td>-13.636364</td>\n",
       "      <td>-3.598736</td>\n",
       "    </tr>\n",
       "    <tr>\n",
       "      <th>4</th>\n",
       "      <td>Luminor</td>\n",
       "      <td>PAM01060</td>\n",
       "      <td>217000.0</td>\n",
       "      <td>163700.0</td>\n",
       "      <td>-53300.0</td>\n",
       "      <td>-24.562212</td>\n",
       "      <td>-6.804008</td>\n",
       "    </tr>\n",
       "  </tbody>\n",
       "</table>\n",
       "</div>"
      ],
      "text/plain": [
       "  collection reference  price_USD_2021  price_USD_2025  Price Difference  \\\n",
       "0    Luminor  PAM00422         12800.0         11300.0           -1500.0   \n",
       "1    Luminor  PAM00715         85900.0         62400.0          -23500.0   \n",
       "2    Luminor  PAM00742         59700.0         45100.0          -14600.0   \n",
       "3    Luminor  PAM00915          8800.0          7600.0           -1200.0   \n",
       "4    Luminor  PAM01060        217000.0        163700.0          -53300.0   \n",
       "\n",
       "   Increase Rate (%)  CAGR (%)  \n",
       "0         -11.718750 -3.068012  \n",
       "1         -27.357392 -7.679562  \n",
       "2         -24.455611 -6.771102  \n",
       "3         -13.636364 -3.598736  \n",
       "4         -24.562212 -6.804008  "
      ]
     },
     "execution_count": 812,
     "metadata": {},
     "output_type": "execute_result"
    }
   ],
   "source": [
    "print(f\"\\nGrouped Mean Metrics by Collection and Reference:\")\n",
    "data_2021_2025_grouped_mean.head()"
   ]
  },
  {
   "cell_type": "code",
   "execution_count": 813,
   "id": "2fe832ba",
   "metadata": {
    "scrolled": false
   },
   "outputs": [
    {
     "name": "stdout",
     "output_type": "stream",
     "text": [
      "\n",
      "Grouped Median Metrics by Collection and Reference:\n"
     ]
    },
    {
     "data": {
      "text/html": [
       "<div>\n",
       "<style scoped>\n",
       "    .dataframe tbody tr th:only-of-type {\n",
       "        vertical-align: middle;\n",
       "    }\n",
       "\n",
       "    .dataframe tbody tr th {\n",
       "        vertical-align: top;\n",
       "    }\n",
       "\n",
       "    .dataframe thead th {\n",
       "        text-align: right;\n",
       "    }\n",
       "</style>\n",
       "<table border=\"1\" class=\"dataframe\">\n",
       "  <thead>\n",
       "    <tr style=\"text-align: right;\">\n",
       "      <th></th>\n",
       "      <th>collection</th>\n",
       "      <th>reference</th>\n",
       "      <th>price_USD_2021</th>\n",
       "      <th>price_USD_2025</th>\n",
       "      <th>Price Difference</th>\n",
       "      <th>Increase Rate (%)</th>\n",
       "      <th>CAGR (%)</th>\n",
       "    </tr>\n",
       "  </thead>\n",
       "  <tbody>\n",
       "    <tr>\n",
       "      <th>0</th>\n",
       "      <td>Luminor</td>\n",
       "      <td>PAM00422</td>\n",
       "      <td>12800.0</td>\n",
       "      <td>11300.0</td>\n",
       "      <td>-1500.0</td>\n",
       "      <td>-11.718750</td>\n",
       "      <td>-3.068012</td>\n",
       "    </tr>\n",
       "    <tr>\n",
       "      <th>1</th>\n",
       "      <td>Luminor</td>\n",
       "      <td>PAM00715</td>\n",
       "      <td>85900.0</td>\n",
       "      <td>62400.0</td>\n",
       "      <td>-23500.0</td>\n",
       "      <td>-27.357392</td>\n",
       "      <td>-7.679562</td>\n",
       "    </tr>\n",
       "    <tr>\n",
       "      <th>2</th>\n",
       "      <td>Luminor</td>\n",
       "      <td>PAM00742</td>\n",
       "      <td>59700.0</td>\n",
       "      <td>45100.0</td>\n",
       "      <td>-14600.0</td>\n",
       "      <td>-24.455611</td>\n",
       "      <td>-6.771102</td>\n",
       "    </tr>\n",
       "    <tr>\n",
       "      <th>3</th>\n",
       "      <td>Luminor</td>\n",
       "      <td>PAM00915</td>\n",
       "      <td>8800.0</td>\n",
       "      <td>7600.0</td>\n",
       "      <td>-1200.0</td>\n",
       "      <td>-13.636364</td>\n",
       "      <td>-3.598736</td>\n",
       "    </tr>\n",
       "    <tr>\n",
       "      <th>4</th>\n",
       "      <td>Luminor</td>\n",
       "      <td>PAM01060</td>\n",
       "      <td>217000.0</td>\n",
       "      <td>163700.0</td>\n",
       "      <td>-53300.0</td>\n",
       "      <td>-24.562212</td>\n",
       "      <td>-6.804008</td>\n",
       "    </tr>\n",
       "  </tbody>\n",
       "</table>\n",
       "</div>"
      ],
      "text/plain": [
       "  collection reference  price_USD_2021  price_USD_2025  Price Difference  \\\n",
       "0    Luminor  PAM00422         12800.0         11300.0           -1500.0   \n",
       "1    Luminor  PAM00715         85900.0         62400.0          -23500.0   \n",
       "2    Luminor  PAM00742         59700.0         45100.0          -14600.0   \n",
       "3    Luminor  PAM00915          8800.0          7600.0           -1200.0   \n",
       "4    Luminor  PAM01060        217000.0        163700.0          -53300.0   \n",
       "\n",
       "   Increase Rate (%)  CAGR (%)  \n",
       "0         -11.718750 -3.068012  \n",
       "1         -27.357392 -7.679562  \n",
       "2         -24.455611 -6.771102  \n",
       "3         -13.636364 -3.598736  \n",
       "4         -24.562212 -6.804008  "
      ]
     },
     "execution_count": 813,
     "metadata": {},
     "output_type": "execute_result"
    }
   ],
   "source": [
    "print(f\"\\nGrouped Median Metrics by Collection and Reference:\")\n",
    "data_2021_2025_grouped_median.head()"
   ]
  },
  {
   "cell_type": "markdown",
   "id": "6fadab9b",
   "metadata": {},
   "source": [
    "#### 3.1.4.3. UK"
   ]
  },
  {
   "cell_type": "code",
   "execution_count": 814,
   "id": "1cde7fab",
   "metadata": {},
   "outputs": [],
   "source": [
    "country = \"UK\""
   ]
  },
  {
   "cell_type": "code",
   "execution_count": 815,
   "id": "158460ee",
   "metadata": {
    "scrolled": true
   },
   "outputs": [],
   "source": [
    "data_2021_country = data_2021[['brand','reference','collection', 'price_USD']][data_2021['country'] == country]\n",
    "data_2025_country = data_2025[['brand','reference','collection', 'price_USD']][data_2025['country'] == country]"
   ]
  },
  {
   "cell_type": "code",
   "execution_count": 816,
   "id": "ecba089c",
   "metadata": {},
   "outputs": [
    {
     "data": {
      "text/html": [
       "<div>\n",
       "<style scoped>\n",
       "    .dataframe tbody tr th:only-of-type {\n",
       "        vertical-align: middle;\n",
       "    }\n",
       "\n",
       "    .dataframe tbody tr th {\n",
       "        vertical-align: top;\n",
       "    }\n",
       "\n",
       "    .dataframe thead th {\n",
       "        text-align: right;\n",
       "    }\n",
       "</style>\n",
       "<table border=\"1\" class=\"dataframe\">\n",
       "  <thead>\n",
       "    <tr style=\"text-align: right;\">\n",
       "      <th></th>\n",
       "      <th>brand</th>\n",
       "      <th>reference</th>\n",
       "      <th>collection</th>\n",
       "      <th>price_USD_2021</th>\n",
       "      <th>price_USD_2025</th>\n",
       "    </tr>\n",
       "  </thead>\n",
       "  <tbody>\n",
       "    <tr>\n",
       "      <th>0</th>\n",
       "      <td>PANERAI</td>\n",
       "      <td>PAM01086</td>\n",
       "      <td>Luminor</td>\n",
       "      <td>5415.42</td>\n",
       "      <td>6171.06</td>\n",
       "    </tr>\n",
       "    <tr>\n",
       "      <th>1</th>\n",
       "      <td>PANERAI</td>\n",
       "      <td>PAM01084</td>\n",
       "      <td>Luminor</td>\n",
       "      <td>6045.12</td>\n",
       "      <td>6674.82</td>\n",
       "    </tr>\n",
       "    <tr>\n",
       "      <th>2</th>\n",
       "      <td>PANERAI</td>\n",
       "      <td>PAM01085</td>\n",
       "      <td>Luminor</td>\n",
       "      <td>6045.12</td>\n",
       "      <td>6674.82</td>\n",
       "    </tr>\n",
       "    <tr>\n",
       "      <th>3</th>\n",
       "      <td>PANERAI</td>\n",
       "      <td>PAM00914</td>\n",
       "      <td>Luminor</td>\n",
       "      <td>6800.76</td>\n",
       "      <td>7682.34</td>\n",
       "    </tr>\n",
       "    <tr>\n",
       "      <th>4</th>\n",
       "      <td>PANERAI</td>\n",
       "      <td>PAM00915</td>\n",
       "      <td>Luminor</td>\n",
       "      <td>7304.52</td>\n",
       "      <td>8186.10</td>\n",
       "    </tr>\n",
       "  </tbody>\n",
       "</table>\n",
       "</div>"
      ],
      "text/plain": [
       "     brand reference collection  price_USD_2021  price_USD_2025\n",
       "0  PANERAI  PAM01086    Luminor         5415.42         6171.06\n",
       "1  PANERAI  PAM01084    Luminor         6045.12         6674.82\n",
       "2  PANERAI  PAM01085    Luminor         6045.12         6674.82\n",
       "3  PANERAI  PAM00914    Luminor         6800.76         7682.34\n",
       "4  PANERAI  PAM00915    Luminor         7304.52         8186.10"
      ]
     },
     "execution_count": 816,
     "metadata": {},
     "output_type": "execute_result"
    }
   ],
   "source": [
    "data_2021_2025_country_ref = pd.merge(data_2025_country, data_2021_country, on='reference', how='inner')\n",
    "data_2021_2025_country_ref = data_2021_2025_country_ref.rename(columns={'brand_x': 'brand', 'collection_x': 'collection', 'year_x': 'year_2025', 'price_USD_x': 'price_USD_2025', 'year_y': 'year_2021', 'price_USD_y': 'price_USD_2021'})\n",
    "data_2021_2025_country_ref = data_2021_2025_country_ref[['brand', 'reference', 'collection', 'price_USD_2021', 'price_USD_2025']]\n",
    "\n",
    "data_2021_2025_country_ref.head()"
   ]
  },
  {
   "cell_type": "code",
   "execution_count": 817,
   "id": "99d04745",
   "metadata": {},
   "outputs": [],
   "source": [
    "data_2021_2025_country_ref = calculate_price_metrics(data_2021_2025_country_ref)"
   ]
  },
  {
   "cell_type": "code",
   "execution_count": 818,
   "id": "fb110f56",
   "metadata": {
    "scrolled": true
   },
   "outputs": [
    {
     "name": "stdout",
     "output_type": "stream",
     "text": [
      "Overall Summary:\n",
      "\n",
      "Total of products analyzed (These products have been consistently purchased since 2021): 31\n",
      "Total of Products with a positive increase rate: 28\n",
      "Total Products with a negative increase rate: 3\n",
      "\n"
     ]
    }
   ],
   "source": [
    "positive_increase, count_positive_increase, negative_increase, count_negative_increase = count_increase_directions(data_2021_2025_country_ref)\n",
    "\n",
    "print(\"Overall Summary:\\n\")\n",
    "print(f\"Total of products analyzed (These products have been consistently purchased since 2021): {data_2021_2025_country_ref.shape[0]}\")\n",
    "print(f\"Total of Products with a positive increase rate: {count_positive_increase}\")\n",
    "print(f\"Total Products with a negative increase rate: {count_negative_increase}\\n\")"
   ]
  },
  {
   "cell_type": "code",
   "execution_count": 819,
   "id": "36342976",
   "metadata": {
    "scrolled": true
   },
   "outputs": [
    {
     "name": "stdout",
     "output_type": "stream",
     "text": [
      "Product with Positive Increase Rate:\n"
     ]
    },
    {
     "data": {
      "text/html": [
       "<div>\n",
       "<style scoped>\n",
       "    .dataframe tbody tr th:only-of-type {\n",
       "        vertical-align: middle;\n",
       "    }\n",
       "\n",
       "    .dataframe tbody tr th {\n",
       "        vertical-align: top;\n",
       "    }\n",
       "\n",
       "    .dataframe thead th {\n",
       "        text-align: right;\n",
       "    }\n",
       "</style>\n",
       "<table border=\"1\" class=\"dataframe\">\n",
       "  <thead>\n",
       "    <tr style=\"text-align: right;\">\n",
       "      <th></th>\n",
       "      <th>brand</th>\n",
       "      <th>reference</th>\n",
       "      <th>collection</th>\n",
       "      <th>price_USD_2021</th>\n",
       "      <th>price_USD_2025</th>\n",
       "      <th>Price Difference</th>\n",
       "      <th>Increase Rate (%)</th>\n",
       "      <th>CAGR (%)</th>\n",
       "    </tr>\n",
       "  </thead>\n",
       "  <tbody>\n",
       "    <tr>\n",
       "      <th>0</th>\n",
       "      <td>PANERAI</td>\n",
       "      <td>PAM01086</td>\n",
       "      <td>Luminor</td>\n",
       "      <td>5415.42</td>\n",
       "      <td>6171.06</td>\n",
       "      <td>755.64</td>\n",
       "      <td>13.953488</td>\n",
       "      <td>3.319407</td>\n",
       "    </tr>\n",
       "    <tr>\n",
       "      <th>1</th>\n",
       "      <td>PANERAI</td>\n",
       "      <td>PAM01084</td>\n",
       "      <td>Luminor</td>\n",
       "      <td>6045.12</td>\n",
       "      <td>6674.82</td>\n",
       "      <td>629.70</td>\n",
       "      <td>10.416667</td>\n",
       "      <td>2.508212</td>\n",
       "    </tr>\n",
       "    <tr>\n",
       "      <th>2</th>\n",
       "      <td>PANERAI</td>\n",
       "      <td>PAM01085</td>\n",
       "      <td>Luminor</td>\n",
       "      <td>6045.12</td>\n",
       "      <td>6674.82</td>\n",
       "      <td>629.70</td>\n",
       "      <td>10.416667</td>\n",
       "      <td>2.508212</td>\n",
       "    </tr>\n",
       "    <tr>\n",
       "      <th>3</th>\n",
       "      <td>PANERAI</td>\n",
       "      <td>PAM00914</td>\n",
       "      <td>Luminor</td>\n",
       "      <td>6800.76</td>\n",
       "      <td>7682.34</td>\n",
       "      <td>881.58</td>\n",
       "      <td>12.962963</td>\n",
       "      <td>3.094149</td>\n",
       "    </tr>\n",
       "    <tr>\n",
       "      <th>4</th>\n",
       "      <td>PANERAI</td>\n",
       "      <td>PAM00915</td>\n",
       "      <td>Luminor</td>\n",
       "      <td>7304.52</td>\n",
       "      <td>8186.10</td>\n",
       "      <td>881.58</td>\n",
       "      <td>12.068966</td>\n",
       "      <td>2.889567</td>\n",
       "    </tr>\n",
       "  </tbody>\n",
       "</table>\n",
       "</div>"
      ],
      "text/plain": [
       "     brand reference collection  price_USD_2021  price_USD_2025  \\\n",
       "0  PANERAI  PAM01086    Luminor         5415.42         6171.06   \n",
       "1  PANERAI  PAM01084    Luminor         6045.12         6674.82   \n",
       "2  PANERAI  PAM01085    Luminor         6045.12         6674.82   \n",
       "3  PANERAI  PAM00914    Luminor         6800.76         7682.34   \n",
       "4  PANERAI  PAM00915    Luminor         7304.52         8186.10   \n",
       "\n",
       "   Price Difference  Increase Rate (%)  CAGR (%)  \n",
       "0            755.64          13.953488  3.319407  \n",
       "1            629.70          10.416667  2.508212  \n",
       "2            629.70          10.416667  2.508212  \n",
       "3            881.58          12.962963  3.094149  \n",
       "4            881.58          12.068966  2.889567  "
      ]
     },
     "execution_count": 819,
     "metadata": {},
     "output_type": "execute_result"
    }
   ],
   "source": [
    "print(\"Product with Positive Increase Rate:\")\n",
    "positive_increase.head()"
   ]
  },
  {
   "cell_type": "code",
   "execution_count": 820,
   "id": "ab6921bc",
   "metadata": {},
   "outputs": [
    {
     "name": "stdout",
     "output_type": "stream",
     "text": [
      "Product with Negative Increase Rate:\n"
     ]
    },
    {
     "data": {
      "text/html": [
       "<div>\n",
       "<style scoped>\n",
       "    .dataframe tbody tr th:only-of-type {\n",
       "        vertical-align: middle;\n",
       "    }\n",
       "\n",
       "    .dataframe tbody tr th {\n",
       "        vertical-align: top;\n",
       "    }\n",
       "\n",
       "    .dataframe thead th {\n",
       "        text-align: right;\n",
       "    }\n",
       "</style>\n",
       "<table border=\"1\" class=\"dataframe\">\n",
       "  <thead>\n",
       "    <tr style=\"text-align: right;\">\n",
       "      <th></th>\n",
       "      <th>brand</th>\n",
       "      <th>reference</th>\n",
       "      <th>collection</th>\n",
       "      <th>price_USD_2021</th>\n",
       "      <th>price_USD_2025</th>\n",
       "      <th>Price Difference</th>\n",
       "      <th>Increase Rate (%)</th>\n",
       "      <th>CAGR (%)</th>\n",
       "    </tr>\n",
       "  </thead>\n",
       "  <tbody>\n",
       "    <tr>\n",
       "      <th>0</th>\n",
       "      <td>PANERAI</td>\n",
       "      <td>PAM00742</td>\n",
       "      <td>Luminor</td>\n",
       "      <td>52139.16</td>\n",
       "      <td>45716.22</td>\n",
       "      <td>-6422.94</td>\n",
       "      <td>-12.318841</td>\n",
       "      <td>-3.233157</td>\n",
       "    </tr>\n",
       "    <tr>\n",
       "      <th>1</th>\n",
       "      <td>PANERAI</td>\n",
       "      <td>PAM00715</td>\n",
       "      <td>Luminor</td>\n",
       "      <td>74808.36</td>\n",
       "      <td>63221.88</td>\n",
       "      <td>-11586.48</td>\n",
       "      <td>-15.488215</td>\n",
       "      <td>-4.119715</td>\n",
       "    </tr>\n",
       "    <tr>\n",
       "      <th>2</th>\n",
       "      <td>PANERAI</td>\n",
       "      <td>PAM01060</td>\n",
       "      <td>Luminor</td>\n",
       "      <td>186643.08</td>\n",
       "      <td>165988.92</td>\n",
       "      <td>-20654.16</td>\n",
       "      <td>-11.066127</td>\n",
       "      <td>-2.889363</td>\n",
       "    </tr>\n",
       "  </tbody>\n",
       "</table>\n",
       "</div>"
      ],
      "text/plain": [
       "     brand reference collection  price_USD_2021  price_USD_2025  \\\n",
       "0  PANERAI  PAM00742    Luminor        52139.16        45716.22   \n",
       "1  PANERAI  PAM00715    Luminor        74808.36        63221.88   \n",
       "2  PANERAI  PAM01060    Luminor       186643.08       165988.92   \n",
       "\n",
       "   Price Difference  Increase Rate (%)  CAGR (%)  \n",
       "0          -6422.94         -12.318841 -3.233157  \n",
       "1         -11586.48         -15.488215 -4.119715  \n",
       "2         -20654.16         -11.066127 -2.889363  "
      ]
     },
     "execution_count": 820,
     "metadata": {},
     "output_type": "execute_result"
    }
   ],
   "source": [
    "print(\"Product with Negative Increase Rate:\")\n",
    "negative_increase.head()"
   ]
  },
  {
   "cell_type": "markdown",
   "id": "c44fe275",
   "metadata": {},
   "source": [
    "#### Identify Products with Extreme Growth Rates"
   ]
  },
  {
   "cell_type": "code",
   "execution_count": 821,
   "id": "ba273092",
   "metadata": {},
   "outputs": [],
   "source": [
    "product_highest_increase_rate, product_lowest_increase_rate = get_extreme_products(data_2021_2025_country_ref)"
   ]
  },
  {
   "cell_type": "code",
   "execution_count": 822,
   "id": "9e6badd3",
   "metadata": {},
   "outputs": [
    {
     "name": "stdout",
     "output_type": "stream",
     "text": [
      "Product with the Highest Increase Rate:\n"
     ]
    },
    {
     "data": {
      "text/html": [
       "<div>\n",
       "<style scoped>\n",
       "    .dataframe tbody tr th:only-of-type {\n",
       "        vertical-align: middle;\n",
       "    }\n",
       "\n",
       "    .dataframe tbody tr th {\n",
       "        vertical-align: top;\n",
       "    }\n",
       "\n",
       "    .dataframe thead th {\n",
       "        text-align: right;\n",
       "    }\n",
       "</style>\n",
       "<table border=\"1\" class=\"dataframe\">\n",
       "  <thead>\n",
       "    <tr style=\"text-align: right;\">\n",
       "      <th></th>\n",
       "      <th>brand</th>\n",
       "      <th>reference</th>\n",
       "      <th>collection</th>\n",
       "      <th>price_USD_2021</th>\n",
       "      <th>price_USD_2025</th>\n",
       "      <th>Price Difference</th>\n",
       "      <th>Increase Rate (%)</th>\n",
       "      <th>CAGR (%)</th>\n",
       "    </tr>\n",
       "  </thead>\n",
       "  <tbody>\n",
       "    <tr>\n",
       "      <th>0</th>\n",
       "      <td>PANERAI</td>\n",
       "      <td>PAM01441</td>\n",
       "      <td>Luminor</td>\n",
       "      <td>12845.88</td>\n",
       "      <td>16246.26</td>\n",
       "      <td>3400.38</td>\n",
       "      <td>26.470588</td>\n",
       "      <td>6.046755</td>\n",
       "    </tr>\n",
       "  </tbody>\n",
       "</table>\n",
       "</div>"
      ],
      "text/plain": [
       "     brand reference collection  price_USD_2021  price_USD_2025  \\\n",
       "0  PANERAI  PAM01441    Luminor        12845.88        16246.26   \n",
       "\n",
       "   Price Difference  Increase Rate (%)  CAGR (%)  \n",
       "0           3400.38          26.470588  6.046755  "
      ]
     },
     "execution_count": 822,
     "metadata": {},
     "output_type": "execute_result"
    }
   ],
   "source": [
    "# Product with the highest increase rate\n",
    "print(\"Product with the Highest Increase Rate:\")\n",
    "product_highest_increase_rate.head()"
   ]
  },
  {
   "cell_type": "code",
   "execution_count": 823,
   "id": "401928d9",
   "metadata": {
    "scrolled": true
   },
   "outputs": [
    {
     "name": "stdout",
     "output_type": "stream",
     "text": [
      "\n",
      "Product with the Lowest Increase Rate:\n"
     ]
    },
    {
     "data": {
      "text/html": [
       "<div>\n",
       "<style scoped>\n",
       "    .dataframe tbody tr th:only-of-type {\n",
       "        vertical-align: middle;\n",
       "    }\n",
       "\n",
       "    .dataframe tbody tr th {\n",
       "        vertical-align: top;\n",
       "    }\n",
       "\n",
       "    .dataframe thead th {\n",
       "        text-align: right;\n",
       "    }\n",
       "</style>\n",
       "<table border=\"1\" class=\"dataframe\">\n",
       "  <thead>\n",
       "    <tr style=\"text-align: right;\">\n",
       "      <th></th>\n",
       "      <th>brand</th>\n",
       "      <th>reference</th>\n",
       "      <th>collection</th>\n",
       "      <th>price_USD_2021</th>\n",
       "      <th>price_USD_2025</th>\n",
       "      <th>Price Difference</th>\n",
       "      <th>Increase Rate (%)</th>\n",
       "      <th>CAGR (%)</th>\n",
       "    </tr>\n",
       "  </thead>\n",
       "  <tbody>\n",
       "    <tr>\n",
       "      <th>0</th>\n",
       "      <td>PANERAI</td>\n",
       "      <td>PAM00715</td>\n",
       "      <td>Luminor</td>\n",
       "      <td>74808.36</td>\n",
       "      <td>63221.88</td>\n",
       "      <td>-11586.48</td>\n",
       "      <td>-15.488215</td>\n",
       "      <td>-4.119715</td>\n",
       "    </tr>\n",
       "  </tbody>\n",
       "</table>\n",
       "</div>"
      ],
      "text/plain": [
       "     brand reference collection  price_USD_2021  price_USD_2025  \\\n",
       "0  PANERAI  PAM00715    Luminor        74808.36        63221.88   \n",
       "\n",
       "   Price Difference  Increase Rate (%)  CAGR (%)  \n",
       "0         -11586.48         -15.488215 -4.119715  "
      ]
     },
     "execution_count": 823,
     "metadata": {},
     "output_type": "execute_result"
    }
   ],
   "source": [
    "# Product with the lowest increase rate\n",
    "print(\"\\nProduct with the Lowest Increase Rate:\")\n",
    "product_lowest_increase_rate.head()"
   ]
  },
  {
   "cell_type": "markdown",
   "id": "cedc082f",
   "metadata": {},
   "source": [
    "#### Count Products by Increase Direction"
   ]
  },
  {
   "cell_type": "code",
   "execution_count": 824,
   "id": "607c8ff9",
   "metadata": {},
   "outputs": [],
   "source": [
    "data_2021_2025_grouped_mean, data_2021_2025_grouped_median = group_metrics_by_country(data_2021_2025_country_ref)"
   ]
  },
  {
   "cell_type": "code",
   "execution_count": 825,
   "id": "83c6ba84",
   "metadata": {},
   "outputs": [
    {
     "name": "stdout",
     "output_type": "stream",
     "text": [
      "\n",
      "Grouped Mean Metrics by Collection and Reference:\n"
     ]
    },
    {
     "data": {
      "text/html": [
       "<div>\n",
       "<style scoped>\n",
       "    .dataframe tbody tr th:only-of-type {\n",
       "        vertical-align: middle;\n",
       "    }\n",
       "\n",
       "    .dataframe tbody tr th {\n",
       "        vertical-align: top;\n",
       "    }\n",
       "\n",
       "    .dataframe thead th {\n",
       "        text-align: right;\n",
       "    }\n",
       "</style>\n",
       "<table border=\"1\" class=\"dataframe\">\n",
       "  <thead>\n",
       "    <tr style=\"text-align: right;\">\n",
       "      <th></th>\n",
       "      <th>collection</th>\n",
       "      <th>reference</th>\n",
       "      <th>price_USD_2021</th>\n",
       "      <th>price_USD_2025</th>\n",
       "      <th>Price Difference</th>\n",
       "      <th>Increase Rate (%)</th>\n",
       "      <th>CAGR (%)</th>\n",
       "    </tr>\n",
       "  </thead>\n",
       "  <tbody>\n",
       "    <tr>\n",
       "      <th>0</th>\n",
       "      <td>Luminor</td>\n",
       "      <td>PAM00422</td>\n",
       "      <td>10704.90</td>\n",
       "      <td>12342.12</td>\n",
       "      <td>1637.22</td>\n",
       "      <td>15.294118</td>\n",
       "      <td>3.621956</td>\n",
       "    </tr>\n",
       "    <tr>\n",
       "      <th>1</th>\n",
       "      <td>Luminor</td>\n",
       "      <td>PAM00670</td>\n",
       "      <td>24306.42</td>\n",
       "      <td>26069.58</td>\n",
       "      <td>1763.16</td>\n",
       "      <td>7.253886</td>\n",
       "      <td>1.766130</td>\n",
       "    </tr>\n",
       "    <tr>\n",
       "      <th>2</th>\n",
       "      <td>Luminor</td>\n",
       "      <td>PAM00715</td>\n",
       "      <td>74808.36</td>\n",
       "      <td>63221.88</td>\n",
       "      <td>-11586.48</td>\n",
       "      <td>-15.488215</td>\n",
       "      <td>-4.119715</td>\n",
       "    </tr>\n",
       "    <tr>\n",
       "      <th>3</th>\n",
       "      <td>Luminor</td>\n",
       "      <td>PAM00742</td>\n",
       "      <td>52139.16</td>\n",
       "      <td>45716.22</td>\n",
       "      <td>-6422.94</td>\n",
       "      <td>-12.318841</td>\n",
       "      <td>-3.233157</td>\n",
       "    </tr>\n",
       "    <tr>\n",
       "      <th>4</th>\n",
       "      <td>Luminor</td>\n",
       "      <td>PAM00914</td>\n",
       "      <td>6800.76</td>\n",
       "      <td>7682.34</td>\n",
       "      <td>881.58</td>\n",
       "      <td>12.962963</td>\n",
       "      <td>3.094149</td>\n",
       "    </tr>\n",
       "  </tbody>\n",
       "</table>\n",
       "</div>"
      ],
      "text/plain": [
       "  collection reference  price_USD_2021  price_USD_2025  Price Difference  \\\n",
       "0    Luminor  PAM00422        10704.90        12342.12           1637.22   \n",
       "1    Luminor  PAM00670        24306.42        26069.58           1763.16   \n",
       "2    Luminor  PAM00715        74808.36        63221.88         -11586.48   \n",
       "3    Luminor  PAM00742        52139.16        45716.22          -6422.94   \n",
       "4    Luminor  PAM00914         6800.76         7682.34            881.58   \n",
       "\n",
       "   Increase Rate (%)  CAGR (%)  \n",
       "0          15.294118  3.621956  \n",
       "1           7.253886  1.766130  \n",
       "2         -15.488215 -4.119715  \n",
       "3         -12.318841 -3.233157  \n",
       "4          12.962963  3.094149  "
      ]
     },
     "execution_count": 825,
     "metadata": {},
     "output_type": "execute_result"
    }
   ],
   "source": [
    "print(f\"\\nGrouped Mean Metrics by Collection and Reference:\")\n",
    "data_2021_2025_grouped_mean.head()"
   ]
  },
  {
   "cell_type": "code",
   "execution_count": 826,
   "id": "9ca3d9bc",
   "metadata": {
    "scrolled": false
   },
   "outputs": [
    {
     "name": "stdout",
     "output_type": "stream",
     "text": [
      "\n",
      "Grouped Median Metrics by Collection and Reference:\n"
     ]
    },
    {
     "data": {
      "text/html": [
       "<div>\n",
       "<style scoped>\n",
       "    .dataframe tbody tr th:only-of-type {\n",
       "        vertical-align: middle;\n",
       "    }\n",
       "\n",
       "    .dataframe tbody tr th {\n",
       "        vertical-align: top;\n",
       "    }\n",
       "\n",
       "    .dataframe thead th {\n",
       "        text-align: right;\n",
       "    }\n",
       "</style>\n",
       "<table border=\"1\" class=\"dataframe\">\n",
       "  <thead>\n",
       "    <tr style=\"text-align: right;\">\n",
       "      <th></th>\n",
       "      <th>collection</th>\n",
       "      <th>reference</th>\n",
       "      <th>price_USD_2021</th>\n",
       "      <th>price_USD_2025</th>\n",
       "      <th>Price Difference</th>\n",
       "      <th>Increase Rate (%)</th>\n",
       "      <th>CAGR (%)</th>\n",
       "    </tr>\n",
       "  </thead>\n",
       "  <tbody>\n",
       "    <tr>\n",
       "      <th>0</th>\n",
       "      <td>Luminor</td>\n",
       "      <td>PAM00422</td>\n",
       "      <td>10704.90</td>\n",
       "      <td>12342.12</td>\n",
       "      <td>1637.22</td>\n",
       "      <td>15.294118</td>\n",
       "      <td>3.621956</td>\n",
       "    </tr>\n",
       "    <tr>\n",
       "      <th>1</th>\n",
       "      <td>Luminor</td>\n",
       "      <td>PAM00670</td>\n",
       "      <td>24306.42</td>\n",
       "      <td>26069.58</td>\n",
       "      <td>1763.16</td>\n",
       "      <td>7.253886</td>\n",
       "      <td>1.766130</td>\n",
       "    </tr>\n",
       "    <tr>\n",
       "      <th>2</th>\n",
       "      <td>Luminor</td>\n",
       "      <td>PAM00715</td>\n",
       "      <td>74808.36</td>\n",
       "      <td>63221.88</td>\n",
       "      <td>-11586.48</td>\n",
       "      <td>-15.488215</td>\n",
       "      <td>-4.119715</td>\n",
       "    </tr>\n",
       "    <tr>\n",
       "      <th>3</th>\n",
       "      <td>Luminor</td>\n",
       "      <td>PAM00742</td>\n",
       "      <td>52139.16</td>\n",
       "      <td>45716.22</td>\n",
       "      <td>-6422.94</td>\n",
       "      <td>-12.318841</td>\n",
       "      <td>-3.233157</td>\n",
       "    </tr>\n",
       "    <tr>\n",
       "      <th>4</th>\n",
       "      <td>Luminor</td>\n",
       "      <td>PAM00914</td>\n",
       "      <td>6800.76</td>\n",
       "      <td>7682.34</td>\n",
       "      <td>881.58</td>\n",
       "      <td>12.962963</td>\n",
       "      <td>3.094149</td>\n",
       "    </tr>\n",
       "  </tbody>\n",
       "</table>\n",
       "</div>"
      ],
      "text/plain": [
       "  collection reference  price_USD_2021  price_USD_2025  Price Difference  \\\n",
       "0    Luminor  PAM00422        10704.90        12342.12           1637.22   \n",
       "1    Luminor  PAM00670        24306.42        26069.58           1763.16   \n",
       "2    Luminor  PAM00715        74808.36        63221.88         -11586.48   \n",
       "3    Luminor  PAM00742        52139.16        45716.22          -6422.94   \n",
       "4    Luminor  PAM00914         6800.76         7682.34            881.58   \n",
       "\n",
       "   Increase Rate (%)  CAGR (%)  \n",
       "0          15.294118  3.621956  \n",
       "1           7.253886  1.766130  \n",
       "2         -15.488215 -4.119715  \n",
       "3         -12.318841 -3.233157  \n",
       "4          12.962963  3.094149  "
      ]
     },
     "execution_count": 826,
     "metadata": {},
     "output_type": "execute_result"
    }
   ],
   "source": [
    "print(f\"\\nGrouped Median Metrics by Collection and Reference:\")\n",
    "data_2021_2025_grouped_median.head()"
   ]
  },
  {
   "cell_type": "markdown",
   "id": "8db245d8",
   "metadata": {},
   "source": [
    "#### 3.1.4.4. Japan"
   ]
  },
  {
   "cell_type": "code",
   "execution_count": 827,
   "id": "1180619b",
   "metadata": {},
   "outputs": [],
   "source": [
    "country = \"Japan\""
   ]
  },
  {
   "cell_type": "code",
   "execution_count": 828,
   "id": "581f29f1",
   "metadata": {
    "scrolled": true
   },
   "outputs": [],
   "source": [
    "data_2021_country = data_2021[['brand','reference','collection', 'price_USD']][data_2021['country'] == country]\n",
    "data_2025_country = data_2025[['brand','reference','collection', 'price_USD']][data_2025['country'] == country]"
   ]
  },
  {
   "cell_type": "code",
   "execution_count": 829,
   "id": "8c5a74a2",
   "metadata": {},
   "outputs": [
    {
     "data": {
      "text/html": [
       "<div>\n",
       "<style scoped>\n",
       "    .dataframe tbody tr th:only-of-type {\n",
       "        vertical-align: middle;\n",
       "    }\n",
       "\n",
       "    .dataframe tbody tr th {\n",
       "        vertical-align: top;\n",
       "    }\n",
       "\n",
       "    .dataframe thead th {\n",
       "        text-align: right;\n",
       "    }\n",
       "</style>\n",
       "<table border=\"1\" class=\"dataframe\">\n",
       "  <thead>\n",
       "    <tr style=\"text-align: right;\">\n",
       "      <th></th>\n",
       "      <th>brand</th>\n",
       "      <th>reference</th>\n",
       "      <th>collection</th>\n",
       "      <th>price_USD_2021</th>\n",
       "      <th>price_USD_2025</th>\n",
       "    </tr>\n",
       "  </thead>\n",
       "  <tbody>\n",
       "    <tr>\n",
       "      <th>0</th>\n",
       "      <td>PANERAI</td>\n",
       "      <td>PAM01086</td>\n",
       "      <td>Luminor</td>\n",
       "      <td>4090.856</td>\n",
       "      <td>5624.927</td>\n",
       "    </tr>\n",
       "    <tr>\n",
       "      <th>1</th>\n",
       "      <td>PANERAI</td>\n",
       "      <td>PAM01084</td>\n",
       "      <td>Luminor</td>\n",
       "      <td>4456.111</td>\n",
       "      <td>6136.284</td>\n",
       "    </tr>\n",
       "    <tr>\n",
       "      <th>2</th>\n",
       "      <td>PANERAI</td>\n",
       "      <td>PAM01085</td>\n",
       "      <td>Luminor</td>\n",
       "      <td>4456.111</td>\n",
       "      <td>6136.284</td>\n",
       "    </tr>\n",
       "    <tr>\n",
       "      <th>3</th>\n",
       "      <td>PANERAI</td>\n",
       "      <td>PAM00914</td>\n",
       "      <td>Luminor</td>\n",
       "      <td>5113.570</td>\n",
       "      <td>7085.947</td>\n",
       "    </tr>\n",
       "    <tr>\n",
       "      <th>4</th>\n",
       "      <td>PANERAI</td>\n",
       "      <td>PAM00915</td>\n",
       "      <td>Luminor</td>\n",
       "      <td>5551.876</td>\n",
       "      <td>7597.304</td>\n",
       "    </tr>\n",
       "  </tbody>\n",
       "</table>\n",
       "</div>"
      ],
      "text/plain": [
       "     brand reference collection  price_USD_2021  price_USD_2025\n",
       "0  PANERAI  PAM01086    Luminor        4090.856        5624.927\n",
       "1  PANERAI  PAM01084    Luminor        4456.111        6136.284\n",
       "2  PANERAI  PAM01085    Luminor        4456.111        6136.284\n",
       "3  PANERAI  PAM00914    Luminor        5113.570        7085.947\n",
       "4  PANERAI  PAM00915    Luminor        5551.876        7597.304"
      ]
     },
     "execution_count": 829,
     "metadata": {},
     "output_type": "execute_result"
    }
   ],
   "source": [
    "data_2021_2025_country_ref = pd.merge(data_2025_country, data_2021_country, on='reference', how='inner')\n",
    "data_2021_2025_country_ref = data_2021_2025_country_ref.rename(columns={'brand_x': 'brand', 'collection_x': 'collection', 'year_x': 'year_2025', 'price_USD_x': 'price_USD_2025', 'year_y': 'year_2021', 'price_USD_y': 'price_USD_2021'})\n",
    "data_2021_2025_country_ref = data_2021_2025_country_ref[['brand', 'reference', 'collection', 'price_USD_2021', 'price_USD_2025']]\n",
    "\n",
    "data_2021_2025_country_ref.head()"
   ]
  },
  {
   "cell_type": "code",
   "execution_count": 830,
   "id": "8cfe87db",
   "metadata": {},
   "outputs": [],
   "source": [
    "data_2021_2025_country_ref = calculate_price_metrics(data_2021_2025_country_ref)"
   ]
  },
  {
   "cell_type": "code",
   "execution_count": 831,
   "id": "de13e017",
   "metadata": {
    "scrolled": true
   },
   "outputs": [
    {
     "name": "stdout",
     "output_type": "stream",
     "text": [
      "Overall Summary:\n",
      "\n",
      "Total of products analyzed (These products have been consistently purchased since 2021): 31\n",
      "Total of Products with a positive increase rate: 31\n",
      "Total Products with a negative increase rate: 0\n",
      "\n"
     ]
    }
   ],
   "source": [
    "positive_increase, count_positive_increase, negative_increase, count_negative_increase = count_increase_directions(data_2021_2025_country_ref)\n",
    "\n",
    "print(\"Overall Summary:\\n\")\n",
    "print(f\"Total of products analyzed (These products have been consistently purchased since 2021): {data_2021_2025_country_ref.shape[0]}\")\n",
    "print(f\"Total of Products with a positive increase rate: {count_positive_increase}\")\n",
    "print(f\"Total Products with a negative increase rate: {count_negative_increase}\\n\")"
   ]
  },
  {
   "cell_type": "code",
   "execution_count": 832,
   "id": "1a4e0450",
   "metadata": {
    "scrolled": true
   },
   "outputs": [
    {
     "name": "stdout",
     "output_type": "stream",
     "text": [
      "Product with Positive Increase Rate:\n"
     ]
    },
    {
     "data": {
      "text/html": [
       "<div>\n",
       "<style scoped>\n",
       "    .dataframe tbody tr th:only-of-type {\n",
       "        vertical-align: middle;\n",
       "    }\n",
       "\n",
       "    .dataframe tbody tr th {\n",
       "        vertical-align: top;\n",
       "    }\n",
       "\n",
       "    .dataframe thead th {\n",
       "        text-align: right;\n",
       "    }\n",
       "</style>\n",
       "<table border=\"1\" class=\"dataframe\">\n",
       "  <thead>\n",
       "    <tr style=\"text-align: right;\">\n",
       "      <th></th>\n",
       "      <th>brand</th>\n",
       "      <th>reference</th>\n",
       "      <th>collection</th>\n",
       "      <th>price_USD_2021</th>\n",
       "      <th>price_USD_2025</th>\n",
       "      <th>Price Difference</th>\n",
       "      <th>Increase Rate (%)</th>\n",
       "      <th>CAGR (%)</th>\n",
       "    </tr>\n",
       "  </thead>\n",
       "  <tbody>\n",
       "    <tr>\n",
       "      <th>0</th>\n",
       "      <td>PANERAI</td>\n",
       "      <td>PAM01086</td>\n",
       "      <td>Luminor</td>\n",
       "      <td>4090.856</td>\n",
       "      <td>5624.927</td>\n",
       "      <td>1534.071</td>\n",
       "      <td>37.500000</td>\n",
       "      <td>8.286839</td>\n",
       "    </tr>\n",
       "    <tr>\n",
       "      <th>1</th>\n",
       "      <td>PANERAI</td>\n",
       "      <td>PAM01084</td>\n",
       "      <td>Luminor</td>\n",
       "      <td>4456.111</td>\n",
       "      <td>6136.284</td>\n",
       "      <td>1680.173</td>\n",
       "      <td>37.704918</td>\n",
       "      <td>8.327161</td>\n",
       "    </tr>\n",
       "    <tr>\n",
       "      <th>2</th>\n",
       "      <td>PANERAI</td>\n",
       "      <td>PAM01085</td>\n",
       "      <td>Luminor</td>\n",
       "      <td>4456.111</td>\n",
       "      <td>6136.284</td>\n",
       "      <td>1680.173</td>\n",
       "      <td>37.704918</td>\n",
       "      <td>8.327161</td>\n",
       "    </tr>\n",
       "    <tr>\n",
       "      <th>3</th>\n",
       "      <td>PANERAI</td>\n",
       "      <td>PAM00914</td>\n",
       "      <td>Luminor</td>\n",
       "      <td>5113.570</td>\n",
       "      <td>7085.947</td>\n",
       "      <td>1972.377</td>\n",
       "      <td>38.571429</td>\n",
       "      <td>8.497173</td>\n",
       "    </tr>\n",
       "    <tr>\n",
       "      <th>4</th>\n",
       "      <td>PANERAI</td>\n",
       "      <td>PAM00915</td>\n",
       "      <td>Luminor</td>\n",
       "      <td>5551.876</td>\n",
       "      <td>7597.304</td>\n",
       "      <td>2045.428</td>\n",
       "      <td>36.842105</td>\n",
       "      <td>8.157076</td>\n",
       "    </tr>\n",
       "  </tbody>\n",
       "</table>\n",
       "</div>"
      ],
      "text/plain": [
       "     brand reference collection  price_USD_2021  price_USD_2025  \\\n",
       "0  PANERAI  PAM01086    Luminor        4090.856        5624.927   \n",
       "1  PANERAI  PAM01084    Luminor        4456.111        6136.284   \n",
       "2  PANERAI  PAM01085    Luminor        4456.111        6136.284   \n",
       "3  PANERAI  PAM00914    Luminor        5113.570        7085.947   \n",
       "4  PANERAI  PAM00915    Luminor        5551.876        7597.304   \n",
       "\n",
       "   Price Difference  Increase Rate (%)  CAGR (%)  \n",
       "0          1534.071          37.500000  8.286839  \n",
       "1          1680.173          37.704918  8.327161  \n",
       "2          1680.173          37.704918  8.327161  \n",
       "3          1972.377          38.571429  8.497173  \n",
       "4          2045.428          36.842105  8.157076  "
      ]
     },
     "execution_count": 832,
     "metadata": {},
     "output_type": "execute_result"
    }
   ],
   "source": [
    "print(\"Product with Positive Increase Rate:\")\n",
    "positive_increase.head()"
   ]
  },
  {
   "cell_type": "code",
   "execution_count": 833,
   "id": "e5df2339",
   "metadata": {},
   "outputs": [
    {
     "name": "stdout",
     "output_type": "stream",
     "text": [
      "Product with Negative Increase Rate:\n"
     ]
    },
    {
     "data": {
      "text/html": [
       "<div>\n",
       "<style scoped>\n",
       "    .dataframe tbody tr th:only-of-type {\n",
       "        vertical-align: middle;\n",
       "    }\n",
       "\n",
       "    .dataframe tbody tr th {\n",
       "        vertical-align: top;\n",
       "    }\n",
       "\n",
       "    .dataframe thead th {\n",
       "        text-align: right;\n",
       "    }\n",
       "</style>\n",
       "<table border=\"1\" class=\"dataframe\">\n",
       "  <thead>\n",
       "    <tr style=\"text-align: right;\">\n",
       "      <th></th>\n",
       "      <th>brand</th>\n",
       "      <th>reference</th>\n",
       "      <th>collection</th>\n",
       "      <th>price_USD_2021</th>\n",
       "      <th>price_USD_2025</th>\n",
       "      <th>Price Difference</th>\n",
       "      <th>Increase Rate (%)</th>\n",
       "      <th>CAGR (%)</th>\n",
       "    </tr>\n",
       "  </thead>\n",
       "  <tbody>\n",
       "  </tbody>\n",
       "</table>\n",
       "</div>"
      ],
      "text/plain": [
       "Empty DataFrame\n",
       "Columns: [brand, reference, collection, price_USD_2021, price_USD_2025, Price Difference, Increase Rate (%), CAGR (%)]\n",
       "Index: []"
      ]
     },
     "execution_count": 833,
     "metadata": {},
     "output_type": "execute_result"
    }
   ],
   "source": [
    "print(\"Product with Negative Increase Rate:\")\n",
    "negative_increase.head()"
   ]
  },
  {
   "cell_type": "markdown",
   "id": "4969046b",
   "metadata": {},
   "source": [
    "#### Identify Products with Extreme Growth Rates"
   ]
  },
  {
   "cell_type": "code",
   "execution_count": 834,
   "id": "88f08e7e",
   "metadata": {},
   "outputs": [],
   "source": [
    "product_highest_increase_rate, product_lowest_increase_rate = get_extreme_products(data_2021_2025_country_ref)"
   ]
  },
  {
   "cell_type": "code",
   "execution_count": 835,
   "id": "5f80fa60",
   "metadata": {},
   "outputs": [
    {
     "name": "stdout",
     "output_type": "stream",
     "text": [
      "Product with the Highest Increase Rate:\n"
     ]
    },
    {
     "data": {
      "text/html": [
       "<div>\n",
       "<style scoped>\n",
       "    .dataframe tbody tr th:only-of-type {\n",
       "        vertical-align: middle;\n",
       "    }\n",
       "\n",
       "    .dataframe tbody tr th {\n",
       "        vertical-align: top;\n",
       "    }\n",
       "\n",
       "    .dataframe thead th {\n",
       "        text-align: right;\n",
       "    }\n",
       "</style>\n",
       "<table border=\"1\" class=\"dataframe\">\n",
       "  <thead>\n",
       "    <tr style=\"text-align: right;\">\n",
       "      <th></th>\n",
       "      <th>brand</th>\n",
       "      <th>reference</th>\n",
       "      <th>collection</th>\n",
       "      <th>price_USD_2021</th>\n",
       "      <th>price_USD_2025</th>\n",
       "      <th>Price Difference</th>\n",
       "      <th>Increase Rate (%)</th>\n",
       "      <th>CAGR (%)</th>\n",
       "    </tr>\n",
       "  </thead>\n",
       "  <tbody>\n",
       "    <tr>\n",
       "      <th>0</th>\n",
       "      <td>PANERAI</td>\n",
       "      <td>PAM01250</td>\n",
       "      <td>Luminor Due</td>\n",
       "      <td>5186.621</td>\n",
       "      <td>7305.1</td>\n",
       "      <td>2118.479</td>\n",
       "      <td>40.84507</td>\n",
       "      <td>8.939509</td>\n",
       "    </tr>\n",
       "  </tbody>\n",
       "</table>\n",
       "</div>"
      ],
      "text/plain": [
       "     brand reference   collection  price_USD_2021  price_USD_2025  \\\n",
       "0  PANERAI  PAM01250  Luminor Due        5186.621          7305.1   \n",
       "\n",
       "   Price Difference  Increase Rate (%)  CAGR (%)  \n",
       "0          2118.479           40.84507  8.939509  "
      ]
     },
     "execution_count": 835,
     "metadata": {},
     "output_type": "execute_result"
    }
   ],
   "source": [
    "# Product with the highest increase rate\n",
    "print(\"Product with the Highest Increase Rate:\")\n",
    "product_highest_increase_rate.head()"
   ]
  },
  {
   "cell_type": "code",
   "execution_count": 836,
   "id": "c87c1ca4",
   "metadata": {
    "scrolled": true
   },
   "outputs": [
    {
     "name": "stdout",
     "output_type": "stream",
     "text": [
      "\n",
      "Product with the Lowest Increase Rate:\n"
     ]
    },
    {
     "data": {
      "text/html": [
       "<div>\n",
       "<style scoped>\n",
       "    .dataframe tbody tr th:only-of-type {\n",
       "        vertical-align: middle;\n",
       "    }\n",
       "\n",
       "    .dataframe tbody tr th {\n",
       "        vertical-align: top;\n",
       "    }\n",
       "\n",
       "    .dataframe thead th {\n",
       "        text-align: right;\n",
       "    }\n",
       "</style>\n",
       "<table border=\"1\" class=\"dataframe\">\n",
       "  <thead>\n",
       "    <tr style=\"text-align: right;\">\n",
       "      <th></th>\n",
       "      <th>brand</th>\n",
       "      <th>reference</th>\n",
       "      <th>collection</th>\n",
       "      <th>price_USD_2021</th>\n",
       "      <th>price_USD_2025</th>\n",
       "      <th>Price Difference</th>\n",
       "      <th>Increase Rate (%)</th>\n",
       "      <th>CAGR (%)</th>\n",
       "    </tr>\n",
       "  </thead>\n",
       "  <tbody>\n",
       "    <tr>\n",
       "      <th>0</th>\n",
       "      <td>PANERAI</td>\n",
       "      <td>PAM00715</td>\n",
       "      <td>Luminor</td>\n",
       "      <td>54569.097</td>\n",
       "      <td>70567.266</td>\n",
       "      <td>15998.169</td>\n",
       "      <td>29.317269</td>\n",
       "      <td>6.638525</td>\n",
       "    </tr>\n",
       "  </tbody>\n",
       "</table>\n",
       "</div>"
      ],
      "text/plain": [
       "     brand reference collection  price_USD_2021  price_USD_2025  \\\n",
       "0  PANERAI  PAM00715    Luminor       54569.097       70567.266   \n",
       "\n",
       "   Price Difference  Increase Rate (%)  CAGR (%)  \n",
       "0         15998.169          29.317269  6.638525  "
      ]
     },
     "execution_count": 836,
     "metadata": {},
     "output_type": "execute_result"
    }
   ],
   "source": [
    "# Product with the lowest increase rate\n",
    "print(\"\\nProduct with the Lowest Increase Rate:\")\n",
    "product_lowest_increase_rate.head()"
   ]
  },
  {
   "cell_type": "markdown",
   "id": "87655a7d",
   "metadata": {},
   "source": [
    "#### Count Products by Increase Direction"
   ]
  },
  {
   "cell_type": "code",
   "execution_count": 837,
   "id": "de6eacd8",
   "metadata": {},
   "outputs": [],
   "source": [
    "data_2021_2025_grouped_mean, data_2021_2025_grouped_median = group_metrics_by_country(data_2021_2025_country_ref)"
   ]
  },
  {
   "cell_type": "code",
   "execution_count": 838,
   "id": "57bc7f7c",
   "metadata": {},
   "outputs": [
    {
     "name": "stdout",
     "output_type": "stream",
     "text": [
      "\n",
      "Grouped Mean Metrics by Collection and Reference:\n"
     ]
    },
    {
     "data": {
      "text/html": [
       "<div>\n",
       "<style scoped>\n",
       "    .dataframe tbody tr th:only-of-type {\n",
       "        vertical-align: middle;\n",
       "    }\n",
       "\n",
       "    .dataframe tbody tr th {\n",
       "        vertical-align: top;\n",
       "    }\n",
       "\n",
       "    .dataframe thead th {\n",
       "        text-align: right;\n",
       "    }\n",
       "</style>\n",
       "<table border=\"1\" class=\"dataframe\">\n",
       "  <thead>\n",
       "    <tr style=\"text-align: right;\">\n",
       "      <th></th>\n",
       "      <th>collection</th>\n",
       "      <th>reference</th>\n",
       "      <th>price_USD_2021</th>\n",
       "      <th>price_USD_2025</th>\n",
       "      <th>Price Difference</th>\n",
       "      <th>Increase Rate (%)</th>\n",
       "      <th>CAGR (%)</th>\n",
       "    </tr>\n",
       "  </thead>\n",
       "  <tbody>\n",
       "    <tr>\n",
       "      <th>0</th>\n",
       "      <td>Luminor</td>\n",
       "      <td>PAM00422</td>\n",
       "      <td>8108.661</td>\n",
       "      <td>11322.905</td>\n",
       "      <td>3214.244</td>\n",
       "      <td>39.639640</td>\n",
       "      <td>8.705666</td>\n",
       "    </tr>\n",
       "    <tr>\n",
       "      <th>1</th>\n",
       "      <td>Luminor</td>\n",
       "      <td>PAM00670</td>\n",
       "      <td>18262.750</td>\n",
       "      <td>24106.830</td>\n",
       "      <td>5844.080</td>\n",
       "      <td>32.000000</td>\n",
       "      <td>7.187337</td>\n",
       "    </tr>\n",
       "    <tr>\n",
       "      <th>2</th>\n",
       "      <td>Luminor</td>\n",
       "      <td>PAM00715</td>\n",
       "      <td>54569.097</td>\n",
       "      <td>70567.266</td>\n",
       "      <td>15998.169</td>\n",
       "      <td>29.317269</td>\n",
       "      <td>6.638525</td>\n",
       "    </tr>\n",
       "    <tr>\n",
       "      <th>3</th>\n",
       "      <td>Luminor</td>\n",
       "      <td>PAM00742</td>\n",
       "      <td>37986.520</td>\n",
       "      <td>50989.598</td>\n",
       "      <td>13003.078</td>\n",
       "      <td>34.230769</td>\n",
       "      <td>7.637356</td>\n",
       "    </tr>\n",
       "    <tr>\n",
       "      <th>4</th>\n",
       "      <td>Luminor</td>\n",
       "      <td>PAM00914</td>\n",
       "      <td>5113.570</td>\n",
       "      <td>7085.947</td>\n",
       "      <td>1972.377</td>\n",
       "      <td>38.571429</td>\n",
       "      <td>8.497173</td>\n",
       "    </tr>\n",
       "  </tbody>\n",
       "</table>\n",
       "</div>"
      ],
      "text/plain": [
       "  collection reference  price_USD_2021  price_USD_2025  Price Difference  \\\n",
       "0    Luminor  PAM00422        8108.661       11322.905          3214.244   \n",
       "1    Luminor  PAM00670       18262.750       24106.830          5844.080   \n",
       "2    Luminor  PAM00715       54569.097       70567.266         15998.169   \n",
       "3    Luminor  PAM00742       37986.520       50989.598         13003.078   \n",
       "4    Luminor  PAM00914        5113.570        7085.947          1972.377   \n",
       "\n",
       "   Increase Rate (%)  CAGR (%)  \n",
       "0          39.639640  8.705666  \n",
       "1          32.000000  7.187337  \n",
       "2          29.317269  6.638525  \n",
       "3          34.230769  7.637356  \n",
       "4          38.571429  8.497173  "
      ]
     },
     "execution_count": 838,
     "metadata": {},
     "output_type": "execute_result"
    }
   ],
   "source": [
    "print(f\"\\nGrouped Mean Metrics by Collection and Reference:\")\n",
    "data_2021_2025_grouped_mean.head()"
   ]
  },
  {
   "cell_type": "code",
   "execution_count": 839,
   "id": "f6c30dce",
   "metadata": {
    "scrolled": false
   },
   "outputs": [
    {
     "name": "stdout",
     "output_type": "stream",
     "text": [
      "\n",
      "Grouped Median Metrics by Collection and Reference:\n"
     ]
    },
    {
     "data": {
      "text/html": [
       "<div>\n",
       "<style scoped>\n",
       "    .dataframe tbody tr th:only-of-type {\n",
       "        vertical-align: middle;\n",
       "    }\n",
       "\n",
       "    .dataframe tbody tr th {\n",
       "        vertical-align: top;\n",
       "    }\n",
       "\n",
       "    .dataframe thead th {\n",
       "        text-align: right;\n",
       "    }\n",
       "</style>\n",
       "<table border=\"1\" class=\"dataframe\">\n",
       "  <thead>\n",
       "    <tr style=\"text-align: right;\">\n",
       "      <th></th>\n",
       "      <th>collection</th>\n",
       "      <th>reference</th>\n",
       "      <th>price_USD_2021</th>\n",
       "      <th>price_USD_2025</th>\n",
       "      <th>Price Difference</th>\n",
       "      <th>Increase Rate (%)</th>\n",
       "      <th>CAGR (%)</th>\n",
       "    </tr>\n",
       "  </thead>\n",
       "  <tbody>\n",
       "    <tr>\n",
       "      <th>0</th>\n",
       "      <td>Luminor</td>\n",
       "      <td>PAM00422</td>\n",
       "      <td>8108.661</td>\n",
       "      <td>11322.905</td>\n",
       "      <td>3214.244</td>\n",
       "      <td>39.639640</td>\n",
       "      <td>8.705666</td>\n",
       "    </tr>\n",
       "    <tr>\n",
       "      <th>1</th>\n",
       "      <td>Luminor</td>\n",
       "      <td>PAM00670</td>\n",
       "      <td>18262.750</td>\n",
       "      <td>24106.830</td>\n",
       "      <td>5844.080</td>\n",
       "      <td>32.000000</td>\n",
       "      <td>7.187337</td>\n",
       "    </tr>\n",
       "    <tr>\n",
       "      <th>2</th>\n",
       "      <td>Luminor</td>\n",
       "      <td>PAM00715</td>\n",
       "      <td>54569.097</td>\n",
       "      <td>70567.266</td>\n",
       "      <td>15998.169</td>\n",
       "      <td>29.317269</td>\n",
       "      <td>6.638525</td>\n",
       "    </tr>\n",
       "    <tr>\n",
       "      <th>3</th>\n",
       "      <td>Luminor</td>\n",
       "      <td>PAM00742</td>\n",
       "      <td>37986.520</td>\n",
       "      <td>50989.598</td>\n",
       "      <td>13003.078</td>\n",
       "      <td>34.230769</td>\n",
       "      <td>7.637356</td>\n",
       "    </tr>\n",
       "    <tr>\n",
       "      <th>4</th>\n",
       "      <td>Luminor</td>\n",
       "      <td>PAM00914</td>\n",
       "      <td>5113.570</td>\n",
       "      <td>7085.947</td>\n",
       "      <td>1972.377</td>\n",
       "      <td>38.571429</td>\n",
       "      <td>8.497173</td>\n",
       "    </tr>\n",
       "  </tbody>\n",
       "</table>\n",
       "</div>"
      ],
      "text/plain": [
       "  collection reference  price_USD_2021  price_USD_2025  Price Difference  \\\n",
       "0    Luminor  PAM00422        8108.661       11322.905          3214.244   \n",
       "1    Luminor  PAM00670       18262.750       24106.830          5844.080   \n",
       "2    Luminor  PAM00715       54569.097       70567.266         15998.169   \n",
       "3    Luminor  PAM00742       37986.520       50989.598         13003.078   \n",
       "4    Luminor  PAM00914        5113.570        7085.947          1972.377   \n",
       "\n",
       "   Increase Rate (%)  CAGR (%)  \n",
       "0          39.639640  8.705666  \n",
       "1          32.000000  7.187337  \n",
       "2          29.317269  6.638525  \n",
       "3          34.230769  7.637356  \n",
       "4          38.571429  8.497173  "
      ]
     },
     "execution_count": 839,
     "metadata": {},
     "output_type": "execute_result"
    }
   ],
   "source": [
    "print(f\"\\nGrouped Median Metrics by Collection and Reference:\")\n",
    "data_2021_2025_grouped_median.head()"
   ]
  },
  {
   "cell_type": "markdown",
   "id": "cfcda6cb",
   "metadata": {},
   "source": [
    "### 3.2. From 2021 to 2025: Products That Vanished"
   ]
  },
  {
   "cell_type": "code",
   "execution_count": 880,
   "id": "e53d51b5",
   "metadata": {},
   "outputs": [
    {
     "data": {
      "text/html": [
       "<div>\n",
       "<style scoped>\n",
       "    .dataframe tbody tr th:only-of-type {\n",
       "        vertical-align: middle;\n",
       "    }\n",
       "\n",
       "    .dataframe tbody tr th {\n",
       "        vertical-align: top;\n",
       "    }\n",
       "\n",
       "    .dataframe thead th {\n",
       "        text-align: right;\n",
       "    }\n",
       "</style>\n",
       "<table border=\"1\" class=\"dataframe\">\n",
       "  <thead>\n",
       "    <tr style=\"text-align: right;\">\n",
       "      <th></th>\n",
       "      <th>brand</th>\n",
       "      <th>url</th>\n",
       "      <th>image_url</th>\n",
       "      <th>collection</th>\n",
       "      <th>reference</th>\n",
       "      <th>price</th>\n",
       "      <th>currency</th>\n",
       "      <th>country</th>\n",
       "      <th>year</th>\n",
       "      <th>price_EUR</th>\n",
       "      <th>price_GBP</th>\n",
       "      <th>price_USD</th>\n",
       "      <th>price_JPY</th>\n",
       "    </tr>\n",
       "  </thead>\n",
       "  <tbody>\n",
       "    <tr>\n",
       "      <th>0</th>\n",
       "      <td>Panerai</td>\n",
       "      <td>https://www.panerai.com/fr/fr/collections/watc...</td>\n",
       "      <td>https://www.panerai.com/content/dam/rcq/pan/10...</td>\n",
       "      <td>RADIOMIR</td>\n",
       "      <td>PAM00655</td>\n",
       "      <td>9700.0</td>\n",
       "      <td>EUR</td>\n",
       "      <td>France</td>\n",
       "      <td>2021</td>\n",
       "      <td>9700.0</td>\n",
       "      <td>8009.29</td>\n",
       "      <td>10074.42</td>\n",
       "      <td>1516928.68</td>\n",
       "    </tr>\n",
       "    <tr>\n",
       "      <th>1</th>\n",
       "      <td>Panerai</td>\n",
       "      <td>https://www.panerai.com/fr/fr/collections/watc...</td>\n",
       "      <td>https://www.panerai.com/content/dam/rcq/pan/11...</td>\n",
       "      <td>RADIOMIR</td>\n",
       "      <td>PAM00628</td>\n",
       "      <td>11600.0</td>\n",
       "      <td>EUR</td>\n",
       "      <td>France</td>\n",
       "      <td>2021</td>\n",
       "      <td>11600.0</td>\n",
       "      <td>9578.12</td>\n",
       "      <td>12047.76</td>\n",
       "      <td>1814059.04</td>\n",
       "    </tr>\n",
       "    <tr>\n",
       "      <th>2</th>\n",
       "      <td>Panerai</td>\n",
       "      <td>https://www.panerai.com/fr/fr/collections/watc...</td>\n",
       "      <td>https://www.panerai.com/content/dam/rcq/pan/11...</td>\n",
       "      <td>RADIOMIR</td>\n",
       "      <td>PAM00657</td>\n",
       "      <td>11400.0</td>\n",
       "      <td>EUR</td>\n",
       "      <td>France</td>\n",
       "      <td>2021</td>\n",
       "      <td>11400.0</td>\n",
       "      <td>9412.98</td>\n",
       "      <td>11840.04</td>\n",
       "      <td>1782782.16</td>\n",
       "    </tr>\n",
       "    <tr>\n",
       "      <th>3</th>\n",
       "      <td>Panerai</td>\n",
       "      <td>https://www.panerai.com/fr/fr/collections/watc...</td>\n",
       "      <td>https://www.panerai.com/content/dam/rcq/pan/13...</td>\n",
       "      <td>LUMINOR</td>\n",
       "      <td>PAM00661</td>\n",
       "      <td>11900.0</td>\n",
       "      <td>EUR</td>\n",
       "      <td>France</td>\n",
       "      <td>2021</td>\n",
       "      <td>11900.0</td>\n",
       "      <td>9825.83</td>\n",
       "      <td>12359.34</td>\n",
       "      <td>1860974.36</td>\n",
       "    </tr>\n",
       "    <tr>\n",
       "      <th>5</th>\n",
       "      <td>Panerai</td>\n",
       "      <td>https://www.panerai.com/fr/fr/collections/watc...</td>\n",
       "      <td>https://www.panerai.com/content/dam/rcq/pan/13...</td>\n",
       "      <td>LUMINOR</td>\n",
       "      <td>PAM01499</td>\n",
       "      <td>7900.0</td>\n",
       "      <td>EUR</td>\n",
       "      <td>France</td>\n",
       "      <td>2021</td>\n",
       "      <td>7900.0</td>\n",
       "      <td>6523.03</td>\n",
       "      <td>8204.94</td>\n",
       "      <td>1235436.76</td>\n",
       "    </tr>\n",
       "  </tbody>\n",
       "</table>\n",
       "</div>"
      ],
      "text/plain": [
       "     brand                                                url  \\\n",
       "0  Panerai  https://www.panerai.com/fr/fr/collections/watc...   \n",
       "1  Panerai  https://www.panerai.com/fr/fr/collections/watc...   \n",
       "2  Panerai  https://www.panerai.com/fr/fr/collections/watc...   \n",
       "3  Panerai  https://www.panerai.com/fr/fr/collections/watc...   \n",
       "5  Panerai  https://www.panerai.com/fr/fr/collections/watc...   \n",
       "\n",
       "                                           image_url collection reference  \\\n",
       "0  https://www.panerai.com/content/dam/rcq/pan/10...   RADIOMIR  PAM00655   \n",
       "1  https://www.panerai.com/content/dam/rcq/pan/11...   RADIOMIR  PAM00628   \n",
       "2  https://www.panerai.com/content/dam/rcq/pan/11...   RADIOMIR  PAM00657   \n",
       "3  https://www.panerai.com/content/dam/rcq/pan/13...    LUMINOR  PAM00661   \n",
       "5  https://www.panerai.com/content/dam/rcq/pan/13...    LUMINOR  PAM01499   \n",
       "\n",
       "     price currency country  year  price_EUR  price_GBP  price_USD   price_JPY  \n",
       "0   9700.0      EUR  France  2021     9700.0    8009.29   10074.42  1516928.68  \n",
       "1  11600.0      EUR  France  2021    11600.0    9578.12   12047.76  1814059.04  \n",
       "2  11400.0      EUR  France  2021    11400.0    9412.98   11840.04  1782782.16  \n",
       "3  11900.0      EUR  France  2021    11900.0    9825.83   12359.34  1860974.36  \n",
       "5   7900.0      EUR  France  2021     7900.0    6523.03    8204.94  1235436.76  "
      ]
     },
     "execution_count": 880,
     "metadata": {},
     "output_type": "execute_result"
    }
   ],
   "source": [
    "data_2021_only = data_2021[~data_2021['reference'].isin(data_2025['reference'])]\n",
    "data_2021_only.to_csv(\"../data/silver/Exclusive_watches_2021.csv\", index=False)\n",
    "data_2021_only.to_csv(\"../data/gold/Exclusive_watches_2021.csv\", index=False)\n",
    "\n",
    "data_2021_only.head()"
   ]
  },
  {
   "cell_type": "code",
   "execution_count": 881,
   "id": "9cf4a5b0",
   "metadata": {
    "scrolled": true
   },
   "outputs": [],
   "source": [
    "stats = data_2021_only.describe(include=\"object\")"
   ]
  },
  {
   "cell_type": "code",
   "execution_count": 882,
   "id": "84a74eed",
   "metadata": {},
   "outputs": [
    {
     "name": "stdout",
     "output_type": "stream",
     "text": [
      "Overall Summary:\n",
      "\n",
      "Total Number of Products from 2021 No Longer Available: 58\n",
      "\n",
      "We have 4 collections, and LUMINOR is the leading one\n",
      "\n",
      "Catalog of Collections:\n",
      "1. RADIOMIR\n",
      "2. LUMINOR\n",
      "3. SUBMERSIBLE\n",
      "4. LUMINOR-DUE\n",
      "\n",
      "We have a total of 176 distinct products, with PAM00233 leading the selection from the LUMINOR collection\n"
     ]
    }
   ],
   "source": [
    "number_unique_collections, top_collection, _, top_reference, collection_list = describe_country(data_2021_only)\n",
    "\n",
    "print(\"Overall Summary:\\n\")\n",
    "print(f\"Total Number of Products from 2021 No Longer Available: {len(set(data_2021.reference.values)) - len(set(data_2025.reference.values))}\")\n",
    "\n",
    "if number_unique_collections == 1:\n",
    "    print(f\"\\nThere is a unique collection, named {top_collection}\")\n",
    "else:\n",
    "    print(f\"\\nWe have {number_unique_collections} collections, and {top_collection} is the leading one\")\n",
    "\n",
    "print(\"\\nCatalog of Collections:\")\n",
    "print(\"\\n\".join([f\"{i+1}. {collection}\" for i, collection in enumerate(collection_list)]))\n",
    "\n",
    "if number_unique_references == 1:\n",
    "    print(f\"\\nThere is a unique reference: {top_reference}\")\n",
    "else:\n",
    "    # Use the original data for lookup, not the summary!\n",
    "    collection_for_top_reference = data_2021_only[data_2021_only['reference'] == top_reference]['collection'].iloc[0]\n",
    "    print(f\"\\nWe have a total of {number_unique_references} distinct products, with {top_reference} leading the selection from the {collection_for_top_reference} collection\")\n"
   ]
  },
  {
   "cell_type": "code",
   "execution_count": 883,
   "id": "084728d0",
   "metadata": {},
   "outputs": [
    {
     "name": "stdout",
     "output_type": "stream",
     "text": [
      "Our study is applied to 4 countries, with Japan being the top one\n"
     ]
    }
   ],
   "source": [
    "# Countries\n",
    "number_unique_countries, top_country = stats[\"country\"].unique()[1], stats[\"country\"].unique()[2]\n",
    "if number_unique_countries == 1:\n",
    "    print(f\"Our study is applied to a unique country, {top_country}\")\n",
    "else:\n",
    "    print(f\"Our study is applied to {number_unique_countries} countries, with {top_country} being the top one\")"
   ]
  },
  {
   "cell_type": "code",
   "execution_count": 884,
   "id": "ae1bdd6c",
   "metadata": {},
   "outputs": [
    {
     "name": "stdout",
     "output_type": "stream",
     "text": [
      "Countries Included in the Study:\n",
      "\n",
      "\t1. France\n",
      "\t2. UK\n",
      "\t3. Japan\n",
      "\t4. USA\n"
     ]
    }
   ],
   "source": [
    "countries_list = data_2021_only[\"country\"].unique()\n",
    "\n",
    "print(\"Countries Included in the Study:\\n\")\n",
    "for i in range(len(countries_list)):\n",
    "    print(f\"\\t{i+1}. {countries_list[i]}\")"
   ]
  },
  {
   "cell_type": "code",
   "execution_count": 885,
   "id": "b937c1c3",
   "metadata": {},
   "outputs": [
    {
     "data": {
      "image/png": "[encoded data removed]",
      "text/plain": [
       "<Figure size 640x480 with 1 Axes>"
      ]
     },
     "metadata": {},
     "output_type": "display_data"
    }
   ],
   "source": [
    "collection_visualization(data_2021_only)"
   ]
  },
  {
   "cell_type": "markdown",
   "id": "8e772585",
   "metadata": {},
   "source": [
    "#### 3.2.1. Analysis for a given country"
   ]
  },
  {
   "cell_type": "markdown",
   "id": "f11a4ee3",
   "metadata": {},
   "source": [
    "#### 3.2.1.1. France"
   ]
  },
  {
   "cell_type": "code",
   "execution_count": 886,
   "id": "a3cdfadb",
   "metadata": {
    "scrolled": true
   },
   "outputs": [],
   "source": [
    "country = \"France\"\n",
    "\n",
    "data_2021_country = data_2021[data_2021['country'] == country]\n",
    "data_2025_country = data_2025[data_2025['country'] == country]\n",
    "data_2021_only_country = data_2021_only[data_2021_only['country'] == country]"
   ]
  },
  {
   "cell_type": "code",
   "execution_count": 887,
   "id": "0b0e2922",
   "metadata": {},
   "outputs": [
    {
     "name": "stdout",
     "output_type": "stream",
     "text": [
      "Overall Summary:\n",
      "\n",
      "Total Number of Products from 2021 No Longer Available: 7\n",
      "\n",
      "We have 4 collections, and LUMINOR is the leading one\n",
      "\n",
      "Catalog of Collections:\n",
      "1. RADIOMIR\n",
      "2. LUMINOR\n",
      "3. SUBMERSIBLE\n",
      "4. LUMINOR-DUE\n",
      "\n",
      "We have a total of 176 distinct products, with PAM00233 leading the selection from the LUMINOR collection\n"
     ]
    }
   ],
   "source": [
    "number_unique_collections, top_collection, _, top_reference, collection_list = describe_country(data_2021_only_country)\n",
    "\n",
    "print(\"Overall Summary:\\n\")\n",
    "print(f\"Total Number of Products from 2021 No Longer Available: {len(set(data_2021_country.reference.values)) - len(set(data_2025_country.reference.values))}\")\n",
    "\n",
    "if number_unique_collections == 1:\n",
    "    print(f\"\\nThere is a unique collection, named {top_collection}\")\n",
    "else:\n",
    "    print(f\"\\nWe have {number_unique_collections} collections, and {top_collection} is the leading one\")\n",
    "\n",
    "print(\"\\nCatalog of Collections:\")\n",
    "print(\"\\n\".join([f\"{i+1}. {collection}\" for i, collection in enumerate(collection_list)]))\n",
    "\n",
    "if number_unique_references == 1:\n",
    "    print(f\"\\nThere is a unique reference: {top_reference}\")\n",
    "else:\n",
    "    # Use the original data for lookup, not the summary!\n",
    "    collection_for_top_reference = data_2021_only[data_2021_only['reference'] == top_reference]['collection'].iloc[0]\n",
    "    print(f\"\\nWe have a total of {number_unique_references} distinct products, with {top_reference} leading the selection from the {collection_for_top_reference} collection\")\n"
   ]
  },
  {
   "cell_type": "code",
   "execution_count": 891,
   "id": "4562f883",
   "metadata": {
    "scrolled": true
   },
   "outputs": [
    {
     "data": {
      "image/png": "[encoded data removed]",
      "text/plain": [
       "<Figure size 640x480 with 1 Axes>"
      ]
     },
     "metadata": {},
     "output_type": "display_data"
    }
   ],
   "source": [
    "collection_visualization(data_2021_only_country, country)"
   ]
  },
  {
   "cell_type": "code",
   "execution_count": 741,
   "id": "5f2fa8db",
   "metadata": {},
   "outputs": [],
   "source": [
    "overall_stats, collection_stats = analyze_country(data_2021_only_country)"
   ]
  },
  {
   "cell_type": "markdown",
   "id": "8c69b2b1",
   "metadata": {},
   "source": [
    "#### Identify the cheapest and most expensive product in the whole subset"
   ]
  },
  {
   "cell_type": "code",
   "execution_count": 742,
   "id": "ca91148c",
   "metadata": {},
   "outputs": [
    {
     "name": "stdout",
     "output_type": "stream",
     "text": [
      "\n",
      "Cheapest and most expensive product in France:\n",
      "  Cheapest -> Collection: RADIOMIR, Reference: PAM00753, Price: 4400.0 EUR\n",
      "  Most Expensive -> Collection: SUBMERSIBLE, Reference: PAM01108, Price: 190000.0 EUR\n"
     ]
    }
   ],
   "source": [
    "print(f\"\\nCheapest and most expensive product in {country}:\")\n",
    "print(f\"  Cheapest -> Collection: {overall_stats['cheapest']['collection']}, Reference: {overall_stats['cheapest']['reference']}, Price: {overall_stats['cheapest']['price']} {(data_2021_only['currency'][data_2021_only['country'] == country]).unique()[0]}\")\n",
    "print(f\"  Most Expensive -> Collection: {overall_stats['most_expensive']['collection']}, Reference: {overall_stats['most_expensive']['reference']}, Price: {overall_stats['most_expensive']['price']} {(data_2021_only['currency'][data_2021_only['country'] == country]).unique()[0]}\")"
   ]
  },
  {
   "cell_type": "markdown",
   "id": "0d21d3ca",
   "metadata": {},
   "source": [
    "#### Identify the cheapest and most expensive product per collection"
   ]
  },
  {
   "cell_type": "code",
   "execution_count": 743,
   "id": "9ba248e8",
   "metadata": {
    "scrolled": true
   },
   "outputs": [
    {
     "name": "stdout",
     "output_type": "stream",
     "text": [
      "Collection: RADIOMIR\n",
      "  Cheapest -> Reference: PAM00753, Price: 4400.0 EUR\n",
      "  Most Expensive -> Reference: PAM00997, Price: 12900.0 EUR\n",
      "\n",
      "--------------------------------------------------\n",
      "\n",
      "Collection: LUMINOR\n",
      "  Cheapest -> Reference: PAM00774, Price: 4900.0 EUR\n",
      "  Most Expensive -> Reference: PAM00768, Price: 145000.0 EUR\n",
      "\n",
      "--------------------------------------------------\n",
      "\n",
      "Collection: SUBMERSIBLE\n",
      "  Cheapest -> Reference: PAM00973, Price: 8700.0 EUR\n",
      "  Most Expensive -> Reference: PAM01108, Price: 190000.0 EUR\n",
      "\n",
      "--------------------------------------------------\n",
      "\n",
      "Collection: LUMINOR-DUE\n",
      "  Cheapest -> Reference: PAM00755, Price: 6100.0 EUR\n",
      "  Most Expensive -> Reference: PAM00741, Price: 21500.0 EUR\n",
      "\n",
      "--------------------------------------------------\n",
      "\n"
     ]
    }
   ],
   "source": [
    "for stat in collection_stats:\n",
    "    print(f\"Collection: {stat['collection']}\")\n",
    "    print(f\"  Cheapest -> Reference: {stat['cheapest']['reference']}, Price: {stat['cheapest']['price']} {(data_2021_only['currency'][data_2021_only['country'] == country]).unique()[0]}\")\n",
    "    print(f\"  Most Expensive -> Reference: {stat['most_expensive']['reference']}, Price: {stat['most_expensive']['price']} {(data_2021_only['currency'][data_2021_only['country'] == country]).unique()[0]}\")\n",
    "    print(\"\\n\"+\"-\"*50+\"\\n\")"
   ]
  },
  {
   "cell_type": "markdown",
   "id": "19ba9b01",
   "metadata": {},
   "source": [
    "#### 3.2.1.2. USA"
   ]
  },
  {
   "cell_type": "code",
   "execution_count": 750,
   "id": "fb66557c",
   "metadata": {
    "scrolled": true
   },
   "outputs": [],
   "source": [
    "country = \"USA\"\n",
    "\n",
    "data_2021_country = data_2021[data_2021['country'] == country]\n",
    "data_2025_country = data_2025[data_2025['country'] == country]\n",
    "data_2021_only_country = data_2021_only[data_2021_only['country'] == country]"
   ]
  },
  {
   "cell_type": "code",
   "execution_count": 751,
   "id": "65cbe1fe",
   "metadata": {},
   "outputs": [
    {
     "name": "stdout",
     "output_type": "stream",
     "text": [
      "Overall Summary:\n",
      "\n",
      "Total Number of Products from 2021 No Longer Available: 29\n",
      "\n",
      "We have 4 collections, and LUMINOR is the leading one\n",
      "\n",
      "Catalog of Collections:\n",
      "1. RADIOMIR\n",
      "2. LUMINOR\n",
      "3. LUMINOR-DUE\n",
      "4. SUBMERSIBLE\n",
      "\n",
      "We have a total of 176 distinct products, with PAM00233 leading the selection from the LUMINOR collection\n"
     ]
    }
   ],
   "source": [
    "number_unique_collections, top_collection, _, top_reference, collection_list = describe_country(data_2021_only_country)\n",
    "\n",
    "print(\"Overall Summary:\\n\")\n",
    "print(f\"Total Number of Products from 2021 No Longer Available: {len(set(data_2021_country.reference.values)) - len(set(data_2025_country.reference.values))}\")\n",
    "\n",
    "if number_unique_collections == 1:\n",
    "    print(f\"\\nThere is a unique collection, named {top_collection}\")\n",
    "else:\n",
    "    print(f\"\\nWe have {number_unique_collections} collections, and {top_collection} is the leading one\")\n",
    "\n",
    "print(\"\\nCatalog of Collections:\")\n",
    "print(\"\\n\".join([f\"{i+1}. {collection}\" for i, collection in enumerate(collection_list)]))\n",
    "\n",
    "if number_unique_references == 1:\n",
    "    print(f\"\\nThere is a unique reference: {top_reference}\")\n",
    "else:\n",
    "    # Use the original data for lookup, not the summary!\n",
    "    collection_for_top_reference = data_2021_only[data_2021_only['reference'] == top_reference]['collection'].iloc[0]\n",
    "    print(f\"\\nWe have a total of {number_unique_references} distinct products, with {top_reference} leading the selection from the {collection_for_top_reference} collection\")\n"
   ]
  },
  {
   "cell_type": "code",
   "execution_count": 752,
   "id": "43d050f4",
   "metadata": {
    "scrolled": true
   },
   "outputs": [
    {
     "data": {
      "image/png": "[encoded data removed]",
      "text/plain": [
       "<Figure size 640x480 with 1 Axes>"
      ]
     },
     "metadata": {},
     "output_type": "display_data"
    }
   ],
   "source": [
    "collection_visualization(data_2021_only_country)"
   ]
  },
  {
   "cell_type": "code",
   "execution_count": 753,
   "id": "4d20f1a2",
   "metadata": {},
   "outputs": [],
   "source": [
    "overall_stats, collection_stats = analyze_country(data_2021_only_country)"
   ]
  },
  {
   "cell_type": "markdown",
   "id": "ba640995",
   "metadata": {},
   "source": [
    "#### Identify the cheapest and most expensive product in the whole subset"
   ]
  },
  {
   "cell_type": "code",
   "execution_count": 754,
   "id": "d410450a",
   "metadata": {
    "scrolled": true
   },
   "outputs": [
    {
     "name": "stdout",
     "output_type": "stream",
     "text": [
      "\n",
      "Cheapest and most expensive product in USA:\n",
      "  Cheapest -> Collection: RADIOMIR, Reference: PAM00753, Price: 5700.0 USD\n",
      "  Most Expensive -> Collection: SUBMERSIBLE, Reference: PAM01108, Price: 247700.0 USD\n"
     ]
    }
   ],
   "source": [
    "print(f\"\\nCheapest and most expensive product in {country}:\")\n",
    "print(f\"  Cheapest -> Collection: {overall_stats['cheapest']['collection']}, Reference: {overall_stats['cheapest']['reference']}, Price: {overall_stats['cheapest']['price']} {(data_2021_only['currency'][data_2021_only['country'] == country]).unique()[0]}\")\n",
    "print(f\"  Most Expensive -> Collection: {overall_stats['most_expensive']['collection']}, Reference: {overall_stats['most_expensive']['reference']}, Price: {overall_stats['most_expensive']['price']} {(data_2021_only['currency'][data_2021_only['country'] == country]).unique()[0]}\")"
   ]
  },
  {
   "cell_type": "markdown",
   "id": "0e3e679e",
   "metadata": {},
   "source": [
    "#### Identify the cheapest and most expensive product per collection"
   ]
  },
  {
   "cell_type": "code",
   "execution_count": 755,
   "id": "3186b99c",
   "metadata": {
    "scrolled": false
   },
   "outputs": [
    {
     "name": "stdout",
     "output_type": "stream",
     "text": [
      "Collection: RADIOMIR\n",
      "  Cheapest -> Reference: PAM00753, Price: 5700.0 USD\n",
      "  Most Expensive -> Reference: PAM00515, Price: 27200.0 USD\n",
      "\n",
      "--------------------------------------------------\n",
      "\n",
      "Collection: LUMINOR\n",
      "  Cheapest -> Reference: PAM00773, Price: 6400.0 USD\n",
      "  Most Expensive -> Reference: PAM00768, Price: 189000.0 USD\n",
      "\n",
      "--------------------------------------------------\n",
      "\n",
      "Collection: LUMINOR-DUE\n",
      "  Cheapest -> Reference: PAM00755, Price: 8000.0 USD\n",
      "  Most Expensive -> Reference: PAM00675, Price: 32100.0 USD\n",
      "\n",
      "--------------------------------------------------\n",
      "\n",
      "Collection: SUBMERSIBLE\n",
      "  Cheapest -> Reference: PAM00973, Price: 11300.0 USD\n",
      "  Most Expensive -> Reference: PAM01108, Price: 247700.0 USD\n",
      "\n",
      "--------------------------------------------------\n",
      "\n"
     ]
    }
   ],
   "source": [
    "for stat in collection_stats:\n",
    "    print(f\"Collection: {stat['collection']}\")\n",
    "    print(f\"  Cheapest -> Reference: {stat['cheapest']['reference']}, Price: {stat['cheapest']['price']} {(data_2021_only['currency'][data_2021_only['country'] == country]).unique()[0]}\")\n",
    "    print(f\"  Most Expensive -> Reference: {stat['most_expensive']['reference']}, Price: {stat['most_expensive']['price']} {(data_2021_only['currency'][data_2021_only['country'] == country]).unique()[0]}\")\n",
    "    print(\"\\n\"+\"-\"*50+\"\\n\")"
   ]
  },
  {
   "cell_type": "markdown",
   "id": "6c3f65e5",
   "metadata": {},
   "source": [
    "#### 3.2.1.3. UK"
   ]
  },
  {
   "cell_type": "code",
   "execution_count": 756,
   "id": "b4d073aa",
   "metadata": {
    "scrolled": true
   },
   "outputs": [],
   "source": [
    "country = \"UK\"\n",
    "\n",
    "data_2021_country = data_2021[data_2021['country'] == country]\n",
    "data_2025_country = data_2025[data_2025['country'] == country]\n",
    "data_2021_only_country = data_2021_only[data_2021_only['country'] == country]"
   ]
  },
  {
   "cell_type": "code",
   "execution_count": 757,
   "id": "d0d860eb",
   "metadata": {},
   "outputs": [
    {
     "name": "stdout",
     "output_type": "stream",
     "text": [
      "Overall Summary:\n",
      "\n",
      "Total Number of Products from 2021 No Longer Available: 7\n",
      "\n",
      "We have 4 collections, and LUMINOR is the leading one\n",
      "\n",
      "Catalog of Collections:\n",
      "1. RADIOMIR\n",
      "2. LUMINOR\n",
      "3. LUMINOR-DUE\n",
      "4. SUBMERSIBLE\n",
      "\n",
      "We have a total of 176 distinct products, with PAM00233 leading the selection from the LUMINOR collection\n"
     ]
    }
   ],
   "source": [
    "number_unique_collections, top_collection, _, top_reference, collection_list = describe_country(data_2021_only_country)\n",
    "\n",
    "print(\"Overall Summary:\\n\")\n",
    "print(f\"Total Number of Products from 2021 No Longer Available: {len(set(data_2021_country.reference.values)) - len(set(data_2025_country.reference.values))}\")\n",
    "\n",
    "if number_unique_collections == 1:\n",
    "    print(f\"\\nThere is a unique collection, named {top_collection}\")\n",
    "else:\n",
    "    print(f\"\\nWe have {number_unique_collections} collections, and {top_collection} is the leading one\")\n",
    "\n",
    "print(\"\\nCatalog of Collections:\")\n",
    "print(\"\\n\".join([f\"{i+1}. {collection}\" for i, collection in enumerate(collection_list)]))\n",
    "\n",
    "if number_unique_references == 1:\n",
    "    print(f\"\\nThere is a unique reference: {top_reference}\")\n",
    "else:\n",
    "    # Use the original data for lookup, not the summary!\n",
    "    collection_for_top_reference = data_2021_only[data_2021_only['reference'] == top_reference]['collection'].iloc[0]\n",
    "    print(f\"\\nWe have a total of {number_unique_references} distinct products, with {top_reference} leading the selection from the {collection_for_top_reference} collection\")\n"
   ]
  },
  {
   "cell_type": "code",
   "execution_count": 758,
   "id": "9b17e7e4",
   "metadata": {
    "scrolled": true
   },
   "outputs": [
    {
     "data": {
      "image/png": "[encoded data removed]",
      "text/plain": [
       "<Figure size 640x480 with 1 Axes>"
      ]
     },
     "metadata": {},
     "output_type": "display_data"
    }
   ],
   "source": [
    "collection_visualization(data_2021_only_country)"
   ]
  },
  {
   "cell_type": "code",
   "execution_count": 759,
   "id": "3ded5b55",
   "metadata": {},
   "outputs": [],
   "source": [
    "overall_stats, collection_stats = analyze_country(data_2021_only_country)"
   ]
  },
  {
   "cell_type": "markdown",
   "id": "e9af91a0",
   "metadata": {},
   "source": [
    "#### Identify the cheapest and most expensive product in the whole subset"
   ]
  },
  {
   "cell_type": "code",
   "execution_count": 760,
   "id": "c27d6c44",
   "metadata": {},
   "outputs": [
    {
     "name": "stdout",
     "output_type": "stream",
     "text": [
      "\n",
      "Cheapest and most expensive product in UK:\n",
      "  Cheapest -> Collection: RADIOMIR, Reference: PAM00753, Price: 3800.0 GBP\n",
      "  Most Expensive -> Collection: SUBMERSIBLE, Reference: PAM01108, Price: 169900.0 GBP\n"
     ]
    }
   ],
   "source": [
    "print(f\"\\nCheapest and most expensive product in {country}:\")\n",
    "print(f\"  Cheapest -> Collection: {overall_stats['cheapest']['collection']}, Reference: {overall_stats['cheapest']['reference']}, Price: {overall_stats['cheapest']['price']} {(data_2021_only['currency'][data_2021_only['country'] == country]).unique()[0]}\")\n",
    "print(f\"  Most Expensive -> Collection: {overall_stats['most_expensive']['collection']}, Reference: {overall_stats['most_expensive']['reference']}, Price: {overall_stats['most_expensive']['price']} {(data_2021_only['currency'][data_2021_only['country'] == country]).unique()[0]}\")"
   ]
  },
  {
   "cell_type": "markdown",
   "id": "3dbfa4c1",
   "metadata": {},
   "source": [
    "#### Identify the cheapest and most expensive product per collection"
   ]
  },
  {
   "cell_type": "code",
   "execution_count": 761,
   "id": "44b7704d",
   "metadata": {
    "scrolled": true
   },
   "outputs": [
    {
     "name": "stdout",
     "output_type": "stream",
     "text": [
      "Collection: RADIOMIR\n",
      "  Cheapest -> Reference: PAM00753, Price: 3800.0 GBP\n",
      "  Most Expensive -> Reference: PAM00997, Price: 11500.0 GBP\n",
      "\n",
      "--------------------------------------------------\n",
      "\n",
      "Collection: LUMINOR\n",
      "  Cheapest -> Reference: PAM00774, Price: 4300.0 GBP\n",
      "  Most Expensive -> Reference: PAM00768, Price: 130000.0 GBP\n",
      "\n",
      "--------------------------------------------------\n",
      "\n",
      "Collection: LUMINOR-DUE\n",
      "  Cheapest -> Reference: PAM00755, Price: 5500.0 GBP\n",
      "  Most Expensive -> Reference: PAM00675, Price: 22400.0 GBP\n",
      "\n",
      "--------------------------------------------------\n",
      "\n",
      "Collection: SUBMERSIBLE\n",
      "  Cheapest -> Reference: PAM00973, Price: 7600.0 GBP\n",
      "  Most Expensive -> Reference: PAM01108, Price: 169900.0 GBP\n",
      "\n",
      "--------------------------------------------------\n",
      "\n"
     ]
    }
   ],
   "source": [
    "for stat in collection_stats:\n",
    "    print(f\"Collection: {stat['collection']}\")\n",
    "    print(f\"  Cheapest -> Reference: {stat['cheapest']['reference']}, Price: {stat['cheapest']['price']} {(data_2021_only['currency'][data_2021_only['country'] == country]).unique()[0]}\")\n",
    "    print(f\"  Most Expensive -> Reference: {stat['most_expensive']['reference']}, Price: {stat['most_expensive']['price']} {(data_2021_only['currency'][data_2021_only['country'] == country]).unique()[0]}\")\n",
    "    print(\"\\n\"+\"-\"*50+\"\\n\")"
   ]
  },
  {
   "cell_type": "markdown",
   "id": "2920d55a",
   "metadata": {},
   "source": [
    "#### 3.2.1.4. Japan"
   ]
  },
  {
   "cell_type": "code",
   "execution_count": 762,
   "id": "435ea199",
   "metadata": {
    "scrolled": true
   },
   "outputs": [],
   "source": [
    "country = \"Japan\"\n",
    "\n",
    "data_2021_country = data_2021[data_2021['country'] == country]\n",
    "data_2025_country = data_2025[data_2025['country'] == country]\n",
    "data_2021_only_country = data_2021_only[data_2021_only['country'] == country]"
   ]
  },
  {
   "cell_type": "code",
   "execution_count": 763,
   "id": "4e76f8c2",
   "metadata": {},
   "outputs": [
    {
     "name": "stdout",
     "output_type": "stream",
     "text": [
      "Overall Summary:\n",
      "\n",
      "Total Number of Products from 2021 No Longer Available: 54\n",
      "\n",
      "We have 4 collections, and LUMINOR is the leading one\n",
      "\n",
      "Catalog of Collections:\n",
      "1. RADIOMIR\n",
      "2. LUMINOR\n",
      "3. LUMINOR-DUE\n",
      "4. SUBMERSIBLE\n",
      "\n",
      "We have a total of 176 distinct products, with PAM00233 leading the selection from the LUMINOR collection\n"
     ]
    }
   ],
   "source": [
    "number_unique_collections, top_collection, _, top_reference, collection_list = describe_country(data_2021_only_country)\n",
    "\n",
    "print(\"Overall Summary:\\n\")\n",
    "print(f\"Total Number of Products from 2021 No Longer Available: {len(set(data_2021_country.reference.values)) - len(set(data_2025_country.reference.values))}\")\n",
    "\n",
    "if number_unique_collections == 1:\n",
    "    print(f\"\\nThere is a unique collection, named {top_collection}\")\n",
    "else:\n",
    "    print(f\"\\nWe have {number_unique_collections} collections, and {top_collection} is the leading one\")\n",
    "\n",
    "print(\"\\nCatalog of Collections:\")\n",
    "print(\"\\n\".join([f\"{i+1}. {collection}\" for i, collection in enumerate(collection_list)]))\n",
    "\n",
    "if number_unique_references == 1:\n",
    "    print(f\"\\nThere is a unique reference: {top_reference}\")\n",
    "else:\n",
    "    # Use the original data for lookup, not the summary!\n",
    "    collection_for_top_reference = data_2021_only[data_2021_only['reference'] == top_reference]['collection'].iloc[0]\n",
    "    print(f\"\\nWe have a total of {number_unique_references} distinct products, with {top_reference} leading the selection from the {collection_for_top_reference} collection\")\n"
   ]
  },
  {
   "cell_type": "code",
   "execution_count": 764,
   "id": "9702e156",
   "metadata": {
    "scrolled": true
   },
   "outputs": [
    {
     "data": {
      "image/png": "[encoded data removed]",
      "text/plain": [
       "<Figure size 640x480 with 1 Axes>"
      ]
     },
     "metadata": {},
     "output_type": "display_data"
    }
   ],
   "source": [
    "collection_visualization(data_2021_only_country)"
   ]
  },
  {
   "cell_type": "code",
   "execution_count": 765,
   "id": "f64fe959",
   "metadata": {},
   "outputs": [],
   "source": [
    "overall_stats, collection_stats = analyze_country(data_2021_only_country)"
   ]
  },
  {
   "cell_type": "markdown",
   "id": "bca9c2ab",
   "metadata": {},
   "source": [
    "#### Identify the cheapest and most expensive product in the whole subset"
   ]
  },
  {
   "cell_type": "code",
   "execution_count": 766,
   "id": "6845b270",
   "metadata": {},
   "outputs": [
    {
     "name": "stdout",
     "output_type": "stream",
     "text": [
      "\n",
      "Cheapest and most expensive product in Japan:\n",
      "  Cheapest -> Collection: RADIOMIR, Reference: PAM00753, Price: 550000.0 JPY\n",
      "  Most Expensive -> Collection: LUMINOR, Reference: PAM00768, Price: 18029000.0 JPY\n"
     ]
    }
   ],
   "source": [
    "print(f\"\\nCheapest and most expensive product in {country}:\")\n",
    "print(f\"  Cheapest -> Collection: {overall_stats['cheapest']['collection']}, Reference: {overall_stats['cheapest']['reference']}, Price: {overall_stats['cheapest']['price']} {(data_2021_only['currency'][data_2021_only['country'] == country]).unique()[0]}\")\n",
    "print(f\"  Most Expensive -> Collection: {overall_stats['most_expensive']['collection']}, Reference: {overall_stats['most_expensive']['reference']}, Price: {overall_stats['most_expensive']['price']} {(data_2021_only['currency'][data_2021_only['country'] == country]).unique()[0]}\")"
   ]
  },
  {
   "cell_type": "markdown",
   "id": "8760e840",
   "metadata": {},
   "source": [
    "#### Identify the cheapest and most expensive product per collection"
   ]
  },
  {
   "cell_type": "code",
   "execution_count": 767,
   "id": "25b4e216",
   "metadata": {
    "scrolled": true
   },
   "outputs": [
    {
     "name": "stdout",
     "output_type": "stream",
     "text": [
      "Collection: RADIOMIR\n",
      "  Cheapest -> Reference: PAM00753, Price: 550000.0 JPY\n",
      "  Most Expensive -> Reference: PAM00515, Price: 2618000.0 JPY\n",
      "\n",
      "--------------------------------------------------\n",
      "\n",
      "Collection: LUMINOR\n",
      "  Cheapest -> Reference: PAM00773, Price: 616000.0 JPY\n",
      "  Most Expensive -> Reference: PAM00768, Price: 18029000.0 JPY\n",
      "\n",
      "--------------------------------------------------\n",
      "\n",
      "Collection: LUMINOR-DUE\n",
      "  Cheapest -> Reference: PAM00755, Price: 748000.0 JPY\n",
      "  Most Expensive -> Reference: PAM00675, Price: 3091000.0 JPY\n",
      "\n",
      "--------------------------------------------------\n",
      "\n",
      "Collection: SUBMERSIBLE\n",
      "  Cheapest -> Reference: PAM00973, Price: 1078000.0 JPY\n",
      "  Most Expensive -> Reference: PAM01225, Price: 7458000.0 JPY\n",
      "\n",
      "--------------------------------------------------\n",
      "\n"
     ]
    }
   ],
   "source": [
    "for stat in collection_stats:\n",
    "    print(f\"Collection: {stat['collection']}\")\n",
    "    print(f\"  Cheapest -> Reference: {stat['cheapest']['reference']}, Price: {stat['cheapest']['price']} {(data_2021_only['currency'][data_2021_only['country'] == country]).unique()[0]}\")\n",
    "    print(f\"  Most Expensive -> Reference: {stat['most_expensive']['reference']}, Price: {stat['most_expensive']['price']} {(data_2021_only['currency'][data_2021_only['country'] == country]).unique()[0]}\")\n",
    "    print(\"\\n\"+\"-\"*50+\"\\n\")"
   ]
  },
  {
   "cell_type": "code",
   "execution_count": null,
   "id": "ed5a94fd",
   "metadata": {},
   "outputs": [],
   "source": []
  },
  {
   "cell_type": "code",
   "execution_count": null,
   "id": "86db521c",
   "metadata": {},
   "outputs": [],
   "source": []
  },
  {
   "cell_type": "code",
   "execution_count": null,
   "id": "5fb59944",
   "metadata": {},
   "outputs": [],
   "source": []
  }
 ],
 "metadata": {
  "kernelspec": {
   "display_name": "Python 3 (ipykernel)",
   "language": "python",
   "name": "python3"
  },
  "language_info": {
   "codemirror_mode": {
    "name": "ipython",
    "version": 3
   },
   "file_extension": ".py",
   "mimetype": "text/x-python",
   "name": "python",
   "nbconvert_exporter": "python",
   "pygments_lexer": "ipython3",
   "version": "3.9.13"
  }
 },
 "nbformat": 4,
 "nbformat_minor": 5
}
