{
 "cells": [
  {
   "cell_type": "markdown",
   "id": "e526040b",
   "metadata": {},
   "source": [
    "## 1. Import librariries"
   ]
  },
  {
   "cell_type": "code",
   "execution_count": 2,
   "id": "a5bba7aa",
   "metadata": {
    "scrolled": true
   },
   "outputs": [],
   "source": [
    "import pandas as pd\n",
    "import numpy as np\n",
    "import seaborn as sns\n",
    "import matplotlib.pyplot as plt"
   ]
  },
  {
   "cell_type": "markdown",
   "id": "7a0fb8e5",
   "metadata": {},
   "source": [
    "## 2. Load & Read the Data"
   ]
  },
  {
   "cell_type": "code",
   "execution_count": 3,
   "id": "d09a9432",
   "metadata": {
    "scrolled": false
   },
   "outputs": [
    {
     "ename": "FileNotFoundError",
     "evalue": "[Errno 2] No such file or directory: 'PANERAI_DATA_122021.xlsx'",
     "output_type": "error",
     "traceback": [
      "\u001b[1;31m---------------------------------------------------------------------------\u001b[0m",
      "\u001b[1;31mFileNotFoundError\u001b[0m                         Traceback (most recent call last)",
      "\u001b[1;32m~\\AppData\\Local\\Temp\\ipykernel_20512\\1792391397.py\u001b[0m in \u001b[0;36m<module>\u001b[1;34m\u001b[0m\n\u001b[1;32m----> 1\u001b[1;33m \u001b[0mdata\u001b[0m \u001b[1;33m=\u001b[0m \u001b[0mpd\u001b[0m\u001b[1;33m.\u001b[0m\u001b[0mread_excel\u001b[0m\u001b[1;33m(\u001b[0m\u001b[1;34m\"PANERAI_DATA_122021.xlsx\"\u001b[0m\u001b[1;33m)\u001b[0m\u001b[1;33m\u001b[0m\u001b[1;33m\u001b[0m\u001b[0m\n\u001b[0m\u001b[0;32m      2\u001b[0m \u001b[0mdata\u001b[0m\u001b[1;33m.\u001b[0m\u001b[0mhead\u001b[0m\u001b[1;33m(\u001b[0m\u001b[1;33m)\u001b[0m\u001b[1;33m\u001b[0m\u001b[1;33m\u001b[0m\u001b[0m\n",
      "\u001b[1;32m~\\anaconda3\\lib\\site-packages\\pandas\\util\\_decorators.py\u001b[0m in \u001b[0;36mwrapper\u001b[1;34m(*args, **kwargs)\u001b[0m\n\u001b[0;32m    309\u001b[0m                     \u001b[0mstacklevel\u001b[0m\u001b[1;33m=\u001b[0m\u001b[0mstacklevel\u001b[0m\u001b[1;33m,\u001b[0m\u001b[1;33m\u001b[0m\u001b[1;33m\u001b[0m\u001b[0m\n\u001b[0;32m    310\u001b[0m                 )\n\u001b[1;32m--> 311\u001b[1;33m             \u001b[1;32mreturn\u001b[0m \u001b[0mfunc\u001b[0m\u001b[1;33m(\u001b[0m\u001b[1;33m*\u001b[0m\u001b[0margs\u001b[0m\u001b[1;33m,\u001b[0m \u001b[1;33m**\u001b[0m\u001b[0mkwargs\u001b[0m\u001b[1;33m)\u001b[0m\u001b[1;33m\u001b[0m\u001b[1;33m\u001b[0m\u001b[0m\n\u001b[0m\u001b[0;32m    312\u001b[0m \u001b[1;33m\u001b[0m\u001b[0m\n\u001b[0;32m    313\u001b[0m         \u001b[1;32mreturn\u001b[0m \u001b[0mwrapper\u001b[0m\u001b[1;33m\u001b[0m\u001b[1;33m\u001b[0m\u001b[0m\n",
      "\u001b[1;32m~\\anaconda3\\lib\\site-packages\\pandas\\io\\excel\\_base.py\u001b[0m in \u001b[0;36mread_excel\u001b[1;34m(io, sheet_name, header, names, index_col, usecols, squeeze, dtype, engine, converters, true_values, false_values, skiprows, nrows, na_values, keep_default_na, na_filter, verbose, parse_dates, date_parser, thousands, decimal, comment, skipfooter, convert_float, mangle_dupe_cols, storage_options)\u001b[0m\n\u001b[0;32m    455\u001b[0m     \u001b[1;32mif\u001b[0m \u001b[1;32mnot\u001b[0m \u001b[0misinstance\u001b[0m\u001b[1;33m(\u001b[0m\u001b[0mio\u001b[0m\u001b[1;33m,\u001b[0m \u001b[0mExcelFile\u001b[0m\u001b[1;33m)\u001b[0m\u001b[1;33m:\u001b[0m\u001b[1;33m\u001b[0m\u001b[1;33m\u001b[0m\u001b[0m\n\u001b[0;32m    456\u001b[0m         \u001b[0mshould_close\u001b[0m \u001b[1;33m=\u001b[0m \u001b[1;32mTrue\u001b[0m\u001b[1;33m\u001b[0m\u001b[1;33m\u001b[0m\u001b[0m\n\u001b[1;32m--> 457\u001b[1;33m         \u001b[0mio\u001b[0m \u001b[1;33m=\u001b[0m \u001b[0mExcelFile\u001b[0m\u001b[1;33m(\u001b[0m\u001b[0mio\u001b[0m\u001b[1;33m,\u001b[0m \u001b[0mstorage_options\u001b[0m\u001b[1;33m=\u001b[0m\u001b[0mstorage_options\u001b[0m\u001b[1;33m,\u001b[0m \u001b[0mengine\u001b[0m\u001b[1;33m=\u001b[0m\u001b[0mengine\u001b[0m\u001b[1;33m)\u001b[0m\u001b[1;33m\u001b[0m\u001b[1;33m\u001b[0m\u001b[0m\n\u001b[0m\u001b[0;32m    458\u001b[0m     \u001b[1;32melif\u001b[0m \u001b[0mengine\u001b[0m \u001b[1;32mand\u001b[0m \u001b[0mengine\u001b[0m \u001b[1;33m!=\u001b[0m \u001b[0mio\u001b[0m\u001b[1;33m.\u001b[0m\u001b[0mengine\u001b[0m\u001b[1;33m:\u001b[0m\u001b[1;33m\u001b[0m\u001b[1;33m\u001b[0m\u001b[0m\n\u001b[0;32m    459\u001b[0m         raise ValueError(\n",
      "\u001b[1;32m~\\anaconda3\\lib\\site-packages\\pandas\\io\\excel\\_base.py\u001b[0m in \u001b[0;36m__init__\u001b[1;34m(self, path_or_buffer, engine, storage_options)\u001b[0m\n\u001b[0;32m   1374\u001b[0m                 \u001b[0mext\u001b[0m \u001b[1;33m=\u001b[0m \u001b[1;34m\"xls\"\u001b[0m\u001b[1;33m\u001b[0m\u001b[1;33m\u001b[0m\u001b[0m\n\u001b[0;32m   1375\u001b[0m             \u001b[1;32melse\u001b[0m\u001b[1;33m:\u001b[0m\u001b[1;33m\u001b[0m\u001b[1;33m\u001b[0m\u001b[0m\n\u001b[1;32m-> 1376\u001b[1;33m                 ext = inspect_excel_format(\n\u001b[0m\u001b[0;32m   1377\u001b[0m                     \u001b[0mcontent_or_path\u001b[0m\u001b[1;33m=\u001b[0m\u001b[0mpath_or_buffer\u001b[0m\u001b[1;33m,\u001b[0m \u001b[0mstorage_options\u001b[0m\u001b[1;33m=\u001b[0m\u001b[0mstorage_options\u001b[0m\u001b[1;33m\u001b[0m\u001b[1;33m\u001b[0m\u001b[0m\n\u001b[0;32m   1378\u001b[0m                 )\n",
      "\u001b[1;32m~\\anaconda3\\lib\\site-packages\\pandas\\io\\excel\\_base.py\u001b[0m in \u001b[0;36minspect_excel_format\u001b[1;34m(content_or_path, storage_options)\u001b[0m\n\u001b[0;32m   1248\u001b[0m         \u001b[0mcontent_or_path\u001b[0m \u001b[1;33m=\u001b[0m \u001b[0mBytesIO\u001b[0m\u001b[1;33m(\u001b[0m\u001b[0mcontent_or_path\u001b[0m\u001b[1;33m)\u001b[0m\u001b[1;33m\u001b[0m\u001b[1;33m\u001b[0m\u001b[0m\n\u001b[0;32m   1249\u001b[0m \u001b[1;33m\u001b[0m\u001b[0m\n\u001b[1;32m-> 1250\u001b[1;33m     with get_handle(\n\u001b[0m\u001b[0;32m   1251\u001b[0m         \u001b[0mcontent_or_path\u001b[0m\u001b[1;33m,\u001b[0m \u001b[1;34m\"rb\"\u001b[0m\u001b[1;33m,\u001b[0m \u001b[0mstorage_options\u001b[0m\u001b[1;33m=\u001b[0m\u001b[0mstorage_options\u001b[0m\u001b[1;33m,\u001b[0m \u001b[0mis_text\u001b[0m\u001b[1;33m=\u001b[0m\u001b[1;32mFalse\u001b[0m\u001b[1;33m\u001b[0m\u001b[1;33m\u001b[0m\u001b[0m\n\u001b[0;32m   1252\u001b[0m     ) as handle:\n",
      "\u001b[1;32m~\\anaconda3\\lib\\site-packages\\pandas\\io\\common.py\u001b[0m in \u001b[0;36mget_handle\u001b[1;34m(path_or_buf, mode, encoding, compression, memory_map, is_text, errors, storage_options)\u001b[0m\n\u001b[0;32m    793\u001b[0m         \u001b[1;32melse\u001b[0m\u001b[1;33m:\u001b[0m\u001b[1;33m\u001b[0m\u001b[1;33m\u001b[0m\u001b[0m\n\u001b[0;32m    794\u001b[0m             \u001b[1;31m# Binary mode\u001b[0m\u001b[1;33m\u001b[0m\u001b[1;33m\u001b[0m\u001b[0m\n\u001b[1;32m--> 795\u001b[1;33m             \u001b[0mhandle\u001b[0m \u001b[1;33m=\u001b[0m \u001b[0mopen\u001b[0m\u001b[1;33m(\u001b[0m\u001b[0mhandle\u001b[0m\u001b[1;33m,\u001b[0m \u001b[0mioargs\u001b[0m\u001b[1;33m.\u001b[0m\u001b[0mmode\u001b[0m\u001b[1;33m)\u001b[0m\u001b[1;33m\u001b[0m\u001b[1;33m\u001b[0m\u001b[0m\n\u001b[0m\u001b[0;32m    796\u001b[0m         \u001b[0mhandles\u001b[0m\u001b[1;33m.\u001b[0m\u001b[0mappend\u001b[0m\u001b[1;33m(\u001b[0m\u001b[0mhandle\u001b[0m\u001b[1;33m)\u001b[0m\u001b[1;33m\u001b[0m\u001b[1;33m\u001b[0m\u001b[0m\n\u001b[0;32m    797\u001b[0m \u001b[1;33m\u001b[0m\u001b[0m\n",
      "\u001b[1;31mFileNotFoundError\u001b[0m: [Errno 2] No such file or directory: 'PANERAI_DATA_122021.xlsx'"
     ]
    }
   ],
   "source": [
    "data = pd.read_excel(\"PANERAI_DATA_122021.xlsx\")\n",
    "data.head()"
   ]
  },
  {
   "cell_type": "markdown",
   "id": "c0d8f919",
   "metadata": {},
   "source": [
    "## 3. Exploratory Data Analysis (EDA)"
   ]
  },
  {
   "cell_type": "markdown",
   "id": "deee7cf7",
   "metadata": {},
   "source": [
    "#### 3.1. Columns list"
   ]
  },
  {
   "cell_type": "code",
   "execution_count": 3,
   "id": "8f26cf29",
   "metadata": {
    "scrolled": false
   },
   "outputs": [
    {
     "name": "stdout",
     "output_type": "stream",
     "text": [
      "List of column name:\n",
      "\n",
      "\t1. brand\n",
      "\t2. url\n",
      "\t3. image_url\n",
      "\t4. collection\n",
      "\t5. reference\n",
      "\t6. price\n",
      "\t7. currency\n",
      "\t8. country\n",
      "\t9. time scope\n"
     ]
    }
   ],
   "source": [
    "column_list = list(data.columns)\n",
    "\n",
    "print(\"List of column name:\\n\")\n",
    "for i in range(len(column_list)):\n",
    "    print(f\"\\t{i+1}. {column_list[i]}\")"
   ]
  },
  {
   "cell_type": "markdown",
   "id": "01f86bbe",
   "metadata": {},
   "source": [
    "#### 3.2. Data types discovery"
   ]
  },
  {
   "cell_type": "code",
   "execution_count": 4,
   "id": "cba64c1b",
   "metadata": {},
   "outputs": [
    {
     "name": "stdout",
     "output_type": "stream",
     "text": [
      "<class 'pandas.core.frame.DataFrame'>\n",
      "RangeIndex: 693 entries, 0 to 692\n",
      "Data columns (total 9 columns):\n",
      " #   Column      Non-Null Count  Dtype  \n",
      "---  ------      --------------  -----  \n",
      " 0   brand       693 non-null    object \n",
      " 1   url         693 non-null    object \n",
      " 2   image_url   690 non-null    object \n",
      " 3   collection  693 non-null    object \n",
      " 4   reference   693 non-null    object \n",
      " 5   price       687 non-null    float64\n",
      " 6   currency    693 non-null    object \n",
      " 7   country     693 non-null    object \n",
      " 8   time scope  693 non-null    object \n",
      "dtypes: float64(1), object(8)\n",
      "memory usage: 48.9+ KB\n"
     ]
    }
   ],
   "source": [
    "data.info()"
   ]
  },
  {
   "cell_type": "markdown",
   "id": "559ff34c",
   "metadata": {},
   "source": [
    "--------------------------------------------------------------------------------------\n",
    "\n",
    "**The dataset we used in the following use case contains**:\n",
    "\n",
    "    1. 693 row of data\n",
    "    \n",
    "    2. 8 categoircal columns\n",
    "    \n",
    "    3. 1 numerical column\n",
    "--------------------------------------------------------------------------------------"
   ]
  },
  {
   "cell_type": "markdown",
   "id": "82882793",
   "metadata": {},
   "source": [
    "#### 3.2. Check Missing Values"
   ]
  },
  {
   "cell_type": "code",
   "execution_count": 5,
   "id": "453824c6",
   "metadata": {},
   "outputs": [
    {
     "data": {
      "text/plain": [
       "brand         0\n",
       "url           0\n",
       "image_url     3\n",
       "collection    0\n",
       "reference     0\n",
       "price         6\n",
       "currency      0\n",
       "country       0\n",
       "time scope    0\n",
       "dtype: int64"
      ]
     },
     "execution_count": 5,
     "metadata": {},
     "output_type": "execute_result"
    }
   ],
   "source": [
    "data.isna().sum()"
   ]
  },
  {
   "cell_type": "markdown",
   "id": "1efa1549",
   "metadata": {},
   "source": [
    "--------------------------------------------------------------------------------------\n",
    "\n",
    "**The dataset contains some missing values**:\n",
    "\n",
    "    - 3 in **image_url** column\n",
    "    \n",
    "    - 6 in **price** column\n",
    "--------------------------------------------------------------------------------------"
   ]
  },
  {
   "cell_type": "markdown",
   "id": "877e4af4",
   "metadata": {},
   "source": [
    "#### 3.3. Handling missing values"
   ]
  },
  {
   "cell_type": "code",
   "execution_count": 6,
   "id": "171b5d8d",
   "metadata": {},
   "outputs": [],
   "source": [
    "data.dropna(subset=['reference', 'price'], inplace=True)"
   ]
  },
  {
   "cell_type": "code",
   "execution_count": 7,
   "id": "4eb06228",
   "metadata": {},
   "outputs": [
    {
     "data": {
      "text/plain": [
       "brand         0\n",
       "url           0\n",
       "image_url     3\n",
       "collection    0\n",
       "reference     0\n",
       "price         0\n",
       "currency      0\n",
       "country       0\n",
       "time scope    0\n",
       "dtype: int64"
      ]
     },
     "execution_count": 7,
     "metadata": {},
     "output_type": "execute_result"
    }
   ],
   "source": [
    "data.isna().sum()"
   ]
  },
  {
   "cell_type": "markdown",
   "id": "0fca05c3",
   "metadata": {},
   "source": [
    "--------------------------------------------------------------------------------------\n",
    "\n",
    "**Now, the dataset is clean, no more missing values**\n",
    "\n",
    "    ** -> We are ready to GO **\n",
    "\n",
    "--------------------------------------------------------------------------------------"
   ]
  },
  {
   "cell_type": "markdown",
   "id": "d2475242",
   "metadata": {},
   "source": [
    "#### 3.4. Check for duplicates"
   ]
  },
  {
   "cell_type": "code",
   "execution_count": 8,
   "id": "20296329",
   "metadata": {},
   "outputs": [
    {
     "name": "stdout",
     "output_type": "stream",
     "text": [
      "\n",
      "Number of duplicate rows: 0\n"
     ]
    }
   ],
   "source": [
    "duplicates = data.duplicated().sum()\n",
    "print(f\"\\nNumber of duplicate rows: {duplicates}\")"
   ]
  },
  {
   "cell_type": "markdown",
   "id": "496e562d",
   "metadata": {},
   "source": [
    "#### 3.5. Summary statistics"
   ]
  },
  {
   "cell_type": "code",
   "execution_count": 9,
   "id": "99e7a0f2",
   "metadata": {
    "scrolled": true
   },
   "outputs": [
    {
     "data": {
      "text/html": [
       "<div>\n",
       "<style scoped>\n",
       "    .dataframe tbody tr th:only-of-type {\n",
       "        vertical-align: middle;\n",
       "    }\n",
       "\n",
       "    .dataframe tbody tr th {\n",
       "        vertical-align: top;\n",
       "    }\n",
       "\n",
       "    .dataframe thead th {\n",
       "        text-align: right;\n",
       "    }\n",
       "</style>\n",
       "<table border=\"1\" class=\"dataframe\">\n",
       "  <thead>\n",
       "    <tr style=\"text-align: right;\">\n",
       "      <th></th>\n",
       "      <th>brand</th>\n",
       "      <th>url</th>\n",
       "      <th>image_url</th>\n",
       "      <th>collection</th>\n",
       "      <th>reference</th>\n",
       "      <th>currency</th>\n",
       "      <th>country</th>\n",
       "      <th>time scope</th>\n",
       "    </tr>\n",
       "  </thead>\n",
       "  <tbody>\n",
       "    <tr>\n",
       "      <th>count</th>\n",
       "      <td>687</td>\n",
       "      <td>687</td>\n",
       "      <td>684</td>\n",
       "      <td>687</td>\n",
       "      <td>687</td>\n",
       "      <td>687</td>\n",
       "      <td>687</td>\n",
       "      <td>687</td>\n",
       "    </tr>\n",
       "    <tr>\n",
       "      <th>unique</th>\n",
       "      <td>1</td>\n",
       "      <td>687</td>\n",
       "      <td>206</td>\n",
       "      <td>4</td>\n",
       "      <td>207</td>\n",
       "      <td>4</td>\n",
       "      <td>4</td>\n",
       "      <td>1</td>\n",
       "    </tr>\n",
       "    <tr>\n",
       "      <th>top</th>\n",
       "      <td>Panerai</td>\n",
       "      <td>https://www.panerai.com/fr/fr/collections/watc...</td>\n",
       "      <td>https://www.panerai.com/content/dam/rcq/pan/10...</td>\n",
       "      <td>LUMINOR</td>\n",
       "      <td>PAM00655</td>\n",
       "      <td>JPY</td>\n",
       "      <td>Japan</td>\n",
       "      <td>December 2021</td>\n",
       "    </tr>\n",
       "    <tr>\n",
       "      <th>freq</th>\n",
       "      <td>687</td>\n",
       "      <td>1</td>\n",
       "      <td>4</td>\n",
       "      <td>368</td>\n",
       "      <td>4</td>\n",
       "      <td>201</td>\n",
       "      <td>201</td>\n",
       "      <td>687</td>\n",
       "    </tr>\n",
       "  </tbody>\n",
       "</table>\n",
       "</div>"
      ],
      "text/plain": [
       "          brand                                                url  \\\n",
       "count       687                                                687   \n",
       "unique        1                                                687   \n",
       "top     Panerai  https://www.panerai.com/fr/fr/collections/watc...   \n",
       "freq        687                                                  1   \n",
       "\n",
       "                                                image_url collection  \\\n",
       "count                                                 684        687   \n",
       "unique                                                206          4   \n",
       "top     https://www.panerai.com/content/dam/rcq/pan/10...    LUMINOR   \n",
       "freq                                                    4        368   \n",
       "\n",
       "       reference currency country     time scope  \n",
       "count        687      687     687            687  \n",
       "unique       207        4       4              1  \n",
       "top     PAM00655      JPY   Japan  December 2021  \n",
       "freq           4      201     201            687  "
      ]
     },
     "execution_count": 9,
     "metadata": {},
     "output_type": "execute_result"
    }
   ],
   "source": [
    "stats = data.describe(include=\"object\")\n",
    "stats"
   ]
  },
  {
   "cell_type": "code",
   "execution_count": 10,
   "id": "fdc08f98",
   "metadata": {},
   "outputs": [
    {
     "name": "stdout",
     "output_type": "stream",
     "text": [
      "Number of rows : 687\n"
     ]
    }
   ],
   "source": [
    "# Number of rows\n",
    "number_rows = stats[\"brand\"].unique()[0]\n",
    "print(f\"Number of rows : {number_rows}\")"
   ]
  },
  {
   "cell_type": "code",
   "execution_count": 11,
   "id": "08a15ac2",
   "metadata": {},
   "outputs": [
    {
     "name": "stdout",
     "output_type": "stream",
     "text": [
      "There is a unique brand, named Panerai\n"
     ]
    }
   ],
   "source": [
    "# Brand\n",
    "number_unique_brands, top_brand = stats[\"brand\"].unique()[1], stats[\"brand\"].unique()[2]\n",
    "if number_unique_brands == 1:\n",
    "    print(f\"There is a unique brand, named {top_brand}\")\n",
    "else:\n",
    "    print(f\"There is {number_unique_brands} brands, and {top_brand} is the leading one\")"
   ]
  },
  {
   "cell_type": "code",
   "execution_count": 12,
   "id": "33e5bc5d",
   "metadata": {},
   "outputs": [
    {
     "name": "stdout",
     "output_type": "stream",
     "text": [
      "We have 4 collections, and LUMINOR is the leading one\n"
     ]
    }
   ],
   "source": [
    "# Collections\n",
    "number_unique_collections, top_collection = stats[\"collection\"].unique()[1], stats[\"collection\"].unique()[2]\n",
    "if number_unique_collections == 1:\n",
    "    print(f\"There is a unique collection, named {top_collection}\")\n",
    "else:\n",
    "    print(f\"We have {number_unique_collections} collections, and {top_collection} is the leading one\")"
   ]
  },
  {
   "cell_type": "code",
   "execution_count": 13,
   "id": "08f21f3c",
   "metadata": {},
   "outputs": [
    {
     "name": "stdout",
     "output_type": "stream",
     "text": [
      "Catalog of Collections:\n",
      "\n",
      "\t1. RADIOMIR\n",
      "\t2. LUMINOR\n",
      "\t3. SUBMERSIBLE\n",
      "\t4. LUMINOR-DUE\n"
     ]
    }
   ],
   "source": [
    "collection_list = data[\"collection\"].unique()\n",
    "\n",
    "print(\"Catalog of Collections:\\n\")\n",
    "for i in range(len(collection_list)):\n",
    "    print(f\"\\t{i+1}. {collection_list[i]}\")"
   ]
  },
  {
   "cell_type": "code",
   "execution_count": 14,
   "id": "cb466191",
   "metadata": {
    "scrolled": true
   },
   "outputs": [
    {
     "name": "stdout",
     "output_type": "stream",
     "text": [
      "We have a Total of 207 distinct products, with PAM00655 leading the selection\n"
     ]
    }
   ],
   "source": [
    "# Reference\n",
    "number_unique_references, top_reference = stats[\"reference\"].unique()[1], stats[\"reference\"].unique()[2]\n",
    "if number_unique_references == 1:\n",
    "    print(f\"The is a unique reference: {top_reference}\")\n",
    "else:\n",
    "    print(f\"We have a Total of {number_unique_references} distinct products, with {top_reference} leading the selection\")"
   ]
  },
  {
   "cell_type": "code",
   "execution_count": 15,
   "id": "dd9667f9",
   "metadata": {
    "scrolled": true
   },
   "outputs": [
    {
     "name": "stdout",
     "output_type": "stream",
     "text": [
      "Our study is applied to 4 countries, with Japan being the top one\n"
     ]
    }
   ],
   "source": [
    "# Countries\n",
    "number_unique_countries, top_country = stats[\"country\"].unique()[1], stats[\"country\"].unique()[2]\n",
    "if number_unique_countries == 1:\n",
    "    print(f\"Our study is applied to a unique country, {top_country}\")\n",
    "else:\n",
    "    print(f\"Our study is applied to {number_unique_countries} countries, with {top_country} being the top one\")"
   ]
  },
  {
   "cell_type": "code",
   "execution_count": 16,
   "id": "860b5977",
   "metadata": {},
   "outputs": [
    {
     "name": "stdout",
     "output_type": "stream",
     "text": [
      "Countries Included in the Study:\n",
      "\n",
      "\t1. France\n",
      "\t2. UK\n",
      "\t3. Japan\n",
      "\t4. USA\n"
     ]
    }
   ],
   "source": [
    "countries_list = data[\"country\"].unique()\n",
    "\n",
    "print(\"Countries Included in the Study:\\n\")\n",
    "for i in range(len(countries_list)):\n",
    "    print(f\"\\t{i+1}. {countries_list[i]}\")"
   ]
  },
  {
   "cell_type": "markdown",
   "id": "d601c437",
   "metadata": {},
   "source": [
    "## 4. Data preprocessing"
   ]
  },
  {
   "cell_type": "markdown",
   "id": "fa99daaf",
   "metadata": {},
   "source": [
    "#### 4.1. Splitting \"time scope\" into \"month\" and \"year\" "
   ]
  },
  {
   "cell_type": "code",
   "execution_count": 17,
   "id": "b76b3af6",
   "metadata": {},
   "outputs": [
    {
     "name": "stdout",
     "output_type": "stream",
     "text": [
      "<class 'pandas.core.frame.DataFrame'>\n",
      "Int64Index: 687 entries, 0 to 692\n",
      "Data columns (total 10 columns):\n",
      " #   Column      Non-Null Count  Dtype  \n",
      "---  ------      --------------  -----  \n",
      " 0   brand       687 non-null    object \n",
      " 1   url         687 non-null    object \n",
      " 2   image_url   684 non-null    object \n",
      " 3   collection  687 non-null    object \n",
      " 4   reference   687 non-null    object \n",
      " 5   price       687 non-null    float64\n",
      " 6   currency    687 non-null    object \n",
      " 7   country     687 non-null    object \n",
      " 8   month       687 non-null    object \n",
      " 9   year        687 non-null    int64  \n",
      "dtypes: float64(1), int64(1), object(8)\n",
      "memory usage: 59.0+ KB\n"
     ]
    }
   ],
   "source": [
    "data[[\"month\", \"year\"]] = data[\"time scope\"].str.split(' ', expand=True)\n",
    "data[\"year\"] = pd.to_numeric(data['year'], errors='coerce')\n",
    "data.drop(\"time scope\", axis=1, inplace=True)\n",
    "data.info()"
   ]
  },
  {
   "cell_type": "markdown",
   "id": "0881bd45",
   "metadata": {},
   "source": [
    "#### 4.2. Create Country-Based Dataset Splits for Analysis"
   ]
  },
  {
   "cell_type": "code",
   "execution_count": 49,
   "id": "34a42452",
   "metadata": {},
   "outputs": [],
   "source": [
    "def collection_visualization(data, country): \n",
    "    # Choose a color palette\n",
    "    palette = sns.color_palette(\"pastel\")  # You can choose different palettes like \"deep\", \"pastel\", etc.\n",
    "\n",
    "    # Create the count plot\n",
    "    ax = sns.countplot(x=\"collection\", data=data, palette=palette)\n",
    "\n",
    "    # Add the count value on top of each bar\n",
    "    for p in ax.patches:\n",
    "        ax.annotate(f'{p.get_height()}', \n",
    "                    (p.get_x() + p.get_width() / 2., p.get_y() + p.get_height() / 2.), \n",
    "                    ha='center', va='center', \n",
    "                    fontsize=10, color='black', \n",
    "                    xytext=(0, 5), textcoords='offset points')\n",
    "\n",
    "    # Rotate x-axis labels for better readability\n",
    "    plt.xticks(rotation=45)\n",
    "\n",
    "    # Labels and title\n",
    "    plt.xlabel(\"Collection\")\n",
    "    plt.ylabel(\"Number of Watches\")\n",
    "    plt.title(f\"Number of Watches of Each Collection in {country}\")\n",
    "\n",
    "    # Show the plot\n",
    "    return plt.show()"
   ]
  },
  {
   "cell_type": "markdown",
   "id": "7eaf7239",
   "metadata": {},
   "source": [
    "#### 4.2.1. France"
   ]
  },
  {
   "cell_type": "code",
   "execution_count": 19,
   "id": "4f540215",
   "metadata": {},
   "outputs": [],
   "source": [
    "data_France = data[data[\"country\"] == \"France\"]"
   ]
  },
  {
   "cell_type": "code",
   "execution_count": 21,
   "id": "ee6b7f4a",
   "metadata": {
    "scrolled": true
   },
   "outputs": [
    {
     "data": {
      "text/html": [
       "<div>\n",
       "<style scoped>\n",
       "    .dataframe tbody tr th:only-of-type {\n",
       "        vertical-align: middle;\n",
       "    }\n",
       "\n",
       "    .dataframe tbody tr th {\n",
       "        vertical-align: top;\n",
       "    }\n",
       "\n",
       "    .dataframe thead th {\n",
       "        text-align: right;\n",
       "    }\n",
       "</style>\n",
       "<table border=\"1\" class=\"dataframe\">\n",
       "  <thead>\n",
       "    <tr style=\"text-align: right;\">\n",
       "      <th></th>\n",
       "      <th>brand</th>\n",
       "      <th>url</th>\n",
       "      <th>image_url</th>\n",
       "      <th>collection</th>\n",
       "      <th>reference</th>\n",
       "      <th>currency</th>\n",
       "      <th>country</th>\n",
       "      <th>month</th>\n",
       "    </tr>\n",
       "  </thead>\n",
       "  <tbody>\n",
       "    <tr>\n",
       "      <th>count</th>\n",
       "      <td>153</td>\n",
       "      <td>153</td>\n",
       "      <td>150</td>\n",
       "      <td>153</td>\n",
       "      <td>153</td>\n",
       "      <td>153</td>\n",
       "      <td>153</td>\n",
       "      <td>153</td>\n",
       "    </tr>\n",
       "    <tr>\n",
       "      <th>unique</th>\n",
       "      <td>1</td>\n",
       "      <td>153</td>\n",
       "      <td>150</td>\n",
       "      <td>4</td>\n",
       "      <td>153</td>\n",
       "      <td>1</td>\n",
       "      <td>1</td>\n",
       "      <td>1</td>\n",
       "    </tr>\n",
       "    <tr>\n",
       "      <th>top</th>\n",
       "      <td>Panerai</td>\n",
       "      <td>https://www.panerai.com/fr/fr/collections/watc...</td>\n",
       "      <td>https://www.panerai.com/content/dam/rcq/pan/10...</td>\n",
       "      <td>LUMINOR</td>\n",
       "      <td>PAM00655</td>\n",
       "      <td>EUR</td>\n",
       "      <td>France</td>\n",
       "      <td>December</td>\n",
       "    </tr>\n",
       "    <tr>\n",
       "      <th>freq</th>\n",
       "      <td>153</td>\n",
       "      <td>1</td>\n",
       "      <td>1</td>\n",
       "      <td>82</td>\n",
       "      <td>1</td>\n",
       "      <td>153</td>\n",
       "      <td>153</td>\n",
       "      <td>153</td>\n",
       "    </tr>\n",
       "  </tbody>\n",
       "</table>\n",
       "</div>"
      ],
      "text/plain": [
       "          brand                                                url  \\\n",
       "count       153                                                153   \n",
       "unique        1                                                153   \n",
       "top     Panerai  https://www.panerai.com/fr/fr/collections/watc...   \n",
       "freq        153                                                  1   \n",
       "\n",
       "                                                image_url collection  \\\n",
       "count                                                 150        153   \n",
       "unique                                                150          4   \n",
       "top     https://www.panerai.com/content/dam/rcq/pan/10...    LUMINOR   \n",
       "freq                                                    1         82   \n",
       "\n",
       "       reference currency country     month  \n",
       "count        153      153     153       153  \n",
       "unique       153        1       1         1  \n",
       "top     PAM00655      EUR  France  December  \n",
       "freq           1      153     153       153  "
      ]
     },
     "execution_count": 21,
     "metadata": {},
     "output_type": "execute_result"
    }
   ],
   "source": [
    "data_France_stats = data_France.describe(include=\"object\")\n",
    "data_France_stats"
   ]
  },
  {
   "cell_type": "code",
   "execution_count": 22,
   "id": "4efc14a7",
   "metadata": {},
   "outputs": [
    {
     "name": "stdout",
     "output_type": "stream",
     "text": [
      "Number of rows : 153\n"
     ]
    }
   ],
   "source": [
    "# Number of rows\n",
    "number_rows = data_France_stats[\"brand\"].unique()[0]\n",
    "print(f\"Number of rows : {number_rows}\")"
   ]
  },
  {
   "cell_type": "code",
   "execution_count": 23,
   "id": "59873c22",
   "metadata": {
    "scrolled": true
   },
   "outputs": [
    {
     "name": "stdout",
     "output_type": "stream",
     "text": [
      "We have 4 collections, and LUMINOR is the leading one\n"
     ]
    }
   ],
   "source": [
    "# Collections\n",
    "number_unique_collections, top_collection = data_France_stats[\"collection\"].unique()[1], data_France_stats[\"collection\"].unique()[2]\n",
    "if number_unique_collections == 1:\n",
    "    print(f\"There is a unique collection, named {top_collection}\")\n",
    "else:\n",
    "    print(f\"We have {number_unique_collections} collections, and {top_collection} is the leading one\")"
   ]
  },
  {
   "cell_type": "code",
   "execution_count": 24,
   "id": "24a3d7f2",
   "metadata": {},
   "outputs": [
    {
     "name": "stdout",
     "output_type": "stream",
     "text": [
      "Catalog of Collections:\n",
      "\n",
      "\t1. RADIOMIR\n",
      "\t2. LUMINOR\n",
      "\t3. SUBMERSIBLE\n",
      "\t4. LUMINOR-DUE\n"
     ]
    }
   ],
   "source": [
    "collection_list = data_France[\"collection\"].unique()\n",
    "\n",
    "print(\"Catalog of Collections:\\n\")\n",
    "for i in range(len(collection_list)):\n",
    "    print(f\"\\t{i+1}. {collection_list[i]}\")"
   ]
  },
  {
   "cell_type": "code",
   "execution_count": 25,
   "id": "8df02edd",
   "metadata": {},
   "outputs": [
    {
     "data": {
      "image/png": "[encoded data removed]",
      "text/plain": [
       "<Figure size 640x480 with 1 Axes>"
      ]
     },
     "metadata": {},
     "output_type": "display_data"
    }
   ],
   "source": [
    "collection_visualization(data_France, 'France')"
   ]
  },
  {
   "cell_type": "code",
   "execution_count": 26,
   "id": "d7608077",
   "metadata": {},
   "outputs": [
    {
     "name": "stdout",
     "output_type": "stream",
     "text": [
      "We have a Total of 153 distinct products, with PAM00655 leading the selection\n"
     ]
    }
   ],
   "source": [
    "# Reference\n",
    "number_unique_references, top_reference = data_France_stats[\"reference\"].unique()[0], data_France_stats[\"reference\"].unique()[1]\n",
    "if number_unique_references == 1:\n",
    "    print(f\"The is a unique reference: {top_reference}\")\n",
    "else:\n",
    "    print(f\"We have a Total of {number_unique_references} distinct products, with {top_reference} leading the selection\")"
   ]
  },
  {
   "cell_type": "markdown",
   "id": "d79d6082",
   "metadata": {},
   "source": [
    "#### 4.2.2. UK"
   ]
  },
  {
   "cell_type": "code",
   "execution_count": 27,
   "id": "d70b1a98",
   "metadata": {},
   "outputs": [],
   "source": [
    "data_UK = data[data[\"country\"] == \"UK\"]"
   ]
  },
  {
   "cell_type": "code",
   "execution_count": 28,
   "id": "db4a05d1",
   "metadata": {
    "scrolled": false
   },
   "outputs": [
    {
     "data": {
      "text/html": [
       "<div>\n",
       "<style scoped>\n",
       "    .dataframe tbody tr th:only-of-type {\n",
       "        vertical-align: middle;\n",
       "    }\n",
       "\n",
       "    .dataframe tbody tr th {\n",
       "        vertical-align: top;\n",
       "    }\n",
       "\n",
       "    .dataframe thead th {\n",
       "        text-align: right;\n",
       "    }\n",
       "</style>\n",
       "<table border=\"1\" class=\"dataframe\">\n",
       "  <thead>\n",
       "    <tr style=\"text-align: right;\">\n",
       "      <th></th>\n",
       "      <th>brand</th>\n",
       "      <th>url</th>\n",
       "      <th>image_url</th>\n",
       "      <th>collection</th>\n",
       "      <th>reference</th>\n",
       "      <th>currency</th>\n",
       "      <th>country</th>\n",
       "      <th>month</th>\n",
       "    </tr>\n",
       "  </thead>\n",
       "  <tbody>\n",
       "    <tr>\n",
       "      <th>count</th>\n",
       "      <td>155</td>\n",
       "      <td>155</td>\n",
       "      <td>155</td>\n",
       "      <td>155</td>\n",
       "      <td>155</td>\n",
       "      <td>155</td>\n",
       "      <td>155</td>\n",
       "      <td>155</td>\n",
       "    </tr>\n",
       "    <tr>\n",
       "      <th>unique</th>\n",
       "      <td>1</td>\n",
       "      <td>155</td>\n",
       "      <td>155</td>\n",
       "      <td>4</td>\n",
       "      <td>155</td>\n",
       "      <td>1</td>\n",
       "      <td>1</td>\n",
       "      <td>1</td>\n",
       "    </tr>\n",
       "    <tr>\n",
       "      <th>top</th>\n",
       "      <td>Panerai</td>\n",
       "      <td>https://www.panerai.com/gb/en/collections/watc...</td>\n",
       "      <td>https://www.panerai.com/content/dam/rcq/pan/10...</td>\n",
       "      <td>LUMINOR</td>\n",
       "      <td>PAM00655</td>\n",
       "      <td>GBP</td>\n",
       "      <td>UK</td>\n",
       "      <td>December</td>\n",
       "    </tr>\n",
       "    <tr>\n",
       "      <th>freq</th>\n",
       "      <td>155</td>\n",
       "      <td>1</td>\n",
       "      <td>1</td>\n",
       "      <td>84</td>\n",
       "      <td>1</td>\n",
       "      <td>155</td>\n",
       "      <td>155</td>\n",
       "      <td>155</td>\n",
       "    </tr>\n",
       "  </tbody>\n",
       "</table>\n",
       "</div>"
      ],
      "text/plain": [
       "          brand                                                url  \\\n",
       "count       155                                                155   \n",
       "unique        1                                                155   \n",
       "top     Panerai  https://www.panerai.com/gb/en/collections/watc...   \n",
       "freq        155                                                  1   \n",
       "\n",
       "                                                image_url collection  \\\n",
       "count                                                 155        155   \n",
       "unique                                                155          4   \n",
       "top     https://www.panerai.com/content/dam/rcq/pan/10...    LUMINOR   \n",
       "freq                                                    1         84   \n",
       "\n",
       "       reference currency country     month  \n",
       "count        155      155     155       155  \n",
       "unique       155        1       1         1  \n",
       "top     PAM00655      GBP      UK  December  \n",
       "freq           1      155     155       155  "
      ]
     },
     "execution_count": 28,
     "metadata": {},
     "output_type": "execute_result"
    }
   ],
   "source": [
    "data_UK_stats = data_UK.describe(include=\"object\")\n",
    "data_UK_stats"
   ]
  },
  {
   "cell_type": "code",
   "execution_count": 29,
   "id": "3a3f86e5",
   "metadata": {},
   "outputs": [
    {
     "name": "stdout",
     "output_type": "stream",
     "text": [
      "Number of rows : 155\n"
     ]
    }
   ],
   "source": [
    "# Number of rows\n",
    "number_rows = data_UK_stats[\"brand\"].unique()[0]\n",
    "print(f\"Number of rows : {number_rows}\")"
   ]
  },
  {
   "cell_type": "code",
   "execution_count": 30,
   "id": "4c69fd83",
   "metadata": {},
   "outputs": [
    {
     "name": "stdout",
     "output_type": "stream",
     "text": [
      "We have 4 collections, and LUMINOR is the leading one\n"
     ]
    }
   ],
   "source": [
    "# Collections\n",
    "number_unique_collections, top_collection = data_UK_stats[\"collection\"].unique()[1], data_UK_stats[\"collection\"].unique()[2]\n",
    "if number_unique_collections == 1:\n",
    "    print(f\"There is a unique collection, named {top_collection}\")\n",
    "else:\n",
    "    print(f\"We have {number_unique_collections} collections, and {top_collection} is the leading one\")"
   ]
  },
  {
   "cell_type": "code",
   "execution_count": 31,
   "id": "ea4ae9fe",
   "metadata": {
    "scrolled": true
   },
   "outputs": [
    {
     "name": "stdout",
     "output_type": "stream",
     "text": [
      "Catalog of Collections:\n",
      "\n",
      "\t1. RADIOMIR\n",
      "\t2. LUMINOR\n",
      "\t3. LUMINOR-DUE\n",
      "\t4. SUBMERSIBLE\n"
     ]
    }
   ],
   "source": [
    "collection_list = data_UK[\"collection\"].unique()\n",
    "\n",
    "print(\"Catalog of Collections:\\n\")\n",
    "for i in range(len(collection_list)):\n",
    "    print(f\"\\t{i+1}. {collection_list[i]}\")"
   ]
  },
  {
   "cell_type": "code",
   "execution_count": 32,
   "id": "98b36322",
   "metadata": {},
   "outputs": [],
   "source": [
    "def collection_visualization(data, country): \n",
    "    # Choose a color palette\n",
    "    palette = sns.color_palette(\"pastel\")  # You can choose different palettes like \"deep\", \"pastel\", etc.\n",
    "\n",
    "    # Create the count plot\n",
    "    ax = sns.countplot(x=\"collection\", data=data, palette=palette)\n",
    "\n",
    "    # Add the count value on top of each bar\n",
    "    for p in ax.patches:\n",
    "        ax.annotate(f'{p.get_height()}', \n",
    "                    (p.get_x() + p.get_width() / 2., p.get_y() + p.get_height() / 2.), \n",
    "                    ha='center', va='center', \n",
    "                    fontsize=10, color='black', \n",
    "                    xytext=(0, 5), textcoords='offset points')\n",
    "\n",
    "    # Rotate x-axis labels for better readability\n",
    "    plt.xticks(rotation=45)\n",
    "\n",
    "    # Labels and title\n",
    "    plt.xlabel(\"Collection\")\n",
    "    plt.ylabel(\"Frequency\")\n",
    "    plt.title(f\"Frequency of Each Collection in {country}\")\n",
    "\n",
    "    # Show the plot\n",
    "    return plt.show()"
   ]
  },
  {
   "cell_type": "code",
   "execution_count": 33,
   "id": "4fdec1cf",
   "metadata": {
    "scrolled": true
   },
   "outputs": [
    {
     "data": {
      "image/png": "[encoded data removed]",
      "text/plain": [
       "<Figure size 640x480 with 1 Axes>"
      ]
     },
     "metadata": {},
     "output_type": "display_data"
    }
   ],
   "source": [
    "collection_visualization(data_UK, 'UK')"
   ]
  },
  {
   "cell_type": "code",
   "execution_count": 34,
   "id": "736b8417",
   "metadata": {},
   "outputs": [
    {
     "name": "stdout",
     "output_type": "stream",
     "text": [
      "We have a Total of 155 distinct products, with PAM00655 leading the selection\n"
     ]
    }
   ],
   "source": [
    "# Reference\n",
    "number_unique_references, top_reference = data_UK_stats[\"reference\"].unique()[0], data_UK_stats[\"reference\"].unique()[1]\n",
    "if number_unique_references == 1:\n",
    "    print(f\"The is a unique reference: {top_reference}\")\n",
    "else:\n",
    "    print(f\"We have a Total of {number_unique_references} distinct products, with {top_reference} leading the selection\")"
   ]
  },
  {
   "cell_type": "markdown",
   "id": "c175c183",
   "metadata": {},
   "source": [
    "#### 4.2.3. Japan"
   ]
  },
  {
   "cell_type": "code",
   "execution_count": 35,
   "id": "e08f1219",
   "metadata": {},
   "outputs": [],
   "source": [
    "data_Japan = data[data[\"country\"] == \"Japan\"]"
   ]
  },
  {
   "cell_type": "code",
   "execution_count": 36,
   "id": "c1e304e6",
   "metadata": {
    "scrolled": true
   },
   "outputs": [
    {
     "data": {
      "text/html": [
       "<div>\n",
       "<style scoped>\n",
       "    .dataframe tbody tr th:only-of-type {\n",
       "        vertical-align: middle;\n",
       "    }\n",
       "\n",
       "    .dataframe tbody tr th {\n",
       "        vertical-align: top;\n",
       "    }\n",
       "\n",
       "    .dataframe thead th {\n",
       "        text-align: right;\n",
       "    }\n",
       "</style>\n",
       "<table border=\"1\" class=\"dataframe\">\n",
       "  <thead>\n",
       "    <tr style=\"text-align: right;\">\n",
       "      <th></th>\n",
       "      <th>brand</th>\n",
       "      <th>url</th>\n",
       "      <th>image_url</th>\n",
       "      <th>collection</th>\n",
       "      <th>reference</th>\n",
       "      <th>currency</th>\n",
       "      <th>country</th>\n",
       "      <th>month</th>\n",
       "    </tr>\n",
       "  </thead>\n",
       "  <tbody>\n",
       "    <tr>\n",
       "      <th>count</th>\n",
       "      <td>201</td>\n",
       "      <td>201</td>\n",
       "      <td>201</td>\n",
       "      <td>201</td>\n",
       "      <td>201</td>\n",
       "      <td>201</td>\n",
       "      <td>201</td>\n",
       "      <td>201</td>\n",
       "    </tr>\n",
       "    <tr>\n",
       "      <th>unique</th>\n",
       "      <td>1</td>\n",
       "      <td>201</td>\n",
       "      <td>201</td>\n",
       "      <td>4</td>\n",
       "      <td>201</td>\n",
       "      <td>1</td>\n",
       "      <td>1</td>\n",
       "      <td>1</td>\n",
       "    </tr>\n",
       "    <tr>\n",
       "      <th>top</th>\n",
       "      <td>Panerai</td>\n",
       "      <td>https://www.panerai.com/jp/ja/collections/watc...</td>\n",
       "      <td>https://www.panerai.com/content/dam/rcq/pan/10...</td>\n",
       "      <td>LUMINOR</td>\n",
       "      <td>PAM00574</td>\n",
       "      <td>JPY</td>\n",
       "      <td>Japan</td>\n",
       "      <td>December</td>\n",
       "    </tr>\n",
       "    <tr>\n",
       "      <th>freq</th>\n",
       "      <td>201</td>\n",
       "      <td>1</td>\n",
       "      <td>1</td>\n",
       "      <td>108</td>\n",
       "      <td>1</td>\n",
       "      <td>201</td>\n",
       "      <td>201</td>\n",
       "      <td>201</td>\n",
       "    </tr>\n",
       "  </tbody>\n",
       "</table>\n",
       "</div>"
      ],
      "text/plain": [
       "          brand                                                url  \\\n",
       "count       201                                                201   \n",
       "unique        1                                                201   \n",
       "top     Panerai  https://www.panerai.com/jp/ja/collections/watc...   \n",
       "freq        201                                                  1   \n",
       "\n",
       "                                                image_url collection  \\\n",
       "count                                                 201        201   \n",
       "unique                                                201          4   \n",
       "top     https://www.panerai.com/content/dam/rcq/pan/10...    LUMINOR   \n",
       "freq                                                    1        108   \n",
       "\n",
       "       reference currency country     month  \n",
       "count        201      201     201       201  \n",
       "unique       201        1       1         1  \n",
       "top     PAM00574      JPY   Japan  December  \n",
       "freq           1      201     201       201  "
      ]
     },
     "execution_count": 36,
     "metadata": {},
     "output_type": "execute_result"
    }
   ],
   "source": [
    "data_Japan_stats = data_Japan.describe(include=\"object\")\n",
    "data_Japan_stats"
   ]
  },
  {
   "cell_type": "code",
   "execution_count": 37,
   "id": "eed1de79",
   "metadata": {},
   "outputs": [
    {
     "name": "stdout",
     "output_type": "stream",
     "text": [
      "Number of rows : 201\n"
     ]
    }
   ],
   "source": [
    "# Number of rows\n",
    "number_rows = data_Japan_stats[\"brand\"].unique()[0]\n",
    "print(f\"Number of rows : {number_rows}\")"
   ]
  },
  {
   "cell_type": "code",
   "execution_count": 38,
   "id": "e1cc41da",
   "metadata": {},
   "outputs": [
    {
     "name": "stdout",
     "output_type": "stream",
     "text": [
      "We have 4 collections, and LUMINOR is the leading one\n"
     ]
    }
   ],
   "source": [
    "# Collections\n",
    "number_unique_collections, top_collection = data_Japan_stats[\"collection\"].unique()[1], data_Japan_stats[\"collection\"].unique()[2]\n",
    "if number_unique_collections == 1:\n",
    "    print(f\"There is a unique collection, named {top_collection}\")\n",
    "else:\n",
    "    print(f\"We have {number_unique_collections} collections, and {top_collection} is the leading one\")"
   ]
  },
  {
   "cell_type": "code",
   "execution_count": 39,
   "id": "e4a1501b",
   "metadata": {},
   "outputs": [
    {
     "name": "stdout",
     "output_type": "stream",
     "text": [
      "Catalog of Collections:\n",
      "\n",
      "\t1. RADIOMIR\n",
      "\t2. LUMINOR\n",
      "\t3. LUMINOR-DUE\n",
      "\t4. SUBMERSIBLE\n"
     ]
    }
   ],
   "source": [
    "collection_list = data_Japan[\"collection\"].unique()\n",
    "\n",
    "print(\"Catalog of Collections:\\n\")\n",
    "for i in range(len(collection_list)):\n",
    "    print(f\"\\t{i+1}. {collection_list[i]}\")"
   ]
  },
  {
   "cell_type": "code",
   "execution_count": 40,
   "id": "3eff6000",
   "metadata": {},
   "outputs": [
    {
     "data": {
      "image/png": "[encoded data removed]",
      "text/plain": [
       "<Figure size 640x480 with 1 Axes>"
      ]
     },
     "metadata": {},
     "output_type": "display_data"
    }
   ],
   "source": [
    "collection_visualization(data_Japan, 'Japan')"
   ]
  },
  {
   "cell_type": "code",
   "execution_count": 41,
   "id": "a739378c",
   "metadata": {},
   "outputs": [
    {
     "name": "stdout",
     "output_type": "stream",
     "text": [
      "We have a Total of 201 distinct products, with PAM00574 leading the selection\n"
     ]
    }
   ],
   "source": [
    "# Reference\n",
    "number_unique_references, top_reference = data_Japan_stats[\"reference\"].unique()[0], data_Japan_stats[\"reference\"].unique()[1]\n",
    "if number_unique_references == 1:\n",
    "    print(f\"The is a unique reference: {top_reference}\")\n",
    "else:\n",
    "    print(f\"We have a Total of {number_unique_references} distinct products, with {top_reference} leading the selection\")"
   ]
  },
  {
   "cell_type": "markdown",
   "id": "0c3d596c",
   "metadata": {},
   "source": [
    "#### 4.2.4. USA"
   ]
  },
  {
   "cell_type": "code",
   "execution_count": 42,
   "id": "1d2ac9c8",
   "metadata": {},
   "outputs": [],
   "source": [
    "data_USA = data[data[\"country\"] == \"USA\"]"
   ]
  },
  {
   "cell_type": "code",
   "execution_count": 43,
   "id": "e99ab8ec",
   "metadata": {
    "scrolled": true
   },
   "outputs": [
    {
     "data": {
      "text/html": [
       "<div>\n",
       "<style scoped>\n",
       "    .dataframe tbody tr th:only-of-type {\n",
       "        vertical-align: middle;\n",
       "    }\n",
       "\n",
       "    .dataframe tbody tr th {\n",
       "        vertical-align: top;\n",
       "    }\n",
       "\n",
       "    .dataframe thead th {\n",
       "        text-align: right;\n",
       "    }\n",
       "</style>\n",
       "<table border=\"1\" class=\"dataframe\">\n",
       "  <thead>\n",
       "    <tr style=\"text-align: right;\">\n",
       "      <th></th>\n",
       "      <th>brand</th>\n",
       "      <th>url</th>\n",
       "      <th>image_url</th>\n",
       "      <th>collection</th>\n",
       "      <th>reference</th>\n",
       "      <th>currency</th>\n",
       "      <th>country</th>\n",
       "      <th>month</th>\n",
       "    </tr>\n",
       "  </thead>\n",
       "  <tbody>\n",
       "    <tr>\n",
       "      <th>count</th>\n",
       "      <td>178</td>\n",
       "      <td>178</td>\n",
       "      <td>178</td>\n",
       "      <td>178</td>\n",
       "      <td>178</td>\n",
       "      <td>178</td>\n",
       "      <td>178</td>\n",
       "      <td>178</td>\n",
       "    </tr>\n",
       "    <tr>\n",
       "      <th>unique</th>\n",
       "      <td>1</td>\n",
       "      <td>178</td>\n",
       "      <td>178</td>\n",
       "      <td>4</td>\n",
       "      <td>178</td>\n",
       "      <td>1</td>\n",
       "      <td>1</td>\n",
       "      <td>1</td>\n",
       "    </tr>\n",
       "    <tr>\n",
       "      <th>top</th>\n",
       "      <td>Panerai</td>\n",
       "      <td>https://www.panerai.com/en/collections/watch-c...</td>\n",
       "      <td>https://www.panerai.com/content/dam/rcq/pan/10...</td>\n",
       "      <td>LUMINOR</td>\n",
       "      <td>PAM00574</td>\n",
       "      <td>USD</td>\n",
       "      <td>USA</td>\n",
       "      <td>December</td>\n",
       "    </tr>\n",
       "    <tr>\n",
       "      <th>freq</th>\n",
       "      <td>178</td>\n",
       "      <td>1</td>\n",
       "      <td>1</td>\n",
       "      <td>94</td>\n",
       "      <td>1</td>\n",
       "      <td>178</td>\n",
       "      <td>178</td>\n",
       "      <td>178</td>\n",
       "    </tr>\n",
       "  </tbody>\n",
       "</table>\n",
       "</div>"
      ],
      "text/plain": [
       "          brand                                                url  \\\n",
       "count       178                                                178   \n",
       "unique        1                                                178   \n",
       "top     Panerai  https://www.panerai.com/en/collections/watch-c...   \n",
       "freq        178                                                  1   \n",
       "\n",
       "                                                image_url collection  \\\n",
       "count                                                 178        178   \n",
       "unique                                                178          4   \n",
       "top     https://www.panerai.com/content/dam/rcq/pan/10...    LUMINOR   \n",
       "freq                                                    1         94   \n",
       "\n",
       "       reference currency country     month  \n",
       "count        178      178     178       178  \n",
       "unique       178        1       1         1  \n",
       "top     PAM00574      USD     USA  December  \n",
       "freq           1      178     178       178  "
      ]
     },
     "execution_count": 43,
     "metadata": {},
     "output_type": "execute_result"
    }
   ],
   "source": [
    "data_USA_stats = data_USA.describe(include=\"object\")\n",
    "data_USA_stats"
   ]
  },
  {
   "cell_type": "code",
   "execution_count": 44,
   "id": "692ffe48",
   "metadata": {},
   "outputs": [
    {
     "name": "stdout",
     "output_type": "stream",
     "text": [
      "Number of rows : 178\n"
     ]
    }
   ],
   "source": [
    "# Number of rows\n",
    "number_rows = data_USA_stats[\"brand\"].unique()[0]\n",
    "print(f\"Number of rows : {number_rows}\")"
   ]
  },
  {
   "cell_type": "code",
   "execution_count": 45,
   "id": "3948babe",
   "metadata": {},
   "outputs": [
    {
     "name": "stdout",
     "output_type": "stream",
     "text": [
      "We have 4 collections, and LUMINOR is the leading one\n"
     ]
    }
   ],
   "source": [
    "# Collections\n",
    "number_unique_collections, top_collection = data_USA_stats[\"collection\"].unique()[1], data_USA_stats[\"collection\"].unique()[2]\n",
    "if number_unique_collections == 1:\n",
    "    print(f\"There is a unique collection, named {top_collection}\")\n",
    "else:\n",
    "    print(f\"We have {number_unique_collections} collections, and {top_collection} is the leading one\")"
   ]
  },
  {
   "cell_type": "code",
   "execution_count": 46,
   "id": "23275a11",
   "metadata": {
    "scrolled": true
   },
   "outputs": [
    {
     "name": "stdout",
     "output_type": "stream",
     "text": [
      "Catalog of Collections:\n",
      "\n",
      "\t1. RADIOMIR\n",
      "\t2. LUMINOR\n",
      "\t3. LUMINOR-DUE\n",
      "\t4. SUBMERSIBLE\n"
     ]
    }
   ],
   "source": [
    "collection_list = data_USA[\"collection\"].unique()\n",
    "\n",
    "print(\"Catalog of Collections:\\n\")\n",
    "for i in range(len(collection_list)):\n",
    "    print(f\"\\t{i+1}. {collection_list[i]}\")"
   ]
  },
  {
   "cell_type": "code",
   "execution_count": 47,
   "id": "c3384e8c",
   "metadata": {},
   "outputs": [
    {
     "data": {
      "image/png": "[encoded data removed]",
      "text/plain": [
       "<Figure size 640x480 with 1 Axes>"
      ]
     },
     "metadata": {},
     "output_type": "display_data"
    }
   ],
   "source": [
    "collection_visualization(data_USA, 'USA')"
   ]
  },
  {
   "cell_type": "code",
   "execution_count": 48,
   "id": "fa527e61",
   "metadata": {},
   "outputs": [
    {
     "name": "stdout",
     "output_type": "stream",
     "text": [
      "We have a Total of 178 distinct products, with PAM00574 leading the selection\n"
     ]
    }
   ],
   "source": [
    "# Reference\n",
    "number_unique_references, top_reference = data_USA_stats[\"reference\"].unique()[0], data_USA_stats[\"reference\"].unique()[1]\n",
    "if number_unique_references == 1:\n",
    "    print(f\"The is a unique reference: {top_reference}\")\n",
    "else:\n",
    "    print(f\"We have a Total of {number_unique_references} distinct products, with {top_reference} leading the selection\")"
   ]
  },
  {
   "cell_type": "code",
   "execution_count": null,
   "id": "ead1e107",
   "metadata": {},
   "outputs": [],
   "source": []
  },
  {
   "cell_type": "code",
   "execution_count": null,
   "id": "39f95d12",
   "metadata": {},
   "outputs": [],
   "source": []
  }
 ],
 "metadata": {
  "kernelspec": {
   "display_name": "Python 3 (ipykernel)",
   "language": "python",
   "name": "python3"
  },
  "language_info": {
   "codemirror_mode": {
    "name": "ipython",
    "version": 3
   },
   "file_extension": ".py",
   "mimetype": "text/x-python",
   "name": "python",
   "nbconvert_exporter": "python",
   "pygments_lexer": "ipython3",
   "version": "3.9.13"
  }
 },
 "nbformat": 4,
 "nbformat_minor": 5
}
