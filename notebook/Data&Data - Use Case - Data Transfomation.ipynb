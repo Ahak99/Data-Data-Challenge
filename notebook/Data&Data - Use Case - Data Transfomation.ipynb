{
 "cells": [
  {
   "cell_type": "markdown",
   "id": "e69fd4a2",
   "metadata": {},
   "source": [
    "## 1. Import librariries"
   ]
  },
  {
   "cell_type": "code",
   "execution_count": 17,
   "id": "eac1aef3",
   "metadata": {},
   "outputs": [],
   "source": [
    "import pandas as pd\n",
    "import numpy as np\n",
    "import seaborn as sns\n",
    "import matplotlib.pyplot as plt"
   ]
  },
  {
   "cell_type": "markdown",
   "id": "7fccb00f",
   "metadata": {},
   "source": [
    "## 2. Load & Read the Data"
   ]
  },
  {
   "cell_type": "code",
   "execution_count": 209,
   "id": "e49cb090",
   "metadata": {
    "scrolled": true
   },
   "outputs": [
    {
     "data": {
      "text/html": [
       "<div>\n",
       "<style scoped>\n",
       "    .dataframe tbody tr th:only-of-type {\n",
       "        vertical-align: middle;\n",
       "    }\n",
       "\n",
       "    .dataframe tbody tr th {\n",
       "        vertical-align: top;\n",
       "    }\n",
       "\n",
       "    .dataframe thead th {\n",
       "        text-align: right;\n",
       "    }\n",
       "</style>\n",
       "<table border=\"1\" class=\"dataframe\">\n",
       "  <thead>\n",
       "    <tr style=\"text-align: right;\">\n",
       "      <th></th>\n",
       "      <th>name</th>\n",
       "      <th>reference</th>\n",
       "      <th>collection</th>\n",
       "      <th>brand</th>\n",
       "      <th>price</th>\n",
       "      <th>currency</th>\n",
       "      <th>availability</th>\n",
       "      <th>product_url</th>\n",
       "      <th>image_url</th>\n",
       "      <th>country</th>\n",
       "      <th>year</th>\n",
       "    </tr>\n",
       "  </thead>\n",
       "  <tbody>\n",
       "    <tr>\n",
       "      <th>0</th>\n",
       "      <td>Radiomir Quaranta</td>\n",
       "      <td>PAM01570</td>\n",
       "      <td>Radiomir</td>\n",
       "      <td>PANERAI</td>\n",
       "      <td>$6,000</td>\n",
       "      <td>$</td>\n",
       "      <td>Available</td>\n",
       "      <td>https://www.panerai.com/us/en/collections/watc...</td>\n",
       "      <td>https://www.panerai.com/content/dam/rcq/pan/km...</td>\n",
       "      <td>USA</td>\n",
       "      <td>2025</td>\n",
       "    </tr>\n",
       "    <tr>\n",
       "      <th>1</th>\n",
       "      <td>Radiomir Quaranta</td>\n",
       "      <td>PAM01571</td>\n",
       "      <td>Radiomir</td>\n",
       "      <td>PANERAI</td>\n",
       "      <td>$6,000</td>\n",
       "      <td>$</td>\n",
       "      <td>Available</td>\n",
       "      <td>https://www.panerai.com/us/en/collections/watc...</td>\n",
       "      <td>https://www.panerai.com/content/dam/rcq/pan/Ot...</td>\n",
       "      <td>USA</td>\n",
       "      <td>2025</td>\n",
       "    </tr>\n",
       "    <tr>\n",
       "      <th>2</th>\n",
       "      <td>Radiomir Quaranta</td>\n",
       "      <td>PAM01572</td>\n",
       "      <td>Radiomir</td>\n",
       "      <td>PANERAI</td>\n",
       "      <td>$6,000</td>\n",
       "      <td>$</td>\n",
       "      <td>Available</td>\n",
       "      <td>https://www.panerai.com/us/en/collections/watc...</td>\n",
       "      <td>https://www.panerai.com/content/dam/rcq/pan/lz...</td>\n",
       "      <td>USA</td>\n",
       "      <td>2025</td>\n",
       "    </tr>\n",
       "    <tr>\n",
       "      <th>3</th>\n",
       "      <td>Radiomir Quaranta</td>\n",
       "      <td>PAM01573</td>\n",
       "      <td>Radiomir</td>\n",
       "      <td>PANERAI</td>\n",
       "      <td>$6,000</td>\n",
       "      <td>$</td>\n",
       "      <td>Available</td>\n",
       "      <td>https://www.panerai.com/us/en/collections/watc...</td>\n",
       "      <td>https://www.panerai.com/content/dam/rcq/pan/iY...</td>\n",
       "      <td>USA</td>\n",
       "      <td>2025</td>\n",
       "    </tr>\n",
       "    <tr>\n",
       "      <th>4</th>\n",
       "      <td>Radiomir Officine</td>\n",
       "      <td>PAM01385</td>\n",
       "      <td>Radiomir</td>\n",
       "      <td>PANERAI</td>\n",
       "      <td>$5,400</td>\n",
       "      <td>$</td>\n",
       "      <td>Out of Stock</td>\n",
       "      <td>https://www.panerai.com/us/en/collections/watc...</td>\n",
       "      <td>https://www.panerai.com/content/dam/rcq/pan/bc...</td>\n",
       "      <td>USA</td>\n",
       "      <td>2025</td>\n",
       "    </tr>\n",
       "  </tbody>\n",
       "</table>\n",
       "</div>"
      ],
      "text/plain": [
       "                name reference collection    brand   price currency  \\\n",
       "0  Radiomir Quaranta  PAM01570   Radiomir  PANERAI  $6,000        $   \n",
       "1  Radiomir Quaranta  PAM01571   Radiomir  PANERAI  $6,000        $   \n",
       "2  Radiomir Quaranta  PAM01572   Radiomir  PANERAI  $6,000        $   \n",
       "3  Radiomir Quaranta  PAM01573   Radiomir  PANERAI  $6,000        $   \n",
       "4  Radiomir Officine  PAM01385   Radiomir  PANERAI  $5,400        $   \n",
       "\n",
       "   availability                                        product_url  \\\n",
       "0     Available  https://www.panerai.com/us/en/collections/watc...   \n",
       "1     Available  https://www.panerai.com/us/en/collections/watc...   \n",
       "2     Available  https://www.panerai.com/us/en/collections/watc...   \n",
       "3     Available  https://www.panerai.com/us/en/collections/watc...   \n",
       "4  Out of Stock  https://www.panerai.com/us/en/collections/watc...   \n",
       "\n",
       "                                           image_url country  year  \n",
       "0  https://www.panerai.com/content/dam/rcq/pan/km...     USA  2025  \n",
       "1  https://www.panerai.com/content/dam/rcq/pan/Ot...     USA  2025  \n",
       "2  https://www.panerai.com/content/dam/rcq/pan/lz...     USA  2025  \n",
       "3  https://www.panerai.com/content/dam/rcq/pan/iY...     USA  2025  \n",
       "4  https://www.panerai.com/content/dam/rcq/pan/bc...     USA  2025  "
      ]
     },
     "execution_count": 209,
     "metadata": {},
     "output_type": "execute_result"
    }
   ],
   "source": [
    "data = pd.read_csv(\"Data&Data - PriceAnalysis Challenge/data/bronze/2025-02-27_15-10-01/all_watches_2025.csv\")\n",
    "data.head()"
   ]
  },
  {
   "cell_type": "markdown",
   "id": "fca61191",
   "metadata": {},
   "source": [
    "## 3. Exploratory Data Analysis (EDA)\n",
    "\n",
    "#### 3.1. Columns list"
   ]
  },
  {
   "cell_type": "code",
   "execution_count": 210,
   "id": "ff453386",
   "metadata": {},
   "outputs": [
    {
     "name": "stdout",
     "output_type": "stream",
     "text": [
      "List of column name:\n",
      "\n",
      "\t1. name\n",
      "\t2. reference\n",
      "\t3. collection\n",
      "\t4. brand\n",
      "\t5. price\n",
      "\t6. currency\n",
      "\t7. availability\n",
      "\t8. product_url\n",
      "\t9. image_url\n",
      "\t10. country\n",
      "\t11. year\n"
     ]
    }
   ],
   "source": [
    "column_list = list(data.columns)\n",
    "\n",
    "print(\"List of column name:\\n\")\n",
    "for i in range(len(column_list)):\n",
    "    print(f\"\\t{i+1}. {column_list[i]}\")"
   ]
  },
  {
   "cell_type": "code",
   "execution_count": 211,
   "id": "0521d066",
   "metadata": {},
   "outputs": [],
   "source": [
    "column_list_ref = ['brand', 'product_url', 'image_url', 'collection', 'reference', 'price', 'currency', 'country', 'year']"
   ]
  },
  {
   "cell_type": "markdown",
   "id": "dc3a8eab",
   "metadata": {},
   "source": [
    "#### Reorder the DataFrame"
   ]
  },
  {
   "cell_type": "code",
   "execution_count": 232,
   "id": "94529844",
   "metadata": {},
   "outputs": [
    {
     "data": {
      "text/html": [
       "<div>\n",
       "<style scoped>\n",
       "    .dataframe tbody tr th:only-of-type {\n",
       "        vertical-align: middle;\n",
       "    }\n",
       "\n",
       "    .dataframe tbody tr th {\n",
       "        vertical-align: top;\n",
       "    }\n",
       "\n",
       "    .dataframe thead th {\n",
       "        text-align: right;\n",
       "    }\n",
       "</style>\n",
       "<table border=\"1\" class=\"dataframe\">\n",
       "  <thead>\n",
       "    <tr style=\"text-align: right;\">\n",
       "      <th></th>\n",
       "      <th>brand</th>\n",
       "      <th>product_url</th>\n",
       "      <th>image_url</th>\n",
       "      <th>collection</th>\n",
       "      <th>reference</th>\n",
       "      <th>price</th>\n",
       "      <th>currency</th>\n",
       "      <th>country</th>\n",
       "      <th>year</th>\n",
       "      <th>name</th>\n",
       "      <th>availability</th>\n",
       "      <th>currencies_code</th>\n",
       "      <th>price_USD</th>\n",
       "      <th>price_EUR</th>\n",
       "      <th>price_GBP</th>\n",
       "      <th>price_JPY</th>\n",
       "    </tr>\n",
       "  </thead>\n",
       "  <tbody>\n",
       "    <tr>\n",
       "      <th>0</th>\n",
       "      <td>PANERAI</td>\n",
       "      <td>https://www.panerai.com/us/en/collections/watc...</td>\n",
       "      <td>https://www.panerai.com/content/dam/rcq/pan/km...</td>\n",
       "      <td>Radiomir</td>\n",
       "      <td>PAM01570</td>\n",
       "      <td>6000.0</td>\n",
       "      <td>$</td>\n",
       "      <td>USA</td>\n",
       "      <td>2025</td>\n",
       "      <td>Radiomir Quaranta</td>\n",
       "      <td>Available</td>\n",
       "      <td>USD</td>\n",
       "      <td>6000.0</td>\n",
       "      <td>5719.20</td>\n",
       "      <td>4734.60</td>\n",
       "      <td>894272.40</td>\n",
       "    </tr>\n",
       "    <tr>\n",
       "      <th>1</th>\n",
       "      <td>PANERAI</td>\n",
       "      <td>https://www.panerai.com/us/en/collections/watc...</td>\n",
       "      <td>https://www.panerai.com/content/dam/rcq/pan/Ot...</td>\n",
       "      <td>Radiomir</td>\n",
       "      <td>PAM01571</td>\n",
       "      <td>6000.0</td>\n",
       "      <td>$</td>\n",
       "      <td>USA</td>\n",
       "      <td>2025</td>\n",
       "      <td>Radiomir Quaranta</td>\n",
       "      <td>Available</td>\n",
       "      <td>USD</td>\n",
       "      <td>6000.0</td>\n",
       "      <td>5719.20</td>\n",
       "      <td>4734.60</td>\n",
       "      <td>894272.40</td>\n",
       "    </tr>\n",
       "    <tr>\n",
       "      <th>2</th>\n",
       "      <td>PANERAI</td>\n",
       "      <td>https://www.panerai.com/us/en/collections/watc...</td>\n",
       "      <td>https://www.panerai.com/content/dam/rcq/pan/lz...</td>\n",
       "      <td>Radiomir</td>\n",
       "      <td>PAM01572</td>\n",
       "      <td>6000.0</td>\n",
       "      <td>$</td>\n",
       "      <td>USA</td>\n",
       "      <td>2025</td>\n",
       "      <td>Radiomir Quaranta</td>\n",
       "      <td>Available</td>\n",
       "      <td>USD</td>\n",
       "      <td>6000.0</td>\n",
       "      <td>5719.20</td>\n",
       "      <td>4734.60</td>\n",
       "      <td>894272.40</td>\n",
       "    </tr>\n",
       "    <tr>\n",
       "      <th>3</th>\n",
       "      <td>PANERAI</td>\n",
       "      <td>https://www.panerai.com/us/en/collections/watc...</td>\n",
       "      <td>https://www.panerai.com/content/dam/rcq/pan/iY...</td>\n",
       "      <td>Radiomir</td>\n",
       "      <td>PAM01573</td>\n",
       "      <td>6000.0</td>\n",
       "      <td>$</td>\n",
       "      <td>USA</td>\n",
       "      <td>2025</td>\n",
       "      <td>Radiomir Quaranta</td>\n",
       "      <td>Available</td>\n",
       "      <td>USD</td>\n",
       "      <td>6000.0</td>\n",
       "      <td>5719.20</td>\n",
       "      <td>4734.60</td>\n",
       "      <td>894272.40</td>\n",
       "    </tr>\n",
       "    <tr>\n",
       "      <th>4</th>\n",
       "      <td>PANERAI</td>\n",
       "      <td>https://www.panerai.com/us/en/collections/watc...</td>\n",
       "      <td>https://www.panerai.com/content/dam/rcq/pan/bc...</td>\n",
       "      <td>Radiomir</td>\n",
       "      <td>PAM01385</td>\n",
       "      <td>5400.0</td>\n",
       "      <td>$</td>\n",
       "      <td>USA</td>\n",
       "      <td>2025</td>\n",
       "      <td>Radiomir Officine</td>\n",
       "      <td>Out of Stock</td>\n",
       "      <td>USD</td>\n",
       "      <td>5400.0</td>\n",
       "      <td>5147.28</td>\n",
       "      <td>4261.14</td>\n",
       "      <td>804845.16</td>\n",
       "    </tr>\n",
       "  </tbody>\n",
       "</table>\n",
       "</div>"
      ],
      "text/plain": [
       "     brand                                        product_url  \\\n",
       "0  PANERAI  https://www.panerai.com/us/en/collections/watc...   \n",
       "1  PANERAI  https://www.panerai.com/us/en/collections/watc...   \n",
       "2  PANERAI  https://www.panerai.com/us/en/collections/watc...   \n",
       "3  PANERAI  https://www.panerai.com/us/en/collections/watc...   \n",
       "4  PANERAI  https://www.panerai.com/us/en/collections/watc...   \n",
       "\n",
       "                                           image_url collection reference  \\\n",
       "0  https://www.panerai.com/content/dam/rcq/pan/km...   Radiomir  PAM01570   \n",
       "1  https://www.panerai.com/content/dam/rcq/pan/Ot...   Radiomir  PAM01571   \n",
       "2  https://www.panerai.com/content/dam/rcq/pan/lz...   Radiomir  PAM01572   \n",
       "3  https://www.panerai.com/content/dam/rcq/pan/iY...   Radiomir  PAM01573   \n",
       "4  https://www.panerai.com/content/dam/rcq/pan/bc...   Radiomir  PAM01385   \n",
       "\n",
       "    price currency country  year               name  availability  \\\n",
       "0  6000.0        $     USA  2025  Radiomir Quaranta     Available   \n",
       "1  6000.0        $     USA  2025  Radiomir Quaranta     Available   \n",
       "2  6000.0        $     USA  2025  Radiomir Quaranta     Available   \n",
       "3  6000.0        $     USA  2025  Radiomir Quaranta     Available   \n",
       "4  5400.0        $     USA  2025  Radiomir Officine  Out of Stock   \n",
       "\n",
       "  currencies_code  price_USD  price_EUR  price_GBP  price_JPY  \n",
       "0             USD     6000.0    5719.20    4734.60  894272.40  \n",
       "1             USD     6000.0    5719.20    4734.60  894272.40  \n",
       "2             USD     6000.0    5719.20    4734.60  894272.40  \n",
       "3             USD     6000.0    5719.20    4734.60  894272.40  \n",
       "4             USD     5400.0    5147.28    4261.14  804845.16  "
      ]
     },
     "execution_count": 232,
     "metadata": {},
     "output_type": "execute_result"
    }
   ],
   "source": [
    "remaining_columns = [col for col in data.columns if col not in column_list_ref]\n",
    "\n",
    "data = data[column_list_ref + remaining_columns]\n",
    "data.head()"
   ]
  },
  {
   "cell_type": "markdown",
   "id": "fb130762",
   "metadata": {},
   "source": [
    "#### 3.2. Data types discovery"
   ]
  },
  {
   "cell_type": "code",
   "execution_count": 213,
   "id": "d53ea266",
   "metadata": {
    "scrolled": true
   },
   "outputs": [
    {
     "name": "stdout",
     "output_type": "stream",
     "text": [
      "<class 'pandas.core.frame.DataFrame'>\n",
      "RangeIndex: 594 entries, 0 to 593\n",
      "Data columns (total 11 columns):\n",
      " #   Column        Non-Null Count  Dtype \n",
      "---  ------        --------------  ----- \n",
      " 0   brand         594 non-null    object\n",
      " 1   product_url   594 non-null    object\n",
      " 2   image_url     594 non-null    object\n",
      " 3   collection    594 non-null    object\n",
      " 4   reference     594 non-null    object\n",
      " 5   price         590 non-null    object\n",
      " 6   currency      594 non-null    object\n",
      " 7   country       594 non-null    object\n",
      " 8   year          594 non-null    int64 \n",
      " 9   name          594 non-null    object\n",
      " 10  availability  594 non-null    object\n",
      "dtypes: int64(1), object(10)\n",
      "memory usage: 51.2+ KB\n"
     ]
    }
   ],
   "source": [
    "data.info()"
   ]
  },
  {
   "cell_type": "markdown",
   "id": "0b26414f",
   "metadata": {},
   "source": [
    "--------------------------------------------------------------------------------------\n",
    "\n",
    "**The dataset we used in the following use case contains**:\n",
    "\n",
    "    1. 594 row of data\n",
    "    \n",
    "    2. 11 categoircal columns\n",
    "    \n",
    "    3. 1 numerical column\n",
    "--------------------------------------------------------------------------------------"
   ]
  },
  {
   "cell_type": "markdown",
   "id": "01e3def9",
   "metadata": {},
   "source": [
    "#### 3.2. Check Missing Values"
   ]
  },
  {
   "cell_type": "code",
   "execution_count": 214,
   "id": "00816f1f",
   "metadata": {
    "scrolled": true
   },
   "outputs": [
    {
     "data": {
      "text/plain": [
       "brand           0\n",
       "product_url     0\n",
       "image_url       0\n",
       "collection      0\n",
       "reference       0\n",
       "price           4\n",
       "currency        0\n",
       "country         0\n",
       "year            0\n",
       "name            0\n",
       "availability    0\n",
       "dtype: int64"
      ]
     },
     "execution_count": 214,
     "metadata": {},
     "output_type": "execute_result"
    }
   ],
   "source": [
    "data.isna().sum()"
   ]
  },
  {
   "cell_type": "markdown",
   "id": "a32e2008",
   "metadata": {},
   "source": [
    "--------------------------------------------------------------------------------------\n",
    "\n",
    "**The dataset contains some missing values**:\n",
    "    \n",
    "    - 4 in **price** column\n",
    "--------------------------------------------------------------------------------------"
   ]
  },
  {
   "cell_type": "markdown",
   "id": "1994e60a",
   "metadata": {},
   "source": [
    "#### 3.3. Handling missing values (cases : 'reference' or 'price')"
   ]
  },
  {
   "cell_type": "code",
   "execution_count": 215,
   "id": "5eb460b9",
   "metadata": {},
   "outputs": [],
   "source": [
    "data.dropna(subset=['reference', 'price'], inplace=True)"
   ]
  },
  {
   "cell_type": "code",
   "execution_count": 216,
   "id": "19c23e02",
   "metadata": {
    "scrolled": true
   },
   "outputs": [
    {
     "data": {
      "text/plain": [
       "brand           0\n",
       "product_url     0\n",
       "image_url       0\n",
       "collection      0\n",
       "reference       0\n",
       "price           0\n",
       "currency        0\n",
       "country         0\n",
       "year            0\n",
       "name            0\n",
       "availability    0\n",
       "dtype: int64"
      ]
     },
     "execution_count": 216,
     "metadata": {},
     "output_type": "execute_result"
    }
   ],
   "source": [
    "data.isna().sum()"
   ]
  },
  {
   "cell_type": "markdown",
   "id": "3e76a6e3",
   "metadata": {},
   "source": [
    "--------------------------------------------------------------------------------------\n",
    "\n",
    "**Now, the dataset is clean, no more missing values**\n",
    "\n",
    "    ** -> We are ready to GO **\n",
    "\n",
    "--------------------------------------------------------------------------------------"
   ]
  },
  {
   "cell_type": "markdown",
   "id": "bcf4c914",
   "metadata": {},
   "source": [
    "#### 3.4. Check for duplicates bases on 'reference' and 'country'"
   ]
  },
  {
   "cell_type": "code",
   "execution_count": 217,
   "id": "c9909899",
   "metadata": {},
   "outputs": [
    {
     "name": "stdout",
     "output_type": "stream",
     "text": [
      "0\n"
     ]
    }
   ],
   "source": [
    "# Check for duplicates based on 'reference', 'country', and 'collection'\n",
    "duplicates = data.duplicated(subset=['reference', 'country']).sum()\n",
    "\n",
    "# Display the duplicate rows\n",
    "print(duplicates)"
   ]
  },
  {
   "cell_type": "code",
   "execution_count": 218,
   "id": "54469b32",
   "metadata": {},
   "outputs": [
    {
     "data": {
      "text/html": [
       "<div>\n",
       "<style scoped>\n",
       "    .dataframe tbody tr th:only-of-type {\n",
       "        vertical-align: middle;\n",
       "    }\n",
       "\n",
       "    .dataframe tbody tr th {\n",
       "        vertical-align: top;\n",
       "    }\n",
       "\n",
       "    .dataframe thead th {\n",
       "        text-align: right;\n",
       "    }\n",
       "</style>\n",
       "<table border=\"1\" class=\"dataframe\">\n",
       "  <thead>\n",
       "    <tr style=\"text-align: right;\">\n",
       "      <th></th>\n",
       "      <th>brand</th>\n",
       "      <th>product_url</th>\n",
       "      <th>image_url</th>\n",
       "      <th>collection</th>\n",
       "      <th>reference</th>\n",
       "      <th>price</th>\n",
       "      <th>currency</th>\n",
       "      <th>country</th>\n",
       "      <th>name</th>\n",
       "      <th>availability</th>\n",
       "    </tr>\n",
       "  </thead>\n",
       "  <tbody>\n",
       "    <tr>\n",
       "      <th>count</th>\n",
       "      <td>590</td>\n",
       "      <td>590</td>\n",
       "      <td>590</td>\n",
       "      <td>590</td>\n",
       "      <td>590</td>\n",
       "      <td>590</td>\n",
       "      <td>590</td>\n",
       "      <td>590</td>\n",
       "      <td>590</td>\n",
       "      <td>590</td>\n",
       "    </tr>\n",
       "    <tr>\n",
       "      <th>unique</th>\n",
       "      <td>1</td>\n",
       "      <td>590</td>\n",
       "      <td>149</td>\n",
       "      <td>4</td>\n",
       "      <td>149</td>\n",
       "      <td>330</td>\n",
       "      <td>4</td>\n",
       "      <td>4</td>\n",
       "      <td>174</td>\n",
       "      <td>2</td>\n",
       "    </tr>\n",
       "    <tr>\n",
       "      <th>top</th>\n",
       "      <td>PANERAI</td>\n",
       "      <td>https://www.panerai.com/us/en/collections/watc...</td>\n",
       "      <td>https://www.panerai.com/content/dam/rcq/pan/km...</td>\n",
       "      <td>Luminor</td>\n",
       "      <td>PAM01570</td>\n",
       "      <td>£8,200</td>\n",
       "      <td>$</td>\n",
       "      <td>USA</td>\n",
       "      <td>Luminor Due</td>\n",
       "      <td>Available</td>\n",
       "    </tr>\n",
       "    <tr>\n",
       "      <th>freq</th>\n",
       "      <td>590</td>\n",
       "      <td>1</td>\n",
       "      <td>4</td>\n",
       "      <td>215</td>\n",
       "      <td>4</td>\n",
       "      <td>5</td>\n",
       "      <td>149</td>\n",
       "      <td>149</td>\n",
       "      <td>41</td>\n",
       "      <td>415</td>\n",
       "    </tr>\n",
       "  </tbody>\n",
       "</table>\n",
       "</div>"
      ],
      "text/plain": [
       "          brand                                        product_url  \\\n",
       "count       590                                                590   \n",
       "unique        1                                                590   \n",
       "top     PANERAI  https://www.panerai.com/us/en/collections/watc...   \n",
       "freq        590                                                  1   \n",
       "\n",
       "                                                image_url collection  \\\n",
       "count                                                 590        590   \n",
       "unique                                                149          4   \n",
       "top     https://www.panerai.com/content/dam/rcq/pan/km...    Luminor   \n",
       "freq                                                    4        215   \n",
       "\n",
       "       reference   price currency country         name availability  \n",
       "count        590     590      590     590          590          590  \n",
       "unique       149     330        4       4          174            2  \n",
       "top     PAM01570  £8,200        $     USA  Luminor Due    Available  \n",
       "freq           4       5      149     149           41          415  "
      ]
     },
     "execution_count": 218,
     "metadata": {},
     "output_type": "execute_result"
    }
   ],
   "source": [
    "stats = data.describe(include=\"object\")\n",
    "stats"
   ]
  },
  {
   "cell_type": "code",
   "execution_count": 219,
   "id": "4f169ed8",
   "metadata": {},
   "outputs": [
    {
     "name": "stdout",
     "output_type": "stream",
     "text": [
      "Number of rows : 590\n"
     ]
    }
   ],
   "source": [
    "# Number of rows\n",
    "number_rows = stats[\"brand\"].unique()[0]\n",
    "print(f\"Number of rows : {number_rows}\")"
   ]
  },
  {
   "cell_type": "code",
   "execution_count": 220,
   "id": "af3c1f79",
   "metadata": {},
   "outputs": [
    {
     "name": "stdout",
     "output_type": "stream",
     "text": [
      "There is a unique brand, named PANERAI\n"
     ]
    }
   ],
   "source": [
    "# Brand\n",
    "number_unique_brands, top_brand = stats[\"brand\"].unique()[1], stats[\"brand\"].unique()[2]\n",
    "if number_unique_brands == 1:\n",
    "    print(f\"There is a unique brand, named {top_brand}\")\n",
    "else:\n",
    "    print(f\"There is {number_unique_brands} brands, and {top_brand} is the leading one\")"
   ]
  },
  {
   "cell_type": "code",
   "execution_count": 221,
   "id": "cf2a1938",
   "metadata": {},
   "outputs": [
    {
     "name": "stdout",
     "output_type": "stream",
     "text": [
      "We have 4 collections, and Luminor is the leading one\n"
     ]
    }
   ],
   "source": [
    "# Collections\n",
    "number_unique_collections, top_collection = stats[\"collection\"].unique()[1], stats[\"collection\"].unique()[2]\n",
    "if number_unique_collections == 1:\n",
    "    print(f\"There is a unique collection, named {top_collection}\")\n",
    "else:\n",
    "    print(f\"We have {number_unique_collections} collections, and {top_collection} is the leading one\")"
   ]
  },
  {
   "cell_type": "code",
   "execution_count": 222,
   "id": "1d4a2392",
   "metadata": {},
   "outputs": [
    {
     "name": "stdout",
     "output_type": "stream",
     "text": [
      "Catalog of Collections:\n",
      "\n",
      "\t1. Radiomir\n",
      "\t2. Luminor\n",
      "\t3. Submersible\n",
      "\t4. Luminor Due\n"
     ]
    }
   ],
   "source": [
    "collection_list = data[\"collection\"].unique()\n",
    "\n",
    "print(\"Catalog of Collections:\\n\")\n",
    "for i in range(len(collection_list)):\n",
    "    print(f\"\\t{i+1}. {collection_list[i]}\")"
   ]
  },
  {
   "cell_type": "code",
   "execution_count": 223,
   "id": "d80c34cd",
   "metadata": {},
   "outputs": [
    {
     "name": "stdout",
     "output_type": "stream",
     "text": [
      "We have a Total of 149 distinct products, with PAM01570 leading the selection\n"
     ]
    }
   ],
   "source": [
    "# Reference\n",
    "number_unique_references, top_reference = stats[\"reference\"].unique()[1], stats[\"reference\"].unique()[2]\n",
    "if number_unique_references == 1:\n",
    "    print(f\"The is a unique reference: {top_reference}\")\n",
    "else:\n",
    "    print(f\"We have a Total of {number_unique_references} distinct products, with {top_reference} leading the selection\")"
   ]
  },
  {
   "cell_type": "code",
   "execution_count": 224,
   "id": "66c98e27",
   "metadata": {},
   "outputs": [
    {
     "name": "stdout",
     "output_type": "stream",
     "text": [
      "Our study is applied to 4 countries, with USA being the top one\n"
     ]
    }
   ],
   "source": [
    "# Countries\n",
    "number_unique_countries, top_country = stats[\"country\"].unique()[1], stats[\"country\"].unique()[2]\n",
    "if number_unique_countries == 1:\n",
    "    print(f\"Our study is applied to a unique country, {top_country}\")\n",
    "else:\n",
    "    print(f\"Our study is applied to {number_unique_countries} countries, with {top_country} being the top one\")"
   ]
  },
  {
   "cell_type": "code",
   "execution_count": 225,
   "id": "5360c316",
   "metadata": {},
   "outputs": [
    {
     "name": "stdout",
     "output_type": "stream",
     "text": [
      "Countries Included in the Study:\n",
      "\n",
      "\t1. USA\n",
      "\t2. France\n",
      "\t3. UK\n",
      "\t4. Japan\n"
     ]
    }
   ],
   "source": [
    "countries_list = data[\"country\"].unique()\n",
    "\n",
    "print(\"Countries Included in the Study:\\n\")\n",
    "for i in range(len(countries_list)):\n",
    "    print(f\"\\t{i+1}. {countries_list[i]}\")"
   ]
  },
  {
   "cell_type": "markdown",
   "id": "a2e6b856",
   "metadata": {},
   "source": [
    "## 4. Data preprocessing"
   ]
  },
  {
   "cell_type": "code",
   "execution_count": 226,
   "id": "5c0451c4",
   "metadata": {},
   "outputs": [
    {
     "data": {
      "text/html": [
       "<div>\n",
       "<style scoped>\n",
       "    .dataframe tbody tr th:only-of-type {\n",
       "        vertical-align: middle;\n",
       "    }\n",
       "\n",
       "    .dataframe tbody tr th {\n",
       "        vertical-align: top;\n",
       "    }\n",
       "\n",
       "    .dataframe thead th {\n",
       "        text-align: right;\n",
       "    }\n",
       "</style>\n",
       "<table border=\"1\" class=\"dataframe\">\n",
       "  <thead>\n",
       "    <tr style=\"text-align: right;\">\n",
       "      <th></th>\n",
       "      <th>brand</th>\n",
       "      <th>product_url</th>\n",
       "      <th>image_url</th>\n",
       "      <th>collection</th>\n",
       "      <th>reference</th>\n",
       "      <th>price</th>\n",
       "      <th>currency</th>\n",
       "      <th>country</th>\n",
       "      <th>year</th>\n",
       "      <th>name</th>\n",
       "      <th>availability</th>\n",
       "    </tr>\n",
       "  </thead>\n",
       "  <tbody>\n",
       "    <tr>\n",
       "      <th>0</th>\n",
       "      <td>PANERAI</td>\n",
       "      <td>https://www.panerai.com/us/en/collections/watc...</td>\n",
       "      <td>https://www.panerai.com/content/dam/rcq/pan/km...</td>\n",
       "      <td>Radiomir</td>\n",
       "      <td>PAM01570</td>\n",
       "      <td>6000.0</td>\n",
       "      <td>$</td>\n",
       "      <td>USA</td>\n",
       "      <td>2025</td>\n",
       "      <td>Radiomir Quaranta</td>\n",
       "      <td>Available</td>\n",
       "    </tr>\n",
       "    <tr>\n",
       "      <th>1</th>\n",
       "      <td>PANERAI</td>\n",
       "      <td>https://www.panerai.com/us/en/collections/watc...</td>\n",
       "      <td>https://www.panerai.com/content/dam/rcq/pan/Ot...</td>\n",
       "      <td>Radiomir</td>\n",
       "      <td>PAM01571</td>\n",
       "      <td>6000.0</td>\n",
       "      <td>$</td>\n",
       "      <td>USA</td>\n",
       "      <td>2025</td>\n",
       "      <td>Radiomir Quaranta</td>\n",
       "      <td>Available</td>\n",
       "    </tr>\n",
       "    <tr>\n",
       "      <th>2</th>\n",
       "      <td>PANERAI</td>\n",
       "      <td>https://www.panerai.com/us/en/collections/watc...</td>\n",
       "      <td>https://www.panerai.com/content/dam/rcq/pan/lz...</td>\n",
       "      <td>Radiomir</td>\n",
       "      <td>PAM01572</td>\n",
       "      <td>6000.0</td>\n",
       "      <td>$</td>\n",
       "      <td>USA</td>\n",
       "      <td>2025</td>\n",
       "      <td>Radiomir Quaranta</td>\n",
       "      <td>Available</td>\n",
       "    </tr>\n",
       "    <tr>\n",
       "      <th>3</th>\n",
       "      <td>PANERAI</td>\n",
       "      <td>https://www.panerai.com/us/en/collections/watc...</td>\n",
       "      <td>https://www.panerai.com/content/dam/rcq/pan/iY...</td>\n",
       "      <td>Radiomir</td>\n",
       "      <td>PAM01573</td>\n",
       "      <td>6000.0</td>\n",
       "      <td>$</td>\n",
       "      <td>USA</td>\n",
       "      <td>2025</td>\n",
       "      <td>Radiomir Quaranta</td>\n",
       "      <td>Available</td>\n",
       "    </tr>\n",
       "    <tr>\n",
       "      <th>4</th>\n",
       "      <td>PANERAI</td>\n",
       "      <td>https://www.panerai.com/us/en/collections/watc...</td>\n",
       "      <td>https://www.panerai.com/content/dam/rcq/pan/bc...</td>\n",
       "      <td>Radiomir</td>\n",
       "      <td>PAM01385</td>\n",
       "      <td>5400.0</td>\n",
       "      <td>$</td>\n",
       "      <td>USA</td>\n",
       "      <td>2025</td>\n",
       "      <td>Radiomir Officine</td>\n",
       "      <td>Out of Stock</td>\n",
       "    </tr>\n",
       "  </tbody>\n",
       "</table>\n",
       "</div>"
      ],
      "text/plain": [
       "     brand                                        product_url  \\\n",
       "0  PANERAI  https://www.panerai.com/us/en/collections/watc...   \n",
       "1  PANERAI  https://www.panerai.com/us/en/collections/watc...   \n",
       "2  PANERAI  https://www.panerai.com/us/en/collections/watc...   \n",
       "3  PANERAI  https://www.panerai.com/us/en/collections/watc...   \n",
       "4  PANERAI  https://www.panerai.com/us/en/collections/watc...   \n",
       "\n",
       "                                           image_url collection reference  \\\n",
       "0  https://www.panerai.com/content/dam/rcq/pan/km...   Radiomir  PAM01570   \n",
       "1  https://www.panerai.com/content/dam/rcq/pan/Ot...   Radiomir  PAM01571   \n",
       "2  https://www.panerai.com/content/dam/rcq/pan/lz...   Radiomir  PAM01572   \n",
       "3  https://www.panerai.com/content/dam/rcq/pan/iY...   Radiomir  PAM01573   \n",
       "4  https://www.panerai.com/content/dam/rcq/pan/bc...   Radiomir  PAM01385   \n",
       "\n",
       "    price currency country  year               name  availability  \n",
       "0  6000.0        $     USA  2025  Radiomir Quaranta     Available  \n",
       "1  6000.0        $     USA  2025  Radiomir Quaranta     Available  \n",
       "2  6000.0        $     USA  2025  Radiomir Quaranta     Available  \n",
       "3  6000.0        $     USA  2025  Radiomir Quaranta     Available  \n",
       "4  5400.0        $     USA  2025  Radiomir Officine  Out of Stock  "
      ]
     },
     "execution_count": 226,
     "metadata": {},
     "output_type": "execute_result"
    }
   ],
   "source": [
    "# Remove all unique currency symbols from the 'price' column\n",
    "currencies = data['currency'].unique()\n",
    "\n",
    "for currency in currencies:\n",
    "    data['price'] = data['price'].astype(str).str.replace(currency, '', regex=False)\n",
    "\n",
    "# Remove spaces and commas from the 'price' column and convert to integer\n",
    "data.loc[:, 'price'] = (\n",
    "    data['price']\n",
    "    .astype(str)\n",
    "    .str.replace(r'[\\s,]', '', regex=True)  # Remove spaces and commas\n",
    "    .astype(float)  # Convert to integer\n",
    ")"
   ]
  },
  {
   "cell_type": "code",
   "execution_count": null,
   "id": "e0f644b0",
   "metadata": {},
   "outputs": [],
   "source": [
    "# Function to get exchange rate\n",
    "def get_exchange_rate(from_currency: str, to_currency: str) -> float:\n",
    "    \"\"\"\n",
    "    Fetches real-time exchange rates using ExchangeRate-API.\n",
    "    \n",
    "    Args:\n",
    "        from_currency (str): Base currency (e.g., 'USD').\n",
    "        to_currency (str): Target currency (e.g., 'EUR').\n",
    "\n",
    "    Returns:\n",
    "        float: Exchange rate from 'from_currency' to 'to_currency'.\n",
    "    \"\"\"\n",
    "    API_KEY = \"af4387cea9cdccb108b76719\"\n",
    "    url = f\"https://v6.exchangerate-api.com/v6/{API_KEY}/latest/{from_currency.upper()}\"\n",
    "\n",
    "    try:\n",
    "        response = requests.get(url)\n",
    "        response.raise_for_status()\n",
    "        data = response.json()\n",
    "        if \"conversion_rates\" not in data:\n",
    "            raise ValueError(\"Invalid API response\")\n",
    "        return data[\"conversion_rates\"].get(to_currency.upper(), None)\n",
    "    except requests.exceptions.RequestException as e:\n",
    "        print(f\"Network error: {e}\")\n",
    "    except ValueError as e:\n",
    "        print(f\"Data error: {e}\")\n",
    "    return None"
   ]
  },
  {
   "cell_type": "code",
   "execution_count": null,
   "id": "c51a03ac",
   "metadata": {},
   "outputs": [],
   "source": [
    "# Currency codes mapping\n",
    "currencies_code = {\"$\": \"USD\", \"€\": \"EUR\", \"£\": \"GBP\", \"￥\": \"JPY\"}\n",
    "\n",
    "# Extract currency from price column and convert to standard codes\n",
    "data[\"currency_code\"] = data[\"currency\"].map(currencies_code)\n",
    "\n",
    "# Convert price to all target currencies\n",
    "for target_currency in currencies_code.values():\n",
    "    data[f\"price_{target_currency}\"] = data.apply(\n",
    "        lambda row: row[\"price\"] * get_exchange_rate(row[\"currency_code\"], target_currency) if row[\"currency_code\"] in currencies_code.values() else None,\n",
    "        axis=1\n",
    "    )"
   ]
  },
  {
   "cell_type": "code",
   "execution_count": 233,
   "id": "1c15a7c4",
   "metadata": {
    "scrolled": false
   },
   "outputs": [
    {
     "name": "stdout",
     "output_type": "stream",
     "text": [
      "<class 'pandas.core.frame.DataFrame'>\n",
      "Int64Index: 590 entries, 0 to 593\n",
      "Data columns (total 16 columns):\n",
      " #   Column           Non-Null Count  Dtype  \n",
      "---  ------           --------------  -----  \n",
      " 0   brand            590 non-null    object \n",
      " 1   product_url      590 non-null    object \n",
      " 2   image_url        590 non-null    object \n",
      " 3   collection       590 non-null    object \n",
      " 4   reference        590 non-null    object \n",
      " 5   price            590 non-null    float64\n",
      " 6   currency         590 non-null    object \n",
      " 7   country          590 non-null    object \n",
      " 8   year             590 non-null    int64  \n",
      " 9   name             590 non-null    object \n",
      " 10  availability     590 non-null    object \n",
      " 11  currencies_code  590 non-null    object \n",
      " 12  price_USD        590 non-null    float64\n",
      " 13  price_EUR        590 non-null    float64\n",
      " 14  price_GBP        590 non-null    float64\n",
      " 15  price_JPY        590 non-null    float64\n",
      "dtypes: float64(5), int64(1), object(10)\n",
      "memory usage: 78.4+ KB\n"
     ]
    }
   ],
   "source": [
    "data.info()"
   ]
  },
  {
   "cell_type": "markdown",
   "id": "0c5d0579",
   "metadata": {},
   "source": [
    "## 5. Data Analysis"
   ]
  },
  {
   "cell_type": "markdown",
   "id": "44d9174f",
   "metadata": {},
   "source": [
    "#### 5.1. Function to analyze descriptive statistics for a given country"
   ]
  },
  {
   "cell_type": "code",
   "execution_count": 228,
   "id": "3afadb3f",
   "metadata": {},
   "outputs": [],
   "source": [
    "def describe_country(data, country):\n",
    "    data_country = data[data[\"country\"] == country]\n",
    "    data_country_stats = data_country.describe(include=\"object\")\n",
    "    \n",
    "    # Extract number of rows\n",
    "    number_rows = data_country_stats[\"brand\"].unique()[0]\n",
    "    \n",
    "    # Extract collection details\n",
    "    number_unique_collections = data_country_stats[\"collection\"].unique()[1]\n",
    "    top_collection = data_country_stats[\"collection\"].unique()[2]\n",
    "    \n",
    "    # Extract reference details\n",
    "    number_unique_references = data_country_stats[\"reference\"].unique()[0]\n",
    "    top_reference = data_country_stats[\"reference\"].unique()[1]\n",
    "    \n",
    "    # Extract collection list\n",
    "    collection_list = data_country[\"collection\"].unique()\n",
    "    \n",
    "    return number_rows, number_unique_collections, top_collection, number_unique_references, top_reference, collection_list\n"
   ]
  },
  {
   "cell_type": "markdown",
   "id": "1d959015",
   "metadata": {},
   "source": [
    "#### 5.2. "
   ]
  },
  {
   "cell_type": "code",
   "execution_count": 234,
   "id": "260e44d0",
   "metadata": {},
   "outputs": [],
   "source": [
    "def collection_visualization(data, country):\n",
    "    data_country = data[data[\"country\"] == country]\n",
    "    # Choose a color palette\n",
    "    palette = sns.color_palette(\"pastel\")  # You can choose different palettes like \"deep\", \"pastel\", etc.\n",
    "\n",
    "    # Create the count plot\n",
    "    ax = sns.countplot(x=\"collection\", data=data_country, palette=palette)\n",
    "\n",
    "    # Add the count value on top of each bar\n",
    "    for p in ax.patches:\n",
    "        ax.annotate(f'{p.get_height()}', \n",
    "                    (p.get_x() + p.get_width() / 2., p.get_y() + p.get_height() / 2.), \n",
    "                    ha='center', va='center', \n",
    "                    fontsize=10, color='black', \n",
    "                    xytext=(0, 5), textcoords='offset points')\n",
    "\n",
    "    # Rotate x-axis labels for better readability\n",
    "    plt.xticks(rotation=45)\n",
    "\n",
    "    # Labels and title\n",
    "    plt.xlabel(\"Collection\")\n",
    "    plt.ylabel(\"Watch Count\")\n",
    "    plt.title(f\"Watch Count per Collection in {country}\")\n",
    "\n",
    "    # Show the plot\n",
    "    return plt.show()"
   ]
  },
  {
   "cell_type": "markdown",
   "id": "0de39521",
   "metadata": {},
   "source": [
    "#### 5.3. Function to analyze the cheapest and most expensive products for a given country"
   ]
  },
  {
   "cell_type": "code",
   "execution_count": 235,
   "id": "744276a5",
   "metadata": {},
   "outputs": [],
   "source": [
    "def analyze_country(data, country):\n",
    "    data_country = data[data[\"country\"] == country]\n",
    "    \n",
    "    # Identify the cheapest and most expensive product in the whole subset\n",
    "    cheapest_product_data = data_country.nsmallest(1, 'price')\n",
    "    most_expensive_product_data = data_country.nlargest(1, 'price')\n",
    "    \n",
    "    overall_stats = {\n",
    "        \"cheapest\": {\n",
    "            \"collection\": cheapest_product_data['collection'].values[0],\n",
    "            \"reference\": cheapest_product_data['reference'].values[0],\n",
    "            \"price\": cheapest_product_data['price'].values[0]\n",
    "        },\n",
    "        \"most_expensive\": {\n",
    "            \"collection\": most_expensive_product_data['collection'].values[0],\n",
    "            \"reference\": most_expensive_product_data['reference'].values[0],\n",
    "            \"price\": most_expensive_product_data['price'].values[0]\n",
    "        }\n",
    "    }\n",
    "    \n",
    "    # Identify the cheapest and most expensive product per collection\n",
    "    collection_stats = []\n",
    "    unique_collections = data_country[\"collection\"].unique()\n",
    "    \n",
    "    for collection in unique_collections:\n",
    "        collection_data = data_country[data_country[\"collection\"] == collection]\n",
    "        \n",
    "        cheapest_collection_data = collection_data.nsmallest(1, 'price')\n",
    "        most_expensive_collection_data = collection_data.nlargest(1, 'price')\n",
    "        \n",
    "        collection_stats.append({\n",
    "            \"collection\": collection,\n",
    "            \"cheapest\": {\n",
    "                \"reference\": cheapest_collection_data['reference'].values[0],\n",
    "                \"price\": cheapest_collection_data['price'].values[0]\n",
    "            },\n",
    "            \"most_expensive\": {\n",
    "                \"reference\": most_expensive_collection_data['reference'].values[0],\n",
    "                \"price\": most_expensive_collection_data['price'].values[0]\n",
    "            }\n",
    "        })\n",
    "    \n",
    "    return overall_stats, collection_stats"
   ]
  },
  {
   "cell_type": "markdown",
   "id": "8e6819f8",
   "metadata": {},
   "source": [
    "#### 5.4. Global analysis for a given country"
   ]
  },
  {
   "cell_type": "markdown",
   "id": "89fa0754",
   "metadata": {},
   "source": [
    "##### x 5.4.1. France"
   ]
  },
  {
   "cell_type": "code",
   "execution_count": 236,
   "id": "fd8ac586",
   "metadata": {},
   "outputs": [],
   "source": [
    "country = \"France\""
   ]
  },
  {
   "cell_type": "code",
   "execution_count": 237,
   "id": "e1f0a431",
   "metadata": {},
   "outputs": [
    {
     "name": "stdout",
     "output_type": "stream",
     "text": [
      "Number of rows: 146\n",
      "\n",
      "We have 4 collections, and Luminor is the leading one\n",
      "\n",
      "Catalog of Collections:\n",
      "1. Radiomir\n",
      "2. Luminor\n",
      "3. Submersible\n",
      "4. Luminor Due\n",
      "\n",
      "We have a Total of 146 distinct products, with PAM01570 leading the selection from Radiomir collection\n"
     ]
    }
   ],
   "source": [
    "number_rows, number_unique_collections, top_collection, number_unique_references, top_reference, collection_list = describe_country(data, country)\n",
    "\n",
    "# Number of rows\n",
    "print(f\"Number of rows: {number_rows}\")\n",
    "if number_unique_collections == 1:\n",
    "    print(f\"\\nThere is a unique collection, named {top_collection}\")\n",
    "else:\n",
    "    print(f\"\\nWe have {number_unique_collections} collections, and {top_collection} is the leading one\")\n",
    "\n",
    "# Collections list    \n",
    "print(\"\\nCatalog of Collections:\")\n",
    "print(\"\\n\".join([f\"{i+1}. {collection}\" for i, collection in enumerate(collection_list)]))\n",
    "\n",
    "# Distinct products based on Reference\n",
    "if number_unique_references == 1:\n",
    "    print(f\"\\nThere is a unique reference: {top_reference}\")\n",
    "else:\n",
    "    print(f\"\\nWe have a Total of {number_unique_references} distinct products, with {top_reference} leading the selection from {data[data['reference'] == top_reference]['collection'].values[0]} collection\")"
   ]
  },
  {
   "cell_type": "code",
   "execution_count": 238,
   "id": "384b6d30",
   "metadata": {},
   "outputs": [
    {
     "data": {
      "image/png": "[encoded data removed]",
      "text/plain": [
       "<Figure size 640x480 with 1 Axes>"
      ]
     },
     "metadata": {},
     "output_type": "display_data"
    }
   ],
   "source": [
    "collection_visualization(data, country)"
   ]
  },
  {
   "cell_type": "code",
   "execution_count": 239,
   "id": "42ce73d4",
   "metadata": {},
   "outputs": [],
   "source": [
    "overall_stats, collection_stats = analyze_country(data, country)"
   ]
  },
  {
   "cell_type": "markdown",
   "id": "debd0ba9",
   "metadata": {},
   "source": [
    "#### Identify the cheapest and most expensive product in the whole subset"
   ]
  },
  {
   "cell_type": "code",
   "execution_count": 240,
   "id": "ded5a1bf",
   "metadata": {},
   "outputs": [
    {
     "name": "stdout",
     "output_type": "stream",
     "text": [
      "\n",
      "Cheapest and most expensive product in France:\n",
      "  Cheapest -> Collection: Radiomir, Reference: PAM01383, Price: 5000.0\n",
      "  Most Expensive -> Collection: Submersible, Reference: PAM01405, Price: 195000.0\n"
     ]
    }
   ],
   "source": [
    "country = \"France\"\n",
    "overall_stats, collection_stats = analyze_country(data, country)\n",
    "\n",
    "print(f\"\\nCheapest and most expensive product in {country}:\")\n",
    "print(f\"  Cheapest -> Collection: {overall_stats['cheapest']['collection']}, Reference: {overall_stats['cheapest']['reference']}, Price: {overall_stats['cheapest']['price']}\")\n",
    "print(f\"  Most Expensive -> Collection: {overall_stats['most_expensive']['collection']}, Reference: {overall_stats['most_expensive']['reference']}, Price: {overall_stats['most_expensive']['price']}\")"
   ]
  },
  {
   "cell_type": "markdown",
   "id": "ec64b412",
   "metadata": {},
   "source": [
    "#### Identify the cheapest and most expensive product per collection"
   ]
  },
  {
   "cell_type": "code",
   "execution_count": 241,
   "id": "356e10db",
   "metadata": {},
   "outputs": [
    {
     "name": "stdout",
     "output_type": "stream",
     "text": [
      "Collection: Radiomir\n",
      "  Cheapest -> Reference: PAM01383, Price: 5000.0\n",
      "  Most Expensive -> Reference: PAM01284, Price: 170000.0\n",
      "\n",
      "--------------------------------------------------\n",
      "\n",
      "Collection: Luminor\n",
      "  Cheapest -> Reference: PAM01623, Price: 5700.0\n",
      "  Most Expensive -> Reference: PAM01060, Price: 189000.0\n",
      "\n",
      "--------------------------------------------------\n",
      "\n",
      "Collection: Submersible\n",
      "  Cheapest -> Reference: PAM01590, Price: 9700.0\n",
      "  Most Expensive -> Reference: PAM01405, Price: 195000.0\n",
      "\n",
      "--------------------------------------------------\n",
      "\n",
      "Collection: Luminor Due\n",
      "  Cheapest -> Reference: PAM01248, Price: 7000.0\n",
      "  Most Expensive -> Reference: PAM01494, Price: 42000.0\n",
      "\n",
      "--------------------------------------------------\n",
      "\n"
     ]
    }
   ],
   "source": [
    "for stat in collection_stats:\n",
    "    print(f\"Collection: {stat['collection']}\")\n",
    "    print(f\"  Cheapest -> Reference: {stat['cheapest']['reference']}, Price: {stat['cheapest']['price']}\")\n",
    "    print(f\"  Most Expensive -> Reference: {stat['most_expensive']['reference']}, Price: {stat['most_expensive']['price']}\")\n",
    "    print(\"\\n\"+\"-\"*50+\"\\n\")"
   ]
  },
  {
   "cell_type": "markdown",
   "id": "08371bb8",
   "metadata": {},
   "source": [
    "##### x 5.4.2. UK"
   ]
  },
  {
   "cell_type": "code",
   "execution_count": 242,
   "id": "98547779",
   "metadata": {},
   "outputs": [],
   "source": [
    "country = \"UK\""
   ]
  },
  {
   "cell_type": "code",
   "execution_count": 243,
   "id": "05c1b399",
   "metadata": {},
   "outputs": [
    {
     "name": "stdout",
     "output_type": "stream",
     "text": [
      "Number of rows: 148\n",
      "\n",
      "We have 4 collections, and Luminor is the leading one\n",
      "\n",
      "Catalog of Collections:\n",
      "1. Radiomir\n",
      "2. Luminor\n",
      "3. Submersible\n",
      "4. Luminor Due\n",
      "\n",
      "We have a Total of 148 distinct products, with PAM01570 leading the selection from Radiomir collection\n"
     ]
    }
   ],
   "source": [
    "number_rows, number_unique_collections, top_collection, number_unique_references, top_reference, collection_list = describe_country(data, country)\n",
    "\n",
    "# Number of rows\n",
    "print(f\"Number of rows: {number_rows}\")\n",
    "if number_unique_collections == 1:\n",
    "    print(f\"\\nThere is a unique collection, named {top_collection}\")\n",
    "else:\n",
    "    print(f\"\\nWe have {number_unique_collections} collections, and {top_collection} is the leading one\")\n",
    "\n",
    "# Collections list    \n",
    "print(\"\\nCatalog of Collections:\")\n",
    "print(\"\\n\".join([f\"{i+1}. {collection}\" for i, collection in enumerate(collection_list)]))\n",
    "\n",
    "# Distinct products based on Reference\n",
    "if number_unique_references == 1:\n",
    "    print(f\"\\nThere is a unique reference: {top_reference}\")\n",
    "else:\n",
    "    print(f\"\\nWe have a Total of {number_unique_references} distinct products, with {top_reference} leading the selection from {data[data['reference'] == top_reference]['collection'].values[0]} collection\")"
   ]
  },
  {
   "cell_type": "code",
   "execution_count": 244,
   "id": "c8b07298",
   "metadata": {},
   "outputs": [
    {
     "data": {
      "image/png": "[encoded data removed]",
      "text/plain": [
       "<Figure size 640x480 with 1 Axes>"
      ]
     },
     "metadata": {},
     "output_type": "display_data"
    }
   ],
   "source": [
    "collection_visualization(data, country)"
   ]
  },
  {
   "cell_type": "code",
   "execution_count": 173,
   "id": "89596a68",
   "metadata": {},
   "outputs": [],
   "source": [
    "overall_stats, collection_stats = analyze_country(data, country)"
   ]
  },
  {
   "cell_type": "code",
   "execution_count": 174,
   "id": "226dc1a7",
   "metadata": {},
   "outputs": [
    {
     "name": "stdout",
     "output_type": "stream",
     "text": [
      "\n",
      "Cheapest and most expensive product in UK:\n",
      "  Cheapest -> Collection: Radiomir, Reference: PAM01383, Price: 4300.0\n",
      "  Most Expensive -> Collection: Luminor, Reference: PAM00920, Price: 185900.0\n"
     ]
    }
   ],
   "source": [
    "print(f\"\\nCheapest and most expensive product in {country}:\")\n",
    "print(f\"  Cheapest -> Collection: {overall_stats['cheapest']['collection']}, Reference: {overall_stats['cheapest']['reference']}, Price: {overall_stats['cheapest']['price']}\")\n",
    "print(f\"  Most Expensive -> Collection: {overall_stats['most_expensive']['collection']}, Reference: {overall_stats['most_expensive']['reference']}, Price: {overall_stats['most_expensive']['price']}\")"
   ]
  },
  {
   "cell_type": "code",
   "execution_count": 175,
   "id": "106d5c05",
   "metadata": {},
   "outputs": [
    {
     "name": "stdout",
     "output_type": "stream",
     "text": [
      "Collection: Radiomir\n",
      "  Cheapest -> Reference: PAM01383, Price: 4300.0\n",
      "  Most Expensive -> Reference: PAM01284, Price: 117100.0\n",
      "\n",
      "--------------------------------------------------\n",
      "\n",
      "Collection: Luminor\n",
      "  Cheapest -> Reference: PAM01623, Price: 4900.0\n",
      "  Most Expensive -> Reference: PAM00920, Price: 185900.0\n",
      "\n",
      "--------------------------------------------------\n",
      "\n",
      "Collection: Submersible\n",
      "  Cheapest -> Reference: PAM01590, Price: 8200.0\n",
      "  Most Expensive -> Reference: PAM01405, Price: 134300.0\n",
      "\n",
      "--------------------------------------------------\n",
      "\n",
      "Collection: Luminor Due\n",
      "  Cheapest -> Reference: PAM01248, Price: 6000.0\n",
      "  Most Expensive -> Reference: PAM01494, Price: 35500.0\n",
      "\n",
      "--------------------------------------------------\n",
      "\n"
     ]
    }
   ],
   "source": [
    "for stat in collection_stats:\n",
    "    print(f\"Collection: {stat['collection']}\")\n",
    "    print(f\"  Cheapest -> Reference: {stat['cheapest']['reference']}, Price: {stat['cheapest']['price']}\")\n",
    "    print(f\"  Most Expensive -> Reference: {stat['most_expensive']['reference']}, Price: {stat['most_expensive']['price']}\")\n",
    "    print(\"\\n\"+\"-\"*50+\"\\n\")"
   ]
  },
  {
   "cell_type": "markdown",
   "id": "8c124694",
   "metadata": {},
   "source": [
    "#### 4.2.3. Japan"
   ]
  },
  {
   "cell_type": "code",
   "execution_count": 245,
   "id": "25b7a6de",
   "metadata": {},
   "outputs": [],
   "source": [
    "country = \"Japan\""
   ]
  },
  {
   "cell_type": "code",
   "execution_count": 246,
   "id": "26455680",
   "metadata": {},
   "outputs": [
    {
     "name": "stdout",
     "output_type": "stream",
     "text": [
      "Number of rows: 147\n",
      "\n",
      "We have 4 collections, and Luminor is the leading one\n",
      "\n",
      "Catalog of Collections:\n",
      "1. Radiomir\n",
      "2. Luminor\n",
      "3. Submersible\n",
      "4. Luminor Due\n",
      "\n",
      "We have a Total of 147 distinct products, with PAM01570 leading the selection from Radiomir collection\n"
     ]
    }
   ],
   "source": [
    "number_rows, number_unique_collections, top_collection, number_unique_references, top_reference, collection_list = describe_country(data, country)\n",
    "\n",
    "# Number of rows\n",
    "print(f\"Number of rows: {number_rows}\")\n",
    "if number_unique_collections == 1:\n",
    "    print(f\"\\nThere is a unique collection, named {top_collection}\")\n",
    "else:\n",
    "    print(f\"\\nWe have {number_unique_collections} collections, and {top_collection} is the leading one\")\n",
    "\n",
    "# Collections list    \n",
    "print(\"\\nCatalog of Collections:\")\n",
    "print(\"\\n\".join([f\"{i+1}. {collection}\" for i, collection in enumerate(collection_list)]))\n",
    "\n",
    "# Distinct products based on Reference\n",
    "if number_unique_references == 1:\n",
    "    print(f\"\\nThere is a unique reference: {top_reference}\")\n",
    "else:\n",
    "    print(f\"\\nWe have a Total of {number_unique_references} distinct products, with {top_reference} leading the selection from {data[data['reference'] == top_reference]['collection'].values[0]} collection\")"
   ]
  },
  {
   "cell_type": "code",
   "execution_count": 247,
   "id": "3982a739",
   "metadata": {},
   "outputs": [
    {
     "data": {
      "image/png": "[encoded data removed]",
      "text/plain": [
       "<Figure size 640x480 with 1 Axes>"
      ]
     },
     "metadata": {},
     "output_type": "display_data"
    }
   ],
   "source": [
    "collection_visualization(data, country)"
   ]
  },
  {
   "cell_type": "code",
   "execution_count": 248,
   "id": "43f6435d",
   "metadata": {},
   "outputs": [],
   "source": [
    "overall_stats, collection_stats = analyze_country(data, country)"
   ]
  },
  {
   "cell_type": "code",
   "execution_count": 249,
   "id": "c3093fc7",
   "metadata": {},
   "outputs": [
    {
     "name": "stdout",
     "output_type": "stream",
     "text": [
      "\n",
      "Cheapest and most expensive product in Japan:\n",
      "  Cheapest -> Collection: Radiomir, Reference: PAM01383, Price: 748000.0\n",
      "  Most Expensive -> Collection: Luminor, Reference: PAM00920, Price: 40271000.0\n"
     ]
    }
   ],
   "source": [
    "print(f\"\\nCheapest and most expensive product in {country}:\")\n",
    "print(f\"  Cheapest -> Collection: {overall_stats['cheapest']['collection']}, Reference: {overall_stats['cheapest']['reference']}, Price: {overall_stats['cheapest']['price']}\")\n",
    "print(f\"  Most Expensive -> Collection: {overall_stats['most_expensive']['collection']}, Reference: {overall_stats['most_expensive']['reference']}, Price: {overall_stats['most_expensive']['price']}\")"
   ]
  },
  {
   "cell_type": "code",
   "execution_count": 250,
   "id": "10456dc4",
   "metadata": {},
   "outputs": [
    {
     "name": "stdout",
     "output_type": "stream",
     "text": [
      "Collection: Radiomir\n",
      "  Cheapest -> Reference: PAM01383, Price: 748000.0\n",
      "  Most Expensive -> Reference: PAM01284, Price: 25355000.0\n",
      "\n",
      "--------------------------------------------------\n",
      "\n",
      "Collection: Luminor\n",
      "  Cheapest -> Reference: PAM01623, Price: 847000.0\n",
      "  Most Expensive -> Reference: PAM00920, Price: 40271000.0\n",
      "\n",
      "--------------------------------------------------\n",
      "\n",
      "Collection: Submersible\n",
      "  Cheapest -> Reference: PAM01590, Price: 1441000.0\n",
      "  Most Expensive -> Reference: PAM01405, Price: 29084000.0\n",
      "\n",
      "--------------------------------------------------\n",
      "\n",
      "Collection: Luminor Due\n",
      "  Cheapest -> Reference: PAM01248, Price: 1045000.0\n",
      "  Most Expensive -> Reference: PAM01494, Price: 6215000.0\n",
      "\n",
      "--------------------------------------------------\n",
      "\n"
     ]
    }
   ],
   "source": [
    "for stat in collection_stats:\n",
    "    print(f\"Collection: {stat['collection']}\")\n",
    "    print(f\"  Cheapest -> Reference: {stat['cheapest']['reference']}, Price: {stat['cheapest']['price']}\")\n",
    "    print(f\"  Most Expensive -> Reference: {stat['most_expensive']['reference']}, Price: {stat['most_expensive']['price']}\")\n",
    "    print(\"\\n\"+\"-\"*50+\"\\n\")"
   ]
  },
  {
   "cell_type": "markdown",
   "id": "cd218fcb",
   "metadata": {},
   "source": [
    "#### 4.2.4. USA"
   ]
  },
  {
   "cell_type": "code",
   "execution_count": 251,
   "id": "8dd71b0a",
   "metadata": {},
   "outputs": [],
   "source": [
    "country = \"USA\""
   ]
  },
  {
   "cell_type": "code",
   "execution_count": 252,
   "id": "77757a71",
   "metadata": {},
   "outputs": [
    {
     "name": "stdout",
     "output_type": "stream",
     "text": [
      "Number of rows: 149\n",
      "\n",
      "We have 4 collections, and Luminor is the leading one\n",
      "\n",
      "Catalog of Collections:\n",
      "1. Radiomir\n",
      "2. Luminor\n",
      "3. Submersible\n",
      "4. Luminor Due\n",
      "\n",
      "We have a Total of 149 distinct products, with PAM01570 leading the selection from Radiomir collection\n"
     ]
    }
   ],
   "source": [
    "number_rows, number_unique_collections, top_collection, number_unique_references, top_reference, collection_list = describe_country(data, country)\n",
    "\n",
    "# Number of rows\n",
    "print(f\"Number of rows: {number_rows}\")\n",
    "if number_unique_collections == 1:\n",
    "    print(f\"\\nThere is a unique collection, named {top_collection}\")\n",
    "else:\n",
    "    print(f\"\\nWe have {number_unique_collections} collections, and {top_collection} is the leading one\")\n",
    "\n",
    "# Collections list    \n",
    "print(\"\\nCatalog of Collections:\")\n",
    "print(\"\\n\".join([f\"{i+1}. {collection}\" for i, collection in enumerate(collection_list)]))\n",
    "\n",
    "# Distinct products based on Reference\n",
    "if number_unique_references == 1:\n",
    "    print(f\"\\nThere is a unique reference: {top_reference}\")\n",
    "else:\n",
    "    print(f\"\\nWe have a Total of {number_unique_references} distinct products, with {top_reference} leading the selection from {data[data['reference'] == top_reference]['collection'].values[0]} collection\")"
   ]
  },
  {
   "cell_type": "code",
   "execution_count": 253,
   "id": "5e0e1622",
   "metadata": {},
   "outputs": [
    {
     "data": {
      "image/png": "[encoded data removed]",
      "text/plain": [
       "<Figure size 640x480 with 1 Axes>"
      ]
     },
     "metadata": {},
     "output_type": "display_data"
    }
   ],
   "source": [
    "collection_visualization(data, country)"
   ]
  },
  {
   "cell_type": "code",
   "execution_count": 254,
   "id": "130313ed",
   "metadata": {},
   "outputs": [],
   "source": [
    "overall_stats, collection_stats = analyze_country(data, country)"
   ]
  },
  {
   "cell_type": "code",
   "execution_count": 255,
   "id": "22572c37",
   "metadata": {},
   "outputs": [
    {
     "name": "stdout",
     "output_type": "stream",
     "text": [
      "\n",
      "Cheapest and most expensive product in USA:\n",
      "  Cheapest -> Collection: Radiomir, Reference: PAM01383, Price: 4900.0\n",
      "  Most Expensive -> Collection: Radiomir, Reference: PAM00600, Price: 396800.0\n"
     ]
    }
   ],
   "source": [
    "print(f\"\\nCheapest and most expensive product in {country}:\")\n",
    "print(f\"  Cheapest -> Collection: {overall_stats['cheapest']['collection']}, Reference: {overall_stats['cheapest']['reference']}, Price: {overall_stats['cheapest']['price']}\")\n",
    "print(f\"  Most Expensive -> Collection: {overall_stats['most_expensive']['collection']}, Reference: {overall_stats['most_expensive']['reference']}, Price: {overall_stats['most_expensive']['price']}\")"
   ]
  },
  {
   "cell_type": "code",
   "execution_count": 256,
   "id": "79df3158",
   "metadata": {},
   "outputs": [
    {
     "name": "stdout",
     "output_type": "stream",
     "text": [
      "Collection: Radiomir\n",
      "  Cheapest -> Reference: PAM01383, Price: 4900.0\n",
      "  Most Expensive -> Reference: PAM00600, Price: 396800.0\n",
      "\n",
      "--------------------------------------------------\n",
      "\n",
      "Collection: Luminor\n",
      "  Cheapest -> Reference: PAM01623, Price: 5600.0\n",
      "  Most Expensive -> Reference: PAM00920, Price: 232900.0\n",
      "\n",
      "--------------------------------------------------\n",
      "\n",
      "Collection: Submersible\n",
      "  Cheapest -> Reference: PAM01590, Price: 9500.0\n",
      "  Most Expensive -> Reference: PAM01405, Price: 168200.0\n",
      "\n",
      "--------------------------------------------------\n",
      "\n",
      "Collection: Luminor Due\n",
      "  Cheapest -> Reference: PAM01248, Price: 6900.0\n",
      "  Most Expensive -> Reference: PAM01494, Price: 41200.0\n",
      "\n",
      "--------------------------------------------------\n",
      "\n"
     ]
    }
   ],
   "source": [
    "for stat in collection_stats:\n",
    "    print(f\"Collection: {stat['collection']}\")\n",
    "    print(f\"  Cheapest -> Reference: {stat['cheapest']['reference']}, Price: {stat['cheapest']['price']}\")\n",
    "    print(f\"  Most Expensive -> Reference: {stat['most_expensive']['reference']}, Price: {stat['most_expensive']['price']}\")\n",
    "    print(\"\\n\"+\"-\"*50+\"\\n\")"
   ]
  },
  {
   "cell_type": "code",
   "execution_count": null,
   "id": "c979d618",
   "metadata": {},
   "outputs": [],
   "source": []
  },
  {
   "cell_type": "code",
   "execution_count": null,
   "id": "65fead61",
   "metadata": {},
   "outputs": [],
   "source": []
  },
  {
   "cell_type": "code",
   "execution_count": null,
   "id": "efbce4b7",
   "metadata": {},
   "outputs": [],
   "source": []
  },
  {
   "cell_type": "code",
   "execution_count": null,
   "id": "fc0458b2",
   "metadata": {},
   "outputs": [],
   "source": []
  },
  {
   "cell_type": "code",
   "execution_count": null,
   "id": "27500041",
   "metadata": {},
   "outputs": [],
   "source": []
  },
  {
   "cell_type": "code",
   "execution_count": null,
   "id": "745769f3",
   "metadata": {},
   "outputs": [],
   "source": []
  },
  {
   "cell_type": "code",
   "execution_count": null,
   "id": "0fbe9e12",
   "metadata": {},
   "outputs": [],
   "source": []
  },
  {
   "cell_type": "code",
   "execution_count": null,
   "id": "0b2e3dee",
   "metadata": {},
   "outputs": [],
   "source": []
  },
  {
   "cell_type": "code",
   "execution_count": null,
   "id": "7c27f98d",
   "metadata": {},
   "outputs": [],
   "source": []
  },
  {
   "cell_type": "code",
   "execution_count": null,
   "id": "bfc4a366",
   "metadata": {},
   "outputs": [],
   "source": []
  },
  {
   "cell_type": "code",
   "execution_count": null,
   "id": "ffeb6bc2",
   "metadata": {},
   "outputs": [],
   "source": []
  },
  {
   "cell_type": "code",
   "execution_count": null,
   "id": "14af6e5e",
   "metadata": {},
   "outputs": [],
   "source": []
  },
  {
   "cell_type": "code",
   "execution_count": null,
   "id": "224cc4f4",
   "metadata": {},
   "outputs": [],
   "source": []
  },
  {
   "cell_type": "code",
   "execution_count": 129,
   "id": "41fe43b2",
   "metadata": {},
   "outputs": [
    {
     "name": "stdout",
     "output_type": "stream",
     "text": [
      "Requirement already satisfied: requests in c:\\users\\user_\\anaconda3\\lib\\site-packages (2.28.1)\n",
      "Requirement already satisfied: idna<4,>=2.5 in c:\\users\\user_\\anaconda3\\lib\\site-packages (from requests) (3.3)\n",
      "Requirement already satisfied: charset-normalizer<3,>=2 in c:\\users\\user_\\anaconda3\\lib\\site-packages (from requests) (2.0.4)\n",
      "Requirement already satisfied: certifi>=2017.4.17 in c:\\users\\user_\\anaconda3\\lib\\site-packages (from requests) (2022.9.14)\n",
      "Requirement already satisfied: urllib3<1.27,>=1.21.1 in c:\\users\\user_\\anaconda3\\lib\\site-packages (from requests) (1.26.11)\n",
      "Note: you may need to restart the kernel to use updated packages.\n"
     ]
    }
   ],
   "source": [
    "pip install requests"
   ]
  },
  {
   "cell_type": "code",
   "execution_count": 188,
   "id": "0ef98251",
   "metadata": {},
   "outputs": [],
   "source": [
    "# import requests\n",
    "\n",
    "# def get_exchange_rate(from_currency: str, to_currency: str) -> float:\n",
    "#     \"\"\"\n",
    "#     Fetches real-time exchange rates using ExchangeRate-API.\n",
    "    \n",
    "#     Args:\n",
    "#         from_currency (str): Base currency (e.g., 'USD').\n",
    "#         to_currency (str): Target currency (e.g., 'EUR').\n",
    "\n",
    "#     Returns:\n",
    "#         float: Exchange rate from 'from_currency' to 'to_currency'.\n",
    "#     \"\"\"\n",
    "#     API_KEY = \"af4387cea9cdccb108b76719\"  # Get a free API key from https://www.exchangerate-api.com/\n",
    "#     url = f\"https://v6.exchangerate-api.com/v6/{API_KEY}/latest/{from_currency.upper()}\"\n",
    "\n",
    "#     try:\n",
    "#         response = requests.get(url)\n",
    "#         response.raise_for_status()  # Raise an error for bad responses (4xx, 5xx)\n",
    "#         data = response.json()\n",
    "\n",
    "#         if \"conversion_rates\" not in data:\n",
    "#             raise ValueError(\"Invalid API response\")\n",
    "\n",
    "#         return data[\"conversion_rates\"].get(to_currency.upper(), \"Currency not found\")\n",
    "\n",
    "#     except requests.exceptions.RequestException as e:\n",
    "#         print(f\"Network error: {e}\")\n",
    "#     except ValueError as e:\n",
    "#         print(f\"Data error: {e}\")\n",
    "\n",
    "#     return None"
   ]
  },
  {
   "cell_type": "code",
   "execution_count": 189,
   "id": "05be2af4",
   "metadata": {},
   "outputs": [],
   "source": [
    "# currencies_code = {\"$\" : \"USD\", \"€\": \"EUR\", \"£\": \"GBP\", \"￥\": \"JPN\"}"
   ]
  },
  {
   "cell_type": "code",
   "execution_count": null,
   "id": "6b4f2709",
   "metadata": {},
   "outputs": [],
   "source": []
  },
  {
   "cell_type": "code",
   "execution_count": 229,
   "id": "d5759771",
   "metadata": {},
   "outputs": [],
   "source": []
  },
  {
   "cell_type": "code",
   "execution_count": 230,
   "id": "83c7d008",
   "metadata": {},
   "outputs": [
    {
     "data": {
      "text/html": [
       "<div>\n",
       "<style scoped>\n",
       "    .dataframe tbody tr th:only-of-type {\n",
       "        vertical-align: middle;\n",
       "    }\n",
       "\n",
       "    .dataframe tbody tr th {\n",
       "        vertical-align: top;\n",
       "    }\n",
       "\n",
       "    .dataframe thead th {\n",
       "        text-align: right;\n",
       "    }\n",
       "</style>\n",
       "<table border=\"1\" class=\"dataframe\">\n",
       "  <thead>\n",
       "    <tr style=\"text-align: right;\">\n",
       "      <th></th>\n",
       "      <th>brand</th>\n",
       "      <th>product_url</th>\n",
       "      <th>image_url</th>\n",
       "      <th>collection</th>\n",
       "      <th>reference</th>\n",
       "      <th>price</th>\n",
       "      <th>currency</th>\n",
       "      <th>country</th>\n",
       "      <th>year</th>\n",
       "      <th>name</th>\n",
       "      <th>availability</th>\n",
       "      <th>currencies_code</th>\n",
       "      <th>price_USD</th>\n",
       "      <th>price_EUR</th>\n",
       "      <th>price_GBP</th>\n",
       "      <th>price_JPY</th>\n",
       "    </tr>\n",
       "  </thead>\n",
       "  <tbody>\n",
       "    <tr>\n",
       "      <th>0</th>\n",
       "      <td>PANERAI</td>\n",
       "      <td>https://www.panerai.com/us/en/collections/watc...</td>\n",
       "      <td>https://www.panerai.com/content/dam/rcq/pan/km...</td>\n",
       "      <td>Radiomir</td>\n",
       "      <td>PAM01570</td>\n",
       "      <td>6000.0</td>\n",
       "      <td>$</td>\n",
       "      <td>USA</td>\n",
       "      <td>2025</td>\n",
       "      <td>Radiomir Quaranta</td>\n",
       "      <td>Available</td>\n",
       "      <td>USD</td>\n",
       "      <td>6000.0</td>\n",
       "      <td>5719.20</td>\n",
       "      <td>4734.60</td>\n",
       "      <td>894272.40</td>\n",
       "    </tr>\n",
       "    <tr>\n",
       "      <th>1</th>\n",
       "      <td>PANERAI</td>\n",
       "      <td>https://www.panerai.com/us/en/collections/watc...</td>\n",
       "      <td>https://www.panerai.com/content/dam/rcq/pan/Ot...</td>\n",
       "      <td>Radiomir</td>\n",
       "      <td>PAM01571</td>\n",
       "      <td>6000.0</td>\n",
       "      <td>$</td>\n",
       "      <td>USA</td>\n",
       "      <td>2025</td>\n",
       "      <td>Radiomir Quaranta</td>\n",
       "      <td>Available</td>\n",
       "      <td>USD</td>\n",
       "      <td>6000.0</td>\n",
       "      <td>5719.20</td>\n",
       "      <td>4734.60</td>\n",
       "      <td>894272.40</td>\n",
       "    </tr>\n",
       "    <tr>\n",
       "      <th>2</th>\n",
       "      <td>PANERAI</td>\n",
       "      <td>https://www.panerai.com/us/en/collections/watc...</td>\n",
       "      <td>https://www.panerai.com/content/dam/rcq/pan/lz...</td>\n",
       "      <td>Radiomir</td>\n",
       "      <td>PAM01572</td>\n",
       "      <td>6000.0</td>\n",
       "      <td>$</td>\n",
       "      <td>USA</td>\n",
       "      <td>2025</td>\n",
       "      <td>Radiomir Quaranta</td>\n",
       "      <td>Available</td>\n",
       "      <td>USD</td>\n",
       "      <td>6000.0</td>\n",
       "      <td>5719.20</td>\n",
       "      <td>4734.60</td>\n",
       "      <td>894272.40</td>\n",
       "    </tr>\n",
       "    <tr>\n",
       "      <th>3</th>\n",
       "      <td>PANERAI</td>\n",
       "      <td>https://www.panerai.com/us/en/collections/watc...</td>\n",
       "      <td>https://www.panerai.com/content/dam/rcq/pan/iY...</td>\n",
       "      <td>Radiomir</td>\n",
       "      <td>PAM01573</td>\n",
       "      <td>6000.0</td>\n",
       "      <td>$</td>\n",
       "      <td>USA</td>\n",
       "      <td>2025</td>\n",
       "      <td>Radiomir Quaranta</td>\n",
       "      <td>Available</td>\n",
       "      <td>USD</td>\n",
       "      <td>6000.0</td>\n",
       "      <td>5719.20</td>\n",
       "      <td>4734.60</td>\n",
       "      <td>894272.40</td>\n",
       "    </tr>\n",
       "    <tr>\n",
       "      <th>4</th>\n",
       "      <td>PANERAI</td>\n",
       "      <td>https://www.panerai.com/us/en/collections/watc...</td>\n",
       "      <td>https://www.panerai.com/content/dam/rcq/pan/bc...</td>\n",
       "      <td>Radiomir</td>\n",
       "      <td>PAM01385</td>\n",
       "      <td>5400.0</td>\n",
       "      <td>$</td>\n",
       "      <td>USA</td>\n",
       "      <td>2025</td>\n",
       "      <td>Radiomir Officine</td>\n",
       "      <td>Out of Stock</td>\n",
       "      <td>USD</td>\n",
       "      <td>5400.0</td>\n",
       "      <td>5147.28</td>\n",
       "      <td>4261.14</td>\n",
       "      <td>804845.16</td>\n",
       "    </tr>\n",
       "  </tbody>\n",
       "</table>\n",
       "</div>"
      ],
      "text/plain": [
       "     brand                                        product_url  \\\n",
       "0  PANERAI  https://www.panerai.com/us/en/collections/watc...   \n",
       "1  PANERAI  https://www.panerai.com/us/en/collections/watc...   \n",
       "2  PANERAI  https://www.panerai.com/us/en/collections/watc...   \n",
       "3  PANERAI  https://www.panerai.com/us/en/collections/watc...   \n",
       "4  PANERAI  https://www.panerai.com/us/en/collections/watc...   \n",
       "\n",
       "                                           image_url collection reference  \\\n",
       "0  https://www.panerai.com/content/dam/rcq/pan/km...   Radiomir  PAM01570   \n",
       "1  https://www.panerai.com/content/dam/rcq/pan/Ot...   Radiomir  PAM01571   \n",
       "2  https://www.panerai.com/content/dam/rcq/pan/lz...   Radiomir  PAM01572   \n",
       "3  https://www.panerai.com/content/dam/rcq/pan/iY...   Radiomir  PAM01573   \n",
       "4  https://www.panerai.com/content/dam/rcq/pan/bc...   Radiomir  PAM01385   \n",
       "\n",
       "    price currency country  year               name  availability  \\\n",
       "0  6000.0        $     USA  2025  Radiomir Quaranta     Available   \n",
       "1  6000.0        $     USA  2025  Radiomir Quaranta     Available   \n",
       "2  6000.0        $     USA  2025  Radiomir Quaranta     Available   \n",
       "3  6000.0        $     USA  2025  Radiomir Quaranta     Available   \n",
       "4  5400.0        $     USA  2025  Radiomir Officine  Out of Stock   \n",
       "\n",
       "  currencies_code  price_USD  price_EUR  price_GBP  price_JPY  \n",
       "0             USD     6000.0    5719.20    4734.60  894272.40  \n",
       "1             USD     6000.0    5719.20    4734.60  894272.40  \n",
       "2             USD     6000.0    5719.20    4734.60  894272.40  \n",
       "3             USD     6000.0    5719.20    4734.60  894272.40  \n",
       "4             USD     5400.0    5147.28    4261.14  804845.16  "
      ]
     },
     "execution_count": 230,
     "metadata": {},
     "output_type": "execute_result"
    }
   ],
   "source": [
    "data.head()"
   ]
  },
  {
   "cell_type": "code",
   "execution_count": 231,
   "id": "885673ab",
   "metadata": {},
   "outputs": [],
   "source": [
    "data.to_csv(\"gold_data.csv\", index=False)"
   ]
  },
  {
   "cell_type": "code",
   "execution_count": null,
   "id": "3dfaeaf3",
   "metadata": {},
   "outputs": [],
   "source": []
  },
  {
   "cell_type": "code",
   "execution_count": null,
   "id": "14cd158f",
   "metadata": {},
   "outputs": [],
   "source": []
  },
  {
   "cell_type": "code",
   "execution_count": null,
   "id": "65fe0c46",
   "metadata": {},
   "outputs": [],
   "source": []
  },
  {
   "cell_type": "code",
   "execution_count": null,
   "id": "f27be69c",
   "metadata": {},
   "outputs": [],
   "source": []
  },
  {
   "cell_type": "code",
   "execution_count": null,
   "id": "35d2b990",
   "metadata": {},
   "outputs": [],
   "source": []
  },
  {
   "cell_type": "code",
   "execution_count": 259,
   "id": "9fc7b6d6",
   "metadata": {},
   "outputs": [],
   "source": [
    "def get_exchange_rate(from_currency: str, to_currency: str) -> float:\n",
    "    \"\"\"\n",
    "    Fetches real-time exchange rates using ExchangeRate-API.\n",
    "    \n",
    "    Args:\n",
    "        from_currency (str): Base currency (e.g., 'USD').\n",
    "        to_currency (str): Target currency (e.g., 'EUR').\n",
    "\n",
    "    Returns:\n",
    "        float: Exchange rate from 'from_currency' to 'to_currency'.\n",
    "    \"\"\"\n",
    "    # Same currency, return 1.0\n",
    "    if from_currency.upper() == to_currency.upper():\n",
    "        return 1.0\n",
    "        \n",
    "    load_dotenv()\n",
    "\n",
    "    # Get API key from .env file\n",
    "    API_KEY = os.getenv(\"EXCHANGE_API_KEY\")\n",
    "    \n",
    "    url = f\"https://v6.exchangerate-api.com/v6/{API_KEY}/latest/{from_currency.upper()}\"\n",
    "\n",
    "    try:\n",
    "        response = requests.get(url, timeout=10)\n",
    "        response.raise_for_status()\n",
    "        data = response.json()\n",
    "        if \"conversion_rates\" not in data:\n",
    "            raise ValueError(\"Invalid API response\")\n",
    "        return data[\"conversion_rates\"].get(to_currency.upper(), None)\n",
    "    except requests.exceptions.RequestException as e:\n",
    "        log_error(f\"Network error: {e}\")\n",
    "    except ValueError as e:\n",
    "        log_error(f\"Data error: {e}\")\n",
    "    except Exception as e:\n",
    "        log_error(f\"Unexpected error fetching exchange rate: {e}\")\n",
    "    return None\n",
    "\n",
    "\n",
    "def clean_data(dataframe):\n",
    "    \"\"\"\n",
    "    Cleans the dataset by organizing columns, removing missing values, \n",
    "    removing duplicates, and standardizing price values.\n",
    "    \n",
    "    Args:\n",
    "        dataframe (pd.DataFrame): Input DataFrame containing watch product data.\n",
    "        \n",
    "    Returns:\n",
    "        pd.DataFrame: Cleaned DataFrame.\n",
    "    \"\"\"\n",
    "    \n",
    "    if dataframe.empty:\n",
    "        return dataframe\n",
    "      \n",
    "    # Make a copy to avoid modifying the original\n",
    "    df = dataframe.copy()\n",
    "    \n",
    "    # Define relevant columns and reorder\n",
    "    column_list_ref = ['brand', 'product_url', 'image_url', 'collection', \n",
    "                      'reference', 'price', 'currency', 'country', 'year']\n",
    "    remaining_columns = [col for col in df.columns if col not in column_list_ref]\n",
    "    df = df[column_list_ref + remaining_columns]\n",
    "    \n",
    "    # Remove rows with missing 'reference' or 'price'\n",
    "    df.dropna(subset=['reference', 'price'], inplace=True)\n",
    "    \n",
    "    # Remove duplicates based on 'reference' and 'country'\n",
    "    df.drop_duplicates(subset=['reference', 'country'], keep='first', inplace=True)\n",
    "\n",
    "    # Extract and clean price values\n",
    "    currencies = df['currency'].unique()\n",
    "    for currency in currencies:\n",
    "        df['price'] = df['price'].astype(str).str.replace(currency, '', regex=False)\n",
    "    df.loc[:, 'price'] = (df['price'].astype(str).str.replace(r'[\\s,]', '', regex=True).astype(float))  # # Remove spaces and commas Convert to integer\n",
    "    \n",
    "    return df\n",
    "\n",
    "def transform_data(dataframe, CURRENCIES_CODE):\n",
    "    \"\"\"\n",
    "    Transforms the dataset by mapping currency codes and converting prices \n",
    "    to different currencies.\n",
    "    \n",
    "    Args:\n",
    "        dataframe (pd.DataFrame): Cleaned DataFrame.\n",
    "        CURRENCIES_CODE (dict): Dictionary mapping currency symbols to standard codes.\n",
    "        \n",
    "    Returns:\n",
    "        pd.DataFrame: Transformed DataFrame with currency conversions.\n",
    "    \"\"\"\n",
    "    if dataframe.empty:\n",
    "        return dataframe\n",
    "        \n",
    "    # Make a copy to avoid modifying the original\n",
    "    df = dataframe.copy()\n",
    "    \n",
    "    # Map currency symbols to standard codes\n",
    "    df[\"currency_code\"] = df[\"currency\"].map(CURRENCIES_CODE)\n",
    "\n",
    "    # Convert price to all target currencies\n",
    "    for target_currency in CURRENCIES_CODE.values():\n",
    "        df[f\"price_{target_currency}\"] = df.apply(\n",
    "            lambda row: row[\"price\"] * get_exchange_rate(row[\"currency_code\"], target_currency) if row[\"currency_code\"] in CURRENCIES_CODE.values() else None,\n",
    "            axis=1\n",
    "        )\n",
    "    return df\n",
    "\n",
    "def preprocess_data(dataframe, CURRENCIES_CODE):\n",
    "    \"\"\"\n",
    "    Cleans and transforms the dataset.\n",
    "    \n",
    "    Args:\n",
    "        dataframe (pd.DataFrame): Input DataFrame containing watch product data.\n",
    "        CURRENCIES_CODE (dict): Dictionary mapping currency symbols to standard codes.\n",
    "        \n",
    "    Returns:\n",
    "        pd.DataFrame: Processed DataFrame with standardized and converted prices.\n",
    "    \"\"\"\n",
    "    # First clean the data\n",
    "    cleaned_df = clean_data(dataframe)\n",
    "\n",
    "    # Then transform the data\n",
    "    transformed_df = transform_data(cleaned_df, CURRENCIES_CODE)\n",
    "    \n",
    "    return transformed_df"
   ]
  },
  {
   "cell_type": "code",
   "execution_count": 260,
   "id": "e88df000",
   "metadata": {},
   "outputs": [
    {
     "ename": "NameError",
     "evalue": "name 'load_dotenv' is not defined",
     "output_type": "error",
     "traceback": [
      "\u001b[1;31m---------------------------------------------------------------------------\u001b[0m",
      "\u001b[1;31mNameError\u001b[0m                                 Traceback (most recent call last)",
      "\u001b[1;32m~\\AppData\\Local\\Temp\\ipykernel_784\\3617866035.py\u001b[0m in \u001b[0;36m<module>\u001b[1;34m\u001b[0m\n\u001b[0;32m      2\u001b[0m \u001b[0mCURRENCIES_CODE\u001b[0m \u001b[1;33m=\u001b[0m \u001b[1;33m{\u001b[0m\u001b[1;34m\"$\"\u001b[0m\u001b[1;33m:\u001b[0m \u001b[1;34m\"USD\"\u001b[0m\u001b[1;33m,\u001b[0m \u001b[1;34m\"€\"\u001b[0m\u001b[1;33m:\u001b[0m \u001b[1;34m\"EUR\"\u001b[0m\u001b[1;33m,\u001b[0m \u001b[1;34m\"£\"\u001b[0m\u001b[1;33m:\u001b[0m \u001b[1;34m\"GBP\"\u001b[0m\u001b[1;33m,\u001b[0m \u001b[1;34m\"¥\"\u001b[0m\u001b[1;33m:\u001b[0m \u001b[1;34m\"JPY\"\u001b[0m\u001b[1;33m}\u001b[0m\u001b[1;33m\u001b[0m\u001b[1;33m\u001b[0m\u001b[0m\n\u001b[0;32m      3\u001b[0m \u001b[1;33m\u001b[0m\u001b[0m\n\u001b[1;32m----> 4\u001b[1;33m \u001b[0mtransformed_df\u001b[0m \u001b[1;33m=\u001b[0m \u001b[0mpreprocess_data\u001b[0m\u001b[1;33m(\u001b[0m\u001b[0mdataframe\u001b[0m\u001b[1;33m,\u001b[0m \u001b[0mCURRENCIES_CODE\u001b[0m\u001b[1;33m)\u001b[0m\u001b[1;33m\u001b[0m\u001b[1;33m\u001b[0m\u001b[0m\n\u001b[0m\u001b[0;32m      5\u001b[0m \u001b[0mprint\u001b[0m\u001b[1;33m(\u001b[0m\u001b[0mtransformed_df\u001b[0m\u001b[1;33m.\u001b[0m\u001b[0mhead\u001b[0m\u001b[1;33m(\u001b[0m\u001b[1;33m)\u001b[0m\u001b[1;33m)\u001b[0m\u001b[1;33m\u001b[0m\u001b[1;33m\u001b[0m\u001b[0m\n",
      "\u001b[1;32m~\\AppData\\Local\\Temp\\ipykernel_784\\34043213.py\u001b[0m in \u001b[0;36mpreprocess_data\u001b[1;34m(dataframe, CURRENCIES_CODE)\u001b[0m\n\u001b[0;32m    119\u001b[0m \u001b[1;33m\u001b[0m\u001b[0m\n\u001b[0;32m    120\u001b[0m     \u001b[1;31m# Then transform the data\u001b[0m\u001b[1;33m\u001b[0m\u001b[1;33m\u001b[0m\u001b[0m\n\u001b[1;32m--> 121\u001b[1;33m     \u001b[0mtransformed_df\u001b[0m \u001b[1;33m=\u001b[0m \u001b[0mtransform_data\u001b[0m\u001b[1;33m(\u001b[0m\u001b[0mcleaned_df\u001b[0m\u001b[1;33m,\u001b[0m \u001b[0mCURRENCIES_CODE\u001b[0m\u001b[1;33m)\u001b[0m\u001b[1;33m\u001b[0m\u001b[1;33m\u001b[0m\u001b[0m\n\u001b[0m\u001b[0;32m    122\u001b[0m \u001b[1;33m\u001b[0m\u001b[0m\n\u001b[0;32m    123\u001b[0m     \u001b[1;32mreturn\u001b[0m \u001b[0mtransformed_df\u001b[0m\u001b[1;33m\u001b[0m\u001b[1;33m\u001b[0m\u001b[0m\n",
      "\u001b[1;32m~\\AppData\\Local\\Temp\\ipykernel_784\\34043213.py\u001b[0m in \u001b[0;36mtransform_data\u001b[1;34m(dataframe, CURRENCIES_CODE)\u001b[0m\n\u001b[0;32m     98\u001b[0m     \u001b[1;31m# Convert price to all target currencies\u001b[0m\u001b[1;33m\u001b[0m\u001b[1;33m\u001b[0m\u001b[0m\n\u001b[0;32m     99\u001b[0m     \u001b[1;32mfor\u001b[0m \u001b[0mtarget_currency\u001b[0m \u001b[1;32min\u001b[0m \u001b[0mCURRENCIES_CODE\u001b[0m\u001b[1;33m.\u001b[0m\u001b[0mvalues\u001b[0m\u001b[1;33m(\u001b[0m\u001b[1;33m)\u001b[0m\u001b[1;33m:\u001b[0m\u001b[1;33m\u001b[0m\u001b[1;33m\u001b[0m\u001b[0m\n\u001b[1;32m--> 100\u001b[1;33m         df[f\"price_{target_currency}\"] = df.apply(\n\u001b[0m\u001b[0;32m    101\u001b[0m             \u001b[1;32mlambda\u001b[0m \u001b[0mrow\u001b[0m\u001b[1;33m:\u001b[0m \u001b[0mrow\u001b[0m\u001b[1;33m[\u001b[0m\u001b[1;34m\"price\"\u001b[0m\u001b[1;33m]\u001b[0m \u001b[1;33m*\u001b[0m \u001b[0mget_exchange_rate\u001b[0m\u001b[1;33m(\u001b[0m\u001b[0mrow\u001b[0m\u001b[1;33m[\u001b[0m\u001b[1;34m\"currency_code\"\u001b[0m\u001b[1;33m]\u001b[0m\u001b[1;33m,\u001b[0m \u001b[0mtarget_currency\u001b[0m\u001b[1;33m)\u001b[0m \u001b[1;32mif\u001b[0m \u001b[0mrow\u001b[0m\u001b[1;33m[\u001b[0m\u001b[1;34m\"currency_code\"\u001b[0m\u001b[1;33m]\u001b[0m \u001b[1;32min\u001b[0m \u001b[0mCURRENCIES_CODE\u001b[0m\u001b[1;33m.\u001b[0m\u001b[0mvalues\u001b[0m\u001b[1;33m(\u001b[0m\u001b[1;33m)\u001b[0m \u001b[1;32melse\u001b[0m \u001b[1;32mNone\u001b[0m\u001b[1;33m,\u001b[0m\u001b[1;33m\u001b[0m\u001b[1;33m\u001b[0m\u001b[0m\n\u001b[0;32m    102\u001b[0m             \u001b[0maxis\u001b[0m\u001b[1;33m=\u001b[0m\u001b[1;36m1\u001b[0m\u001b[1;33m\u001b[0m\u001b[1;33m\u001b[0m\u001b[0m\n",
      "\u001b[1;32m~\\anaconda3\\lib\\site-packages\\pandas\\core\\frame.py\u001b[0m in \u001b[0;36mapply\u001b[1;34m(self, func, axis, raw, result_type, args, **kwargs)\u001b[0m\n\u001b[0;32m   8846\u001b[0m             \u001b[0mkwargs\u001b[0m\u001b[1;33m=\u001b[0m\u001b[0mkwargs\u001b[0m\u001b[1;33m,\u001b[0m\u001b[1;33m\u001b[0m\u001b[1;33m\u001b[0m\u001b[0m\n\u001b[0;32m   8847\u001b[0m         )\n\u001b[1;32m-> 8848\u001b[1;33m         \u001b[1;32mreturn\u001b[0m \u001b[0mop\u001b[0m\u001b[1;33m.\u001b[0m\u001b[0mapply\u001b[0m\u001b[1;33m(\u001b[0m\u001b[1;33m)\u001b[0m\u001b[1;33m.\u001b[0m\u001b[0m__finalize__\u001b[0m\u001b[1;33m(\u001b[0m\u001b[0mself\u001b[0m\u001b[1;33m,\u001b[0m \u001b[0mmethod\u001b[0m\u001b[1;33m=\u001b[0m\u001b[1;34m\"apply\"\u001b[0m\u001b[1;33m)\u001b[0m\u001b[1;33m\u001b[0m\u001b[1;33m\u001b[0m\u001b[0m\n\u001b[0m\u001b[0;32m   8849\u001b[0m \u001b[1;33m\u001b[0m\u001b[0m\n\u001b[0;32m   8850\u001b[0m     def applymap(\n",
      "\u001b[1;32m~\\anaconda3\\lib\\site-packages\\pandas\\core\\apply.py\u001b[0m in \u001b[0;36mapply\u001b[1;34m(self)\u001b[0m\n\u001b[0;32m    731\u001b[0m             \u001b[1;32mreturn\u001b[0m \u001b[0mself\u001b[0m\u001b[1;33m.\u001b[0m\u001b[0mapply_raw\u001b[0m\u001b[1;33m(\u001b[0m\u001b[1;33m)\u001b[0m\u001b[1;33m\u001b[0m\u001b[1;33m\u001b[0m\u001b[0m\n\u001b[0;32m    732\u001b[0m \u001b[1;33m\u001b[0m\u001b[0m\n\u001b[1;32m--> 733\u001b[1;33m         \u001b[1;32mreturn\u001b[0m \u001b[0mself\u001b[0m\u001b[1;33m.\u001b[0m\u001b[0mapply_standard\u001b[0m\u001b[1;33m(\u001b[0m\u001b[1;33m)\u001b[0m\u001b[1;33m\u001b[0m\u001b[1;33m\u001b[0m\u001b[0m\n\u001b[0m\u001b[0;32m    734\u001b[0m \u001b[1;33m\u001b[0m\u001b[0m\n\u001b[0;32m    735\u001b[0m     \u001b[1;32mdef\u001b[0m \u001b[0magg\u001b[0m\u001b[1;33m(\u001b[0m\u001b[0mself\u001b[0m\u001b[1;33m)\u001b[0m\u001b[1;33m:\u001b[0m\u001b[1;33m\u001b[0m\u001b[1;33m\u001b[0m\u001b[0m\n",
      "\u001b[1;32m~\\anaconda3\\lib\\site-packages\\pandas\\core\\apply.py\u001b[0m in \u001b[0;36mapply_standard\u001b[1;34m(self)\u001b[0m\n\u001b[0;32m    855\u001b[0m \u001b[1;33m\u001b[0m\u001b[0m\n\u001b[0;32m    856\u001b[0m     \u001b[1;32mdef\u001b[0m \u001b[0mapply_standard\u001b[0m\u001b[1;33m(\u001b[0m\u001b[0mself\u001b[0m\u001b[1;33m)\u001b[0m\u001b[1;33m:\u001b[0m\u001b[1;33m\u001b[0m\u001b[1;33m\u001b[0m\u001b[0m\n\u001b[1;32m--> 857\u001b[1;33m         \u001b[0mresults\u001b[0m\u001b[1;33m,\u001b[0m \u001b[0mres_index\u001b[0m \u001b[1;33m=\u001b[0m \u001b[0mself\u001b[0m\u001b[1;33m.\u001b[0m\u001b[0mapply_series_generator\u001b[0m\u001b[1;33m(\u001b[0m\u001b[1;33m)\u001b[0m\u001b[1;33m\u001b[0m\u001b[1;33m\u001b[0m\u001b[0m\n\u001b[0m\u001b[0;32m    858\u001b[0m \u001b[1;33m\u001b[0m\u001b[0m\n\u001b[0;32m    859\u001b[0m         \u001b[1;31m# wrap results\u001b[0m\u001b[1;33m\u001b[0m\u001b[1;33m\u001b[0m\u001b[0m\n",
      "\u001b[1;32m~\\anaconda3\\lib\\site-packages\\pandas\\core\\apply.py\u001b[0m in \u001b[0;36mapply_series_generator\u001b[1;34m(self)\u001b[0m\n\u001b[0;32m    871\u001b[0m             \u001b[1;32mfor\u001b[0m \u001b[0mi\u001b[0m\u001b[1;33m,\u001b[0m \u001b[0mv\u001b[0m \u001b[1;32min\u001b[0m \u001b[0menumerate\u001b[0m\u001b[1;33m(\u001b[0m\u001b[0mseries_gen\u001b[0m\u001b[1;33m)\u001b[0m\u001b[1;33m:\u001b[0m\u001b[1;33m\u001b[0m\u001b[1;33m\u001b[0m\u001b[0m\n\u001b[0;32m    872\u001b[0m                 \u001b[1;31m# ignore SettingWithCopy here in case the user mutates\u001b[0m\u001b[1;33m\u001b[0m\u001b[1;33m\u001b[0m\u001b[0m\n\u001b[1;32m--> 873\u001b[1;33m                 \u001b[0mresults\u001b[0m\u001b[1;33m[\u001b[0m\u001b[0mi\u001b[0m\u001b[1;33m]\u001b[0m \u001b[1;33m=\u001b[0m \u001b[0mself\u001b[0m\u001b[1;33m.\u001b[0m\u001b[0mf\u001b[0m\u001b[1;33m(\u001b[0m\u001b[0mv\u001b[0m\u001b[1;33m)\u001b[0m\u001b[1;33m\u001b[0m\u001b[1;33m\u001b[0m\u001b[0m\n\u001b[0m\u001b[0;32m    874\u001b[0m                 \u001b[1;32mif\u001b[0m \u001b[0misinstance\u001b[0m\u001b[1;33m(\u001b[0m\u001b[0mresults\u001b[0m\u001b[1;33m[\u001b[0m\u001b[0mi\u001b[0m\u001b[1;33m]\u001b[0m\u001b[1;33m,\u001b[0m \u001b[0mABCSeries\u001b[0m\u001b[1;33m)\u001b[0m\u001b[1;33m:\u001b[0m\u001b[1;33m\u001b[0m\u001b[1;33m\u001b[0m\u001b[0m\n\u001b[0;32m    875\u001b[0m                     \u001b[1;31m# If we have a view on v, we need to make a copy because\u001b[0m\u001b[1;33m\u001b[0m\u001b[1;33m\u001b[0m\u001b[0m\n",
      "\u001b[1;32m~\\AppData\\Local\\Temp\\ipykernel_784\\34043213.py\u001b[0m in \u001b[0;36m<lambda>\u001b[1;34m(row)\u001b[0m\n\u001b[0;32m     99\u001b[0m     \u001b[1;32mfor\u001b[0m \u001b[0mtarget_currency\u001b[0m \u001b[1;32min\u001b[0m \u001b[0mCURRENCIES_CODE\u001b[0m\u001b[1;33m.\u001b[0m\u001b[0mvalues\u001b[0m\u001b[1;33m(\u001b[0m\u001b[1;33m)\u001b[0m\u001b[1;33m:\u001b[0m\u001b[1;33m\u001b[0m\u001b[1;33m\u001b[0m\u001b[0m\n\u001b[0;32m    100\u001b[0m         df[f\"price_{target_currency}\"] = df.apply(\n\u001b[1;32m--> 101\u001b[1;33m             \u001b[1;32mlambda\u001b[0m \u001b[0mrow\u001b[0m\u001b[1;33m:\u001b[0m \u001b[0mrow\u001b[0m\u001b[1;33m[\u001b[0m\u001b[1;34m\"price\"\u001b[0m\u001b[1;33m]\u001b[0m \u001b[1;33m*\u001b[0m \u001b[0mget_exchange_rate\u001b[0m\u001b[1;33m(\u001b[0m\u001b[0mrow\u001b[0m\u001b[1;33m[\u001b[0m\u001b[1;34m\"currency_code\"\u001b[0m\u001b[1;33m]\u001b[0m\u001b[1;33m,\u001b[0m \u001b[0mtarget_currency\u001b[0m\u001b[1;33m)\u001b[0m \u001b[1;32mif\u001b[0m \u001b[0mrow\u001b[0m\u001b[1;33m[\u001b[0m\u001b[1;34m\"currency_code\"\u001b[0m\u001b[1;33m]\u001b[0m \u001b[1;32min\u001b[0m \u001b[0mCURRENCIES_CODE\u001b[0m\u001b[1;33m.\u001b[0m\u001b[0mvalues\u001b[0m\u001b[1;33m(\u001b[0m\u001b[1;33m)\u001b[0m \u001b[1;32melse\u001b[0m \u001b[1;32mNone\u001b[0m\u001b[1;33m,\u001b[0m\u001b[1;33m\u001b[0m\u001b[1;33m\u001b[0m\u001b[0m\n\u001b[0m\u001b[0;32m    102\u001b[0m             \u001b[0maxis\u001b[0m\u001b[1;33m=\u001b[0m\u001b[1;36m1\u001b[0m\u001b[1;33m\u001b[0m\u001b[1;33m\u001b[0m\u001b[0m\n\u001b[0;32m    103\u001b[0m         )\n",
      "\u001b[1;32m~\\AppData\\Local\\Temp\\ipykernel_784\\34043213.py\u001b[0m in \u001b[0;36mget_exchange_rate\u001b[1;34m(from_currency, to_currency)\u001b[0m\n\u001b[0;32m     14\u001b[0m         \u001b[1;32mreturn\u001b[0m \u001b[1;36m1.0\u001b[0m\u001b[1;33m\u001b[0m\u001b[1;33m\u001b[0m\u001b[0m\n\u001b[0;32m     15\u001b[0m \u001b[1;33m\u001b[0m\u001b[0m\n\u001b[1;32m---> 16\u001b[1;33m     \u001b[0mload_dotenv\u001b[0m\u001b[1;33m(\u001b[0m\u001b[1;33m)\u001b[0m\u001b[1;33m\u001b[0m\u001b[1;33m\u001b[0m\u001b[0m\n\u001b[0m\u001b[0;32m     17\u001b[0m \u001b[1;33m\u001b[0m\u001b[0m\n\u001b[0;32m     18\u001b[0m     \u001b[1;31m# Get API key from .env file\u001b[0m\u001b[1;33m\u001b[0m\u001b[1;33m\u001b[0m\u001b[0m\n",
      "\u001b[1;31mNameError\u001b[0m: name 'load_dotenv' is not defined"
     ]
    }
   ],
   "source": [
    "dataframe = pd.read_csv(\"Data&Data - PriceAnalysis Challenge/data/bronze/2025-02-27_15-10-01/all_watches_2025.csv\")\n",
    "CURRENCIES_CODE = {\"$\": \"USD\", \"€\": \"EUR\", \"£\": \"GBP\", \"¥\": \"JPY\"}\n",
    "\n",
    "transformed_df = preprocess_data(dataframe, CURRENCIES_CODE)\n",
    "print(transformed_df.head())"
   ]
  },
  {
   "cell_type": "code",
   "execution_count": null,
   "id": "e5ec7535",
   "metadata": {},
   "outputs": [],
   "source": []
  }
 ],
 "metadata": {
  "kernelspec": {
   "display_name": "Python 3 (ipykernel)",
   "language": "python",
   "name": "python3"
  },
  "language_info": {
   "codemirror_mode": {
    "name": "ipython",
    "version": 3
   },
   "file_extension": ".py",
   "mimetype": "text/x-python",
   "name": "python",
   "nbconvert_exporter": "python",
   "pygments_lexer": "ipython3",
   "version": "3.9.13"
  }
 },
 "nbformat": 4,
 "nbformat_minor": 5
}
