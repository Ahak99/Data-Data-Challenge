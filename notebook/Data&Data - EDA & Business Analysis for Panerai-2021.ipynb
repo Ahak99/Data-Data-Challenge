{
 "cells": [
  {
   "cell_type": "markdown",
   "id": "0c5d0579",
   "metadata": {},
   "source": [
    "## Annexe"
   ]
  },
  {
   "cell_type": "markdown",
   "id": "44d9174f",
   "metadata": {},
   "source": [
    "#### 1. Function to analyze descriptive statistics for a given country"
   ]
  },
  {
   "cell_type": "code",
   "execution_count": 73,
   "id": "3afadb3f",
   "metadata": {},
   "outputs": [],
   "source": [
    "def describe_country(data, country=None):\n",
    "    \"\"\"\n",
    "    Describe the country data.\n",
    "\n",
    "    Parameters:\n",
    "    data (pd.DataFrame): The data to describe.\n",
    "    country (str, optional): The country to filter by. Defaults to None.\n",
    "\n",
    "    Returns:\n",
    "    tuple: A tuple containing the number of rows, unique collections, top collection, unique references, top reference, and a list of unique collections.\n",
    "    \"\"\"\n",
    "    # Filter the original data if a specific country is provided\n",
    "    if country:\n",
    "        data = data[data[\"country\"] == country]\n",
    "    \n",
    "    # Create a summary of the object columns if needed\n",
    "    summary = data.describe(include=\"object\")\n",
    "    \n",
    "    # Extract required details directly from the original data\n",
    "    number_rows = data.shape[0]\n",
    "    number_unique_collections = data['collection'].nunique()\n",
    "    top_collection = data['collection'].mode()[0]\n",
    "    \n",
    "    number_unique_references = data['reference'].nunique()\n",
    "    top_reference = data['reference'].mode()[0]\n",
    "    \n",
    "    collection_list = data['collection'].unique()\n",
    "    \n",
    "    return number_rows, number_unique_collections, top_collection, number_unique_references, top_reference, collection_list\n"
   ]
  },
  {
   "cell_type": "markdown",
   "id": "1d959015",
   "metadata": {},
   "source": [
    "#### 2. Visualization"
   ]
  },
  {
   "cell_type": "code",
   "execution_count": 74,
   "id": "260e44d0",
   "metadata": {},
   "outputs": [],
   "source": [
    "def collection_visualization(data, country=None):\n",
    "    \"\"\"\n",
    "    Visualize the collection data.\n",
    "\n",
    "    Parameters:\n",
    "    data (pd.DataFrame): The data to visualize.\n",
    "    country (str): The country to filter by.\n",
    "\n",
    "    Returns:\n",
    "    None\n",
    "    \"\"\"\n",
    "    # Filter the original data if a specific country is provided\n",
    "    if country:\n",
    "        data = data[data[\"country\"] == country]\n",
    "    \n",
    "    # Choose a color palette\n",
    "    palette = sns.color_palette(\"pastel\")  # You can choose different palettes like \"deep\", \"pastel\", etc.\n",
    "\n",
    "    # Create the count plot\n",
    "    ax = sns.countplot(x=\"collection\", data=data, palette=palette)\n",
    "\n",
    "    # Add the count value on top of each bar\n",
    "    for p in ax.patches:\n",
    "        ax.annotate(f'{p.get_height()}', \n",
    "                    (p.get_x() + p.get_width() / 2., p.get_y() + p.get_height() / 2.), \n",
    "                    ha='center', va='center', \n",
    "                    fontsize=10, color='black', \n",
    "                    xytext=(0, 5), textcoords='offset points')\n",
    "\n",
    "    # Rotate x-axis labels for better readability\n",
    "    plt.xticks(rotation=45)\n",
    "\n",
    "    # Labels and title\n",
    "    plt.xlabel(\"Collection\")\n",
    "    plt.ylabel(\"Watch Count\")\n",
    "    plt.title(f\"Watch Count per Collection in {country}\")\n",
    "\n",
    "    # Show the plot\n",
    "    plt.show()"
   ]
  },
  {
   "cell_type": "markdown",
   "id": "0de39521",
   "metadata": {},
   "source": [
    "#### 3. Function to analyze the cheapest and most expensive products for a given country"
   ]
  },
  {
   "cell_type": "code",
   "execution_count": 75,
   "id": "744276a5",
   "metadata": {},
   "outputs": [],
   "source": [
    "def analyze_country(data, country=None):\n",
    "    \"\"\"\n",
    "    Analyze the country data.\n",
    "\n",
    "    Parameters:\n",
    "    data (pd.DataFrame): The data to analyze.\n",
    "    country (str, optional): The country to filter by. Defaults to None.\n",
    "\n",
    "    Returns:\n",
    "    tuple: A tuple containing the overall statistics and the collection statistics.\n",
    "    \"\"\"\n",
    "    # Filter the original data if a specific country is provided\n",
    "    if country:\n",
    "        data = data[data[\"country\"] == country]\n",
    "    \n",
    "    # Identify the cheapest and most expensive product in the whole subset\n",
    "    cheapest_product_data = data.nsmallest(1, 'price')\n",
    "    most_expensive_product_data = data.nlargest(1, 'price')\n",
    "    \n",
    "    overall_stats = {\n",
    "        \"cheapest\": {\n",
    "            \"collection\": cheapest_product_data['collection'].values[0],\n",
    "            \"reference\": cheapest_product_data['reference'].values[0],\n",
    "            \"price\": cheapest_product_data['price'].values[0]\n",
    "        },\n",
    "        \"most_expensive\": {\n",
    "            \"collection\": most_expensive_product_data['collection'].values[0],\n",
    "            \"reference\": most_expensive_product_data['reference'].values[0],\n",
    "            \"price\": most_expensive_product_data['price'].values[0]\n",
    "        }\n",
    "    }\n",
    "    \n",
    "    # Identify the cheapest and most expensive product per collection\n",
    "    collection_stats = []\n",
    "    unique_collections = data[\"collection\"].unique()\n",
    "    \n",
    "    for collection in unique_collections:\n",
    "        collection_data = data[data[\"collection\"] == collection]\n",
    "        \n",
    "        cheapest_collection_data = collection_data.nsmallest(1, 'price')\n",
    "        most_expensive_collection_data = collection_data.nlargest(1, 'price')\n",
    "        \n",
    "        collection_stats.append({\n",
    "            \"collection\": collection,\n",
    "            \"cheapest\": {\n",
    "                \"reference\": cheapest_collection_data['reference'].values[0],\n",
    "                \"price\": cheapest_collection_data['price'].values[0]\n",
    "            },\n",
    "            \"most_expensive\": {\n",
    "                \"reference\": most_expensive_collection_data['reference'].values[0],\n",
    "                \"price\": most_expensive_collection_data['price'].values[0]\n",
    "            }\n",
    "        })\n",
    "    \n",
    "    return overall_stats, collection_stats"
   ]
  },
  {
   "cell_type": "markdown",
   "id": "d48d8861",
   "metadata": {},
   "source": [
    "#### 4. Compute the difference of watch's price from this minimum"
   ]
  },
  {
   "cell_type": "code",
   "execution_count": 76,
   "id": "c7bd958b",
   "metadata": {},
   "outputs": [],
   "source": [
    "def calculate_price_difference(data: pd.DataFrame) -> pd.DataFrame:\n",
    "    \"\"\"\n",
    "    For each product (grouped by collection and reference), calculates the minimum price across all countries,\n",
    "    computes the difference of each record's price from this minimum, and identifies the country that offers\n",
    "    the minimum price.\n",
    "    \n",
    "    Parameters:\n",
    "        data (pd.DataFrame): Input DataFrame with columns:\n",
    "            - 'name': Product name.\n",
    "            - 'country': Country of the product.\n",
    "            - 'product_url': URL for the product.\n",
    "            - 'collection'\n",
    "            - 'reference'\n",
    "            - 'price_USD'\n",
    "    \n",
    "    Returns:\n",
    "        pd.DataFrame: The input DataFrame with additional columns:\n",
    "                      - 'min_price': The minimum price for each product.\n",
    "                      - 'price_diff': The difference between the price and the minimum price.\n",
    "                      - 'min_price_country': The country corresponding to the minimum price.\n",
    "                      The resulting DataFrame is re-ordered to include 'name', 'country', 'min_price_country', and 'product_url'.\n",
    "    \"\"\"\n",
    "    df = data.copy()\n",
    "    group_cols = ['collection', 'reference']\n",
    "    \n",
    "    # Calculate the minimum price for each product group\n",
    "    df['min_price'] = df.groupby(group_cols)['price_USD'].transform('min')\n",
    "    \n",
    "    # Calculate the price difference from the minimum price\n",
    "    df['price_diff'] = df['price_USD'] - df['min_price']\n",
    "    \n",
    "    # Determine the country corresponding to the minimum price for each group.\n",
    "    # This finds the index of the minimum price for each group and extracts the country.\n",
    "    min_price_country_df = df.loc[df.groupby(group_cols)['price_USD'].idxmin(), group_cols + ['country']]\n",
    "    min_price_country_df = min_price_country_df.rename(columns={'country': 'min_price_country'})\n",
    "    \n",
    "    # Merge the min_price_country back into the main DataFrame using the group columns as key.\n",
    "    df = df.merge(min_price_country_df, on=group_cols, how='left')\n",
    "    \n",
    "    # Reorder columns for clarity in the CSV output.\n",
    "    desired_columns = ['name', 'country', 'min_price_country', 'product_url', 'collection', 'reference', 'price_USD', 'min_price', 'price_diff']\n",
    "    available_columns = [col for col in desired_columns if col in df.columns]\n",
    "    df = df[available_columns]\n",
    "    \n",
    "    # Save the result to a CSV file.\n",
    "    df.to_csv('price_difference.csv', index=False)\n",
    "    \n",
    "    return df"
   ]
  },
  {
   "cell_type": "markdown",
   "id": "759f5d88",
   "metadata": {},
   "source": [
    "#### 5. Identify the cheapest price and its corresponding country"
   ]
  },
  {
   "cell_type": "code",
   "execution_count": 77,
   "id": "aab55457",
   "metadata": {},
   "outputs": [],
   "source": [
    "def find_cheapest_prices(data: pd.DataFrame) -> pd.DataFrame:\n",
    "    \"\"\"\n",
    "    For each product (grouped by collection and reference), identifies the cheapest price and its corresponding country.\n",
    "    \n",
    "    Parameters:\n",
    "        data (pd.DataFrame): Input DataFrame with columns 'collection', 'reference', 'price_USD', and 'country'.\n",
    "    \n",
    "    Returns:\n",
    "        pd.DataFrame: A DataFrame containing:\n",
    "                      - 'collection'\n",
    "                      - 'reference'\n",
    "                      - 'cheapest_price': The lowest price found for the product.\n",
    "                      - 'cheapest_country': The country corresponding to the cheapest price.\n",
    "    \"\"\"\n",
    "    group_cols = ['collection', 'reference']\n",
    "    cheapest = data.loc[data.groupby(group_cols)['min_price'].idxmin()].copy()\n",
    "    cheapest = cheapest[['collection', 'reference', 'price_USD', 'country']]\n",
    "    cheapest.rename(columns={'price_USD': 'cheapest_price', 'country': 'cheapest_country'}, inplace=True)\n",
    "    cheapest.to_csv('cheapest_prices.csv', index=False)\n",
    "    \n",
    "    return cheapest"
   ]
  },
  {
   "cell_type": "markdown",
   "id": "1d7f0301",
   "metadata": {},
   "source": [
    "#### 6. Identify the best selling options"
   ]
  },
  {
   "cell_type": "code",
   "execution_count": 78,
   "id": "45a31d44",
   "metadata": {},
   "outputs": [],
   "source": [
    "def find_best_sell_prices(data: pd.DataFrame) -> pd.DataFrame:\n",
    "    \"\"\"\n",
    "    For each product (grouped by collection and reference), identifies the best selling option,\n",
    "    defined as the country where the product has the highest price. Also calculates potential profit\n",
    "    by finding the difference between the best selling price and the minimum price.\n",
    "    \n",
    "    Parameters:\n",
    "        data (pd.DataFrame): Input DataFrame with columns:\n",
    "            - 'collection'\n",
    "            - 'reference'\n",
    "            - 'price_USD'\n",
    "            - 'country'\n",
    "\n",
    "    Returns:\n",
    "        pd.DataFrame: A DataFrame containing:\n",
    "            - 'collection'\n",
    "            - 'reference'\n",
    "            - 'best_sell_price': The highest price found for the product.\n",
    "            - 'best_sell_country': The country corresponding to the highest price.\n",
    "            - 'min_price': The minimum price for the product.\n",
    "            - 'min_price_country': The country where the minimum price is found.\n",
    "            - 'profit': The potential profit from buying at the cheapest price and selling at the highest price.\n",
    "    \"\"\"\n",
    "    group_cols = ['collection', 'reference']\n",
    "\n",
    "    # Find the best selling price (highest price) and the country\n",
    "    best_sell = data.loc[data.groupby(group_cols)['price_USD'].idxmax()].copy()\n",
    "    best_sell = best_sell[['collection', 'reference', 'price_USD', 'country']]\n",
    "    best_sell.rename(columns={'price_USD': 'best_sell_price', 'country': 'best_sell_country'}, inplace=True)\n",
    "\n",
    "    # Find the minimum price and its country\n",
    "    min_price = data.loc[data.groupby(group_cols)['price_USD'].idxmin()].copy()\n",
    "    min_price = min_price[['collection', 'reference', 'price_USD', 'country']]\n",
    "    min_price.rename(columns={'price_USD': 'min_price', 'country': 'min_price_country'}, inplace=True)\n",
    "\n",
    "    # Merge both DataFrames to have best selling and minimum price information in one table\n",
    "    result = pd.merge(best_sell, min_price, on=['collection', 'reference'], how='left')\n",
    "\n",
    "    # Calculate potential profit\n",
    "    result['profit'] = result['best_sell_price'] - result['min_price']\n",
    "\n",
    "    # Save the results\n",
    "    result.to_csv('best_sell_prices_with_profit.csv', index=False)\n",
    "    \n",
    "    return result"
   ]
  },
  {
   "cell_type": "markdown",
   "id": "991182f3",
   "metadata": {},
   "source": [
    "#### 7. The sum of potential profits per collection"
   ]
  },
  {
   "cell_type": "code",
   "execution_count": 79,
   "id": "3af02803",
   "metadata": {},
   "outputs": [],
   "source": [
    "def sum_profit(data: pd.DataFrame):\n",
    "    \"\"\"\n",
    "    Computes the sum of potential profits per collection.\n",
    "\n",
    "    Parameters:\n",
    "        data (pd.DataFrame): DataFrame with best sell prices and profit computed.\n",
    "\n",
    "    Returns:\n",
    "        Dictionary of DataFrames:\n",
    "            - 'profit_by_reference': Profit summed per country based on product reference.\n",
    "            - 'profit_by_collection': Profit summed per country based on collection.\n",
    "    \"\"\"\n",
    "    \n",
    "    # Aggregate total profit per country (based on reference)\n",
    "    global_profit = data['profit'].sum()\n",
    "\n",
    "    # Aggregate total profit per country (based on collection)\n",
    "    profit_by_collection = data.groupby('collection', as_index=False)['profit'].sum()\n",
    "    profit_by_collection.rename(columns={'profit': 'total_profit_by_collection ($)'}, inplace=True)\n",
    "\n",
    "    return {\n",
    "        \"global_profit\": global_profit,\n",
    "        \"profit_by_collection\": profit_by_collection\n",
    "    }"
   ]
  },
  {
   "cell_type": "code",
   "execution_count": 80,
   "id": "65b0aad6",
   "metadata": {},
   "outputs": [],
   "source": [
    "EXCHANGE_API_KEY = \"1469e13710f523e45c568282\"\n",
    "\n",
    "def get_exchange_rate(from_currency: str, to_currency: str) -> float:\n",
    "    \"\"\"\n",
    "    Fetches real-time exchange rates using ExchangeRate-API.\n",
    "    \n",
    "    Args:\n",
    "        from_currency (str): Base currency (e.g., 'USD').\n",
    "        to_currency (str): Target currency (e.g., 'EUR').\n",
    "\n",
    "    Returns:\n",
    "        float: Exchange rate from 'from_currency' to 'to_currency', or None if an error occurs.\n",
    "    \"\"\"\n",
    "    if from_currency.upper() == to_currency.upper():\n",
    "        return 1.0\n",
    "\n",
    "    url = f\"https://v6.exchangerate-api.com/v6/{EXCHANGE_API_KEY}/latest/{from_currency.upper()}\"\n",
    "\n",
    "    try:\n",
    "        response = requests.get(url, timeout=10)\n",
    "        response.raise_for_status()\n",
    "        data = response.json()\n",
    "\n",
    "        if \"conversion_rates\" not in data:\n",
    "            raise ValueError(\"Invalid API response: missing 'conversion_rates'\")\n",
    "\n",
    "        rate = data[\"conversion_rates\"].get(to_currency.upper())\n",
    "        if rate is None:\n",
    "            raise ValueError(f\"Exchange rate for {to_currency.upper()} not found in API response\")\n",
    "\n",
    "        return rate\n",
    "\n",
    "    except requests.exceptions.RequestException as e:\n",
    "        log_error(f\"Network error: {e}\")\n",
    "    except ValueError as e:\n",
    "        log_error(f\"Data error: {e}\")\n",
    "    except Exception as e:\n",
    "        log_error(f\"Unexpected error: {e}\")\n",
    "\n",
    "    return None  # Return None in case of an error"
   ]
  },
  {
   "cell_type": "code",
   "execution_count": 83,
   "id": "05d9b76e",
   "metadata": {},
   "outputs": [
    {
     "name": "stdout",
     "output_type": "stream",
     "text": [
      "https://v6.exchangerate-api.com/v6/1469e13710f523e45c568282/latest/USD\n"
     ]
    },
    {
     "data": {
      "text/plain": [
       "0.9628"
      ]
     },
     "execution_count": 83,
     "metadata": {},
     "output_type": "execute_result"
    }
   ],
   "source": []
  },
  {
   "cell_type": "code",
   "execution_count": 186,
   "id": "efe4dada",
   "metadata": {},
   "outputs": [],
   "source": [
    "# Currency code mapping\n",
    "def currency_convertor(df):\n",
    "    \n",
    "    data = df.copy()\n",
    "    \n",
    "    try:\n",
    "        valid_currencies = set(data['currency'])\n",
    "        # Extract unique source currencies that are valid\n",
    "        unique_source_currencies = data.loc[data['currency'].isin(valid_currencies), 'currency'].unique()\n",
    "\n",
    "        # Precompute exchange rates for each (source, target) pair\n",
    "        exchange_rates = {}\n",
    "        for source_currency in unique_source_currencies:\n",
    "            for target_currency in valid_currencies:\n",
    "                rate = get_exchange_rate(source_currency, target_currency)\n",
    "                exchange_rates[(source_currency, target_currency)] = rate\n",
    "\n",
    "        # For each target currency, build a mapping from source currency to exchange rate\n",
    "        for target_currency in valid_currencies:\n",
    "            col_name = f\"price_{target_currency}\"\n",
    "            rate_mapping = {\n",
    "                source: exchange_rates[(source, target_currency)]\n",
    "                for source in unique_source_currencies\n",
    "                if exchange_rates[(source, target_currency)] is not None\n",
    "            }\n",
    "            # Use vectorized mapping to apply the conversion\n",
    "            data[col_name] = data['price'] * data['currency'].map(rate_mapping)\n",
    "    except Exception as e:\n",
    "        print(e)\n",
    "    \n",
    "    return data"
   ]
  },
  {
   "cell_type": "code",
   "execution_count": 187,
   "id": "8c1b96a3",
   "metadata": {},
   "outputs": [],
   "source": []
  },
  {
   "cell_type": "code",
   "execution_count": null,
   "id": "c27285fc",
   "metadata": {},
   "outputs": [],
   "source": []
  },
  {
   "cell_type": "code",
   "execution_count": null,
   "id": "1d42e67f",
   "metadata": {},
   "outputs": [],
   "source": []
  },
  {
   "cell_type": "markdown",
   "id": "e69fd4a2",
   "metadata": {},
   "source": [
    "# 1. Import librariries"
   ]
  },
  {
   "cell_type": "code",
   "execution_count": 188,
   "id": "eac1aef3",
   "metadata": {},
   "outputs": [],
   "source": [
    "import pandas as pd\n",
    "import numpy as np\n",
    "import seaborn as sns\n",
    "import matplotlib.pyplot as plt\n",
    "import requests"
   ]
  },
  {
   "cell_type": "markdown",
   "id": "7fccb00f",
   "metadata": {},
   "source": [
    "# 2. Load & Read the Data"
   ]
  },
  {
   "cell_type": "code",
   "execution_count": 189,
   "id": "e49cb090",
   "metadata": {
    "scrolled": true
   },
   "outputs": [
    {
     "data": {
      "text/html": [
       "<div>\n",
       "<style scoped>\n",
       "    .dataframe tbody tr th:only-of-type {\n",
       "        vertical-align: middle;\n",
       "    }\n",
       "\n",
       "    .dataframe tbody tr th {\n",
       "        vertical-align: top;\n",
       "    }\n",
       "\n",
       "    .dataframe thead th {\n",
       "        text-align: right;\n",
       "    }\n",
       "</style>\n",
       "<table border=\"1\" class=\"dataframe\">\n",
       "  <thead>\n",
       "    <tr style=\"text-align: right;\">\n",
       "      <th></th>\n",
       "      <th>brand</th>\n",
       "      <th>url</th>\n",
       "      <th>image_url</th>\n",
       "      <th>collection</th>\n",
       "      <th>reference</th>\n",
       "      <th>price</th>\n",
       "      <th>currency</th>\n",
       "      <th>country</th>\n",
       "      <th>time scope</th>\n",
       "    </tr>\n",
       "  </thead>\n",
       "  <tbody>\n",
       "    <tr>\n",
       "      <th>0</th>\n",
       "      <td>Panerai</td>\n",
       "      <td>https://www.panerai.com/fr/fr/collections/watc...</td>\n",
       "      <td>https://www.panerai.com/content/dam/rcq/pan/10...</td>\n",
       "      <td>RADIOMIR</td>\n",
       "      <td>PAM00655</td>\n",
       "      <td>9700.0</td>\n",
       "      <td>EUR</td>\n",
       "      <td>France</td>\n",
       "      <td>December 2021</td>\n",
       "    </tr>\n",
       "    <tr>\n",
       "      <th>1</th>\n",
       "      <td>Panerai</td>\n",
       "      <td>https://www.panerai.com/fr/fr/collections/watc...</td>\n",
       "      <td>https://www.panerai.com/content/dam/rcq/pan/11...</td>\n",
       "      <td>RADIOMIR</td>\n",
       "      <td>PAM00628</td>\n",
       "      <td>11600.0</td>\n",
       "      <td>EUR</td>\n",
       "      <td>France</td>\n",
       "      <td>December 2021</td>\n",
       "    </tr>\n",
       "    <tr>\n",
       "      <th>2</th>\n",
       "      <td>Panerai</td>\n",
       "      <td>https://www.panerai.com/fr/fr/collections/watc...</td>\n",
       "      <td>https://www.panerai.com/content/dam/rcq/pan/11...</td>\n",
       "      <td>RADIOMIR</td>\n",
       "      <td>PAM00657</td>\n",
       "      <td>11400.0</td>\n",
       "      <td>EUR</td>\n",
       "      <td>France</td>\n",
       "      <td>December 2021</td>\n",
       "    </tr>\n",
       "    <tr>\n",
       "      <th>3</th>\n",
       "      <td>Panerai</td>\n",
       "      <td>https://www.panerai.com/fr/fr/collections/watc...</td>\n",
       "      <td>https://www.panerai.com/content/dam/rcq/pan/13...</td>\n",
       "      <td>LUMINOR</td>\n",
       "      <td>PAM00661</td>\n",
       "      <td>11900.0</td>\n",
       "      <td>EUR</td>\n",
       "      <td>France</td>\n",
       "      <td>December 2021</td>\n",
       "    </tr>\n",
       "    <tr>\n",
       "      <th>4</th>\n",
       "      <td>Panerai</td>\n",
       "      <td>https://www.panerai.com/fr/fr/collections/watc...</td>\n",
       "      <td>https://www.panerai.com/content/dam/rcq/pan/13...</td>\n",
       "      <td>LUMINOR</td>\n",
       "      <td>PAM01312</td>\n",
       "      <td>7900.0</td>\n",
       "      <td>EUR</td>\n",
       "      <td>France</td>\n",
       "      <td>December 2021</td>\n",
       "    </tr>\n",
       "  </tbody>\n",
       "</table>\n",
       "</div>"
      ],
      "text/plain": [
       "     brand                                                url  \\\n",
       "0  Panerai  https://www.panerai.com/fr/fr/collections/watc...   \n",
       "1  Panerai  https://www.panerai.com/fr/fr/collections/watc...   \n",
       "2  Panerai  https://www.panerai.com/fr/fr/collections/watc...   \n",
       "3  Panerai  https://www.panerai.com/fr/fr/collections/watc...   \n",
       "4  Panerai  https://www.panerai.com/fr/fr/collections/watc...   \n",
       "\n",
       "                                           image_url collection reference  \\\n",
       "0  https://www.panerai.com/content/dam/rcq/pan/10...   RADIOMIR  PAM00655   \n",
       "1  https://www.panerai.com/content/dam/rcq/pan/11...   RADIOMIR  PAM00628   \n",
       "2  https://www.panerai.com/content/dam/rcq/pan/11...   RADIOMIR  PAM00657   \n",
       "3  https://www.panerai.com/content/dam/rcq/pan/13...    LUMINOR  PAM00661   \n",
       "4  https://www.panerai.com/content/dam/rcq/pan/13...    LUMINOR  PAM01312   \n",
       "\n",
       "     price currency country     time scope  \n",
       "0   9700.0      EUR  France  December 2021  \n",
       "1  11600.0      EUR  France  December 2021  \n",
       "2  11400.0      EUR  France  December 2021  \n",
       "3  11900.0      EUR  France  December 2021  \n",
       "4   7900.0      EUR  France  December 2021  "
      ]
     },
     "execution_count": 189,
     "metadata": {},
     "output_type": "execute_result"
    }
   ],
   "source": [
    "data = pd.read_csv(r\"../data/bronze/PANERAI_DATA_2021.csv\")\n",
    "data.head()"
   ]
  },
  {
   "cell_type": "markdown",
   "id": "fca61191",
   "metadata": {},
   "source": [
    "# 3. Exploratory Data Analysis (EDA)\n",
    "\n",
    "### 3.1. Columns list"
   ]
  },
  {
   "cell_type": "code",
   "execution_count": 190,
   "id": "ff453386",
   "metadata": {},
   "outputs": [
    {
     "name": "stdout",
     "output_type": "stream",
     "text": [
      "List of column name:\n",
      "\n",
      "\t1. brand\n",
      "\t2. url\n",
      "\t3. image_url\n",
      "\t4. collection\n",
      "\t5. reference\n",
      "\t6. price\n",
      "\t7. currency\n",
      "\t8. country\n",
      "\t9. time scope\n"
     ]
    }
   ],
   "source": [
    "column_list = list(data.columns)\n",
    "\n",
    "print(\"List of column name:\\n\")\n",
    "for i in range(len(column_list)):\n",
    "    print(f\"\\t{i+1}. {column_list[i]}\")"
   ]
  },
  {
   "cell_type": "markdown",
   "id": "fb130762",
   "metadata": {},
   "source": [
    "### 3.2. Data types discovery"
   ]
  },
  {
   "cell_type": "code",
   "execution_count": 191,
   "id": "d53ea266",
   "metadata": {
    "scrolled": false
   },
   "outputs": [
    {
     "name": "stdout",
     "output_type": "stream",
     "text": [
      "<class 'pandas.core.frame.DataFrame'>\n",
      "RangeIndex: 693 entries, 0 to 692\n",
      "Data columns (total 9 columns):\n",
      " #   Column      Non-Null Count  Dtype  \n",
      "---  ------      --------------  -----  \n",
      " 0   brand       693 non-null    object \n",
      " 1   url         693 non-null    object \n",
      " 2   image_url   690 non-null    object \n",
      " 3   collection  693 non-null    object \n",
      " 4   reference   693 non-null    object \n",
      " 5   price       687 non-null    float64\n",
      " 6   currency    693 non-null    object \n",
      " 7   country     693 non-null    object \n",
      " 8   time scope  693 non-null    object \n",
      "dtypes: float64(1), object(8)\n",
      "memory usage: 48.9+ KB\n"
     ]
    }
   ],
   "source": [
    "data.info()"
   ]
  },
  {
   "cell_type": "markdown",
   "id": "0b26414f",
   "metadata": {},
   "source": [
    "--------------------------------------------------------------------------------------\n",
    "\n",
    "**The dataset we used in the following use case contains**:\n",
    "\n",
    "    1. 693 row of data\n",
    "    \n",
    "    2. 8 categoircal columns\n",
    "    \n",
    "    3. 1 numerical column\n",
    "--------------------------------------------------------------------------------------"
   ]
  },
  {
   "cell_type": "markdown",
   "id": "01e3def9",
   "metadata": {},
   "source": [
    "### 3.3. Check Missing Values"
   ]
  },
  {
   "cell_type": "code",
   "execution_count": 192,
   "id": "00816f1f",
   "metadata": {
    "scrolled": true
   },
   "outputs": [
    {
     "data": {
      "text/plain": [
       "brand         0\n",
       "url           0\n",
       "image_url     3\n",
       "collection    0\n",
       "reference     0\n",
       "price         6\n",
       "currency      0\n",
       "country       0\n",
       "time scope    0\n",
       "dtype: int64"
      ]
     },
     "execution_count": 192,
     "metadata": {},
     "output_type": "execute_result"
    }
   ],
   "source": [
    "data.isna().sum()"
   ]
  },
  {
   "cell_type": "markdown",
   "id": "b7cbd409",
   "metadata": {},
   "source": [
    "--------------------------------------------------------------------------------------\n",
    "\n",
    "**The dataset contains some missing values**:\n",
    "\n",
    "    - 3 in **image_url** column\n",
    "    \n",
    "    - 6 in **price** column\n",
    "--------------------------------------------------------------------------------------"
   ]
  },
  {
   "cell_type": "code",
   "execution_count": 193,
   "id": "853f4c83",
   "metadata": {},
   "outputs": [],
   "source": [
    "#### 3.3. Handling missing values"
   ]
  },
  {
   "cell_type": "code",
   "execution_count": 194,
   "id": "30a8871f",
   "metadata": {},
   "outputs": [],
   "source": [
    "data.dropna(subset=['reference', 'price'], inplace=True)"
   ]
  },
  {
   "cell_type": "code",
   "execution_count": 195,
   "id": "7f6c669e",
   "metadata": {},
   "outputs": [
    {
     "data": {
      "text/plain": [
       "brand         0\n",
       "url           0\n",
       "image_url     3\n",
       "collection    0\n",
       "reference     0\n",
       "price         0\n",
       "currency      0\n",
       "country       0\n",
       "time scope    0\n",
       "dtype: int64"
      ]
     },
     "execution_count": 195,
     "metadata": {},
     "output_type": "execute_result"
    }
   ],
   "source": [
    "data.isna().sum()"
   ]
  },
  {
   "cell_type": "markdown",
   "id": "3e76a6e3",
   "metadata": {},
   "source": [
    "--------------------------------------------------------------------------------------\n",
    "\n",
    "**Now, the dataset is clean, no more missing values**\n",
    "\n",
    "    ** -> We are ready to GO **\n",
    "\n",
    "--------------------------------------------------------------------------------------"
   ]
  },
  {
   "cell_type": "markdown",
   "id": "bcf4c914",
   "metadata": {},
   "source": [
    "### 3.4. Check for duplicates bases on 'reference' and 'country'"
   ]
  },
  {
   "cell_type": "code",
   "execution_count": 196,
   "id": "c9909899",
   "metadata": {},
   "outputs": [
    {
     "name": "stdout",
     "output_type": "stream",
     "text": [
      "0\n"
     ]
    }
   ],
   "source": [
    "# Check for duplicates based on 'reference', 'country', and 'collection'\n",
    "duplicates = data.duplicated(subset=['reference', 'country']).sum()\n",
    "\n",
    "# Display the duplicate rows\n",
    "print(duplicates)"
   ]
  },
  {
   "cell_type": "markdown",
   "id": "968b5686",
   "metadata": {},
   "source": [
    "### 3.5. Descriptive statistics"
   ]
  },
  {
   "cell_type": "code",
   "execution_count": 197,
   "id": "54469b32",
   "metadata": {},
   "outputs": [
    {
     "data": {
      "text/html": [
       "<div>\n",
       "<style scoped>\n",
       "    .dataframe tbody tr th:only-of-type {\n",
       "        vertical-align: middle;\n",
       "    }\n",
       "\n",
       "    .dataframe tbody tr th {\n",
       "        vertical-align: top;\n",
       "    }\n",
       "\n",
       "    .dataframe thead th {\n",
       "        text-align: right;\n",
       "    }\n",
       "</style>\n",
       "<table border=\"1\" class=\"dataframe\">\n",
       "  <thead>\n",
       "    <tr style=\"text-align: right;\">\n",
       "      <th></th>\n",
       "      <th>brand</th>\n",
       "      <th>url</th>\n",
       "      <th>image_url</th>\n",
       "      <th>collection</th>\n",
       "      <th>reference</th>\n",
       "      <th>currency</th>\n",
       "      <th>country</th>\n",
       "      <th>time scope</th>\n",
       "    </tr>\n",
       "  </thead>\n",
       "  <tbody>\n",
       "    <tr>\n",
       "      <th>count</th>\n",
       "      <td>687</td>\n",
       "      <td>687</td>\n",
       "      <td>684</td>\n",
       "      <td>687</td>\n",
       "      <td>687</td>\n",
       "      <td>687</td>\n",
       "      <td>687</td>\n",
       "      <td>687</td>\n",
       "    </tr>\n",
       "    <tr>\n",
       "      <th>unique</th>\n",
       "      <td>1</td>\n",
       "      <td>687</td>\n",
       "      <td>206</td>\n",
       "      <td>4</td>\n",
       "      <td>207</td>\n",
       "      <td>4</td>\n",
       "      <td>4</td>\n",
       "      <td>1</td>\n",
       "    </tr>\n",
       "    <tr>\n",
       "      <th>top</th>\n",
       "      <td>Panerai</td>\n",
       "      <td>https://www.panerai.com/fr/fr/collections/watc...</td>\n",
       "      <td>https://www.panerai.com/content/dam/rcq/pan/10...</td>\n",
       "      <td>LUMINOR</td>\n",
       "      <td>PAM00655</td>\n",
       "      <td>JPY</td>\n",
       "      <td>Japan</td>\n",
       "      <td>December 2021</td>\n",
       "    </tr>\n",
       "    <tr>\n",
       "      <th>freq</th>\n",
       "      <td>687</td>\n",
       "      <td>1</td>\n",
       "      <td>4</td>\n",
       "      <td>368</td>\n",
       "      <td>4</td>\n",
       "      <td>201</td>\n",
       "      <td>201</td>\n",
       "      <td>687</td>\n",
       "    </tr>\n",
       "  </tbody>\n",
       "</table>\n",
       "</div>"
      ],
      "text/plain": [
       "          brand                                                url  \\\n",
       "count       687                                                687   \n",
       "unique        1                                                687   \n",
       "top     Panerai  https://www.panerai.com/fr/fr/collections/watc...   \n",
       "freq        687                                                  1   \n",
       "\n",
       "                                                image_url collection  \\\n",
       "count                                                 684        687   \n",
       "unique                                                206          4   \n",
       "top     https://www.panerai.com/content/dam/rcq/pan/10...    LUMINOR   \n",
       "freq                                                    4        368   \n",
       "\n",
       "       reference currency country     time scope  \n",
       "count        687      687     687            687  \n",
       "unique       207        4       4              1  \n",
       "top     PAM00655      JPY   Japan  December 2021  \n",
       "freq           4      201     201            687  "
      ]
     },
     "execution_count": 197,
     "metadata": {},
     "output_type": "execute_result"
    }
   ],
   "source": [
    "stats = data.describe(include=\"object\")\n",
    "stats"
   ]
  },
  {
   "cell_type": "code",
   "execution_count": 198,
   "id": "5c380d42",
   "metadata": {},
   "outputs": [
    {
     "name": "stdout",
     "output_type": "stream",
     "text": [
      "Number of rows: 687\n",
      "\n",
      "We have 4 collections, and LUMINOR is the leading one\n",
      "\n",
      "Catalog of Collections:\n",
      "1. RADIOMIR\n",
      "2. LUMINOR\n",
      "3. SUBMERSIBLE\n",
      "4. LUMINOR-DUE\n",
      "\n",
      "We have a total of 207 distinct products, with PAM00233 leading the selection from the LUMINOR collection\n"
     ]
    }
   ],
   "source": [
    "# Now use the function on your original data\n",
    "number_rows, number_unique_collections, top_collection, number_unique_references, top_reference, collection_list = describe_country(data)\n",
    "\n",
    "print(f\"Number of rows: {number_rows}\")\n",
    "if number_unique_collections == 1:\n",
    "    print(f\"\\nThere is a unique collection, named {top_collection}\")\n",
    "else:\n",
    "    print(f\"\\nWe have {number_unique_collections} collections, and {top_collection} is the leading one\")\n",
    "\n",
    "print(\"\\nCatalog of Collections:\")\n",
    "print(\"\\n\".join([f\"{i+1}. {collection}\" for i, collection in enumerate(collection_list)]))\n",
    "\n",
    "if number_unique_references == 1:\n",
    "    print(f\"\\nThere is a unique reference: {top_reference}\")\n",
    "else:\n",
    "    # Use the original data for lookup, not the summary!\n",
    "    collection_for_top_reference = data[data['reference'] == top_reference]['collection'].iloc[0]\n",
    "    print(f\"\\nWe have a total of {number_unique_references} distinct products, with {top_reference} leading the selection from the {collection_for_top_reference} collection\")\n"
   ]
  },
  {
   "cell_type": "code",
   "execution_count": 199,
   "id": "af3c1f79",
   "metadata": {},
   "outputs": [
    {
     "name": "stdout",
     "output_type": "stream",
     "text": [
      "There is a unique brand, named Panerai\n"
     ]
    }
   ],
   "source": [
    "# Brand\n",
    "number_unique_brands, top_brand = stats[\"brand\"].unique()[1], stats[\"brand\"].unique()[2]\n",
    "if number_unique_brands == 1:\n",
    "    print(f\"There is a unique brand, named {top_brand}\")\n",
    "else:\n",
    "    print(f\"There is {number_unique_brands} brands, and {top_brand} is the leading one\")"
   ]
  },
  {
   "cell_type": "code",
   "execution_count": 200,
   "id": "66c98e27",
   "metadata": {},
   "outputs": [
    {
     "name": "stdout",
     "output_type": "stream",
     "text": [
      "Our study is applied to 4 countries, with Japan being the top one\n"
     ]
    }
   ],
   "source": [
    "# Countries\n",
    "number_unique_countries, top_country = stats[\"country\"].unique()[1], stats[\"country\"].unique()[2]\n",
    "if number_unique_countries == 1:\n",
    "    print(f\"Our study is applied to a unique country, {top_country}\")\n",
    "else:\n",
    "    print(f\"Our study is applied to {number_unique_countries} countries, with {top_country} being the top one\")"
   ]
  },
  {
   "cell_type": "code",
   "execution_count": 201,
   "id": "5360c316",
   "metadata": {},
   "outputs": [
    {
     "name": "stdout",
     "output_type": "stream",
     "text": [
      "Countries Included in the Study:\n",
      "\n",
      "\t1. France\n",
      "\t2. UK\n",
      "\t3. Japan\n",
      "\t4. USA\n"
     ]
    }
   ],
   "source": [
    "countries_list = data[\"country\"].unique()\n",
    "\n",
    "print(\"Countries Included in the Study:\\n\")\n",
    "for i in range(len(countries_list)):\n",
    "    print(f\"\\t{i+1}. {countries_list[i]}\")"
   ]
  },
  {
   "cell_type": "code",
   "execution_count": 202,
   "id": "7ed860a9",
   "metadata": {
    "scrolled": true
   },
   "outputs": [
    {
     "data": {
      "image/png": "[encoded data removed]",
      "text/plain": [
       "<Figure size 640x480 with 1 Axes>"
      ]
     },
     "metadata": {},
     "output_type": "display_data"
    }
   ],
   "source": [
    "collection_visualization(data)"
   ]
  },
  {
   "cell_type": "code",
   "execution_count": 203,
   "id": "322f3e67",
   "metadata": {},
   "outputs": [
    {
     "data": {
      "text/html": [
       "<div>\n",
       "<style scoped>\n",
       "    .dataframe tbody tr th:only-of-type {\n",
       "        vertical-align: middle;\n",
       "    }\n",
       "\n",
       "    .dataframe tbody tr th {\n",
       "        vertical-align: top;\n",
       "    }\n",
       "\n",
       "    .dataframe thead th {\n",
       "        text-align: right;\n",
       "    }\n",
       "</style>\n",
       "<table border=\"1\" class=\"dataframe\">\n",
       "  <thead>\n",
       "    <tr style=\"text-align: right;\">\n",
       "      <th></th>\n",
       "      <th>brand</th>\n",
       "      <th>url</th>\n",
       "      <th>image_url</th>\n",
       "      <th>collection</th>\n",
       "      <th>reference</th>\n",
       "      <th>price</th>\n",
       "      <th>currency</th>\n",
       "      <th>country</th>\n",
       "      <th>time scope</th>\n",
       "    </tr>\n",
       "  </thead>\n",
       "  <tbody>\n",
       "    <tr>\n",
       "      <th>0</th>\n",
       "      <td>Panerai</td>\n",
       "      <td>https://www.panerai.com/fr/fr/collections/watc...</td>\n",
       "      <td>https://www.panerai.com/content/dam/rcq/pan/10...</td>\n",
       "      <td>RADIOMIR</td>\n",
       "      <td>PAM00655</td>\n",
       "      <td>9700.0</td>\n",
       "      <td>EUR</td>\n",
       "      <td>France</td>\n",
       "      <td>December 2021</td>\n",
       "    </tr>\n",
       "    <tr>\n",
       "      <th>1</th>\n",
       "      <td>Panerai</td>\n",
       "      <td>https://www.panerai.com/fr/fr/collections/watc...</td>\n",
       "      <td>https://www.panerai.com/content/dam/rcq/pan/11...</td>\n",
       "      <td>RADIOMIR</td>\n",
       "      <td>PAM00628</td>\n",
       "      <td>11600.0</td>\n",
       "      <td>EUR</td>\n",
       "      <td>France</td>\n",
       "      <td>December 2021</td>\n",
       "    </tr>\n",
       "    <tr>\n",
       "      <th>2</th>\n",
       "      <td>Panerai</td>\n",
       "      <td>https://www.panerai.com/fr/fr/collections/watc...</td>\n",
       "      <td>https://www.panerai.com/content/dam/rcq/pan/11...</td>\n",
       "      <td>RADIOMIR</td>\n",
       "      <td>PAM00657</td>\n",
       "      <td>11400.0</td>\n",
       "      <td>EUR</td>\n",
       "      <td>France</td>\n",
       "      <td>December 2021</td>\n",
       "    </tr>\n",
       "    <tr>\n",
       "      <th>3</th>\n",
       "      <td>Panerai</td>\n",
       "      <td>https://www.panerai.com/fr/fr/collections/watc...</td>\n",
       "      <td>https://www.panerai.com/content/dam/rcq/pan/13...</td>\n",
       "      <td>LUMINOR</td>\n",
       "      <td>PAM00661</td>\n",
       "      <td>11900.0</td>\n",
       "      <td>EUR</td>\n",
       "      <td>France</td>\n",
       "      <td>December 2021</td>\n",
       "    </tr>\n",
       "    <tr>\n",
       "      <th>4</th>\n",
       "      <td>Panerai</td>\n",
       "      <td>https://www.panerai.com/fr/fr/collections/watc...</td>\n",
       "      <td>https://www.panerai.com/content/dam/rcq/pan/13...</td>\n",
       "      <td>LUMINOR</td>\n",
       "      <td>PAM01312</td>\n",
       "      <td>7900.0</td>\n",
       "      <td>EUR</td>\n",
       "      <td>France</td>\n",
       "      <td>December 2021</td>\n",
       "    </tr>\n",
       "  </tbody>\n",
       "</table>\n",
       "</div>"
      ],
      "text/plain": [
       "     brand                                                url  \\\n",
       "0  Panerai  https://www.panerai.com/fr/fr/collections/watc...   \n",
       "1  Panerai  https://www.panerai.com/fr/fr/collections/watc...   \n",
       "2  Panerai  https://www.panerai.com/fr/fr/collections/watc...   \n",
       "3  Panerai  https://www.panerai.com/fr/fr/collections/watc...   \n",
       "4  Panerai  https://www.panerai.com/fr/fr/collections/watc...   \n",
       "\n",
       "                                           image_url collection reference  \\\n",
       "0  https://www.panerai.com/content/dam/rcq/pan/10...   RADIOMIR  PAM00655   \n",
       "1  https://www.panerai.com/content/dam/rcq/pan/11...   RADIOMIR  PAM00628   \n",
       "2  https://www.panerai.com/content/dam/rcq/pan/11...   RADIOMIR  PAM00657   \n",
       "3  https://www.panerai.com/content/dam/rcq/pan/13...    LUMINOR  PAM00661   \n",
       "4  https://www.panerai.com/content/dam/rcq/pan/13...    LUMINOR  PAM01312   \n",
       "\n",
       "     price currency country     time scope  \n",
       "0   9700.0      EUR  France  December 2021  \n",
       "1  11600.0      EUR  France  December 2021  \n",
       "2  11400.0      EUR  France  December 2021  \n",
       "3  11900.0      EUR  France  December 2021  \n",
       "4   7900.0      EUR  France  December 2021  "
      ]
     },
     "execution_count": 203,
     "metadata": {},
     "output_type": "execute_result"
    }
   ],
   "source": [
    "data.head()"
   ]
  },
  {
   "cell_type": "markdown",
   "id": "6955fb1f",
   "metadata": {},
   "source": [
    "## 4. Data Preprocessing"
   ]
  },
  {
   "cell_type": "code",
   "execution_count": 204,
   "id": "32b53b03",
   "metadata": {},
   "outputs": [
    {
     "name": "stdout",
     "output_type": "stream",
     "text": [
      "<class 'pandas.core.frame.DataFrame'>\n",
      "Int64Index: 687 entries, 0 to 692\n",
      "Data columns (total 9 columns):\n",
      " #   Column      Non-Null Count  Dtype  \n",
      "---  ------      --------------  -----  \n",
      " 0   brand       687 non-null    object \n",
      " 1   url         687 non-null    object \n",
      " 2   image_url   684 non-null    object \n",
      " 3   collection  687 non-null    object \n",
      " 4   reference   687 non-null    object \n",
      " 5   price       687 non-null    float64\n",
      " 6   currency    687 non-null    object \n",
      " 7   country     687 non-null    object \n",
      " 8   year        687 non-null    int64  \n",
      "dtypes: float64(1), int64(1), object(7)\n",
      "memory usage: 53.7+ KB\n"
     ]
    }
   ],
   "source": [
    "data[\"year\"] = data[\"time scope\"].str.split(' ', expand=True)[1]\n",
    "data[\"year\"] = pd.to_numeric(data['year'], errors='coerce')\n",
    "data.drop(\"time scope\", axis=1, inplace=True)\n",
    "data.info()"
   ]
  },
  {
   "cell_type": "code",
   "execution_count": 184,
   "id": "0ffccbab",
   "metadata": {},
   "outputs": [
    {
     "name": "stdout",
     "output_type": "stream",
     "text": [
      "https://v6.exchangerate-api.com/v6/1469e13710f523e45c568282/latest/EUR\n",
      "https://v6.exchangerate-api.com/v6/1469e13710f523e45c568282/latest/EUR\n",
      "https://v6.exchangerate-api.com/v6/1469e13710f523e45c568282/latest/EUR\n",
      "https://v6.exchangerate-api.com/v6/1469e13710f523e45c568282/latest/GBP\n",
      "https://v6.exchangerate-api.com/v6/1469e13710f523e45c568282/latest/GBP\n",
      "https://v6.exchangerate-api.com/v6/1469e13710f523e45c568282/latest/GBP\n",
      "https://v6.exchangerate-api.com/v6/1469e13710f523e45c568282/latest/JPY\n",
      "https://v6.exchangerate-api.com/v6/1469e13710f523e45c568282/latest/JPY\n",
      "https://v6.exchangerate-api.com/v6/1469e13710f523e45c568282/latest/JPY\n",
      "https://v6.exchangerate-api.com/v6/1469e13710f523e45c568282/latest/USD\n",
      "https://v6.exchangerate-api.com/v6/1469e13710f523e45c568282/latest/USD\n",
      "https://v6.exchangerate-api.com/v6/1469e13710f523e45c568282/latest/USD\n"
     ]
    }
   ],
   "source": [
    "data = currency_convertor(data)"
   ]
  },
  {
   "cell_type": "code",
   "execution_count": 208,
   "id": "68af55c1",
   "metadata": {
    "scrolled": true
   },
   "outputs": [
    {
     "data": {
      "text/html": [
       "<div>\n",
       "<style scoped>\n",
       "    .dataframe tbody tr th:only-of-type {\n",
       "        vertical-align: middle;\n",
       "    }\n",
       "\n",
       "    .dataframe tbody tr th {\n",
       "        vertical-align: top;\n",
       "    }\n",
       "\n",
       "    .dataframe thead th {\n",
       "        text-align: right;\n",
       "    }\n",
       "</style>\n",
       "<table border=\"1\" class=\"dataframe\">\n",
       "  <thead>\n",
       "    <tr style=\"text-align: right;\">\n",
       "      <th></th>\n",
       "      <th>brand</th>\n",
       "      <th>url</th>\n",
       "      <th>image_url</th>\n",
       "      <th>collection</th>\n",
       "      <th>reference</th>\n",
       "      <th>price</th>\n",
       "      <th>currency</th>\n",
       "      <th>country</th>\n",
       "      <th>year</th>\n",
       "      <th>price_EUR</th>\n",
       "      <th>price_GBP</th>\n",
       "      <th>price_USD</th>\n",
       "      <th>price_JPY</th>\n",
       "    </tr>\n",
       "  </thead>\n",
       "  <tbody>\n",
       "    <tr>\n",
       "      <th>0</th>\n",
       "      <td>Panerai</td>\n",
       "      <td>https://www.panerai.com/fr/fr/collections/watc...</td>\n",
       "      <td>https://www.panerai.com/content/dam/rcq/pan/10...</td>\n",
       "      <td>RADIOMIR</td>\n",
       "      <td>PAM00655</td>\n",
       "      <td>9700.0</td>\n",
       "      <td>EUR</td>\n",
       "      <td>France</td>\n",
       "      <td>2021</td>\n",
       "      <td>9700.0</td>\n",
       "      <td>8009.29</td>\n",
       "      <td>10074.42</td>\n",
       "      <td>1516928.68</td>\n",
       "    </tr>\n",
       "    <tr>\n",
       "      <th>1</th>\n",
       "      <td>Panerai</td>\n",
       "      <td>https://www.panerai.com/fr/fr/collections/watc...</td>\n",
       "      <td>https://www.panerai.com/content/dam/rcq/pan/11...</td>\n",
       "      <td>RADIOMIR</td>\n",
       "      <td>PAM00628</td>\n",
       "      <td>11600.0</td>\n",
       "      <td>EUR</td>\n",
       "      <td>France</td>\n",
       "      <td>2021</td>\n",
       "      <td>11600.0</td>\n",
       "      <td>9578.12</td>\n",
       "      <td>12047.76</td>\n",
       "      <td>1814059.04</td>\n",
       "    </tr>\n",
       "    <tr>\n",
       "      <th>2</th>\n",
       "      <td>Panerai</td>\n",
       "      <td>https://www.panerai.com/fr/fr/collections/watc...</td>\n",
       "      <td>https://www.panerai.com/content/dam/rcq/pan/11...</td>\n",
       "      <td>RADIOMIR</td>\n",
       "      <td>PAM00657</td>\n",
       "      <td>11400.0</td>\n",
       "      <td>EUR</td>\n",
       "      <td>France</td>\n",
       "      <td>2021</td>\n",
       "      <td>11400.0</td>\n",
       "      <td>9412.98</td>\n",
       "      <td>11840.04</td>\n",
       "      <td>1782782.16</td>\n",
       "    </tr>\n",
       "    <tr>\n",
       "      <th>3</th>\n",
       "      <td>Panerai</td>\n",
       "      <td>https://www.panerai.com/fr/fr/collections/watc...</td>\n",
       "      <td>https://www.panerai.com/content/dam/rcq/pan/13...</td>\n",
       "      <td>LUMINOR</td>\n",
       "      <td>PAM00661</td>\n",
       "      <td>11900.0</td>\n",
       "      <td>EUR</td>\n",
       "      <td>France</td>\n",
       "      <td>2021</td>\n",
       "      <td>11900.0</td>\n",
       "      <td>9825.83</td>\n",
       "      <td>12359.34</td>\n",
       "      <td>1860974.36</td>\n",
       "    </tr>\n",
       "    <tr>\n",
       "      <th>4</th>\n",
       "      <td>Panerai</td>\n",
       "      <td>https://www.panerai.com/fr/fr/collections/watc...</td>\n",
       "      <td>https://www.panerai.com/content/dam/rcq/pan/13...</td>\n",
       "      <td>LUMINOR</td>\n",
       "      <td>PAM01312</td>\n",
       "      <td>7900.0</td>\n",
       "      <td>EUR</td>\n",
       "      <td>France</td>\n",
       "      <td>2021</td>\n",
       "      <td>7900.0</td>\n",
       "      <td>6523.03</td>\n",
       "      <td>8204.94</td>\n",
       "      <td>1235436.76</td>\n",
       "    </tr>\n",
       "  </tbody>\n",
       "</table>\n",
       "</div>"
      ],
      "text/plain": [
       "     brand                                                url  \\\n",
       "0  Panerai  https://www.panerai.com/fr/fr/collections/watc...   \n",
       "1  Panerai  https://www.panerai.com/fr/fr/collections/watc...   \n",
       "2  Panerai  https://www.panerai.com/fr/fr/collections/watc...   \n",
       "3  Panerai  https://www.panerai.com/fr/fr/collections/watc...   \n",
       "4  Panerai  https://www.panerai.com/fr/fr/collections/watc...   \n",
       "\n",
       "                                           image_url collection reference  \\\n",
       "0  https://www.panerai.com/content/dam/rcq/pan/10...   RADIOMIR  PAM00655   \n",
       "1  https://www.panerai.com/content/dam/rcq/pan/11...   RADIOMIR  PAM00628   \n",
       "2  https://www.panerai.com/content/dam/rcq/pan/11...   RADIOMIR  PAM00657   \n",
       "3  https://www.panerai.com/content/dam/rcq/pan/13...    LUMINOR  PAM00661   \n",
       "4  https://www.panerai.com/content/dam/rcq/pan/13...    LUMINOR  PAM01312   \n",
       "\n",
       "     price currency country  year  price_EUR  price_GBP  price_USD   price_JPY  \n",
       "0   9700.0      EUR  France  2021     9700.0    8009.29   10074.42  1516928.68  \n",
       "1  11600.0      EUR  France  2021    11600.0    9578.12   12047.76  1814059.04  \n",
       "2  11400.0      EUR  France  2021    11400.0    9412.98   11840.04  1782782.16  \n",
       "3  11900.0      EUR  France  2021    11900.0    9825.83   12359.34  1860974.36  \n",
       "4   7900.0      EUR  France  2021     7900.0    6523.03    8204.94  1235436.76  "
      ]
     },
     "execution_count": 208,
     "metadata": {},
     "output_type": "execute_result"
    }
   ],
   "source": [
    "data.head()"
   ]
  },
  {
   "cell_type": "code",
   "execution_count": 209,
   "id": "8239c6f7",
   "metadata": {},
   "outputs": [],
   "source": [
    "data.to_csv(\"../data/silver/PANERAI_DATA_2021.csv\", index=False)"
   ]
  },
  {
   "cell_type": "markdown",
   "id": "203276ef",
   "metadata": {},
   "source": [
    "## 4. Business Analysis"
   ]
  },
  {
   "cell_type": "markdown",
   "id": "f6a50cd8",
   "metadata": {},
   "source": [
    "## 4.1. Analysis of the global data"
   ]
  },
  {
   "cell_type": "markdown",
   "id": "593ddf9a",
   "metadata": {},
   "source": [
    "#### 4.1.1. Top products with the highest price difference (difference from the minimum price)"
   ]
  },
  {
   "cell_type": "code",
   "execution_count": 210,
   "id": "87112c9e",
   "metadata": {},
   "outputs": [
    {
     "name": "stdout",
     "output_type": "stream",
     "text": [
      "Top 5 products with the highest price difference:\n"
     ]
    },
    {
     "data": {
      "text/html": [
       "<div>\n",
       "<style scoped>\n",
       "    .dataframe tbody tr th:only-of-type {\n",
       "        vertical-align: middle;\n",
       "    }\n",
       "\n",
       "    .dataframe tbody tr th {\n",
       "        vertical-align: top;\n",
       "    }\n",
       "\n",
       "    .dataframe thead th {\n",
       "        text-align: right;\n",
       "    }\n",
       "</style>\n",
       "<table border=\"1\" class=\"dataframe\">\n",
       "  <thead>\n",
       "    <tr style=\"text-align: right;\">\n",
       "      <th></th>\n",
       "      <th>country</th>\n",
       "      <th>min_price_country</th>\n",
       "      <th>collection</th>\n",
       "      <th>reference</th>\n",
       "      <th>price_USD</th>\n",
       "      <th>min_price</th>\n",
       "      <th>price_diff</th>\n",
       "    </tr>\n",
       "  </thead>\n",
       "  <tbody>\n",
       "    <tr>\n",
       "      <th>641</th>\n",
       "      <td>USA</td>\n",
       "      <td>Japan</td>\n",
       "      <td>LUMINOR</td>\n",
       "      <td>PAM01060</td>\n",
       "      <td>217000.0</td>\n",
       "      <td>137548.392</td>\n",
       "      <td>79451.608</td>\n",
       "    </tr>\n",
       "    <tr>\n",
       "      <th>581</th>\n",
       "      <td>USA</td>\n",
       "      <td>Japan</td>\n",
       "      <td>LUMINOR</td>\n",
       "      <td>PAM00768</td>\n",
       "      <td>189000.0</td>\n",
       "      <td>119730.589</td>\n",
       "      <td>69269.411</td>\n",
       "    </tr>\n",
       "    <tr>\n",
       "      <th>605</th>\n",
       "      <td>USA</td>\n",
       "      <td>France</td>\n",
       "      <td>SUBMERSIBLE</td>\n",
       "      <td>PAM01108</td>\n",
       "      <td>247700.0</td>\n",
       "      <td>197334.000</td>\n",
       "      <td>50366.000</td>\n",
       "    </tr>\n",
       "    <tr>\n",
       "      <th>639</th>\n",
       "      <td>USA</td>\n",
       "      <td>Japan</td>\n",
       "      <td>LUMINOR</td>\n",
       "      <td>PAM00715</td>\n",
       "      <td>85900.0</td>\n",
       "      <td>54569.097</td>\n",
       "      <td>31330.903</td>\n",
       "    </tr>\n",
       "    <tr>\n",
       "      <th>638</th>\n",
       "      <td>USA</td>\n",
       "      <td>Japan</td>\n",
       "      <td>SUBMERSIBLE</td>\n",
       "      <td>PAM01225</td>\n",
       "      <td>78300.0</td>\n",
       "      <td>49528.578</td>\n",
       "      <td>28771.422</td>\n",
       "    </tr>\n",
       "  </tbody>\n",
       "</table>\n",
       "</div>"
      ],
      "text/plain": [
       "    country min_price_country   collection reference  price_USD   min_price  \\\n",
       "641     USA             Japan      LUMINOR  PAM01060   217000.0  137548.392   \n",
       "581     USA             Japan      LUMINOR  PAM00768   189000.0  119730.589   \n",
       "605     USA            France  SUBMERSIBLE  PAM01108   247700.0  197334.000   \n",
       "639     USA             Japan      LUMINOR  PAM00715    85900.0   54569.097   \n",
       "638     USA             Japan  SUBMERSIBLE  PAM01225    78300.0   49528.578   \n",
       "\n",
       "     price_diff  \n",
       "641   79451.608  \n",
       "581   69269.411  \n",
       "605   50366.000  \n",
       "639   31330.903  \n",
       "638   28771.422  "
      ]
     },
     "execution_count": 210,
     "metadata": {},
     "output_type": "execute_result"
    }
   ],
   "source": [
    "data_with_diff = calculate_price_difference(data)\n",
    "\n",
    "print(\"Top 5 products with the highest price difference:\")\n",
    "# Group by product and pick the row with the maximum price difference per product\n",
    "top_diff = data_with_diff.sort_values('price_diff', ascending=False).drop_duplicates(subset=['collection', 'reference'])\n",
    "top_diff.head()"
   ]
  },
  {
   "cell_type": "markdown",
   "id": "915ad1e1",
   "metadata": {},
   "source": [
    "#### 4.1.2. The Product Offered by the Country with the Cheapest Price"
   ]
  },
  {
   "cell_type": "code",
   "execution_count": 211,
   "id": "71a8bce1",
   "metadata": {},
   "outputs": [
    {
     "name": "stdout",
     "output_type": "stream",
     "text": [
      "\n",
      "Cheapest prices per product:\n",
      "    collection reference  cheapest_price cheapest_country\n",
      "139    LUMINOR  PAM00233       12463.200           France\n",
      "479    LUMINOR  PAM00317       17386.138            Japan\n",
      "132    LUMINOR  PAM00335       17967.780           France\n",
      "480    LUMINOR  PAM00372        7232.049            Japan\n",
      "140    LUMINOR  PAM00422       10178.280           France\n"
     ]
    }
   ],
   "source": [
    "cheapest_prices = find_cheapest_prices(data_with_diff)\n",
    "\n",
    "print(\"\\nCheapest prices per product:\")\n",
    "print(cheapest_prices.head())"
   ]
  },
  {
   "cell_type": "markdown",
   "id": "9920e456",
   "metadata": {},
   "source": [
    "#### 4.1.3. The best selling option"
   ]
  },
  {
   "cell_type": "code",
   "execution_count": 212,
   "id": "5c6b7649",
   "metadata": {},
   "outputs": [
    {
     "name": "stdout",
     "output_type": "stream",
     "text": [
      "\n",
      "Best selling prices by product (sample):\n"
     ]
    },
    {
     "data": {
      "text/html": [
       "<div>\n",
       "<style scoped>\n",
       "    .dataframe tbody tr th:only-of-type {\n",
       "        vertical-align: middle;\n",
       "    }\n",
       "\n",
       "    .dataframe tbody tr th {\n",
       "        vertical-align: top;\n",
       "    }\n",
       "\n",
       "    .dataframe thead th {\n",
       "        text-align: right;\n",
       "    }\n",
       "</style>\n",
       "<table border=\"1\" class=\"dataframe\">\n",
       "  <thead>\n",
       "    <tr style=\"text-align: right;\">\n",
       "      <th></th>\n",
       "      <th>collection</th>\n",
       "      <th>reference</th>\n",
       "      <th>best_sell_price</th>\n",
       "      <th>best_sell_country</th>\n",
       "      <th>min_price</th>\n",
       "      <th>min_price_country</th>\n",
       "      <th>profit</th>\n",
       "    </tr>\n",
       "  </thead>\n",
       "  <tbody>\n",
       "    <tr>\n",
       "      <th>0</th>\n",
       "      <td>LUMINOR</td>\n",
       "      <td>PAM00233</td>\n",
       "      <td>15600.000</td>\n",
       "      <td>USA</td>\n",
       "      <td>10007.987</td>\n",
       "      <td>Japan</td>\n",
       "      <td>5592.013</td>\n",
       "    </tr>\n",
       "    <tr>\n",
       "      <th>1</th>\n",
       "      <td>LUMINOR</td>\n",
       "      <td>PAM00317</td>\n",
       "      <td>27200.000</td>\n",
       "      <td>USA</td>\n",
       "      <td>17386.138</td>\n",
       "      <td>Japan</td>\n",
       "      <td>9813.862</td>\n",
       "    </tr>\n",
       "    <tr>\n",
       "      <th>2</th>\n",
       "      <td>LUMINOR</td>\n",
       "      <td>PAM00335</td>\n",
       "      <td>19016.940</td>\n",
       "      <td>UK</td>\n",
       "      <td>14317.996</td>\n",
       "      <td>Japan</td>\n",
       "      <td>4698.944</td>\n",
       "    </tr>\n",
       "    <tr>\n",
       "      <th>3</th>\n",
       "      <td>LUMINOR</td>\n",
       "      <td>PAM00372</td>\n",
       "      <td>7232.049</td>\n",
       "      <td>Japan</td>\n",
       "      <td>7232.049</td>\n",
       "      <td>Japan</td>\n",
       "      <td>0.000</td>\n",
       "    </tr>\n",
       "    <tr>\n",
       "      <th>4</th>\n",
       "      <td>LUMINOR</td>\n",
       "      <td>PAM00422</td>\n",
       "      <td>12800.000</td>\n",
       "      <td>USA</td>\n",
       "      <td>8108.661</td>\n",
       "      <td>Japan</td>\n",
       "      <td>4691.339</td>\n",
       "    </tr>\n",
       "  </tbody>\n",
       "</table>\n",
       "</div>"
      ],
      "text/plain": [
       "  collection reference  best_sell_price best_sell_country  min_price  \\\n",
       "0    LUMINOR  PAM00233        15600.000               USA  10007.987   \n",
       "1    LUMINOR  PAM00317        27200.000               USA  17386.138   \n",
       "2    LUMINOR  PAM00335        19016.940                UK  14317.996   \n",
       "3    LUMINOR  PAM00372         7232.049             Japan   7232.049   \n",
       "4    LUMINOR  PAM00422        12800.000               USA   8108.661   \n",
       "\n",
       "  min_price_country    profit  \n",
       "0             Japan  5592.013  \n",
       "1             Japan  9813.862  \n",
       "2             Japan  4698.944  \n",
       "3             Japan     0.000  \n",
       "4             Japan  4691.339  "
      ]
     },
     "execution_count": 212,
     "metadata": {},
     "output_type": "execute_result"
    }
   ],
   "source": [
    "best_sell_prices = find_best_sell_prices(data)\n",
    "\n",
    "print(\"\\nBest selling prices by product (sample):\")\n",
    "best_sell_prices.head(5)"
   ]
  },
  {
   "cell_type": "markdown",
   "id": "cfe81d5e",
   "metadata": {},
   "source": [
    "#### 4.1.4. The sum of potential profits per collection"
   ]
  },
  {
   "cell_type": "code",
   "execution_count": 213,
   "id": "77730f9f",
   "metadata": {},
   "outputs": [
    {
     "name": "stdout",
     "output_type": "stream",
     "text": [
      "Total Profit: 1310497.1365 $\n",
      "\n",
      "Profit by Collection:\n",
      "    collection  total_profit_by_collection ($)\n",
      "0      LUMINOR                     711004.3975\n",
      "1  LUMINOR-DUE                     128319.1320\n",
      "2     RADIOMIR                     139832.3740\n",
      "3  SUBMERSIBLE                     331341.2330\n"
     ]
    }
   ],
   "source": [
    "# Run the function\n",
    "profits = sum_profit(best_sell_prices)\n",
    "\n",
    "# Print the results\n",
    "print(f\"Total Profit: {profits['global_profit']} $\")\n",
    "\n",
    "print(\"\\nProfit by Collection:\")\n",
    "print(profits[\"profit_by_collection\"])\n"
   ]
  },
  {
   "cell_type": "markdown",
   "id": "8e6819f8",
   "metadata": {},
   "source": [
    "## 4.2. Analysis for a given country"
   ]
  },
  {
   "cell_type": "markdown",
   "id": "89fa0754",
   "metadata": {},
   "source": [
    "### 4.2.1. France"
   ]
  },
  {
   "cell_type": "code",
   "execution_count": 214,
   "id": "fd8ac586",
   "metadata": {},
   "outputs": [],
   "source": [
    "country = \"France\""
   ]
  },
  {
   "cell_type": "code",
   "execution_count": 215,
   "id": "e1f0a431",
   "metadata": {},
   "outputs": [
    {
     "name": "stdout",
     "output_type": "stream",
     "text": [
      "Number of rows: 153\n",
      "\n",
      "We have 4 collections, and LUMINOR is the leading one\n",
      "\n",
      "Catalog of Collections:\n",
      "1. RADIOMIR\n",
      "2. LUMINOR\n",
      "3. SUBMERSIBLE\n",
      "4. LUMINOR-DUE\n",
      "\n",
      "We have a total of 153 distinct products, with PAM00233 leading the selection from the LUMINOR collection\n"
     ]
    }
   ],
   "source": [
    "# Now use the function on your original data\n",
    "number_rows, number_unique_collections, top_collection, number_unique_references, top_reference, collection_list = describe_country(data, country = \"France\")\n",
    "\n",
    "print(f\"Number of rows: {number_rows}\")\n",
    "if number_unique_collections == 1:\n",
    "    print(f\"\\nThere is a unique collection, named {top_collection}\")\n",
    "else:\n",
    "    print(f\"\\nWe have {number_unique_collections} collections, and {top_collection} is the leading one\")\n",
    "\n",
    "print(\"\\nCatalog of Collections:\")\n",
    "print(\"\\n\".join([f\"{i+1}. {collection}\" for i, collection in enumerate(collection_list)]))\n",
    "\n",
    "if number_unique_references == 1:\n",
    "    print(f\"\\nThere is a unique reference: {top_reference}\")\n",
    "else:\n",
    "    # Use the original data for lookup, not the summary!\n",
    "    collection_for_top_reference = data[data['reference'] == top_reference]['collection'].iloc[0]\n",
    "    print(f\"\\nWe have a total of {number_unique_references} distinct products, with {top_reference} leading the selection from the {collection_for_top_reference} collection\")\n"
   ]
  },
  {
   "cell_type": "code",
   "execution_count": 216,
   "id": "384b6d30",
   "metadata": {},
   "outputs": [
    {
     "data": {
      "image/png": "[encoded data removed]",
      "text/plain": [
       "<Figure size 640x480 with 1 Axes>"
      ]
     },
     "metadata": {},
     "output_type": "display_data"
    }
   ],
   "source": [
    "collection_visualization(data, country)"
   ]
  },
  {
   "cell_type": "code",
   "execution_count": 217,
   "id": "42ce73d4",
   "metadata": {},
   "outputs": [],
   "source": [
    "overall_stats, collection_stats = analyze_country(data, country)"
   ]
  },
  {
   "cell_type": "markdown",
   "id": "debd0ba9",
   "metadata": {},
   "source": [
    "#### Identify the cheapest and most expensive product in the whole subset"
   ]
  },
  {
   "cell_type": "code",
   "execution_count": 1,
   "id": "ded5a1bf",
   "metadata": {},
   "outputs": [
    {
     "ename": "NameError",
     "evalue": "name 'analyze_country' is not defined",
     "output_type": "error",
     "traceback": [
      "\u001b[1;31m---------------------------------------------------------------------------\u001b[0m",
      "\u001b[1;31mNameError\u001b[0m                                 Traceback (most recent call last)",
      "\u001b[1;32m~\\AppData\\Local\\Temp\\ipykernel_4804\\4094144137.py\u001b[0m in \u001b[0;36m<module>\u001b[1;34m\u001b[0m\n\u001b[1;32m----> 1\u001b[1;33m \u001b[0moverall_stats\u001b[0m\u001b[1;33m,\u001b[0m \u001b[0mcollection_stats\u001b[0m \u001b[1;33m=\u001b[0m \u001b[0manalyze_country\u001b[0m\u001b[1;33m(\u001b[0m\u001b[0mdata\u001b[0m\u001b[1;33m,\u001b[0m \u001b[0mcountry\u001b[0m\u001b[1;33m)\u001b[0m\u001b[1;33m\u001b[0m\u001b[1;33m\u001b[0m\u001b[0m\n\u001b[0m\u001b[0;32m      2\u001b[0m \u001b[1;33m\u001b[0m\u001b[0m\n\u001b[0;32m      3\u001b[0m \u001b[0mprint\u001b[0m\u001b[1;33m(\u001b[0m\u001b[1;34mf\"\\nCheapest and most expensive product in {country}:\"\u001b[0m\u001b[1;33m)\u001b[0m\u001b[1;33m\u001b[0m\u001b[1;33m\u001b[0m\u001b[0m\n\u001b[0;32m      4\u001b[0m \u001b[0mprint\u001b[0m\u001b[1;33m(\u001b[0m\u001b[1;34mf\"  Cheapest -> Collection: {overall_stats['cheapest']['collection']}, Reference: {overall_stats['cheapest']['reference']}, Price: {overall_stats['cheapest']['price']} {(data['currency'][data['country'] == country]).unique()[0]}\"\u001b[0m\u001b[1;33m)\u001b[0m\u001b[1;33m\u001b[0m\u001b[1;33m\u001b[0m\u001b[0m\n\u001b[0;32m      5\u001b[0m \u001b[0mprint\u001b[0m\u001b[1;33m(\u001b[0m\u001b[1;34mf\"  Most Expensive -> Collection: {overall_stats['most_expensive']['collection']}, Reference: {overall_stats['most_expensive']['reference']}, Price: {overall_stats['most_expensive']['price']} {(data['currency'][data['country'] == country]).unique()[0]}\"\u001b[0m\u001b[1;33m)\u001b[0m\u001b[1;33m\u001b[0m\u001b[1;33m\u001b[0m\u001b[0m\n",
      "\u001b[1;31mNameError\u001b[0m: name 'analyze_country' is not defined"
     ]
    }
   ],
   "source": [
    "overall_stats, collection_stats = analyze_country(data, country)\n",
    "\n",
    "print(f\"\\nCheapest and most expensive product in {country}:\")\n",
    "print(f\"  Cheapest -> Collection: {overall_stats['cheapest']['collection']}, Reference: {overall_stats['cheapest']['reference']}, Price: {overall_stats['cheapest']['price']} {(data['currency'][data['country'] == country]).unique()[0]}\")\n",
    "print(f\"  Most Expensive -> Collection: {overall_stats['most_expensive']['collection']}, Reference: {overall_stats['most_expensive']['reference']}, Price: {overall_stats['most_expensive']['price']} {(data['currency'][data['country'] == country]).unique()[0]}\")"
   ]
  },
  {
   "cell_type": "markdown",
   "id": "ec64b412",
   "metadata": {},
   "source": [
    "#### Identify the cheapest and most expensive product per collection"
   ]
  },
  {
   "cell_type": "code",
   "execution_count": 219,
   "id": "356e10db",
   "metadata": {},
   "outputs": [
    {
     "name": "stdout",
     "output_type": "stream",
     "text": [
      "Collection: RADIOMIR\n",
      "  Cheapest -> Reference: PAM00753, Price: 4400.0 EUR\n",
      "  Most Expensive -> Reference: PAM00997, Price: 12900.0 EUR\n",
      "\n",
      "--------------------------------------------------\n",
      "\n",
      "Collection: LUMINOR\n",
      "  Cheapest -> Reference: PAM00774, Price: 4900.0 EUR\n",
      "  Most Expensive -> Reference: PAM01060, Price: 166000.0 EUR\n",
      "\n",
      "--------------------------------------------------\n",
      "\n",
      "Collection: SUBMERSIBLE\n",
      "  Cheapest -> Reference: PAM00973, Price: 8700.0 EUR\n",
      "  Most Expensive -> Reference: PAM01108, Price: 190000.0 EUR\n",
      "\n",
      "--------------------------------------------------\n",
      "\n",
      "Collection: LUMINOR-DUE\n",
      "  Cheapest -> Reference: PAM00755, Price: 6100.0 EUR\n",
      "  Most Expensive -> Reference: PAM00741, Price: 21500.0 EUR\n",
      "\n",
      "--------------------------------------------------\n",
      "\n"
     ]
    }
   ],
   "source": [
    "for stat in collection_stats:\n",
    "    print(f\"Collection: {stat['collection']}\")\n",
    "    print(f\"  Cheapest -> Reference: {stat['cheapest']['reference']}, Price: {stat['cheapest']['price']} {(data['currency'][data['country'] == country]).unique()[0]}\")\n",
    "    print(f\"  Most Expensive -> Reference: {stat['most_expensive']['reference']}, Price: {stat['most_expensive']['price']} {(data['currency'][data['country'] == country]).unique()[0]}\")\n",
    "    print(\"\\n\"+\"-\"*50+\"\\n\")"
   ]
  },
  {
   "cell_type": "markdown",
   "id": "08371bb8",
   "metadata": {},
   "source": [
    "### 4.2.2. UK"
   ]
  },
  {
   "cell_type": "code",
   "execution_count": 220,
   "id": "98547779",
   "metadata": {},
   "outputs": [],
   "source": [
    "country = \"UK\""
   ]
  },
  {
   "cell_type": "code",
   "execution_count": 221,
   "id": "05c1b399",
   "metadata": {},
   "outputs": [
    {
     "name": "stdout",
     "output_type": "stream",
     "text": [
      "Number of rows: 155\n",
      "\n",
      "We have 4 collections, and LUMINOR is the leading one\n",
      "\n",
      "Catalog of Collections:\n",
      "1. RADIOMIR\n",
      "2. LUMINOR\n",
      "3. LUMINOR-DUE\n",
      "4. SUBMERSIBLE\n",
      "\n",
      "We have a Total of 155 distinct products, with PAM00233 leading the selection from LUMINOR collection\n"
     ]
    }
   ],
   "source": [
    "number_rows, number_unique_collections, top_collection, number_unique_references, top_reference, collection_list = describe_country(data, country)\n",
    "\n",
    "# Number of rows\n",
    "print(f\"Number of rows: {number_rows}\")\n",
    "if number_unique_collections == 1:\n",
    "    print(f\"\\nThere is a unique collection, named {top_collection}\")\n",
    "else:\n",
    "    print(f\"\\nWe have {number_unique_collections} collections, and {top_collection} is the leading one\")\n",
    "\n",
    "# Collections list    \n",
    "print(\"\\nCatalog of Collections:\")\n",
    "print(\"\\n\".join([f\"{i+1}. {collection}\" for i, collection in enumerate(collection_list)]))\n",
    "\n",
    "# Distinct products based on Reference\n",
    "if number_unique_references == 1:\n",
    "    print(f\"\\nThere is a unique reference: {top_reference}\")\n",
    "else:\n",
    "    print(f\"\\nWe have a Total of {number_unique_references} distinct products, with {top_reference} leading the selection from {data[data['reference'] == top_reference]['collection'].values[0]} collection\")"
   ]
  },
  {
   "cell_type": "code",
   "execution_count": 222,
   "id": "c8b07298",
   "metadata": {},
   "outputs": [
    {
     "data": {
      "image/png": "[encoded data removed]",
      "text/plain": [
       "<Figure size 640x480 with 1 Axes>"
      ]
     },
     "metadata": {},
     "output_type": "display_data"
    }
   ],
   "source": [
    "collection_visualization(data, country)"
   ]
  },
  {
   "cell_type": "code",
   "execution_count": 223,
   "id": "89596a68",
   "metadata": {},
   "outputs": [],
   "source": [
    "overall_stats, collection_stats = analyze_country(data, country)"
   ]
  },
  {
   "cell_type": "code",
   "execution_count": 224,
   "id": "226dc1a7",
   "metadata": {},
   "outputs": [
    {
     "name": "stdout",
     "output_type": "stream",
     "text": [
      "\n",
      "Cheapest and most expensive product in UK:\n",
      "  Cheapest -> Collection: RADIOMIR, Reference: PAM00753, Price: 3800.0 GBP\n",
      "  Most Expensive -> Collection: SUBMERSIBLE, Reference: PAM01108, Price: 169900.0 GBP\n"
     ]
    }
   ],
   "source": [
    "print(f\"\\nCheapest and most expensive product in {country}:\")\n",
    "print(f\"  Cheapest -> Collection: {overall_stats['cheapest']['collection']}, Reference: {overall_stats['cheapest']['reference']}, Price: {overall_stats['cheapest']['price']} {(data['currency'][data['country'] == country]).unique()[0]}\")\n",
    "print(f\"  Most Expensive -> Collection: {overall_stats['most_expensive']['collection']}, Reference: {overall_stats['most_expensive']['reference']}, Price: {overall_stats['most_expensive']['price']} {(data['currency'][data['country'] == country]).unique()[0]}\")"
   ]
  },
  {
   "cell_type": "code",
   "execution_count": 225,
   "id": "106d5c05",
   "metadata": {},
   "outputs": [
    {
     "name": "stdout",
     "output_type": "stream",
     "text": [
      "Collection: RADIOMIR\n",
      "  Cheapest -> Reference: PAM00753, Price: 3800.0 GBP\n",
      "  Most Expensive -> Reference: PAM00997, Price: 11500.0 GBP\n",
      "\n",
      "--------------------------------------------------\n",
      "\n",
      "Collection: LUMINOR\n",
      "  Cheapest -> Reference: PAM00774, Price: 4300.0 GBP\n",
      "  Most Expensive -> Reference: PAM01060, Price: 148200.0 GBP\n",
      "\n",
      "--------------------------------------------------\n",
      "\n",
      "Collection: LUMINOR-DUE\n",
      "  Cheapest -> Reference: PAM00755, Price: 5500.0 GBP\n",
      "  Most Expensive -> Reference: PAM00675, Price: 22400.0 GBP\n",
      "\n",
      "--------------------------------------------------\n",
      "\n",
      "Collection: SUBMERSIBLE\n",
      "  Cheapest -> Reference: PAM00973, Price: 7600.0 GBP\n",
      "  Most Expensive -> Reference: PAM01108, Price: 169900.0 GBP\n",
      "\n",
      "--------------------------------------------------\n",
      "\n"
     ]
    }
   ],
   "source": [
    "for stat in collection_stats:\n",
    "    print(f\"Collection: {stat['collection']}\")\n",
    "    print(f\"  Cheapest -> Reference: {stat['cheapest']['reference']}, Price: {stat['cheapest']['price']} {(data['currency'][data['country'] == country]).unique()[0]}\")\n",
    "    print(f\"  Most Expensive -> Reference: {stat['most_expensive']['reference']}, Price: {stat['most_expensive']['price']} {(data['currency'][data['country'] == country]).unique()[0]}\")\n",
    "    print(\"\\n\"+\"-\"*50+\"\\n\")"
   ]
  },
  {
   "cell_type": "markdown",
   "id": "8c124694",
   "metadata": {},
   "source": [
    "### 4.2.3. Japan"
   ]
  },
  {
   "cell_type": "code",
   "execution_count": 226,
   "id": "25b7a6de",
   "metadata": {},
   "outputs": [],
   "source": [
    "country = \"Japan\""
   ]
  },
  {
   "cell_type": "code",
   "execution_count": 227,
   "id": "26455680",
   "metadata": {},
   "outputs": [
    {
     "name": "stdout",
     "output_type": "stream",
     "text": [
      "Number of rows: 201\n",
      "\n",
      "We have 4 collections, and LUMINOR is the leading one\n",
      "\n",
      "Catalog of Collections:\n",
      "1. RADIOMIR\n",
      "2. LUMINOR\n",
      "3. LUMINOR-DUE\n",
      "4. SUBMERSIBLE\n",
      "\n",
      "We have a Total of 201 distinct products, with PAM00233 leading the selection from LUMINOR collection\n"
     ]
    }
   ],
   "source": [
    "number_rows, number_unique_collections, top_collection, number_unique_references, top_reference, collection_list = describe_country(data, country)\n",
    "\n",
    "# Number of rows\n",
    "print(f\"Number of rows: {number_rows}\")\n",
    "if number_unique_collections == 1:\n",
    "    print(f\"\\nThere is a unique collection, named {top_collection}\")\n",
    "else:\n",
    "    print(f\"\\nWe have {number_unique_collections} collections, and {top_collection} is the leading one\")\n",
    "\n",
    "# Collections list    \n",
    "print(\"\\nCatalog of Collections:\")\n",
    "print(\"\\n\".join([f\"{i+1}. {collection}\" for i, collection in enumerate(collection_list)]))\n",
    "\n",
    "# Distinct products based on Reference\n",
    "if number_unique_references == 1:\n",
    "    print(f\"\\nThere is a unique reference: {top_reference}\")\n",
    "else:\n",
    "    print(f\"\\nWe have a Total of {number_unique_references} distinct products, with {top_reference} leading the selection from {data[data['reference'] == top_reference]['collection'].values[0]} collection\")"
   ]
  },
  {
   "cell_type": "code",
   "execution_count": 228,
   "id": "3982a739",
   "metadata": {},
   "outputs": [
    {
     "data": {
      "image/png": "[encoded data removed]",
      "text/plain": [
       "<Figure size 640x480 with 1 Axes>"
      ]
     },
     "metadata": {},
     "output_type": "display_data"
    }
   ],
   "source": [
    "collection_visualization(data, country)"
   ]
  },
  {
   "cell_type": "code",
   "execution_count": 229,
   "id": "43f6435d",
   "metadata": {},
   "outputs": [],
   "source": [
    "overall_stats, collection_stats = analyze_country(data, country)"
   ]
  },
  {
   "cell_type": "code",
   "execution_count": 230,
   "id": "c3093fc7",
   "metadata": {},
   "outputs": [
    {
     "name": "stdout",
     "output_type": "stream",
     "text": [
      "\n",
      "Cheapest and most expensive product in Japan:\n",
      "  Cheapest -> Collection: RADIOMIR, Reference: PAM00753, Price: 550000.0 JPY\n",
      "  Most Expensive -> Collection: LUMINOR, Reference: PAM01060, Price: 20712000.0 JPY\n"
     ]
    }
   ],
   "source": [
    "print(f\"\\nCheapest and most expensive product in {country}:\")\n",
    "print(f\"  Cheapest -> Collection: {overall_stats['cheapest']['collection']}, Reference: {overall_stats['cheapest']['reference']}, Price: {overall_stats['cheapest']['price']} {(data['currency'][data['country'] == country]).unique()[0]}\")\n",
    "print(f\"  Most Expensive -> Collection: {overall_stats['most_expensive']['collection']}, Reference: {overall_stats['most_expensive']['reference']}, Price: {overall_stats['most_expensive']['price']} {(data['currency'][data['country'] == country]).unique()[0]}\")"
   ]
  },
  {
   "cell_type": "code",
   "execution_count": 231,
   "id": "10456dc4",
   "metadata": {},
   "outputs": [
    {
     "name": "stdout",
     "output_type": "stream",
     "text": [
      "Collection: RADIOMIR\n",
      "  Cheapest -> Reference: PAM00753, Price: 550000.0 JPY\n",
      "  Most Expensive -> Reference: PAM00515, Price: 2618000.0 JPY\n",
      "\n",
      "--------------------------------------------------\n",
      "\n",
      "Collection: LUMINOR\n",
      "  Cheapest -> Reference: PAM00773, Price: 616000.0 JPY\n",
      "  Most Expensive -> Reference: PAM01060, Price: 20712000.0 JPY\n",
      "\n",
      "--------------------------------------------------\n",
      "\n",
      "Collection: LUMINOR-DUE\n",
      "  Cheapest -> Reference: PAM00755, Price: 748000.0 JPY\n",
      "  Most Expensive -> Reference: PAM00675, Price: 3091000.0 JPY\n",
      "\n",
      "--------------------------------------------------\n",
      "\n",
      "Collection: SUBMERSIBLE\n",
      "  Cheapest -> Reference: PAM00973, Price: 1078000.0 JPY\n",
      "  Most Expensive -> Reference: PAM01225, Price: 7458000.0 JPY\n",
      "\n",
      "--------------------------------------------------\n",
      "\n"
     ]
    }
   ],
   "source": [
    "for stat in collection_stats:\n",
    "    print(f\"Collection: {stat['collection']}\")\n",
    "    print(f\"  Cheapest -> Reference: {stat['cheapest']['reference']}, Price: {stat['cheapest']['price']} {(data['currency'][data['country'] == country]).unique()[0]}\")\n",
    "    print(f\"  Most Expensive -> Reference: {stat['most_expensive']['reference']}, Price: {stat['most_expensive']['price']} {(data['currency'][data['country'] == country]).unique()[0]}\")\n",
    "    print(\"\\n\"+\"-\"*50+\"\\n\")"
   ]
  },
  {
   "cell_type": "markdown",
   "id": "cd218fcb",
   "metadata": {},
   "source": [
    "### 4.2.4. USA"
   ]
  },
  {
   "cell_type": "code",
   "execution_count": 232,
   "id": "8dd71b0a",
   "metadata": {},
   "outputs": [],
   "source": [
    "country = \"USA\""
   ]
  },
  {
   "cell_type": "code",
   "execution_count": 233,
   "id": "77757a71",
   "metadata": {},
   "outputs": [
    {
     "name": "stdout",
     "output_type": "stream",
     "text": [
      "Number of rows: 178\n",
      "\n",
      "We have 4 collections, and LUMINOR is the leading one\n",
      "\n",
      "Catalog of Collections:\n",
      "1. RADIOMIR\n",
      "2. LUMINOR\n",
      "3. LUMINOR-DUE\n",
      "4. SUBMERSIBLE\n",
      "\n",
      "We have a Total of 178 distinct products, with PAM00233 leading the selection from LUMINOR collection\n"
     ]
    }
   ],
   "source": [
    "number_rows, number_unique_collections, top_collection, number_unique_references, top_reference, collection_list = describe_country(data, country)\n",
    "\n",
    "# Number of rows\n",
    "print(f\"Number of rows: {number_rows}\")\n",
    "if number_unique_collections == 1:\n",
    "    print(f\"\\nThere is a unique collection, named {top_collection}\")\n",
    "else:\n",
    "    print(f\"\\nWe have {number_unique_collections} collections, and {top_collection} is the leading one\")\n",
    "\n",
    "# Collections list    \n",
    "print(\"\\nCatalog of Collections:\")\n",
    "print(\"\\n\".join([f\"{i+1}. {collection}\" for i, collection in enumerate(collection_list)]))\n",
    "\n",
    "# Distinct products based on Reference\n",
    "if number_unique_references == 1:\n",
    "    print(f\"\\nThere is a unique reference: {top_reference}\")\n",
    "else:\n",
    "    print(f\"\\nWe have a Total of {number_unique_references} distinct products, with {top_reference} leading the selection from {data[data['reference'] == top_reference]['collection'].values[0]} collection\")"
   ]
  },
  {
   "cell_type": "code",
   "execution_count": 234,
   "id": "5e0e1622",
   "metadata": {},
   "outputs": [
    {
     "data": {
      "image/png": "[encoded data removed]",
      "text/plain": [
       "<Figure size 640x480 with 1 Axes>"
      ]
     },
     "metadata": {},
     "output_type": "display_data"
    }
   ],
   "source": [
    "collection_visualization(data, country)"
   ]
  },
  {
   "cell_type": "code",
   "execution_count": 235,
   "id": "130313ed",
   "metadata": {},
   "outputs": [],
   "source": [
    "overall_stats, collection_stats = analyze_country(data, country)"
   ]
  },
  {
   "cell_type": "code",
   "execution_count": 236,
   "id": "22572c37",
   "metadata": {},
   "outputs": [
    {
     "name": "stdout",
     "output_type": "stream",
     "text": [
      "\n",
      "Cheapest and most expensive product in USA:\n",
      "  Cheapest -> Collection: RADIOMIR, Reference: PAM00753, Price: 5700.0 USD\n",
      "  Most Expensive -> Collection: SUBMERSIBLE, Reference: PAM01108, Price: 247700.0 USD\n"
     ]
    }
   ],
   "source": [
    "print(f\"\\nCheapest and most expensive product in {country}:\")\n",
    "print(f\"  Cheapest -> Collection: {overall_stats['cheapest']['collection']}, Reference: {overall_stats['cheapest']['reference']}, Price: {overall_stats['cheapest']['price']} {(data['currency'][data['country'] == country]).unique()[0]}\")\n",
    "print(f\"  Most Expensive -> Collection: {overall_stats['most_expensive']['collection']}, Reference: {overall_stats['most_expensive']['reference']}, Price: {overall_stats['most_expensive']['price']} {(data['currency'][data['country'] == country]).unique()[0]}\")"
   ]
  },
  {
   "cell_type": "code",
   "execution_count": 237,
   "id": "79df3158",
   "metadata": {},
   "outputs": [
    {
     "name": "stdout",
     "output_type": "stream",
     "text": [
      "Collection: RADIOMIR\n",
      "  Cheapest -> Reference: PAM00753, Price: 5700.0 USD\n",
      "  Most Expensive -> Reference: PAM00515, Price: 27200.0 USD\n",
      "\n",
      "--------------------------------------------------\n",
      "\n",
      "Collection: LUMINOR\n",
      "  Cheapest -> Reference: PAM00773, Price: 6400.0 USD\n",
      "  Most Expensive -> Reference: PAM01060, Price: 217000.0 USD\n",
      "\n",
      "--------------------------------------------------\n",
      "\n",
      "Collection: LUMINOR-DUE\n",
      "  Cheapest -> Reference: PAM00755, Price: 8000.0 USD\n",
      "  Most Expensive -> Reference: PAM00675, Price: 32100.0 USD\n",
      "\n",
      "--------------------------------------------------\n",
      "\n",
      "Collection: SUBMERSIBLE\n",
      "  Cheapest -> Reference: PAM00973, Price: 11300.0 USD\n",
      "  Most Expensive -> Reference: PAM01108, Price: 247700.0 USD\n",
      "\n",
      "--------------------------------------------------\n",
      "\n"
     ]
    }
   ],
   "source": [
    "for stat in collection_stats:\n",
    "    print(f\"Collection: {stat['collection']}\")\n",
    "    print(f\"  Cheapest -> Reference: {stat['cheapest']['reference']}, Price: {stat['cheapest']['price']} {(data['currency'][data['country'] == country]).unique()[0]}\")\n",
    "    print(f\"  Most Expensive -> Reference: {stat['most_expensive']['reference']}, Price: {stat['most_expensive']['price']} {(data['currency'][data['country'] == country]).unique()[0]}\")\n",
    "    print(\"\\n\"+\"-\"*50+\"\\n\")"
   ]
  },
  {
   "cell_type": "code",
   "execution_count": null,
   "id": "c48b5e22",
   "metadata": {},
   "outputs": [],
   "source": []
  }
 ],
 "metadata": {
  "kernelspec": {
   "display_name": "Python 3 (ipykernel)",
   "language": "python",
   "name": "python3"
  },
  "language_info": {
   "codemirror_mode": {
    "name": "ipython",
    "version": 3
   },
   "file_extension": ".py",
   "mimetype": "text/x-python",
   "name": "python",
   "nbconvert_exporter": "python",
   "pygments_lexer": "ipython3",
   "version": "3.9.13"
  }
 },
 "nbformat": 4,
 "nbformat_minor": 5
}
