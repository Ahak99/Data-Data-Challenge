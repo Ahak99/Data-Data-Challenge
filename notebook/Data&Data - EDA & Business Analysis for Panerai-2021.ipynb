{
 "cells": [
  {
   "cell_type": "markdown",
   "id": "f734d806",
   "metadata": {},
   "source": [
    "# Annexe"
   ]
  },
  {
   "cell_type": "code",
   "execution_count": 1,
   "id": "47601acf",
   "metadata": {},
   "outputs": [],
   "source": [
    "def descriptive_data(df, country=None):\n",
    "    \n",
    "    data = df.copy()\n",
    "    if country:\n",
    "        data = data[data.country == country]\n",
    "        \n",
    "    number_unique_ref = len(set(data.reference.values))\n",
    "    number_unique_ref_collection = {}\n",
    "    for collection in data.collection.unique():\n",
    "        data_collection = data[data.collection == collection]\n",
    "        number_unique_ref_collection[collection] = len(set(data_collection.reference.values))\n",
    "        \n",
    "        \n",
    "    return number_unique_ref, number_unique_ref_collection"
   ]
  },
  {
   "cell_type": "code",
   "execution_count": 2,
   "id": "c99bd7df",
   "metadata": {},
   "outputs": [],
   "source": [
    "def analyze_country(data, country=None):\n",
    "    \"\"\"\n",
    "    Analyze the country data.\n",
    "\n",
    "    Parameters:\n",
    "    data (pd.DataFrame): The data to analyze.\n",
    "    country (str, optional): The country to filter by. Defaults to None.\n",
    "\n",
    "    Returns:\n",
    "    tuple: A tuple containing the overall statistics and the collection statistics.\n",
    "    \"\"\"\n",
    "    # Filter the original data if a specific country is provided\n",
    "    if country:\n",
    "        data = data[data[\"country\"] == country]\n",
    "    \n",
    "    # Identify the cheapest and most expensive product in the whole subset\n",
    "    cheapest_product_data = data.nsmallest(1, 'price')\n",
    "    most_expensive_product_data = data.nlargest(1, 'price')\n",
    "    \n",
    "    overall_stats = {\n",
    "        \"cheapest\": {\n",
    "            \"collection\": cheapest_product_data['collection'].values[0],\n",
    "            \"reference\": cheapest_product_data['reference'].values[0],\n",
    "            \"price\": cheapest_product_data['price'].values[0]\n",
    "        },\n",
    "        \"most_expensive\": {\n",
    "            \"collection\": most_expensive_product_data['collection'].values[0],\n",
    "            \"reference\": most_expensive_product_data['reference'].values[0],\n",
    "            \"price\": most_expensive_product_data['price'].values[0]\n",
    "        }\n",
    "    }\n",
    "    \n",
    "    # Identify the cheapest and most expensive product per collection\n",
    "    collection_stats = []\n",
    "    unique_collections = data[\"collection\"].unique()\n",
    "    \n",
    "    for collection in unique_collections:\n",
    "        collection_data = data[data[\"collection\"] == collection]\n",
    "        \n",
    "        cheapest_collection_data = collection_data.nsmallest(1, 'price')\n",
    "        most_expensive_collection_data = collection_data.nlargest(1, 'price')\n",
    "        \n",
    "        collection_stats.append({\n",
    "            \"collection\": collection,\n",
    "            \"cheapest\": {\n",
    "                \"reference\": cheapest_collection_data['reference'].values[0],\n",
    "                \"price\": cheapest_collection_data['price'].values[0]\n",
    "            },\n",
    "            \"most_expensive\": {\n",
    "                \"reference\": most_expensive_collection_data['reference'].values[0],\n",
    "                \"price\": most_expensive_collection_data['price'].values[0]\n",
    "            }\n",
    "        })\n",
    "    \n",
    "    return overall_stats, collection_stats"
   ]
  },
  {
   "cell_type": "code",
   "execution_count": 3,
   "id": "e53b6524",
   "metadata": {},
   "outputs": [],
   "source": [
    "def collection_visualization(data, country=None):\n",
    "    \"\"\"\n",
    "    Visualize the collection data.\n",
    "\n",
    "    Parameters:\n",
    "    data (pd.DataFrame): The data to visualize.\n",
    "    country (str): The country to filter by.\n",
    "\n",
    "    Returns:\n",
    "    None\n",
    "    \"\"\"\n",
    "    # Filter the original data if a specific country is provided\n",
    "    if country:\n",
    "        data = data[data[\"country\"] == country]\n",
    "    \n",
    "    # Choose a color palette\n",
    "    palette = sns.color_palette(\"pastel\")  # You can choose different palettes like \"deep\", \"pastel\", etc.\n",
    "\n",
    "    # Create the count plot\n",
    "    ax = sns.countplot(x=\"collection\", data=data, palette=palette)\n",
    "\n",
    "    # Add the count value on top of each bar\n",
    "    for p in ax.patches:\n",
    "        ax.annotate(f'{p.get_height()}', \n",
    "                    (p.get_x() + p.get_width() / 2., p.get_y() + p.get_height() / 2.), \n",
    "                    ha='center', va='center', \n",
    "                    fontsize=10, color='black', \n",
    "                    xytext=(0, 5), textcoords='offset points')\n",
    "\n",
    "    # Rotate x-axis labels for better readability\n",
    "    plt.xticks(rotation=45)\n",
    "\n",
    "    # Labels and title\n",
    "    plt.xlabel(\"Collection\")\n",
    "    plt.ylabel(\"Watch Count\")\n",
    "    plt.title(f\"Watch Count per Collection\")\n",
    "    if country:\n",
    "        data = data[data[\"country\"] == country]\n",
    "        plt.title(f\"Watch Count per Collection in {country}\")\n",
    "\n",
    "    # Show the plot\n",
    "    plt.show()"
   ]
  },
  {
   "cell_type": "code",
   "execution_count": 4,
   "id": "2aeed5d8",
   "metadata": {},
   "outputs": [],
   "source": [
    "def plot_collection_by_country(data):\n",
    "    \"\"\"\n",
    "    Plot the number of items in each collection for each country on the same graph.\n",
    "    \n",
    "    Parameters:\n",
    "        data (pd.DataFrame): Data containing at least 'collection' and 'country' columns.\n",
    "    \n",
    "    Returns:\n",
    "        None\n",
    "    \"\"\"\n",
    "    # Set the figure size\n",
    "    plt.figure(figsize=(10, 6))\n",
    "    \n",
    "    # Create a count plot with 'collection' on the x-axis and bars grouped by 'country'\n",
    "    ax = sns.countplot(x=\"collection\", hue=\"country\", data=data, palette=\"pastel\")\n",
    "    \n",
    "    # Annotate each bar with its count\n",
    "    for p in ax.patches:\n",
    "        count = p.get_height()\n",
    "        ax.annotate(f'{int(count)}',\n",
    "                    (p.get_x() + p.get_width() / 2, p.get_y() + count / 2),\n",
    "                    ha='center', va='center',\n",
    "                    fontsize=10, color='black', \n",
    "                    xytext=(0, 5), textcoords='offset points')\n",
    "    \n",
    "    # Improve readability\n",
    "    plt.xticks(rotation=45)\n",
    "    plt.xlabel(\"Collection\")\n",
    "    plt.ylabel(\"Watch Count\")\n",
    "    plt.title(\"Watch Count per Collection by Country\")\n",
    "    plt.legend(title=\"Country\")\n",
    "    plt.tight_layout()\n",
    "    plt.show()"
   ]
  },
  {
   "cell_type": "markdown",
   "id": "115e8705",
   "metadata": {},
   "source": [
    "# 1. Import librariries"
   ]
  },
  {
   "cell_type": "code",
   "execution_count": 5,
   "id": "9a8b89d7",
   "metadata": {},
   "outputs": [],
   "source": [
    "import pandas as pd\n",
    "import numpy as np\n",
    "import seaborn as sns\n",
    "import matplotlib.pyplot as plt"
   ]
  },
  {
   "cell_type": "markdown",
   "id": "041da9c0",
   "metadata": {},
   "source": [
    "# 2. Load & Read the Data"
   ]
  },
  {
   "cell_type": "code",
   "execution_count": 6,
   "id": "97d920f1",
   "metadata": {},
   "outputs": [
    {
     "data": {
      "text/html": [
       "<div>\n",
       "<style scoped>\n",
       "    .dataframe tbody tr th:only-of-type {\n",
       "        vertical-align: middle;\n",
       "    }\n",
       "\n",
       "    .dataframe tbody tr th {\n",
       "        vertical-align: top;\n",
       "    }\n",
       "\n",
       "    .dataframe thead th {\n",
       "        text-align: right;\n",
       "    }\n",
       "</style>\n",
       "<table border=\"1\" class=\"dataframe\">\n",
       "  <thead>\n",
       "    <tr style=\"text-align: right;\">\n",
       "      <th></th>\n",
       "      <th>brand</th>\n",
       "      <th>url</th>\n",
       "      <th>image_url</th>\n",
       "      <th>collection</th>\n",
       "      <th>reference</th>\n",
       "      <th>price</th>\n",
       "      <th>currency</th>\n",
       "      <th>country</th>\n",
       "      <th>time scope</th>\n",
       "    </tr>\n",
       "  </thead>\n",
       "  <tbody>\n",
       "    <tr>\n",
       "      <th>0</th>\n",
       "      <td>Panerai</td>\n",
       "      <td>https://www.panerai.com/fr/fr/collections/watc...</td>\n",
       "      <td>https://www.panerai.com/content/dam/rcq/pan/10...</td>\n",
       "      <td>RADIOMIR</td>\n",
       "      <td>PAM00655</td>\n",
       "      <td>9700.0</td>\n",
       "      <td>EUR</td>\n",
       "      <td>France</td>\n",
       "      <td>December 2021</td>\n",
       "    </tr>\n",
       "    <tr>\n",
       "      <th>1</th>\n",
       "      <td>Panerai</td>\n",
       "      <td>https://www.panerai.com/fr/fr/collections/watc...</td>\n",
       "      <td>https://www.panerai.com/content/dam/rcq/pan/11...</td>\n",
       "      <td>RADIOMIR</td>\n",
       "      <td>PAM00628</td>\n",
       "      <td>11600.0</td>\n",
       "      <td>EUR</td>\n",
       "      <td>France</td>\n",
       "      <td>December 2021</td>\n",
       "    </tr>\n",
       "    <tr>\n",
       "      <th>2</th>\n",
       "      <td>Panerai</td>\n",
       "      <td>https://www.panerai.com/fr/fr/collections/watc...</td>\n",
       "      <td>https://www.panerai.com/content/dam/rcq/pan/11...</td>\n",
       "      <td>RADIOMIR</td>\n",
       "      <td>PAM00657</td>\n",
       "      <td>11400.0</td>\n",
       "      <td>EUR</td>\n",
       "      <td>France</td>\n",
       "      <td>December 2021</td>\n",
       "    </tr>\n",
       "    <tr>\n",
       "      <th>3</th>\n",
       "      <td>Panerai</td>\n",
       "      <td>https://www.panerai.com/fr/fr/collections/watc...</td>\n",
       "      <td>https://www.panerai.com/content/dam/rcq/pan/13...</td>\n",
       "      <td>LUMINOR</td>\n",
       "      <td>PAM00661</td>\n",
       "      <td>11900.0</td>\n",
       "      <td>EUR</td>\n",
       "      <td>France</td>\n",
       "      <td>December 2021</td>\n",
       "    </tr>\n",
       "    <tr>\n",
       "      <th>4</th>\n",
       "      <td>Panerai</td>\n",
       "      <td>https://www.panerai.com/fr/fr/collections/watc...</td>\n",
       "      <td>https://www.panerai.com/content/dam/rcq/pan/13...</td>\n",
       "      <td>LUMINOR</td>\n",
       "      <td>PAM01312</td>\n",
       "      <td>7900.0</td>\n",
       "      <td>EUR</td>\n",
       "      <td>France</td>\n",
       "      <td>December 2021</td>\n",
       "    </tr>\n",
       "  </tbody>\n",
       "</table>\n",
       "</div>"
      ],
      "text/plain": [
       "     brand                                                url  \\\n",
       "0  Panerai  https://www.panerai.com/fr/fr/collections/watc...   \n",
       "1  Panerai  https://www.panerai.com/fr/fr/collections/watc...   \n",
       "2  Panerai  https://www.panerai.com/fr/fr/collections/watc...   \n",
       "3  Panerai  https://www.panerai.com/fr/fr/collections/watc...   \n",
       "4  Panerai  https://www.panerai.com/fr/fr/collections/watc...   \n",
       "\n",
       "                                           image_url collection reference  \\\n",
       "0  https://www.panerai.com/content/dam/rcq/pan/10...   RADIOMIR  PAM00655   \n",
       "1  https://www.panerai.com/content/dam/rcq/pan/11...   RADIOMIR  PAM00628   \n",
       "2  https://www.panerai.com/content/dam/rcq/pan/11...   RADIOMIR  PAM00657   \n",
       "3  https://www.panerai.com/content/dam/rcq/pan/13...    LUMINOR  PAM00661   \n",
       "4  https://www.panerai.com/content/dam/rcq/pan/13...    LUMINOR  PAM01312   \n",
       "\n",
       "     price currency country     time scope  \n",
       "0   9700.0      EUR  France  December 2021  \n",
       "1  11600.0      EUR  France  December 2021  \n",
       "2  11400.0      EUR  France  December 2021  \n",
       "3  11900.0      EUR  France  December 2021  \n",
       "4   7900.0      EUR  France  December 2021  "
      ]
     },
     "execution_count": 6,
     "metadata": {},
     "output_type": "execute_result"
    }
   ],
   "source": [
    "data = pd.read_excel(r\"../orchestrator/data/bronze/PANERAI_DATA_122021.xlsx\")\n",
    "data.head()"
   ]
  },
  {
   "cell_type": "code",
   "execution_count": 7,
   "id": "515a15d8",
   "metadata": {
    "scrolled": true
   },
   "outputs": [
    {
     "data": {
      "text/html": [
       "<div>\n",
       "<style scoped>\n",
       "    .dataframe tbody tr th:only-of-type {\n",
       "        vertical-align: middle;\n",
       "    }\n",
       "\n",
       "    .dataframe tbody tr th {\n",
       "        vertical-align: top;\n",
       "    }\n",
       "\n",
       "    .dataframe thead th {\n",
       "        text-align: right;\n",
       "    }\n",
       "</style>\n",
       "<table border=\"1\" class=\"dataframe\">\n",
       "  <thead>\n",
       "    <tr style=\"text-align: right;\">\n",
       "      <th></th>\n",
       "      <th>brand</th>\n",
       "      <th>url</th>\n",
       "      <th>image_url</th>\n",
       "      <th>collection</th>\n",
       "      <th>reference</th>\n",
       "      <th>price</th>\n",
       "      <th>currency</th>\n",
       "      <th>country</th>\n",
       "      <th>year</th>\n",
       "    </tr>\n",
       "  </thead>\n",
       "  <tbody>\n",
       "    <tr>\n",
       "      <th>0</th>\n",
       "      <td>Panerai</td>\n",
       "      <td>https://www.panerai.com/fr/fr/collections/watc...</td>\n",
       "      <td>https://www.panerai.com/content/dam/rcq/pan/10...</td>\n",
       "      <td>RADIOMIR</td>\n",
       "      <td>PAM00655</td>\n",
       "      <td>9700.0</td>\n",
       "      <td>EUR</td>\n",
       "      <td>France</td>\n",
       "      <td>2021</td>\n",
       "    </tr>\n",
       "    <tr>\n",
       "      <th>1</th>\n",
       "      <td>Panerai</td>\n",
       "      <td>https://www.panerai.com/fr/fr/collections/watc...</td>\n",
       "      <td>https://www.panerai.com/content/dam/rcq/pan/11...</td>\n",
       "      <td>RADIOMIR</td>\n",
       "      <td>PAM00628</td>\n",
       "      <td>11600.0</td>\n",
       "      <td>EUR</td>\n",
       "      <td>France</td>\n",
       "      <td>2021</td>\n",
       "    </tr>\n",
       "    <tr>\n",
       "      <th>2</th>\n",
       "      <td>Panerai</td>\n",
       "      <td>https://www.panerai.com/fr/fr/collections/watc...</td>\n",
       "      <td>https://www.panerai.com/content/dam/rcq/pan/11...</td>\n",
       "      <td>RADIOMIR</td>\n",
       "      <td>PAM00657</td>\n",
       "      <td>11400.0</td>\n",
       "      <td>EUR</td>\n",
       "      <td>France</td>\n",
       "      <td>2021</td>\n",
       "    </tr>\n",
       "    <tr>\n",
       "      <th>3</th>\n",
       "      <td>Panerai</td>\n",
       "      <td>https://www.panerai.com/fr/fr/collections/watc...</td>\n",
       "      <td>https://www.panerai.com/content/dam/rcq/pan/13...</td>\n",
       "      <td>LUMINOR</td>\n",
       "      <td>PAM00661</td>\n",
       "      <td>11900.0</td>\n",
       "      <td>EUR</td>\n",
       "      <td>France</td>\n",
       "      <td>2021</td>\n",
       "    </tr>\n",
       "    <tr>\n",
       "      <th>4</th>\n",
       "      <td>Panerai</td>\n",
       "      <td>https://www.panerai.com/fr/fr/collections/watc...</td>\n",
       "      <td>https://www.panerai.com/content/dam/rcq/pan/13...</td>\n",
       "      <td>LUMINOR</td>\n",
       "      <td>PAM01312</td>\n",
       "      <td>7900.0</td>\n",
       "      <td>EUR</td>\n",
       "      <td>France</td>\n",
       "      <td>2021</td>\n",
       "    </tr>\n",
       "  </tbody>\n",
       "</table>\n",
       "</div>"
      ],
      "text/plain": [
       "     brand                                                url  \\\n",
       "0  Panerai  https://www.panerai.com/fr/fr/collections/watc...   \n",
       "1  Panerai  https://www.panerai.com/fr/fr/collections/watc...   \n",
       "2  Panerai  https://www.panerai.com/fr/fr/collections/watc...   \n",
       "3  Panerai  https://www.panerai.com/fr/fr/collections/watc...   \n",
       "4  Panerai  https://www.panerai.com/fr/fr/collections/watc...   \n",
       "\n",
       "                                           image_url collection reference  \\\n",
       "0  https://www.panerai.com/content/dam/rcq/pan/10...   RADIOMIR  PAM00655   \n",
       "1  https://www.panerai.com/content/dam/rcq/pan/11...   RADIOMIR  PAM00628   \n",
       "2  https://www.panerai.com/content/dam/rcq/pan/11...   RADIOMIR  PAM00657   \n",
       "3  https://www.panerai.com/content/dam/rcq/pan/13...    LUMINOR  PAM00661   \n",
       "4  https://www.panerai.com/content/dam/rcq/pan/13...    LUMINOR  PAM01312   \n",
       "\n",
       "     price currency country  year  \n",
       "0   9700.0      EUR  France  2021  \n",
       "1  11600.0      EUR  France  2021  \n",
       "2  11400.0      EUR  France  2021  \n",
       "3  11900.0      EUR  France  2021  \n",
       "4   7900.0      EUR  France  2021  "
      ]
     },
     "execution_count": 7,
     "metadata": {},
     "output_type": "execute_result"
    }
   ],
   "source": [
    "data[\"year\"] = data[\"time scope\"].str[-4:].astype(int)\n",
    "data.drop(\"time scope\", axis=1, inplace=True)\n",
    "data.head()"
   ]
  },
  {
   "cell_type": "markdown",
   "id": "cc2dad5d",
   "metadata": {},
   "source": [
    "# 3. Exploratory Data Analysis (EDA)\n",
    "\n",
    "### 3.1. Columns list"
   ]
  },
  {
   "cell_type": "code",
   "execution_count": 8,
   "id": "29ed6703",
   "metadata": {},
   "outputs": [
    {
     "name": "stdout",
     "output_type": "stream",
     "text": [
      "List of column name:\n",
      "\n",
      "\t1. brand\n",
      "\t2. url\n",
      "\t3. image_url\n",
      "\t4. collection\n",
      "\t5. reference\n",
      "\t6. price\n",
      "\t7. currency\n",
      "\t8. country\n",
      "\t9. year\n"
     ]
    }
   ],
   "source": [
    "column_list = list(data.columns)\n",
    "\n",
    "print(\"List of column name:\\n\")\n",
    "for i in range(len(column_list)):\n",
    "    print(f\"\\t{i+1}. {column_list[i]}\")"
   ]
  },
  {
   "cell_type": "markdown",
   "id": "dc7d29aa",
   "metadata": {},
   "source": [
    "### 3.2. Data types discovery"
   ]
  },
  {
   "cell_type": "code",
   "execution_count": 9,
   "id": "61fbebd9",
   "metadata": {},
   "outputs": [
    {
     "name": "stdout",
     "output_type": "stream",
     "text": [
      "<class 'pandas.core.frame.DataFrame'>\n",
      "RangeIndex: 693 entries, 0 to 692\n",
      "Data columns (total 9 columns):\n",
      " #   Column      Non-Null Count  Dtype  \n",
      "---  ------      --------------  -----  \n",
      " 0   brand       693 non-null    object \n",
      " 1   url         693 non-null    object \n",
      " 2   image_url   690 non-null    object \n",
      " 3   collection  693 non-null    object \n",
      " 4   reference   693 non-null    object \n",
      " 5   price       687 non-null    float64\n",
      " 6   currency    693 non-null    object \n",
      " 7   country     693 non-null    object \n",
      " 8   year        693 non-null    int32  \n",
      "dtypes: float64(1), int32(1), object(7)\n",
      "memory usage: 46.1+ KB\n"
     ]
    }
   ],
   "source": [
    "data.info()"
   ]
  },
  {
   "cell_type": "markdown",
   "id": "1eb44822",
   "metadata": {},
   "source": [
    "--------------------------------------------------------------------------------------\n",
    "\n",
    "**The dataset we used in the following use case contains**:\n",
    "\n",
    "    1. 693 row of data\n",
    "    \n",
    "    2. 8 categoircal columns\n",
    "    \n",
    "    3. 1 numerical column\n",
    "--------------------------------------------------------------------------------------"
   ]
  },
  {
   "cell_type": "markdown",
   "id": "bfbb0a47",
   "metadata": {},
   "source": [
    "### 3.3. Check Missing Values"
   ]
  },
  {
   "cell_type": "code",
   "execution_count": 10,
   "id": "05e05df0",
   "metadata": {},
   "outputs": [
    {
     "data": {
      "text/plain": [
       "brand         0\n",
       "url           0\n",
       "image_url     3\n",
       "collection    0\n",
       "reference     0\n",
       "price         6\n",
       "currency      0\n",
       "country       0\n",
       "year          0\n",
       "dtype: int64"
      ]
     },
     "execution_count": 10,
     "metadata": {},
     "output_type": "execute_result"
    }
   ],
   "source": [
    "data.isna().sum()"
   ]
  },
  {
   "cell_type": "markdown",
   "id": "9bd72a5c",
   "metadata": {},
   "source": [
    "--------------------------------------------------------------------------------------\n",
    "\n",
    "**The dataset contains some missing values**:\n",
    "\n",
    "    - 3 in **image_url** column\n",
    "    \n",
    "    - 6 in **price** column\n",
    "--------------------------------------------------------------------------------------"
   ]
  },
  {
   "cell_type": "markdown",
   "id": "4451a772",
   "metadata": {},
   "source": [
    "#### 3.3. Handling missing values"
   ]
  },
  {
   "cell_type": "code",
   "execution_count": 11,
   "id": "305d980f",
   "metadata": {},
   "outputs": [
    {
     "data": {
      "text/plain": [
       "brand         0\n",
       "url           0\n",
       "image_url     3\n",
       "collection    0\n",
       "reference     0\n",
       "price         0\n",
       "currency      0\n",
       "country       0\n",
       "year          0\n",
       "dtype: int64"
      ]
     },
     "execution_count": 11,
     "metadata": {},
     "output_type": "execute_result"
    }
   ],
   "source": [
    "data.dropna(subset=['reference', 'price'], inplace=True)\n",
    "data.isna().sum()"
   ]
  },
  {
   "cell_type": "markdown",
   "id": "bc31c476",
   "metadata": {},
   "source": [
    "--------------------------------------------------------------------------------------\n",
    "\n",
    "**Now, the dataset is clean, no more missing values**\n",
    "\n",
    "    ** -> We are ready to GO **\n",
    "\n",
    "--------------------------------------------------------------------------------------"
   ]
  },
  {
   "cell_type": "markdown",
   "id": "d3c07a25",
   "metadata": {},
   "source": [
    "### 3.4. Check for duplicates bases on 'reference' and 'country'"
   ]
  },
  {
   "cell_type": "code",
   "execution_count": 12,
   "id": "c2684dc5",
   "metadata": {},
   "outputs": [
    {
     "name": "stdout",
     "output_type": "stream",
     "text": [
      "0\n"
     ]
    }
   ],
   "source": [
    "# Check for duplicates based on 'reference', 'country', and 'collection'\n",
    "duplicates = data.duplicated(subset=['reference', 'country']).sum()\n",
    "\n",
    "# Display the duplicate rows\n",
    "print(duplicates)"
   ]
  },
  {
   "cell_type": "markdown",
   "id": "6fe70b7e",
   "metadata": {},
   "source": [
    "### 3.5. Descriptive statistics"
   ]
  },
  {
   "cell_type": "code",
   "execution_count": 13,
   "id": "e37bf662",
   "metadata": {},
   "outputs": [
    {
     "data": {
      "text/html": [
       "<div>\n",
       "<style scoped>\n",
       "    .dataframe tbody tr th:only-of-type {\n",
       "        vertical-align: middle;\n",
       "    }\n",
       "\n",
       "    .dataframe tbody tr th {\n",
       "        vertical-align: top;\n",
       "    }\n",
       "\n",
       "    .dataframe thead th {\n",
       "        text-align: right;\n",
       "    }\n",
       "</style>\n",
       "<table border=\"1\" class=\"dataframe\">\n",
       "  <thead>\n",
       "    <tr style=\"text-align: right;\">\n",
       "      <th></th>\n",
       "      <th>brand</th>\n",
       "      <th>url</th>\n",
       "      <th>image_url</th>\n",
       "      <th>collection</th>\n",
       "      <th>reference</th>\n",
       "      <th>currency</th>\n",
       "      <th>country</th>\n",
       "    </tr>\n",
       "  </thead>\n",
       "  <tbody>\n",
       "    <tr>\n",
       "      <th>count</th>\n",
       "      <td>687</td>\n",
       "      <td>687</td>\n",
       "      <td>684</td>\n",
       "      <td>687</td>\n",
       "      <td>687</td>\n",
       "      <td>687</td>\n",
       "      <td>687</td>\n",
       "    </tr>\n",
       "    <tr>\n",
       "      <th>unique</th>\n",
       "      <td>1</td>\n",
       "      <td>687</td>\n",
       "      <td>206</td>\n",
       "      <td>4</td>\n",
       "      <td>207</td>\n",
       "      <td>4</td>\n",
       "      <td>4</td>\n",
       "    </tr>\n",
       "    <tr>\n",
       "      <th>top</th>\n",
       "      <td>Panerai</td>\n",
       "      <td>https://www.panerai.com/fr/fr/collections/watc...</td>\n",
       "      <td>https://www.panerai.com/content/dam/rcq/pan/10...</td>\n",
       "      <td>LUMINOR</td>\n",
       "      <td>PAM00655</td>\n",
       "      <td>JPY</td>\n",
       "      <td>Japan</td>\n",
       "    </tr>\n",
       "    <tr>\n",
       "      <th>freq</th>\n",
       "      <td>687</td>\n",
       "      <td>1</td>\n",
       "      <td>4</td>\n",
       "      <td>368</td>\n",
       "      <td>4</td>\n",
       "      <td>201</td>\n",
       "      <td>201</td>\n",
       "    </tr>\n",
       "  </tbody>\n",
       "</table>\n",
       "</div>"
      ],
      "text/plain": [
       "          brand                                                url  \\\n",
       "count       687                                                687   \n",
       "unique        1                                                687   \n",
       "top     Panerai  https://www.panerai.com/fr/fr/collections/watc...   \n",
       "freq        687                                                  1   \n",
       "\n",
       "                                                image_url collection  \\\n",
       "count                                                 684        687   \n",
       "unique                                                206          4   \n",
       "top     https://www.panerai.com/content/dam/rcq/pan/10...    LUMINOR   \n",
       "freq                                                    4        368   \n",
       "\n",
       "       reference currency country  \n",
       "count        687      687     687  \n",
       "unique       207        4       4  \n",
       "top     PAM00655      JPY   Japan  \n",
       "freq           4      201     201  "
      ]
     },
     "execution_count": 13,
     "metadata": {},
     "output_type": "execute_result"
    }
   ],
   "source": [
    "stats = data.describe(include=\"object\")\n",
    "stats"
   ]
  },
  {
   "cell_type": "markdown",
   "id": "ebeaf530",
   "metadata": {},
   "source": [
    "# 4. Data and Business Analysis"
   ]
  },
  {
   "cell_type": "markdown",
   "id": "f8e2ea56",
   "metadata": {},
   "source": [
    "### 4.1. Global dataset\n",
    "- Number of unique products\n",
    "- Number of products for each collection\n",
    "- Products distribution"
   ]
  },
  {
   "cell_type": "code",
   "execution_count": 14,
   "id": "a9a22aec",
   "metadata": {
    "scrolled": true
   },
   "outputs": [
    {
     "name": "stdout",
     "output_type": "stream",
     "text": [
      "\n",
      "The number of unique references 207\n",
      "\n",
      "The number of unique references par collection\n",
      "RADIOMIR : 31\n",
      "LUMINOR : 111\n",
      "SUBMERSIBLE : 32\n",
      "LUMINOR-DUE : 33\n"
     ]
    }
   ],
   "source": [
    "number_unique_ref, number_unique_ref_collection = descriptive_data(data)\n",
    "    \n",
    "print(f\"\\nThe number of unique references {number_unique_ref}\")\n",
    "print(f\"\\nThe number of unique references par collection\")\n",
    "for collection, number in number_unique_ref_collection.items():\n",
    "    print(f\"{collection} : {number}\")"
   ]
  },
  {
   "cell_type": "code",
   "execution_count": 15,
   "id": "e16d5237",
   "metadata": {},
   "outputs": [
    {
     "data": {
      "image/png": "[encoded data removed]",
      "text/plain": [
       "<Figure size 640x480 with 1 Axes>"
      ]
     },
     "metadata": {},
     "output_type": "display_data"
    }
   ],
   "source": [
    "collection_visualization(data)"
   ]
  },
  {
   "cell_type": "markdown",
   "id": "582fea79",
   "metadata": {},
   "source": [
    "### 4.2. For each country\n",
    "- Number of unique products\n",
    "- Number of products for each collection\n",
    "- The distribution of products\n",
    "- For each collection using country currency\n",
    "    - Cheapest and most expensive product\n",
    "    - Cheapest and most expensive product per collection"
   ]
  },
  {
   "cell_type": "code",
   "execution_count": 16,
   "id": "7e4cf879",
   "metadata": {},
   "outputs": [
    {
     "data": {
      "image/png": "[encoded data removed]",
      "text/plain": [
       "<Figure size 1000x600 with 1 Axes>"
      ]
     },
     "metadata": {},
     "output_type": "display_data"
    }
   ],
   "source": [
    "plot_collection_by_country(data)"
   ]
  },
  {
   "cell_type": "markdown",
   "id": "343cf536",
   "metadata": {},
   "source": [
    "### France"
   ]
  },
  {
   "cell_type": "code",
   "execution_count": 17,
   "id": "0c1e1f9d",
   "metadata": {},
   "outputs": [
    {
     "name": "stdout",
     "output_type": "stream",
     "text": [
      "\n",
      " ** The number of unique references 153\n",
      "\n",
      " ** The number of unique references par collection:\n",
      "\n",
      "  - RADIOMIR : 18\n",
      "  - LUMINOR : 82\n",
      "  - SUBMERSIBLE : 29\n",
      "  - LUMINOR-DUE : 24\n",
      "\n",
      "--------------------------------------------------------------------------------\n",
      "\n",
      " ** Cheapest and most expensive product in France:\n",
      "\n",
      "  Cheapest -> Collection: RADIOMIR, Reference: PAM00753, Price: 4400.0 EUR\n",
      "  Most Expensive -> Collection: SUBMERSIBLE, Reference: PAM01108, Price: 190000.0 EUR\n",
      "\n",
      "--------------------------------------------------------------------------------\n",
      "\n",
      " ** Cheapest and most expensive product in France per collection:\n",
      "\n",
      " - Collection: RADIOMIR\n",
      "    Cheapest -> Reference: PAM00753, Price: 4400.0 EUR\n",
      "    Most Expensive -> Reference: PAM00997, Price: 12900.0 EUR\n",
      "\n",
      "**************************************************\n",
      "\n",
      " - Collection: LUMINOR\n",
      "    Cheapest -> Reference: PAM00774, Price: 4900.0 EUR\n",
      "    Most Expensive -> Reference: PAM01060, Price: 166000.0 EUR\n",
      "\n",
      "**************************************************\n",
      "\n",
      " - Collection: SUBMERSIBLE\n",
      "    Cheapest -> Reference: PAM00973, Price: 8700.0 EUR\n",
      "    Most Expensive -> Reference: PAM01108, Price: 190000.0 EUR\n",
      "\n",
      "**************************************************\n",
      "\n",
      " - Collection: LUMINOR-DUE\n",
      "    Cheapest -> Reference: PAM00755, Price: 6100.0 EUR\n",
      "    Most Expensive -> Reference: PAM00741, Price: 21500.0 EUR\n",
      "\n",
      "**************************************************\n",
      "\n"
     ]
    }
   ],
   "source": [
    "country = \"France\"\n",
    "\n",
    "number_unique_ref, number_unique_ref_collection = descriptive_data(data, country = country)\n",
    "overall_stats, collection_stats = analyze_country(data, country = country)\n",
    "\n",
    "print(f\"\\n ** The number of unique references {number_unique_ref}\")\n",
    "print(f\"\\n ** The number of unique references par collection:\\n\")\n",
    "for collection, number in number_unique_ref_collection.items():\n",
    "    print(f\"  - {collection} : {number}\")\n",
    "print(\"\\n\"+\"-\"*80+\"\") \n",
    "# Identify the cheapest and most expensive product in the whole subset\n",
    "print(f\"\\n ** Cheapest and most expensive product in {country}:\\n\")\n",
    "print(f\"  Cheapest -> Collection: {overall_stats['cheapest']['collection']}, Reference: {overall_stats['cheapest']['reference']}, Price: {overall_stats['cheapest']['price']} {(data['currency'][data['country'] == country]).unique()[0]}\")\n",
    "print(f\"  Most Expensive -> Collection: {overall_stats['most_expensive']['collection']}, Reference: {overall_stats['most_expensive']['reference']}, Price: {overall_stats['most_expensive']['price']} {(data['currency'][data['country'] == country]).unique()[0]}\")\n",
    "print(\"\\n\"+\"-\"*80+\"\")\n",
    "# Identify the cheapest and most expensive product per collection\n",
    "print(f\"\\n ** Cheapest and most expensive product in {country} per collection:\\n\")\n",
    "for stat in collection_stats:\n",
    "    print(f\" - Collection: {stat['collection']}\")\n",
    "    print(f\"    Cheapest -> Reference: {stat['cheapest']['reference']}, Price: {stat['cheapest']['price']} {(data['currency'][data['country'] == country]).unique()[0]}\")\n",
    "    print(f\"    Most Expensive -> Reference: {stat['most_expensive']['reference']}, Price: {stat['most_expensive']['price']} {(data['currency'][data['country'] == country]).unique()[0]}\")\n",
    "    print(\"\\n\"+\"*\"*50+\"\\n\")"
   ]
  },
  {
   "cell_type": "code",
   "execution_count": 18,
   "id": "8a4b466f",
   "metadata": {
    "scrolled": false
   },
   "outputs": [
    {
     "data": {
      "image/png": "[encoded data removed]",
      "text/plain": [
       "<Figure size 640x480 with 1 Axes>"
      ]
     },
     "metadata": {},
     "output_type": "display_data"
    }
   ],
   "source": [
    "collection_visualization(data, country)"
   ]
  },
  {
   "cell_type": "markdown",
   "id": "a25da4b3",
   "metadata": {},
   "source": [
    "### UK"
   ]
  },
  {
   "cell_type": "code",
   "execution_count": 19,
   "id": "154d966d",
   "metadata": {},
   "outputs": [
    {
     "name": "stdout",
     "output_type": "stream",
     "text": [
      "\n",
      " ** The number of unique references 155\n",
      "\n",
      " ** The number of unique references par collection:\n",
      "\n",
      "  - RADIOMIR : 18\n",
      "  - LUMINOR : 84\n",
      "  - LUMINOR-DUE : 24\n",
      "  - SUBMERSIBLE : 29\n",
      "\n",
      "--------------------------------------------------------------------------------\n",
      "\n",
      " ** Cheapest and most expensive product in UK:\n",
      "\n",
      "  Cheapest -> Collection: RADIOMIR, Reference: PAM00753, Price: 3800.0 GBP\n",
      "  Most Expensive -> Collection: SUBMERSIBLE, Reference: PAM01108, Price: 169900.0 GBP\n",
      "\n",
      "--------------------------------------------------------------------------------\n",
      "\n",
      " ** Cheapest and most expensive product in UK per collection:\n",
      "\n",
      " - Collection: RADIOMIR\n",
      "    Cheapest -> Reference: PAM00753, Price: 3800.0 GBP\n",
      "    Most Expensive -> Reference: PAM00997, Price: 11500.0 GBP\n",
      "\n",
      "**************************************************\n",
      "\n",
      " - Collection: LUMINOR\n",
      "    Cheapest -> Reference: PAM00774, Price: 4300.0 GBP\n",
      "    Most Expensive -> Reference: PAM01060, Price: 148200.0 GBP\n",
      "\n",
      "**************************************************\n",
      "\n",
      " - Collection: LUMINOR-DUE\n",
      "    Cheapest -> Reference: PAM00755, Price: 5500.0 GBP\n",
      "    Most Expensive -> Reference: PAM00675, Price: 22400.0 GBP\n",
      "\n",
      "**************************************************\n",
      "\n",
      " - Collection: SUBMERSIBLE\n",
      "    Cheapest -> Reference: PAM00973, Price: 7600.0 GBP\n",
      "    Most Expensive -> Reference: PAM01108, Price: 169900.0 GBP\n",
      "\n",
      "**************************************************\n",
      "\n"
     ]
    }
   ],
   "source": [
    "country = \"UK\"\n",
    "\n",
    "number_unique_ref, number_unique_ref_collection = descriptive_data(data, country = country)\n",
    "overall_stats, collection_stats = analyze_country(data, country = country)\n",
    "\n",
    "print(f\"\\n ** The number of unique references {number_unique_ref}\")\n",
    "print(f\"\\n ** The number of unique references par collection:\\n\")\n",
    "for collection, number in number_unique_ref_collection.items():\n",
    "    print(f\"  - {collection} : {number}\")\n",
    "print(\"\\n\"+\"-\"*80+\"\") \n",
    "# Identify the cheapest and most expensive product in the whole subset\n",
    "print(f\"\\n ** Cheapest and most expensive product in {country}:\\n\")\n",
    "print(f\"  Cheapest -> Collection: {overall_stats['cheapest']['collection']}, Reference: {overall_stats['cheapest']['reference']}, Price: {overall_stats['cheapest']['price']} {(data['currency'][data['country'] == country]).unique()[0]}\")\n",
    "print(f\"  Most Expensive -> Collection: {overall_stats['most_expensive']['collection']}, Reference: {overall_stats['most_expensive']['reference']}, Price: {overall_stats['most_expensive']['price']} {(data['currency'][data['country'] == country]).unique()[0]}\")\n",
    "print(\"\\n\"+\"-\"*80+\"\")\n",
    "# Identify the cheapest and most expensive product per collection\n",
    "print(f\"\\n ** Cheapest and most expensive product in {country} per collection:\\n\")\n",
    "for stat in collection_stats:\n",
    "    print(f\" - Collection: {stat['collection']}\")\n",
    "    print(f\"    Cheapest -> Reference: {stat['cheapest']['reference']}, Price: {stat['cheapest']['price']} {(data['currency'][data['country'] == country]).unique()[0]}\")\n",
    "    print(f\"    Most Expensive -> Reference: {stat['most_expensive']['reference']}, Price: {stat['most_expensive']['price']} {(data['currency'][data['country'] == country]).unique()[0]}\")\n",
    "    print(\"\\n\"+\"*\"*50+\"\\n\")"
   ]
  },
  {
   "cell_type": "code",
   "execution_count": 20,
   "id": "01997491",
   "metadata": {
    "scrolled": false
   },
   "outputs": [
    {
     "data": {
      "image/png": "[encoded data removed]",
      "text/plain": [
       "<Figure size 640x480 with 1 Axes>"
      ]
     },
     "metadata": {},
     "output_type": "display_data"
    }
   ],
   "source": [
    "collection_visualization(data, country)"
   ]
  },
  {
   "cell_type": "markdown",
   "id": "afd009a1",
   "metadata": {},
   "source": [
    "### USA"
   ]
  },
  {
   "cell_type": "code",
   "execution_count": 21,
   "id": "a31b8c6b",
   "metadata": {},
   "outputs": [
    {
     "name": "stdout",
     "output_type": "stream",
     "text": [
      "\n",
      " ** The number of unique references 178\n",
      "\n",
      " ** The number of unique references par collection:\n",
      "\n",
      "  - RADIOMIR : 30\n",
      "  - LUMINOR : 94\n",
      "  - LUMINOR-DUE : 25\n",
      "  - SUBMERSIBLE : 29\n",
      "\n",
      "--------------------------------------------------------------------------------\n",
      "\n",
      " ** Cheapest and most expensive product in USA:\n",
      "\n",
      "  Cheapest -> Collection: RADIOMIR, Reference: PAM00753, Price: 5700.0 USD\n",
      "  Most Expensive -> Collection: SUBMERSIBLE, Reference: PAM01108, Price: 247700.0 USD\n",
      "\n",
      "--------------------------------------------------------------------------------\n",
      "\n",
      " ** Cheapest and most expensive product in USA per collection:\n",
      "\n",
      " - Collection: RADIOMIR\n",
      "    Cheapest -> Reference: PAM00753, Price: 5700.0 USD\n",
      "    Most Expensive -> Reference: PAM00515, Price: 27200.0 USD\n",
      "\n",
      "**************************************************\n",
      "\n",
      " - Collection: LUMINOR\n",
      "    Cheapest -> Reference: PAM00773, Price: 6400.0 USD\n",
      "    Most Expensive -> Reference: PAM01060, Price: 217000.0 USD\n",
      "\n",
      "**************************************************\n",
      "\n",
      " - Collection: LUMINOR-DUE\n",
      "    Cheapest -> Reference: PAM00755, Price: 8000.0 USD\n",
      "    Most Expensive -> Reference: PAM00675, Price: 32100.0 USD\n",
      "\n",
      "**************************************************\n",
      "\n",
      " - Collection: SUBMERSIBLE\n",
      "    Cheapest -> Reference: PAM00973, Price: 11300.0 USD\n",
      "    Most Expensive -> Reference: PAM01108, Price: 247700.0 USD\n",
      "\n",
      "**************************************************\n",
      "\n"
     ]
    }
   ],
   "source": [
    "country = \"USA\"\n",
    "\n",
    "number_unique_ref, number_unique_ref_collection = descriptive_data(data, country = country)\n",
    "overall_stats, collection_stats = analyze_country(data, country = country)\n",
    "\n",
    "print(f\"\\n ** The number of unique references {number_unique_ref}\")\n",
    "print(f\"\\n ** The number of unique references par collection:\\n\")\n",
    "for collection, number in number_unique_ref_collection.items():\n",
    "    print(f\"  - {collection} : {number}\")\n",
    "print(\"\\n\"+\"-\"*80+\"\") \n",
    "# Identify the cheapest and most expensive product in the whole subset\n",
    "print(f\"\\n ** Cheapest and most expensive product in {country}:\\n\")\n",
    "print(f\"  Cheapest -> Collection: {overall_stats['cheapest']['collection']}, Reference: {overall_stats['cheapest']['reference']}, Price: {overall_stats['cheapest']['price']} {(data['currency'][data['country'] == country]).unique()[0]}\")\n",
    "print(f\"  Most Expensive -> Collection: {overall_stats['most_expensive']['collection']}, Reference: {overall_stats['most_expensive']['reference']}, Price: {overall_stats['most_expensive']['price']} {(data['currency'][data['country'] == country]).unique()[0]}\")\n",
    "print(\"\\n\"+\"-\"*80+\"\")\n",
    "# Identify the cheapest and most expensive product per collection\n",
    "print(f\"\\n ** Cheapest and most expensive product in {country} per collection:\\n\")\n",
    "for stat in collection_stats:\n",
    "    print(f\" - Collection: {stat['collection']}\")\n",
    "    print(f\"    Cheapest -> Reference: {stat['cheapest']['reference']}, Price: {stat['cheapest']['price']} {(data['currency'][data['country'] == country]).unique()[0]}\")\n",
    "    print(f\"    Most Expensive -> Reference: {stat['most_expensive']['reference']}, Price: {stat['most_expensive']['price']} {(data['currency'][data['country'] == country]).unique()[0]}\")\n",
    "    print(\"\\n\"+\"*\"*50+\"\\n\")"
   ]
  },
  {
   "cell_type": "code",
   "execution_count": 22,
   "id": "9269cf94",
   "metadata": {
    "scrolled": false
   },
   "outputs": [
    {
     "data": {
      "image/png": "[encoded data removed]",
      "text/plain": [
       "<Figure size 640x480 with 1 Axes>"
      ]
     },
     "metadata": {},
     "output_type": "display_data"
    }
   ],
   "source": [
    "collection_visualization(data, country)"
   ]
  },
  {
   "cell_type": "markdown",
   "id": "72321ee3",
   "metadata": {},
   "source": [
    "### Japan"
   ]
  },
  {
   "cell_type": "code",
   "execution_count": 23,
   "id": "8e2d2c9f",
   "metadata": {},
   "outputs": [
    {
     "name": "stdout",
     "output_type": "stream",
     "text": [
      "\n",
      " ** The number of unique references 201\n",
      "\n",
      " ** The number of unique references par collection:\n",
      "\n",
      "  - RADIOMIR : 31\n",
      "  - LUMINOR : 108\n",
      "  - LUMINOR-DUE : 33\n",
      "  - SUBMERSIBLE : 29\n",
      "\n",
      "--------------------------------------------------------------------------------\n",
      "\n",
      " ** Cheapest and most expensive product in Japan:\n",
      "\n",
      "  Cheapest -> Collection: RADIOMIR, Reference: PAM00753, Price: 550000.0 JPY\n",
      "  Most Expensive -> Collection: LUMINOR, Reference: PAM01060, Price: 20712000.0 JPY\n",
      "\n",
      "--------------------------------------------------------------------------------\n",
      "\n",
      " ** Cheapest and most expensive product in Japan per collection:\n",
      "\n",
      " - Collection: RADIOMIR\n",
      "    Cheapest -> Reference: PAM00753, Price: 550000.0 JPY\n",
      "    Most Expensive -> Reference: PAM00515, Price: 2618000.0 JPY\n",
      "\n",
      "**************************************************\n",
      "\n",
      " - Collection: LUMINOR\n",
      "    Cheapest -> Reference: PAM00773, Price: 616000.0 JPY\n",
      "    Most Expensive -> Reference: PAM01060, Price: 20712000.0 JPY\n",
      "\n",
      "**************************************************\n",
      "\n",
      " - Collection: LUMINOR-DUE\n",
      "    Cheapest -> Reference: PAM00755, Price: 748000.0 JPY\n",
      "    Most Expensive -> Reference: PAM00675, Price: 3091000.0 JPY\n",
      "\n",
      "**************************************************\n",
      "\n",
      " - Collection: SUBMERSIBLE\n",
      "    Cheapest -> Reference: PAM00973, Price: 1078000.0 JPY\n",
      "    Most Expensive -> Reference: PAM01225, Price: 7458000.0 JPY\n",
      "\n",
      "**************************************************\n",
      "\n"
     ]
    }
   ],
   "source": [
    "country = \"Japan\"\n",
    "\n",
    "number_unique_ref, number_unique_ref_collection = descriptive_data(data, country = country)\n",
    "overall_stats, collection_stats = analyze_country(data, country = country)\n",
    "\n",
    "print(f\"\\n ** The number of unique references {number_unique_ref}\")\n",
    "print(f\"\\n ** The number of unique references par collection:\\n\")\n",
    "for collection, number in number_unique_ref_collection.items():\n",
    "    print(f\"  - {collection} : {number}\")\n",
    "print(\"\\n\"+\"-\"*80+\"\") \n",
    "# Identify the cheapest and most expensive product in the whole subset\n",
    "print(f\"\\n ** Cheapest and most expensive product in {country}:\\n\")\n",
    "print(f\"  Cheapest -> Collection: {overall_stats['cheapest']['collection']}, Reference: {overall_stats['cheapest']['reference']}, Price: {overall_stats['cheapest']['price']} {(data['currency'][data['country'] == country]).unique()[0]}\")\n",
    "print(f\"  Most Expensive -> Collection: {overall_stats['most_expensive']['collection']}, Reference: {overall_stats['most_expensive']['reference']}, Price: {overall_stats['most_expensive']['price']} {(data['currency'][data['country'] == country]).unique()[0]}\")\n",
    "print(\"\\n\"+\"-\"*80+\"\")\n",
    "# Identify the cheapest and most expensive product per collection\n",
    "print(f\"\\n ** Cheapest and most expensive product in {country} per collection:\\n\")\n",
    "for stat in collection_stats:\n",
    "    print(f\" - Collection: {stat['collection']}\")\n",
    "    print(f\"    Cheapest -> Reference: {stat['cheapest']['reference']}, Price: {stat['cheapest']['price']} {(data['currency'][data['country'] == country]).unique()[0]}\")\n",
    "    print(f\"    Most Expensive -> Reference: {stat['most_expensive']['reference']}, Price: {stat['most_expensive']['price']} {(data['currency'][data['country'] == country]).unique()[0]}\")\n",
    "    print(\"\\n\"+\"*\"*50+\"\\n\")"
   ]
  },
  {
   "cell_type": "code",
   "execution_count": 24,
   "id": "a1a6f123",
   "metadata": {
    "scrolled": false
   },
   "outputs": [
    {
     "data": {
      "image/png": "[encoded data removed]",
      "text/plain": [
       "<Figure size 640x480 with 1 Axes>"
      ]
     },
     "metadata": {},
     "output_type": "display_data"
    }
   ],
   "source": [
    "collection_visualization(data, country)"
   ]
  },
  {
   "cell_type": "markdown",
   "id": "9d7d4673",
   "metadata": {},
   "source": [
    "### 4.3. Select product that are available in 4 countries (under unified price currency “USD”)\n",
    "1. For each product (reference) compare the price of the product with the median price of the product on the 4 country\n",
    "   - **Price Difference** = Watch Price (in USD) – Median Watch Price across the Four Markets (in USD)\n",
    "   - **Difference Rate (%)** = (Price Difference / Median Watch Price across the Four Markets (in USD)) × 10\n",
    "\n",
    "2. Product with the lowest / highest Difference rate\n",
    "3. Countries that encourage gray market activity and the number of opportunities created, and the margin lost to the gray market for each collection compared to the median price"
   ]
  },
  {
   "cell_type": "code",
   "execution_count": 25,
   "id": "2826b0bc",
   "metadata": {},
   "outputs": [],
   "source": [
    "exchange_rates = {\n",
    "    'USD': 1.00,   # 1 USD ≈ 1.00 USD in 2021\n",
    "    'GBP': 1.38,   # 1 GBP ≈ 1.38 USD in 2021\n",
    "    'JPY': 0.0091, # 1 JPY ≈ 0.0091 USD in 2021\n",
    "    'EUR': 1.18    # 1 EUR ≈ 1.18 USD in 2021\n",
    "}\n",
    "\n",
    "data['price_USD'] = data['price'] * data['currency'].map(exchange_rates)"
   ]
  },
  {
   "cell_type": "code",
   "execution_count": 26,
   "id": "a297cd44",
   "metadata": {},
   "outputs": [],
   "source": [
    "data.to_csv(r\"../orchestrator/data/silver/PANERAI_DATA_2021.csv\", index=False)"
   ]
  },
  {
   "cell_type": "code",
   "execution_count": 27,
   "id": "f73d69c1",
   "metadata": {},
   "outputs": [],
   "source": [
    "data_subset = data[[\"collection\", \"reference\", \"price\", \"currency\", \"country\", \"year\", \"price_USD\"]]\n",
    "commun_data = data_subset.groupby('reference').filter(\n",
    "    lambda group: set(data_subset.country.unique()).issubset(set(group['country']))\n",
    ")"
   ]
  },
  {
   "cell_type": "code",
   "execution_count": 28,
   "id": "460423bc",
   "metadata": {
    "scrolled": true
   },
   "outputs": [
    {
     "data": {
      "text/html": [
       "<div>\n",
       "<style scoped>\n",
       "    .dataframe tbody tr th:only-of-type {\n",
       "        vertical-align: middle;\n",
       "    }\n",
       "\n",
       "    .dataframe tbody tr th {\n",
       "        vertical-align: top;\n",
       "    }\n",
       "\n",
       "    .dataframe thead th {\n",
       "        text-align: right;\n",
       "    }\n",
       "</style>\n",
       "<table border=\"1\" class=\"dataframe\">\n",
       "  <thead>\n",
       "    <tr style=\"text-align: right;\">\n",
       "      <th></th>\n",
       "      <th>collection</th>\n",
       "      <th>reference</th>\n",
       "      <th>price</th>\n",
       "      <th>currency</th>\n",
       "      <th>country</th>\n",
       "      <th>year</th>\n",
       "      <th>price_USD</th>\n",
       "    </tr>\n",
       "  </thead>\n",
       "  <tbody>\n",
       "    <tr>\n",
       "      <th>0</th>\n",
       "      <td>RADIOMIR</td>\n",
       "      <td>PAM00655</td>\n",
       "      <td>9700.0</td>\n",
       "      <td>EUR</td>\n",
       "      <td>France</td>\n",
       "      <td>2021</td>\n",
       "      <td>11446.0</td>\n",
       "    </tr>\n",
       "    <tr>\n",
       "      <th>1</th>\n",
       "      <td>RADIOMIR</td>\n",
       "      <td>PAM00628</td>\n",
       "      <td>11600.0</td>\n",
       "      <td>EUR</td>\n",
       "      <td>France</td>\n",
       "      <td>2021</td>\n",
       "      <td>13688.0</td>\n",
       "    </tr>\n",
       "    <tr>\n",
       "      <th>2</th>\n",
       "      <td>RADIOMIR</td>\n",
       "      <td>PAM00657</td>\n",
       "      <td>11400.0</td>\n",
       "      <td>EUR</td>\n",
       "      <td>France</td>\n",
       "      <td>2021</td>\n",
       "      <td>13452.0</td>\n",
       "    </tr>\n",
       "    <tr>\n",
       "      <th>3</th>\n",
       "      <td>LUMINOR</td>\n",
       "      <td>PAM00661</td>\n",
       "      <td>11900.0</td>\n",
       "      <td>EUR</td>\n",
       "      <td>France</td>\n",
       "      <td>2021</td>\n",
       "      <td>14042.0</td>\n",
       "    </tr>\n",
       "    <tr>\n",
       "      <th>4</th>\n",
       "      <td>LUMINOR</td>\n",
       "      <td>PAM01312</td>\n",
       "      <td>7900.0</td>\n",
       "      <td>EUR</td>\n",
       "      <td>France</td>\n",
       "      <td>2021</td>\n",
       "      <td>9322.0</td>\n",
       "    </tr>\n",
       "  </tbody>\n",
       "</table>\n",
       "</div>"
      ],
      "text/plain": [
       "  collection reference    price currency country  year  price_USD\n",
       "0   RADIOMIR  PAM00655   9700.0      EUR  France  2021    11446.0\n",
       "1   RADIOMIR  PAM00628  11600.0      EUR  France  2021    13688.0\n",
       "2   RADIOMIR  PAM00657  11400.0      EUR  France  2021    13452.0\n",
       "3    LUMINOR  PAM00661  11900.0      EUR  France  2021    14042.0\n",
       "4    LUMINOR  PAM01312   7900.0      EUR  France  2021     9322.0"
      ]
     },
     "execution_count": 28,
     "metadata": {},
     "output_type": "execute_result"
    }
   ],
   "source": [
    "commun_data.head()"
   ]
  },
  {
   "cell_type": "code",
   "execution_count": 29,
   "id": "81ebe6d0",
   "metadata": {},
   "outputs": [
    {
     "name": "stdout",
     "output_type": "stream",
     "text": [
      "\n",
      "The number of unique references 142\n",
      "\n",
      "The number of unique references par collection\n",
      "RADIOMIR : 18\n",
      "LUMINOR : 77\n",
      "SUBMERSIBLE : 26\n",
      "LUMINOR-DUE : 21\n"
     ]
    }
   ],
   "source": [
    "number_unique_ref, number_unique_ref_collection = descriptive_data(commun_data)\n",
    "    \n",
    "print(f\"\\nThe number of unique references {number_unique_ref}\")\n",
    "print(f\"\\nThe number of unique references par collection\")\n",
    "for collection, number in number_unique_ref_collection.items():\n",
    "    print(f\"{collection} : {number}\")"
   ]
  },
  {
   "cell_type": "code",
   "execution_count": 30,
   "id": "b0c57f25",
   "metadata": {},
   "outputs": [
    {
     "data": {
      "image/png": "[encoded data removed]",
      "text/plain": [
       "<Figure size 1000x600 with 1 Axes>"
      ]
     },
     "metadata": {},
     "output_type": "display_data"
    }
   ],
   "source": [
    "plot_collection_by_country(commun_data)"
   ]
  },
  {
   "cell_type": "code",
   "execution_count": 31,
   "id": "bb7e6454",
   "metadata": {},
   "outputs": [],
   "source": [
    "# Compute the median price_USD for each reference\n",
    "median_by_reference = commun_data.groupby(\"reference\")[\"price_USD\"].median()"
   ]
  },
  {
   "cell_type": "code",
   "execution_count": 32,
   "id": "3abc4ab4",
   "metadata": {
    "scrolled": false
   },
   "outputs": [
    {
     "data": {
      "text/html": [
       "<div>\n",
       "<style scoped>\n",
       "    .dataframe tbody tr th:only-of-type {\n",
       "        vertical-align: middle;\n",
       "    }\n",
       "\n",
       "    .dataframe tbody tr th {\n",
       "        vertical-align: top;\n",
       "    }\n",
       "\n",
       "    .dataframe thead th {\n",
       "        text-align: right;\n",
       "    }\n",
       "</style>\n",
       "<table border=\"1\" class=\"dataframe\">\n",
       "  <thead>\n",
       "    <tr style=\"text-align: right;\">\n",
       "      <th></th>\n",
       "      <th>collection</th>\n",
       "      <th>reference</th>\n",
       "      <th>price</th>\n",
       "      <th>currency</th>\n",
       "      <th>country</th>\n",
       "      <th>year</th>\n",
       "      <th>price_USD</th>\n",
       "      <th>price_USD_median</th>\n",
       "      <th>Price Difference</th>\n",
       "      <th>Difference Rate (%)</th>\n",
       "    </tr>\n",
       "  </thead>\n",
       "  <tbody>\n",
       "    <tr>\n",
       "      <th>0</th>\n",
       "      <td>LUMINOR</td>\n",
       "      <td>PAM00233</td>\n",
       "      <td>12000.0</td>\n",
       "      <td>EUR</td>\n",
       "      <td>France</td>\n",
       "      <td>2021</td>\n",
       "      <td>14160.0</td>\n",
       "      <td>14463.0</td>\n",
       "      <td>-303.0</td>\n",
       "      <td>-2.095001</td>\n",
       "    </tr>\n",
       "    <tr>\n",
       "      <th>1</th>\n",
       "      <td>LUMINOR</td>\n",
       "      <td>PAM00233</td>\n",
       "      <td>1507000.0</td>\n",
       "      <td>JPY</td>\n",
       "      <td>Japan</td>\n",
       "      <td>2021</td>\n",
       "      <td>13713.7</td>\n",
       "      <td>14463.0</td>\n",
       "      <td>-749.3</td>\n",
       "      <td>-5.180806</td>\n",
       "    </tr>\n",
       "    <tr>\n",
       "      <th>2</th>\n",
       "      <td>LUMINOR</td>\n",
       "      <td>PAM00233</td>\n",
       "      <td>10700.0</td>\n",
       "      <td>GBP</td>\n",
       "      <td>UK</td>\n",
       "      <td>2021</td>\n",
       "      <td>14766.0</td>\n",
       "      <td>14463.0</td>\n",
       "      <td>303.0</td>\n",
       "      <td>2.095001</td>\n",
       "    </tr>\n",
       "    <tr>\n",
       "      <th>3</th>\n",
       "      <td>LUMINOR</td>\n",
       "      <td>PAM00233</td>\n",
       "      <td>15600.0</td>\n",
       "      <td>USD</td>\n",
       "      <td>USA</td>\n",
       "      <td>2021</td>\n",
       "      <td>15600.0</td>\n",
       "      <td>14463.0</td>\n",
       "      <td>1137.0</td>\n",
       "      <td>7.861440</td>\n",
       "    </tr>\n",
       "    <tr>\n",
       "      <th>4</th>\n",
       "      <td>LUMINOR</td>\n",
       "      <td>PAM00422</td>\n",
       "      <td>9800.0</td>\n",
       "      <td>EUR</td>\n",
       "      <td>France</td>\n",
       "      <td>2021</td>\n",
       "      <td>11564.0</td>\n",
       "      <td>11647.0</td>\n",
       "      <td>-83.0</td>\n",
       "      <td>-0.712630</td>\n",
       "    </tr>\n",
       "  </tbody>\n",
       "</table>\n",
       "</div>"
      ],
      "text/plain": [
       "  collection reference      price currency country  year  price_USD  \\\n",
       "0    LUMINOR  PAM00233    12000.0      EUR  France  2021    14160.0   \n",
       "1    LUMINOR  PAM00233  1507000.0      JPY   Japan  2021    13713.7   \n",
       "2    LUMINOR  PAM00233    10700.0      GBP      UK  2021    14766.0   \n",
       "3    LUMINOR  PAM00233    15600.0      USD     USA  2021    15600.0   \n",
       "4    LUMINOR  PAM00422     9800.0      EUR  France  2021    11564.0   \n",
       "\n",
       "   price_USD_median  Price Difference  Difference Rate (%)  \n",
       "0           14463.0            -303.0            -2.095001  \n",
       "1           14463.0            -749.3            -5.180806  \n",
       "2           14463.0             303.0             2.095001  \n",
       "3           14463.0            1137.0             7.861440  \n",
       "4           11647.0             -83.0            -0.712630  "
      ]
     },
     "execution_count": 32,
     "metadata": {},
     "output_type": "execute_result"
    }
   ],
   "source": [
    "# Map the median price back to each row as a new column (optional)\n",
    "commun_data[\"price_USD_median\"] = commun_data[\"reference\"].map(median_by_reference)\n",
    "\n",
    "# Calculate the absolute difference between price_USD and the median\n",
    "commun_data[\"Price Difference\"] = commun_data[\"price_USD\"] - commun_data[\"price_USD_median\"]\n",
    "\n",
    "# Calculate the rate (percentage difference) relative to the median\n",
    "commun_data[\"Difference Rate (%)\"] = (commun_data[\"Price Difference\"] / commun_data[\"price_USD_median\"]) * 100\n",
    "\n",
    "# commun_data.drop(\"price_USD_median\", axis=1, inplace=True)\n",
    "commun_data.sort_values([\"reference\", \"country\"], inplace=True)\n",
    "commun_data.reset_index(drop=True, inplace=True)\n",
    "\n",
    "commun_data.head()"
   ]
  },
  {
   "cell_type": "code",
   "execution_count": 33,
   "id": "347a23da",
   "metadata": {},
   "outputs": [],
   "source": [
    "commun_data.to_csv(r\"../orchestrator/data/gold/Products_available_4countries_with_comparative_metrics_2021.csv\", index=False)"
   ]
  },
  {
   "cell_type": "markdown",
   "id": "c65105f3",
   "metadata": {},
   "source": [
    "#### 4.3.1. Identify Products with Extreme Difference Rates\n",
    "#### Positive direction\n",
    "##### 1. Product with positive Difference rate"
   ]
  },
  {
   "cell_type": "code",
   "execution_count": 34,
   "id": "5d3166bf",
   "metadata": {},
   "outputs": [
    {
     "data": {
      "text/html": [
       "<div>\n",
       "<style scoped>\n",
       "    .dataframe tbody tr th:only-of-type {\n",
       "        vertical-align: middle;\n",
       "    }\n",
       "\n",
       "    .dataframe tbody tr th {\n",
       "        vertical-align: top;\n",
       "    }\n",
       "\n",
       "    .dataframe thead th {\n",
       "        text-align: right;\n",
       "    }\n",
       "</style>\n",
       "<table border=\"1\" class=\"dataframe\">\n",
       "  <thead>\n",
       "    <tr style=\"text-align: right;\">\n",
       "      <th></th>\n",
       "      <th>collection</th>\n",
       "      <th>reference</th>\n",
       "      <th>price</th>\n",
       "      <th>currency</th>\n",
       "      <th>country</th>\n",
       "      <th>year</th>\n",
       "      <th>price_USD</th>\n",
       "      <th>price_USD_median</th>\n",
       "      <th>Price Difference</th>\n",
       "      <th>Difference Rate (%)</th>\n",
       "    </tr>\n",
       "  </thead>\n",
       "  <tbody>\n",
       "    <tr>\n",
       "      <th>0</th>\n",
       "      <td>LUMINOR</td>\n",
       "      <td>PAM00233</td>\n",
       "      <td>10700.0</td>\n",
       "      <td>GBP</td>\n",
       "      <td>UK</td>\n",
       "      <td>2021</td>\n",
       "      <td>14766.0</td>\n",
       "      <td>14463.0</td>\n",
       "      <td>303.0</td>\n",
       "      <td>2.095001</td>\n",
       "    </tr>\n",
       "    <tr>\n",
       "      <th>1</th>\n",
       "      <td>LUMINOR</td>\n",
       "      <td>PAM00233</td>\n",
       "      <td>15600.0</td>\n",
       "      <td>USD</td>\n",
       "      <td>USA</td>\n",
       "      <td>2021</td>\n",
       "      <td>15600.0</td>\n",
       "      <td>14463.0</td>\n",
       "      <td>1137.0</td>\n",
       "      <td>7.861440</td>\n",
       "    </tr>\n",
       "    <tr>\n",
       "      <th>2</th>\n",
       "      <td>LUMINOR</td>\n",
       "      <td>PAM00422</td>\n",
       "      <td>8500.0</td>\n",
       "      <td>GBP</td>\n",
       "      <td>UK</td>\n",
       "      <td>2021</td>\n",
       "      <td>11730.0</td>\n",
       "      <td>11647.0</td>\n",
       "      <td>83.0</td>\n",
       "      <td>0.712630</td>\n",
       "    </tr>\n",
       "    <tr>\n",
       "      <th>3</th>\n",
       "      <td>LUMINOR</td>\n",
       "      <td>PAM00422</td>\n",
       "      <td>12800.0</td>\n",
       "      <td>USD</td>\n",
       "      <td>USA</td>\n",
       "      <td>2021</td>\n",
       "      <td>12800.0</td>\n",
       "      <td>11647.0</td>\n",
       "      <td>1153.0</td>\n",
       "      <td>9.899545</td>\n",
       "    </tr>\n",
       "    <tr>\n",
       "      <th>4</th>\n",
       "      <td>LUMINOR</td>\n",
       "      <td>PAM00423</td>\n",
       "      <td>8650.0</td>\n",
       "      <td>GBP</td>\n",
       "      <td>UK</td>\n",
       "      <td>2021</td>\n",
       "      <td>11937.0</td>\n",
       "      <td>11809.5</td>\n",
       "      <td>127.5</td>\n",
       "      <td>1.079639</td>\n",
       "    </tr>\n",
       "    <tr>\n",
       "      <th>...</th>\n",
       "      <td>...</td>\n",
       "      <td>...</td>\n",
       "      <td>...</td>\n",
       "      <td>...</td>\n",
       "      <td>...</td>\n",
       "      <td>...</td>\n",
       "      <td>...</td>\n",
       "      <td>...</td>\n",
       "      <td>...</td>\n",
       "      <td>...</td>\n",
       "    </tr>\n",
       "    <tr>\n",
       "      <th>279</th>\n",
       "      <td>LUMINOR</td>\n",
       "      <td>PAM01664</td>\n",
       "      <td>17600.0</td>\n",
       "      <td>USD</td>\n",
       "      <td>USA</td>\n",
       "      <td>2021</td>\n",
       "      <td>17600.0</td>\n",
       "      <td>16314.0</td>\n",
       "      <td>1286.0</td>\n",
       "      <td>7.882800</td>\n",
       "    </tr>\n",
       "    <tr>\n",
       "      <th>280</th>\n",
       "      <td>RADIOMIR</td>\n",
       "      <td>PAM02020</td>\n",
       "      <td>5800.0</td>\n",
       "      <td>GBP</td>\n",
       "      <td>UK</td>\n",
       "      <td>2021</td>\n",
       "      <td>8004.0</td>\n",
       "      <td>7837.0</td>\n",
       "      <td>167.0</td>\n",
       "      <td>2.130917</td>\n",
       "    </tr>\n",
       "    <tr>\n",
       "      <th>281</th>\n",
       "      <td>RADIOMIR</td>\n",
       "      <td>PAM02020</td>\n",
       "      <td>8400.0</td>\n",
       "      <td>USD</td>\n",
       "      <td>USA</td>\n",
       "      <td>2021</td>\n",
       "      <td>8400.0</td>\n",
       "      <td>7837.0</td>\n",
       "      <td>563.0</td>\n",
       "      <td>7.183871</td>\n",
       "    </tr>\n",
       "    <tr>\n",
       "      <th>282</th>\n",
       "      <td>LUMINOR</td>\n",
       "      <td>PAM02392</td>\n",
       "      <td>6700.0</td>\n",
       "      <td>GBP</td>\n",
       "      <td>UK</td>\n",
       "      <td>2021</td>\n",
       "      <td>9246.0</td>\n",
       "      <td>9166.0</td>\n",
       "      <td>80.0</td>\n",
       "      <td>0.872791</td>\n",
       "    </tr>\n",
       "    <tr>\n",
       "      <th>283</th>\n",
       "      <td>LUMINOR</td>\n",
       "      <td>PAM02392</td>\n",
       "      <td>10100.0</td>\n",
       "      <td>USD</td>\n",
       "      <td>USA</td>\n",
       "      <td>2021</td>\n",
       "      <td>10100.0</td>\n",
       "      <td>9166.0</td>\n",
       "      <td>934.0</td>\n",
       "      <td>10.189832</td>\n",
       "    </tr>\n",
       "  </tbody>\n",
       "</table>\n",
       "<p>284 rows × 10 columns</p>\n",
       "</div>"
      ],
      "text/plain": [
       "    collection reference    price currency country  year  price_USD  \\\n",
       "0      LUMINOR  PAM00233  10700.0      GBP      UK  2021    14766.0   \n",
       "1      LUMINOR  PAM00233  15600.0      USD     USA  2021    15600.0   \n",
       "2      LUMINOR  PAM00422   8500.0      GBP      UK  2021    11730.0   \n",
       "3      LUMINOR  PAM00422  12800.0      USD     USA  2021    12800.0   \n",
       "4      LUMINOR  PAM00423   8650.0      GBP      UK  2021    11937.0   \n",
       "..         ...       ...      ...      ...     ...   ...        ...   \n",
       "279    LUMINOR  PAM01664  17600.0      USD     USA  2021    17600.0   \n",
       "280   RADIOMIR  PAM02020   5800.0      GBP      UK  2021     8004.0   \n",
       "281   RADIOMIR  PAM02020   8400.0      USD     USA  2021     8400.0   \n",
       "282    LUMINOR  PAM02392   6700.0      GBP      UK  2021     9246.0   \n",
       "283    LUMINOR  PAM02392  10100.0      USD     USA  2021    10100.0   \n",
       "\n",
       "     price_USD_median  Price Difference  Difference Rate (%)  \n",
       "0             14463.0             303.0             2.095001  \n",
       "1             14463.0            1137.0             7.861440  \n",
       "2             11647.0              83.0             0.712630  \n",
       "3             11647.0            1153.0             9.899545  \n",
       "4             11809.5             127.5             1.079639  \n",
       "..                ...               ...                  ...  \n",
       "279           16314.0            1286.0             7.882800  \n",
       "280            7837.0             167.0             2.130917  \n",
       "281            7837.0             563.0             7.183871  \n",
       "282            9166.0              80.0             0.872791  \n",
       "283            9166.0             934.0            10.189832  \n",
       "\n",
       "[284 rows x 10 columns]"
      ]
     },
     "execution_count": 34,
     "metadata": {},
     "output_type": "execute_result"
    }
   ],
   "source": [
    "positive_Difference_Rate = commun_data[commun_data[\"Difference Rate (%)\"] >= 0].reset_index(drop=True)\n",
    "positive_Difference_Rate"
   ]
  },
  {
   "cell_type": "markdown",
   "id": "1b567955",
   "metadata": {},
   "source": [
    "##### 2. Product with the highest Difference rate"
   ]
  },
  {
   "cell_type": "code",
   "execution_count": 35,
   "id": "5c3d8dd0",
   "metadata": {},
   "outputs": [
    {
     "name": "stdout",
     "output_type": "stream",
     "text": [
      "\n",
      "Product with the Highest Difference Rate:\n"
     ]
    },
    {
     "data": {
      "text/html": [
       "<div>\n",
       "<style scoped>\n",
       "    .dataframe tbody tr th:only-of-type {\n",
       "        vertical-align: middle;\n",
       "    }\n",
       "\n",
       "    .dataframe tbody tr th {\n",
       "        vertical-align: top;\n",
       "    }\n",
       "\n",
       "    .dataframe thead th {\n",
       "        text-align: right;\n",
       "    }\n",
       "</style>\n",
       "<table border=\"1\" class=\"dataframe\">\n",
       "  <thead>\n",
       "    <tr style=\"text-align: right;\">\n",
       "      <th></th>\n",
       "      <th>collection</th>\n",
       "      <th>reference</th>\n",
       "      <th>price</th>\n",
       "      <th>currency</th>\n",
       "      <th>country</th>\n",
       "      <th>year</th>\n",
       "      <th>price_USD</th>\n",
       "      <th>price_USD_median</th>\n",
       "      <th>Price Difference</th>\n",
       "      <th>Difference Rate (%)</th>\n",
       "    </tr>\n",
       "  </thead>\n",
       "  <tbody>\n",
       "    <tr>\n",
       "      <th>0</th>\n",
       "      <td>LUMINOR</td>\n",
       "      <td>PAM01438</td>\n",
       "      <td>18900.0</td>\n",
       "      <td>USD</td>\n",
       "      <td>USA</td>\n",
       "      <td>2021</td>\n",
       "      <td>18900.0</td>\n",
       "      <td>16697.0</td>\n",
       "      <td>2203.0</td>\n",
       "      <td>13.193987</td>\n",
       "    </tr>\n",
       "  </tbody>\n",
       "</table>\n",
       "</div>"
      ],
      "text/plain": [
       "  collection reference    price currency country  year  price_USD  \\\n",
       "0    LUMINOR  PAM01438  18900.0      USD     USA  2021    18900.0   \n",
       "\n",
       "   price_USD_median  Price Difference  Difference Rate (%)  \n",
       "0           16697.0            2203.0            13.193987  "
      ]
     },
     "execution_count": 35,
     "metadata": {},
     "output_type": "execute_result"
    }
   ],
   "source": [
    "highest_Difference_Rate = commun_data.nlargest(1, 'Difference Rate (%)').reset_index(drop=True)\n",
    "\n",
    "print(\"\\nProduct with the Highest Difference Rate:\")\n",
    "highest_Difference_Rate"
   ]
  },
  {
   "cell_type": "code",
   "execution_count": 36,
   "id": "83d0fa63",
   "metadata": {},
   "outputs": [],
   "source": [
    "highest_Difference_Rate.to_csv(r\"../orchestrator/data/gold/Product_with_Highest_Difference_Rate_2021.csv\", index=False)"
   ]
  },
  {
   "cell_type": "markdown",
   "id": "f719158c",
   "metadata": {},
   "source": [
    "#### Negative direction\n",
    "##### 1. Product with negative Difference rate"
   ]
  },
  {
   "cell_type": "code",
   "execution_count": 37,
   "id": "57009c8a",
   "metadata": {
    "scrolled": true
   },
   "outputs": [
    {
     "data": {
      "text/html": [
       "<div>\n",
       "<style scoped>\n",
       "    .dataframe tbody tr th:only-of-type {\n",
       "        vertical-align: middle;\n",
       "    }\n",
       "\n",
       "    .dataframe tbody tr th {\n",
       "        vertical-align: top;\n",
       "    }\n",
       "\n",
       "    .dataframe thead th {\n",
       "        text-align: right;\n",
       "    }\n",
       "</style>\n",
       "<table border=\"1\" class=\"dataframe\">\n",
       "  <thead>\n",
       "    <tr style=\"text-align: right;\">\n",
       "      <th></th>\n",
       "      <th>collection</th>\n",
       "      <th>reference</th>\n",
       "      <th>price</th>\n",
       "      <th>currency</th>\n",
       "      <th>country</th>\n",
       "      <th>year</th>\n",
       "      <th>price_USD</th>\n",
       "      <th>price_USD_median</th>\n",
       "      <th>Price Difference</th>\n",
       "      <th>Difference Rate (%)</th>\n",
       "    </tr>\n",
       "  </thead>\n",
       "  <tbody>\n",
       "    <tr>\n",
       "      <th>0</th>\n",
       "      <td>LUMINOR</td>\n",
       "      <td>PAM00233</td>\n",
       "      <td>12000.0</td>\n",
       "      <td>EUR</td>\n",
       "      <td>France</td>\n",
       "      <td>2021</td>\n",
       "      <td>14160.0</td>\n",
       "      <td>14463.0</td>\n",
       "      <td>-303.0</td>\n",
       "      <td>-2.095001</td>\n",
       "    </tr>\n",
       "    <tr>\n",
       "      <th>1</th>\n",
       "      <td>LUMINOR</td>\n",
       "      <td>PAM00233</td>\n",
       "      <td>1507000.0</td>\n",
       "      <td>JPY</td>\n",
       "      <td>Japan</td>\n",
       "      <td>2021</td>\n",
       "      <td>13713.7</td>\n",
       "      <td>14463.0</td>\n",
       "      <td>-749.3</td>\n",
       "      <td>-5.180806</td>\n",
       "    </tr>\n",
       "    <tr>\n",
       "      <th>2</th>\n",
       "      <td>LUMINOR</td>\n",
       "      <td>PAM00422</td>\n",
       "      <td>9800.0</td>\n",
       "      <td>EUR</td>\n",
       "      <td>France</td>\n",
       "      <td>2021</td>\n",
       "      <td>11564.0</td>\n",
       "      <td>11647.0</td>\n",
       "      <td>-83.0</td>\n",
       "      <td>-0.712630</td>\n",
       "    </tr>\n",
       "    <tr>\n",
       "      <th>3</th>\n",
       "      <td>LUMINOR</td>\n",
       "      <td>PAM00422</td>\n",
       "      <td>1221000.0</td>\n",
       "      <td>JPY</td>\n",
       "      <td>Japan</td>\n",
       "      <td>2021</td>\n",
       "      <td>11111.1</td>\n",
       "      <td>11647.0</td>\n",
       "      <td>-535.9</td>\n",
       "      <td>-4.601185</td>\n",
       "    </tr>\n",
       "    <tr>\n",
       "      <th>4</th>\n",
       "      <td>LUMINOR</td>\n",
       "      <td>PAM00423</td>\n",
       "      <td>9900.0</td>\n",
       "      <td>EUR</td>\n",
       "      <td>France</td>\n",
       "      <td>2021</td>\n",
       "      <td>11682.0</td>\n",
       "      <td>11809.5</td>\n",
       "      <td>-127.5</td>\n",
       "      <td>-1.079639</td>\n",
       "    </tr>\n",
       "    <tr>\n",
       "      <th>...</th>\n",
       "      <td>...</td>\n",
       "      <td>...</td>\n",
       "      <td>...</td>\n",
       "      <td>...</td>\n",
       "      <td>...</td>\n",
       "      <td>...</td>\n",
       "      <td>...</td>\n",
       "      <td>...</td>\n",
       "      <td>...</td>\n",
       "      <td>...</td>\n",
       "    </tr>\n",
       "    <tr>\n",
       "      <th>279</th>\n",
       "      <td>LUMINOR</td>\n",
       "      <td>PAM01664</td>\n",
       "      <td>1683000.0</td>\n",
       "      <td>JPY</td>\n",
       "      <td>Japan</td>\n",
       "      <td>2021</td>\n",
       "      <td>15315.3</td>\n",
       "      <td>16314.0</td>\n",
       "      <td>-998.7</td>\n",
       "      <td>-6.121736</td>\n",
       "    </tr>\n",
       "    <tr>\n",
       "      <th>280</th>\n",
       "      <td>RADIOMIR</td>\n",
       "      <td>PAM02020</td>\n",
       "      <td>6500.0</td>\n",
       "      <td>EUR</td>\n",
       "      <td>France</td>\n",
       "      <td>2021</td>\n",
       "      <td>7670.0</td>\n",
       "      <td>7837.0</td>\n",
       "      <td>-167.0</td>\n",
       "      <td>-2.130917</td>\n",
       "    </tr>\n",
       "    <tr>\n",
       "      <th>281</th>\n",
       "      <td>RADIOMIR</td>\n",
       "      <td>PAM02020</td>\n",
       "      <td>792000.0</td>\n",
       "      <td>JPY</td>\n",
       "      <td>Japan</td>\n",
       "      <td>2021</td>\n",
       "      <td>7207.2</td>\n",
       "      <td>7837.0</td>\n",
       "      <td>-629.8</td>\n",
       "      <td>-8.036238</td>\n",
       "    </tr>\n",
       "    <tr>\n",
       "      <th>282</th>\n",
       "      <td>LUMINOR</td>\n",
       "      <td>PAM02392</td>\n",
       "      <td>7700.0</td>\n",
       "      <td>EUR</td>\n",
       "      <td>France</td>\n",
       "      <td>2021</td>\n",
       "      <td>9086.0</td>\n",
       "      <td>9166.0</td>\n",
       "      <td>-80.0</td>\n",
       "      <td>-0.872791</td>\n",
       "    </tr>\n",
       "    <tr>\n",
       "      <th>283</th>\n",
       "      <td>LUMINOR</td>\n",
       "      <td>PAM02392</td>\n",
       "      <td>957000.0</td>\n",
       "      <td>JPY</td>\n",
       "      <td>Japan</td>\n",
       "      <td>2021</td>\n",
       "      <td>8708.7</td>\n",
       "      <td>9166.0</td>\n",
       "      <td>-457.3</td>\n",
       "      <td>-4.989090</td>\n",
       "    </tr>\n",
       "  </tbody>\n",
       "</table>\n",
       "<p>284 rows × 10 columns</p>\n",
       "</div>"
      ],
      "text/plain": [
       "    collection reference      price currency country  year  price_USD  \\\n",
       "0      LUMINOR  PAM00233    12000.0      EUR  France  2021    14160.0   \n",
       "1      LUMINOR  PAM00233  1507000.0      JPY   Japan  2021    13713.7   \n",
       "2      LUMINOR  PAM00422     9800.0      EUR  France  2021    11564.0   \n",
       "3      LUMINOR  PAM00422  1221000.0      JPY   Japan  2021    11111.1   \n",
       "4      LUMINOR  PAM00423     9900.0      EUR  France  2021    11682.0   \n",
       "..         ...       ...        ...      ...     ...   ...        ...   \n",
       "279    LUMINOR  PAM01664  1683000.0      JPY   Japan  2021    15315.3   \n",
       "280   RADIOMIR  PAM02020     6500.0      EUR  France  2021     7670.0   \n",
       "281   RADIOMIR  PAM02020   792000.0      JPY   Japan  2021     7207.2   \n",
       "282    LUMINOR  PAM02392     7700.0      EUR  France  2021     9086.0   \n",
       "283    LUMINOR  PAM02392   957000.0      JPY   Japan  2021     8708.7   \n",
       "\n",
       "     price_USD_median  Price Difference  Difference Rate (%)  \n",
       "0             14463.0            -303.0            -2.095001  \n",
       "1             14463.0            -749.3            -5.180806  \n",
       "2             11647.0             -83.0            -0.712630  \n",
       "3             11647.0            -535.9            -4.601185  \n",
       "4             11809.5            -127.5            -1.079639  \n",
       "..                ...               ...                  ...  \n",
       "279           16314.0            -998.7            -6.121736  \n",
       "280            7837.0            -167.0            -2.130917  \n",
       "281            7837.0            -629.8            -8.036238  \n",
       "282            9166.0             -80.0            -0.872791  \n",
       "283            9166.0            -457.3            -4.989090  \n",
       "\n",
       "[284 rows x 10 columns]"
      ]
     },
     "execution_count": 37,
     "metadata": {},
     "output_type": "execute_result"
    }
   ],
   "source": [
    "negative_Difference_Rate = commun_data[commun_data[\"Difference Rate (%)\"] < 0].reset_index(drop=True)\n",
    "negative_Difference_Rate"
   ]
  },
  {
   "cell_type": "markdown",
   "id": "ae6271d8",
   "metadata": {},
   "source": [
    "##### 2. Product with the lowest Difference rate"
   ]
  },
  {
   "cell_type": "code",
   "execution_count": 38,
   "id": "3ffac65d",
   "metadata": {},
   "outputs": [
    {
     "name": "stdout",
     "output_type": "stream",
     "text": [
      "\n",
      "Product with the Lowest Difference Rate:\n"
     ]
    },
    {
     "data": {
      "text/html": [
       "<div>\n",
       "<style scoped>\n",
       "    .dataframe tbody tr th:only-of-type {\n",
       "        vertical-align: middle;\n",
       "    }\n",
       "\n",
       "    .dataframe tbody tr th {\n",
       "        vertical-align: top;\n",
       "    }\n",
       "\n",
       "    .dataframe thead th {\n",
       "        text-align: right;\n",
       "    }\n",
       "</style>\n",
       "<table border=\"1\" class=\"dataframe\">\n",
       "  <thead>\n",
       "    <tr style=\"text-align: right;\">\n",
       "      <th></th>\n",
       "      <th>collection</th>\n",
       "      <th>reference</th>\n",
       "      <th>price</th>\n",
       "      <th>currency</th>\n",
       "      <th>country</th>\n",
       "      <th>year</th>\n",
       "      <th>price_USD</th>\n",
       "      <th>price_USD_median</th>\n",
       "      <th>Price Difference</th>\n",
       "      <th>Difference Rate (%)</th>\n",
       "    </tr>\n",
       "  </thead>\n",
       "  <tbody>\n",
       "    <tr>\n",
       "      <th>0</th>\n",
       "      <td>LUMINOR</td>\n",
       "      <td>PAM01441</td>\n",
       "      <td>10200.0</td>\n",
       "      <td>GBP</td>\n",
       "      <td>UK</td>\n",
       "      <td>2021</td>\n",
       "      <td>14076.0</td>\n",
       "      <td>15622.65</td>\n",
       "      <td>-1546.65</td>\n",
       "      <td>-9.900049</td>\n",
       "    </tr>\n",
       "  </tbody>\n",
       "</table>\n",
       "</div>"
      ],
      "text/plain": [
       "  collection reference    price currency country  year  price_USD  \\\n",
       "0    LUMINOR  PAM01441  10200.0      GBP      UK  2021    14076.0   \n",
       "\n",
       "   price_USD_median  Price Difference  Difference Rate (%)  \n",
       "0          15622.65          -1546.65            -9.900049  "
      ]
     },
     "execution_count": 38,
     "metadata": {},
     "output_type": "execute_result"
    }
   ],
   "source": [
    "lowest_Difference_Rate = commun_data.nsmallest(1, 'Difference Rate (%)').reset_index(drop=True)\n",
    "\n",
    "print(\"\\nProduct with the Lowest Difference Rate:\")\n",
    "lowest_Difference_Rate"
   ]
  },
  {
   "cell_type": "code",
   "execution_count": 39,
   "id": "c2cc00f8",
   "metadata": {},
   "outputs": [],
   "source": [
    "lowest_Difference_Rate.to_csv(r\"../orchestrator/data/gold/Product_with_Lowest_Difference_Rate_2021.csv\", index=False)"
   ]
  },
  {
   "cell_type": "markdown",
   "id": "eb3c956e",
   "metadata": {},
   "source": [
    "### 4.4. Gray market activity"
   ]
  },
  {
   "cell_type": "code",
   "execution_count": 40,
   "id": "61ebed16",
   "metadata": {},
   "outputs": [
    {
     "name": "stdout",
     "output_type": "stream",
     "text": [
      "Countries that encourage gray market activity and the number of opportunities created\n",
      "Japan : 142\n",
      "France : 138\n",
      "UK : 4\n"
     ]
    }
   ],
   "source": [
    "country_negative_Difference_Rate = negative_Difference_Rate[\"country\"].value_counts()\n",
    "\n",
    "print(\"Countries that encourage gray market activity and the number of opportunities created\")\n",
    "for country, value in zip(country_negative_Difference_Rate.index, country_negative_Difference_Rate.values):\n",
    "    print(f\"{country} : {value}\")"
   ]
  },
  {
   "cell_type": "code",
   "execution_count": 41,
   "id": "947bb834",
   "metadata": {
    "scrolled": true
   },
   "outputs": [
    {
     "name": "stdout",
     "output_type": "stream",
     "text": [
      "The margin lost to the gray market for each collection, relative to the median price\n"
     ]
    },
    {
     "data": {
      "text/plain": [
       "country  collection \n",
       "France   LUMINOR        30273.5\n",
       "         LUMINOR-DUE     4532.0\n",
       "         RADIOMIR        4123.5\n",
       "         SUBMERSIBLE    14731.5\n",
       "Japan    LUMINOR        91875.9\n",
       "         LUMINOR-DUE    15306.5\n",
       "         RADIOMIR       12129.7\n",
       "         SUBMERSIBLE    41901.8\n",
       "UK       LUMINOR         2694.3\n",
       "Name: Price Difference, dtype: float64"
      ]
     },
     "execution_count": 41,
     "metadata": {},
     "output_type": "execute_result"
    }
   ],
   "source": [
    "gray_market_margin_collection = negative_Difference_Rate.groupby([\"country\", \"collection\"])[\"Price Difference\"].sum()*(-1)\n",
    "print(\"The margin lost to the gray market for each collection, relative to the median price\")\n",
    "gray_market_margin_collection"
   ]
  },
  {
   "cell_type": "code",
   "execution_count": 42,
   "id": "d43e882b",
   "metadata": {},
   "outputs": [],
   "source": [
    "gray_market_margin_collection.to_csv(r\"../orchestrator/data/gold/Margin_lost_to_the_gray_market_2021.csv\", index=False)"
   ]
  },
  {
   "cell_type": "code",
   "execution_count": null,
   "id": "a850a716",
   "metadata": {},
   "outputs": [],
   "source": []
  }
 ],
 "metadata": {
  "kernelspec": {
   "display_name": "Python 3 (ipykernel)",
   "language": "python",
   "name": "python3"
  },
  "language_info": {
   "codemirror_mode": {
    "name": "ipython",
    "version": 3
   },
   "file_extension": ".py",
   "mimetype": "text/x-python",
   "name": "python",
   "nbconvert_exporter": "python",
   "pygments_lexer": "ipython3",
   "version": "3.9.13"
  }
 },
 "nbformat": 4,
 "nbformat_minor": 5
}
