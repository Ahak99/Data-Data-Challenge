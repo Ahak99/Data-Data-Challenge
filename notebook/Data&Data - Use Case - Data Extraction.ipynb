{
 "cells": [
  {
   "cell_type": "code",
   "execution_count": 9,
   "id": "ed802a72",
   "metadata": {},
   "outputs": [
    {
     "name": "stdout",
     "output_type": "stream",
     "text": [
      "Collecting webdriver-manager\n",
      "  Downloading webdriver_manager-4.0.2-py2.py3-none-any.whl (27 kB)\n",
      "Requirement already satisfied: packaging in c:\\users\\user_\\anaconda3\\lib\\site-packages (from webdriver-manager) (21.3)\n",
      "Requirement already satisfied: requests in c:\\users\\user_\\anaconda3\\lib\\site-packages (from webdriver-manager) (2.28.1)\n",
      "Collecting python-dotenv\n",
      "  Using cached python_dotenv-1.0.1-py3-none-any.whl (19 kB)\n",
      "Requirement already satisfied: pyparsing!=3.0.5,>=2.0.2 in c:\\users\\user_\\anaconda3\\lib\\site-packages (from packaging->webdriver-manager) (3.0.9)\n",
      "Requirement already satisfied: urllib3<1.27,>=1.21.1 in c:\\users\\user_\\anaconda3\\lib\\site-packages (from requests->webdriver-manager) (1.26.11)\n",
      "Requirement already satisfied: certifi>=2017.4.17 in c:\\users\\user_\\anaconda3\\lib\\site-packages (from requests->webdriver-manager) (2022.9.14)\n",
      "Requirement already satisfied: charset-normalizer<3,>=2 in c:\\users\\user_\\anaconda3\\lib\\site-packages (from requests->webdriver-manager) (2.0.4)\n",
      "Requirement already satisfied: idna<4,>=2.5 in c:\\users\\user_\\anaconda3\\lib\\site-packages (from requests->webdriver-manager) (3.3)\n",
      "Installing collected packages: python-dotenv, webdriver-manager\n",
      "Successfully installed python-dotenv-1.0.1 webdriver-manager-4.0.2\n"
     ]
    }
   ],
   "source": [
    "!pip install selenium\n",
    "!pip install webdriver-manager"
   ]
  },
  {
   "cell_type": "markdown",
   "id": "a991e4e3",
   "metadata": {},
   "source": [
    "## Import necessary modules"
   ]
  },
  {
   "cell_type": "code",
   "execution_count": 2,
   "id": "4f3f6444",
   "metadata": {},
   "outputs": [],
   "source": [
    "from selenium import webdriver\n",
    "from selenium.webdriver.common.by import By\n",
    "from selenium.webdriver.chrome.service import Service\n",
    "from selenium.webdriver.support.ui import WebDriverWait\n",
    "from selenium.webdriver.support import expected_conditions as EC\n",
    "from webdriver_manager.chrome import ChromeDriverManager\n",
    "import json\n",
    "import pandas as pd"
   ]
  },
  {
   "cell_type": "markdown",
   "id": "45182dc5",
   "metadata": {},
   "source": [
    "## Configure Chrome options for headless browsing (without opening a browser window)"
   ]
  },
  {
   "cell_type": "code",
   "execution_count": 3,
   "id": "3765ab81",
   "metadata": {},
   "outputs": [],
   "source": [
    "chrome_options = webdriver.ChromeOptions()\n",
    "chrome_options.add_argument(\"--headless=new\")  # Run in headless mode (no GUI)\n",
    "chrome_options.add_argument(\"--disable-gpu\")   # Disable GPU hardware acceleration\n",
    "chrome_options.add_argument(\"--no-sandbox\")    # Disable the sandbox (required for headless mode)"
   ]
  },
  {
   "cell_type": "code",
   "execution_count": 4,
   "id": "0ad28b57",
   "metadata": {},
   "outputs": [],
   "source": [
    "# Automatically manage ChromeDriver using WebDriverManager\n",
    "service = Service(ChromeDriverManager().install())"
   ]
  },
  {
   "cell_type": "code",
   "execution_count": 5,
   "id": "7f6f7acb",
   "metadata": {},
   "outputs": [],
   "source": [
    "# Initialize the Chrome WebDriver with the specified service and options\n",
    "driver = webdriver.Chrome(service=service, options=chrome_options)"
   ]
  },
  {
   "cell_type": "code",
   "execution_count": 6,
   "id": "d43a9e0e",
   "metadata": {},
   "outputs": [],
   "source": [
    "# Dictionary of countries and their URL paths\n",
    "countries = {\"USA\": \"us/en\", \"France\": \"fr/fr\" , \"UK\": \"gb/en\", \"Japan\":\"jp/ja\"}\n",
    "# A list of collections to scrape, in this case only 'RADIOMIR'\n",
    "collections = ['RADIOMIR', 'LUMINOR', 'SUBMERSIBLE', 'LUMINOR-DUE']"
   ]
  },
  {
   "cell_type": "markdown",
   "id": "be44faf8",
   "metadata": {},
   "source": [
    "## Initialize scraping"
   ]
  },
  {
   "cell_type": "code",
   "execution_count": 9,
   "id": "617c5bfd",
   "metadata": {},
   "outputs": [
    {
     "name": "stdout",
     "output_type": "stream",
     "text": [
      "Scraping: https://www.panerai.com/us/en/collections/watch-collection/radiomir.html\n",
      "Found 46 products for collection: RADIOMIR\n",
      "23\n",
      "Scraping: https://www.panerai.com/us/en/collections/watch-collection/luminor.html\n",
      "Found 108 products for collection: LUMINOR\n",
      "77\n",
      "Scraping: https://www.panerai.com/us/en/collections/watch-collection/submersible.html\n",
      "Found 78 products for collection: SUBMERSIBLE\n",
      "116\n",
      "Scraping: https://www.panerai.com/us/en/collections/watch-collection/luminor-due.html\n",
      "Found 66 products for collection: LUMINOR-DUE\n",
      "149\n",
      "Scraping: https://www.panerai.com/fr/fr/collections/watch-collection/radiomir.html\n",
      "Found 46 products for collection: RADIOMIR\n",
      "23\n",
      "Scraping: https://www.panerai.com/fr/fr/collections/watch-collection/luminor.html\n",
      "Found 108 products for collection: LUMINOR\n",
      "77\n",
      "Scraping: https://www.panerai.com/fr/fr/collections/watch-collection/submersible.html\n",
      "Found 77 products for collection: SUBMERSIBLE\n",
      "116\n",
      "Scraping: https://www.panerai.com/fr/fr/collections/watch-collection/luminor-due.html\n",
      "Found 66 products for collection: LUMINOR-DUE\n",
      "149\n",
      "Scraping: https://www.panerai.com/gb/en/collections/watch-collection/radiomir.html\n",
      "Found 46 products for collection: RADIOMIR\n",
      "23\n",
      "Scraping: https://www.panerai.com/gb/en/collections/watch-collection/luminor.html\n",
      "Found 108 products for collection: LUMINOR\n",
      "77\n",
      "Scraping: https://www.panerai.com/gb/en/collections/watch-collection/submersible.html\n",
      "Found 78 products for collection: SUBMERSIBLE\n",
      "116\n",
      "Scraping: https://www.panerai.com/gb/en/collections/watch-collection/luminor-due.html\n",
      "Found 66 products for collection: LUMINOR-DUE\n",
      "149\n",
      "Scraping: https://www.panerai.com/jp/ja/collections/watch-collection/radiomir.html\n",
      "Found 46 products for collection: RADIOMIR\n",
      "Error processing product: Invalid control character at: line 8 column 44 (char 202)\n",
      "Error extracting image url: Message: \n",
      "Stacktrace:\n",
      "\tGetHandleVerifier [0x01170B43+25139]\n",
      "\t(No symbol) [0x011013F4]\n",
      "\t(No symbol) [0x00FE04E3]\n",
      "\t(No symbol) [0x010283D7]\n",
      "\t(No symbol) [0x0102872B]\n",
      "\t(No symbol) [0x0101DA81]\n",
      "\t(No symbol) [0x0104D014]\n",
      "\t(No symbol) [0x0101D9A4]\n",
      "\t(No symbol) [0x0104D244]\n",
      "\t(No symbol) [0x0106E778]\n",
      "\t(No symbol) [0x0104CDC6]\n",
      "\t(No symbol) [0x0101BDE9]\n",
      "\t(No symbol) [0x0101D124]\n",
      "\tGetHandleVerifier [0x01474373+3185251]\n",
      "\tGetHandleVerifier [0x0149291A+3309578]\n",
      "\tGetHandleVerifier [0x0148CF42+3286578]\n",
      "\tGetHandleVerifier [0x01207AE0+643536]\n",
      "\t(No symbol) [0x0110A20D]\n",
      "\t(No symbol) [0x011070B8]\n",
      "\t(No symbol) [0x01107257]\n",
      "\t(No symbol) [0x010F9E00]\n",
      "\tBaseThreadInitThunk [0x7577FCC9+25]\n",
      "\tRtlGetAppContainerNamedObjectPath [0x774982AE+286]\n",
      "\tRtlGetAppContainerNamedObjectPath [0x7749827E+238]\n",
      "\n",
      "23\n",
      "Scraping: https://www.panerai.com/jp/ja/collections/watch-collection/luminor.html\n",
      "Found 108 products for collection: LUMINOR\n",
      "77\n",
      "Scraping: https://www.panerai.com/jp/ja/collections/watch-collection/submersible.html\n",
      "Found 78 products for collection: SUBMERSIBLE\n",
      "116\n",
      "Scraping: https://www.panerai.com/jp/ja/collections/watch-collection/luminor-due.html\n",
      "Found 66 products for collection: LUMINOR-DUE\n",
      "149\n"
     ]
    }
   ],
   "source": [
    "# Base URL format for constructing collection-specific product pages\n",
    "base_url = \"https://www.panerai.com/{}/collections/watch-collection/{}.html\"\n",
    "\n",
    "# Loop through each country and its corresponding URL path\n",
    "for country, country_url in countries.items():\n",
    "    # List to store product information for the current country\n",
    "    country_products = []\n",
    "    \n",
    "    # Loop through each collection to scrape its products\n",
    "    for collection in collections:        \n",
    "        try:\n",
    "            # Convert the collection name to lowercase and format the URL\n",
    "            collection_lower = collection.lower()\n",
    "            url = base_url.format(country_url, collection_lower)\n",
    "            driver.get(url)  # Open the collection page\n",
    "            print(f\"Scraping: {url}\")\n",
    "\n",
    "            # Wait for the product cards to load (up to 10 seconds)\n",
    "            WebDriverWait(driver, 10).until(\n",
    "                EC.presence_of_element_located((By.CLASS_NAME, \"pan-prod-ref-card-v2\"))\n",
    "            )\n",
    "\n",
    "            # Find all product cards on the page\n",
    "            product_cards = driver.find_elements(By.CLASS_NAME, \"pan-prod-ref-card-v2\")\n",
    "            print(f\"Found {len(product_cards)} products for collection: {collection}\")\n",
    "            \n",
    "            # Loop through the product cards (limit to half of the products)\n",
    "            i = 0\n",
    "            for card in product_cards:\n",
    "                if i >= len(product_cards) / 2:\n",
    "                    break  # Stop after processing half of the products\n",
    "                \n",
    "                try:\n",
    "                    # Extract the product's data from the 'data-tracking-product' attribute\n",
    "                    product_link_element = card.find_element(By.CLASS_NAME, \"pan-prod-ref-link-v2\")\n",
    "                    data_tracking = product_link_element.get_attribute(\"data-tracking-product\")\n",
    "                    data_tracking = json.loads(data_tracking.replace(\"&quot;\", '\"'))  # Parse the JSON\n",
    "\n",
    "                    # Extract relevant product details from the parsed JSON\n",
    "                    product_info = {\n",
    "                        'country': country,\n",
    "                        'name': data_tracking.get('name', 'N/A'),\n",
    "                        'reference': data_tracking.get('reference', 'N/A'),\n",
    "                        'collection': data_tracking.get('collection', 'N/A'),\n",
    "                        'brand': data_tracking.get('brand', 'N/A'),\n",
    "                        'price': data_tracking.get('price', 'N/A'),\n",
    "                        'currency': data_tracking.get('currency', 'N/A'),\n",
    "                        'availability': \"Available\" if data_tracking.get('isAvailable', 'false') == 'true' else \"Out of Stock\",\n",
    "                        'product_url': product_link_element.get_attribute('href')\n",
    "                    }\n",
    "\n",
    "                except Exception as e:\n",
    "                    print(f\"Error processing product: {str(e)}\")\n",
    "                    continue  # Skip to the next product if an error occurs\n",
    "                    \n",
    "                # Extract the main product image URL\n",
    "                try:\n",
    "                    # Wait for the image element to be present in the DOM\n",
    "                    img_element = WebDriverWait(card, 5).until(\n",
    "                        EC.presence_of_element_located((By.CSS_SELECTOR, \".pan-prod-ref-front-image-v2 img\"))                        )\n",
    "\n",
    "                    # Extract the image URL from either `data-src` or `src` attribute\n",
    "                    main_image = img_element.get_attribute(\"data-src\") or img_element.get_attribute(\"src\")\n",
    "\n",
    "                    # If the image URL contains \"transform\", remove the transform part\n",
    "                    if main_image and \"transform\" in main_image:\n",
    "                        main_image = main_image.split(\".transform\")[0]\n",
    "\n",
    "                    # Construct the full image URL\n",
    "                    product_info['image_url'] = \"https://www.panerai.com\" + main_image if main_image else \"N/A\"\n",
    "                except Exception as e:\n",
    "                    print(f\"Error extracting image url: {e}\")\n",
    "                    product_info['image_url'] = \"N/A\"\n",
    "                \n",
    "                i += 1  # Increment the counter for the products processed\n",
    "                country_products.append(product_info)  # Add the product information to the list\n",
    "        \n",
    "        except Exception as e:\n",
    "            print(f\"Error processing {collection}: {str(e)}\")\n",
    "            continue  # Skip to the next collection if an error occurs\n",
    "    \n",
    "        print(len(country_products))\n",
    "        # Convert the collected product data into a pandas DataFrame\n",
    "        df = pd.DataFrame(country_products)\n",
    "\n",
    "        # Save the DataFrame as a CSV file\n",
    "        df.to_csv(f\"extracted_data/bronze/{country}_{collection}_2025.csv\", index=False)"
   ]
  },
  {
   "cell_type": "markdown",
   "id": "d89937b7",
   "metadata": {},
   "source": [
    "## Close the browser once scraping is complete"
   ]
  },
  {
   "cell_type": "code",
   "execution_count": null,
   "id": "34585b9f",
   "metadata": {},
   "outputs": [],
   "source": [
    "driver.quit()"
   ]
  },
  {
   "cell_type": "code",
   "execution_count": null,
   "id": "0134042b",
   "metadata": {},
   "outputs": [],
   "source": []
  }
 ],
 "metadata": {
  "kernelspec": {
   "display_name": "Python 3 (ipykernel)",
   "language": "python",
   "name": "python3"
  },
  "language_info": {
   "codemirror_mode": {
    "name": "ipython",
    "version": 3
   },
   "file_extension": ".py",
   "mimetype": "text/x-python",
   "name": "python",
   "nbconvert_exporter": "python",
   "pygments_lexer": "ipython3",
   "version": "3.9.13"
  }
 },
 "nbformat": 4,
 "nbformat_minor": 5
}
